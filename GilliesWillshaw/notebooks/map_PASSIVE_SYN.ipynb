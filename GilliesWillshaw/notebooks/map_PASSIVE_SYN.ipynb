{
 "cells": [
  {
   "cell_type": "markdown",
   "metadata": {},
   "source": [
    "# Compare responses in full - reduced model\n",
    "\n",
    "Run the protocol PASSIVE_SYN with the full Gillies & Willshaw (2005) STN model, then reduce the model according to our Marasco folding algorithm, then rerun protocol and compare responses\n",
    "\n",
    "The protocol PASSIVE_SYN is as follows:\n",
    "\n",
    "- disable all active conductances (set gbar to zero for all except leak conductance)\n",
    "\n",
    "- choose random synaptic locations in dendritic tree and place simple bi-exponential synapses\n",
    "\n",
    "- each synapse received a single spike, all spikes are separated by a 100 ms pause"
   ]
  },
  {
   "cell_type": "code",
   "execution_count": null,
   "metadata": {},
   "outputs": [],
   "source": [
    "# Enable interactive plots with backend 'notebook'\n",
    "%matplotlib notebook\n",
    "\n",
    "# Enable connecting with ipyton console --existing\n",
    "# %connect_info\n",
    "\n",
    "# print code version (hash of checked out version)\n",
    "!git log -1\n",
    "\n",
    "# print date and time of script execution\n",
    "import datetime\n",
    "print(\"\\nNotebook executed at at {} in following directory:\".format(datetime.datetime.now()))\n",
    "%cd ..\n",
    "%pwd"
   ]
  },
  {
   "cell_type": "markdown",
   "metadata": {},
   "source": [
    "# Original Model\n",
    "\n",
    "## Inspect model\n",
    "\n",
    "- Open NEURON GUI\n",
    "\n",
    "- To display synapses by name use `Tools > Point Processes > Managers > Point Group`\n",
    "\n",
    "- Select `Show all > Exp2Syn`\n",
    "\n",
    "- Hold mouse and swipe over all listed synapses to mark them on cell diagram (blue dot)"
   ]
  },
  {
   "cell_type": "code",
   "execution_count": null,
   "metadata": {},
   "outputs": [],
   "source": [
    "from evalmodel.stn_model_evaluation import *\n",
    "\n",
    "full_model = StnModel.Gillies2005\n",
    "red_model = StnModel.Gillies_FoldMarasco\n",
    "\n",
    "# Make cell model and evaluator\n",
    "evaluator = StnModelEvaluator(full_model, PhysioState.NORMAL)\n",
    "evaluator.build_cell(full_model)\n",
    "\n",
    "# Open GUI\n",
    "# from neuron import gui"
   ]
  },
  {
   "attachments": {
    "fullmodel_ppt_manager.png": {
     "image/png": "[encoded data removed]"
    }
   },
   "cell_type": "markdown",
   "metadata": {},
   "source": [
    "Cell diagram with all synaptic inputs marked:\n",
    "\n",
    "![fullmodel_ppt_manager.png](attachment:fullmodel_ppt_manager.png)"
   ]
  },
  {
   "cell_type": "markdown",
   "metadata": {},
   "source": [
    "## Simulate model"
   ]
  },
  {
   "cell_type": "code",
   "execution_count": null,
   "metadata": {},
   "outputs": [],
   "source": [
    "proto = StimProtocol.PASSIVE_SYN\n",
    "\n",
    "# Run protocol\n",
    "evaluator.setup_run_protocol(proto)\n",
    "evaluator.plot_traces(proto)"
   ]
  },
  {
   "cell_type": "markdown",
   "metadata": {},
   "source": [
    "# Simulate reduced model"
   ]
  },
  {
   "cell_type": "code",
   "execution_count": null,
   "metadata": {},
   "outputs": [],
   "source": [
    "# Model reduction\n",
    "evaluator.build_cell(red_model)\n",
    "evaluator.target_model = red_model\n",
    "\n",
    "# Run Protocol\n",
    "evaluator.setup_run_protocol(proto)\n",
    "evaluator.plot_traces(proto)\n",
    "\n",
    "# Inspect model\n",
    "# from neuron import gui"
   ]
  },
  {
   "cell_type": "code",
   "execution_count": null,
   "metadata": {},
   "outputs": [],
   "source": [
    "from neuron import gui"
   ]
  },
  {
   "cell_type": "code",
   "execution_count": null,
   "metadata": {},
   "outputs": [],
   "source": []
  }
 ],
 "metadata": {
  "kernelspec": {
   "display_name": "Python 2",
   "language": "python",
   "name": "python2"
  },
  "language_info": {
   "codemirror_mode": {
    "name": "ipython",
    "version": 2
   },
   "file_extension": ".py",
   "mimetype": "text/x-python",
   "name": "python",
   "nbconvert_exporter": "python",
   "pygments_lexer": "ipython2",
   "version": "2.7.13"
  }
 },
 "nbformat": 4,
 "nbformat_minor": 2
}
