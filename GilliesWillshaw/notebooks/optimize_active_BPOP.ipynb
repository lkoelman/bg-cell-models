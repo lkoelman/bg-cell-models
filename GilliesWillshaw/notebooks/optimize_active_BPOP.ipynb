{
 "cells": [
  {
   "cell_type": "code",
   "execution_count": null,
   "metadata": {},
   "outputs": [],
   "source": [
    "# Enable interactive plots with backend 'notebook'\n",
    "%matplotlib notebook\n",
    "\n",
    "# Enable connecting with ipython console --existing\n",
    "# %connect_info\n",
    "\n",
    "# print code version (hash of checked out version)\n",
    "!git log -1\n",
    "\n",
    "# print date and time of script execution\n",
    "import datetime\n",
    "print(\"\\nNotebook executed at at {} in following directory:\".format(datetime.datetime.now()))\n",
    "%cd ..\n",
    "%pwd"
   ]
  },
  {
   "cell_type": "markdown",
   "metadata": {},
   "source": [
    "## Imports"
   ]
  },
  {
   "cell_type": "code",
   "execution_count": null,
   "metadata": {},
   "outputs": [],
   "source": [
    "from optimize.bpop_optimize_stn import *\n",
    "\n",
    "from matplotlib import pyplot as plt\n",
    "\n",
    "def plot_responses(responses):\n",
    "    \"\"\" Quick plot function for responses dict\"\"\"\n",
    "    for resp_name, traces in responses.iteritems():\n",
    "        plt.figure()\n",
    "        plt.plot(traces['time'], traces['voltage'])\n",
    "        plt.suptitle(resp_name)\n",
    "\n",
    "    plt.show(block=False)"
   ]
  },
  {
   "cell_type": "markdown",
   "metadata": {},
   "source": [
    "## Parameters & Cell Model"
   ]
  },
  {
   "cell_type": "code",
   "execution_count": null,
   "metadata": {
    "collapsed": true
   },
   "outputs": [],
   "source": [
    "# Make parameters\n",
    "gleak_orig = 7.84112e-05\n",
    "gleak_fit = 12.43169e-5 # fit to match Zin_DC (see praxis_passive.py)\n",
    "\n",
    "dend_gl_param = ephys.parameters.NrnSectionParameter(\n",
    "                    name\t\t= 'gleak_dend_param',\n",
    "                    param_name\t= gleak_name,\n",
    "                    locations\t= [dendritic_region],\n",
    "                    bounds\t\t= [gleak_fit, gleak_fit],\n",
    "                    value\t\t= gleak_fit,\n",
    "                    frozen\t\t= True)\n",
    "\n",
    "cm_orig = 1.0\n",
    "cm_fit = cm_orig * (gleak_fit / gleak_orig) # preserve membrane time constant\n",
    "\n",
    "dend_cm_param = ephys.parameters.NrnSectionParameter(\n",
    "                    name\t\t= 'cm_dend_param',\n",
    "                    param_name\t= 'cm',\n",
    "                    locations\t= [dendritic_region],\n",
    "                    bounds\t\t= [cm_fit, cm_fit],\n",
    "                    value\t\t= cm_fit,\n",
    "                    frozen\t\t= True)\n",
    "\n",
    "# Frozen parameters are passive parameters fit previously in passive model\n",
    "dend_passive_params = [dend_gl_param, dend_cm_param]\n",
    "\n",
    "# Free parameters are active conductances with large impact on response\n",
    "dend_active_params = dend_gbar_params # Free parameters\n",
    "dend_all_params = dend_passive_params + dend_active_params"
   ]
  },
  {
   "cell_type": "markdown",
   "metadata": {},
   "source": [
    "## Features & Objectives\n",
    "\n",
    "### Test Protocol (not required)\n",
    "\n",
    "Run cells in this subsection to test protocols on full model. This is not required as the responses have been saved."
   ]
  },
  {
   "cell_type": "code",
   "execution_count": null,
   "metadata": {
    "collapsed": true
   },
   "outputs": [],
   "source": [
    "# Get dictionary with Feature objects for each protocol\n",
    "nrnsim = ephys.simulators.NrnSimulator(dt=0.025, cvode_active=False)\n",
    "\n",
    "full_model = StnFullModel(name='StnGillies')\n",
    "\n",
    "# Get features used in optimization\n",
    "proto_feats = make_opt_features()"
   ]
  },
  {
   "cell_type": "code",
   "execution_count": null,
   "metadata": {
    "scrolled": false
   },
   "outputs": [],
   "source": [
    "# Run each protocol and get its responses\n",
    "for proto, feats in proto_feats.iteritems():\n",
    "    print(\"Running protocol '{}'\".format(proto))\n",
    "\n",
    "    # Run protocol with full cell model\n",
    "    responses = proto.run(\n",
    "                    cell_model=full_model, \n",
    "                    param_values={},\n",
    "                    sim=nrnsim,\n",
    "                    isolate=False)\n",
    "    \n",
    "    plot_responses(responses)\n",
    "\n",
    "    # Use response to calculate target value for each features\n",
    "    for feat_name, feat_data in feats.iteritems():\n",
    "\n",
    "        # Calculate feature value from full model response\n",
    "        efel_feature, weight = feat_data\n",
    "        target_value = efel_feature.calculate_feature(responses)\n",
    "\n",
    "        # Now we can set the target value\n",
    "        efel_feature.exp_mean = target_value\n",
    "        efel_feature.exp_std = 0.0"
   ]
  },
  {
   "cell_type": "markdown",
   "metadata": {},
   "source": [
    "### Create Features, weights, objective function"
   ]
  },
  {
   "cell_type": "code",
   "execution_count": null,
   "metadata": {},
   "outputs": [],
   "source": [
    "# Get dictionary with Feature objects for each protocol\n",
    "protos_feats = get_features_targets(saved_responses=PROTO_RESPONSES_FILE)"
   ]
  },
  {
   "cell_type": "code",
   "execution_count": null,
   "metadata": {},
   "outputs": [],
   "source": [
    "# Collect characteristic features for all protocols used in evaluation\n",
    "all_opt_features = []\n",
    "all_opt_weights = []\n",
    "for proto, featdict in protos_feats.iteritems():\n",
    "    feats, weights = zip(*featdict.values())\n",
    "    all_opt_features.extend(feats)\n",
    "    all_opt_weights.extend(weights)\n",
    "\n",
    "# Make final objective function based on selected set of features\n",
    "total_objective = ephys.objectives.WeightedSumObjective(\n",
    "            name = 'optimize_all',\n",
    "            features = all_opt_features,\n",
    "            weights = all_opt_weights)"
   ]
  },
  {
   "cell_type": "markdown",
   "metadata": {},
   "source": [
    "## Evaluators & Optimization"
   ]
  },
  {
   "cell_type": "code",
   "execution_count": null,
   "metadata": {},
   "outputs": [],
   "source": [
    "# Create reduced model\n",
    "red_model = StnReducedModel(\n",
    "                name\t\t= 'StnFolded',\n",
    "                fold_method\t= 'marasco',\n",
    "                num_passes\t= 7,\n",
    "                params\t\t= dend_all_params)\n",
    "\n",
    "nrnsim = ephys.simulators.NrnSimulator(dt=0.025, cvode_active=False)\n",
    "\n",
    "# Make evaluator to evaluate model using objective calculator\n",
    "score_calc = ephys.objectivescalculators.ObjectivesCalculator([total_objective])\n",
    "\n",
    "eval_protos = {proto.name: proto for proto in protos_feats.keys()}\n",
    "eval_params = [param.name for param in dend_active_params]\n",
    "\n",
    "cell_evaluator = ephys.evaluators.CellEvaluator(\n",
    "                    cell_model\t\t\t= red_model,\n",
    "                    param_names\t\t\t= eval_params,\n",
    "                    fitness_protocols\t= eval_protos,\n",
    "                    fitness_calculator\t= score_calc,\n",
    "                    sim\t\t\t\t\t= nrnsim)\n",
    "\n",
    "# Make optimization using the model evaluator\n",
    "optimisation = bpop.optimisations.DEAPOptimisation(\n",
    "                    evaluator\t\t= cell_evaluator,\n",
    "                    offspring_size\t= 10)"
   ]
  },
  {
   "cell_type": "code",
   "execution_count": null,
   "metadata": {},
   "outputs": [],
   "source": [
    "# Optimize\n",
    "final_pop, hall_of_fame, logs, hist = optimisation.run(max_ngen=5)"
   ]
  },
  {
   "cell_type": "markdown",
   "metadata": {},
   "source": [
    "## Analyze optimization results"
   ]
  },
  {
   "cell_type": "code",
   "execution_count": null,
   "metadata": {
    "collapsed": true
   },
   "outputs": [],
   "source": []
  }
 ],
 "metadata": {
  "kernelspec": {
   "display_name": "Python 2",
   "language": "python",
   "name": "python2"
  },
  "language_info": {
   "codemirror_mode": {
    "name": "ipython",
    "version": 2
   },
   "file_extension": ".py",
   "mimetype": "text/x-python",
   "name": "python",
   "nbconvert_exporter": "python",
   "pygments_lexer": "ipython2",
   "version": "2.7.13"
  }
 },
 "nbformat": 4,
 "nbformat_minor": 2
}
