{
 "cells": [
  {
   "cell_type": "code",
   "execution_count": null,
   "metadata": {},
   "outputs": [],
   "source": [
    "# Import plotting libraries\n",
    "import matplotlib.pyplot as plt\n",
    "import seaborn as sns\n",
    "sns.set(style=\"white\")\n",
    "import numpy as np\n",
    "import pandas as pd\n",
    "%matplotlib notebook\n",
    "\n",
    "# Bokeh for interactive plots\n",
    "from bokeh.io import push_notebook, output_notebook, show as bokeh_show\n",
    "from bokeh.plotting import figure as bokeh_figure\n",
    "output_notebook()\n",
    "\n",
    "# Import our analysis modules\n",
    "%load_ext autoreload\n",
    "%autoreload 1\n",
    "%aimport optimize.bpop_analysis_stn\n",
    "%aimport optimize.bpop_analysis_pop\n",
    "\n",
    "resp_analysis = optimize.bpop_analysis_stn\n",
    "pop_analysis = optimize.bpop_analysis_pop\n",
    "\n",
    "import pprint\n",
    "pp = pprint.PrettyPrinter(indent=2)"
   ]
  },
  {
   "cell_type": "code",
   "execution_count": null,
   "metadata": {},
   "outputs": [],
   "source": [
    "# 100 individuals, 100 generations IBEA dataset\n",
    "checkpoint_files = [\n",
    "    ['IBEA_100gen',\n",
    "     '/home/luye/cloudstore_m/simdata/marasco_folding/optimization_run_20171103_2/opt_checkpoints_cdf893c2.pkl',\n",
    "     '/home/luye/cloudstore_m/simdata/marasco_folding/optimization_run_20171103_2/opt_checkpoints_cdf893c2_settings.pkl'],\n",
    "    ['NSGA2_100gen',\n",
    "     '/home/luye/cloudstore_m/simdata/marasco_folding/optimization_run_20171103_1/opt_checkpoints_3210b868.pkl',\n",
    "     '/home/luye/cloudstore_m/simdata/marasco_folding/optimization_run_20171103_1/opt_checkpoints_3210b868_settings.pkl']\n",
    "]\n",
    "\n",
    "opt_data = pd.DataFrame(checkpoint_files, columns=['name', 'checkpoints_file', 'settings_file'])"
   ]
  },
  {
   "cell_type": "markdown",
   "metadata": {},
   "source": [
    "## Load data"
   ]
  },
  {
   "cell_type": "code",
   "execution_count": null,
   "metadata": {},
   "outputs": [],
   "source": [
    "# Choose optimisation to analyse\n",
    "# opt_data['checkpoints_file'][0] # address by row index\n",
    "opt_name = 'IBEA_100gen'\n",
    "idx = opt_data.index[opt_data['name'] == opt_name][0] # addres by value in field\n",
    "\n",
    "cp_file = opt_data['checkpoints_file'][idx]\n",
    "settings_file = opt_data['settings_file'][idx]\n",
    "\n",
    "print(\"Analysing data from files:\\n{}\\n{}\".format(cp_file, settings_file))"
   ]
  },
  {
   "cell_type": "code",
   "execution_count": null,
   "metadata": {},
   "outputs": [],
   "source": [
    "import cPickle as pickle\n",
    "%%timeit\n",
    "\n",
    "# Old pickling method\n",
    "# with open(checkpoints_file, 'r') as f:\n",
    "#     checkpoint = pickle.load(f)\n",
    "#     # old_param_names = pickle.load(f)\n",
    "\n",
    "# New pickling method\n",
    "with open(cp_file, \"rb\") as f:\n",
    "    while True:\n",
    "        try:\n",
    "            checkpoint = pickle.load(f)\n",
    "        except EOFError:\n",
    "            break\n",
    "\n",
    "# Get variables\n",
    "hof = checkpoint['halloffame']\n",
    "log = checkpoint['logbook']\n",
    "pareto_front = checkpoint['paretofront']"
   ]
  },
  {
   "cell_type": "code",
   "execution_count": null,
   "metadata": {},
   "outputs": [],
   "source": [
    "with open(settings_file, 'r') as f:\n",
    "    opt_settings = pickle.load(f)\n",
    "    \n",
    "pp.pprint(opt_settings)"
   ]
  },
  {
   "cell_type": "markdown",
   "metadata": {},
   "source": [
    "## Plot optimisation logs"
   ]
  },
  {
   "cell_type": "code",
   "execution_count": null,
   "metadata": {},
   "outputs": [],
   "source": [
    "# Plot evolution of fitness values\n",
    "fig, ax = pop_analysis.plot_log(log, ymax='std')\n",
    "pop_analysis.plot_log(log, ymax='min')"
   ]
  },
  {
   "cell_type": "markdown",
   "metadata": {},
   "source": [
    "# Plot parameter diversity\n",
    "\n",
    "The individual format included in the hall of fame is as follows:\n",
    "\n",
    "```python\n",
    "Individual = {\n",
    "    'fitness': {\n",
    "        'wvalues':         <list(float)> fitness scores,\n",
    "        'sum':             <float> sum of fitness scores,\n",
    "        'new_squared_sum': <float> sum of squared fitness scores}\n",
    "    'obj_size':           int,\n",
    "    'param_size':         int,\n",
    "    'get_param_values()': <list(float)> parameter values,\n",
    "}\n",
    "```"
   ]
  },
  {
   "cell_type": "markdown",
   "metadata": {},
   "source": [
    "## Range of fitness scores\n",
    "\n",
    "IMPORTANT NOTES:\n",
    "- for selection into the hall of fame, the sum of squares of fitness scores (distances) is used\n",
    "- however, during evolutionary selection, the selector of the MOO (IBEA or NSGA2 selector) determines how fitness values are compared"
   ]
  },
  {
   "cell_type": "code",
   "execution_count": null,
   "metadata": {},
   "outputs": [],
   "source": [
    "print(\"\\nSum of squared error for best individuals:\\n\")\n",
    "\n",
    "costs = np.array([-ind.fitness.neg_squared_sum for ind in hof])\n",
    "print(costs.reshape((costs.size/5,-1), order='F'))"
   ]
  },
  {
   "cell_type": "markdown",
   "metadata": {},
   "source": [
    "## Range and variance of parameters\n",
    "\n",
    "Take 50 best individuals, plot total range of their parameters, standard deviation of each parameter."
   ]
  },
  {
   "cell_type": "code",
   "execution_count": null,
   "metadata": {},
   "outputs": [],
   "source": [
    "ind_as_rows = np.array([ind.get_param_values() for ind in hof])\n",
    "print(\"Found {} individuals with {} parameters each\".format(ind_as_rows.shape[0], ind_as_rows.shape[1]))\n",
    "# print(ind_as_cols)\n",
    "\n",
    "param_names = opt_settings['opt_param_names'] # same order as in individuals\n",
    "ind_data = pd.DataFrame(ind_as_rows, columns=param_names)\n",
    "# print ind_data"
   ]
  },
  {
   "cell_type": "code",
   "execution_count": null,
   "metadata": {},
   "outputs": [],
   "source": [
    "ind_cov = np.cov(ind_as_rows.T)\n",
    "param_cov_data = pd.DataFrame(ind_cov, index=param_names, columns=range(ind_cov.shape[1]))\n",
    "\n",
    "pd.set_option('display.precision', 3)\n",
    "print(\"Parameter covariance matrix:\\n\")\n",
    "print(param_cov_data)"
   ]
  },
  {
   "cell_type": "code",
   "execution_count": null,
   "metadata": {},
   "outputs": [],
   "source": [
    "# Plot covariance matrix\n",
    "\n",
    "# Generate a mask for the upper triangle\n",
    "mask = np.zeros_like(param_cov_data, dtype=np.bool)\n",
    "mask[np.triu_indices_from(mask)] = True\n",
    "mask[np.diag_indices_from(mask)] = True\n",
    "\n",
    "# Set up the matplotlib figure\n",
    "f, ax = plt.subplots()\n",
    "\n",
    "# Generate a custom diverging colormap\n",
    "cmap = sns.diverging_palette(220, 10, as_cmap=True)\n",
    "\n",
    "# Draw the heatmap with the mask and correct aspect ratio\n",
    "sns.heatmap(param_cov_data, \n",
    "            mask=None, cmap=cmap, center=0,\n",
    "            square=True, linewidths=.5, cbar_kws={\"shrink\": .5})\n",
    "\n",
    "plt.yticks(rotation=0)\n",
    "plt.title(\"Covariance matrix\")"
   ]
  },
  {
   "cell_type": "code",
   "execution_count": null,
   "metadata": {},
   "outputs": [],
   "source": [
    "# Sorted standard deviations\n",
    "params_std = np.sqrt(np.diag(ind_cov))\n",
    "sorted_index = np.argsort(params_std)[::-1] # high to low\n",
    "sorted_std = params_std[sorted_index]\n",
    "sorted_params = [param_names[i] for i in sorted_index]\n",
    "std_data = pd.DataFrame(sorted_std.T, index=sorted_params, columns=['std'])\n",
    "\n",
    "print(\"Parameters with larges standard deviation:\\n\")\n",
    "print(std_data)"
   ]
  },
  {
   "cell_type": "markdown",
   "metadata": {},
   "source": [
    "# Fitness VS Parameters\n",
    "\n",
    "- TODO: make plots of fitness VS each param value as in https://github.com/BlueBrain/BluePyOpt\n",
    "- TODO: see possible figures in `/home/luye/cloudstore_m/notes/publications_lkmn/SfN_2017/example_figures`\n",
    "- TODO: use bokeh for glyphs\n",
    "    + use 'ray' for param values with colored 'wedge' or 'annular_wedge' for fitness scores,\n",
    "    + XY axis: can use params with largest variance\n",
    "    + XY axis: can use force layout according to cartesian vector distance"
   ]
  },
  {
   "cell_type": "code",
   "execution_count": null,
   "metadata": {},
   "outputs": [],
   "source": [
    "# figure, show = bokeh_figure, bokeh_show\n",
    "from bokeh.models import Circle, Line, MultiLine, HoverTool, TapTool, BoxSelectTool\n",
    "from bokeh.models.graphs import from_networkx, NodesOnly, NodesAndLinkedEdges, EdgesAndLinkedNodes\n",
    "from bokeh.palettes import Spectral4\n",
    "import matplotlib.colors\n",
    "\n",
    "# Plotting graphs with Bokeh tutorials:\n",
    "# - https://bokeh.pydata.org/en/latest/docs/user_guide/graph.html#networkx-integration\n",
    "# - https://github.com/bokeh/bokeh/blob/master/examples/plotting/file/graphs.py\n",
    "\n",
    "num_ind, num_par = ind_data.shape\n",
    "\n",
    "# Generate node positions using force directed algorithm\n",
    "import networkx as nx\n",
    "ind_graph = nx.Graph()\n",
    "for i, ind in enumerate(hof):\n",
    "    ind_graph.add_node(i, fitness=ind.fitness.sum)\n",
    "    \n",
    "# Create individual euclidean distance matrix (forces)\n",
    "ind_dists = np.zeros((num_ind, num_ind))\n",
    "for i in range(num_ind):\n",
    "    for j in range(i):\n",
    "        norm2 = np.sqrt(np.sum(np.square(ind_as_rows[i][:]-ind_as_rows[j][:])))\n",
    "        ind_dists[i][j] = norm2\n",
    "        ind_graph.add_edge(i, j, dist=norm2)\n",
    "\n",
    "# Calculate node positions\n",
    "node_pos = nx.spring_layout(ind_graph, weight='dist', iterations=100) # random initial positins, use 'dist' as forces, 50\n",
    "\n",
    "# Draw graph using Bokeh\n",
    "xscale, yscale = 2.0, 2.0\n",
    "f1 = figure(width=800, height=600, \n",
    "            x_range=(-.6*xscale,.6*xscale), \n",
    "            y_range=(-.6*yscale,.6*yscale))\n",
    "f1.title.text = \"Individuals cartesian distance\"\n",
    "\n",
    "# Add interactivity\n",
    "hover = HoverTool(tooltips=[\n",
    "    (\"index\", \"$index\"),\n",
    "    (\"fitness\", \"@fitness\")] + [(pname, \"@\"+pname) for pname in param_names]\n",
    ")\n",
    "tap = TapTool()\n",
    "f1.add_tools(hover, tap)\n",
    "# TODO: add tooltip with fitness & params data, color nodes by fitness\n",
    "\n",
    "# Make graph renderer\n",
    "graph_renderer = from_networkx(ind_graph, nx.spring_layout, weight='dist', \n",
    "                               iterations=100, scale=xscale, center=(0,0))\n",
    "\n",
    "# Add fitness values to datasource\n",
    "ind_fitness = [ind.fitness.sum for ind in hof]\n",
    "graph_renderer.node_renderer.data_source.add(ind_fitness, 'fitness')\n",
    "\n",
    "# Add color values to datasource\n",
    "cm = plt.get_cmap('coolwarm')\n",
    "fit_scales = np.interp(ind_fitness, [min(ind_fitness), max(ind_fitness)], [0., 1.]) # normalise\n",
    "fit_colors = [matplotlib.colors.rgb2hex(cm(scale)) for scale in fit_scales]\n",
    "graph_renderer.node_renderer.data_source.add(fit_colors, 'fit_color')\n",
    "\n",
    "for i, pname in enumerate(param_names):\n",
    "    graph_renderer.node_renderer.data_source.add(ind_as_rows[:,i], pname)\n",
    "\n",
    "\n",
    "# Control node and edge rendering\n",
    "graph_renderer.node_renderer.glyph = Circle(size=8, fill_color='fit_color')\n",
    "graph_renderer.node_renderer.selection_glyph = Circle(size=5, fill_color=Spectral4[2])\n",
    "graph_renderer.node_renderer.hover_glyph = Circle(size=5, fill_color=Spectral4[1])\n",
    "graph_renderer.edge_renderer.glyph = Line(line_alpha=0.0)\n",
    "# graph_renderer.edge_renderer.glyph = MultiLine(line_color=\"#CCCCCC\", line_alpha=0.8, line_width=5)\n",
    "# graph_renderer.edge_renderer.selection_glyph = MultiLine(line_color=Spectral4[2], line_width=5)\n",
    "# graph_renderer.edge_renderer.hover_glyph = MultiLine(line_color=Spectral4[1], line_width=5)\n",
    "\n",
    "graph_renderer.selection_policy = NodesOnly()\n",
    "graph_renderer.inspection_policy = NodesOnly()\n",
    "# graph_renderer.selection_policy = NodesAndLinkedEdges()\n",
    "# graph_renderer.inspection_policy = EdgesAndLinkedNodes()\n",
    "\n",
    "f1.renderers.append(graph_renderer)\n",
    "\n",
    "\n",
    "# For each parameter, draw all the rays in once call\n",
    "# angles = [360.0/num_par*i for i in range(num_par)]\n",
    "\n",
    "# for j in range(num_par):\n",
    "#     f1.ray(\n",
    "#         x=node_x, y=node_y, \n",
    "#         length=ind_as_rows[:][j], \n",
    "#         angle=angles[j], angle_units=\"deg\", \n",
    "#         color=\"#FB8072\", line_width=2)\n",
    "\n",
    "h1 = show(f1, notebook_handle=True) # handle can be used for figure interaction"
   ]
  },
  {
   "cell_type": "code",
   "execution_count": null,
   "metadata": {},
   "outputs": [],
   "source": [
    "print(hof[0].fitness.sum)"
   ]
  },
  {
   "cell_type": "code",
   "execution_count": null,
   "metadata": {},
   "outputs": [],
   "source": [
    "print(ind_as_rows[:,1])\n",
    "ind_as_rows.shape"
   ]
  },
  {
   "cell_type": "code",
   "execution_count": null,
   "metadata": {},
   "outputs": [],
   "source": []
  }
 ],
 "metadata": {
  "kernelspec": {
   "display_name": "Python 2",
   "language": "python",
   "name": "python2"
  },
  "language_info": {
   "codemirror_mode": {
    "name": "ipython",
    "version": 2
   },
   "file_extension": ".py",
   "mimetype": "text/x-python",
   "name": "python",
   "nbconvert_exporter": "python",
   "pygments_lexer": "ipython2",
   "version": "2.7.13"
  },
  "toc": {
   "nav_menu": {},
   "number_sections": false,
   "sideBar": false,
   "skip_h1_title": false,
   "toc_cell": false,
   "toc_position": {},
   "toc_section_display": "block",
   "toc_window_display": false
  }
 },
 "nbformat": 4,
 "nbformat_minor": 2
}
