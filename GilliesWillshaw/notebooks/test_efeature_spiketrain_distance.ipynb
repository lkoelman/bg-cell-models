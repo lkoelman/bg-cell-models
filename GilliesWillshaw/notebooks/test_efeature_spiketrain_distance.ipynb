{
 "cells": [
  {
   "cell_type": "markdown",
   "metadata": {},
   "source": [
    "# Test spike train distance EFeature\n",
    "\n",
    "Compare spike trains obtained from protocol responses using spike train distance metrics."
   ]
  },
  {
   "cell_type": "code",
   "execution_count": null,
   "metadata": {},
   "outputs": [],
   "source": [
    "# Enable interactive plots with backend 'notebook'\n",
    "%matplotlib notebook\n",
    "\n",
    "# print code version (hash of checked out version)\n",
    "!git log -1\n",
    "\n",
    "# print date and time of script execution\n",
    "import datetime\n",
    "print(\"\\nNotebook executed at at {} in following directory:\".format(datetime.datetime.now()))\n",
    "%cd ..\n",
    "%pwd"
   ]
  },
  {
   "cell_type": "code",
   "execution_count": null,
   "metadata": {},
   "outputs": [],
   "source": [
    "# BluePyOpt\n",
    "import bluepyopt.ephys as ephys\n",
    "\n",
    "# Our custom BluePyOpt modules\n",
    "from optimize.bpop_cellmodels import StnFullModel, StnReducedModel\n",
    "\n",
    "import optimize.bpop_protocols_stn as StnProtocols\n",
    "from optimize.bpop_protocols_stn import BpopProtocolWrapper\n",
    "\n",
    "import optimize.bpop_features_stn as StnFeatures\n",
    "import optimize.bpop_parameters_stn as StnParameters\n",
    "\n",
    "from optimize.bpop_analysis_stn import (\n",
    "    run_proto_responses, plot_proto_responses, \n",
    "    save_proto_responses, load_proto_responses,\n",
    "    plot_responses\n",
    ")\n",
    "\n",
    "# Physiology parameters\n",
    "from evalmodel.cellpopdata import StnModel\n",
    "from evalmodel.proto_common import StimProtocol\n",
    "\n",
    "CLAMP_PLATEAU = StimProtocol.CLAMP_PLATEAU\n",
    "CLAMP_REBOUND = StimProtocol.CLAMP_REBOUND\n",
    "MIN_SYN_BURST = StimProtocol.MIN_SYN_BURST\n",
    "SYN_BACKGROUND_HIGH = StimProtocol.SYN_BACKGROUND_HIGH"
   ]
  },
  {
   "cell_type": "code",
   "execution_count": null,
   "metadata": {},
   "outputs": [],
   "source": [
    "# Adjust verbosity of loggers\n",
    "import logging\n",
    "silent_loggers = ['marasco', 'redops', 'folding', 'bluepyopt.ephys.parameters']\n",
    "verbose_loggers = []\n",
    "for logname in silent_loggers:\n",
    "\tlogger = logging.getLogger(logname)\n",
    "\tif logger: logger.setLevel(logging.WARNING)"
   ]
  },
  {
   "cell_type": "markdown",
   "metadata": {},
   "source": [
    "## Run full model"
   ]
  },
  {
   "cell_type": "code",
   "execution_count": null,
   "metadata": {},
   "outputs": [],
   "source": [
    "# Make protocols\n",
    "model_type = StnModel.Gillies2005\n",
    "\n",
    "opt_stim_protocols = [SYN_BACKGROUND_HIGH]\n",
    "proto_ids_wrappers = {stim_proto: BpopProtocolWrapper.make(stim_proto, model_type) for stim_proto in opt_stim_protocols}\n",
    "\n",
    "# Collect al frozen mechanisms and parameters required for protocols to work\n",
    "proto_mechs, proto_params = BpopProtocolWrapper.all_mechs_params(proto_ids_wrappers.values())\n",
    "\n",
    "# Distinguish between sets of parameters (used, frozen, free/optimised)\n",
    "frozen_params = proto_params\n",
    "free_params = []\n",
    "used_params = frozen_params + free_params\n",
    "\n",
    "# make cell model\n",
    "full_model = StnFullModel(\n",
    "                name\t\t= 'StnGillies',\n",
    "                mechs\t\t= proto_mechs,\n",
    "                params\t\t= used_params)\n",
    "\n",
    "nrnsim = ephys.simulators.NrnSimulator(dt=0.025, cvode_active=False)\n",
    "\n",
    "for proto_id in opt_stim_protocols:\n",
    "    \n",
    "    # Make protocol\n",
    "    proto = proto_ids_wrappers[proto_id]\n",
    "\n",
    "    # Compute protocol responses\n",
    "    responses = proto.ephys_protocol.run(\n",
    "                    cell_model\t\t= full_model, \n",
    "                    param_values\t= {},\n",
    "                    sim\t\t\t\t= nrnsim,\n",
    "                    isolate\t\t\t= True)\n",
    "\n",
    "    # Plot responses\n",
    "    plot_responses(responses)"
   ]
  },
  {
   "cell_type": "markdown",
   "metadata": {},
   "source": [
    "## Features reduced full model"
   ]
  },
  {
   "cell_type": "code",
   "execution_count": null,
   "metadata": {},
   "outputs": [],
   "source": [
    "# # Get protocol responses for full model\n",
    "# PROTO_RESPONSES_FILE = \"/home/luye/cloudstore_m/simdata/fullmodel/STN_Gillies2005_proto_responses.pkl\" # backup is in filename.old.pkl\n",
    "# full_responses = load_proto_responses(PROTO_RESPONSES_FILE)\n",
    "\n",
    "# # Make protocols\n",
    "# model_type = StnModel.Gillies_FoldMarasco\n",
    "# opt_stim_protocols = [SYN_BACKGROUND_HIGH, CLAMP_PLATEAU, CLAMP_REBOUND, MIN_SYN_BURST]\n",
    "# proto_ids_wrappers = {stim_proto: BpopProtocolWrapper.make(stim_proto, model_type) for stim_proto in opt_stim_protocols}\n",
    "# all_proto_wrappers = proto_ids_wrappers.values()\n",
    "\n",
    "# # Make EFEL feature objects\n",
    "# stimprotos_feats = StnFeatures.make_opt_features(all_proto_wrappers) # dict {stim_protocol : (efeature, weight)}\n",
    "\n",
    "# # Calculate target values from full model responses\n",
    "# StnFeatures.calc_feature_targets(stimprotos_feats, full_responses)"
   ]
  },
  {
   "cell_type": "markdown",
   "metadata": {},
   "source": [
    "## Run reduced model"
   ]
  },
  {
   "cell_type": "code",
   "execution_count": null,
   "metadata": {},
   "outputs": [],
   "source": [
    "# Make protocols\n",
    "model_type = StnModel.Gillies_FoldMarasco\n",
    "\n",
    "opt_stim_protocols = [SYN_BACKGROUND_HIGH]\n",
    "proto_ids_wrappers = {stim_proto: BpopProtocolWrapper.make(stim_proto, model_type) for stim_proto in opt_stim_protocols}\n",
    "\n",
    "# Collect al frozen mechanisms and parameters required for protocols to work\n",
    "proto_mechs, proto_params = BpopProtocolWrapper.all_mechs_params(proto_ids_wrappers.values())\n",
    "\n",
    "# Distinguish between sets of parameters (used, frozen, free/optimised)\n",
    "frozen_params = proto_params\n",
    "free_params = []\n",
    "used_params = frozen_params + free_params\n",
    "\n",
    "# Create reduced model and get parameters\n",
    "red_model = StnReducedModel(\n",
    "                name\t\t= 'StnFolded',\n",
    "                fold_method\t= 'marasco',\n",
    "                num_passes\t= 7,\n",
    "                mechs\t\t= proto_mechs,\n",
    "                params\t\t= used_params)\n",
    "\n",
    "default_params = {k : v*1.0 for k,v in StnParameters.default_params.items() if k in [p.name for p in used_params]}\n",
    "\n",
    "nrnsim = ephys.simulators.NrnSimulator(dt=0.025, cvode_active=False)\n",
    "\n",
    "for proto_id in opt_stim_protocols:\n",
    "    \n",
    "    # Get protocol wrapper\n",
    "    proto = proto_ids_wrappers[proto_id]\n",
    "\n",
    "    # Compute protocol responses\n",
    "    responses = proto.ephys_protocol.run(\n",
    "                    cell_model\t\t= red_model, \n",
    "                    param_values\t= {},\n",
    "                    sim\t\t\t\t= nrnsim,\n",
    "                    isolate\t\t\t= True) # allows us to query cell with h.allsec()\n",
    "\n",
    "    # Plot responses\n",
    "    # print(\"Full model responses:\")\n",
    "    # plot_responses(full_responses[proto_id.name])\n",
    "\n",
    "    print(\"Reduced model responses:\")\n",
    "    plot_responses(responses)\n",
    "\n",
    "    # Calculate response scores\n",
    "#     featdict = stimprotos_feats[proto_id]\n",
    "    \n",
    "#     feat_names, feat_data = zip(*featdict.items())\n",
    "#     efeats, weights = zip(*feat_data)\n",
    "\n",
    "#     for efeat in efeats:\n",
    "#         score = efeat.calculate_score(responses)\n",
    "#         print('Score = <{}> for feature {}.{}'.format(score, stim_proto.name, efeat.name))"
   ]
  },
  {
   "cell_type": "code",
   "execution_count": null,
   "metadata": {},
   "outputs": [],
   "source": []
  }
 ],
 "metadata": {
  "kernelspec": {
   "display_name": "Python 2",
   "language": "python",
   "name": "python2"
  },
  "language_info": {
   "codemirror_mode": {
    "name": "ipython",
    "version": 2
   },
   "file_extension": ".py",
   "mimetype": "text/x-python",
   "name": "python",
   "nbconvert_exporter": "python",
   "pygments_lexer": "ipython2",
   "version": "2.7.13"
  },
  "toc": {
   "nav_menu": {},
   "number_sections": false,
   "sideBar": false,
   "skip_h1_title": false,
   "toc_cell": false,
   "toc_position": {},
   "toc_section_display": "block",
   "toc_window_display": false
  }
 },
 "nbformat": 4,
 "nbformat_minor": 2
}
