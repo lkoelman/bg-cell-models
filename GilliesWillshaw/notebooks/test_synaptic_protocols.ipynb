{
 "cells": [
  {
   "cell_type": "markdown",
   "metadata": {},
   "source": [
    "# Synaptic stimulation protocols tests"
   ]
  },
  {
   "cell_type": "code",
   "execution_count": null,
   "metadata": {},
   "outputs": [],
   "source": [
    "# Enable interactive plots with backend 'notebook'\n",
    "# %matplotlib notebook\n",
    "%matplotlib inline\n",
    "\n",
    "# print code version (hash of checked out version)\n",
    "!git log -1 --format=\"%H\"\n",
    "\n",
    "# print date and time of script execution\n",
    "import datetime\n",
    "print(\"\\nNotebook executed at {} in following directory:\".format(datetime.datetime.now()))\n",
    "%cd .."
   ]
  },
  {
   "cell_type": "markdown",
   "metadata": {},
   "source": [
    "## Import optimization module"
   ]
  },
  {
   "cell_type": "code",
   "execution_count": null,
   "metadata": {},
   "outputs": [],
   "source": [
    "# Python standard library\n",
    "import pickle, pprint\n",
    "pp = pprint.PrettyPrinter(indent=2)\n",
    "\n",
    "# Distributed logging\n",
    "from common import logutils\n",
    "\n",
    "# BluePyOpt\n",
    "import bluepyopt.ephys as ephys\n",
    "\n",
    "# Custom BluePyOpt modules\n",
    "from optimize.bpop_cellmodels import StnFullModel, StnReducedModel\n",
    "from optimize.bpop_protocols_stn import BpopProtocolWrapper\n",
    "from optimize.bpop_analysis_stn import (\n",
    "    run_proto_responses, plot_proto_responses, \n",
    "    save_proto_responses, load_proto_responses,\n",
    "    plot_responses\n",
    ")\n",
    "\n",
    "import optimize.bpop_features_stn as features_stn\n",
    "# %load_ext autoreload\n",
    "# %autoreload 1\n",
    "# %aimport optimize.bpop_features_stn as features_stn\n",
    "\n",
    "# Physiology parameters\n",
    "from evalmodel.cellpopdata import StnModel\n",
    "from evalmodel.proto_common import StimProtocol\n",
    "\n",
    "CLAMP_PLATEAU = StimProtocol.CLAMP_PLATEAU\n",
    "CLAMP_REBOUND = StimProtocol.CLAMP_REBOUND\n",
    "MIN_SYN_BURST = StimProtocol.MIN_SYN_BURST\n",
    "SYN_BACKGROUND_HIGH = StimProtocol.SYN_BACKGROUND_HIGH"
   ]
  },
  {
   "cell_type": "code",
   "execution_count": null,
   "metadata": {},
   "outputs": [],
   "source": [
    "# Adjust verbosity of loggers\n",
    "logutils.setLogLevel('quiet', ['marasco', 'folding', 'redops', 'bluepyopt.ephys.parameters'])"
   ]
  },
  {
   "cell_type": "markdown",
   "metadata": {},
   "source": [
    "# Full Model\n",
    "## Create Protocols"
   ]
  },
  {
   "cell_type": "code",
   "execution_count": null,
   "metadata": {},
   "outputs": [],
   "source": [
    "# Protocols to use for optimisation\n",
    "opt_stim_protocols = [SYN_BACKGROUND_HIGH]\n",
    "\n",
    "# Make all protocol data\n",
    "proto_wrappers = [BpopProtocolWrapper.make(p) for p in opt_stim_protocols]\n",
    "ephys_protos = [p.ephys_protocol for p in proto_wrappers]\n",
    "\n",
    "# Collect al frozen mechanisms and parameters required for protocols to work\n",
    "proto_mechs, proto_params = BpopProtocolWrapper.all_mechs_params(proto_wrappers)"
   ]
  },
  {
   "cell_type": "markdown",
   "metadata": {},
   "source": [
    "## Run Protocols"
   ]
  },
  {
   "cell_type": "code",
   "execution_count": null,
   "metadata": {},
   "outputs": [],
   "source": [
    "# Run protocols using full model to get responses\n",
    "full_model = StnFullModel(\n",
    "                name\t\t= 'StnGillies',\n",
    "                mechs\t\t= proto_mechs,\n",
    "                params\t\t= proto_params)\n",
    "\n",
    "nrnsim = ephys.simulators.NrnSimulator(dt=0.025, cvode_active=False)\n",
    "\n",
    "# Simulate protocols\n",
    "full_responses = {}\n",
    "for e_proto in ephys_protos:\n",
    "    \n",
    "    # Make sure recording functions are executes\n",
    "    e_proto.record_contained_traces = True\n",
    "    \n",
    "    full_responses[e_proto.name] = e_proto.run(\n",
    "                                        cell_model\t\t= full_model, \n",
    "                                        param_values\t= {},\n",
    "                                        sim\t\t\t\t= nrnsim,\n",
    "                                        isolate\t\t\t= True)"
   ]
  },
  {
   "cell_type": "code",
   "execution_count": null,
   "metadata": {},
   "outputs": [],
   "source": [
    "# Plot results\n",
    "plot_proto_responses(full_responses)\n",
    "for proto in ephys_protos:\n",
    "    proto.plot_contained_traces()"
   ]
  },
  {
   "cell_type": "markdown",
   "metadata": {},
   "source": [
    "## Calculate Feature Targets"
   ]
  },
  {
   "cell_type": "code",
   "execution_count": null,
   "metadata": {},
   "outputs": [],
   "source": [
    "# Make EFEL feature objects\n",
    "stimprotos_feats = features_stn.make_opt_features(proto_wrappers)\n",
    "\n",
    "# Calculate target values from full model responses\n",
    "features_stn.calc_feature_targets(stimprotos_feats, full_responses)"
   ]
  },
  {
   "cell_type": "markdown",
   "metadata": {},
   "source": [
    "# Reduced Model\n",
    "## Make Protocols"
   ]
  },
  {
   "cell_type": "code",
   "execution_count": null,
   "metadata": {},
   "outputs": [],
   "source": [
    "# Protocols to use for optimisation\n",
    "# same as full model\n",
    "# opt_stim_protocols = [SYN_BACKGROUND_HIGH]\n",
    "\n",
    "# Make all protocol data\n",
    "proto_wrappers = [BpopProtocolWrapper.make(p) for p in opt_stim_protocols]\n",
    "ephys_protos = [p.ephys_protocol for p in proto_wrappers]\n",
    "\n",
    "# Collect al frozen mechanisms and parameters required for protocols to work\n",
    "proto_mechs, proto_params = BpopProtocolWrapper.all_mechs_params(proto_wrappers)"
   ]
  },
  {
   "cell_type": "markdown",
   "metadata": {},
   "source": [
    "## Run Reduced Model"
   ]
  },
  {
   "cell_type": "code",
   "execution_count": null,
   "metadata": {},
   "outputs": [],
   "source": [
    "# Create reduced model and get parameters\n",
    "red_model = StnReducedModel(\n",
    "                name\t\t= 'StnFolded',\n",
    "                fold_method\t= 'marasco',\n",
    "                num_passes\t= 7,\n",
    "                mechs\t\t= proto_mechs,\n",
    "                params\t\t= proto_params)\n",
    "\n",
    "nrnsim = ephys.simulators.NrnSimulator(dt=0.025, cvode_active=False)\n",
    "\n",
    "# Simulate protocols\n",
    "red_responses = {}\n",
    "for e_proto in ephys_protos:\n",
    "    \n",
    "    # Make sure recording functions are executes\n",
    "    e_proto.record_contained_traces = True\n",
    "    \n",
    "    red_responses[e_proto.name] = e_proto.run(\n",
    "                                        cell_model\t\t= red_model, \n",
    "                                        param_values\t= {},\n",
    "                                        sim\t\t\t\t= nrnsim,\n",
    "                                        isolate\t\t\t= True)"
   ]
  },
  {
   "cell_type": "code",
   "execution_count": null,
   "metadata": {},
   "outputs": [],
   "source": [
    "# Plot results\n",
    "plot_proto_responses(red_responses)\n",
    "for proto in ephys_protos:\n",
    "    proto.plot_contained_traces()"
   ]
  },
  {
   "cell_type": "markdown",
   "metadata": {},
   "source": [
    "## Calculate Feature Distances"
   ]
  },
  {
   "cell_type": "code",
   "execution_count": null,
   "metadata": {},
   "outputs": [],
   "source": [
    "# Adjust exp_std in efeature references\n",
    "for stimproto, featdict in stimprotos_feats.iteritems():\n",
    "    for efeat, weight in featdict.values():\n",
    "\n",
    "        # NOTE: score = distance = sum(feat[i] - exp_mean) / N / exp_std  => so exp_std determines weight\n",
    "        score = efeat.calculate_score(red_responses[stimproto.name]) # exp_std is 1.0, so score will be numerator\n",
    "#         efeat.exp_std = score / weight # divide numerator so it has desired weight\n",
    "\n",
    "        print('Calculates {} score: {}'.format(efeat.name, score))"
   ]
  },
  {
   "cell_type": "markdown",
   "metadata": {},
   "source": [
    "## Calculate PSTH"
   ]
  },
  {
   "cell_type": "code",
   "execution_count": null,
   "metadata": {},
   "outputs": [],
   "source": [
    "%load_ext autoreload\n",
    "%autoreload 1\n",
    "%aimport common.analysis\n",
    "import numpy as np\n",
    "import matplotlib.pyplot as plt\n",
    "import efel; efel.reset()\n",
    "\n",
    "resp_dict = red_responses[opt_stim_protocols[0].name]\n",
    "TVresp = resp_dict.items()[0][1]\n",
    "stim_start, stim_end = 300.0, 1800.0\n",
    "\n",
    "efel_trace = {\n",
    "    'T': TVresp['time'],\n",
    "    'V': TVresp['voltage'],\n",
    "    'stim_start': [stim_start],\n",
    "    'stim_end': [stim_end],\n",
    "}\n",
    "\n",
    "# Get spike times using eFEL\n",
    "efel_feat = 'peak_time'\n",
    "feat_vals = efel.getFeatureValues(\n",
    "    [efel_trace],\n",
    "    [efel_feat],\n",
    "    raise_warnings = True\n",
    ")\n",
    "resp_spike_times = feat_vals[0][efel_feat]\n",
    "print(type(resp_spike_times), resp_spike_times)\n",
    "\n",
    "# Compute psth/rates\n",
    "\n",
    "bin_width = 50.0\n",
    "min_spk = 2\n",
    "\n",
    "psth1 = common.analysis.nrn_sum_psth(\n",
    "                [resp_spike_times], \n",
    "                stim_start, stim_end,\n",
    "                binwidth=bin_width).as_numpy()\n",
    "\n",
    "rates1 = common.analysis.nrn_avg_rate_adaptive(\n",
    "                [resp_spike_times], \n",
    "                stim_start, stim_end,\n",
    "                binwidth=bin_width,\n",
    "                minsum=min_spk).as_numpy()\n",
    "\n",
    "print(psth1)\n",
    "print(rates1)\n",
    "print('Exptected num bins = (tstop-tstart)/binwidth + 2 = {}'.format(int((stim_end-stim_start)/bin_width) + 2))\n",
    "print('Got num bins: {}'.format(psth.size))\n",
    "\n",
    "\n",
    "psth2 = common.analysis.numpy_sum_psth(\n",
    "                [resp_spike_times], \n",
    "                stim_start, stim_end,\n",
    "                binwidth=bin_width)\n",
    "\n",
    "rates2 = common.analysis.numpy_avg_rate_simple(\n",
    "                [resp_spike_times], \n",
    "                stim_start, stim_end,\n",
    "                bin_width)\n",
    "\n",
    "print(psth2)\n",
    "print(rates2)"
   ]
  },
  {
   "cell_type": "code",
   "execution_count": null,
   "metadata": {},
   "outputs": [],
   "source": [
    "# Plot psth/rates\n",
    "plt.figure()\n",
    "plt.plot(stim_start + np.arange(0, psth.size)*(bin_width/2), psth)\n",
    "\n",
    "plt.figure()\n",
    "plt.plot(stim_start + np.arange(0, rates.size)*(bin_width/2), rates)"
   ]
  },
  {
   "cell_type": "code",
   "execution_count": null,
   "metadata": {},
   "outputs": [],
   "source": []
  }
 ],
 "metadata": {
  "kernelspec": {
   "display_name": "Python 2",
   "language": "python",
   "name": "python2"
  },
  "language_info": {
   "codemirror_mode": {
    "name": "ipython",
    "version": 2
   },
   "file_extension": ".py",
   "mimetype": "text/x-python",
   "name": "python",
   "nbconvert_exporter": "python",
   "pygments_lexer": "ipython2",
   "version": "2.7.13"
  },
  "toc": {
   "nav_menu": {},
   "number_sections": false,
   "sideBar": true,
   "skip_h1_title": false,
   "toc_cell": false,
   "toc_position": {
    "height": "886px",
    "left": "0px",
    "right": "1420px",
    "top": "67px",
    "width": "260px"
   },
   "toc_section_display": "block",
   "toc_window_display": true
  }
 },
 "nbformat": 4,
 "nbformat_minor": 2
}
