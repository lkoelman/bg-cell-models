{
 "cells": [
  {
   "cell_type": "markdown",
   "metadata": {},
   "source": [
    "# Synaptic stimulation protocols tests"
   ]
  },
  {
   "cell_type": "code",
   "execution_count": null,
   "metadata": {},
   "outputs": [],
   "source": [
    "# Enable interactive plots with backend 'notebook'\n",
    "%matplotlib notebook\n",
    "\n",
    "# print code version (hash of checked out version)\n",
    "!git log -1 --format=\"%H\"\n",
    "\n",
    "# print date and time of script execution\n",
    "import datetime\n",
    "print(\"\\nNotebook executed at {} in following directory:\".format(datetime.datetime.now()))\n",
    "%cd ..\n",
    "%pwd\n",
    "# %connect_info"
   ]
  },
  {
   "cell_type": "markdown",
   "metadata": {},
   "source": [
    "## Import optimization module"
   ]
  },
  {
   "cell_type": "code",
   "execution_count": null,
   "metadata": {},
   "outputs": [],
   "source": [
    "# Python standard library\n",
    "import pickle, pprint\n",
    "pp = pprint.PrettyPrinter(indent=2)\n",
    "\n",
    "# Distributed logging\n",
    "from common import logutils\n",
    "logutils.install_mp_handler()\n",
    "\n",
    "# BluePyOpt\n",
    "import bluepyopt.ephys as ephys\n",
    "\n",
    "# Custom BluePyOpt modules\n",
    "from optimize.bpop_cellmodels import StnFullModel, StnReducedModel\n",
    "\n",
    "import optimize.bpop_protocols_stn as StnProtocols\n",
    "from optimize.bpop_protocols_stn import BpopProtocolWrapper\n",
    "\n",
    "import optimize.bpop_features_stn as StnFeatures\n",
    "import optimize.bpop_parameters_stn as StnParameters\n",
    "\n",
    "from optimize.bpop_analysis_stn import (\n",
    "    run_proto_responses, plot_proto_responses, \n",
    "    save_proto_responses, load_proto_responses,\n",
    "    plot_responses\n",
    ")\n",
    "\n",
    "# Physiology parameters\n",
    "from evalmodel.cellpopdata import StnModel\n",
    "from evalmodel.proto_common import StimProtocol\n",
    "\n",
    "CLAMP_PLATEAU = StimProtocol.CLAMP_PLATEAU\n",
    "CLAMP_REBOUND = StimProtocol.CLAMP_REBOUND\n",
    "MIN_SYN_BURST = StimProtocol.MIN_SYN_BURST\n",
    "SYN_BACKGROUND_HIGH = StimProtocol.SYN_BACKGROUND_HIGH"
   ]
  },
  {
   "cell_type": "code",
   "execution_count": null,
   "metadata": {},
   "outputs": [],
   "source": [
    "# Adjust verbosity of loggers\n",
    "logutils.setLogLevel('quiet', ['marasco', 'folding', 'redops', 'bluepyopt.ephys.parameters'])"
   ]
  },
  {
   "cell_type": "markdown",
   "metadata": {},
   "source": [
    "# Full Model\n",
    "## Create Protocols"
   ]
  },
  {
   "cell_type": "code",
   "execution_count": null,
   "metadata": {},
   "outputs": [],
   "source": [
    "# Protocols to use for optimisation\n",
    "opt_stim_protocols = [SYN_BACKGROUND_HIGH]\n",
    "\n",
    "# Make all protocol data\n",
    "proto_wrappers = [BpopProtocolWrapper.make(p) for p in opt_stim_protocols]\n",
    "ephys_protos = [p.ephys_protocol for p in proto_wrappers]\n",
    "\n",
    "# Collect al frozen mechanisms and parameters required for protocols to work\n",
    "proto_mechs, proto_params = BpopProtocolWrapper.all_mechs_params(proto_wrappers)"
   ]
  },
  {
   "cell_type": "markdown",
   "metadata": {},
   "source": [
    "## Run Protocols"
   ]
  },
  {
   "cell_type": "code",
   "execution_count": null,
   "metadata": {},
   "outputs": [],
   "source": [
    "# Run protocols using full model to get responses\n",
    "full_model = StnFullModel(\n",
    "                name\t\t= 'StnGillies',\n",
    "                mechs\t\t= proto_mechs,\n",
    "                params\t\t= proto_params)\n",
    "\n",
    "nrnsim = ephys.simulators.NrnSimulator(dt=0.025, cvode_active=False)\n",
    "\n",
    "# Simulate protocols\n",
    "full_responses = {}\n",
    "for e_proto in ephys_protos:\n",
    "    full_responses[e_proto.name] = e_proto.run(\n",
    "                                        cell_model\t\t= full_model, \n",
    "                                        param_values\t= {},\n",
    "                                        sim\t\t\t\t= nrnsim,\n",
    "                                        isolate\t\t\t= True)\n",
    "\n",
    "# Plot results\n",
    "plot_proto_responses(full_responses)"
   ]
  },
  {
   "cell_type": "markdown",
   "metadata": {},
   "source": [
    "## Make Features & Targets"
   ]
  },
  {
   "cell_type": "code",
   "execution_count": null,
   "metadata": {},
   "outputs": [],
   "source": [
    "# # Make EFEL feature objects\n",
    "# proto_ids_feats = StnFeatures.make_opt_features(proto_wrappers)\n",
    "\n",
    "# # Calculate target values from full model responses\n",
    "# StnFeatures.calc_feature_targets(proto_ids_feats, full_responses)"
   ]
  },
  {
   "cell_type": "markdown",
   "metadata": {},
   "source": [
    "# Reduced Model\n",
    "## Make Protocols"
   ]
  },
  {
   "cell_type": "code",
   "execution_count": null,
   "metadata": {},
   "outputs": [],
   "source": [
    "# Protocols to use for optimisation\n",
    "opt_stim_protocols = [SYN_BACKGROUND_HIGH]\n",
    "\n",
    "# Make all protocol data\n",
    "proto_wrappers = [BpopProtocolWrapper.make(p) for p in opt_stim_protocols]\n",
    "ephys_protos = [p.ephys_protocol for p in proto_wrappers]\n",
    "\n",
    "# Collect al frozen mechanisms and parameters required for protocols to work\n",
    "proto_mechs, proto_params = BpopProtocolWrapper.all_mechs_params(proto_wrappers)"
   ]
  },
  {
   "cell_type": "markdown",
   "metadata": {},
   "source": [
    "## Run Reduced Model"
   ]
  },
  {
   "cell_type": "code",
   "execution_count": null,
   "metadata": {},
   "outputs": [],
   "source": [
    "# Create reduced model and get parameters\n",
    "red_model = StnReducedModel(\n",
    "                name\t\t= 'StnFolded',\n",
    "                fold_method\t= 'marasco',\n",
    "                num_passes\t= 7,\n",
    "                mechs\t\t= proto_mechs,\n",
    "                params\t\t= proto_params)\n",
    "\n",
    "nrnsim = ephys.simulators.NrnSimulator(dt=0.025, cvode_active=False)\n",
    "\n",
    "# Simulate protocols\n",
    "red_responses = {\n",
    "    proto.name : proto.run(\n",
    "                    cell_model\t\t= red_model, \n",
    "                    param_values\t= {},\n",
    "                    sim\t\t\t\t= nrnsim,\n",
    "                    isolate\t\t\t= True)\n",
    "    for proto in ephys_protos\n",
    "}\n",
    "\n",
    "# Plot results\n",
    "plot_proto_responses(red_responses)"
   ]
  },
  {
   "cell_type": "code",
   "execution_count": null,
   "metadata": {},
   "outputs": [],
   "source": []
  }
 ],
 "metadata": {
  "kernelspec": {
   "display_name": "Python 2",
   "language": "python",
   "name": "python2"
  },
  "language_info": {
   "codemirror_mode": {
    "name": "ipython",
    "version": 2
   },
   "file_extension": ".py",
   "mimetype": "text/x-python",
   "name": "python",
   "nbconvert_exporter": "python",
   "pygments_lexer": "ipython2",
   "version": "2.7.13"
  }
 },
 "nbformat": 4,
 "nbformat_minor": 2
}
