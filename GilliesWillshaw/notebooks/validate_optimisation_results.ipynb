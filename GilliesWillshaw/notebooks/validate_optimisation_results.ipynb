{
 "cells": [
  {
   "cell_type": "markdown",
   "metadata": {},
   "source": [
    "# Initialise"
   ]
  },
  {
   "cell_type": "code",
   "execution_count": null,
   "metadata": {},
   "outputs": [],
   "source": [
    "# print date and time of script execution\n",
    "import datetime\n",
    "print(\"\\nNotebook executed at at {} in following directory:\".format(datetime.datetime.now()))\n",
    "%cd /home/luye/workspace/bgcellmodels/GilliesWillshaw/\n",
    "\n",
    "# print code version (hash of checked out version)\n",
    "print(\"\\nCode version info:\")\n",
    "!git log -1 # --format=\"%H\""
   ]
  },
  {
   "cell_type": "code",
   "execution_count": null,
   "metadata": {},
   "outputs": [],
   "source": [
    "# Import plotting libraries\n",
    "import matplotlib.pyplot as plt\n",
    "import seaborn as sns\n",
    "sns.set(style=\"white\")\n",
    "import numpy as np\n",
    "import pandas as pd\n",
    "%matplotlib notebook\n",
    "\n",
    "# Bokeh for interactive plots\n",
    "from bokeh.io import push_notebook, output_notebook, show as bokeh_show\n",
    "from bokeh.plotting import figure as bokeh_figure\n",
    "output_notebook()\n",
    "\n",
    "# Import our analysis modules\n",
    "%load_ext autoreload\n",
    "%autoreload 1\n",
    "%aimport optimize.bpop_analysis_stn\n",
    "%aimport optimize.bpop_analysis_pop\n",
    "\n",
    "resp_analysis = optimize.bpop_analysis_stn\n",
    "pop_analysis = optimize.bpop_analysis_pop\n",
    "\n",
    "import pprint\n",
    "pp = pprint.PrettyPrinter(indent=2)"
   ]
  },
  {
   "cell_type": "markdown",
   "metadata": {},
   "source": [
    "## Load data"
   ]
  },
  {
   "cell_type": "code",
   "execution_count": null,
   "metadata": {},
   "outputs": [],
   "source": [
    "# 100 individuals, 100 generations IBEA dataset\n",
    "checkpoint_files = [\n",
    "    ['IBEA_100gen',\n",
    "     '/home/luye/cloudstore_m/simdata/marasco_folding/optimization_run_20171103_2/opt_checkpoints_cdf893c2.pkl',\n",
    "     '/home/luye/cloudstore_m/simdata/marasco_folding/optimization_run_20171103_2/opt_checkpoints_cdf893c2_settings.pkl'],\n",
    "    ['NSGA2_100gen',\n",
    "     '/home/luye/cloudstore_m/simdata/marasco_folding/optimization_run_20171103_1/opt_checkpoints_3210b868.pkl',\n",
    "     '/home/luye/cloudstore_m/simdata/marasco_folding/optimization_run_20171103_1/opt_checkpoints_3210b868_settings.pkl']\n",
    "]\n",
    "\n",
    "opt_data = pd.DataFrame(checkpoint_files, columns=['name', 'checkpoints_file', 'settings_file'])"
   ]
  },
  {
   "cell_type": "code",
   "execution_count": null,
   "metadata": {},
   "outputs": [],
   "source": [
    "# Choose optimisation to analyse\n",
    "# opt_data['checkpoints_file'][0] # address by row index\n",
    "opt_name = 'IBEA_100gen'\n",
    "idx = opt_data.index[opt_data['name'] == opt_name][0] # addres by value in field\n",
    "\n",
    "cp_file = opt_data['checkpoints_file'][idx]\n",
    "settings_file = opt_data['settings_file'][idx]\n",
    "\n",
    "print(\"Analysing data from files:\\n{}\\n{}\".format(cp_file, settings_file))"
   ]
  },
  {
   "cell_type": "code",
   "execution_count": null,
   "metadata": {},
   "outputs": [],
   "source": [
    "# Load logs file\n",
    "import cPickle as pickle\n",
    "\n",
    "# Old pickling method\n",
    "# with open(checkpoints_file, 'r') as f:\n",
    "#     checkpoint = pickle.load(f)\n",
    "#     # old_param_names = pickle.load(f)\n",
    "\n",
    "# New pickling method\n",
    "with open(cp_file, \"rb\") as f:\n",
    "    while True:\n",
    "        try:\n",
    "            checkpoint = pickle.load(f)\n",
    "        except EOFError:\n",
    "            break\n",
    "\n",
    "# Get variables\n",
    "hof = checkpoint['halloffame']\n",
    "log = checkpoint['logbook']\n",
    "pareto_front = checkpoint['paretofront']"
   ]
  },
  {
   "cell_type": "code",
   "execution_count": null,
   "metadata": {},
   "outputs": [],
   "source": [
    "# Load settings file\n",
    "with open(settings_file, 'r') as f:\n",
    "    opt_settings = pickle.load(f)\n",
    "    \n",
    "pp.pprint(opt_settings)"
   ]
  },
  {
   "cell_type": "markdown",
   "metadata": {},
   "source": [
    "# Validation protocol responses\n",
    "\n",
    "- make a random validation protocol\n",
    "- set up models and params like in opt notebook\n",
    "- plot all responses like in l5pc_analysis.py\n",
    "- calculate scores\n",
    "- select based on scores\n",
    "    + write to pickle file: selected params so we can instantiate and run bagged opt"
   ]
  },
  {
   "cell_type": "code",
   "execution_count": null,
   "metadata": {},
   "outputs": [],
   "source": [
    "# Distributed logging\n",
    "from common import logutils\n",
    "\n",
    "# BluePyOpt\n",
    "import bluepyopt.ephys as ephys\n",
    "\n",
    "# Custom BluePyOpt modules\n",
    "from optimize.bpop_cellmodels import StnFullModel, StnReducedModel\n",
    "from optimize.bpop_protocols_stn import BpopProtocolWrapper\n",
    "import optimize.bpop_analysis_stn as resp_analysis\n",
    "import optimize.bpop_features_stn as features_stn\n",
    "\n",
    "# Physiology parameters\n",
    "from evalmodel.cellpopdata import StnModel\n",
    "from evalmodel.proto_common import StimProtocol\n",
    "\n",
    "CLAMP_PLATEAU = StimProtocol.CLAMP_PLATEAU\n",
    "CLAMP_REBOUND = StimProtocol.CLAMP_REBOUND\n",
    "MIN_SYN_BURST = StimProtocol.MIN_SYN_BURST\n",
    "SYN_BACKGROUND_HIGH = StimProtocol.SYN_BACKGROUND_HIGH\n",
    "\n",
    "# Adjust verbosity of loggers\n",
    "logutils.setLogLevel('quiet', ['marasco', 'folding', 'redops', 'stn_protos', 'bluepyopt.ephys.parameters'])"
   ]
  },
  {
   "cell_type": "markdown",
   "metadata": {},
   "source": [
    "## Choose validation protocol"
   ]
  },
  {
   "cell_type": "code",
   "execution_count": null,
   "metadata": {},
   "outputs": [],
   "source": [
    "# Protocols to use for optimisation\n",
    "validation_proto = SYN_BACKGROUND_HIGH\n",
    "\n",
    "# Collect al frozen mechanisms and parameters required for protocols to work\n",
    "proto_wrapper = BpopProtocolWrapper.make(validation_proto)\n",
    "proto_mechs, proto_params = BpopProtocolWrapper.all_mechs_params([proto_wrapper])"
   ]
  },
  {
   "cell_type": "markdown",
   "metadata": {},
   "source": [
    "## Run validation protocol"
   ]
  },
  {
   "cell_type": "code",
   "execution_count": null,
   "metadata": {},
   "outputs": [],
   "source": [
    "# Run protocols using full model to get responses\n",
    "full_model = StnFullModel(\n",
    "                name\t\t= 'StnGillies',\n",
    "                mechs\t\t= proto_mechs,\n",
    "                params\t\t= proto_params)\n",
    "\n",
    "# Set up simulation\n",
    "nrnsim = ephys.simulators.NrnSimulator(dt=0.025, cvode_active=False)\n",
    "proto_wrapper.ephys_protocol.record_contained_traces = True\n",
    "\n",
    "full_responses = proto_wrapper.ephys_protocol.run(\n",
    "                            cell_model\t\t= full_model, \n",
    "                            param_values\t= {},\n",
    "                            sim\t\t\t\t= nrnsim,\n",
    "                            isolate\t\t\t= True)\n",
    "\n",
    "# Plot results\n",
    "resp_analysis.plot_responses(full_responses)"
   ]
  },
  {
   "cell_type": "code",
   "execution_count": null,
   "metadata": {},
   "outputs": [],
   "source": [
    "# Make free parameters (locations etc, not values)\n",
    "# TODO: open saved notebooks, re-save settings file with full parameters, load them here\n",
    "\n",
    "# Create reduced model and get parameters\n",
    "red_model = StnReducedModel(\n",
    "                name\t\t= 'StnFolded',\n",
    "                fold_method\t= 'marasco',\n",
    "                num_passes\t= 7,\n",
    "                mechs\t\t= proto_mechs,\n",
    "                params\t\t= proto_params + opt_params)\n",
    "\n",
    "ind_responses = []\n",
    "ind_scores = []\n",
    "for ind in hof:\n",
    "    \n",
    "    ind_responses.append(proto_wrapper.ephys_protocol.run(\n",
    "                            cell_model\t\t= red_model, \n",
    "                            param_values\t= {},\n",
    "                            sim\t\t\t\t= nrnsim,\n",
    "                            isolate\t\t\t= True)"
   ]
  }
 ],
 "metadata": {
  "kernelspec": {
   "display_name": "Python 2",
   "language": "python",
   "name": "python2"
  },
  "language_info": {
   "codemirror_mode": {
    "name": "ipython",
    "version": 2
   },
   "file_extension": ".py",
   "mimetype": "text/x-python",
   "name": "python",
   "nbconvert_exporter": "python",
   "pygments_lexer": "ipython2",
   "version": "2.7.13"
  },
  "toc": {
   "nav_menu": {},
   "number_sections": false,
   "sideBar": true,
   "skip_h1_title": false,
   "toc_cell": false,
   "toc_position": {
    "height": "886px",
    "left": "0px",
    "right": "1431px",
    "top": "67px",
    "width": "249px"
   },
   "toc_section_display": "block",
   "toc_window_display": true
  }
 },
 "nbformat": 4,
 "nbformat_minor": 2
}
