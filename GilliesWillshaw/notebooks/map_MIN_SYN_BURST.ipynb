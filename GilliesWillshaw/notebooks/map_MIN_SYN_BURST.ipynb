{
 "cells": [
  {
   "cell_type": "markdown",
   "metadata": {},
   "source": [
    "# Full & Reduced model with protocol MIN_SYN_BURST\n",
    "\n",
    "Run the protocol MIN_SYN_BURST with the full Gillies & Willshaw (2005) STN model, then reduce the model according to our BranchZip algorithm, then rerun protocol and compare responses"
   ]
  },
  {
   "cell_type": "code",
   "execution_count": null,
   "metadata": {},
   "outputs": [],
   "source": [
    "# Enable interactive plots with backend 'notebook'\n",
    "%matplotlib notebook\n",
    "\n",
    "# Enable connecting with ipyton console --existing\n",
    "# %connect_info\n",
    "\n",
    "# print code version (hash of checked out version)\n",
    "!git log -1\n",
    "\n",
    "# print date and time of script execution\n",
    "import datetime\n",
    "print(\"\\nNotebook executed at at {} in following directory:\".format(datetime.datetime.now()))\n",
    "%cd ..\n",
    "%pwd"
   ]
  },
  {
   "cell_type": "code",
   "execution_count": null,
   "metadata": {},
   "outputs": [],
   "source": [
    "# Import all our functions\n",
    "from evalmodel.stn_model_evaluation import *\n",
    "\n",
    "# print synapse info\n",
    "def print_synapse_info(evaluator, model):\n",
    "    \"\"\"\n",
    "    Print all synapse and NetCon parameter values\n",
    "    \"\"\"\n",
    "    \n",
    "    for pre_pop, mech in [(Pop.CTX, 'GLUsyn'), (Pop.GPE, 'GABAsyn')]:\n",
    "\n",
    "        input_dict = evaluator.get_inputs(pre_pop, model)\n",
    "        syn_param_names = cpd.getSynMechParamNames(mech)\n",
    "\n",
    "        for nc in input_dict['syn_NetCons']:\n",
    "            syn = nc.syn()\n",
    "            print '\\nInfo for synapse {} @ {}'.format(syn, syn.get_segment())\n",
    "            print 'NetCon.weight[0] : {}'.format(nc.weight[0])\n",
    "\n",
    "            for param_name in syn_param_names:\n",
    "                print '{} : {}'.format(param_name, getattr(syn, param_name, 'not found'))"
   ]
  },
  {
   "cell_type": "markdown",
   "metadata": {},
   "source": [
    "## Build full model\n",
    "\n",
    "Build the Gillies & Willshaw STN model"
   ]
  },
  {
   "cell_type": "code",
   "execution_count": null,
   "metadata": {},
   "outputs": [],
   "source": [
    "full_model = StnModel.Gillies2005\n",
    "red_model = StnModel.Gillies_FoldMarasco\n",
    "\n",
    "# Make cell model and evaluator\n",
    "evaluator = StnModelEvaluator(full_model, PhysioState.NORMAL)\n",
    "evaluator.build_cell(full_model)"
   ]
  },
  {
   "cell_type": "markdown",
   "metadata": {},
   "source": [
    "## Run full model\n",
    "\n",
    "Set up full model, and run the protocol\n",
    "\n",
    "Explanation of plots:\n",
    "\n",
    "- the first plot is the membrane voltage in several compartments (soma, a distal segment, and in the compartments where the GLU and GABA synapses are located respectively)\n",
    "\n",
    "\n",
    "- the second plot are variables of the GLU and GABA synapse mechanism, respectively:\n",
    "    + GLU synapse, first trace: AMPA conductance\n",
    "    + GLU synapse, second trace: NMDA synapse\n",
    "    + third trace: corresponds approximately to the size of the Readily Releasable Pool of vesicles\n",
    "    + fourth trace: corresponds roughly the fraction of available vesicles released upon each spike\n",
    "    \n",
    "    \n",
    "- the third plot are variables of the GABA-A + GABA-B synapse mechanism\n",
    "    + first trace is GABA-A (ionotropic)\n",
    "    + second trace is GABA-B (metabotropic)\n",
    "    + the other two traces are same as GLU synapse"
   ]
  },
  {
   "cell_type": "code",
   "execution_count": null,
   "metadata": {},
   "outputs": [],
   "source": [
    "# Run protocol\n",
    "proto = StimProtocol.MIN_SYN_BURST\n",
    "evaluator.setup_run_protocol(proto)\n",
    "evaluator.plot_traces(proto)"
   ]
  },
  {
   "cell_type": "markdown",
   "metadata": {},
   "source": [
    "## Reduce model\n",
    "\n",
    "Collapse dendritic trees using BranchZip algorithm, then remap synapses"
   ]
  },
  {
   "cell_type": "code",
   "execution_count": null,
   "metadata": {},
   "outputs": [],
   "source": [
    "# Model reduction\n",
    "evaluator.build_cell(red_model)\n",
    "evaluator.target_model = red_model"
   ]
  },
  {
   "cell_type": "code",
   "execution_count": null,
   "metadata": {},
   "outputs": [],
   "source": [
    "print_synapse_info(evaluator, red_model)"
   ]
  },
  {
   "cell_type": "markdown",
   "metadata": {},
   "source": [
    "## Run reduced model\n",
    "\n",
    "Run the same protocol with the reduced model.\n"
   ]
  },
  {
   "cell_type": "code",
   "execution_count": null,
   "metadata": {},
   "outputs": [],
   "source": [
    "# Run Protocol\n",
    "evaluator.setup_run_protocol(proto)\n",
    "evaluator.plot_traces(proto)"
   ]
  },
  {
   "cell_type": "code",
   "execution_count": null,
   "metadata": {},
   "outputs": [],
   "source": []
  }
 ],
 "metadata": {
  "anaconda-cloud": {},
  "kernelspec": {
   "display_name": "Python 2",
   "language": "python",
   "name": "python2"
  },
  "language_info": {
   "codemirror_mode": {
    "name": "ipython",
    "version": 2
   },
   "file_extension": ".py",
   "mimetype": "text/x-python",
   "name": "python",
   "nbconvert_exporter": "python",
   "pygments_lexer": "ipython2",
   "version": "2.7.13"
  }
 },
 "nbformat": 4,
 "nbformat_minor": 1
}
