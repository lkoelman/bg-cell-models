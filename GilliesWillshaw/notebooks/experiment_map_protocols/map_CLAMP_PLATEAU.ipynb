{
 "cells": [
  {
   "cell_type": "markdown",
   "metadata": {},
   "source": [
    "# Full & Reduced model with protocol CLAMP_PLATEAU"
   ]
  },
  {
   "cell_type": "code",
   "execution_count": null,
   "metadata": {},
   "outputs": [],
   "source": [
    "# Enable interactive plots with backend 'notebook'\n",
    "%matplotlib notebook\n",
    "\n",
    "# print date and time of script execution\n",
    "import datetime\n",
    "print(\"\\nNotebook executed at at {} in following directory:\".format(datetime.datetime.now()))\n",
    "%cd ~/workspace/bgcellmodels/GilliesWillshaw/\n",
    "\n",
    "# print code version (hash of checked out version)\n",
    "print(\"\\nCurrent commit:\")\n",
    "!git log -1\n",
    "print(\"\\nChanges from commit point:\")\n",
    "!git status --short"
   ]
  },
  {
   "cell_type": "code",
   "execution_count": null,
   "metadata": {},
   "outputs": [],
   "source": [
    "# Import all our functions\n",
    "from evalmodel.stn_model_evaluation import *"
   ]
  },
  {
   "cell_type": "markdown",
   "metadata": {},
   "source": [
    "## Build full STN model\n",
    "\n",
    "Build the Gillies & Willshaw STN model"
   ]
  },
  {
   "cell_type": "code",
   "execution_count": null,
   "metadata": {},
   "outputs": [],
   "source": [
    "# Make cell model and evaluator\n",
    "full_model = StnModel.Gillies2005\n",
    "evaluator = StnModelEvaluator(full_model, PhysioState.NORMAL)\n",
    "evaluator.build_cell(full_model)"
   ]
  },
  {
   "cell_type": "code",
   "execution_count": null,
   "metadata": {},
   "outputs": [],
   "source": [
    "# Make all stimuli/synapses for stimulation protocol\n",
    "proto = StimProtocol.CLAMP_PLATEAU\n",
    "evaluator._setup_proto(proto)"
   ]
  },
  {
   "cell_type": "markdown",
   "metadata": {},
   "source": [
    "## Run full STN model\n",
    "\n",
    "Run the protocol"
   ]
  },
  {
   "cell_type": "code",
   "execution_count": null,
   "metadata": {},
   "outputs": [],
   "source": [
    "# Run protocol\n",
    "evaluator._run_proto(proto)\n",
    "evaluator.plot_traces(proto)"
   ]
  },
  {
   "cell_type": "markdown",
   "metadata": {},
   "source": [
    "## Reduce STN model\n",
    "\n",
    "Collapse dendritic trees using BranchZip algorithm, then remap synapses"
   ]
  },
  {
   "cell_type": "code",
   "execution_count": null,
   "metadata": {},
   "outputs": [],
   "source": [
    "red_model = StnModel.Gillies_FoldBush_Tapered\n",
    "# evaluator = StnModelEvaluator(red_model, PhysioState.NORMAL)\n",
    "\n",
    "# Model reduction\n",
    "evaluator.build_cell(red_model)\n",
    "evaluator.target_model = red_model"
   ]
  },
  {
   "cell_type": "code",
   "execution_count": null,
   "metadata": {},
   "outputs": [],
   "source": [
    "# Setup protocol\n",
    "proto = StimProtocol.CLAMP_PLATEAU\n",
    "evaluator._setup_proto(proto)"
   ]
  },
  {
   "cell_type": "markdown",
   "metadata": {},
   "source": [
    "## Run reduced model"
   ]
  },
  {
   "cell_type": "code",
   "execution_count": null,
   "metadata": {},
   "outputs": [],
   "source": [
    "evaluator._run_proto(proto)\n",
    "evaluator.plot_traces(proto)"
   ]
  },
  {
   "cell_type": "code",
   "execution_count": null,
   "metadata": {},
   "outputs": [],
   "source": []
  }
 ],
 "metadata": {
  "anaconda-cloud": {},
  "kernelspec": {
   "display_name": "Python [default]",
   "language": "python",
   "name": "python2"
  },
  "language_info": {
   "codemirror_mode": {
    "name": "ipython",
    "version": 2
   },
   "file_extension": ".py",
   "mimetype": "text/x-python",
   "name": "python",
   "nbconvert_exporter": "python",
   "pygments_lexer": "ipython2",
   "version": "2.7.13"
  }
 },
 "nbformat": 4,
 "nbformat_minor": 1
}
