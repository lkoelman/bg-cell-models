{
 "cells": [
  {
   "cell_type": "markdown",
   "metadata": {},
   "source": [
    "# Setup"
   ]
  },
  {
   "cell_type": "code",
   "execution_count": null,
   "metadata": {},
   "outputs": [],
   "source": [
    "%matplotlib inline\n",
    "import numpy as np\n",
    "import scipy.signal\n",
    "import matplotlib.pyplot as plt\n",
    "\n",
    "import os\n",
    "import neo.io\n",
    "import elephant\n",
    "\n",
    "# analysis.py module in same folder\n",
    "from common import units\n",
    "units.set_units_module('quantities')\n",
    "import quantities as pq"
   ]
  },
  {
   "cell_type": "markdown",
   "metadata": {},
   "source": [
    "## Plotting Options"
   ]
  },
  {
   "cell_type": "code",
   "execution_count": null,
   "metadata": {},
   "outputs": [],
   "source": [
    "# Width of the page for calibrating fig_size.\n",
    "# Approx. 16 for matplotlib backend %inline  8 for %notebook\n",
    "page_width = 14\n",
    "ax_height = 3\n",
    "\n",
    "# Style of figures (default colors etc.): see https://matplotlib.org/gallery/style_sheets/style_sheets_reference.html\n",
    "plt.style.use('default')"
   ]
  },
  {
   "cell_type": "markdown",
   "metadata": {},
   "source": [
    "## Load Data"
   ]
  },
  {
   "cell_type": "code",
   "execution_count": null,
   "metadata": {},
   "outputs": [],
   "source": [
    "# All populations:\n",
    "outputs = \"/home/luye/storage/2018.06.18_job-776933_DA-control_CTX-SWA\"\n",
    "\n",
    "# Single population:\n",
    "# outputs = [\n",
    "# \"/home/luye/storage/2018.06.21_job-testmpi6_DA-control_CTX-beta/CTX_2018.06.21_pop-100_dur-50.0_job-testmpi6.mat\",\n",
    "# ]\n",
    "\n",
    "if isinstance(outputs, str):\n",
    "    filenames = os.listdir(outputs)\n",
    "    pop_files = [os.path.join(outputs, f) for f in filenames if f.endswith('.mat')]\n",
    "else:\n",
    "    pop_files = outputs\n",
    "\n",
    "pops_segments = {}\n",
    "read_segment_id = 0\n",
    "\n",
    "# Read binary files using Neo IO module\n",
    "for pop_file in pop_files:\n",
    "    reader = neo.io.get_io(pop_file)\n",
    "    blocks = reader.read()\n",
    "    assert len(blocks) == 1, \"More than one Neo Block in file.\"\n",
    "    pop_label = blocks[0].name\n",
    "\n",
    "    if len(blocks[0].segments)-1 < read_segment_id:\n",
    "        raise ValueError(\"Segment index greater than number of Neo segments\"\n",
    "                         \" in file {}\".format(pop_file))\n",
    "    if pop_label in pops_segments:\n",
    "        raise ValueError(\"Duplicate population labels in files\")\n",
    "        \n",
    "    pops_segments[pop_label] = blocks[0].segments[read_segment_id]\n",
    "\n",
    "# Save all PSDs for comparison in figures\n",
    "all_psd = {}\n",
    "all_signals = {}"
   ]
  },
  {
   "cell_type": "code",
   "execution_count": null,
   "metadata": {},
   "outputs": [],
   "source": [
    "# The recordings are saved in Neo format. See:\n",
    "# http://neo.readthedocs.io/en/latest/\n",
    "# http://neo.readthedocs.io/en/latest/api_reference.html#neo.core.AnalogSignal\n",
    "# - Each segment has attributes 'analogsignals' and 'spiketrains'\n",
    "# - Each quantity (e.g. AnalogSignal.signal) has attributes magnitude, units, dimensionality\n",
    "\n",
    "# List all recorded signals\n",
    "for pop_label, segment in pops_segments.items():\n",
    "    print(\"\\n{} has following signals:\".format(pop_label))\n",
    "    for signal in segment.analogsignals:\n",
    "        print(\"\\t- '{:10}\\t[{}] - description: {}\".format(signal.name, signal.units, signal.description))\n",
    "    print(\"\\t- {} spiketrains\".format(len(segment.spiketrains)))"
   ]
  },
  {
   "cell_type": "markdown",
   "metadata": {},
   "source": [
    "# Spike Trains\n",
    "\n",
    "<span style='color:red;font-weight:bold'>WARNING</SPAN>: In rastergram plots, note the number of spike trains plotted (see y-axis). If it is too high you get overlapping marker bars (marker height is larger than row height allocated to one spiketrain). This leads to misleading plots as spiketrains are overlapping which looks like an artificially elevated firing rate."
   ]
  },
  {
   "cell_type": "code",
   "execution_count": null,
   "metadata": {},
   "outputs": [],
   "source": [
    "num_pops = len(pops_segments)\n",
    "pops_per_fig = 2\n",
    "\n",
    "# Plot spikes\n",
    "fig_spikes, axes_spikes = None, None # plt.subplots(num_pops, 1, figsize=(10,14))\n",
    "\n",
    "i_pop = 0\n",
    "pop_spike_colors = 'rgcbm'\n",
    "for pop_label, segment in pops_segments.items():\n",
    "    # Don't plot all rastergrams in same figure\n",
    "    if i_pop % pops_per_fig == 0:\n",
    "        fig_spikes, axes_spikes = plt.subplots(pops_per_fig, 1, figsize=(page_width,2*ax_height))\n",
    "        fig_spikes.suptitle('Spikes for each population')\n",
    "    ax = axes_spikes[i_pop % pops_per_fig]\n",
    "    \n",
    "    # Which cells to plot (all cells causes overlapping markers and misleading plot)\n",
    "    # cell_ids = range(len(segment.spiketrains))\n",
    "    cell_ids = range(20)\n",
    "    \n",
    "    for i_train in cell_ids:\n",
    "        spiketrain = segment.spiketrains[i_train]\n",
    "        y = spiketrain.annotations.get('source_id', i_train)\n",
    "        y_vec = np.ones_like(spiketrain) * y\n",
    "        ax.plot(spiketrain, y_vec, marker='|', linestyle='', snap=True, color=pop_spike_colors[i_pop % 5])\n",
    "        ax.set_ylabel('{} cell #'.format(pop_label))\n",
    "\n",
    "    i_pop += 1\n",
    "\n",
    "plt.show(block=False)"
   ]
  },
  {
   "cell_type": "markdown",
   "metadata": {},
   "source": [
    "# Raw Signals"
   ]
  },
  {
   "cell_type": "markdown",
   "metadata": {},
   "source": [
    "## STN Vm"
   ]
  },
  {
   "cell_type": "code",
   "execution_count": null,
   "metadata": {},
   "outputs": [],
   "source": [
    "pop_label = 'STN'\n",
    "segment = pops_segments[pop_label]\n",
    "signal = next((sig for sig in segment.analogsignals if sig.name == 'Vm'))\n",
    "stn_vm_signal = signal"
   ]
  },
  {
   "cell_type": "code",
   "execution_count": null,
   "metadata": {},
   "outputs": [],
   "source": [
    "# Choose plot interval and cell indices\n",
    "max_num_plot = 10\n",
    "num_signals = min(signal.shape[1], max_num_plot)\n",
    "interval = [5e3, 10e3] # [2000.0, 6000.0]\n",
    "rec_dt = signal.sampling_period.magnitude\n",
    "irange = [0, signal.shape[0]-1] if interval is None else [int(t/rec_dt) for t in interval]\n",
    "times = signal.times[irange[0]:irange[1]]\n",
    "\n",
    "fig, axes = plt.subplots(num_signals, 1, figsize=(0.75*page_width,2*ax_height))\n",
    "fig.suptitle(\"{} membrane voltage\".format(pop_label))\n",
    "\n",
    "# Plot a bunch of STN Vm signals\n",
    "for i_cell in range(num_signals):\n",
    "    ax = axes[i_cell]\n",
    "    if 'source_ids' in signal.annotations:\n",
    "        label = \"id {}\".format(signal.annotations['source_ids'][i_cell])\n",
    "    else:\n",
    "        label = \"cell {}\".format(i_cell)\n",
    "    \n",
    "    sig = signal[irange[0]:irange[1], i_cell]\n",
    "\n",
    "    ax.plot(times, sig, label=label)\n",
    "    ax.grid(True)\n",
    "    # ax.legend()\n",
    "    \n",
    "    if i_cell == num_signals-1:\n",
    "        ax.set_ylabel(\"voltage ({})\".format(signal.units))\n",
    "        ax.set_xlabel('time ({})'.format(times.units))"
   ]
  },
  {
   "cell_type": "markdown",
   "metadata": {},
   "source": [
    "## STN LFP"
   ]
  },
  {
   "cell_type": "code",
   "execution_count": null,
   "metadata": {},
   "outputs": [],
   "source": [
    "# Load each individual cell's LFP contribution\n",
    "pop_label = 'STN'\n",
    "segment = pops_segments[pop_label]\n",
    "lfp_sigs = next((sig for sig in segment.analogsignals if sig.name == 'lfp'))\n",
    "lfp_summed = lfp_sigs.sum(axis=1)\n",
    "\n",
    "interval = None # [5e3, 10e3]\n",
    "rec_dt = lfp_sigs.sampling_period.magnitude\n",
    "irange = [0, lfp_sigs.shape[0]] if interval is None else [int(t/rec_dt) for t in interval]\n",
    "\n",
    "lfp_times = lfp_sigs.times[irange[0]:irange[1]]\n",
    "lfp_ranged = lfp_summed[irange[0]:irange[1]]\n",
    "\n",
    "# Turn it into AnalogSignal object\n",
    "lfp_signal = stn_lfp_signal = neo.AnalogSignal(lfp_ranged, units=lfp_ranged.units, \n",
    "                              sampling_rate=stn_vm_signal.sampling_rate, t_start=lfp_times[0])"
   ]
  },
  {
   "cell_type": "code",
   "execution_count": null,
   "metadata": {},
   "outputs": [],
   "source": [
    "fig, ax = plt.subplots(figsize=(page_width, ax_height))\n",
    "ax.plot(lfp_signal.times, lfp_signal, label='{} LFP'.format(pop_label))\n",
    "# ax.plot(lfp_sigs.times, lfp_sigs[:, 5], label='{} LFP'.format(pop_label))\n",
    "# ax.plot(lfp_sigs.times, lfp_sigs[:, 8], 'r.', ms=1, mew=1, label='{} LFP'.format(pop_label))\n",
    "\n",
    "ax.set_ylim((-0.5, 3))\n",
    "ax.set_ylabel('LFP magnitude ({})'.format(lfp_sigs.units))\n",
    "ax.set_xlabel('time ({})'.format(times.units))\n",
    "ax.set_title('LFP for {} population'.format(pop_label))\n",
    "ax.grid(True)\n",
    "ax.legend()"
   ]
  },
  {
   "cell_type": "markdown",
   "metadata": {},
   "source": [
    "# Power Spectrum"
   ]
  },
  {
   "cell_type": "markdown",
   "metadata": {},
   "source": [
    "## STN LFP"
   ]
  },
  {
   "cell_type": "code",
   "execution_count": null,
   "metadata": {},
   "outputs": [],
   "source": [
    "# Computes PSD of all 100 LFP signals at the same time\n",
    "freqs, psd = elephant.spectral.welch_psd(lfp_signal, freq_res=0.5)\n",
    "psd = psd.ravel() # we only have one axis so make 1-dimensional\n",
    "all_psd['STN_LFP'] = (freqs, psd)"
   ]
  },
  {
   "cell_type": "code",
   "execution_count": null,
   "metadata": {},
   "outputs": [],
   "source": [
    "# Plot the PSD\n",
    "fig, ax = plt.subplots(figsize=(0.5*page_width, ax_height))\n",
    "ax.plot(freqs, psd, label='{} PSD'.format(pop_label))\n",
    "ax.set_ylabel('Power ({})'.format(psd.units))\n",
    "ax.set_xlabel('frequency ({})'.format(freqs.units))\n",
    "ax.set_xlim((0, 50))\n",
    "ax.grid(True)\n",
    "# ax.set_yscale('log')\n",
    "ax.set_title('Welch PSD for LFP of STN cells')\n",
    "ax.legend()"
   ]
  },
  {
   "cell_type": "code",
   "execution_count": null,
   "metadata": {},
   "outputs": [],
   "source": [
    "# Plot spectrogram using STFT\n",
    "dt = 0.05\n",
    "fs = 1/dt*1e3\n",
    "freq_res = 1.0\n",
    "nperseg = int(fs/freq_res) # determines frequency resolution\n",
    "t_res = 20.0 # ms\n",
    "noverlap = nperseg - int(t_res/dt)\n",
    "freqs, t, Sxx = scipy.signal.spectrogram(stn_lfp_signal.ravel(), 1/dt, window='hanning',\n",
    "                                         nperseg=nperseg, noverlap=noverlap, scaling='density')\n",
    "freqs = freqs * 1000\n",
    "fig, ax = plt.subplots(figsize=(0.75*page_width, ax_height))\n",
    "\n",
    "plt.pcolormesh(t, freqs, Sxx)\n",
    "# plt.imshow(Sxx, cmap='jet', aspect='auto', vmax=abs(Sxx).max(), vmin=Sxx.min())\n",
    "f_max = 50\n",
    "plt.ylim((0, f_max))\n",
    "plt.colorbar()\n",
    "plt.clim(0, abs(Sxx).max())\n",
    "plt.ylabel('frequency (Hz)')\n",
    "plt.xlabel('time (ms)')\n",
    "plt.suptitle('Spectrogram - evolution of STN LFP over time ($nV^2/Hz$)')"
   ]
  },
  {
   "cell_type": "markdown",
   "metadata": {},
   "source": [
    "## STN Vm"
   ]
  },
  {
   "cell_type": "code",
   "execution_count": null,
   "metadata": {},
   "outputs": [],
   "source": [
    "pop_label = 'STN'\n",
    "segment = pops_segments[pop_label]\n",
    "vm_sig = next((sig for sig in segment.analogsignals if sig.name == 'Vm'))\n",
    "\n",
    "# Computes PSD of all 100 Vm signals at the same time\n",
    "freqs, psd = elephant.spectral.welch_psd(vm_sig, freq_res=0.5)\n",
    "psd_avg = psd.sum(axis=0) / psd.shape[0]\n",
    "\n",
    "all_psd[pop_label + '_Vm'] = (freqs, psd_avg)"
   ]
  },
  {
   "cell_type": "code",
   "execution_count": null,
   "metadata": {},
   "outputs": [],
   "source": [
    "fig, ax = plt.subplots(figsize=(page_width*0.5, ax_height))\n",
    "ax.plot(freqs, psd_avg, label='{} Vm'.format(pop_label))\n",
    "ax.plot(all_psd['STN_LFP'][0], all_psd['STN_LFP'][1] * 1e3, 'r', label='STN LFP x 10')\n",
    "ax.set_ylabel('Power ({})'.format(psd_avg.units))\n",
    "ax.set_xlabel('frequency ({})'.format(freqs.units))\n",
    "ax.set_xlim((0, 50))\n",
    "ax.grid(True)\n",
    "# ax.set_yscale('log')\n",
    "ax.set_title('Welch PSD for average STN membrane voltages')\n",
    "ax.legend()"
   ]
  },
  {
   "cell_type": "markdown",
   "metadata": {},
   "source": [
    "## CTX spikes"
   ]
  },
  {
   "cell_type": "markdown",
   "metadata": {},
   "source": [
    "### Convolve spike times with AP"
   ]
  },
  {
   "cell_type": "code",
   "execution_count": null,
   "metadata": {},
   "outputs": [],
   "source": [
    "# Load Pyramidal cell action potential from saved recording\n",
    "pyramidal_trace = np.loadtxt('pyramidal.dat')\n",
    "vm = pyramidal_trace[:,1]\n",
    "tvec = pyramidal_trace[:,0]\n",
    "dt = np.round(tvec[1] - tvec[0], 4)\n",
    "ap_t_interval = [4.9, 20.0]\n",
    "ap_i_interval = [int(t/dt) for t in ap_t_interval]\n",
    "subsample = 2\n",
    "ap_range = range(ap_i_interval[0], ap_i_interval[1]+1, subsample)\n",
    "ap_kernel = vm[ap_range]\n",
    "ap_baseline = -65.0\n",
    "ap_kernel -= ap_baseline # center on 0 for convolution\n",
    "\n",
    "plt.figure(figsize=(6,2))\n",
    "plt.plot(tvec[ap_range], ap_kernel)\n",
    "plt.suptitle('AP kernel for cortical neurons')\n",
    "plt.grid(True)"
   ]
  },
  {
   "cell_type": "code",
   "execution_count": null,
   "metadata": {},
   "outputs": [],
   "source": [
    "pop_label = 'CTX'\n",
    "segment = pops_segments[pop_label]\n",
    "spiketrains = segment.spiketrains"
   ]
  },
  {
   "cell_type": "code",
   "execution_count": null,
   "metadata": {},
   "outputs": [],
   "source": [
    "# Construct AnalogSignal of N channels from N spiketrains\n",
    "dur = np.round(spiketrains[0].t_stop.magnitude, 4)\n",
    "dt = 0.05\n",
    "signal_matrix = np.empty((int(dur/dt)+1, len(spiketrains)))\n",
    "\n",
    "for i, st in enumerate(spiketrains):\n",
    "    \n",
    "    time = np.arange(0, dur + dt, dt)\n",
    "    spiketimes = st.times\n",
    "    spike_pulses = np.zeros_like(time)\n",
    "    spike_pulses[[int(t/dt) for t in spiketimes]] = 1.0\n",
    "    \n",
    "    # Convole pulses at spike times with AP kernel\n",
    "    spike_signal = np.convolve(spike_pulses, ap_kernel, mode='same') + ap_baseline\n",
    "    signal_matrix[:, i] = spike_signal\n",
    "\n",
    "ctx_vm_signal = neo.AnalogSignal(signal_matrix, units='mV', sampling_rate=1/dt/pq.ms,\n",
    "                                t_start=spiketrains[0].t_start, t_stop=spiketrains[0].t_stop)\n",
    "ctx_vm_mean = ctx_vm_signal.sum(axis=1) / ctx_vm_signal.shape[1]"
   ]
  },
  {
   "cell_type": "markdown",
   "metadata": {},
   "source": [
    "### Average PSD"
   ]
  },
  {
   "cell_type": "code",
   "execution_count": null,
   "metadata": {},
   "outputs": [],
   "source": [
    "# Computes PSD of all 100 Vm signals at the same time\n",
    "freqs, psd = elephant.spectral.welch_psd(ctx_vm_signal, freq_res=0.5)\n",
    "psd_avg = psd.sum(axis=0) / psd.shape[0]\n",
    "all_psd[pop_label + '_Vm'] = (freqs, psd_avg)"
   ]
  },
  {
   "cell_type": "code",
   "execution_count": null,
   "metadata": {},
   "outputs": [],
   "source": [
    "fig, ax = plt.subplots(figsize=(page_width*0.5, ax_height))\n",
    "ax.plot(freqs, psd_avg, label='{} Vm'.format(pop_label))\n",
    "ax.set_ylabel('Power ({})'.format(psd_avg.units))\n",
    "ax.set_xlabel('frequency ({})'.format(freqs.units))\n",
    "ax.set_xlim((0, 50))\n",
    "ax.grid(True)\n",
    "# ax.set_yscale('log')\n",
    "ax.set_title('Mean Welch PSD for CTX membrane voltages')\n",
    "ax.legend()"
   ]
  },
  {
   "cell_type": "markdown",
   "metadata": {},
   "source": [
    "## GPe Vm"
   ]
  },
  {
   "cell_type": "code",
   "execution_count": null,
   "metadata": {},
   "outputs": [],
   "source": [
    "pop_label = 'GPE'\n",
    "segment = pops_segments[pop_label]\n",
    "vm_sig = gpe_vm_signal = next((sig for sig in segment.analogsignals if sig.name == 'Vm'))\n",
    "\n",
    "# Computes PSD of all 100 Vm signals at the same time\n",
    "freqs, psd = elephant.spectral.welch_psd(vm_sig, freq_res=0.5)\n",
    "psd_avg = psd.sum(axis=0) / psd.shape[0]\n",
    "\n",
    "all_psd[pop_label] = (freqs, psd_avg)"
   ]
  },
  {
   "cell_type": "code",
   "execution_count": null,
   "metadata": {},
   "outputs": [],
   "source": [
    "fig, ax = plt.subplots(figsize=(page_width*0.5, ax_height))\n",
    "ax.plot(all_psd['STN_Vm'][0], all_psd['STN_Vm'][1], 'r', label='Avg STN Vm PSD')\n",
    "ax.plot(freqs, psd_avg, label='Avg {} Vm PSD'.format(pop_label))\n",
    "ax.set_ylabel('Power ({})'.format(psd_avg.units))\n",
    "ax.set_xlabel('frequency ({})'.format(freqs.units))\n",
    "ax.set_xlim((0, 50))\n",
    "ax.grid(True)\n",
    "# ax.set_yscale('log')\n",
    "ax.set_title('Welch PSD for average GPE membrane voltages')\n",
    "ax.legend()"
   ]
  },
  {
   "cell_type": "code",
   "execution_count": null,
   "metadata": {},
   "outputs": [],
   "source": [
    "# Plot spectrogram using STFT\n",
    "\n",
    "# Mean GPe membrane voltage\n",
    "gpe_vm_mean = gpe_vm_signal.sum(axis=1) / psd.shape[1]\n",
    "\n",
    "dt = 0.05\n",
    "fs = 1/dt*1e3\n",
    "freq_res = 1.0\n",
    "nperseg = int(fs/freq_res) # determines frequency resolution\n",
    "t_res = 20.0 # ms\n",
    "noverlap = nperseg - int(t_res/dt)\n",
    "freqs, t, Sxx = scipy.signal.spectrogram(gpe_vm_mean.ravel(), 1/dt, window='hanning',\n",
    "                                         nperseg=nperseg, noverlap=noverlap, scaling='density')\n",
    "freqs = freqs * 1000\n",
    "fig, ax = plt.subplots(figsize=(0.75*page_width, ax_height))\n",
    "\n",
    "plt.pcolormesh(t, freqs, Sxx)\n",
    "# plt.imshow(Sxx, cmap='jet', aspect='auto', vmax=abs(Sxx).max(), vmin=Sxx.min())\n",
    "f_max = 50\n",
    "plt.ylim((0, f_max))\n",
    "plt.colorbar()\n",
    "plt.clim(0, abs(Sxx).max())\n",
    "plt.ylabel('frequency (Hz)')\n",
    "plt.xlabel('time (ms)')\n",
    "plt.suptitle('Spectrogram - Power of mean GPe Vm over time ($nV^2/Hz$)')"
   ]
  },
  {
   "cell_type": "markdown",
   "metadata": {},
   "source": [
    "# Phase Relationships\n",
    "\n",
    "For suitable measures and implementations, see\n",
    "- bookmarks/neuroscience/signal_processing\n",
    "- google `measure + site:github.com`\n",
    "- ask Amir for his mutual information and related measures\n",
    "- see Beta-related and other neurophysiology articles\n",
    "\n",
    "For example, we can use following measures\n",
    "\n",
    "- __Coherence__ : linear relationship betwee two signals by frequency component\n",
    "    + see `welch_cohere` in [elephant.spectral](http://elephant.readthedocs.io/en/latest/reference/spectral.html)\n",
    "\n",
    "\n",
    "- __Phase-Amplitude Coupling__ (PAC)\n",
    "    + see `hilbert` in [elephant.signal_processing](http://elephant.readthedocs.io/en/latest/reference/signal_processing.html) to do band-pass filter + Hilbert transform\n",
    "    + see `comodulogram` in [pactools](https://pactools.github.io/auto_examples/plot_comodulogram.html)"
   ]
  },
  {
   "cell_type": "markdown",
   "metadata": {},
   "source": [
    "## CTX - STN"
   ]
  },
  {
   "cell_type": "markdown",
   "metadata": {},
   "source": [
    "### Coherence"
   ]
  },
  {
   "cell_type": "code",
   "execution_count": null,
   "metadata": {},
   "outputs": [],
   "source": [
    "# ctx_vm_mean = neo.AnalogSignal(ctx_vm_signal.sum(axis=1).reshape((-1,1)), units=ctx_vm_signal.units, \n",
    "#                               sampling_rate=ctx_vm_signal.sampling_rate, t_start=ctx_vm_signal.t_start)\n",
    "\n",
    "# Copy signal metadata from CTX Vm signal\n",
    "ctx_vm_mean = ctx_vm_signal.duplicate_with_new_array(ctx_vm_signal.sum(axis=1).reshape((-1,1)))\n",
    "\n",
    "# Coherence between averaged cortical Vm and STN LFP\n",
    "# N x CTX signals -> 1 x LFP signal\n",
    "freqs, coherence, phase_lag = elephant.spectral.welch_cohere(ctx_vm_mean, stn_lfp_signal, freq_res=0.5)"
   ]
  },
  {
   "cell_type": "code",
   "execution_count": null,
   "metadata": {},
   "outputs": [],
   "source": [
    "fig, axes = plt.subplots(2, 1, figsize=(0.75*page_width, 2*ax_height))\n",
    "ax = axes[0]\n",
    "ineg = len(freqs)/2 # plot messed up because positive frequency axis comes before negative part\n",
    "ax.plot(freqs[:ineg], coherence[:ineg], label='CTX Vm - STN LFP')\n",
    "ax.set_ylabel('Coherence (unitless)')\n",
    "# ax.set_xlabel('frequency ({})'.format(freqs.units))\n",
    "ax.set_xlim((0, 100))\n",
    "ax.grid(True)\n",
    "# ax.set_yscale('log')\n",
    "ax.set_title('Coherence between Cortex mean Vm - STN LFP')\n",
    "ax.legend(loc='upper right')\n",
    "\n",
    "# Plot phase\n",
    "ax = axes[1]\n",
    "ax.plot(freqs[:ineg], phase_lag[:ineg], 'g-', label='phase')\n",
    "ax.set_ylabel('Phase (rad)')\n",
    "ax.set_xlabel('frequency ({})'.format(freqs.units))\n",
    "ax.set_xlim((0, 100))\n",
    "ax.grid(True)\n",
    "# ax.set_yscale('log')\n",
    "ax.set_title('Phase lag > 0 means CTX leads STN')\n",
    "ax.legend(loc='upper right')"
   ]
  },
  {
   "cell_type": "markdown",
   "metadata": {},
   "source": [
    "### Phase-Amplitude Coupling"
   ]
  },
  {
   "cell_type": "code",
   "execution_count": null,
   "metadata": {},
   "outputs": [],
   "source": [
    "# from tensorpac import Pac\n",
    "# estimator = Pac(idpac=(1, 0, 0), fpha=(3, 33, 1, 1), famp=(20, 150, 5, 5),\n",
    "#                 dcomplex='hilbert', filt='butter')\n",
    "\n",
    "# Filter the data and extract PAC :\n",
    "# xpac = estimator.filterfit(fs,\n",
    "#                            xpha=stn_vm_signal.magnitude[int(1e3/dt):int(10e3/dt), 0:10],\n",
    "#                            xamp=ctx_vm_signal.magnitude[int(1e3/dt):int(10e3/dt), 0:10],\n",
    "#                            axis=0, traxis=1, njobs=2)\n",
    "# xpac = estimator.filterfit(fs, \n",
    "#                            xpha=stn_lfp_signal.magnitude.reshape((-1,1)),\n",
    "#                            xamp=ctx_vm_mean.magnitude.reshape((-1,1)),\n",
    "#                            axis=0, traxis=1, njobs=2)"
   ]
  },
  {
   "cell_type": "code",
   "execution_count": null,
   "metadata": {},
   "outputs": [],
   "source": [
    "# Plot PAC\n",
    "# estimator.comodulogram(xpac.mean(-1), title='PAC: STN LFP (phase) - CTX Vm (amplitude)',\n",
    "#                        cmap='Spectral_r', plotas='imshow')"
   ]
  },
  {
   "cell_type": "markdown",
   "metadata": {},
   "source": [
    "## STN - GPE"
   ]
  },
  {
   "cell_type": "code",
   "execution_count": null,
   "metadata": {},
   "outputs": [],
   "source": [
    "# Copy signal metadata from CTX Vm signal\n",
    "gpe_vm_mean = gpe_vm_signal.duplicate_with_new_array(ctx_vm_signal.sum(axis=1).reshape((-1,1)))\n",
    "\n",
    "# Coherence between averaged cortical Vm and STN LFP\n",
    "# N x CTX signals -> 1 x LFP signal\n",
    "freqs, coherence, phase_lag = elephant.spectral.welch_cohere(stn_lfp_signal, gpe_vm_mean, freq_res=0.5)"
   ]
  },
  {
   "cell_type": "markdown",
   "metadata": {},
   "source": [
    "### Coherence"
   ]
  },
  {
   "cell_type": "code",
   "execution_count": null,
   "metadata": {},
   "outputs": [],
   "source": [
    "fig, axes = plt.subplots(2, 1, figsize=(0.75*page_width, 2*ax_height))\n",
    "ax = axes[0]\n",
    "ineg = len(freqs)/2 # plot messed up because positive frequency axis comes before negative part\n",
    "ax.plot(freqs[:ineg], coherence[:ineg], label='STN LFP - Avg GPe Vm')\n",
    "ax.set_ylabel('Coherence (unitless)')\n",
    "# ax.set_xlabel('frequency ({})'.format(freqs.units))\n",
    "ax.set_xlim((0, 100))\n",
    "ax.grid(True)\n",
    "# ax.set_yscale('log')\n",
    "ax.set_title('Coherence between STN LFP - Average GPe Vm')\n",
    "ax.legend(loc='upper right')\n",
    "\n",
    "# Plot phase\n",
    "ax = axes[1]\n",
    "ax.plot(freqs[:ineg], phase_lag[:ineg], 'g-', label='phase')\n",
    "ax.set_ylabel('Phase (rad)')\n",
    "ax.set_xlabel('frequency ({})'.format(freqs.units))\n",
    "ax.set_xlim((0, 100))\n",
    "ax.grid(True)\n",
    "# ax.set_yscale('log')\n",
    "ax.set_title('Phase lag > 0 means CTX leads STN')\n",
    "ax.legend(loc='upper right')"
   ]
  },
  {
   "cell_type": "code",
   "execution_count": null,
   "metadata": {},
   "outputs": [],
   "source": []
  }
 ],
 "metadata": {
  "kernelspec": {
   "display_name": "Python [default]",
   "language": "python",
   "name": "python2"
  },
  "language_info": {
   "codemirror_mode": {
    "name": "ipython",
    "version": 2
   },
   "file_extension": ".py",
   "mimetype": "text/x-python",
   "name": "python",
   "nbconvert_exporter": "python",
   "pygments_lexer": "ipython2",
   "version": "2.7.13"
  },
  "toc": {
   "nav_menu": {},
   "number_sections": false,
   "sideBar": true,
   "skip_h1_title": false,
   "toc_cell": false,
   "toc_position": {
    "height": "879px",
    "left": "0px",
    "right": "1429px",
    "top": "67px",
    "width": "251px"
   },
   "toc_section_display": "block",
   "toc_window_display": true
  }
 },
 "nbformat": 4,
 "nbformat_minor": 2
}
