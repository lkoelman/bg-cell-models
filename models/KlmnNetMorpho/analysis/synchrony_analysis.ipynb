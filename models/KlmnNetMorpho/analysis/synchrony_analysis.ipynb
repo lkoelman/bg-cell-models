{
 "cells": [
  {
   "cell_type": "markdown",
   "metadata": {},
   "source": [
    "# Setup"
   ]
  },
  {
   "cell_type": "code",
   "execution_count": null,
   "metadata": {},
   "outputs": [],
   "source": [
    "%matplotlib notebook\n",
    "import numpy as np\n",
    "import matplotlib.pyplot as plt\n",
    "\n",
    "import os\n",
    "import neo.io\n",
    "import elephant\n",
    "\n",
    "# analysis.py module in same folder\n",
    "from analysis import read_population_segments"
   ]
  },
  {
   "cell_type": "markdown",
   "metadata": {},
   "source": [
    "## Function Definitions"
   ]
  },
  {
   "cell_type": "markdown",
   "metadata": {},
   "source": [
    "## Load Data"
   ]
  },
  {
   "cell_type": "code",
   "execution_count": null,
   "metadata": {},
   "outputs": [],
   "source": [
    "# sim_outputs = \"/home/luye/storage/2018.06.13_pop-100_dur-10s_job-776691_DA-control_CTX-SWA\"\n",
    "sim_outputs = [\n",
    "    \"/home/luye/storage/2018.06.16_pop-20_dur-1000.0_job-testmpi6/STN_2018.06.16_pop-20_dur-1000.0_job-testmpi6.mat\"\n",
    "]\n",
    "pops_segments = read_population_segments(sim_outputs, False, read_ext=\".mat\")"
   ]
  },
  {
   "cell_type": "markdown",
   "metadata": {},
   "source": [
    "# Spike Trains"
   ]
  },
  {
   "cell_type": "code",
   "execution_count": null,
   "metadata": {},
   "outputs": [],
   "source": [
    "num_pops = len(pops_segments)\n",
    "\n",
    "# Plot spikes\n",
    "fig_spikes, axes_spikes = plt.subplots(num_pops, 1, figsize=(10,14))\n",
    "fig_spikes.suptitle('Spikes for each population')\n",
    "\n",
    "i_pop = 0\n",
    "pop_spike_colors = 'rgcbm'\n",
    "for pop_label, segment in pops_segments.items():\n",
    "\n",
    "    ax = axes_spikes[i_pop]\n",
    "    for i_train, spiketrain in enumerate(segment.spiketrains):\n",
    "        y = spiketrain.annotations.get('source_id', i_train)\n",
    "        y_vec = np.ones_like(spiketrain) * y\n",
    "        ax.plot(spiketrain, y_vec, marker='|', linestyle='', snap=True, color=pop_spike_colors[i_pop % 5])\n",
    "        ax.set_ylabel(pop_label)\n",
    "\n",
    "    i_pop += 1\n",
    "\n",
    "plt.show(block=False)"
   ]
  },
  {
   "cell_type": "markdown",
   "metadata": {},
   "source": [
    "# Raw Signals"
   ]
  },
  {
   "cell_type": "markdown",
   "metadata": {},
   "source": [
    "## STN Vm"
   ]
  },
  {
   "cell_type": "code",
   "execution_count": null,
   "metadata": {},
   "outputs": [],
   "source": [
    "pop_label = 'STN'\n",
    "segment = pops_segments[pop_label]\n",
    "signal = next((sig for sig in segment.analogsignals if sig.name == 'Vm'))\n",
    "\n",
    "max_num_plot = 10\n",
    "num_signals = min(signal.shape[1], max_num_plot)\n",
    "\n",
    "interval = None # [2000.0, 6000.0]\n",
    "rec_dt = signal.sampling_period.magnitude\n",
    "irange = [0, signal.shape[0]-1] if interval is None else [int(t/rec_dt) for t in interval]\n",
    "times = signal.times[irange[0]:irange[1]]\n",
    "\n",
    "fig, axes = plt.subplots(num_signals, 1, figsize=(10,8))\n",
    "fig.suptitle(\"{} membrane voltage\".format(pop_label))\n",
    "\n",
    "for i_cell in range(num_signals):\n",
    "    ax = axes[i_cell]\n",
    "    if 'source_ids' in signal.annotations:\n",
    "        label = \"id {}\".format(signal.annotations['source_ids'][i_cell])\n",
    "    else:\n",
    "        label = \"cell {}\".format(i_cell)\n",
    "    \n",
    "    sig = signal[irange[0]:irange[1], i_cell]\n",
    "\n",
    "    ax.plot(times, sig, label=label)\n",
    "    ax.grid(True)\n",
    "    # ax.legend()\n",
    "    \n",
    "    if i_cell == num_signals-1:\n",
    "        ax.set_ylabel(\"voltage ({})\".format(signal.units))\n",
    "        ax.set_xlabel('time ({})'.format(times.units))"
   ]
  },
  {
   "cell_type": "markdown",
   "metadata": {},
   "source": [
    "## STN LFP"
   ]
  },
  {
   "cell_type": "code",
   "execution_count": null,
   "metadata": {},
   "outputs": [],
   "source": [
    "# Load each individual cell's LFP contribution\n",
    "pop_label = 'STN'\n",
    "segment = pops_segments[pop_label]\n",
    "lfp_sigs = next((sig for sig in segment.analogsignals if sig.name == 'lfp'))\n",
    "lfp_summed = lfp_sigs.sum(axis=1)\n",
    "\n",
    "interval = None # (2000.0, 4000.0)\n",
    "rec_dt = lfp_sigs.sampling_period.magnitude\n",
    "irange = [0, lfp_sigs.shape[0]] if interval is None else [int(t/rec_dt) for t in interval]\n",
    "\n",
    "times = lfp_sigs.times[irange[0]:irange[1]]\n",
    "lfp_ranged = lfp_summed[irange[0]:irange[1]]"
   ]
  },
  {
   "cell_type": "code",
   "execution_count": null,
   "metadata": {},
   "outputs": [],
   "source": [
    "fig, ax = plt.subplots(figsize=(10,4))\n",
    "ax.plot(times, lfp_ranged, label='{} LFP'.format(pop_label))\n",
    "# ax.plot(lfp_sigs.times, lfp_sigs[:, 5], label='{} LFP'.format(pop_label))\n",
    "# ax.plot(lfp_sigs.times, lfp_sigs[:, 8], 'r.', ms=1, mew=1, label='{} LFP'.format(pop_label))\n",
    "\n",
    "ax.set_ylabel('LFP magnitude ({})'.format(lfp_sigs.units))\n",
    "ax.set_xlabel('time ({})'.format(times.units))\n",
    "ax.set_title('LFP for {} population'.format(pop_label))\n",
    "ax.legend()"
   ]
  },
  {
   "cell_type": "markdown",
   "metadata": {},
   "source": [
    "# Power Spectrum"
   ]
  },
  {
   "cell_type": "code",
   "execution_count": null,
   "metadata": {},
   "outputs": [],
   "source": [
    "# The recordings are saved in Neo format. See:\n",
    "# http://neo.readthedocs.io/en/latest/\n",
    "# http://neo.readthedocs.io/en/latest/api_reference.html#neo.core.AnalogSignal\n",
    "# Each quantity (e.g. AnalogSignal.signal) has attributes magnitude, units, dimensionality\n",
    "\n",
    "for pop_label, segment in pops_segments.items():\n",
    "    print(pop_label, \" has following signals:\")\n",
    "    for signal in segment.analogsignals:\n",
    "        print(signal.name, signal.units, signal.description)"
   ]
  },
  {
   "cell_type": "markdown",
   "metadata": {},
   "source": [
    "## CTX spikes PSD"
   ]
  },
  {
   "cell_type": "markdown",
   "metadata": {},
   "source": [
    "## STN Vm PSD"
   ]
  },
  {
   "cell_type": "code",
   "execution_count": null,
   "metadata": {},
   "outputs": [],
   "source": [
    "pop_label = 'STN'\n",
    "segment = pops_segments[pop_label]\n",
    "vm_sig = next((sig for sig in segment.analogsignals if sig.name == 'Vm'))\n",
    "\n",
    "# Computes PSD of all 100 Vm signals at the same time\n",
    "freqs, psd = elephant.spectral.welch_psd(vm_sig, freq_res=0.5)\n",
    "psd_avg = psd.sum(axis=0) / psd.shape[0]\n",
    "\n",
    "all_psd = {}\n",
    "all_psd[pop_label] = (freqs, psd_avg)"
   ]
  },
  {
   "cell_type": "code",
   "execution_count": null,
   "metadata": {},
   "outputs": [],
   "source": [
    "fig, ax = plt.subplots(figsize=(10,4))\n",
    "ax.plot(freqs, psd_avg, label='{} PSD'.format(pop_label))\n",
    "ax.set_ylabel('Power ({})'.format(psd_avg.units))\n",
    "ax.set_xlabel('frequency ({})'.format(freqs.units))\n",
    "ax.set_xlim((0, 50))\n",
    "ax.grid(True)\n",
    "# ax.set_yscale('log')\n",
    "ax.set_title('Welch PSD for average STN membrane voltages')\n",
    "ax.legend()"
   ]
  },
  {
   "cell_type": "markdown",
   "metadata": {},
   "source": [
    "## GPe Vm PSD"
   ]
  },
  {
   "cell_type": "code",
   "execution_count": null,
   "metadata": {},
   "outputs": [],
   "source": [
    "pop_label = 'GPE'\n",
    "segment = pops_segments[pop_label]\n",
    "vm_sig = next((sig for sig in segment.analogsignals if sig.name == 'Vm'))\n",
    "\n",
    "# Computes PSD of all 100 Vm signals at the same time\n",
    "freqs, psd = elephant.spectral.welch_psd(vm_sig, freq_res=0.5)\n",
    "psd_avg = psd.sum(axis=0) / psd.shape[0]\n",
    "\n",
    "all_psd[pop_label] = (freqs, psd_avg)"
   ]
  },
  {
   "cell_type": "code",
   "execution_count": null,
   "metadata": {},
   "outputs": [],
   "source": [
    "fig, ax = plt.subplots(figsize=(10,4))\n",
    "ax.plot(all_psd['STN'][0], all_psd['STN'][1], 'r', label='STN PSD')\n",
    "ax.plot(freqs, psd_avg, label='{} PSD'.format(pop_label))\n",
    "ax.set_ylabel('Power ({})'.format(psd_avg.units))\n",
    "ax.set_xlabel('frequency ({})'.format(freqs.units))\n",
    "ax.set_xlim((0, 50))\n",
    "ax.grid(True)\n",
    "# ax.set_yscale('log')\n",
    "ax.set_title('Welch PSD for average GPE membrane voltages')\n",
    "ax.legend()"
   ]
  },
  {
   "cell_type": "markdown",
   "metadata": {},
   "source": [
    "# Phase Relationships\n",
    "\n",
    "For suitable measures and implementations, see\n",
    "- bookmarks/neuroscience/signal_processing\n",
    "- google `measure + site:github.com`\n",
    "- ask Amir for his mutual information and related measures\n",
    "- see Beta-related and other neurophysiology articles\n",
    "\n",
    "For example, we can use following measures\n",
    "\n",
    "- __Coherence__ : linear relationship betwee two signals by frequency component\n",
    "    + see `welch_cohere` in [elephant.spectral](http://elephant.readthedocs.io/en/latest/reference/spectral.html)\n",
    "\n",
    "\n",
    "- __Phase-Amplitude Coupling__ (PAC)\n",
    "    + see `hilbert` in [elephant.signal_processing](http://elephant.readthedocs.io/en/latest/reference/signal_processing.html) to do band-pass filter + Hilbert transform\n",
    "    + see `comodulogram` in [pactools](https://pactools.github.io/auto_examples/plot_comodulogram.html)"
   ]
  },
  {
   "cell_type": "markdown",
   "metadata": {},
   "source": [
    "## CTX - STN Synchrony"
   ]
  },
  {
   "cell_type": "markdown",
   "metadata": {},
   "source": [
    "## STN - GPE Synchrony"
   ]
  },
  {
   "cell_type": "markdown",
   "metadata": {},
   "source": [
    "## CTX - STN Synchrony"
   ]
  },
  {
   "cell_type": "code",
   "execution_count": null,
   "metadata": {},
   "outputs": [],
   "source": []
  }
 ],
 "metadata": {
  "kernelspec": {
   "display_name": "Python [default]",
   "language": "python",
   "name": "python2"
  },
  "language_info": {
   "codemirror_mode": {
    "name": "ipython",
    "version": 2
   },
   "file_extension": ".py",
   "mimetype": "text/x-python",
   "name": "python",
   "nbconvert_exporter": "python",
   "pygments_lexer": "ipython2",
   "version": "2.7.13"
  },
  "toc": {
   "nav_menu": {},
   "number_sections": true,
   "sideBar": true,
   "skip_h1_title": false,
   "toc_cell": false,
   "toc_position": {},
   "toc_section_display": "block",
   "toc_window_display": true
  }
 },
 "nbformat": 4,
 "nbformat_minor": 2
}
