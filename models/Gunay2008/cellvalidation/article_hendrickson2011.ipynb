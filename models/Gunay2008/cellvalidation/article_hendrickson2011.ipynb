{
 "cells": [
  {
   "cell_type": "markdown",
   "metadata": {},
   "source": [
    "# Prelude"
   ]
  },
  {
   "cell_type": "code",
   "execution_count": null,
   "metadata": {},
   "outputs": [],
   "source": [
    "# Enable interactive plots (%matplotlib -l to list backends)\n",
    "%matplotlib inline\n",
    "\n",
    "# print code version (hash of checked out version)\n",
    "print(\"\\nCurrent commit:\")\n",
    "!git log -1\n",
    "print(\"\\nChanges since last commit:\")\n",
    "!git status --short\n",
    "\n",
    "# print date and time of script execution\n",
    "import datetime\n",
    "print(\"\\nNotebook executed at at {} in following directory:\".format(datetime.datetime.now()))\n",
    "%cd .."
   ]
  },
  {
   "cell_type": "markdown",
   "metadata": {},
   "source": [
    "# Create cell"
   ]
  },
  {
   "cell_type": "code",
   "execution_count": null,
   "metadata": {},
   "outputs": [],
   "source": [
    "import gunay_model\n",
    "from neuron import h\n",
    "import bluepyopt.ephys as ephys\n",
    "\n",
    "cell = gunay_model.define_cell() # cell model description\n",
    "nrnsim = ephys.simulators.NrnSimulator(dt=0.025, cvode_active=False)\n",
    "cell.instantiate(sim=nrnsim)\n",
    "icell = cell.icell # cell instantiated in Hoc"
   ]
  },
  {
   "cell_type": "code",
   "execution_count": null,
   "metadata": {},
   "outputs": [],
   "source": [
    "named_seclists =  {listname: list(getattr(icell, listname)) for listname in cell.seclist_names}\n",
    "for k, v in named_seclists.items():\n",
    "    if len(v)==0:\n",
    "        named_seclists.pop(k)\n",
    "    else:\n",
    "        print(\"{} : {} sections\".format(k, len(v)))"
   ]
  },
  {
   "cell_type": "code",
   "execution_count": null,
   "metadata": {},
   "outputs": [],
   "source": [
    "soma = named_seclists['somatic'][0]\n",
    "axon = named_seclists['axonal'][0]"
   ]
  },
  {
   "cell_type": "markdown",
   "metadata": {},
   "source": [
    "# Plot cell morphology"
   ]
  },
  {
   "cell_type": "code",
   "execution_count": null,
   "metadata": {},
   "outputs": [],
   "source": [
    "from common import morphology\n",
    "import matplotlib.pyplot as plt\n",
    "from mpl_toolkits.mplot3d import Axes3D\n",
    "\n",
    "plt.figure()\n",
    "ax = plt.subplot(111, projection='3d')\n",
    "# ax.view_init(90,90) # set azimut and elevation\n",
    "# ax.set_zlim((-1,1)) # prevent rounding errors\n",
    "# ax.set_axis_off() # hide x,y,z axes and grid\n",
    "\n",
    "# Plot shape of our cell\n",
    "# h.define_shape(sec=soma) # for cells without 3D morphology\n",
    "morphology.shapeplot(h, ax)\n",
    "\n",
    "# Plot soma locations\n",
    "morphology.mark_locations(h, soma, 0.5, label='soma', markspec='or')\n",
    "morphology.mark_locations(h, axon, 1.0, label='axon_tip', markspec='og')\n",
    "\n",
    "\n",
    "plt.legend()\n",
    "plt.show()"
   ]
  },
  {
   "cell_type": "markdown",
   "metadata": {},
   "source": [
    "# Experiment: spontaneous activity"
   ]
  },
  {
   "cell_type": "code",
   "execution_count": null,
   "metadata": {},
   "outputs": [],
   "source": [
    "# start recording\n",
    "vrec = h.Vector()\n",
    "vrec.record(soma(0.5)._ref_v)\n",
    "trec = h.Vector()\n",
    "trec.record(h._ref_t)\n",
    "\n",
    "# Init and run simulation\n",
    "h.dt = 0.025\n",
    "h.celsius = 35.0\n",
    "h.v_init = -68.0\n",
    "h.tstop = 500.0\n",
    "h.init()\n",
    "# h.run()\n",
    "nrnsim.run(h.tstop, h.dt)\n",
    "\n",
    "# plot results\n",
    "plt.figure()\n",
    "plt.plot(trec.as_numpy(), vrec.as_numpy())\n",
    "plt.xlim(0, h.tstop)\n",
    "plt.ylim(-80,60)\n",
    "plt.xlabel('time (ms)')\n",
    "plt.ylabel('$V_m$ (mV)')\n",
    "plt.title('Spontaneous activity')\n",
    "\n",
    "plt.show()"
   ]
  },
  {
   "cell_type": "code",
   "execution_count": null,
   "metadata": {},
   "outputs": [],
   "source": []
  }
 ],
 "metadata": {
  "kernelspec": {
   "display_name": "Python [default]",
   "language": "python",
   "name": "python2"
  },
  "language_info": {
   "codemirror_mode": {
    "name": "ipython",
    "version": 2
   },
   "file_extension": ".py",
   "mimetype": "text/x-python",
   "name": "python",
   "nbconvert_exporter": "python",
   "pygments_lexer": "ipython2",
   "version": "2.7.13"
  }
 },
 "nbformat": 4,
 "nbformat_minor": 2
}
