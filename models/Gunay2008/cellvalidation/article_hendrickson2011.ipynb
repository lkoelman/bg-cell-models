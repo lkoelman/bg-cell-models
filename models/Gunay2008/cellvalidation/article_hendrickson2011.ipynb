{
 "cells": [
  {
   "cell_type": "markdown",
   "metadata": {},
   "source": [
    "# Prelude"
   ]
  },
  {
   "cell_type": "code",
   "execution_count": null,
   "metadata": {},
   "outputs": [],
   "source": [
    "# Enable interactive plots (%matplotlib -l to list backends)\n",
    "%matplotlib notebook\n",
    "\n",
    "# print code version (hash of checked out version)\n",
    "print(\"\\nCurrent commit:\")\n",
    "!git log -1\n",
    "print(\"\\nChanges since last commit:\")\n",
    "!git status --short\n",
    "\n",
    "# print date and time of script execution\n",
    "import datetime\n",
    "print(\"\\nNotebook executed at at {} in following directory:\".format(datetime.datetime.now()))\n",
    "%cd .."
   ]
  },
  {
   "cell_type": "markdown",
   "metadata": {},
   "source": [
    "# Create cell"
   ]
  },
  {
   "cell_type": "code",
   "execution_count": null,
   "metadata": {},
   "outputs": [],
   "source": [
    "import gunay_model\n",
    "from neuron import h\n",
    "import bluepyopt.ephys as ephys\n",
    "\n",
    "cell = gunay_model.define_cell() # cell model description\n",
    "nrnsim = ephys.simulators.NrnSimulator(dt=0.025, cvode_active=False)\n",
    "cell.instantiate(sim=nrnsim)\n",
    "icell = cell.icell # cell instantiated in Hoc"
   ]
  },
  {
   "cell_type": "code",
   "execution_count": null,
   "metadata": {},
   "outputs": [],
   "source": [
    "named_seclists =  {listname: list(getattr(icell, listname)) for listname in cell.seclist_names}\n",
    "for k, v in named_seclists.items():\n",
    "    if len(v)==0:\n",
    "        named_seclists.pop(k)\n",
    "    else:\n",
    "        print(\"{} : {} sections\".format(k, len(v)))"
   ]
  },
  {
   "cell_type": "code",
   "execution_count": null,
   "metadata": {},
   "outputs": [],
   "source": [
    "soma = named_seclists['somatic'][0]\n",
    "axon = named_seclists['axonal'][0]\n",
    "dend = named_seclists['basal'][0]"
   ]
  },
  {
   "cell_type": "markdown",
   "metadata": {},
   "source": [
    "# Plot cell morphology"
   ]
  },
  {
   "cell_type": "code",
   "execution_count": null,
   "metadata": {},
   "outputs": [],
   "source": [
    "from common import morphology\n",
    "import matplotlib.pyplot as plt\n",
    "from mpl_toolkits.mplot3d import Axes3D\n",
    "\n",
    "plt.figure()\n",
    "ax = plt.subplot(111, projection='3d')\n",
    "# ax.view_init(90,90) # set azimut and elevation\n",
    "# ax.set_zlim((-1,1)) # prevent rounding errors\n",
    "# ax.set_axis_off() # hide x,y,z axes and grid\n",
    "\n",
    "# Plot shape of our cell\n",
    "# h.define_shape(sec=soma) # for cells without 3D morphology\n",
    "morphology.shapeplot(h, ax)\n",
    "\n",
    "# Plot soma locations\n",
    "morphology.mark_locations(h, soma, 0.5, label='soma', markspec='or')\n",
    "morphology.mark_locations(h, axon, 1.0, label='axon_tip', markspec='og')\n",
    "\n",
    "\n",
    "plt.legend()\n",
    "plt.show()"
   ]
  },
  {
   "cell_type": "markdown",
   "metadata": {},
   "source": [
    "# Experiment: spontaneous activity"
   ]
  },
  {
   "cell_type": "code",
   "execution_count": null,
   "metadata": {},
   "outputs": [],
   "source": [
    "# start recording\n",
    "vrec = h.Vector()\n",
    "vrec.record(dend(0.5)._ref_v)\n",
    "trec = h.Vector()\n",
    "trec.record(h._ref_t)\n",
    "\n",
    "# Record currents\n",
    "from common import analysis\n",
    "rec_secs = {\n",
    "    'soma': soma,\n",
    "    'dend': dend,\n",
    "}\n",
    "trace_specs = {\n",
    "#     'iCaH': {'var':'iCaH', 'mech':'CaHVA', 'sec':'dend', 'loc':0.5},\n",
    "#     'iHCN': {'var':'iHCN', 'mech':'HCN', 'sec':'dend', 'loc':0.5},\n",
    "#     'iHCN2': {'var':'iHCN', 'mech':'HCN2', 'sec':'dend', 'loc':0.5},\n",
    "#     'iKCNQ': {'var':'iKCNQ', 'mech':'KCNQ', 'sec':'dend', 'loc':0.5},\n",
    "#     'iKv2': {'var':'iKv2', 'mech':'Kv2', 'sec':'dend', 'loc':0.5},\n",
    "#     'iKv3': {'var':'iKv3', 'mech':'Kv3', 'sec':'dend', 'loc':0.5},\n",
    "#     'iKv4f': {'var':'iKv4f', 'mech':'Kv4f', 'sec':'dend', 'loc':0.5},\n",
    "#     'iKv4s': {'var':'iKv4s', 'mech':'Kv4s', 'sec':'dend', 'loc':0.5},\n",
    "#     'iNa': {'var':'iNa', 'mech':'NaF', 'sec':'dend', 'loc':0.5},\n",
    "#     'iNa': {'var':'iNa', 'mech':'NaP', 'sec':'dend', 'loc':0.5},\n",
    "#     'iSK': {'var':'iSK', 'mech':'SK', 'sec':'dend', 'loc':0.5},\n",
    "    # gating variables\n",
    "    'iCaH': {'var':'m', 'mech':'CaHVA', 'sec':'dend', 'loc':0.5},\n",
    "    'iHCN': {'var':'m', 'mech':'HCN', 'sec':'dend', 'loc':0.5},\n",
    "    'iHCN2': {'var':'m', 'mech':'HCN2', 'sec':'dend', 'loc':0.5},\n",
    "    'iKCNQ': {'var':'m', 'mech':'KCNQ', 'sec':'dend', 'loc':0.5},\n",
    "    'mKv2': {'var':'m', 'mech':'Kv2', 'sec':'dend', 'loc':0.5},\n",
    "    'hKv2': {'var':'h', 'mech':'Kv2', 'sec':'dend', 'loc':0.5},\n",
    "    'mKv3': {'var':'m', 'mech':'Kv3', 'sec':'dend', 'loc':0.5},\n",
    "    'hKv3': {'var':'h', 'mech':'Kv3', 'sec':'dend', 'loc':0.5},\n",
    "    'mKv4f': {'var':'m', 'mech':'Kv4f', 'sec':'dend', 'loc':0.5},\n",
    "    'hKv4f': {'var':'h', 'mech':'Kv4f', 'sec':'dend', 'loc':0.5},\n",
    "    'mKv4s': {'var':'m', 'mech':'Kv4s', 'sec':'dend', 'loc':0.5},\n",
    "    'hKv4s': {'var':'h', 'mech':'Kv4s', 'sec':'dend', 'loc':0.5},\n",
    "    'mNa': {'var':'m', 'mech':'NaF', 'sec':'dend', 'loc':0.5},\n",
    "    'hNa': {'var':'h', 'mech':'NaF', 'sec':'dend', 'loc':0.5},\n",
    "    'sNa': {'var':'s', 'mech':'NaF', 'sec':'dend', 'loc':0.5},\n",
    "    'mNaP': {'var':'m', 'mech':'NaP', 'sec':'dend', 'loc':0.5},\n",
    "    'hNaP': {'var':'h', 'mech':'NaP', 'sec':'dend', 'loc':0.5},\n",
    "    'sNaP': {'var':'s', 'mech':'NaP', 'sec':'dend', 'loc':0.5},\n",
    "    'mSK': {'var':'m', 'mech':'SK', 'sec':'dend', 'loc':0.5},\n",
    "}\n",
    "rec_dt = 0.05\n",
    "vec_dict, _ = analysis.recordTraces(rec_secs, trace_specs, rec_dt)\n",
    "\n",
    "# Init and run simulation\n",
    "h.dt = 0.025\n",
    "h.celsius = 35.0\n",
    "h.v_init = -68.0\n",
    "h.tstop = 500.0\n",
    "h.init()\n",
    "# h.run()\n",
    "nrnsim.run(h.tstop, h.dt)\n",
    "\n",
    "# plot results\n",
    "plt.figure()\n",
    "plt.plot(trec.as_numpy(), vrec.as_numpy())\n",
    "plt.xlim(0, h.tstop)\n",
    "# plt.ylim(-80,60)\n",
    "plt.xlabel('time (ms)')\n",
    "plt.ylabel('$V_m$ (mV)')\n",
    "plt.title('Spontaneous activity')\n",
    "\n",
    "figs_vm = analysis.plotTraces(vec_dict, rec_dt, traceSharex=True) # yRange=(-80,40),\n",
    "\n",
    "plt.show()"
   ]
  },
  {
   "cell_type": "code",
   "execution_count": null,
   "metadata": {},
   "outputs": [],
   "source": [
    "print(min(vrec.as_numpy()))\n",
    "print(max(vrec.as_numpy()))\n",
    "\n",
    "# i_sk = vec_dict['iSK']\n",
    "# i_sk[0:30]\n",
    "\n",
    "# i_hcn = vec_dict['iHCN']\n",
    "# i_hcn[0:30]\n",
    "\n",
    "# i_kv3 = vec_dict['iKv3']\n",
    "# i_kv3[0:30]\n",
    "\n",
    "m_kv3 = vec_dict['mKv3']\n",
    "m_kv3[0:30]\n",
    "print(min(m_kv3))\n",
    "print(max(m_kv3))\n",
    "\n",
    "m_sk = vec_dict['mSK']\n",
    "m_sk[0:30]\n",
    "print(min(m_sk))\n",
    "print(max(m_sk))"
   ]
  },
  {
   "cell_type": "code",
   "execution_count": null,
   "metadata": {},
   "outputs": [],
   "source": []
  }
 ],
 "metadata": {
  "kernelspec": {
   "display_name": "Python [default]",
   "language": "python",
   "name": "python2"
  },
  "language_info": {
   "codemirror_mode": {
    "name": "ipython",
    "version": 2
   },
   "file_extension": ".py",
   "mimetype": "text/x-python",
   "name": "python",
   "nbconvert_exporter": "python",
   "pygments_lexer": "ipython2",
   "version": "2.7.13"
  }
 },
 "nbformat": 4,
 "nbformat_minor": 2
}
