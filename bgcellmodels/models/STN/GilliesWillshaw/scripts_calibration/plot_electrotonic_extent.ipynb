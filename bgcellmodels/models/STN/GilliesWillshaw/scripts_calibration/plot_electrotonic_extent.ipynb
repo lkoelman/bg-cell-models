{
 "cells": [
  {
   "cell_type": "markdown",
   "metadata": {},
   "source": [
    "# Notes for current output\n",
    "\n",
    "_(Notes about currently visible output in the notebook.)_\n",
    "\n",
    "The reduction method used was for all conductances initialized to their area-weighted average values, and scaled using the surface area ratio. No other fitting steps were done (not even matching input impedance for each subtree). The dictionary with reduction parameters was as follows:\n",
    "\n",
    "```python\n",
    "{\n",
    "    'Z_freq' :              25.,\n",
    "    'Z_init_func' :         reduction.init_cell_steadystate,\n",
    "    'Z_linearize_gating' :  False,\n",
    "    'f_lambda':             100.0,\n",
    "    'syn_scale_method' :    'Ai_syn_to_soma',\n",
    "    'syn_position_method':  'root_distance_micron',\n",
    "    'gbar_init_method':     'area_weighted_average',\n",
    "    'gbar_scale_method':    'surface_area_ratio',\n",
    "    'passive_scale_method': 'surface_area_ratio',\n",
    "    'split_criterion':      'micron_distance',\n",
    "    'split_dX':             50.0,\n",
    "}\n",
    "```"
   ]
  },
  {
   "cell_type": "markdown",
   "metadata": {},
   "source": [
    "# Reproducibility info\n",
    "\n",
    "Information required to reproduce results of this notebook"
   ]
  },
  {
   "cell_type": "code",
   "execution_count": null,
   "metadata": {},
   "outputs": [],
   "source": [
    "# Enable interactive plots with backend 'notebook'\n",
    "%matplotlib notebook\n",
    "\n",
    "# print code version (hash of checked out version)\n",
    "!git log -1\n",
    "\n",
    "# print date and time of script execution\n",
    "import datetime\n",
    "print(\"\\nNotebook executed at at {} in following directory:\".format(datetime.datetime.now()))\n",
    "%cd .."
   ]
  },
  {
   "cell_type": "markdown",
   "metadata": {},
   "source": [
    "# Original STN model"
   ]
  },
  {
   "cell_type": "code",
   "execution_count": null,
   "metadata": {},
   "outputs": [],
   "source": [
    "from bgcellmodels.models.STN.GilliesWillshaw import gillies_model\n",
    "from bgcellmodels.common import treeutils, electrotonic\n",
    "from neuron import h\n",
    "import matplotlib.pyplot as plt\n",
    "\n",
    "# instantiate STN cell model\n",
    "soma, dends, stims = gillies_model.stn_cell_gillies()\n",
    "\n",
    "# get terminal segments\n",
    "leaves = treeutils.leaf_sections()\n",
    "root = treeutils.root_section(soma)"
   ]
  },
  {
   "cell_type": "markdown",
   "metadata": {},
   "source": [
    "## Do Measurements"
   ]
  },
  {
   "cell_type": "code",
   "execution_count": null,
   "metadata": {},
   "outputs": [],
   "source": [
    "# get distance functions\n",
    "distance_funcs = {\n",
    "    'Ztransfer': electrotonic.measure_transfer_impedance,\n",
    "    'Ai': electrotonic.measure_current_transfer,\n",
    "    'Av': electrotonic.measure_voltage_transfer,\n",
    "    'Zin': electrotonic.measure_input_impedance,\n",
    "}\n",
    "\n",
    "measures_ylims = {\n",
    "    'Ztransfer': (40, 70),\n",
    "    'Ai': (0.5, 1.05),\n",
    "    'Av': (0, 1.1),\n",
    "    'Zin': (0, 1000.0),\n",
    "}"
   ]
  },
  {
   "cell_type": "code",
   "execution_count": null,
   "metadata": {},
   "outputs": [],
   "source": [
    "# Do measurement\n",
    "leaf_distance_measures = electrotonic.measure_along_paths(root, leaves, distance_funcs, freq=25.0)"
   ]
  },
  {
   "cell_type": "markdown",
   "metadata": {},
   "source": [
    "## Plot cell topology"
   ]
  },
  {
   "cell_type": "code",
   "execution_count": null,
   "metadata": {},
   "outputs": [],
   "source": [
    "import bgcellmodels.morphology.morph_gui as morphology\n",
    "from mpl_toolkits.mplot3d import Axes3D\n",
    "\n",
    "plt.figure()\n",
    "ax = plt.subplot(111, projection='3d')\n",
    "ax.view_init(90,90) # set azimut and elevation\n",
    "ax.set_zlim((-1,1)) # prevent rounding errors\n",
    "ax.set_axis_off() # hide x,y,z axes and grid\n",
    "\n",
    "# Plot shape of our cell\n",
    "h.define_shape(sec=soma)\n",
    "morphology.shapeplot(h, ax)\n",
    "\n",
    "# Now mark location of leaves\n",
    "marker_colors = 'rgby'\n",
    "for i, leaf_sec in enumerate(leaves[:2]):\n",
    "    morphology.mark_locations(h, leaf_sec, 1.0, \n",
    "                            label=leaf_sec.name(),\n",
    "                            markspec='o'+marker_colors[i])\n",
    "\n",
    "plt.legend()\n",
    "plt.show()"
   ]
  },
  {
   "cell_type": "markdown",
   "metadata": {},
   "source": [
    "## Plot Measurements"
   ]
  },
  {
   "cell_type": "code",
   "execution_count": null,
   "metadata": {},
   "outputs": [],
   "source": [
    "plotted_measures = distance_funcs.keys()\n",
    "fig, axes = plt.subplots(len(plotted_measures))\n",
    "\n",
    "for i, measure in enumerate(plotted_measures):\n",
    "    ax = axes[i]\n",
    "    \n",
    "    # Plot the same measure for each leaf in the same axis\n",
    "    for j, leaf in enumerate(leaves[:2]):\n",
    "        \n",
    "        ax.plot(\n",
    "            leaf_distance_measures[j]['pathlen_micron'],\n",
    "            leaf_distance_measures[j][measure],\n",
    "            label=leaf.name())\n",
    "        \n",
    "        ax.set_ylim(measures_ylims[measure])\n",
    "        ax.legend() # show line labels\n",
    "        ax.grid(True)\n",
    "        ax.set_ylabel(measure)\n",
    "    "
   ]
  },
  {
   "cell_type": "markdown",
   "metadata": {},
   "source": [
    "# Reduced STN model\n",
    "\n",
    "Build the Gillies & Willshaw STN model"
   ]
  },
  {
   "cell_type": "code",
   "execution_count": null,
   "metadata": {},
   "outputs": [],
   "source": [
    "# NEW REDUCTION CODE\n",
    "from bgcellmodels.models.STN.GilliesWillshaw.reduced import cersei_reduce\n",
    "cersei_reduce.fold_bush(export_locals=False)\n",
    "\n",
    "# OLD REDUCTION CODE\n",
    "# import reducemodel.reduce_cell as legacy_reduce\n",
    "# legacy_reduce.fold_gillies_marasco(export_locals=False)\n",
    "\n",
    "# get terminal segments\n",
    "soma = h.SThcell[0].soma\n",
    "leaves = treeutils.leaf_sections(soma)\n",
    "root = treeutils.root_section(soma)"
   ]
  },
  {
   "cell_type": "markdown",
   "metadata": {},
   "source": [
    "## Plot topology"
   ]
  },
  {
   "cell_type": "code",
   "execution_count": null,
   "metadata": {},
   "outputs": [],
   "source": [
    "# import bgcellmodels.morphology.morph_gui as morphology\n",
    "# from mpl_toolkits.mplot3d import Axes3D\n",
    "\n",
    "plt.figure()\n",
    "ax = plt.subplot(111, projection='3d')\n",
    "ax.view_init(90,90) # set azimut and elevation\n",
    "ax.set_zlim((-1,1)) # prevent rounding errors\n",
    "ax.set_axis_off() # hide x,y,z axes and grid\n",
    "\n",
    "# Plot shape of our cell\n",
    "h.define_shape(sec=soma)\n",
    "morphology.shapeplot(h, ax)\n",
    "\n",
    "# Now mark location of leaves\n",
    "marker_colors = 'rgby'\n",
    "for i, leaf_sec in enumerate(leaves[:2]):\n",
    "    morphology.mark_locations(h, leaf_sec, 1.0, \n",
    "                            label=leaf_sec.name(),\n",
    "                            markspec='o'+marker_colors[i])\n",
    "\n",
    "plt.legend()\n",
    "plt.show()"
   ]
  },
  {
   "cell_type": "markdown",
   "metadata": {},
   "source": [
    "## Plot measurements"
   ]
  },
  {
   "cell_type": "code",
   "execution_count": null,
   "metadata": {},
   "outputs": [],
   "source": [
    "# Do measurement\n",
    "leaf_distance_measures_old = leaf_distance_measures\n",
    "leaf_distance_measures_new = electrotonic.measure_along_paths(root, leaves, distance_funcs, freq=25.0)"
   ]
  },
  {
   "cell_type": "code",
   "execution_count": null,
   "metadata": {},
   "outputs": [],
   "source": [
    "plotted_measures = distance_funcs.keys()\n",
    "fig, axes = plt.subplots(len(plotted_measures))\n",
    "\n",
    "for i, measure in enumerate(plotted_measures):\n",
    "    ax = axes[i]\n",
    "    \n",
    "    # Plot the same measure for each leaf in the same axis\n",
    "    for j, leaf in enumerate(leaves[:2]):\n",
    "        \n",
    "        ax.plot(\n",
    "            leaf_distance_measures_new[j]['pathlen_micron'],\n",
    "            leaf_distance_measures_new[j][measure],\n",
    "            label=leaf.name())\n",
    "        \n",
    "        ax.plot(\n",
    "            leaf_distance_measures_old[j]['pathlen_micron'],\n",
    "            leaf_distance_measures_old[j][measure],\n",
    "            'r--', linewidth=.5)\n",
    "        \n",
    "        ax.set_ylim(measures_ylims[measure])\n",
    "        ax.legend() # show line labels\n",
    "        ax.grid(True)\n",
    "        ax.set_ylabel(measure)"
   ]
  },
  {
   "cell_type": "markdown",
   "metadata": {},
   "source": [
    "## ARTICLE figure"
   ]
  },
  {
   "cell_type": "code",
   "execution_count": null,
   "metadata": {},
   "outputs": [],
   "source": [
    "def get_style_colors():\n",
    "    \"\"\"\n",
    "    Get colors of the currently active style.\n",
    "    \"\"\"\n",
    "    return plt.rcParams['axes.prop_cycle'].by_key()['color']\n",
    "\n",
    "plotutils.get_style_colors = get_style_colors"
   ]
  },
  {
   "cell_type": "code",
   "execution_count": null,
   "metadata": {
    "scrolled": false
   },
   "outputs": [],
   "source": [
    "from bgcellmodels.common import plotutils\n",
    "\n",
    "plotted_measures = ['Zin', 'Ztransfer']\n",
    "measures_ylims['Ztransfer'] = (40, 70)\n",
    "measures_ylims['Zin'] = (0, 1300)\n",
    "\n",
    "fig, axes = plt.subplots(len(plotted_measures), figsize=(8.0, 8.0))\n",
    "\n",
    "for i, measure in enumerate(plotted_measures):\n",
    "    ax = axes[i]\n",
    "    \n",
    "    # Plot the same measure for each leaf in the same axis\n",
    "    for j, leaf in enumerate(leaves[:2]):\n",
    "        \n",
    "        ax.plot(\n",
    "            leaf_distance_measures_old[j]['pathlen_micron'],\n",
    "            leaf_distance_measures_old[j][measure],\n",
    "            '--', marker='.', linewidth=1.0, color=plotutils.get_style_colors()[0],\n",
    "            label='full' if j==0 else None)\n",
    "        \n",
    "        ax.plot(\n",
    "            leaf_distance_measures_new[j]['pathlen_micron'],\n",
    "            leaf_distance_measures_new[j][measure],\n",
    "            '--', marker='.', linewidth=1.0, color=plotutils.get_style_colors()[1],\n",
    "            label='reduced' if j==0 else None)\n",
    "        \n",
    "        ax.set_ylim(measures_ylims[measure])\n",
    "        ax.legend() # show line labels\n",
    "        ax.grid(True)\n",
    "        ax.set_ylabel('{} (M$ \\Omega $)'.format(measure))\n",
    "        ax.set_xlabel('soma distance ($\\mu m$)')\n",
    "\n",
    "plotutils.save_figure(\n",
    "    'stn-full-vs-red_Zin-Ztr', fig=fig,\n",
    "    dir='/home/luye/cloudstore_m/notes/publications_lkmn/ARTICLE_reduction/figures')"
   ]
  },
  {
   "cell_type": "code",
   "execution_count": null,
   "metadata": {},
   "outputs": [],
   "source": []
  }
 ],
 "metadata": {
  "anaconda-cloud": {},
  "kernelspec": {
   "display_name": "Python 2",
   "language": "python",
   "name": "python2"
  },
  "language_info": {
   "codemirror_mode": {
    "name": "ipython",
    "version": 2
   },
   "file_extension": ".py",
   "mimetype": "text/x-python",
   "name": "python",
   "nbconvert_exporter": "python",
   "pygments_lexer": "ipython2",
   "version": "2.7.16"
  },
  "toc": {
   "base_numbering": 1,
   "nav_menu": {},
   "number_sections": false,
   "sideBar": true,
   "skip_h1_title": false,
   "title_cell": "Table of Contents",
   "title_sidebar": "Contents",
   "toc_cell": false,
   "toc_position": {
    "height": "calc(100% - 180px)",
    "left": "10px",
    "top": "150px",
    "width": "210px"
   },
   "toc_section_display": true,
   "toc_window_display": true
  }
 },
 "nbformat": 4,
 "nbformat_minor": 1
}
