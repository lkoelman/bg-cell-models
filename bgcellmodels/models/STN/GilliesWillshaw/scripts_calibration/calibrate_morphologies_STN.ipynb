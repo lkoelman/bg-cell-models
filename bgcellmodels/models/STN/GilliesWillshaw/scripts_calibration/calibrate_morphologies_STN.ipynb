{
 "cells": [
  {
   "cell_type": "markdown",
   "metadata": {},
   "source": [
    "# Setup\n",
    "\n",
    "## Load Modules"
   ]
  },
  {
   "cell_type": "code",
   "execution_count": 1,
   "metadata": {},
   "outputs": [],
   "source": [
    "# Standard library\n",
    "import os.path\n",
    "\n",
    "# External modules\n",
    "from neuron import h\n",
    "import bluepyopt.ephys as ephys\n",
    "\n",
    "# Our modules\n",
    "from bgcellmodels.common import electrotonic, treeutils\n",
    "from bgcellmodels.morphology import morph_ni\n",
    "\n",
    "from bgcellmodels.models.STN.GilliesWillshaw import mechanisms\n",
    "from bgcellmodels.models.STN import Miocinovic2006 as miocinovic\n",
    "from bgcellmodels.models.axon.mcintyre2002 import AxonMcintyre2002"
   ]
  },
  {
   "cell_type": "markdown",
   "metadata": {},
   "source": [
    "## Settings"
   ]
  },
  {
   "cell_type": "code",
   "execution_count": 2,
   "metadata": {},
   "outputs": [],
   "source": [
    "template = 'STN_morph_arcdist'\n",
    "miocinovic.load_template(template)\n",
    "template_constructor = getattr(h, template)\n",
    "\n",
    "# Global variables\n",
    "nrnsim = ephys.simulators.NrnSimulator(dt=0.025, cvode_active=False)"
   ]
  },
  {
   "cell_type": "markdown",
   "metadata": {},
   "source": [
    "# Miocinovic (2006)"
   ]
  },
  {
   "cell_type": "markdown",
   "metadata": {},
   "source": [
    "## Make Cell"
   ]
  },
  {
   "cell_type": "code",
   "execution_count": 3,
   "metadata": {},
   "outputs": [
    {
     "name": "stdout",
     "output_type": "stream",
     "text": [
      "One point section Import3d_Section[1] ending at line 2 has been removed\n",
      "\tand child Import3d_Section[24] reattached\n",
      "Created 21 extra segments to satisfy Hines' rule\n",
      "maximum dendrite length in STN_morph_arcdist[0]  is 857.16795 \n"
     ]
    },
    {
     "data": {
      "text/plain": [
       "0.0"
      ]
     },
     "execution_count": 3,
     "metadata": {},
     "output_type": "execute_result"
    }
   ],
   "source": [
    "# Instantiate template\n",
    "icell = template_constructor()\n",
    "icell.with_extracellular = 0\n",
    "\n",
    "# Load morphology into template\n",
    "morph_path = os.path.join(miocinovic.pkg_dir, 'morphologies/type1RD_axonless-with-AIS.swc')\n",
    "morphology = ephys.morphologies.NrnFileMorphology(morph_path, do_replace_axon=False)\n",
    "morphology.instantiate(sim=nrnsim, icell=icell)\n",
    "\n",
    "# Setup biophysical properties\n",
    "icell.del_unused_sections()\n",
    "icell.insert_biophys()\n",
    "nseg_extra = electrotonic.set_min_nseg_hines(icell.all, f_lambda=100.0)\n",
    "print(\"Created {} extra segments to satisfy Hines' rule\".format(nseg_extra))\n",
    "icell.set_biophys_spatial()"
   ]
  },
  {
   "cell_type": "code",
   "execution_count": 4,
   "metadata": {},
   "outputs": [
    {
     "ename": "AssertionError",
     "evalue": "",
     "output_type": "error",
     "traceback": [
      "\u001b[0;31m---------------------------------------------------------------------------\u001b[0m",
      "\u001b[0;31mAssertionError\u001b[0m                            Traceback (most recent call last)",
      "\u001b[0;32m<ipython-input-4-8ab4ac010edd>\u001b[0m in \u001b[0;36m<module>\u001b[0;34m()\u001b[0m\n\u001b[1;32m      8\u001b[0m \u001b[0maxon_initial_secs\u001b[0m \u001b[0;34m=\u001b[0m \u001b[0mlist\u001b[0m\u001b[0;34m(\u001b[0m\u001b[0micell\u001b[0m\u001b[0;34m.\u001b[0m\u001b[0maxonal\u001b[0m\u001b[0;34m)\u001b[0m\u001b[0;34m\u001b[0m\u001b[0m\n\u001b[1;32m      9\u001b[0m \u001b[0maxon_terminal_secs\u001b[0m \u001b[0;34m=\u001b[0m \u001b[0mtreeutils\u001b[0m\u001b[0;34m.\u001b[0m\u001b[0mleaf_sections\u001b[0m\u001b[0;34m(\u001b[0m\u001b[0maxon_initial_secs\u001b[0m\u001b[0;34m[\u001b[0m\u001b[0;36m0\u001b[0m\u001b[0;34m]\u001b[0m\u001b[0;34m,\u001b[0m \u001b[0msubtree\u001b[0m\u001b[0;34m=\u001b[0m\u001b[0mTrue\u001b[0m\u001b[0;34m)\u001b[0m\u001b[0;34m\u001b[0m\u001b[0m\n\u001b[0;32m---> 10\u001b[0;31m \u001b[0;32massert\u001b[0m \u001b[0mlen\u001b[0m\u001b[0;34m(\u001b[0m\u001b[0maxon_terminal_secs\u001b[0m\u001b[0;34m)\u001b[0m \u001b[0;34m==\u001b[0m \u001b[0;36m0\u001b[0m\u001b[0;34m\u001b[0m\u001b[0m\n\u001b[0m\u001b[1;32m     11\u001b[0m \u001b[0maxon_end_sec\u001b[0m \u001b[0;34m=\u001b[0m \u001b[0maxon_terminal_secs\u001b[0m\u001b[0;34m[\u001b[0m\u001b[0;36m0\u001b[0m\u001b[0;34m]\u001b[0m\u001b[0;34m\u001b[0m\u001b[0m\n\u001b[1;32m     12\u001b[0m \u001b[0;34m\u001b[0m\u001b[0m\n",
      "\u001b[0;31mAssertionError\u001b[0m: "
     ]
    }
   ],
   "source": [
    "# Load axon coordinates\n",
    "streamline_path = '/home/luye/Documents/mri_data/Waxholm_rat_brain_atlas/WHS_DTI_v1_ALS/S56280_track_filter-ROI-STN.tck'\n",
    "axon_builder = AxonMcintyre2002()\n",
    "tracks_coords = morph_ni.load_streamlines(streamline_path, max_num=1, min_length=2.0)\n",
    "axon_coords = tracks_coords[0]\n",
    "\n",
    "# Build axon\n",
    "axon_initial_secs = list(icell.axonal)\n",
    "axon_terminal_secs = treeutils.leaf_sections(axon_initial_secs[0], subtree=True)\n",
    "assert len(axon_terminal_secs) == 1\n",
    "axon_end_sec = axon_terminal_secs[0]\n",
    "\n",
    "axon = axon_builder.build_along_streamline(axon_coords,\n",
    "            terminate='nodal_cutoff', interp_method='cartesian',\n",
    "            parent_cell=icell, parent_sec=axon_end_sec,\n",
    "            connection_method='translate_axon_start')"
   ]
  },
  {
   "cell_type": "markdown",
   "metadata": {},
   "source": [
    "## Electrotonic Properties"
   ]
  },
  {
   "cell_type": "code",
   "execution_count": null,
   "metadata": {},
   "outputs": [],
   "source": []
  },
  {
   "cell_type": "markdown",
   "metadata": {},
   "source": [
    "## Stimulation Protocols"
   ]
  },
  {
   "cell_type": "code",
   "execution_count": null,
   "metadata": {},
   "outputs": [],
   "source": []
  },
  {
   "cell_type": "markdown",
   "metadata": {},
   "source": [
    "# Bevan, Chu (2016)\n",
    "\n",
    "Can be found on neuromorpho.org using following searches\n",
    "- [keyword 'subthalamic', sorty by archive](http://neuromorpho.org/KeywordBrowseView.jsp?count=52&keywords=%22subthalamic%22&browseBy=archive)\n",
    "- [search by brain region 'basal ganglia'](http://neuromorpho.org/byregion.jsp#top)"
   ]
  },
  {
   "cell_type": "code",
   "execution_count": null,
   "metadata": {},
   "outputs": [],
   "source": []
  }
 ],
 "metadata": {
  "kernelspec": {
   "display_name": "Python 2",
   "language": "python",
   "name": "python2"
  },
  "language_info": {
   "codemirror_mode": {
    "name": "ipython",
    "version": 2
   },
   "file_extension": ".py",
   "mimetype": "text/x-python",
   "name": "python",
   "nbconvert_exporter": "python",
   "pygments_lexer": "ipython2",
   "version": "2.7.15"
  },
  "toc": {
   "base_numbering": 1,
   "nav_menu": {},
   "number_sections": false,
   "sideBar": true,
   "skip_h1_title": false,
   "title_cell": "Table of Contents",
   "title_sidebar": "Contents",
   "toc_cell": false,
   "toc_position": {
    "height": "calc(100% - 180px)",
    "left": "10px",
    "top": "150px",
    "width": "217px"
   },
   "toc_section_display": true,
   "toc_window_display": true
  }
 },
 "nbformat": 4,
 "nbformat_minor": 2
}
