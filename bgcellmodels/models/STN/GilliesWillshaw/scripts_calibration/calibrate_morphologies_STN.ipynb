{
 "cells": [
  {
   "cell_type": "markdown",
   "metadata": {},
   "source": [
    "# Setup\n",
    "\n",
    "## Load Modules"
   ]
  },
  {
   "cell_type": "code",
   "execution_count": null,
   "metadata": {},
   "outputs": [],
   "source": [
    "%matplotlib notebook\n",
    "\n",
    "# Standard library\n",
    "import os.path, logging, collections\n",
    "\n",
    "# External modules\n",
    "from neuron import h\n",
    "import matplotlib\n",
    "import matplotlib.pyplot as plt\n",
    "from mpl_toolkits.mplot3d import Axes3D\n",
    "import bluepyopt.ephys as ephys\n",
    "\n",
    "# Our modules\n",
    "from bgcellmodels.common import electrotonic, treeutils, analysis, logutils\n",
    "from bgcellmodels.morphology import morph_ni, morph_gui\n",
    "\n",
    "from bgcellmodels.models.STN import GilliesWillshaw as gillies\n",
    "from bgcellmodels.models.STN import Miocinovic2006 as miocinovic\n",
    "from bgcellmodels.models.axon.mcintyre2002 import AxonMcintyre2002"
   ]
  },
  {
   "cell_type": "markdown",
   "metadata": {},
   "source": [
    "## Settings"
   ]
  },
  {
   "cell_type": "code",
   "execution_count": null,
   "metadata": {},
   "outputs": [],
   "source": [
    "gillies.load_mechanisms()\n",
    "default_template = 'STN_morph_arcdist'\n",
    "\n",
    "class CellModel(object):\n",
    "    \"\"\" Wrapper class to store NEURON cell data. \"\"\"\n",
    "    pass\n",
    "\n",
    "# Global variables\n",
    "nrnsim = ephys.simulators.NrnSimulator(dt=0.025, cvode_active=False)\n",
    "\n",
    "logger = logging.getLogger('STN_MORPH')\n",
    "logger.setLevel(logging.DEBUG)\n",
    "logging.basicConfig(format=logutils.DEFAULT_FORMAT)"
   ]
  },
  {
   "cell_type": "code",
   "execution_count": null,
   "metadata": {},
   "outputs": [],
   "source": [
    "# Plotting options\n",
    "page_width = 5.0\n",
    "fig_aspect_ratio = 2.2 # 8.0 / 3.0\n",
    "fig_width = 0.8 * page_width\n",
    "fig_height = fig_width / fig_aspect_ratio\n",
    "\n",
    "# Style of figures (default colors etc.): see https://matplotlib.org/gallery/style_sheets/style_sheets_reference.html\n",
    "plt.style.use('default')\n",
    "\n",
    "# fix bug for notebook backend where figures not shown\n",
    "if matplotlib.get_backend() == 'nbAgg':\n",
    "    from bgcellmodels.extensions.jupyter import jupyterutil\n",
    "    jupyterutil.notebook_show_figs_after_exception()"
   ]
  },
  {
   "cell_type": "markdown",
   "metadata": {},
   "source": [
    "## Functions"
   ]
  },
  {
   "cell_type": "code",
   "execution_count": null,
   "metadata": {},
   "outputs": [],
   "source": [
    "def template_with_morphology(template_name,\n",
    "                             morphology_path,\n",
    "                             streamlines_path,\n",
    "                             streamline_index=0,\n",
    "                             **kwargs):\n",
    "    \"\"\"\n",
    "    Instantiate template with given morphology and axon\n",
    "    \n",
    "    @param    **kwargs\n",
    "              All remaining keyword arguments are set as attributes\n",
    "              on the instantiated template.\n",
    "    \"\"\"\n",
    "    miocinovic.load_template(template_name) # xopen -> loads once\n",
    "    template_constructor = getattr(h, template_name)\n",
    "    \n",
    "    # Instantiate template\n",
    "    icell = template_constructor()\n",
    "    icell.with_extracellular = 0\n",
    "    for k,v in kwargs.items():\n",
    "        setattr(icell, k, v)\n",
    "    \n",
    "    wrapper = CellModel()\n",
    "    wrapper.icell = icell\n",
    "\n",
    "    # Load morphology into template\n",
    "    morphology = ephys.morphologies.NrnFileMorphology(morphology_path, do_replace_axon=False)\n",
    "    morphology.instantiate(sim=nrnsim, icell=icell)\n",
    "\n",
    "    # Setup biophysical properties\n",
    "    icell.del_unused_sections()\n",
    "    icell.insert_biophys()\n",
    "    nseg_extra = electrotonic.set_min_nseg_hines(icell.all, f_lambda=100.0)\n",
    "    print(\"Created {} extra segments to satisfy Hines' rule\".format(nseg_extra))\n",
    "    icell.set_biophys_spatial()\n",
    "\n",
    "    if streamlines_path is not None:\n",
    "        # Load axon coordinates\n",
    "        axon_builder = AxonMcintyre2002(logger=logger)\n",
    "        tracks_coords = morph_ni.load_streamlines(streamlines_path, max_num=1, min_length=2.0)\n",
    "        axon_coords = tracks_coords[0]\n",
    "\n",
    "        # Build axon\n",
    "        axon_initial_secs = list(icell.axonal)\n",
    "        axon_terminal_secs = treeutils.leaf_sections(axon_initial_secs[0], subtree=True)\n",
    "        assert len(axon_terminal_secs) == 1\n",
    "        axon_end_sec = axon_terminal_secs[0]\n",
    "\n",
    "        axon = axon_builder.build_along_streamline(axon_coords,\n",
    "                    terminate='nodal_cutoff', interp_method='cartesian',\n",
    "                    parent_cell=icell, parent_sec=axon_end_sec,\n",
    "                    connection_method='translate_axon_start')\n",
    "    \n",
    "        wrapper.axon = axon\n",
    "\n",
    "    return wrapper\n",
    "\n",
    "\n",
    "def template_predefined_morphology(template_name='STN_morph_type1RD', with_extracellular=False):\n",
    "    \"\"\"\n",
    "    Load template with built-in morphology.\n",
    "    \"\"\"\n",
    "    miocinovic.load_template(template_name) # xopen -> loads once\n",
    "    template_constructor = getattr(h, template_name)\n",
    "    \n",
    "    # Instantiate template\n",
    "    icell = template_constructor(with_extracellular)\n",
    "    return icell"
   ]
  },
  {
   "cell_type": "markdown",
   "metadata": {},
   "source": [
    "## Measurement"
   ]
  },
  {
   "cell_type": "code",
   "execution_count": null,
   "metadata": {},
   "outputs": [],
   "source": [
    "electrotonic_measures = {\n",
    "    'Ztransfer': {\n",
    "        'function': electrotonic.measure_transfer_impedance,\n",
    "        'label': 'Transfer impedance',\n",
    "        'units': 'Ohm',\n",
    "    },\n",
    "    'Ai': {\n",
    "        'function': electrotonic.measure_current_transfer,\n",
    "        'label': 'Current transfer ratio',\n",
    "        'units': 'ratio',\n",
    "    },\n",
    "    'Av': {\n",
    "        'function': electrotonic.measure_voltage_transfer,\n",
    "        'label': 'Voltage transfer ratio',\n",
    "        'units': 'ratio',\n",
    "    },\n",
    "    'Zin': {\n",
    "        'function': electrotonic.measure_input_impedance,\n",
    "        'label': 'Input impedance',\n",
    "        'units': 'Ohm',\n",
    "    }\n",
    "}\n",
    "\n",
    "def plot_electrotonic_structure(root, leaves, measures=None, freq=25.0):\n",
    "    \"\"\"\n",
    "    Plot electrotonic properties along dendritic paths.\n",
    "    \"\"\"\n",
    "    if measures is None:\n",
    "        plotted_measures = electrotonic_measures.keys()\n",
    "    else:\n",
    "        plotted_measures = measures\n",
    "    measure_funcs = {measure: electrotonic_measures[measure]['function'] for measure in plotted_measures}\n",
    "        \n",
    "    # Do measurement\n",
    "    leaf_path_measurements = electrotonic.measure_along_paths(root, leaves, measure_funcs, freq=freq)\n",
    "\n",
    "    # Plot measurements\n",
    "    fig, axes = plt.subplots(len(plotted_measures))\n",
    "\n",
    "#     measures_ylims = {\n",
    "#         'Ztransfer': (0, 50),\n",
    "#         'Ai': (0.5, 1.05),\n",
    "#         'Av': (0, 1.1),\n",
    "#         'Zin': (0, 1000.0),\n",
    "#     }\n",
    "\n",
    "    for i, measure in enumerate(plotted_measures):\n",
    "        ax = axes[i]\n",
    "\n",
    "        # Plot the same measure for each leaf in the same axis\n",
    "        for j, leaf in enumerate(leaves):\n",
    "            ax.plot(leaf_path_measurements[j]['pathlen_micron'],\n",
    "                    leaf_path_measurements[j][measure],\n",
    "                    label=leaf.name())\n",
    "\n",
    "            # ax.set_ylim(measures_ylims[measure])\n",
    "            # ax.legend()\n",
    "            ax.grid(True)\n",
    "            ax.set_ylabel('{} ({})'.format(measure, electrotonic_measures[measure]['units']))\n",
    "            ax.set_title(electrotonic_measures[measure]['label'])\n",
    "    \n",
    "    # prevent clipped xlabel\n",
    "    # fig.subplots_adjust(hspace=0.5)\n",
    "    # fig.tight_layout()\n",
    "    return leaf_path_measurements"
   ]
  },
  {
   "cell_type": "code",
   "execution_count": null,
   "metadata": {},
   "outputs": [],
   "source": [
    "import numpy as np\n",
    "\n",
    "def get_sample(sec, i):\n",
    "    return np.array([h.x3d(i, sec=sec), h.y3d(i, sec=sec), h.z3d(i, sec=sec), h.diam3d(i, sec=sec)])"
   ]
  },
  {
   "cell_type": "markdown",
   "metadata": {},
   "source": [
    "## Protocols"
   ]
  },
  {
   "cell_type": "code",
   "execution_count": null,
   "metadata": {},
   "outputs": [],
   "source": [
    "def setup_protocol_SPONT():\n",
    "    # Gillies (2006) - Fig. 3.B (25 deg, 8Hz), 3.C (35 deg, 12 Hz)\n",
    "    h.dt = 0.025\n",
    "    h.tstop = 2000\n",
    "\n",
    "    h.celsius = 35 # different temp from paper (fig 3B: 25degC, fig. 3C: 35degC)\n",
    "    h.v_init = -60 # paper simulations use default v_init\n",
    "    # h.set_aCSF(4) # Set initial ion concentrations from Bevan & Wilson (1999)\n",
    "\n",
    "    h.init()\n",
    "    return {}\n",
    "\n",
    "\n",
    "def setup_protocol_REBOUND(icell):\n",
    "    # Gillies (2006) - Fig. 3.D, 4 (altered conductances)\n",
    "    # Original code used -0.25 nA current to hyperpolarize to -75 mV steady state\n",
    "    clamp = h.SEClamp(icell.soma[0](0.5))\n",
    "    clamp.dur1 = 0\n",
    "    clamp.dur2 = 0\n",
    "    clamp.dur3 = 500\n",
    "    clamp.amp3 = -75\n",
    "    \n",
    "    h.dt = 0.025\n",
    "    h.tstop = 2000\n",
    "\n",
    "    h.celsius = 35 # different temp from paper (fig 3B: 25degC, fig. 3C: 35degC)\n",
    "    h.v_init = -60 # paper simulations use default v_init\n",
    "    # h.set_aCSF(4) # Set initial ion concentrations from Bevan & Wilson (1999)\n",
    "\n",
    "    h.init()\n",
    "    return {'electrodes': [clamp]}\n",
    "\n",
    "\n",
    "def setup_protocol_PLATEAU(icell):\n",
    "    # Gillies (2006) - Fig. 10.C\n",
    "    # Protocol: hyperpolarization to -70 mV using constant current,\n",
    "    # then apply 0.2 nA, 50 ms depolarizing pulse, return to constant hyperpolarizing current\n",
    "    soma = icell.soma[0]\n",
    "\n",
    "    # Current clamp parameters\n",
    "    amp_hyper = -0.17           # SETPARAM: adjust amplitude for hyperpolarizing to - 70 mV\n",
    "    amp_pulse = amp_hyper + 0.2 # SETPARAM: adjust depolarizing pulse amplitude based on input resistance\n",
    "\n",
    "    dur_pulse = 50 \n",
    "    del_pulse = 1000\n",
    "\n",
    "    # Make current clamps\n",
    "    try:\n",
    "        del clamp\n",
    "    except NameError:\n",
    "        pass\n",
    "    stim1, stim2, stim3 = [h.IClamp(soma(0.5)) for i in range(3)]\n",
    "\n",
    "    stim1.delay = 0\n",
    "    stim1.dur = del_pulse\n",
    "    stim1.amp = amp_hyper\n",
    "\n",
    "    stim2.delay = del_pulse\n",
    "    stim2.dur = dur_pulse\n",
    "    stim2.amp = amp_pulse\n",
    "\n",
    "    stim3.delay = del_pulse + dur_pulse\n",
    "    stim3.dur = h.tstop - stim3.delay\n",
    "    stim3.amp = amp_hyper\n",
    "\n",
    "    h.dt = 0.025\n",
    "    h.tstop = 1500\n",
    "\n",
    "    h.celsius = 30 # different temp from paper (fig 3B: 25degC, fig. 3C: 35degC)\n",
    "    h.v_init = -60 # paper simulations use default v_init\n",
    "    # h.set_aCSF(4) # Set initial ion concentrations from Bevan & Wilson (1999)\n",
    "\n",
    "    h.init()\n",
    "    return {'electrodes': [stim1, stim2, stim3]}"
   ]
  },
  {
   "cell_type": "markdown",
   "metadata": {},
   "source": [
    "# Gillies (2005)"
   ]
  },
  {
   "cell_type": "markdown",
   "metadata": {},
   "source": [
    "## Make Cell"
   ]
  },
  {
   "cell_type": "code",
   "execution_count": null,
   "metadata": {},
   "outputs": [],
   "source": [
    "gillies.load_template('STN_gillies_network')\n",
    "icell = h.make_stn_cell_ref()\n",
    "\n",
    "soma = icell.soma[0]\n",
    "dendritic = list(icell.basal)\n",
    "\n",
    "distal_seg = dendritic[8](0.75)\n",
    "middle_seg = dendritic[20](0.25)\n",
    "proximal_seg = dendritic[24](0.5)"
   ]
  },
  {
   "cell_type": "code",
   "execution_count": null,
   "metadata": {},
   "outputs": [],
   "source": [
    "# TODO: look in calibrate_synapses_STN.ipynb, stn_model_evaluation.py, proto_gillies_article.py\n",
    "rec_secs = {\n",
    "    'soma': soma,\n",
    "    'prox': proximal_seg,\n",
    "    'mid': middle_seg,\n",
    "    'dist': distal_seg,\n",
    "}\n",
    "\n",
    "trace_specs = collections.OrderedDict([\n",
    "    ('V_soma', {'var':'v', 'sec':'soma', 'loc':0.5}),\n",
    "    ('V_prox', {'var':'v', 'seg':'prox'}),\n",
    "    ('V_mid', {'var':'v', 'seg':'mid'}),\n",
    "    ('V_dist', {'var':'v', 'seg':'dist'}),\n",
    "])\n",
    "\n",
    "# Record\n",
    "rec_dt = 0.05\n",
    "vec_dict, markers = analysis.recordTraces(rec_secs, trace_specs, rec_dt)"
   ]
  },
  {
   "cell_type": "markdown",
   "metadata": {},
   "source": [
    "## Cell Properties"
   ]
  },
  {
   "cell_type": "code",
   "execution_count": null,
   "metadata": {},
   "outputs": [],
   "source": [
    "leaves = treeutils.leaf_sections(list(icell.basal)[0], subtree=True)\n",
    "root = soma"
   ]
  },
  {
   "cell_type": "code",
   "execution_count": null,
   "metadata": {
    "scrolled": false
   },
   "outputs": [],
   "source": [
    "soma_Zin = {\n",
    "    f : electrotonic.measure_input_impedance(soma(0.5), freq=f, linearize_gating=False)\n",
    "                for f in (0.0, 100.0)\n",
    "}\n",
    "\n",
    "print(\"Somatic input impedances are: \\n\\n\\t\" + \"\\n\\t\".join(\n",
    "        [\"Zin(f={}) = {} (MOhm)\".format(f, Z) for f,Z in soma_Zin.items()]))\n",
    "\n",
    "measurements = plot_electrotonic_structure(root, leaves)"
   ]
  },
  {
   "cell_type": "markdown",
   "metadata": {},
   "source": [
    "## Protocol SPONT"
   ]
  },
  {
   "cell_type": "code",
   "execution_count": null,
   "metadata": {},
   "outputs": [],
   "source": [
    "# Gillies (2006) - Fig. 3.B (25 deg, 8Hz), 3.C (35 deg, 12 Hz)\n",
    "setup_protocol_SPONT()\n",
    "h.set_aCSF(4) # Set initial ion concentrations from Bevan & Wilson (1999)\n",
    "h.run()"
   ]
  },
  {
   "cell_type": "code",
   "execution_count": null,
   "metadata": {},
   "outputs": [],
   "source": [
    "figs_vm = analysis.plotTraces(vec_dict, rec_dt, traceSharex=True)"
   ]
  },
  {
   "cell_type": "markdown",
   "metadata": {},
   "source": [
    "## Protocol REBOUND"
   ]
  },
  {
   "cell_type": "code",
   "execution_count": null,
   "metadata": {},
   "outputs": [],
   "source": [
    "# Gillies (2006) - Fig. 3.D, 4 (altered conductances)\n",
    "protocol = setup_protocol_REBOUND(icell)\n",
    "h.set_aCSF(4) # Set initial ion concentrations from Bevan & Wilson (1999)\n",
    "h.run()"
   ]
  },
  {
   "cell_type": "code",
   "execution_count": null,
   "metadata": {},
   "outputs": [],
   "source": [
    "figs_vm = analysis.plotTraces(vec_dict, rec_dt, traceSharex=True)"
   ]
  },
  {
   "cell_type": "markdown",
   "metadata": {},
   "source": [
    "## Protocol PLATEAU"
   ]
  },
  {
   "cell_type": "code",
   "execution_count": null,
   "metadata": {},
   "outputs": [],
   "source": [
    "# Gillies (2006) - Fig. 10.C\n",
    "# Protocol: hyperpolarization to -70 mV using constant current,\n",
    "# then apply 0.2 nA, 50 ms depolarizing pulse, return to constant hyperpolarizing current\n",
    "protocol = setup_protocol_PLATEAU(icell)\n",
    "h.set_aCSF(4) # Set initial ion concentrations from Bevan & Wilson (1999)\n",
    "h.run()"
   ]
  },
  {
   "cell_type": "code",
   "execution_count": null,
   "metadata": {},
   "outputs": [],
   "source": [
    "figs_vm = analysis.plotTraces(vec_dict, rec_dt, traceSharex=True)"
   ]
  },
  {
   "cell_type": "markdown",
   "metadata": {},
   "source": [
    "# Gillies from SWC"
   ]
  },
  {
   "cell_type": "markdown",
   "metadata": {},
   "source": [
    "## Make Cell"
   ]
  },
  {
   "cell_type": "code",
   "execution_count": null,
   "metadata": {},
   "outputs": [],
   "source": [
    "from bgcellmodels.models.STN.Miocinovic2006 import miocinovic_pynn_model as mio_pynn\n",
    "\n",
    "morphology_path = os.path.join(miocinovic.pkg_dir, 'morphologies/gillies_original.swc')\n",
    "streamlines_path = '/home/luye/Documents/mri_data/Waxholm_rat_brain_atlas/WHS_DTI_v1_ALS/S56280_ROI-STN-bilateral.tck'\n",
    "template_name = 'STN_morph_arcdist'\n",
    "\n",
    "model = mio_pynn.GilliesSwcModel(\n",
    "            template_name='STN_morph_arcdist',\n",
    "            morphology_path=morphology_path,\n",
    "            streamlines_path=streamlines_path,\n",
    "            axon_class=AxonMcintyre2002,\n",
    "            without_extracellular=True)\n",
    "\n",
    "icell = model.icell"
   ]
  },
  {
   "cell_type": "code",
   "execution_count": null,
   "metadata": {},
   "outputs": [],
   "source": [
    "soma = icell.soma[0]\n",
    "dendritic = list(icell.basal)\n",
    "axonal = list(icell.axonal)\n",
    "\n",
    "# indices for morphology 'type1RD_axonless-with-AIS'\n",
    "distal_seg = icell.dend[7](0.8)\n",
    "middle_seg = icell.dend[25](0.2)\n",
    "proximal_seg = icell.dend[0](0.5)\n",
    "\n",
    "axon_leaf_secs = treeutils.leaf_sections(list(icell.axonal)[0], subtree=True)\n",
    "dend_leaf_secs = treeutils.leaf_sections(soma, subtree=True)\n",
    "assert len(axon_leaf_secs) == 1, \"More than one axon terminal section.\"\n",
    "\n",
    "leaves = dend_leaf_secs\n",
    "root = icell.soma[0]\n",
    "axon_terminal = axon_leaf_secs[0]\n",
    "\n",
    "rec_secs = {\n",
    "    'soma': soma,\n",
    "    'prox': proximal_seg,\n",
    "    'mid': middle_seg,\n",
    "    'dist': distal_seg,\n",
    "    'ax_prox': model.axon['node'][0], # axonal[int(0.2 * len(axonal))],\n",
    "    'ax_mid': model.axon['node'][1], # axonal[int(0.5 * len(axonal))],\n",
    "    'ax_dist': model.axon['node'][2], # axonal[int(0.8 * len(axonal))],\n",
    "    'ax_term': model.axon['node'][3], # axon_terminal,\n",
    "}"
   ]
  },
  {
   "cell_type": "markdown",
   "metadata": {},
   "source": [
    "# Miocinovic (2006)"
   ]
  },
  {
   "cell_type": "markdown",
   "metadata": {},
   "source": [
    "## Make Cell"
   ]
  },
  {
   "cell_type": "code",
   "execution_count": null,
   "metadata": {},
   "outputs": [],
   "source": [
    "#########################################################\n",
    "# GENERIC TEMPLATE\n",
    "\n",
    "# SETPARAM: morphology, axon/streamline, Hoc template\n",
    "morphology_path = os.path.join(miocinovic.pkg_dir, 'morphologies/type1RD_axonless-with-AIS.swc')\n",
    "streamlines_path = None # '/home/luye/Documents/mri_data/Waxholm_rat_brain_atlas/WHS_DTI_v1_ALS/S56280_track_filter-ROI-STN.tck'\n",
    "template_name = 'STN_morph_arcdist' # default_template, 'STN_morph_cartdist', STN_morph_arcdist\n",
    "\n",
    "model = template_with_morphology(\n",
    "                template_name, morphology_path,\n",
    "                streamlines_path, streamline_index=0)\n",
    "\n",
    "icell = model.icell\n",
    "\n",
    "# PREDEFINED TEMPLATE\n",
    "# icell = template_predefined_morphology()\n",
    "\n",
    "# Verify axon creation:\n",
    "# print(list(icell.axonal))\n",
    "# h.topology()"
   ]
  },
  {
   "cell_type": "code",
   "execution_count": null,
   "metadata": {},
   "outputs": [],
   "source": [
    "soma = icell.soma[0]\n",
    "dendritic = list(icell.basal)\n",
    "axonal = list(icell.axonal)\n",
    "\n",
    "# indices for morphology 'type1RD_axonless-with-AIS'\n",
    "distal_seg = icell.dend[59](0.9) # 15,19,21,26,58,59,49,60,51\n",
    "middle_seg = icell.dend[31](0.5) # 57, 31, 12\n",
    "proximal_seg = icell.dend[8](0.2) # 8, 22, 29, 42\n",
    "\n",
    "axon_leaf_secs = treeutils.leaf_sections(list(icell.axonal)[0], subtree=True)\n",
    "dend_leaf_secs = treeutils.leaf_sections(soma, subtree=True)\n",
    "assert len(axon_leaf_secs) == 1, \"More than one axon terminal section.\"\n",
    "\n",
    "leaves = dend_leaf_secs\n",
    "root = icell.soma[0]\n",
    "axon_terminal = axon_leaf_secs[0]\n",
    "\n",
    "rec_secs = {\n",
    "    'soma': soma,\n",
    "    'prox': proximal_seg,\n",
    "    'mid': middle_seg,\n",
    "    'dist': distal_seg,\n",
    "    'ax_prox': axonal[int(0.2 * len(axonal))],\n",
    "    'ax_mid': axonal[int(0.5 * len(axonal))],\n",
    "    'ax_dist': axonal[int(0.8 * len(axonal))],\n",
    "    'ax_term': axon_terminal,\n",
    "}"
   ]
  },
  {
   "cell_type": "markdown",
   "metadata": {},
   "source": [
    "# Run Protocols"
   ]
  },
  {
   "cell_type": "code",
   "execution_count": null,
   "metadata": {},
   "outputs": [],
   "source": [
    "trace_specs = collections.OrderedDict([\n",
    "    ('V_soma', {'var':'v', 'sec':'soma', 'loc':0.5}),\n",
    "    ('V_prox', {'var':'v', 'seg':'prox'}),\n",
    "    ('V_mid', {'var':'v', 'seg':'mid'}),\n",
    "    ('V_dist', {'var':'v', 'seg':'dist'}),\n",
    "    ('V_axprox', {'var':'v', 'sec':'ax_prox', 'loc':0.5}),\n",
    "    ('V_axmid', {'var':'v', 'sec':'ax_mid', 'loc':0.5}),\n",
    "    ('V_axdist', {'var':'v', 'sec':'ax_dist', 'loc':0.5}),\n",
    "    ('V_axterm', {'var':'v', 'sec':'ax_term', 'loc':0.5}),\n",
    "])\n",
    "\n",
    "# Record\n",
    "rec_dt = 0.05\n",
    "vec_dict, markers = analysis.recordTraces(rec_secs, trace_specs, rec_dt)"
   ]
  },
  {
   "cell_type": "markdown",
   "metadata": {},
   "source": [
    "## Cell Properties"
   ]
  },
  {
   "cell_type": "code",
   "execution_count": null,
   "metadata": {},
   "outputs": [],
   "source": [
    "# from neuron import gui\n",
    "h.topology()"
   ]
  },
  {
   "cell_type": "code",
   "execution_count": null,
   "metadata": {},
   "outputs": [],
   "source": [
    "# First draw skeleton to get an idea\n",
    "# plt.figure()\n",
    "# ax = plt.subplot(111, projection='3d')\n",
    "# ax.view_init(90,90) # set azimut and elevation\n",
    "# ax.set_zlim((-1,1)) # prevent rounding errors\n",
    "# ax.set_axis_off() # hide x,y,z axes and grid\n",
    "\n",
    "# # center = np.array([h.x3d(0, sec=soma), h.y3d(0, sec=soma), h.z3d(0, sec=soma)])\n",
    "# x_soma = h.x3d(0, sec=soma)\n",
    "# y_soma = h.y3d(0, sec=soma)\n",
    "# ax.set_xlim((x_soma-200, x_soma+200))\n",
    "# ax.set_ylim((y_soma-200, y_soma+200))\n",
    "\n",
    "\n",
    "# # Plot shape of our cell\n",
    "# morph_gui.shapeplot(h, ax)\n",
    "\n",
    "# # Mark location of leaf section to refer to plots\n",
    "# marker_colors = 'rgby'\n",
    "# for i, leaf_sec in enumerate(leaves):\n",
    "#     morph_gui.mark_locations(h, leaf_sec, 1.0, \n",
    "#                              label=leaf_sec.name(),\n",
    "#                              markspec='o'+marker_colors[i])\n",
    "\n",
    "# plt.legend()\n",
    "# plt.show()"
   ]
  },
  {
   "cell_type": "code",
   "execution_count": null,
   "metadata": {},
   "outputs": [],
   "source": [
    "soma_Zin = {\n",
    "    f : electrotonic.measure_input_impedance(soma(0.5), freq=f, linearize_gating=False)\n",
    "                for f in (0.0, 100.0)\n",
    "}\n",
    "\n",
    "print(\"Somatic input impedances are: \\n\\n\\t\" + \"\\n\\t\".join(\n",
    "        [\"Zin(f={}) = {} (MOhm)\".format(f, Z) for f,Z in soma_Zin.items()]))\n",
    "\n",
    "measurements = plot_electrotonic_structure(root, leaves)"
   ]
  },
  {
   "cell_type": "markdown",
   "metadata": {},
   "source": [
    "## Protocol SPONT"
   ]
  },
  {
   "cell_type": "code",
   "execution_count": null,
   "metadata": {},
   "outputs": [],
   "source": [
    "# Gillies (2006) - Fig. 3.B (25 deg, 8Hz), 3.C (35 deg, 12 Hz)\n",
    "setup_protocol_SPONT()\n",
    "h.run()"
   ]
  },
  {
   "cell_type": "code",
   "execution_count": null,
   "metadata": {},
   "outputs": [],
   "source": [
    "figs_vm = analysis.plotTraces(vec_dict, rec_dt, traceSharex=True)"
   ]
  },
  {
   "cell_type": "markdown",
   "metadata": {},
   "source": [
    "## Protocol REBOUND"
   ]
  },
  {
   "cell_type": "code",
   "execution_count": null,
   "metadata": {},
   "outputs": [],
   "source": [
    "# Gillies (2006) - Fig. 3.D, 4 (altered conductances)\n",
    "protocol = setup_protocol_REBOUND(icell)\n",
    "h.run()"
   ]
  },
  {
   "cell_type": "code",
   "execution_count": null,
   "metadata": {},
   "outputs": [],
   "source": [
    "figs_vm = analysis.plotTraces(vec_dict, rec_dt, traceSharex=True)"
   ]
  },
  {
   "cell_type": "markdown",
   "metadata": {},
   "source": [
    "## Protocol PLATEAU"
   ]
  },
  {
   "cell_type": "code",
   "execution_count": null,
   "metadata": {},
   "outputs": [],
   "source": [
    "# Gillies (2006) - Fig. 10.C\n",
    "# Protocol: hyperpolarization to -70 mV using constant current,\n",
    "# then apply 0.2 nA, 50 ms depolarizing pulse, return to constant hyperpolarizing current\n",
    "protocol = setup_protocol_PLATEAU(icell)\n",
    "h.run()"
   ]
  },
  {
   "cell_type": "code",
   "execution_count": null,
   "metadata": {},
   "outputs": [],
   "source": [
    "figs_vm = analysis.plotTraces(vec_dict, rec_dt, traceSharex=True)"
   ]
  },
  {
   "cell_type": "markdown",
   "metadata": {},
   "source": [
    "# Bevan, Chu (2016)\n",
    "\n",
    "Can be found on neuromorpho.org using following searches\n",
    "- [keyword 'subthalamic', sorty by archive](http://neuromorpho.org/KeywordBrowseView.jsp?count=52&keywords=%22subthalamic%22&browseBy=archive)\n",
    "- [search by brain region 'basal ganglia'](http://neuromorpho.org/byregion.jsp#top)"
   ]
  },
  {
   "cell_type": "markdown",
   "metadata": {},
   "source": [
    "# Save Notebook"
   ]
  },
  {
   "cell_type": "code",
   "execution_count": null,
   "metadata": {},
   "outputs": [],
   "source": [
    "%%javascript\n",
    "require([\"base/js/namespace\"],function(Jupyter) {\n",
    "    Jupyter.notebook.save_checkpoint();\n",
    "});"
   ]
  },
  {
   "cell_type": "code",
   "execution_count": null,
   "metadata": {},
   "outputs": [],
   "source": [
    "from datetime import datetime\n",
    "nb_filename = 'calibrate_morphologies_STN.ipynb'\n",
    "report_filename = 'calibrate_morphologies_STN_{}_{}.html'.format(\n",
    "    template_name, datetime.now().strftime('%Y.%m.%d_%H.%M.%S'))\n",
    "!jupyter nbconvert $nb_filename --to html --template=toc2 --output $report_filename"
   ]
  },
  {
   "cell_type": "code",
   "execution_count": null,
   "metadata": {},
   "outputs": [],
   "source": []
  }
 ],
 "metadata": {
  "kernelspec": {
   "display_name": "Python 2",
   "language": "python",
   "name": "python2"
  },
  "language_info": {
   "codemirror_mode": {
    "name": "ipython",
    "version": 2
   },
   "file_extension": ".py",
   "mimetype": "text/x-python",
   "name": "python",
   "nbconvert_exporter": "python",
   "pygments_lexer": "ipython2",
   "version": "2.7.15"
  },
  "toc": {
   "base_numbering": 1,
   "nav_menu": {},
   "number_sections": false,
   "sideBar": true,
   "skip_h1_title": false,
   "title_cell": "Table of Contents",
   "title_sidebar": "Contents",
   "toc_cell": false,
   "toc_position": {
    "height": "calc(100% - 180px)",
    "left": "10px",
    "top": "150px",
    "width": "217px"
   },
   "toc_section_display": true,
   "toc_window_display": true
  }
 },
 "nbformat": 4,
 "nbformat_minor": 2
}
