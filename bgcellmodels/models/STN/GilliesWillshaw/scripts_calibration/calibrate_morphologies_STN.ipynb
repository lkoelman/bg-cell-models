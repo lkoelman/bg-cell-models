{
 "cells": [
  {
   "cell_type": "markdown",
   "metadata": {},
   "source": [
    "# Setup\n",
    "\n",
    "## Load Modules"
   ]
  },
  {
   "cell_type": "code",
   "execution_count": null,
   "metadata": {},
   "outputs": [],
   "source": [
    "%matplotlib notebook\n",
    "\n",
    "# Standard library\n",
    "import os.path\n",
    "\n",
    "# External modules\n",
    "from neuron import h\n",
    "import matplotlib.pyplot as plt\n",
    "from mpl_toolkits.mplot3d import Axes3D\n",
    "import bluepyopt.ephys as ephys\n",
    "\n",
    "# Our modules\n",
    "from bgcellmodels.common import electrotonic, treeutils\n",
    "from bgcellmodels.morphology import morph_ni, morph_gui\n",
    "\n",
    "from bgcellmodels.models.STN.GilliesWillshaw import mechanisms\n",
    "from bgcellmodels.models.STN import Miocinovic2006 as miocinovic\n",
    "from bgcellmodels.models.axon.mcintyre2002 import AxonMcintyre2002"
   ]
  },
  {
   "cell_type": "markdown",
   "metadata": {},
   "source": [
    "## Settings"
   ]
  },
  {
   "cell_type": "code",
   "execution_count": null,
   "metadata": {},
   "outputs": [],
   "source": [
    "default_template = 'STN_morph_arcdist'\n",
    "\n",
    "# Global variables\n",
    "nrnsim = ephys.simulators.NrnSimulator(dt=0.025, cvode_active=False)"
   ]
  },
  {
   "cell_type": "markdown",
   "metadata": {},
   "source": [
    "## Functions"
   ]
  },
  {
   "cell_type": "code",
   "execution_count": null,
   "metadata": {},
   "outputs": [],
   "source": [
    "def template_with_morphology(\n",
    "        template_name, morphology_path,\n",
    "        streamlines_path, streamline_index=0):\n",
    "    \"\"\"\n",
    "    Instantiate template with given morphology and axon\n",
    "    \"\"\"\n",
    "    miocinovic.load_template(template_name) # xopen -> loads once\n",
    "    template_constructor = getattr(h, template_name)\n",
    "    \n",
    "    # Instantiate template\n",
    "    icell = template_constructor()\n",
    "    icell.with_extracellular = 0\n",
    "\n",
    "    # Load morphology into template\n",
    "    \n",
    "    morphology = ephys.morphologies.NrnFileMorphology(morphology_path, do_replace_axon=False)\n",
    "    morphology.instantiate(sim=nrnsim, icell=icell)\n",
    "\n",
    "    # Setup biophysical properties\n",
    "    icell.del_unused_sections()\n",
    "    icell.insert_biophys()\n",
    "    nseg_extra = electrotonic.set_min_nseg_hines(icell.all, f_lambda=100.0)\n",
    "    print(\"Created {} extra segments to satisfy Hines' rule\".format(nseg_extra))\n",
    "    icell.set_biophys_spatial()\n",
    "\n",
    "    # Load axon coordinates\n",
    "    axon_builder = AxonMcintyre2002()\n",
    "    tracks_coords = morph_ni.load_streamlines(streamlines_path, max_num=1, min_length=2.0)\n",
    "    axon_coords = tracks_coords[0]\n",
    "\n",
    "    # Build axon\n",
    "    axon_initial_secs = list(icell.axonal)\n",
    "    axon_terminal_secs = treeutils.leaf_sections(axon_initial_secs[0], subtree=True)\n",
    "    assert len(axon_terminal_secs) == 1\n",
    "    axon_end_sec = axon_terminal_secs[0]\n",
    "\n",
    "    axon = axon_builder.build_along_streamline(axon_coords,\n",
    "                terminate='nodal_cutoff', interp_method='cartesian',\n",
    "                parent_cell=icell, parent_sec=axon_end_sec,\n",
    "                connection_method='translate_axon_start')\n",
    "\n",
    "    return icell"
   ]
  },
  {
   "cell_type": "markdown",
   "metadata": {},
   "source": [
    "# Miocinovic (2006)"
   ]
  },
  {
   "cell_type": "markdown",
   "metadata": {},
   "source": [
    "## Make Cell"
   ]
  },
  {
   "cell_type": "code",
   "execution_count": null,
   "metadata": {},
   "outputs": [],
   "source": [
    "morphology_path = os.path.join(miocinovic.pkg_dir, 'morphologies/type1RD_axonless-with-AIS.swc')\n",
    "streamlines_path = '/home/luye/Documents/mri_data/Waxholm_rat_brain_atlas/WHS_DTI_v1_ALS/S56280_track_filter-ROI-STN.tck'\n",
    "\n",
    "icell = template_with_morphology(\n",
    "                default_template, morphology_path,\n",
    "                streamlines_path, streamline_index=0)"
   ]
  },
  {
   "cell_type": "markdown",
   "metadata": {},
   "source": [
    "## Electrotonic Properties"
   ]
  },
  {
   "cell_type": "code",
   "execution_count": null,
   "metadata": {},
   "outputs": [],
   "source": [
    "# First draw skeleton to get an idea\n",
    "plt.figure()\n",
    "ax = plt.subplot(111, projection='3d')\n",
    "ax.view_init(90,90) # set azimut and elevation\n",
    "ax.set_zlim((-1,1)) # prevent rounding errors\n",
    "ax.set_axis_off() # hide x,y,z axes and grid\n",
    "\n",
    "# Plot shape of our cell\n",
    "h.define_shape(sec=soma)\n",
    "morph_gui.shapeplot(h, ax)\n",
    "\n",
    "# Mark location of leaf section to refer to plots\n",
    "marker_colors = 'rgby'\n",
    "for i, leaf_sec in enumerate(leaves[:2]):\n",
    "    morph_gui.mark_locations(h, leaf_sec, 1.0, \n",
    "                             label=leaf_sec.name(),\n",
    "                             markspec='o'+marker_colors[i])\n",
    "\n",
    "plt.legend()\n",
    "plt.show()"
   ]
  },
  {
   "cell_type": "code",
   "execution_count": null,
   "metadata": {},
   "outputs": [],
   "source": [
    "measure_funcs = {\n",
    "    'Ztransfer': electrotonic.measure_transfer_impedance,\n",
    "    'Ai': electrotonic.measure_current_transfer,\n",
    "    'Av': electrotonic.measure_voltage_transfer,\n",
    "    'Zin': electrotonic.measure_input_impedance,\n",
    "}\n",
    "\n",
    "leaf_path_measurements = electrotonic.measure_along_paths(root, leaves, distance_funcs)"
   ]
  },
  {
   "cell_type": "code",
   "execution_count": null,
   "metadata": {},
   "outputs": [],
   "source": [
    "plotted_measures = distance_funcs.keys()\n",
    "fig, axes = plt.subplots(len(plotted_measures))\n",
    "\n",
    "measures_ylims = {\n",
    "    'Ztransfer': (40, 70),\n",
    "    'Ai': (0.5, 1.05),\n",
    "    'Av': (0, 1.1),\n",
    "    'Zin': (0, 1000.0),\n",
    "}\n",
    "\n",
    "for i, measure in enumerate(plotted_measures):\n",
    "    ax = axes[i]\n",
    "    \n",
    "    # Plot the same measure for each leaf in the same axis\n",
    "    for j, leaf in enumerate(leaves[:2]):\n",
    "        ax.plot(leaf_path_measurements[j]['pathlen_micron'],\n",
    "                leaf_path_measurements[j][measure],\n",
    "                label=leaf.name())\n",
    "        \n",
    "        ax.set_ylim(measures_ylims[measure])\n",
    "        ax.legend() # show line labels\n",
    "        ax.grid(True)\n",
    "        ax.set_ylabel(measure)"
   ]
  },
  {
   "cell_type": "markdown",
   "metadata": {},
   "source": [
    "## Stimulation Protocols"
   ]
  },
  {
   "cell_type": "code",
   "execution_count": null,
   "metadata": {},
   "outputs": [],
   "source": [
    "# TODO: see evalmodel/stn_model_evaluation or use BluePyOpt wrapper classes for more general approach"
   ]
  },
  {
   "cell_type": "markdown",
   "metadata": {},
   "source": [
    "# Bevan, Chu (2016)\n",
    "\n",
    "Can be found on neuromorpho.org using following searches\n",
    "- [keyword 'subthalamic', sorty by archive](http://neuromorpho.org/KeywordBrowseView.jsp?count=52&keywords=%22subthalamic%22&browseBy=archive)\n",
    "- [search by brain region 'basal ganglia'](http://neuromorpho.org/byregion.jsp#top)"
   ]
  },
  {
   "cell_type": "code",
   "execution_count": null,
   "metadata": {},
   "outputs": [],
   "source": []
  }
 ],
 "metadata": {
  "kernelspec": {
   "display_name": "Python 2",
   "language": "python",
   "name": "python2"
  },
  "language_info": {
   "codemirror_mode": {
    "name": "ipython",
    "version": 2
   },
   "file_extension": ".py",
   "mimetype": "text/x-python",
   "name": "python",
   "nbconvert_exporter": "python",
   "pygments_lexer": "ipython2",
   "version": "2.7.15"
  },
  "toc": {
   "base_numbering": 1,
   "nav_menu": {},
   "number_sections": false,
   "sideBar": true,
   "skip_h1_title": false,
   "title_cell": "Table of Contents",
   "title_sidebar": "Contents",
   "toc_cell": false,
   "toc_position": {
    "height": "calc(100% - 180px)",
    "left": "10px",
    "top": "150px",
    "width": "217px"
   },
   "toc_section_display": true,
   "toc_window_display": true
  }
 },
 "nbformat": 4,
 "nbformat_minor": 2
}
