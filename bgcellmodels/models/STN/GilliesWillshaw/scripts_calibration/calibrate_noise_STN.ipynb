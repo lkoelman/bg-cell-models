{
 "cells": [
  {
   "cell_type": "markdown",
   "metadata": {},
   "source": [
    "# Prelude"
   ]
  },
  {
   "cell_type": "code",
   "execution_count": null,
   "metadata": {},
   "outputs": [],
   "source": [
    "%matplotlib notebook\n",
    "import matplotlib.pyplot as plt\n",
    "import numpy as np\n",
    "\n",
    "from bgcellmodels.common import analysis\n",
    "from bgcellmodels.mechanisms import noise, synapses\n",
    "\n",
    "import bgcellmodels.models.STN.GilliesWillshaw.gillies_model as gillies_model\n",
    "\n",
    "import neuron\n",
    "h = neuron.h"
   ]
  },
  {
   "cell_type": "markdown",
   "metadata": {},
   "source": [
    "# Create cell"
   ]
  },
  {
   "cell_type": "code",
   "execution_count": null,
   "metadata": {},
   "outputs": [],
   "source": [
    "soma, dends, stims = gillies_model.stn_cell_gillies()"
   ]
  },
  {
   "cell_type": "markdown",
   "metadata": {},
   "source": [
    "# Noise"
   ]
  },
  {
   "cell_type": "code",
   "execution_count": null,
   "metadata": {},
   "outputs": [],
   "source": [
    "sim_dur = 200.0\n",
    "sim_dt = 0.025\n",
    "\n",
    "# std of 0.005 - 0.01 seems to be good value\n",
    "mean, std = 0.0, 0.0075 # [mA/cm2]\n",
    "\n",
    "h.cvode_active(0)\n",
    "h.cvode.active(0)"
   ]
  },
  {
   "cell_type": "markdown",
   "metadata": {},
   "source": [
    "## InGauss Method"
   ]
  },
  {
   "cell_type": "code",
   "execution_count": null,
   "metadata": {},
   "outputs": [],
   "source": [
    "# RNG for noise source\n",
    "# rng = h.Random()\n",
    "# rng.MCellRan4(1, 1e9) # high_index can also be set using rng.seq()\n",
    "# rng.normal(0, 1)\n",
    "\n",
    "# gstim = h.InGauss(soma(0.5))\n",
    "# gstim.mean = mean\n",
    "# gstim.stdev = std * 1e-2 * sum((seg.area() for seg in soma))\n",
    "# gstim.delay = 5\n",
    "# gstim.per = sim_dt\n",
    "# gstim.dur = 1e9\n",
    "# gstim.noiseFromRandom(rng)\n",
    "\n",
    "# CONCLUSION\n",
    "# - increases simulation time by factor 30 (with or without RNG attached)\n",
    "# - 500 ms simulation = 1160 ms walltime"
   ]
  },
  {
   "cell_type": "markdown",
   "metadata": {},
   "source": [
    "## Ingauss2 Method"
   ]
  },
  {
   "cell_type": "code",
   "execution_count": null,
   "metadata": {},
   "outputs": [],
   "source": [
    "rng = h.Random()\n",
    "rng.MCellRan4(1, 1e9) # high_index can also be set using rng.seq()\n",
    "rng.normal(0, 1)\n",
    "\n",
    "gstim = h.ingauss2(soma(0.5))\n",
    "noise_amp = std # [mA/cm2]\n",
    "gstim.mean = mean\n",
    "gstim.stdev = noise_amp * 1e-2 * sum((seg.area() for seg in soma))\n",
    "gstim.noiseFromRandom(rng)\n",
    "\n",
    "# CONCLUSION\n",
    "# - 500 ms simulation = 1180 ms walltime"
   ]
  },
  {
   "cell_type": "markdown",
   "metadata": {},
   "source": [
    "## Vector.play() Method"
   ]
  },
  {
   "cell_type": "code",
   "execution_count": null,
   "metadata": {},
   "outputs": [],
   "source": [
    "# noise_samples = np.random.normal(mean, std, int(sim_dur/sim_dt))\n",
    "# noise_avec = h.Vector(noise_samples)\n",
    "# noise_tvec = h.Vector(np.arange(0, sim_dur+sim_dt, sim_dt))\n",
    "\n",
    "# stim = h.IClamp(soma(0.5))\n",
    "# stim.dur = 1e9\n",
    "# noise_avec.play(stim, stim._ref_amp, noise_tvec)\n",
    "\n",
    "# CONCLUSION\n",
    "# - increases simulation time by factor 20\n",
    "# - 500 ms simulation = 1200 ms walltime"
   ]
  },
  {
   "cell_type": "markdown",
   "metadata": {},
   "source": [
    "# Simulation"
   ]
  },
  {
   "cell_type": "code",
   "execution_count": null,
   "metadata": {},
   "outputs": [],
   "source": [
    "# Define traces\n",
    "rec_secs = {\n",
    "    'soma': soma,\n",
    "    'gstim': gstim,\n",
    "}\n",
    "\n",
    "trace_specs = {\n",
    "    'V_soma': {'var':'v', 'sec':'soma', 'loc':0.5},\n",
    "    'NaF_soma': {'var':'ina', 'mech': 'Na', 'sec':'soma', 'loc':0.5},\n",
    "    'I_noise': {'pointp':'gstim', 'var':'i'},\n",
    "}\n",
    "\n",
    "# Record\n",
    "rec_dt = 0.05\n",
    "vec_dict, markers = analysis.recordTraces(rec_secs, trace_specs, rec_dt)"
   ]
  },
  {
   "cell_type": "code",
   "execution_count": null,
   "metadata": {},
   "outputs": [],
   "source": [
    "%%time\n",
    "\n",
    "# Init and run simulation\n",
    "h.dt = sim_dt\n",
    "h.celsius = 35.0\n",
    "h.set_aCSF(4) # Hoc function defined in Gillies code\n",
    "h.v_init = -68.0\n",
    "h.tstop = sim_dur\n",
    "h.init()\n",
    "h.run()\n",
    "# nrnsim.run(h.tstop, h.dt)"
   ]
  },
  {
   "cell_type": "code",
   "execution_count": null,
   "metadata": {},
   "outputs": [],
   "source": [
    "# Automatic plots, no customization\n",
    "figs_vm = analysis.plotTraces(vec_dict, rec_dt, traceSharex=True) # yRange=(-80,40),"
   ]
  },
  {
   "cell_type": "code",
   "execution_count": null,
   "metadata": {},
   "outputs": [],
   "source": [
    "# Plot recorded traces\n",
    "plt.figure()\n",
    "v_soma = vec_dict['V_soma'].as_numpy()\n",
    "t_soma = np.arange(len(v_soma)) * rec_dt\n",
    "plt.plot(t_soma, v_soma)\n",
    "plt.grid(True)\n",
    "\n",
    "# Plot synaptic traces\n",
    "fig, ax = plt.subplots()\n",
    "ax.plot(t_soma, vec_dict['I_noise'].as_numpy(), 'b', label='I_noise')\n",
    "ax.set_ylabel('current (nA)')\n",
    "ax.legend()"
   ]
  },
  {
   "cell_type": "code",
   "execution_count": null,
   "metadata": {},
   "outputs": [],
   "source": []
  }
 ],
 "metadata": {
  "kernelspec": {
   "display_name": "Python 2",
   "language": "python",
   "name": "python2"
  },
  "language_info": {
   "codemirror_mode": {
    "name": "ipython",
    "version": 2
   },
   "file_extension": ".py",
   "mimetype": "text/x-python",
   "name": "python",
   "nbconvert_exporter": "python",
   "pygments_lexer": "ipython2",
   "version": "2.7.16"
  },
  "toc": {
   "base_numbering": 1,
   "nav_menu": {
    "height": "261px",
    "width": "251px"
   },
   "number_sections": false,
   "sideBar": true,
   "skip_h1_title": false,
   "title_cell": "Table of Contents",
   "title_sidebar": "Contents",
   "toc_cell": false,
   "toc_position": {
    "height": "881px",
    "left": "0px",
    "right": "1441px",
    "top": "67px",
    "width": "239px"
   },
   "toc_section_display": true,
   "toc_window_display": true
  }
 },
 "nbformat": 4,
 "nbformat_minor": 2
}
