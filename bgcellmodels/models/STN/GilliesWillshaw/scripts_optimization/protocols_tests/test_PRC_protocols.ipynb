{
 "cells": [
  {
   "cell_type": "markdown",
   "metadata": {},
   "source": [
    "# Imports"
   ]
  },
  {
   "cell_type": "code",
   "execution_count": null,
   "metadata": {},
   "outputs": [],
   "source": [
    "%matplotlib notebook\n",
    "\n",
    "import matplotlib.pyplot as plt\n",
    "import numpy as np"
   ]
  },
  {
   "cell_type": "code",
   "execution_count": null,
   "metadata": {},
   "outputs": [],
   "source": [
    "from bgcellmodels.models.STN.GilliesWillshaw.optimize.bpop_optimize_stn import *\n",
    "\n",
    "from bgcellmodels.common import logutils\n",
    "logutils.setLogLevel('quiet', ['marasco', 'folding', 'redops'])"
   ]
  },
  {
   "cell_type": "markdown",
   "metadata": {},
   "source": [
    "# Make Model"
   ]
  },
  {
   "cell_type": "markdown",
   "metadata": {},
   "source": [
    "## Model Type"
   ]
  },
  {
   "cell_type": "code",
   "execution_count": null,
   "metadata": {},
   "outputs": [],
   "source": [
    "# Make cell model\n",
    "\n",
    "# SETPARAM: full/reduced model\n",
    "model_type = StnModel.Gillies2005\n",
    "# model_type = StnModel.Gillies_FoldBush_Tapered # 'full', 'reduced', StnModel.Gillies_FoldBush_Tapered\n",
    "\n",
    "cellmodel = stn_models.make_cell_model(\n",
    "                        model_type,\n",
    "                        num_passes=7)"
   ]
  },
  {
   "cell_type": "markdown",
   "metadata": {},
   "source": [
    "## Model Params"
   ]
  },
  {
   "cell_type": "code",
   "execution_count": null,
   "metadata": {},
   "outputs": [],
   "source": [
    "# SETPARAM: Add model parameters\n",
    "# params_biophys = stn_params.dend_gbar_dist_params\n",
    "# cellmodel.add_params(params_biophys)"
   ]
  },
  {
   "cell_type": "code",
   "execution_count": null,
   "metadata": {
    "scrolled": false
   },
   "outputs": [],
   "source": [
    "# UNCOMMENT: Inspect model\n",
    "# sim = ephys.simulators.NrnSimulator(dt=0.025, cvode_active=False)\n",
    "# cellmodel.instantiate(sim=sim)\n",
    "# from neuron import gui"
   ]
  },
  {
   "cell_type": "markdown",
   "metadata": {},
   "source": [
    "# Run Protocols"
   ]
  },
  {
   "cell_type": "markdown",
   "metadata": {},
   "source": [
    "List Protocols"
   ]
  },
  {
   "cell_type": "code",
   "execution_count": null,
   "metadata": {},
   "outputs": [],
   "source": [
    "# SETPARAM: protocol\n",
    "all_protos = [k for k,v in PROTOCOL_WRAPPERS.items() if v is not None]\n",
    "# proto = StimProtocol.PRC_SYN_EXC_DIST\n",
    "# proto = StimProtocol.PRC_SYN_EXC_PROX\n",
    "# proto = StimProtocol.PRC_SYN_INH_PROX\n",
    "\n",
    "print(all_protos)"
   ]
  },
  {
   "cell_type": "markdown",
   "metadata": {},
   "source": [
    "## Spontaneous"
   ]
  },
  {
   "cell_type": "code",
   "execution_count": null,
   "metadata": {
    "scrolled": false
   },
   "outputs": [],
   "source": [
    "# Run protocol\n",
    "test_protocol(StimProtocol.SPONTANEOUS, cellmodel, export_locals=True)"
   ]
  },
  {
   "cell_type": "markdown",
   "metadata": {},
   "source": [
    "## Plateau"
   ]
  },
  {
   "cell_type": "code",
   "execution_count": null,
   "metadata": {},
   "outputs": [],
   "source": [
    "# Run protocol\n",
    "test_protocol(StimProtocol.CLAMP_PLATEAU, cellmodel, export_locals=True)"
   ]
  },
  {
   "cell_type": "markdown",
   "metadata": {},
   "source": [
    "## PRC Protocols"
   ]
  },
  {
   "cell_type": "code",
   "execution_count": null,
   "metadata": {
    "scrolled": false
   },
   "outputs": [],
   "source": [
    "proto = StimProtocol.PRC_SYN_EXC_PROX\n",
    "test_protocol(proto, cellmodel, export_locals=True)"
   ]
  },
  {
   "cell_type": "code",
   "execution_count": null,
   "metadata": {
    "scrolled": false
   },
   "outputs": [],
   "source": [
    "proto = StimProtocol.PRC_SYN_EXC_DIST\n",
    "test_protocol(proto, cellmodel, export_locals=True)"
   ]
  },
  {
   "cell_type": "code",
   "execution_count": null,
   "metadata": {
    "scrolled": false
   },
   "outputs": [],
   "source": [
    "proto = StimProtocol.PRC_SYN_INH_PROX\n",
    "test_protocol(proto, cellmodel, export_locals=True)"
   ]
  },
  {
   "cell_type": "markdown",
   "metadata": {},
   "source": [
    "### ARTICLE figs"
   ]
  },
  {
   "cell_type": "code",
   "execution_count": null,
   "metadata": {},
   "outputs": [],
   "source": [
    "from bgcellmodels.common import plotutils\n",
    "from bgcellmodels.extensions.bluepyopt.efeatures_spiketrain import debug_data\n",
    "\n",
    "# Tweak figure\n",
    "fig, ax = debug_data"
   ]
  },
  {
   "cell_type": "code",
   "execution_count": null,
   "metadata": {},
   "outputs": [],
   "source": [
    "ax.grid(True)\n",
    "ax.set_xlim((-.01, 1.3))\n",
    "ax.set_ylim((-0.3, 0.4))\n",
    "ax.set_xlabel('stimulus phase (0-1)')\n",
    "ax.set_ylabel('spike advance (normalized to 1)')\n",
    "fig.show()\n",
    "\n",
    "plotutils.save_figure(\n",
    "    'stn-full_{}'.format(str(proto)[13:]), fig=fig, timestamp=True,\n",
    "    dir='/home/luye/cloudstore_m/notes/publications_lkmn/ARTICLE_reduction/figures')"
   ]
  },
  {
   "cell_type": "markdown",
   "metadata": {},
   "source": [
    "# Save Responses"
   ]
  },
  {
   "cell_type": "code",
   "execution_count": null,
   "metadata": {},
   "outputs": [],
   "source": [
    "saved_protos = [k for k,v in PROTOCOL_WRAPPERS.items() if v is not None]\n",
    "saved_protos = [k for k,v in PROTOCOL_WRAPPERS.items() if 'PRC' in str(k)]\n",
    "# saved_protos = [StimProtocol.PRC_SYN_EXC_PROX]\n",
    "print(saved_protos)"
   ]
  },
  {
   "cell_type": "code",
   "execution_count": null,
   "metadata": {
    "scrolled": false
   },
   "outputs": [],
   "source": [
    "save_protocol_responses(saved_protos)"
   ]
  },
  {
   "cell_type": "markdown",
   "metadata": {},
   "source": [
    "# Save Notebook"
   ]
  },
  {
   "cell_type": "code",
   "execution_count": null,
   "metadata": {},
   "outputs": [],
   "source": [
    "# If not automatically executed: save results here\n",
    "from datetime import datetime\n",
    "import os.path\n",
    "\n",
    "nb_name = 'test_PRC_protocols'\n",
    "thisfile = nb_name + '.ipynb'\n",
    "version = str(cellmodel.model_type) + '-gbar-dist-orig'\n",
    "\n",
    "outsuffix = '_model-' + version\n",
    "out_dir = '/home/luye/cloudstore_m/simdata/Gillies2005_reduced'\n",
    "outbase = nb_name + outsuffix + '_' + datetime.now().strftime('%Y.%m.%d-%H.%M.%S')\n",
    "outfile_html = outbase + '.html'\n",
    "outfile_full_html = os.path.join(out_dir, outfile_html)\n",
    "outfile_full_nb = os.path.join(out_dir, outbase + '.ipynb')\n",
    "\n",
    "# Export using built-in template:\n",
    "#!jupyter nbconvert --to html --template=full --output-dir=$outputs $thisfile\n",
    "# NOTE: template comes from ToC2 Notebook Extension\n",
    "# NOTE: the class <tocskip> for headers messes up the export -> do not use\n",
    "!jupyter nbconvert $thisfile --to html --template=toc2 --output-dir=$out_dir --output $outfile_html\n",
    "# replace title\n",
    "subs_regex = \"'1,6s/<title>{}/<title>{}/g'\".format(nb_name, version)\n",
    "%system sed -i $subs_regex $outfile_full_html"
   ]
  },
  {
   "cell_type": "code",
   "execution_count": null,
   "metadata": {},
   "outputs": [],
   "source": []
  }
 ],
 "metadata": {
  "kernelspec": {
   "display_name": "Python 2",
   "language": "python",
   "name": "python2"
  },
  "language_info": {
   "codemirror_mode": {
    "name": "ipython",
    "version": 2
   },
   "file_extension": ".py",
   "mimetype": "text/x-python",
   "name": "python",
   "nbconvert_exporter": "python",
   "pygments_lexer": "ipython2",
   "version": "2.7.16"
  },
  "toc": {
   "base_numbering": 1,
   "nav_menu": {},
   "number_sections": false,
   "sideBar": true,
   "skip_h1_title": false,
   "title_cell": "Table of Contents",
   "title_sidebar": "Contents",
   "toc_cell": false,
   "toc_position": {
    "height": "calc(100% - 180px)",
    "left": "10px",
    "top": "150px",
    "width": "165px"
   },
   "toc_section_display": true,
   "toc_window_display": true
  }
 },
 "nbformat": 4,
 "nbformat_minor": 2
}
