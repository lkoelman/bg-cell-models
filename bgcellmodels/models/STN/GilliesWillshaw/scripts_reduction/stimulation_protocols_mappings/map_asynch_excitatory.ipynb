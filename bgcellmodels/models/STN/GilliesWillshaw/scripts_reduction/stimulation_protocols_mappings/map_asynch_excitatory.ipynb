{
 "cells": [
  {
   "cell_type": "markdown",
   "metadata": {},
   "source": [
    "# Full & Reduced model with protocols from Hendrickson (2011)"
   ]
  },
  {
   "cell_type": "code",
   "execution_count": null,
   "metadata": {},
   "outputs": [],
   "source": [
    "# Enable interactive plots with backend 'notebook'\n",
    "%matplotlib notebook\n",
    "\n",
    "# print code version (hash of checked out version)\n",
    "print(\"\\nCurrent commit:\")\n",
    "!git log -1\n",
    "print(\"\\nChanges since last commit:\")\n",
    "!git status --short\n",
    "\n",
    "# print date and time of script execution\n",
    "import datetime\n",
    "print(\"\\nNotebook executed at at {} in following directory:\".format(datetime.datetime.now()))\n",
    "%cd ~/workspace/bgcellmodels/GilliesWillshaw"
   ]
  },
  {
   "cell_type": "code",
   "execution_count": null,
   "metadata": {},
   "outputs": [],
   "source": [
    "# Standard library imports\n",
    "import re, functools\n",
    "\n",
    "# Import all our functions\n",
    "from evalmodel.stn_model_evaluation import *\n",
    "from evalmodel import proto_common, proto_hendrickson"
   ]
  },
  {
   "cell_type": "markdown",
   "metadata": {},
   "source": [
    "# Full STN model\n",
    "\n",
    "Build the Gillies & Willshaw STN model"
   ]
  },
  {
   "cell_type": "code",
   "execution_count": null,
   "metadata": {},
   "outputs": [],
   "source": [
    "full_model = StnModel.Gillies2005\n",
    "red_model = StnModel.Gillies_FoldBush_Tapered\n",
    "\n",
    "# Make cell model and evaluator\n",
    "evaluator = StnModelEvaluator(full_model, PhysioState.NORMAL)\n",
    "\n",
    "# Register protocol functions\n",
    "init_funcs = [proto_hendrickson.init_sim_impl]\n",
    "setup_funcs = [proto_hendrickson.make_all_synapses]\n",
    "\n",
    "rec_funcs = [\n",
    "    proto_common.rec_spikes,\n",
    "    proto_common.rec_Vm\n",
    "]\n",
    "\n",
    "plot_funcs = [\n",
    "    functools.partial(proto_common.plot_all_spikes,\n",
    "                      trace_filter=lambda trace: re.search('AP_'+Pop.CTX.name.lower(), trace),\n",
    "                      color='g', title='NMDA spikes'),\n",
    "    functools.partial(proto_common.plot_all_spikes,\n",
    "                      trace_filter=lambda trace: re.search('AP_'+Pop.STR.name.lower(), trace),\n",
    "                      color='b', title='AMPA spikes'),\n",
    "    proto_common.plot_all_Vm,\n",
    "]\n",
    "\n",
    "setup_kwargs = {\n",
    "    'tstop': 1000.0,\n",
    "    'num_syn_ampa': 50,\n",
    "    'num_syn_nmda': 50,\n",
    "    'num_syn_gabaa': 0,\n",
    "    'rec_pre_pop_spikes': ['str', 'ctx', 'stn'],\n",
    "}\n",
    "\n",
    "setup_kwargs_getters = {\n",
    "    'rec_hoc_objects': lambda kwargs: {\n",
    "                                'soma': kwargs['nrnsim'].SThcell[0].soma(0.5),\n",
    "                                'dend': kwargs['nrnsim'].SThcell[0].dend1[7](0.8)\n",
    "    }\n",
    "}\n",
    "\n",
    "evaluator.register_keyword_funcs(\n",
    "            proto_init_funcs = init_funcs,\n",
    "            proto_setup_funcs_pre = setup_funcs,\n",
    "            proto_rec_funcs = rec_funcs,\n",
    "            proto_plot_funcs = plot_funcs,\n",
    "            proto_setup_kwargs_const = setup_kwargs,\n",
    "            proto_setup_kwargs_getters = setup_kwargs_getters)\n",
    "\n",
    "evaluator.setup_keyword_protocol(pre_model=full_model)"
   ]
  },
  {
   "cell_type": "code",
   "execution_count": null,
   "metadata": {},
   "outputs": [],
   "source": [
    "# inspect the model in NEURON GUI (this pops up a GUI window outside browser)\n",
    "# click __Tools > ModelView > Soma > Point Processes > GABAsyn & GLUsyn\n",
    "# from neuron import gui\n",
    "\n",
    "# import matplotlib.pyplot as plt\n",
    "# import bgcellmodels.morphology.morph_gui as morphology\n",
    "# from mpl_toolkits.mplot3d import Axes3D\n",
    "\n",
    "# plt.figure()\n",
    "# ax = plt.subplot(111, projection='3d')\n",
    "# ax.view_init(90,90) # set azimut and elevation\n",
    "# ax.set_zlim((-1,1)) # prevent rounding errors\n",
    "# ax.set_axis_off() # hide x,y,z axes and grid\n",
    "\n",
    "# # Plot shape of our cell\n",
    "# h.define_shape()\n",
    "# morphology.shapeplot(h, ax)\n",
    "\n",
    "# # Mark locations of inputs\n",
    "# all_inputs = evaluator._iproto_data['stim_data']\n",
    "# marker_colors = 'rgby'\n",
    "# for i, syn in enumerate(all_inputs['synapses']):\n",
    "#     morphology.mark_locations(h, \n",
    "#                             syn.get_segment().sec,\n",
    "#                             syn.get_loc())"
   ]
  },
  {
   "cell_type": "markdown",
   "metadata": {},
   "source": [
    "## Run full STN model\n",
    "\n",
    "Run the protocol"
   ]
  },
  {
   "cell_type": "code",
   "execution_count": null,
   "metadata": {},
   "outputs": [],
   "source": [
    "# Run protocol\n",
    "evaluator.run_keyword_protocol(plot_traces=True)"
   ]
  },
  {
   "cell_type": "markdown",
   "metadata": {},
   "source": [
    "# Reduced STN model\n",
    "\n",
    "Collapse dendritic trees using BranchZip algorithm, then remap synapses"
   ]
  },
  {
   "cell_type": "code",
   "execution_count": null,
   "metadata": {},
   "outputs": [],
   "source": [
    "# # red_model = StnModel.Gillies_FoldBush_Tapered\n",
    "# red_model = StnModel.Gillies_FoldMarasco_Legacy\n",
    "\n",
    "# # Model reduction\n",
    "# evaluator.build_cell(red_model)\n",
    "# evaluator.target_model = red_model"
   ]
  },
  {
   "cell_type": "markdown",
   "metadata": {},
   "source": [
    "## Plot morphology & synapses\n",
    "\n",
    "Run the same stimulation protocol with the reduced model."
   ]
  },
  {
   "cell_type": "code",
   "execution_count": null,
   "metadata": {},
   "outputs": [],
   "source": [
    "# # Run Protocol\n",
    "# evaluator._setup_proto(proto)\n",
    "\n",
    "# # import matplotlib.pyplot as plt\n",
    "# # import bgcellmodels.morphology.morph_gui as morphology\n",
    "# # from mpl_toolkits.mplot3d import Axes3D\n",
    "\n",
    "# plt.figure()\n",
    "# ax = plt.subplot(111, projection='3d')\n",
    "# ax.view_init(90,90) # set azimut and elevation\n",
    "# ax.set_zlim((-1,1)) # prevent rounding errors\n",
    "# ax.set_axis_off() # hide x,y,z axes and grid\n",
    "\n",
    "# # Plot shape of our cell\n",
    "# h.define_shape()\n",
    "# morphology.shapeplot(h, ax)\n",
    "\n",
    "# # Mark locations of inputs\n",
    "# all_inputs = evaluator.get_all_inputs(red_model)\n",
    "# all_synapses = all_inputs['synapses']\n",
    "# print(\"Mapped {} synapses\".format(len(all_synapses)))\n",
    "\n",
    "# marker_colors = 'rgby'\n",
    "# for i, syn in enumerate(all_synapses):\n",
    "#     morphology.mark_locations(h, \n",
    "#                             syn.get_segment().sec,\n",
    "#                             syn.get_loc())"
   ]
  },
  {
   "cell_type": "markdown",
   "metadata": {},
   "source": [
    "## Run reduced model"
   ]
  },
  {
   "cell_type": "code",
   "execution_count": null,
   "metadata": {},
   "outputs": [],
   "source": [
    "# evaluator._run_proto(proto)\n",
    "# evaluator.plot_traces(proto)"
   ]
  }
 ],
 "metadata": {
  "anaconda-cloud": {},
  "kernelspec": {
   "display_name": "Python 2",
   "language": "python",
   "name": "python2"
  },
  "language_info": {
   "codemirror_mode": {
    "name": "ipython",
    "version": 2
   },
   "file_extension": ".py",
   "mimetype": "text/x-python",
   "name": "python",
   "nbconvert_exporter": "python",
   "pygments_lexer": "ipython2",
   "version": "2.7.16"
  },
  "toc": {
   "base_numbering": 1,
   "nav_menu": {},
   "number_sections": false,
   "sideBar": true,
   "skip_h1_title": false,
   "title_cell": "Table of Contents",
   "title_sidebar": "Contents",
   "toc_cell": false,
   "toc_position": {
    "height": "calc(100% - 180px)",
    "left": "10px",
    "top": "150px",
    "width": "294px"
   },
   "toc_section_display": true,
   "toc_window_display": true
  }
 },
 "nbformat": 4,
 "nbformat_minor": 1
}
