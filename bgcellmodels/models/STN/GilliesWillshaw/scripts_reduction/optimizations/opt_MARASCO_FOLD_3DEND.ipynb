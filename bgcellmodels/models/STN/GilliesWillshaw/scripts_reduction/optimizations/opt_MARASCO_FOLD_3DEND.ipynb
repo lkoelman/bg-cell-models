{
 "cells": [
  {
   "cell_type": "markdown",
   "metadata": {},
   "source": [
    "# README\n",
    "\n",
    "This is a copy of the funtionality in `bpop_optimize_stn.py` in notebook format.\n",
    "\n",
    "## HOWTO: Parallel Execution\n",
    "\n",
    "To run parallel optimization (individuals in population evaluated over many cores), the ipyprallel module can be used. To use ipyparallel you must start a controller and a number of engine (worker) instances before starting ipython (see http://ipyparallel.readthedocs.io/en/latest/intro.html), e.g:\n",
    "\n",
    "```bash\n",
    "ipcluster start -n 6\n",
    "ipengine --debug # only if you want to start a kernel with visible output\n",
    "```\n",
    "\n",
    ", where the -n argument is the number of workers / cores. Alternatively do\n",
    "\n",
    "```bash\n",
    "ipcontroller\n",
    "ipengine --debug --log-to-file=True # start one engine with custom arguments\n",
    "ipcluster engines --n=4 # start four more engines\n",
    "```\n",
    "\n",
    "Or alternatively do\n",
    "\n",
    "```bash\n",
    "ipython profile create --parallel --profile=myprofile # do this once\n",
    "ipcluster --profile=myprofile # can also use profile with ipcontroller/ipengine commands\n",
    "```\n",
    "\t\n",
    "Make sure that Hoc can find the .hoc model files by either executing above command in the directory containing those files, or adding the relevant directories to the environment variable `$HOC_LIBRARY_PATH` (this could also be done in \n",
    "your protocol or cellmodel script using `os.environ[\"HOC_LIBRARY_PATH\"]`)\n",
    "\n",
    "## HOWTO: Optimization Parameters\n",
    "\n",
    "Optimize parameters of reduced model. Passive parameters should be fitted first and set in the module file. Parameters to optimize, stimulation protocols to use for evaluation (objective function), and electrophysiological features extracted from the protocol responses can be set in following modules:\n",
    "\n",
    "```python\n",
    "optimize.bpop_parameters_stn\n",
    "optimize.bpop_protocols_stn\n",
    "optimize.bpop_features_stn\n",
    "```\n",
    "\n",
    "# Imports\n",
    "\n",
    "Reduction method is Marasco method, 7 folding passes."
   ]
  },
  {
   "cell_type": "code",
   "execution_count": null,
   "metadata": {},
   "outputs": [],
   "source": [
    "%matplotlib notebook\n",
    "\n",
    "# print date and time of script execution\n",
    "import datetime\n",
    "import pickle, pprint\n",
    "pp = pprint.PrettyPrinter(indent=2)\n",
    "\n",
    "# Third party\n",
    "import bluepyopt.ephys as ephys\n",
    "\n",
    "# Custom Modules\n",
    "from bgcellmodels.models.STN.GilliesWillshaw import gillies_model\n",
    "from bgcellmodels.models.STN.GilliesWillshaw.optimize import (\n",
    "    bpop_cellmodels as stn_models,\n",
    "    # bpop_optimize_stn as stn_opt\n",
    ")\n",
    "\n",
    "# Distributed logging\n",
    "from bgcellmodels.common import logutils\n",
    "\n",
    "logutils.setLogLevel('quiet',\n",
    "    ['marasco', 'folding', 'redops', 'bluepyopt.ephys.parameters'])\n",
    "# proto_logger = logging.getLogger('stn_protos')\n",
    "# logutils.install_mp_handler(logger=proto_logger) # record some logs on multiple threads"
   ]
  },
  {
   "cell_type": "code",
   "execution_count": null,
   "metadata": {},
   "outputs": [],
   "source": [
    "# print code version (hash of checked out version)\n",
    "!git log -1 # --format=\"%H\"\n",
    "\n",
    "# print(\"\\nNotebook executed at at {} in following directory:\".format(datetime.datetime.now()))\n",
    "# %cd /home/luye/workspace/bgcellmodels/GilliesWillshaw/\n",
    "# %pwd"
   ]
  },
  {
   "cell_type": "code",
   "execution_count": null,
   "metadata": {},
   "outputs": [],
   "source": [
    "# OPTIMIZATION USING EXISTING SCRIPTS\n",
    "\n",
    "# # Choose model we want to optimize\n",
    "# cell_model = StnReducedModel(\n",
    "#                 name        = 'StnFolded',\n",
    "#                 fold_method = 'marasco',\n",
    "#                 num_passes  = 7)\n",
    "\n",
    "# # Maximum number of generations in optimization\n",
    "# num_generations = 10\n",
    "\n",
    "# # Checkpoints: for each generation save [population, generation, parents, halloffame, history, logbook, rndstate]\n",
    "# checkpoints_file = '/home/luye/cloudstore_m/simdata/marasco_folding/opt_marasco7pass_checkpoints2.pkl'\n",
    "\n",
    "# # Make optimisation\n",
    "# optimisation, opt_data = make_optimisation(\n",
    "#                             red_model = cell_model, \n",
    "#                             parallel = True,\n",
    "#                             export_locals = False)"
   ]
  },
  {
   "cell_type": "markdown",
   "metadata": {},
   "source": [
    "# Cell Model\n",
    "\n",
    "Parameters of cell and morphology reduction"
   ]
  },
  {
   "cell_type": "markdown",
   "metadata": {},
   "source": [
    "## Reduction Parameters"
   ]
  },
  {
   "cell_type": "code",
   "execution_count": null,
   "metadata": {},
   "outputs": [],
   "source": [
    "# Choose model we want to optimize\n",
    "fold_method, num_fold_passes = 'marasco', 7\n",
    "\n",
    "red_model = stn_models.StnReducedModel(\n",
    "                name        = 'StnFolded',\n",
    "                fold_method = fold_method,\n",
    "                num_passes  = num_fold_passes)"
   ]
  },
  {
   "cell_type": "markdown",
   "metadata": {},
   "source": [
    "## Free/Frozen Parameters"
   ]
  },
  {
   "cell_type": "code",
   "execution_count": null,
   "metadata": {},
   "outputs": [],
   "source": [
    "nrnsim = ephys.simulators.NrnSimulator(dt=0.025, cvode_active=False)\n",
    "\n",
    "# Make parameters\n",
    "gleak_orig = 7.84112e-05 # Default in Gillies model\n",
    "gleak_fit = 12.43169e-5 # fit to match Zin_DC (see praxis_passive.py)\n",
    "dend_gl_param = ephys.parameters.NrnSectionParameter(\n",
    "                    name\t\t= 'gleak_dend_param',\n",
    "                    param_name\t= gillies_model.gleak_name,\n",
    "                    locations\t= [StnParameters.dendritic_region],\n",
    "                    bounds\t\t= [gleak_orig*1e-1, gleak_orig*1e1],\n",
    "                    value\t\t= gleak_fit, # SETPARAM: use fitted gl value\n",
    "                    frozen\t\t= True)\n",
    "\n",
    "cm_orig = 1.0\n",
    "cm_fit = cm_orig * (gleak_fit / gleak_orig) # preserve membrane time constant (praxis does not fit cm)\n",
    "dend_cm_param = ephys.parameters.NrnSectionParameter(\n",
    "                    name\t\t= 'cm_dend_param',\n",
    "                    param_name\t= 'cm',\n",
    "                    locations\t= [StnParameters.dendritic_region],\n",
    "                    bounds\t\t= [cm_orig*1e-1, cm_orig*1e1],\n",
    "                    value\t\t= cm_fit, # SETPARAM: use fitted cm value\n",
    "                    frozen\t\t= True)\n",
    "\n",
    "# FROZEN PARAMETERS are passive parameters fit previously in passive model\n",
    "# NOTE: leave empty if you want to use passive params determined by folding method\n",
    "frozen_params = [] # [dend_gl_param, dend_cm_param] # SETPARAM: frozen params from previous optimisations\n",
    "\n",
    "# FREE PARAMETERS are active conductances with large impact on response\n",
    "free_params = StnParameters.dend_active_params # SETPARAM: parameters that are optimised (must be not frozen)"
   ]
  },
  {
   "cell_type": "markdown",
   "metadata": {},
   "source": [
    "# Make Optimization"
   ]
  },
  {
   "cell_type": "markdown",
   "metadata": {},
   "source": [
    "## Stimulation Protocols"
   ]
  },
  {
   "cell_type": "code",
   "execution_count": null,
   "metadata": {},
   "outputs": [],
   "source": [
    "stn_model_type = StnModel.Gillies_FoldMarasco\n",
    "\n",
    "# Protocols to use for optimisation\n",
    "opt_stim_protocols = [SYN_BACKGROUND_HIGH] # SETPARAM: stimulation protocols for evaluation of fitness\n",
    "\n",
    "# Make all protocol data\n",
    "red_protos = {\n",
    "    stim_proto: BpopProtocolWrapper.make(stim_proto, stn_model_type) \n",
    "        for stim_proto in opt_stim_protocols\n",
    "}\n",
    "\n",
    "# Collect al frozen mechanisms and parameters required for protocols to work\n",
    "proto_mechs, proto_params = BpopProtocolWrapper.all_mechs_params(red_protos.values())\n",
    "\n",
    "# Distinguish between sets of parameters (used, frozen, free/optimised)\n",
    "frozen_params += proto_params\n",
    "used_params = frozen_params + free_params\n",
    "\n",
    "for param in frozen_params:\n",
    "    assert param.frozen\n",
    "for param in free_params:\n",
    "    assert (not param.frozen)\n",
    "\n",
    "# Assign parameters to reduced model\n",
    "red_model.set_mechs(proto_mechs)\n",
    "red_model.set_params(used_params)"
   ]
  },
  {
   "cell_type": "markdown",
   "metadata": {},
   "source": [
    "## Ephys Features"
   ]
  },
  {
   "cell_type": "code",
   "execution_count": null,
   "metadata": {},
   "outputs": [],
   "source": [
    "# Get protocol responses for full model\n",
    "if PROTO_RESPONSES_FILE is not None:\n",
    "    full_responses = load_proto_responses(PROTO_RESPONSES_FILE)\n",
    "else:\n",
    "    full_protos = [BpopProtocolWrapper.make(stim_proto, stn_model_type) for stim_proto in opt_stim_protocols]\n",
    "    full_mechs, full_params = BpopProtocolWrapper.all_mechs_params(full_protos)\n",
    "    full_model = StnFullModel(\n",
    "                    name\t\t= 'StnGillies',\n",
    "                    mechs\t\t= full_mechs,\n",
    "                    params\t\t= full_params)\n",
    "    full_responses = run_proto_responses(full_model, full_protos)\n",
    "\n",
    "# Make EFEL feature objects\n",
    "stimprotos_feats = StnFeatures.make_opt_features(red_protos.values())\n",
    "\n",
    "# Calculate target values from full model responses\n",
    "StnFeatures.calc_feature_targets(stimprotos_feats, full_responses)"
   ]
  },
  {
   "cell_type": "markdown",
   "metadata": {},
   "source": [
    "## Cost Function (MOO objectives, fitness function)"
   ]
  },
  {
   "cell_type": "code",
   "execution_count": null,
   "metadata": {},
   "outputs": [],
   "source": [
    "# Collect characteristic features for all protocols used in evaluation\n",
    "all_opt_features, all_opt_weights = StnFeatures.all_features_weights(stimprotos_feats.values())\n",
    "\n",
    "# # Make final objective function based on selected set of features\n",
    "# total_objective = ephys.objectives.WeightedSumObjective(\n",
    "#                                         name\t= 'optimise_all',\n",
    "#                                         features= all_opt_features,\n",
    "#                                         weights\t= all_opt_weights)\n",
    "# all_objectives = [total_objective]\n",
    "\n",
    "# ALTERNATIVE: set weights using 'exp_std'\n",
    "all_objectives = [ephys.objectives.SingletonObjective(f.name, f) for f in all_opt_features]\n",
    "\n",
    "# Calculator maps model responses to scores\n",
    "fitcalc = ephys.objectivescalculators.ObjectivesCalculator(all_objectives)\n",
    "\n",
    "# Make evaluator to evaluate model using objective calculator\n",
    "opt_ephys_protos = {k.name: v.ephys_protocol for k,v in red_protos.iteritems()}\n",
    "opt_params_names = [param.name for param in free_params]\n",
    "\n",
    "cell_evaluator = ephys.evaluators.CellEvaluator(\n",
    "                    cell_model\t\t\t= red_model,\n",
    "                    param_names\t\t\t= opt_params_names, # fitted parameters\n",
    "                    fitness_protocols\t= opt_ephys_protos,\n",
    "                    fitness_calculator\t= fitcalc,\n",
    "                    sim\t\t\t\t\t= nrnsim,\n",
    "                    isolate_protocols\t= True)"
   ]
  },
  {
   "cell_type": "markdown",
   "metadata": {},
   "source": [
    "## Evaluate Candidate 0\n",
    "\n",
    "Evaluate initial model to adjust adjust scales (weight, standard error) of objectives"
   ]
  },
  {
   "cell_type": "code",
   "execution_count": null,
   "metadata": {},
   "outputs": [],
   "source": [
    "used_param_names = [p.name for p in used_params]\n",
    "default_params = {k:v for k,v in StnParameters.default_params.items() if k in used_param_names}\n",
    "\n",
    "# Evaluate initial model\n",
    "scores = cell_evaluator.evaluate_with_dicts(default_params)\n",
    "pp.pprint(scores)\n",
    "\n",
    "# NOTE: efeature objects are not copied, just references, so can change these\n",
    "# NOTE: distance is sum(feat[i] - exp_mean) / N / exp_std  => so exp_std determines weight\n",
    "for efeat, weight in zip(all_opt_features, all_opt_weights):\n",
    "    logger.debug('Scaling EFeature {} : exp_std / weight = {} / {}'.format(efeat.name, scores[efeat.name], weight))\n",
    "    efeat.exp_std = scores[efeat.name] / weight\n",
    "    \n",
    "# Verify: all scores schould be 1.0 * weight\n",
    "# init_scores = cell_evaluator.evaluate_with_dicts(default_params)\n",
    "# pp.pprint(init_scores)"
   ]
  },
  {
   "cell_type": "markdown",
   "metadata": {},
   "source": [
    "# Optimize"
   ]
  },
  {
   "cell_type": "code",
   "execution_count": null,
   "metadata": {},
   "outputs": [],
   "source": [
    "# Optimisation parameters\n",
    "population_size = 50\n",
    "num_generations = 15 # Maximum number of generations in optimization\n",
    "parallel = True\n",
    "deap_seed = 8 # SETPARAM: seed used by evolutionary algorithm (for population variability)\n",
    "\n",
    "# Checkpoints: for each generation save [population, generation, parents, halloffame, history, logbook, rndstate]\n",
    "import uuid\n",
    "uuid_head = str(uuid.uuid1())[0:8]\n",
    "checkpoints_file = '/home/luye/cloudstore_m/simdata/marasco_folding/opt_checkpoints_' + uuid_head + '.pkl'\n",
    "\n",
    "# Make optimisation using the model evaluator\n",
    "optimisation = bpop.optimisations.DEAPOptimisation(\n",
    "                    evaluator\t\t= cell_evaluator,\n",
    "                    offspring_size\t= population_size,\n",
    "                    map_function = get_map_function(parallel),\n",
    "                    seed = deap_seed)"
   ]
  },
  {
   "cell_type": "code",
   "execution_count": null,
   "metadata": {},
   "outputs": [],
   "source": [
    "# Run optimisation\n",
    "final_pop, hall_of_fame, logs, hist = optimisation.run(\n",
    "                                        max_ngen = num_generations,\n",
    "                                        cp_filename = checkpoints_file)"
   ]
  },
  {
   "cell_type": "markdown",
   "metadata": {},
   "source": [
    "## Save optimisation data"
   ]
  },
  {
   "cell_type": "code",
   "execution_count": null,
   "metadata": {},
   "outputs": [],
   "source": [
    "# Save dict {StimProtol: {feat_name : {exp_mean/std : value } } }\n",
    "proto_feat_info = {}\n",
    "for stim_proto, feat_dict in stimprotos_feats.iteritems():\n",
    "    proto_feat_info[stim_proto.name] = {\n",
    "        feat_name: {'weight': feat_data[1], 'exp_mean': feat_data[0].exp_mean, 'exp_std': feat_data[0].exp_std} \n",
    "            for feat_name, feat_data in feat_dict.iteritems()\n",
    "    }\n",
    "\n",
    "# Module info\n",
    "import sys\n",
    "code_version_info = {}\n",
    "modulenames = set(sys.modules) & set(('bluepyopt', 'efel', 'elephant')) # & set(globals())\n",
    "for module_name in modulenames:\n",
    "    code_version_info[module_name] = getattr(sys.modules[module_name], '__version__', 'unknown')\n",
    "head_SHA1 = %sx git log -1 --format=\"%H\"\n",
    "code_version_info['bgcellmodels'] = head_SHA1"
   ]
  },
  {
   "cell_type": "code",
   "execution_count": null,
   "metadata": {},
   "outputs": [],
   "source": [
    "info_opt = {\n",
    "    'opt_param_names': cell_evaluator.param_names, # in same order as individual params\n",
    "    'free_params': {p.name: p.value for p in free_params},\n",
    "    'frozen_params': {p.name: p.value for p in frozen_params},\n",
    "    'deap_seed': deap_seed,\n",
    "    'protos_feats': proto_feat_info,\n",
    "    'code_version_info': code_version_info,\n",
    "}\n",
    "\n",
    "# pp.pprint(info_opt)\n",
    "with open(checkpoints_file, 'ab') as f: # appends to file stream, load using second 'pickle.load()'\n",
    "    pickle.dump(info_opt, f)"
   ]
  },
  {
   "cell_type": "markdown",
   "metadata": {},
   "source": [
    "# Analyze optimization results\n",
    "\n",
    "We want to know how our individuals (candidate parameter sets) evolved during the optimization, and potentially how their responses look."
   ]
  },
  {
   "cell_type": "code",
   "execution_count": null,
   "metadata": {},
   "outputs": [],
   "source": [
    "# OPTIONAL: reload previous results from checkpoints file\n",
    "# old_checkpoints_file = '/home/luye/cloudstore_m/simdata/marasco_folding/opt_marasco7pass_checkpoints2.pkl'\n",
    "# with open(old_checkpoints_file, 'r') as f:\n",
    "#     checkpoint = pickle.load(f)\n",
    "#     old_param_names = pickle.load(f)\n",
    "\n",
    "# old_best_params = checkpoint['halloffame'][0]\n",
    "# old_logs = checkpoint['logbook']"
   ]
  },
  {
   "cell_type": "code",
   "execution_count": null,
   "metadata": {},
   "outputs": [],
   "source": [
    "# Import our analysis modules\n",
    "from optimize.bpop_analysis_stn import plot_log\n",
    "\n",
    "# Plot evolution of fitness values\n",
    "plot_log(logs)"
   ]
  },
  {
   "cell_type": "markdown",
   "metadata": {},
   "source": [
    "## Evaluate / Validate optimization results\n",
    "\n",
    "We want to know how our optimized model performs under other stimulation protocols that were not part of the objective function. This is a form of cross-validation.\n",
    "\n",
    "### Show final parameters"
   ]
  },
  {
   "cell_type": "code",
   "execution_count": null,
   "metadata": {},
   "outputs": [],
   "source": [
    "from optimize.bpop_analysis_stn import (\n",
    "    plot_responses,\n",
    "    plot_fitness_scores,\n",
    "    plot_diversity,\n",
    ")\n",
    "ephys_protocols = optimisation.evaluator.fitness_protocols"
   ]
  },
  {
   "cell_type": "code",
   "execution_count": null,
   "metadata": {},
   "outputs": [],
   "source": [
    "# Print fittest individual (best parameter set)\n",
    "best_params = optimisation.evaluator.param_dict(hall_of_fame[0])\n",
    "print(pp.pprint(best_params))"
   ]
  },
  {
   "cell_type": "markdown",
   "metadata": {},
   "source": [
    "### Compare final responses"
   ]
  },
  {
   "cell_type": "code",
   "execution_count": null,
   "metadata": {},
   "outputs": [],
   "source": [
    "# Plot full model responses\n",
    "full_responses = load_proto_responses(PROTO_RESPONSES_FILE)\n",
    "full_resp = {}\n",
    "for stimproto, responses in full_responses.iteritems():\n",
    "    full_resp.update(responses)\n",
    "plot_responses(full_resp)"
   ]
  },
  {
   "cell_type": "code",
   "execution_count": null,
   "metadata": {},
   "outputs": [],
   "source": [
    "# Plot responses of best parameters\n",
    "# best_responses = optimisation.evaluator.run_protocols(\n",
    "#                     protocols    = ephys_protocols.values(),\n",
    "#                     param_values = best_params)\n",
    "# plot_responses(best_responses)\n",
    "\n",
    "# Plot reduced model responses (to all available stimulation protocols)\n",
    "model_type = StnModel.Gillies_FoldMarasco\n",
    "all_stim_protos = StnProtocols.PROTOCOL_WRAPPERS.keys()\n",
    "all_protos = [BpopProtocolWrapper.make(stim_proto, model_type) for stim_proto in all_stim_protos]\n",
    "ephys_protos = [proto.ephys_protocol for proto in all_protos]\n",
    "proto_mechs, proto_params = BpopProtocolWrapper.all_mechs_params(all_protos)\n",
    "\n",
    "red_model = StnReducedModel( # make model version with all protocol mechanisms\n",
    "                name        = 'StnFolded',\n",
    "                fold_method = fold_method,\n",
    "                num_passes  = num_fold_passes,\n",
    "                mechs       = proto_mechs,\n",
    "                params      = proto_params + free_params)\n",
    "    \n",
    "red_responses = {\n",
    "    proto.name : proto.run(\n",
    "                    cell_model\t\t= red_model, \n",
    "                    param_values\t= best_params,\n",
    "                    sim\t\t\t\t= nrnsim,\n",
    "                    isolate\t\t\t= True)\n",
    "    for proto in ephys_protos\n",
    "}"
   ]
  },
  {
   "cell_type": "code",
   "execution_count": null,
   "metadata": {},
   "outputs": [],
   "source": [
    "plot_proto_responses(red_responses)"
   ]
  },
  {
   "cell_type": "markdown",
   "metadata": {},
   "source": [
    "## Final fitness scores"
   ]
  },
  {
   "cell_type": "code",
   "execution_count": null,
   "metadata": {},
   "outputs": [],
   "source": [
    "# Plot fitness (objective) scores\n",
    "# objectives = optimisation.evaluator.fitness_calculator.calculate_scores(best_responses)\n",
    "# plot_fitness_scores(objectives)"
   ]
  },
  {
   "cell_type": "code",
   "execution_count": null,
   "metadata": {},
   "outputs": [],
   "source": [
    "# Plot diversity of parameters\n",
    "plot_diversity(optimisation, checkpoints_file, optimisation.evaluator.param_names)\n"
   ]
  }
 ],
 "metadata": {
  "kernelspec": {
   "display_name": "Python 2",
   "language": "python",
   "name": "python2"
  },
  "language_info": {
   "codemirror_mode": {
    "name": "ipython",
    "version": 2
   },
   "file_extension": ".py",
   "mimetype": "text/x-python",
   "name": "python",
   "nbconvert_exporter": "python",
   "pygments_lexer": "ipython2",
   "version": "2.7.16"
  },
  "toc": {
   "base_numbering": 1,
   "nav_menu": {},
   "number_sections": false,
   "sideBar": true,
   "skip_h1_title": false,
   "title_cell": "Table of Contents",
   "title_sidebar": "Contents",
   "toc_cell": false,
   "toc_position": {
    "height": "calc(100% - 180px)",
    "left": "10px",
    "top": "150px",
    "width": "246px"
   },
   "toc_section_display": true,
   "toc_window_display": true
  }
 },
 "nbformat": 4,
 "nbformat_minor": 2
}
