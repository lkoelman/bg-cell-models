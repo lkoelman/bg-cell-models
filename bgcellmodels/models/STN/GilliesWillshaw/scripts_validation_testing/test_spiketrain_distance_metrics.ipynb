{
 "cells": [
  {
   "cell_type": "code",
   "execution_count": null,
   "metadata": {},
   "outputs": [],
   "source": [
    "# Enable interactive plots with backend 'notebook'\n",
    "%matplotlib notebook\n",
    "\n",
    "# print date and time of script execution\n",
    "import datetime\n",
    "print(\"\\nNotebook executed at at {} in following directory:\".format(datetime.datetime.now()))\n",
    "%cd /home/luye/workspace/bgcellmodels/GilliesWillshaw/"
   ]
  },
  {
   "cell_type": "code",
   "execution_count": null,
   "metadata": {},
   "outputs": [],
   "source": [
    "import neo\n",
    "\n",
    "import elephant.spike_train_generation as stg\n",
    "import elephant.spike_train_dissimilarity as stds\n",
    "import elephant.spike_train_surrogates as surr\n",
    "\n",
    "import quantities as pq\n",
    "from quantities import ms, s, Hz\n",
    "\n",
    "import numpy as np\n",
    "from matplotlib import pyplot as plt"
   ]
  },
  {
   "cell_type": "code",
   "execution_count": null,
   "metadata": {},
   "outputs": [],
   "source": [
    "def plot_rastergram(spiketrain_list):\n",
    "    \"\"\"\n",
    "    Plot simple rastergram\n",
    "    \"\"\"\n",
    "    plt.figure()\n",
    "    for i, spiketrain in enumerate(spiketrain_list):\n",
    "        t = spiketrain.rescale(ms)\n",
    "        plt.plot(t, i * np.ones_like(t), 'k.', markersize=2)\n",
    "    \n",
    "    plt.axis('tight')\n",
    "    \n",
    "    plt.xlabel('Time (ms)', fontsize=16)\n",
    "    plt.ylabel('Spike Train Index', fontsize=16)\n",
    "    plt.gca().tick_params(axis='both', which='major', labelsize=14)\n",
    "    \n",
    "    plt.show()\n",
    "    \n",
    "allcolors = [\n",
    "    '#7742f4', # Dark purple\n",
    "    [0.90,0.76,0.00], # Ochre\n",
    "    [0.42,0.83,0.59], # soft pastel green\n",
    "    [0.90,0.32,0.00], # pastel red brick\n",
    "    [0.90,0.59,0.00], # OrangeBrown\n",
    "    '#f442c5', # Pink\n",
    "    '#c2f442', # Lime\n",
    "    [1.00,0.85,0.00], # hard yellow\n",
    "    [0.33,0.67,0.47], # dark pastel green\n",
    "    [1.00,0.38,0.60], [0.57,0.67,0.33], [0.5,0.2,0.0],\n",
    "    [0.71,0.82,0.41], [0.0,0.2,0.5],\n",
    "]"
   ]
  },
  {
   "cell_type": "code",
   "execution_count": null,
   "metadata": {},
   "outputs": [],
   "source": [
    "# Make test data (spike trains)\n",
    "st21 = stg.homogeneous_poisson_process(50*Hz, t_start=0*ms, t_stop=2000*ms)\n",
    "st22 = stg.homogeneous_poisson_process(40*Hz, 0*ms, 2000*ms)\n",
    "st23 = stg.homogeneous_poisson_process(30*Hz, 0*ms, 2000*ms)\n",
    "\n",
    "all_test_data = [st21, st22, st23]\n",
    "\n",
    "plot_rastergram(all_test_data)"
   ]
  },
  {
   "cell_type": "markdown",
   "metadata": {},
   "source": [
    "# Sensitivity to jitter"
   ]
  },
  {
   "cell_type": "code",
   "execution_count": null,
   "metadata": {},
   "outputs": [],
   "source": [
    "st_target = st22\n",
    "\n",
    "all_shift_cost_ms = np.array([5.0, 10.0, 15.0, 20.0, 50.0, 100.0, 150.0, 200.0, 500.0, 1000.0])\n",
    "all_shift_ms = np.arange(0.5, 50, 0.5)\n",
    "\n",
    "all_sts = []\n",
    "lines = []\n",
    "\n",
    "plt.figure()\n",
    "\n",
    "for j, shift_cost_ms in enumerate(all_shift_cost_ms):\n",
    "    \n",
    "    shift_cost_hz = 1.0/(shift_cost_ms*1e-3) * pq.Hz\n",
    "    \n",
    "    all_vp_dist = np.zeros_like(all_shift_ms)\n",
    "\n",
    "    for i, max_shift_ms in enumerate(all_shift_ms):\n",
    "\n",
    "        # Each spike is shifted randomly within interval\n",
    "        sts_shifted = surr.dither_spikes(\n",
    "                        st_target, \n",
    "                        dither = max_shift_ms*pq.ms)\n",
    "        \n",
    "        st_shifted = sts_shifted[0]\n",
    "        if j==0: all_sts.append(st_shifted)\n",
    "        \n",
    "        # Calculate spike train distance with current shift cost\n",
    "        dist_mat = stds.victor_purpura_dist(\n",
    "                        [st_target, st_shifted], \n",
    "                        q = shift_cost_hz, \n",
    "                        algorithm = 'fast')\n",
    "\n",
    "        all_vp_dist[i] = dist_mat[0, 1]\n",
    "    \n",
    "    line_color = allcolors[j % len(allcolors)]\n",
    "    line, = plt.plot(all_shift_ms, all_vp_dist, color=line_color, label=str(shift_cost_ms))\n",
    "    lines.append(line)\n",
    "    \n",
    "plt.xlabel('Max spike time shift (ms)')\n",
    "plt.ylabel('Victor-Purpura distance')\n",
    "plt.legend(lines, [l.get_label() for l in lines])\n",
    "\n",
    "plot_rastergram(all_sts)"
   ]
  },
  {
   "cell_type": "markdown",
   "metadata": {},
   "source": [
    "# Sensitivity to deletions"
   ]
  },
  {
   "cell_type": "code",
   "execution_count": null,
   "metadata": {},
   "outputs": [],
   "source": [
    "st_target = st22\n",
    "st_data = np.array(st_target)\n",
    "\n",
    "all_shift_cost_ms = np.array([5.0, 10.0, 15.0, 20.0, 50.0, 100.0, 150.0, 200.0, 500.0, 1000.0])\n",
    "all_num_deletions = range(1,50)\n",
    "all_del_indices = np.random.choice(len(st_target), max(all_num_deletions), replace=False)\n",
    "print(all_del_indices)\n",
    "\n",
    "all_sts = []\n",
    "lines = []\n",
    "\n",
    "plt.figure()\n",
    "\n",
    "for j, shift_cost_ms in enumerate(all_shift_cost_ms):\n",
    "    \n",
    "    shift_cost_hz = 1.0/(shift_cost_ms*1e-3) * pq.Hz\n",
    "    \n",
    "    all_vp_dist = np.zeros_like(all_num_deletions)\n",
    "\n",
    "    for i, num_deletions in enumerate(all_num_deletions):\n",
    "        \n",
    "        st_shifted = neo.SpikeTrain(\n",
    "                        np.delete(st_data, all_del_indices[0:num_deletions]),\n",
    "                        t_start=st_target.t_start,\n",
    "                        t_stop=st_target.t_stop,\n",
    "                        units=st_target.units)\n",
    "        \n",
    "        if j==0: all_sts.append(st_shifted)\n",
    "        \n",
    "        # Calculate spike train distance with current shift cost\n",
    "        dist_mat = stds.victor_purpura_dist(\n",
    "                        [st_target, st_shifted], \n",
    "                        q = shift_cost_hz, \n",
    "                        algorithm = 'fast')\n",
    "\n",
    "        all_vp_dist[i] = dist_mat[0, 1]\n",
    "    \n",
    "    line_color = allcolors[j % len(allcolors)]\n",
    "    line, = plt.plot(all_num_deletions, all_vp_dist, color=line_color, label=str(shift_cost_ms))\n",
    "    lines.append(line)\n",
    "    \n",
    "plt.xlabel('Number of spike deletions')\n",
    "plt.ylabel('Victor-Purpura distance')\n",
    "plt.suptitle('Spike distance for different values of shift cost parameter')\n",
    "plt.legend(lines, [l.get_label() for l in lines])\n",
    "\n",
    "plot_rastergram(all_sts)"
   ]
  },
  {
   "cell_type": "markdown",
   "metadata": {},
   "source": [
    "# Sensitivity to insertions"
   ]
  },
  {
   "cell_type": "code",
   "execution_count": null,
   "metadata": {},
   "outputs": [],
   "source": [
    "# TODO"
   ]
  },
  {
   "cell_type": "markdown",
   "metadata": {},
   "source": [
    "# Sensitivity to jitter (Kreuz ISI)"
   ]
  },
  {
   "cell_type": "code",
   "execution_count": null,
   "metadata": {},
   "outputs": [],
   "source": [
    "st22.as_array()\n",
    "float(st22.t_start)"
   ]
  },
  {
   "cell_type": "code",
   "execution_count": null,
   "metadata": {},
   "outputs": [],
   "source": [
    "import pyspike\n",
    "\n",
    "st_target = st22\n",
    "spk_target = pyspike.SpikeTrain(\n",
    "                        st_target.as_array(),\n",
    "                        [st_target.t_start, st_target.t_stop],\n",
    "                        is_sorted=True)\n",
    "\n",
    "\n",
    "all_shift_ms = np.arange(0.5, 50, 0.5)\n",
    "all_dist = np.zeros_like(all_shift_ms)\n",
    "\n",
    "all_sts = []\n",
    "lines = []\n",
    "\n",
    "plt.figure()\n",
    "\n",
    "\n",
    "for i, max_shift_ms in enumerate(all_shift_ms):\n",
    "\n",
    "    # Each spike is shifted randomly within interval\n",
    "    sts_shifted = surr.dither_spikes(\n",
    "                    st_target, \n",
    "                    dither = max_shift_ms*pq.ms)\n",
    "\n",
    "    st_shifted = sts_shifted[0]\n",
    "    all_sts.append(st_shifted)\n",
    "    spk_shifted = pyspike.SpikeTrain(\n",
    "                        st_shifted.as_array(),\n",
    "                        [st_shifted.t_start, st_shifted.t_stop],\n",
    "                        is_sorted=True)\n",
    "\n",
    "    # Calculate Kreuz ISI distance\n",
    "    all_dist[i] = pyspike.isi_distance(spk_target, spk_shifted)\n",
    "\n",
    "line_color = allcolors[0 % len(allcolors)]\n",
    "line, = plt.plot(all_shift_ms, all_dist, color=line_color, label='Kreuz ISI')\n",
    "lines.append(line)\n",
    "    \n",
    "plt.xlabel('Max spike time shift (ms)')\n",
    "plt.ylabel('Victor-Purpura distance')\n",
    "plt.legend(lines, [l.get_label() for l in lines])\n",
    "\n",
    "plot_rastergram(all_sts)"
   ]
  },
  {
   "cell_type": "code",
   "execution_count": null,
   "metadata": {},
   "outputs": [],
   "source": []
  }
 ],
 "metadata": {
  "kernelspec": {
   "display_name": "Python 2",
   "language": "python",
   "name": "python2"
  },
  "language_info": {
   "codemirror_mode": {
    "name": "ipython",
    "version": 2
   },
   "file_extension": ".py",
   "mimetype": "text/x-python",
   "name": "python",
   "nbconvert_exporter": "python",
   "pygments_lexer": "ipython2",
   "version": "2.7.13"
  },
  "toc": {
   "nav_menu": {},
   "number_sections": false,
   "sideBar": false,
   "skip_h1_title": false,
   "toc_cell": false,
   "toc_position": {},
   "toc_section_display": "block",
   "toc_window_display": false
  }
 },
 "nbformat": 4,
 "nbformat_minor": 2
}
