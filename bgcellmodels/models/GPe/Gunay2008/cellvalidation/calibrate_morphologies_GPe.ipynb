{
 "cells": [
  {
   "cell_type": "markdown",
   "metadata": {},
   "source": [
    "# Setup\n",
    "\n",
    "## Load Modules"
   ]
  },
  {
   "cell_type": "code",
   "execution_count": 1,
   "metadata": {},
   "outputs": [
    {
     "name": "stderr",
     "output_type": "stream",
     "text": [
      "WARNING:pint.util@registry.py:324: Redefining 'mho' (<class 'pint.definitions.UnitDefinition'>)\n"
     ]
    },
    {
     "name": "stdout",
     "output_type": "stream",
     "text": [
      "Using units module 'pint'\n"
     ]
    }
   ],
   "source": [
    "%matplotlib notebook\n",
    "\n",
    "# Standard library\n",
    "import os.path, logging, collections\n",
    "import cPickle as pickle\n",
    "\n",
    "# External modules\n",
    "from neuron import h\n",
    "import numpy as np\n",
    "import matplotlib\n",
    "import matplotlib.pyplot as plt\n",
    "from mpl_toolkits.mplot3d import Axes3D\n",
    "import bluepyopt.ephys as ephys\n",
    "\n",
    "# Our modules\n",
    "from bgcellmodels.common import electrotonic, treeutils, analysis, logutils\n",
    "from bgcellmodels.morphology import morph_ni, morph_gui\n",
    "\n",
    "from bgcellmodels.models.GPe.Gunay2008 import gunay_pynn_model as gunay\n",
    "from bgcellmodels.models.axon.mcintyre2002 import AxonMcintyre2002\n",
    "from bgcellmodels.models.axon.foust2011 import AxonFoust2011"
   ]
  },
  {
   "cell_type": "markdown",
   "metadata": {},
   "source": [
    "## Settings"
   ]
  },
  {
   "cell_type": "code",
   "execution_count": 2,
   "metadata": {},
   "outputs": [],
   "source": [
    "# Global variables\n",
    "nrnsim = ephys.simulators.NrnSimulator(dt=0.025, cvode_active=False)\n",
    "\n",
    "logger = logging.getLogger('STN_MORPH')\n",
    "logger.setLevel(logging.DEBUG)\n",
    "logging.basicConfig(format=logutils.DEFAULT_FORMAT)"
   ]
  },
  {
   "cell_type": "code",
   "execution_count": 3,
   "metadata": {},
   "outputs": [],
   "source": [
    "# Plotting options\n",
    "page_width = 5.0\n",
    "fig_aspect_ratio = 2.2 # 8.0 / 3.0\n",
    "fig_width = 0.8 * page_width\n",
    "fig_height = fig_width / fig_aspect_ratio\n",
    "\n",
    "# Style of figures (default colors etc.): see https://matplotlib.org/gallery/style_sheets/style_sheets_reference.html\n",
    "plt.style.use('default')\n",
    "\n",
    "# fix bug for notebook backend where figures not shown\n",
    "if matplotlib.get_backend() == 'nbAgg':\n",
    "    from bgcellmodels.extensions.jupyter import jupyterutil\n",
    "    jupyterutil.notebook_show_figs_after_exception()"
   ]
  },
  {
   "cell_type": "markdown",
   "metadata": {},
   "source": [
    "## Functions"
   ]
  },
  {
   "cell_type": "code",
   "execution_count": 4,
   "metadata": {},
   "outputs": [],
   "source": [
    "def get_sample(sec, i):\n",
    "    return np.array([h.x3d(i, sec=sec), h.y3d(i, sec=sec), h.z3d(i, sec=sec), h.diam3d(i, sec=sec)])\n",
    "\n",
    "def save_trace(trace_name, file_path, scale=1e-3):\n",
    "    \"\"\"\n",
    "    Save trace to file\n",
    "    \"\"\"\n",
    "    V_soma = np.array(vec_dict[trace_name], ndmin=2)\n",
    "    T_soma = np.array(vec_dict['t_global'], ndmin=2)\n",
    "    TV_soma = np.concatenate((T_soma, V_soma), axis=0) * scale # pyelectro expects SI units: seconds, Volts\n",
    "    np.savetxt(file_path, TV_soma.T, delimiter=',', fmt=['%.3E', '%.7E'])\n",
    "    print(\"Wrote trace to \" + os.path.abspath(file_path))"
   ]
  },
  {
   "cell_type": "markdown",
   "metadata": {},
   "source": [
    "## Measurement"
   ]
  },
  {
   "cell_type": "code",
   "execution_count": 5,
   "metadata": {},
   "outputs": [],
   "source": [
    "electrotonic_measures = {\n",
    "    'Ztransfer': {\n",
    "        'function': electrotonic.measure_transfer_impedance,\n",
    "        'label': 'Transfer impedance',\n",
    "        'units': 'Ohm',\n",
    "    },\n",
    "    'Ai': {\n",
    "        'function': electrotonic.measure_current_transfer,\n",
    "        'label': 'Current transfer ratio',\n",
    "        'units': 'ratio',\n",
    "    },\n",
    "    'Av': {\n",
    "        'function': electrotonic.measure_voltage_transfer,\n",
    "        'label': 'Voltage transfer ratio',\n",
    "        'units': 'ratio',\n",
    "    },\n",
    "    'Zin': {\n",
    "        'function': electrotonic.measure_input_impedance,\n",
    "        'label': 'Input impedance',\n",
    "        'units': 'Ohm',\n",
    "    }\n",
    "}\n",
    "\n",
    "def plot_electrotonic_structure(root, leaves, measures=None, freq=25.0):\n",
    "    \"\"\"\n",
    "    Plot electrotonic properties along dendritic paths.\n",
    "    \"\"\"\n",
    "    if measures is None:\n",
    "        plotted_measures = electrotonic_measures.keys()\n",
    "    else:\n",
    "        plotted_measures = measures\n",
    "    measure_funcs = {measure: electrotonic_measures[measure]['function'] for measure in plotted_measures}\n",
    "        \n",
    "    # Do measurement\n",
    "    leaf_path_measurements = electrotonic.measure_along_paths(root, leaves, measure_funcs, freq=freq)\n",
    "\n",
    "    # Plot measurements\n",
    "    fig, axes = plt.subplots(len(plotted_measures))\n",
    "\n",
    "#     measures_ylims = {\n",
    "#         'Ztransfer': (0, 50),\n",
    "#         'Ai': (0.5, 1.05),\n",
    "#         'Av': (0, 1.1),\n",
    "#         'Zin': (0, 1000.0),\n",
    "#     }\n",
    "\n",
    "    for i, measure in enumerate(plotted_measures):\n",
    "        ax = axes[i]\n",
    "\n",
    "        # Plot the same measure for each leaf in the same axis\n",
    "        for j, leaf in enumerate(leaves):\n",
    "            ax.plot(leaf_path_measurements[j]['pathlen_micron'],\n",
    "                    leaf_path_measurements[j][measure],\n",
    "                    label=leaf.name())\n",
    "\n",
    "            # ax.set_ylim(measures_ylims[measure])\n",
    "            # ax.legend()\n",
    "            ax.grid(True)\n",
    "            ax.set_ylabel('{} ({})'.format(measure, electrotonic_measures[measure]['units']))\n",
    "            ax.set_title(electrotonic_measures[measure]['label'])\n",
    "    \n",
    "    # prevent clipped xlabel\n",
    "    # fig.subplots_adjust(hspace=0.5)\n",
    "    # fig.tight_layout()\n",
    "    return leaf_path_measurements"
   ]
  },
  {
   "cell_type": "markdown",
   "metadata": {},
   "source": [
    "## Protocols"
   ]
  },
  {
   "cell_type": "code",
   "execution_count": 6,
   "metadata": {},
   "outputs": [],
   "source": [
    "def setup_protocol_SPONT():\n",
    "    \"\"\"\n",
    "    Edgerton 2010, Fig. 2\n",
    "\n",
    "    Spontaneous firing for Arkypallidal cells in shown in:\n",
    "\n",
    "        Abdi, Mallet et al (2015), Fig. 7 : f = 3 Hz\n",
    "        Bogacz, Moraud, et al (2016), Fig. 3 : f = 2 Hz\n",
    "    \"\"\"\n",
    "    h.dt = 0.025\n",
    "    h.tstop = 1000.0\n",
    "    \n",
    "    h.celsius = 35.0\n",
    "    h.v_init = -68.0\n",
    "    \n",
    "    h.init()\n",
    "    # h.run()\n",
    "    # nrnsim.run(h.tstop, h.dt)\n",
    "    \n",
    "    return {}\n",
    "\n",
    "\n",
    "def setup_protocol_POSPULSE(icell):\n",
    "    \"\"\"\n",
    "    Stimulation with 100 pA\n",
    "\n",
    "    See article Gunay (2008), Fig. 1 and Fig. 2.\n",
    "    \"\"\"\n",
    "    # Amplitude adjustment: soma surface was changed by factor 1 / 13.4^2 == pi*1^2 / pi*13.4^2\n",
    "    # However: remaining compartments were changed by smaller factor, so this is not good adjustment\n",
    "    surf_factor = 0.01\n",
    "    stim = h.IClamp(soma(0.5))\n",
    "    stim.delay = 1000\n",
    "    stim.dur = 1000\n",
    "    stim.amp = 0.1 * surf_factor # 100 pA = 0.1 nA\n",
    "\n",
    "    h.dt = 0.025\n",
    "    h.tstop = 3000.0\n",
    "    \n",
    "    h.celsius = 35.0\n",
    "    h.v_init = -68.0\n",
    "    \n",
    "    h.init()\n",
    "    \n",
    "    return {'electrodes': [stim]}\n",
    "\n",
    "\n",
    "def setup_protocol_NEGPULSE(icell):\n",
    "    \"\"\"\n",
    "    Stimulation with -100 pA\n",
    "\n",
    "    See article Gunay (2008), Fig. 1 and Fig. 2.\n",
    "    \"\"\"\n",
    "    # Amplitude adjustment: soma surface was changed by factor 1 / 13.4^2 == pi*1^2 / pi*13.4^2\n",
    "    # However: remaining compartments were changed by smaller factor, so this is not good adjustment\n",
    "    surf_factor = 0.02\n",
    "    stim = h.IClamp(soma(0.5))\n",
    "    stim.delay = 1000\n",
    "    stim.dur = 1000\n",
    "    stim.amp = -0.1 * surf_factor # 100 pA = 0.1 nA\n",
    "    \n",
    "    h.dt = 0.025\n",
    "    h.tstop = 3000.0\n",
    "    \n",
    "    h.celsius = 35.0\n",
    "    h.v_init = -68.0\n",
    "    \n",
    "    h.init()\n",
    "    \n",
    "    return {'electrodes': [stim]}\n",
    "\n",
    "def setup_protocol_ANTIDROMIC(cellmodel, amp=0.05, dur=200.0):\n",
    "    \"\"\"\n",
    "    stimulation of axon.\n",
    "    \"\"\"\n",
    "    sec = cellmodel.axon['node'][10]\n",
    "    \n",
    "    surf_factor = 1.0\n",
    "    stim = h.IClamp(sec(0.5))\n",
    "    stim.delay = 500\n",
    "    stim.dur = dur\n",
    "    stim.amp = amp # (nA) e.g. 0.1 nA = 100 pA\n",
    "\n",
    "    h.dt = 0.025\n",
    "    h.tstop = 1000.0\n",
    "    \n",
    "    h.celsius = 35.0\n",
    "    h.v_init = -68.0\n",
    "    \n",
    "    h.init()\n",
    "    \n",
    "    return {'electrodes': [stim]}"
   ]
  },
  {
   "cell_type": "markdown",
   "metadata": {},
   "source": [
    "# Gunay (2008) cell"
   ]
  },
  {
   "cell_type": "markdown",
   "metadata": {},
   "source": [
    "## Make Cell"
   ]
  },
  {
   "cell_type": "code",
   "execution_count": 7,
   "metadata": {},
   "outputs": [
    {
     "name": "stderr",
     "output_type": "stream",
     "text": [
      "DEBUG:AxonBuilder@axon_base.py:384: Axon coordinates were translated by vector [-17.04590039  -6.20909766  -7.09591553]\n",
      "DEBUG:AxonBuilder@axon_base.py:580: Estimated number of sections to build axon  of length 3.11683327399 mm: 30.9\n",
      "DEBUG:AxonBuilder@axon_base.py:694: Created 185 axonal segments (31 sections)\n",
      "DEBUG:AxonBuilder@axon_base.py:732: Updated SectionList 'all' of GPeCellModel[0]\n",
      "DEBUG:AxonBuilder@axon_base.py:732: Updated SectionList 'axonal' of GPeCellModel[0]\n"
     ]
    }
   ],
   "source": [
    "# Load axon trajectory from diffusion streamlines\n",
    "streamlines_path = '/home/luye/Documents/mri_data/Waxholm_rat_brain_atlas/WHS_DTI_v1_ALS/S56280_ROI-STN-bilateral.tck'\n",
    "# axon_coords = morph_ni.load_streamlines(streamlines_path, max_num=1, min_length=2.0)[0]\n",
    "\n",
    "# Load axon trajectory from Blender splines\n",
    "axonfile_splines = ('/home/luye/workspace/bgcellmodels/bgcellmodels/models/network/'\n",
    "                    'LuNetDBS/configs/axons/axon_coordinates_full.pkl')\n",
    "with open(axonfile_splines, 'rb') as axon_file:\n",
    "    all_axons = pickle.load(axon_file)\n",
    "axon_coords = np.array(all_axons['axon.GPe-STN.nurbs.5']) * 1e-3\n",
    "\n",
    "# Don't use axon\n",
    "# axon_coords = []\n",
    "\n",
    "# Cell parameters\n",
    "cell_params = dict(gunay.GpeProtoCellType.default_parameters)\n",
    "cell_params['transform'] = np.eye(4)\n",
    "cell_params['streamline_coordinates_mm'] = axon_coords\n",
    "cell_params['axon_class'] = AxonFoust2011\n",
    "cell_params['with_extracellular'] = False\n",
    "cell_params['owning_gid'] = 1\n",
    "\n",
    "## Parameters for gap junction connection\n",
    "# Axon configuration\n",
    "# - if gap_pre_conductance = 1e-5, spontaneous spiking unaffected but antidromic spikes do not trigger spike in soma\n",
    "# - if gap_pre_conductance = 1e-4, antidromic spike results in dV of 2.5 mV in soma\n",
    "# - if gap_pre_conductance = 5e-4, antidromic spike results in dV of 15 mV in soma, but no spike\n",
    "# - if gap_pre_conductance = 1e-3, antidromic spike results in somatic spike\n",
    "# cell_params['axon_using_gap_junction'] = False\n",
    "# cell_params['gap_pre_conductance'] = 1e-5 # g=0 means unidirectional soma->axon\n",
    "# cell_params['gap_post_conductance'] = 1e-3\n",
    "# cell_params['axon_taper_diam'] = .005\n",
    "\n",
    "# instantiate cell\n",
    "model = gunay.GpeProtoCellType.model(**cell_params)\n",
    "icell = model.icell"
   ]
  },
  {
   "cell_type": "code",
   "execution_count": 14,
   "metadata": {},
   "outputs": [
    {
     "data": {
      "text/plain": [
       "[GPeCellModel[0].axon[0],\n",
       " GPeCellModel[0].aismyelin[0],\n",
       " GPeCellModel[0].myelin[0],\n",
       " GPeCellModel[0].node[0],\n",
       " GPeCellModel[0].myelin[1],\n",
       " GPeCellModel[0].node[1],\n",
       " GPeCellModel[0].myelin[2],\n",
       " GPeCellModel[0].node[2],\n",
       " GPeCellModel[0].myelin[3],\n",
       " GPeCellModel[0].node[3],\n",
       " GPeCellModel[0].myelin[4],\n",
       " GPeCellModel[0].node[4],\n",
       " GPeCellModel[0].myelin[5],\n",
       " GPeCellModel[0].node[5],\n",
       " GPeCellModel[0].myelin[6],\n",
       " GPeCellModel[0].node[6],\n",
       " GPeCellModel[0].myelin[7],\n",
       " GPeCellModel[0].node[7],\n",
       " GPeCellModel[0].myelin[8],\n",
       " GPeCellModel[0].node[8],\n",
       " GPeCellModel[0].myelin[9],\n",
       " GPeCellModel[0].node[9],\n",
       " GPeCellModel[0].myelin[10],\n",
       " GPeCellModel[0].node[10],\n",
       " GPeCellModel[0].myelin[11],\n",
       " GPeCellModel[0].node[11],\n",
       " GPeCellModel[0].myelin[12],\n",
       " GPeCellModel[0].node[12],\n",
       " GPeCellModel[0].myelin[13],\n",
       " GPeCellModel[0].node[13],\n",
       " GPeCellModel[0].myelin[14],\n",
       " GPeCellModel[0].node[14]]"
      ]
     },
     "execution_count": 14,
     "metadata": {},
     "output_type": "execute_result"
    }
   ],
   "source": [
    "list(icell.axonal)"
   ]
  },
  {
   "cell_type": "code",
   "execution_count": null,
   "metadata": {},
   "outputs": [],
   "source": [
    "# Get sections by region\n",
    "named_seclists =  {listname: list(getattr(icell, listname)) for listname in model.seclist_names}\n",
    "for k, v in named_seclists.items():\n",
    "    if len(v)==0:\n",
    "        named_seclists.pop(k) # don't include empty SectionLists\n",
    "    else:\n",
    "        print(\"{} : {} sections\".format(k, len(v)))\n",
    "\n",
    "somatic = named_seclists['somatic']\n",
    "dendritic = named_seclists['basal']\n",
    "\n",
    "soma = somatic[0]\n",
    "dend = dendritic[0]\n",
    "\n",
    "if model.axon is not None:\n",
    "    axonal = list(model.axon.all)\n",
    "else:\n",
    "    axonal = []"
   ]
  },
  {
   "cell_type": "code",
   "execution_count": null,
   "metadata": {},
   "outputs": [],
   "source": [
    "# Representative sections picked from morphology viewer\n",
    "distal_seg = dendritic[31](0.8)\n",
    "middle_seg = dendritic[25](0.5)\n",
    "proximal_seg = dendritic[0](0.5)\n",
    "\n",
    "dend_leaf_secs = treeutils.leaf_sections(soma, subtree=True)\n",
    "leaves = dend_leaf_secs\n",
    "root = icell.soma[0]\n",
    "\n",
    "rec_secs = {\n",
    "    'soma': soma,\n",
    "    'prox': proximal_seg,\n",
    "    'mid': middle_seg,\n",
    "    'dist': distal_seg,\n",
    "    \n",
    "}\n",
    "\n",
    "if axonal:\n",
    "    axon_leaf_secs = treeutils.leaf_sections(axonal[0], subtree=True)\n",
    "    assert len(axon_leaf_secs) == 1, \"More than one axon terminal section.\"\n",
    "    axon_terminal = axon_leaf_secs[0]\n",
    "    \n",
    "    rec_secs.update({\n",
    "        # Axon sections\n",
    "        'ax_prox': model.axon['node'][3], # axonal[int(0.2 * len(axonal))],\n",
    "        'ax_mid': model.axon['node'][6], # axonal[int(0.5 * len(axonal))],\n",
    "        'ax_dist': model.axon['node'][9], # axonal[int(0.8 * len(axonal))],\n",
    "        'ax_term': axon_terminal,\n",
    "    })"
   ]
  },
  {
   "cell_type": "markdown",
   "metadata": {},
   "source": [
    "# Protocols"
   ]
  },
  {
   "cell_type": "markdown",
   "metadata": {},
   "source": [
    "## Cell Properties"
   ]
  },
  {
   "cell_type": "code",
   "execution_count": null,
   "metadata": {},
   "outputs": [],
   "source": [
    "# from neuron import gui\n",
    "# h.topology()"
   ]
  },
  {
   "cell_type": "code",
   "execution_count": null,
   "metadata": {},
   "outputs": [],
   "source": [
    "# First draw skeleton to get an idea\n",
    "# plt.figure()\n",
    "# ax = plt.subplot(111, projection='3d')\n",
    "# ax.view_init(90,90) # set azimut and elevation\n",
    "# ax.set_zlim((-1,1)) # prevent rounding errors\n",
    "# ax.set_axis_off() # hide x,y,z axes and grid\n",
    "\n",
    "# # center = np.array([h.x3d(0, sec=soma), h.y3d(0, sec=soma), h.z3d(0, sec=soma)])\n",
    "# x_soma = h.x3d(0, sec=soma)\n",
    "# y_soma = h.y3d(0, sec=soma)\n",
    "# ax.set_xlim((x_soma-200, x_soma+200))\n",
    "# ax.set_ylim((y_soma-200, y_soma+200))\n",
    "\n",
    "\n",
    "# # Plot shape of our cell\n",
    "# morph_gui.shapeplot(h, ax)\n",
    "\n",
    "# # Mark location of leaf section to refer to plots\n",
    "# marker_colors = 'rgby'\n",
    "# for i, leaf_sec in enumerate(leaves):\n",
    "#     morph_gui.mark_locations(h, leaf_sec, 1.0, \n",
    "#                              label=leaf_sec.name(),\n",
    "#                              markspec='o'+marker_colors[i])\n",
    "\n",
    "# plt.legend()\n",
    "# plt.show()"
   ]
  },
  {
   "cell_type": "code",
   "execution_count": null,
   "metadata": {},
   "outputs": [],
   "source": [
    "soma_Zin = {\n",
    "    f : electrotonic.measure_input_impedance(soma(0.5), freq=f, linearize_gating=False)\n",
    "                for f in (0.0, 100.0)\n",
    "}\n",
    "\n",
    "print(\"\"\"Values without axon are:\n",
    "        Zin(f=0.0) = 10244.5768497 (MOhm)\n",
    "        Zin(f=100.0) = 514.248538756 (MOhm)\\n\"\"\")\n",
    "\n",
    "print(\"Somatic input impedances are: \\n\\t\" + \"\\n\\t\".join(\n",
    "        [\"Zin(f={}) = {} (MOhm)\".format(f, Z) for f,Z in soma_Zin.items()]))\n",
    "\n",
    "# measurements = plot_electrotonic_structure(root, leaves)"
   ]
  },
  {
   "cell_type": "markdown",
   "metadata": {},
   "source": [
    "## Recordings"
   ]
  },
  {
   "cell_type": "code",
   "execution_count": null,
   "metadata": {},
   "outputs": [],
   "source": [
    "trace_specs = collections.OrderedDict([\n",
    "    ('t_global', {'var':'t'}),\n",
    "    # Cell body and dendrites\n",
    "    ('V_soma', {'var':'v', 'sec':'soma', 'loc':0.5}),\n",
    "    ('V_prox', {'var':'v', 'seg':'prox'}),\n",
    "    ('V_mid', {'var':'v', 'seg':'mid'}),\n",
    "    ('V_dist', {'var':'v', 'seg':'dist'}),\n",
    "    \n",
    "])\n",
    "\n",
    "if axonal:\n",
    "    trace_specs.update([\n",
    "        # Axonal sections\n",
    "        ('V_axprox', {'var':'v', 'sec':'ax_prox', 'loc':0.5}),\n",
    "        ('V_axmid', {'var':'v', 'sec':'ax_mid', 'loc':0.5}),\n",
    "        ('V_axdist', {'var':'v', 'sec':'ax_dist', 'loc':0.5}),\n",
    "        ('V_axterm', {'var':'v', 'sec':'ax_term', 'loc':0.5}),\n",
    "    ])\n",
    "\n",
    "# Record\n",
    "rec_dt = 0.05\n",
    "vec_dict, markers = analysis.recordTraces(rec_secs, trace_specs, rec_dt)"
   ]
  },
  {
   "cell_type": "markdown",
   "metadata": {},
   "source": [
    "## Modify Cell"
   ]
  },
  {
   "cell_type": "code",
   "execution_count": null,
   "metadata": {},
   "outputs": [],
   "source": [
    "print(\"\"\"Original:\n",
    "-------------------------------\n",
    "\n",
    "somatic:  \tgmax_CaHVA = 0.000030\n",
    "somatic:  \tgmax_Kv4s = 0.003000\n",
    "somatic:  \tgmax_HCN = 0.000100\n",
    "somatic:  \tg_pas = 0.000068\n",
    "somatic:  \tgmax_NaF = 0.035000\n",
    "somatic:  \tgmax_HCN2 = 0.000250\n",
    "somatic:  \tgmax_KCNQ = 0.000200\n",
    "somatic:  \tgmax_SK = 0.006400\n",
    "somatic:  \tgmax_Kv4f = 0.002000\n",
    "somatic:  \tgmax_NaP = 0.000102\n",
    "somatic:  \tgmax_Kv2 = 0.000100\n",
    "somatic:  \tgmax_Kv3 = 0.001000\n",
    "\n",
    "basal:  \tgmax_CaHVA = 0.000030\n",
    "basal:  \tgmax_Kv4s = 0.006000\n",
    "basal:  \tgmax_HCN = 0.000100\n",
    "basal:  \tg_pas = 0.000068\n",
    "basal:  \tgmax_NaF = 0.035000\n",
    "basal:  \tgmax_HCN2 = 0.000250\n",
    "basal:  \tgmax_KCNQ = 0.000200\n",
    "basal:  \tgmax_SK = 0.000040\n",
    "basal:  \tgmax_Kv4f = 0.004000\n",
    "basal:  \tgmax_NaP = 0.000102\n",
    "basal:  \tgmax_Kv2 = 0.000100\n",
    "basal:  \tgmax_Kv3 = 0.001000\n",
    "\n",
    "axonal:  \tgmax_Kv4s = 0.240000\n",
    "axonal:  \tg_pas = 0.000068\n",
    "axonal:  \tgmax_NaF = 0.500000\n",
    "axonal:  \tgmax_KCNQ = 0.000040\n",
    "axonal:  \tgmax_Kv4f = 0.160000\n",
    "axonal:  \tgmax_NaP = 0.004000\n",
    "axonal:  \tgmax_Kv2 = 0.064000\n",
    "axonal:  \tgmax_Kv3 = 0.128000\n",
    "\"\"\")\n",
    "\n",
    "print(\"\"\"Current:\n",
    "-------------------------------\"\"\")\n",
    "\n",
    "for seclist in 'somatic', 'basal', 'axonal':\n",
    "    sections = list(getattr(icell, seclist))\n",
    "    print('')\n",
    "    for sec in sections:\n",
    "        printed = False\n",
    "        for mech, pnames in model._mechs_params_dict.items():\n",
    "            rangevar = pnames[0] + '_' + mech\n",
    "            if h.ismembrane(mech, sec=sec):\n",
    "                print(\"%s:  \\t%s = %f\" % (seclist, rangevar, getattr(sec, rangevar)))\n",
    "                printed = True\n",
    "        if printed:\n",
    "            break"
   ]
  },
  {
   "cell_type": "code",
   "execution_count": null,
   "metadata": {},
   "outputs": [],
   "source": [
    "# Change cell body properties to compensate for axon attachment (reduced input impedance)\n",
    "axonal = list(icell.axonal)\n",
    "ais = axonal[0]\n",
    "\n",
    "# Increase size from 1 um -> decrease influence of axon on firing properties\n",
    "soma.diam = 25.0\n",
    "ais.diam = 20.0\n",
    "\n",
    "# Increase NaP density -> need higher persistent current to compensate for Zin decrease\n",
    "gbar_scaling = {\n",
    "    'basal':    {'gname': 'gmax_NaP', 'default': 0.000102, 'scale': 1.0},\n",
    "    'somatic' : {'gname': 'gmax_NaP', 'default': 0.000102, 'scale': 9.1},\n",
    "    'axonal':   {'gname': 'gmax_NaP', 'default': 0.004000, 'scale': 9.1},\n",
    "}\n",
    "\n",
    "for seclist in gbar_scaling.keys():\n",
    "    secs  = getattr(icell, seclist)\n",
    "    gname = gbar_scaling[seclist]['gname']\n",
    "    gscale = gbar_scaling[seclist]['scale']\n",
    "    gbase = gbar_scaling[seclist]['default']\n",
    "    for sec in secs:\n",
    "        if h.ismembrane(gname.split('_')[1], sec=sec):\n",
    "            for seg in sec:\n",
    "                setattr(seg, gname, gbase * gscale)"
   ]
  },
  {
   "cell_type": "markdown",
   "metadata": {},
   "source": [
    "## Protocol SPONT"
   ]
  },
  {
   "cell_type": "code",
   "execution_count": null,
   "metadata": {},
   "outputs": [],
   "source": [
    "# Edgerton 2010, Fig. 2\n",
    "# Spontaneous firing for Arkypallidal cells in shown in:\n",
    "#     - Abdi, Mallet et al (2015), Fig. 7 : f = 3 Hz\n",
    "#     - Bogacz, Moraud, et al (2016), Fig. 3 : f = 2 Hz\n",
    "setup_protocol_SPONT()\n",
    "h.run()"
   ]
  },
  {
   "cell_type": "code",
   "execution_count": null,
   "metadata": {},
   "outputs": [],
   "source": [
    "figs_vm = analysis.plotTraces(vec_dict, rec_dt, traceSharex=True, excludeTraces='t_global')\n",
    "# save_trace('V_soma', 'v_soma_SPONT_mV_ms.csv', scale=1.0)"
   ]
  },
  {
   "cell_type": "markdown",
   "metadata": {},
   "source": [
    "## Protocol POSPULSE"
   ]
  },
  {
   "cell_type": "code",
   "execution_count": null,
   "metadata": {},
   "outputs": [],
   "source": [
    "# Stimulation with +100 pA\n",
    "# See article Gunay (2008), Fig. 1 and Fig. 2.\n",
    "protocol = setup_protocol_POSPULSE(icell)\n",
    "h.run()"
   ]
  },
  {
   "cell_type": "code",
   "execution_count": null,
   "metadata": {},
   "outputs": [],
   "source": [
    "figs_vm = analysis.plotTraces(vec_dict, rec_dt, traceSharex=True)"
   ]
  },
  {
   "cell_type": "markdown",
   "metadata": {},
   "source": [
    "## Protocol NEGPULSE"
   ]
  },
  {
   "cell_type": "code",
   "execution_count": null,
   "metadata": {},
   "outputs": [],
   "source": [
    "# Stimulation with -100 pA\n",
    "# See article Gunay (2008), Fig. 1 and Fig. 2.\n",
    "protocol = setup_protocol_NEGPULSE(icell)\n",
    "h.run()"
   ]
  },
  {
   "cell_type": "code",
   "execution_count": null,
   "metadata": {},
   "outputs": [],
   "source": [
    "figs_vm = analysis.plotTraces(vec_dict, rec_dt, traceSharex=True)"
   ]
  },
  {
   "cell_type": "markdown",
   "metadata": {},
   "source": [
    "## Protocol ANTIDROMIC"
   ]
  },
  {
   "cell_type": "code",
   "execution_count": null,
   "metadata": {},
   "outputs": [],
   "source": [
    "# Disable spontaneous spiking in\n",
    "for sec in icell.all:\n",
    "    if h.ismembrane('NaP', sec=sec):\n",
    "        sec.gmax_NaP = 0.0"
   ]
  },
  {
   "cell_type": "code",
   "execution_count": null,
   "metadata": {},
   "outputs": [],
   "source": [
    "protocol = setup_protocol_ANTIDROMIC(model, dur=5.0)\n",
    "h.run()"
   ]
  },
  {
   "cell_type": "code",
   "execution_count": null,
   "metadata": {},
   "outputs": [],
   "source": [
    "figs_vm = analysis.plotTraces(vec_dict, rec_dt, traceSharex=True)"
   ]
  },
  {
   "cell_type": "markdown",
   "metadata": {},
   "source": [
    "# Save Notebook"
   ]
  },
  {
   "cell_type": "code",
   "execution_count": null,
   "metadata": {},
   "outputs": [],
   "source": [
    "%%javascript\n",
    "require([\"base/js/namespace\"],function(Jupyter) {\n",
    "    Jupyter.notebook.save_checkpoint();\n",
    "});"
   ]
  },
  {
   "cell_type": "code",
   "execution_count": null,
   "metadata": {},
   "outputs": [],
   "source": [
    "from datetime import datetime\n",
    "nb_filename = 'calibrate_morphologies_GPe.ipynb'\n",
    "report_filename = 'calibrate_morphologies_GPe_{}.html'.format(datetime.now().strftime('%Y.%m.%d_%H.%M.%S'))\n",
    "!jupyter nbconvert $nb_filename --to html --template=toc2 --output $report_filename"
   ]
  },
  {
   "cell_type": "code",
   "execution_count": null,
   "metadata": {},
   "outputs": [],
   "source": []
  }
 ],
 "metadata": {
  "kernelspec": {
   "display_name": "Python 2",
   "language": "python",
   "name": "python2"
  },
  "language_info": {
   "codemirror_mode": {
    "name": "ipython",
    "version": 2
   },
   "file_extension": ".py",
   "mimetype": "text/x-python",
   "name": "python",
   "nbconvert_exporter": "python",
   "pygments_lexer": "ipython2",
   "version": "2.7.15"
  },
  "toc": {
   "base_numbering": 1,
   "nav_menu": {},
   "number_sections": false,
   "sideBar": true,
   "skip_h1_title": false,
   "title_cell": "Table of Contents",
   "title_sidebar": "Contents",
   "toc_cell": false,
   "toc_position": {
    "height": "calc(100% - 180px)",
    "left": "10px",
    "top": "150px",
    "width": "217px"
   },
   "toc_section_display": true,
   "toc_window_display": true
  }
 },
 "nbformat": 4,
 "nbformat_minor": 2
}
