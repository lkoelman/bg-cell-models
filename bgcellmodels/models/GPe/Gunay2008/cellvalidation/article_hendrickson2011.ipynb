{
 "cells": [
  {
   "cell_type": "markdown",
   "metadata": {},
   "source": [
    "# Prelude"
   ]
  },
  {
   "cell_type": "code",
   "execution_count": null,
   "metadata": {},
   "outputs": [],
   "source": [
    "# Enable interactive plots (%matplotlib -l to list backends)\n",
    "%matplotlib notebook\n",
    "import matplotlib.pyplot as plt\n",
    "import numpy as np\n",
    "from mpl_toolkits.mplot3d import Axes3D\n",
    "\n",
    "from bgcellmodels.common import analysis, units, morphology, treeutils\n",
    "import bgcellmodels.models.GPe.Gunay2008.gunay_model as gunay_model\n",
    "import neuron; h = neuron.h\n",
    "import bluepyopt.ephys as ephys\n",
    "\n",
    "# print code version (hash of checked out version)\n",
    "print(\"\\nCurrent commit:\")\n",
    "!git log -1\n",
    "print(\"\\nChanges since last commit:\")\n",
    "!git status --short\n",
    "\n",
    "# print date and time of script execution\n",
    "import datetime\n",
    "print(\"\\nNotebook executed at at {} in following directory:\".format(datetime.datetime.now()))\n",
    "%cd .."
   ]
  },
  {
   "cell_type": "markdown",
   "metadata": {},
   "source": [
    "# Create cell"
   ]
  },
  {
   "cell_type": "code",
   "execution_count": null,
   "metadata": {},
   "outputs": [],
   "source": [
    "nrnsim = ephys.simulators.NrnSimulator(dt=0.025, cvode_active=False)\n",
    "\n",
    "# Instantiate the cell\n",
    "excluded = [] # mechanism names that will not be used\n",
    "\n",
    "# SETPARAM: choose model - article or model DB version\n",
    "# cell = gunay_model.define_cell(\"GUNAY2008_AXONLESS\", exclude_mechs=excluded)\n",
    "cell = gunay_model.define_cell(gunay_model.MODEL_GUNAY2008_REBOUNDBURSTING, exclude_mechs=excluded)\n",
    "cell.instantiate(sim=nrnsim)\n",
    "icell = cell.icell # cell instantiated in Hoc\n",
    "\n",
    "# Fix model for GENESIS -> NEURON conversion\n",
    "gunay_model.fix_comp_dimensions(cell)\n",
    "# gunay_model.fix_num_compartments(cell, 100.0, nrnsim)"
   ]
  },
  {
   "cell_type": "code",
   "execution_count": null,
   "metadata": {},
   "outputs": [],
   "source": [
    "named_seclists =  {listname: list(getattr(icell, listname)) for listname in cell.seclist_names}\n",
    "for k, v in named_seclists.items():\n",
    "    if len(v)==0:\n",
    "        named_seclists.pop(k)\n",
    "    else:\n",
    "        print(\"{} : {} sections\".format(k, len(v)))\n",
    "\n",
    "somatic = named_seclists['somatic']\n",
    "dendritic = named_seclists['basal']\n",
    "axonal = named_seclists['axonal']\n",
    "\n",
    "soma = somatic[0]\n",
    "axon = axonal[0]\n",
    "dend = dendritic[0]\n",
    "\n",
    "i_sec = 0\n",
    "for seclist in 'somatic', 'axonal', 'basal':\n",
    "    print(seclist + '[{}] : {}'.format(i_sec, named_seclists[seclist][i_sec]))"
   ]
  },
  {
   "cell_type": "markdown",
   "metadata": {},
   "source": [
    "# Plot Morphology & Properties\n",
    "\n",
    "Inspect cell structure to make sure everything is sane."
   ]
  },
  {
   "cell_type": "markdown",
   "metadata": {},
   "source": [
    "## Check Discretization Grid"
   ]
  },
  {
   "cell_type": "code",
   "execution_count": null,
   "metadata": {},
   "outputs": [],
   "source": [
    "from bgcellmodels.common.electrotonic import calc_min_nseg_hines, calc_lambda_AC\n",
    "\n",
    "f_lambda = 100.0\n",
    "\n",
    "# Calculate total nseg\n",
    "all_sec = list(cell.icell.all)\n",
    "tot_nseg = sum((sec.nseg for sec in all_sec))\n",
    "print(\"Number of segments before adjustment: nseg = {}\".format(tot_nseg))\n",
    "\n",
    "# Adjust minimum number of segments\n",
    "\n",
    "for sec in cell.icell.all:\n",
    "    lamb = calc_lambda_AC(f_lambda, sec.diam, sec.Ra, sec.cm)\n",
    "    Lseg = sec.L/sec.nseg\n",
    "    min_nseg = calc_min_nseg_hines(f_lambda, sec.L, sec.diam, sec.Ra, sec.cm, round_up=False)\n",
    "\n",
    "    if min_nseg > sec.nseg:\n",
    "        print(\"Discretization too coarse:\\n\"\n",
    "        \"L/lambda = {} -- nseg = {}\\n\"\n",
    "        \"=> new nseg = {}\".format(Lseg/lamb, sec.nseg, min_nseg))\n",
    "\n",
    "        sec.nseg = min_nseg\n",
    "\n",
    "# Recalculate total nseg\n",
    "new_nseg = sum((sec.nseg for sec in all_sec))\n",
    "nseg_fraction = new_nseg / tot_nseg\n",
    "print(\"Number of segments after adjustment: nseg = {}\".format(new_nseg))\n",
    "print(\"Change is {} percent\".format(nseg_fraction))"
   ]
  },
  {
   "cell_type": "markdown",
   "metadata": {},
   "source": [
    "## Morphology"
   ]
  },
  {
   "cell_type": "code",
   "execution_count": null,
   "metadata": {},
   "outputs": [],
   "source": [
    "plt.figure()\n",
    "ax = plt.subplot(111, projection='3d')\n",
    "# ax.view_init(90,90) # set azimut and elevation\n",
    "# ax.set_zlim((-1,1)) # prevent rounding errors\n",
    "# ax.set_axis_off() # hide x,y,z axes and grid\n",
    "\n",
    "# Plot shape of our cell\n",
    "# h.define_shape(sec=soma) # for cells without 3D morphology\n",
    "morphology.shapeplot(h, ax)\n",
    "\n",
    "# Plot soma locations\n",
    "morphology.mark_locations(h, soma, 0.5, label='soma', markspec='or')\n",
    "morphology.mark_locations(h, axon, 1.0, label='axon_tip', markspec='og')\n",
    "\n",
    "\n",
    "plt.legend()\n",
    "plt.show()"
   ]
  },
  {
   "cell_type": "markdown",
   "metadata": {},
   "source": [
    "## Conductances\n",
    "\n",
    "Plot using NEURON ModelView : `from neuron import gui` -> Tools -> ModelView."
   ]
  },
  {
   "cell_type": "code",
   "execution_count": null,
   "metadata": {},
   "outputs": [],
   "source": [
    "# Adjust conductances to test effect\n",
    "n_adj = 1\n",
    "for mech in ['CaHVA']: # HCN\n",
    "    for sec in icell.all:\n",
    "        if h.ismembrane(mech, sec=sec):\n",
    "            n_adj += 1\n",
    "            for seg in sec:\n",
    "                # seg.gmax_HCN = 0.5 * seg.gmax_HCN\n",
    "                print(\"{} : gmax_{} = {}\".format(seg, mech, getattr(seg, 'gmax_'+mech)))\n",
    "\n",
    "    print(\"Adjusted gmax_HCN in {} sections.\".format(n_adj))"
   ]
  },
  {
   "cell_type": "markdown",
   "metadata": {},
   "source": [
    "# Record & Plot Protocols\n",
    "\n",
    "List of possible traces for recordings:"
   ]
  },
  {
   "cell_type": "code",
   "execution_count": null,
   "metadata": {},
   "outputs": [],
   "source": [
    "trace_specs = {\n",
    "    # Membrane voltages\n",
    "    'V_soma': {'var':'v', 'sec':'soma', 'loc':0.5},\n",
    "    'V_dend': {'var':'v', 'sec':'dend', 'loc':0.5},\n",
    "    # Membrane currents\n",
    "#     'iCaH': {'var':'iCaH', 'mech':'CaHVA', 'sec':'dend', 'loc':0.5},\n",
    "#     'iHCN': {'var':'iHCN', 'mech':'HCN', 'sec':'dend', 'loc':0.5},\n",
    "#     'iHCN2': {'var':'iHCN', 'mech':'HCN2', 'sec':'dend', 'loc':0.5},\n",
    "#     'iKCNQ': {'var':'iKCNQ', 'mech':'KCNQ', 'sec':'dend', 'loc':0.5},\n",
    "#     'iKv2': {'var':'iKv2', 'mech':'Kv2', 'sec':'dend', 'loc':0.5},\n",
    "#     'iKv3': {'var':'iKv3', 'mech':'Kv3', 'sec':'dend', 'loc':0.5},\n",
    "#     'iKv4f': {'var':'iKv4f', 'mech':'Kv4f', 'sec':'dend', 'loc':0.5},\n",
    "#     'iKv4s': {'var':'iKv4s', 'mech':'Kv4s', 'sec':'dend', 'loc':0.5},\n",
    "#     'iNa': {'var':'iNa', 'mech':'NaF', 'sec':'dend', 'loc':0.5},\n",
    "#     'iNa': {'var':'iNa', 'mech':'NaP', 'sec':'dend', 'loc':0.5},\n",
    "#     'iSK': {'var':'iSK', 'mech':'SK', 'sec':'dend', 'loc':0.5},\n",
    "    # Ion concentrations\n",
    "    'cai': {'var':'cai', 'sec':'dend', 'loc':0.5},\n",
    "    # Gating variables\n",
    "    'mCaH': {'var':'m', 'mech':'CaHVA', 'sec':'dend', 'loc':0.5},\n",
    "    'taumCaH': {'var':'taum', 'mech':'CaHVA', 'sec':'dend', 'loc':0.5},\n",
    "    'minfCaH': {'var':'minf', 'mech':'CaHVA', 'sec':'dend', 'loc':0.5},\n",
    "#     'mHCN': {'var':'m', 'mech':'HCN', 'sec':'dend', 'loc':0.5},\n",
    "#     'mHCN2': {'var':'m', 'mech':'HCN2', 'sec':'dend', 'loc':0.5},\n",
    "#     'mKCNQ': {'var':'m', 'mech':'KCNQ', 'sec':'dend', 'loc':0.5},\n",
    "#     'mKv2': {'var':'m', 'mech':'Kv2', 'sec':'dend', 'loc':0.5},\n",
    "#     'hKv2': {'var':'h', 'mech':'Kv2', 'sec':'dend', 'loc':0.5},\n",
    "#     'mKv3': {'var':'m', 'mech':'Kv3', 'sec':'dend', 'loc':0.5},\n",
    "#     'hKv3': {'var':'h', 'mech':'Kv3', 'sec':'dend', 'loc':0.5},\n",
    "#     'mKv4f': {'var':'m', 'mech':'Kv4f', 'sec':'dend', 'loc':0.5},\n",
    "#     'hKv4f': {'var':'h', 'mech':'Kv4f', 'sec':'dend', 'loc':0.5},\n",
    "#     'mKv4s': {'var':'m', 'mech':'Kv4s', 'sec':'dend', 'loc':0.5},\n",
    "#     'hKv4s': {'var':'h', 'mech':'Kv4s', 'sec':'dend', 'loc':0.5},\n",
    "#     'mNaF': {'var':'m', 'mech':'NaF', 'sec':'dend', 'loc':0.5},\n",
    "#     'hNaF': {'var':'h', 'mech':'NaF', 'sec':'dend', 'loc':0.5},\n",
    "#     'sNaF': {'var':'s', 'mech':'NaF', 'sec':'dend', 'loc':0.5},\n",
    "#     'mNaP': {'var':'m', 'mech':'NaP', 'sec':'dend', 'loc':0.5},\n",
    "#     'hNaP': {'var':'h', 'mech':'NaP', 'sec':'dend', 'loc':0.5},\n",
    "#     'sNaP': {'var':'s', 'mech':'NaP', 'sec':'dend', 'loc':0.5},\n",
    "#     'mSK': {'var':'m', 'mech':'SK', 'sec':'dend', 'loc':0.5},\n",
    "}"
   ]
  },
  {
   "cell_type": "markdown",
   "metadata": {},
   "source": [
    "## Spontaneous Firing\n",
    "\n",
    "Edgerton 2010, Fig. 2\n",
    "\n",
    "Spontaneous firing for Arkypallidal cells in shown in:\n",
    "- Abdi, Mallet et al (2015), Fig. 7 : f = 3 Hz\n",
    "- Bogacz, Moraud, et al (2016), Fig. 3 : f = 2 Hz"
   ]
  },
  {
   "cell_type": "code",
   "execution_count": null,
   "metadata": {},
   "outputs": [],
   "source": [
    "rec_secs = {\n",
    "    'soma': soma,\n",
    "    'dend': dend,\n",
    "}\n",
    "\n",
    "trace_specs = {\n",
    "    # Membrane voltages\n",
    "    'V_soma': {'var':'v', 'sec':'soma', 'loc':0.5},\n",
    "    'V_dend': {'var':'v', 'sec':'dend', 'loc':0.5},\n",
    "    # Ion concentrations\n",
    "    'cai': {'var':'cai', 'sec':'dend', 'loc':0.5},\n",
    "}\n",
    "\n",
    "rec_dt = 0.05\n",
    "vec_dict, markers = analysis.recordTraces(rec_secs, trace_specs, rec_dt)\n",
    "\n",
    "# Custom recordings\n",
    "vrec = h.Vector()\n",
    "vrec.record(soma(0.5)._ref_v)\n",
    "trec = h.Vector()\n",
    "trec.record(h._ref_t)"
   ]
  },
  {
   "cell_type": "code",
   "execution_count": null,
   "metadata": {},
   "outputs": [],
   "source": [
    "# Init and run simulation\n",
    "h.dt = 0.025\n",
    "h.celsius = 35.0\n",
    "h.v_init = -68.0\n",
    "h.tstop = 1000.0\n",
    "h.init()\n",
    "# h.run()\n",
    "nrnsim.run(h.tstop, h.dt)"
   ]
  },
  {
   "cell_type": "code",
   "execution_count": null,
   "metadata": {},
   "outputs": [],
   "source": [
    "vec_dict\n",
    "plt.figure()\n",
    "y_data = vec_dict['V_soma'].as_numpy()\n",
    "x_data = np.arange(len(y_data)) * rec_dt\n",
    "plt.plot(x_data, y_data)"
   ]
  },
  {
   "cell_type": "code",
   "execution_count": null,
   "metadata": {},
   "outputs": [],
   "source": [
    "# Plot custom recordings\n",
    "plt.figure()\n",
    "plt.plot(trec.as_numpy(), vrec.as_numpy())\n",
    "plt.xlim(0, h.tstop)\n",
    "# plt.ylim(-80,60)\n",
    "plt.xlabel('time (ms)')\n",
    "plt.ylabel('$V_m$ (mV)')\n",
    "plt.title('Spontaneous activity')\n",
    "\n",
    "# Plot recorded traces\n",
    "figs_vm = analysis.plotTraces(vec_dict, rec_dt, traceSharex=True) # yRange=(-80,40),"
   ]
  },
  {
   "cell_type": "markdown",
   "metadata": {},
   "source": [
    "## Stimulation with 100 pA\n",
    "\n",
    "See article Gunay (2008), Fig. 1 and Fig. 2."
   ]
  },
  {
   "cell_type": "code",
   "execution_count": null,
   "metadata": {},
   "outputs": [],
   "source": [
    "# Insert electrode\n",
    "stim = h.IClamp(soma(0.5))\n",
    "\n",
    "current = units.Quantity(100, 'pA')\n",
    "scaled_current = units.to_nrn_units(current, h, 'amp', 'IClamp')\n",
    "print(\"IClamp amplitude is: {}\".format(scaled_current))\n",
    "\n",
    "# Amplitude adjustment: soma surface was changed by factor 1 / 13.4^2 == pi*1^2 / pi*13.4^2\n",
    "# However: remaining compartments were changed by smaller factor, so this is not good adjustment\n",
    "surf_factor = 0.01\n",
    "\n",
    "stim.delay = 1000\n",
    "stim.dur = 1000\n",
    "stim.amp = 0.1 * surf_factor # 100 pA = 0.1 nA"
   ]
  },
  {
   "cell_type": "code",
   "execution_count": null,
   "metadata": {},
   "outputs": [],
   "source": [
    "# Init and run simulation\n",
    "h.dt = 0.025\n",
    "h.celsius = 35.0\n",
    "h.v_init = -68.0\n",
    "h.tstop = 3000.0\n",
    "h.init()\n",
    "# h.run()\n",
    "nrnsim.run(h.tstop, h.dt)\n",
    "\n",
    "# Plot custom recordings\n",
    "plt.figure()\n",
    "plt.plot(trec.as_numpy(), vrec.as_numpy())\n",
    "plt.xlim(0, h.tstop)\n",
    "# plt.ylim(-80,60)\n",
    "plt.xlabel('time (ms)')\n",
    "plt.ylabel('$V_m$ (mV)')\n",
    "plt.title('Spontaneous activity')\n",
    "\n",
    "# Plot recorded traces\n",
    "figs_vm = analysis.plotTraces(vec_dict, rec_dt, traceSharex=True) # yRange=(-80,40),"
   ]
  },
  {
   "cell_type": "markdown",
   "metadata": {},
   "source": [
    "## Stimulation with -100 pA\n",
    "\n",
    "See article Gunay (2008), Fig. 1 and Fig. 2."
   ]
  },
  {
   "cell_type": "code",
   "execution_count": null,
   "metadata": {},
   "outputs": [],
   "source": [
    "# Insert electrode\n",
    "stim = h.IClamp(soma(0.5))\n",
    "\n",
    "current = units.Quantity(100, 'pA')\n",
    "scaled_current = units.to_nrn_units(current, h, 'amp', 'IClamp')\n",
    "print(\"IClamp amplitude is: {}\".format(scaled_current))\n",
    "\n",
    "# Amplitude adjustment: soma surface was changed by factor 1 / 13.4^2 == pi*1^2 / pi*13.4^2\n",
    "# However: remaining compartments were changed by smaller factor, so this is not good adjustment\n",
    "surf_factor = 0.02\n",
    "\n",
    "stim.delay = 1000\n",
    "stim.dur = 1000\n",
    "stim.amp = -scaled_current.magnitude * surf_factor # 100 pA = 0.1 nA"
   ]
  },
  {
   "cell_type": "code",
   "execution_count": null,
   "metadata": {},
   "outputs": [],
   "source": [
    "# Init and run simulation\n",
    "h.dt = 0.025\n",
    "h.celsius = 35.0\n",
    "h.v_init = -68.0\n",
    "h.tstop = 3000.0\n",
    "h.init()\n",
    "# h.run()\n",
    "nrnsim.run(h.tstop, h.dt)\n",
    "\n",
    "# Plot custom recordings\n",
    "plt.figure()\n",
    "plt.plot(trec.as_numpy(), vrec.as_numpy())\n",
    "plt.xlim(0, h.tstop)\n",
    "# plt.ylim(-80,60)\n",
    "plt.xlabel('time (ms)')\n",
    "plt.ylabel('$V_m$ (mV)')\n",
    "plt.title('Spontaneous activity')\n",
    "\n",
    "# Plot recorded traces\n",
    "figs_vm = analysis.plotTraces(vec_dict, rec_dt, traceSharex=True) # yRange=(-80,40),"
   ]
  },
  {
   "cell_type": "code",
   "execution_count": null,
   "metadata": {},
   "outputs": [],
   "source": []
  }
 ],
 "metadata": {
  "kernelspec": {
   "display_name": "Python 2",
   "language": "python",
   "name": "python2"
  },
  "language_info": {
   "codemirror_mode": {
    "name": "ipython",
    "version": 2
   },
   "file_extension": ".py",
   "mimetype": "text/x-python",
   "name": "python",
   "nbconvert_exporter": "python",
   "pygments_lexer": "ipython2",
   "version": "2.7.15"
  },
  "toc": {
   "base_numbering": 1,
   "nav_menu": {
    "height": "261px",
    "width": "251px"
   },
   "number_sections": false,
   "sideBar": true,
   "skip_h1_title": false,
   "title_cell": "Table of Contents",
   "title_sidebar": "Contents",
   "toc_cell": false,
   "toc_position": {
    "height": "881px",
    "left": "0px",
    "right": "1439px",
    "top": "67px",
    "width": "241px"
   },
   "toc_section_display": "block",
   "toc_window_display": true
  }
 },
 "nbformat": 4,
 "nbformat_minor": 2
}
