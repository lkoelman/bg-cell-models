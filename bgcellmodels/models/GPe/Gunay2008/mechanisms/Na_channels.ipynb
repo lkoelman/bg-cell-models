{
 "cells": [
  {
   "cell_type": "code",
   "execution_count": null,
   "metadata": {},
   "outputs": [],
   "source": [
    "import sys\n",
    "sys.path.append('../../../')\n",
    "\n",
    "import solvers.mechanism as mechanism\n",
    "from solvers.mechanism import (\n",
    "    State, Current, Parameter,\n",
    "    state_derivative, state_steadystate, state_timeconst,\n",
    "    mV, ms, S, cm2, nodim,\n",
    "    v,\n",
    ")\n",
    "import numpy as np\n",
    "from numpy import exp, log\n",
    "import matplotlib.pyplot as plt\n",
    "%matplotlib notebook"
   ]
  },
  {
   "cell_type": "code",
   "execution_count": null,
   "metadata": {},
   "outputs": [],
   "source": [
    "class mech:\n",
    "    \"\"\"\n",
    "    NaP channel mechanism\n",
    "    \"\"\"\n",
    "    gmax  = 0.001 * S/cm2\n",
    "    ena = 50.0 * mV\n",
    "\n",
    "    Q10 = 3.0 * nodim\n",
    "\n",
    "    # Activation & Deactivation (m-gate)\n",
    "    theta_m0 = -50.0 * mV\n",
    "    k_m = 5.7 * mV\n",
    "    phi_m = -41.6 * mV\n",
    "    sigma_m = 14.4 * mV\n",
    "    alp0 = 2.130 * 1/ms\n",
    "    bet0 = 2.460 * 1/ms\n",
    "\n",
    "    # Slow Inactivation (s-gate)\n",
    "    h0 = 0.154 * nodim\n",
    "    theta_h = -57.0 * mV\n",
    "    k_h = -4.0 * mV\n",
    "    tau_h0 = 10.0 * ms\n",
    "    tau_h1 = 17.0 * ms\n",
    "    phi_h = -34.0 * mV\n",
    "    sigma_h0 = -26.0 * mV\n",
    "    sigma_h1 = -31.9 * mV\n",
    "\n",
    "    # Slow Inactivation (s-gate)\n",
    "    theta_s = -10.0 * mV\n",
    "    k_s = -4.9 * mV\n",
    "    Aa_s = -2.88e-6 * 1/ms/mV\n",
    "    Ba_s = -4.9e-5 * 1/ms\n",
    "    Ka_s = 4.63 * mV\n",
    "    Ab_s = 6.94e-6 * 1/ms/mV\n",
    "    Bb_s = 4.47e-4 * 1/ms\n",
    "    Kb_s = -2.63 * mV"
   ]
  },
  {
   "cell_type": "markdown",
   "metadata": {},
   "source": [
    "# m gate"
   ]
  },
  {
   "cell_type": "code",
   "execution_count": null,
   "metadata": {},
   "outputs": [],
   "source": [
    "T_Q10 = mech.Q10 ** ((35-22)/10)\n",
    "\n",
    "theta_m = mech.theta_m0 + (mech.k_m * log((1.0 / pow(0.5, 1.0/3.0)) - 1.0))\n",
    "\n",
    "def minf(v):\n",
    "    return 1.0 / (1.0 + exp((theta_m - v)/mech.k_m))\n",
    "\n",
    "def alpha_m(v):\n",
    "    return mech.alp0 * exp((v - mech.phi_m) / mech.sigma_m) * T_Q10\n",
    "\n",
    "def beta_m(v):\n",
    "    return mech.bet0 * exp((mech.phi_m - v) / mech.sigma_m) * T_Q10"
   ]
  },
  {
   "cell_type": "code",
   "execution_count": null,
   "metadata": {},
   "outputs": [],
   "source": [
    "v = np.linspace(-100,100,400) * mV\n",
    "\n",
    "plt.figure()\n",
    "plt.plot(v, minf(v), 'r')\n",
    "plt.plot(v, alpha_m(v)/(alpha_m(v)+beta_m(v)), 'g')\n",
    "\n",
    "plt.figure()\n",
    "plt.plot(v, 1/(alpha_m(v)+beta_m(v)))\n",
    "plt.ylim((0.0, 0.1))\n",
    "plt.xlabel('V (mV)')\n",
    "plt.ylabel(r'$\\tau_m$ (ms)')"
   ]
  },
  {
   "cell_type": "code",
   "execution_count": null,
   "metadata": {},
   "outputs": [],
   "source": [
    "taum = 1/(alpha_m(v)+beta_m(v))"
   ]
  },
  {
   "cell_type": "code",
   "execution_count": null,
   "metadata": {},
   "outputs": [],
   "source": [
    "min(taum)"
   ]
  },
  {
   "cell_type": "code",
   "execution_count": null,
   "metadata": {},
   "outputs": [],
   "source": [
    "max(1./taum)"
   ]
  },
  {
   "cell_type": "code",
   "execution_count": null,
   "metadata": {},
   "outputs": [],
   "source": [
    "theta_m"
   ]
  },
  {
   "cell_type": "code",
   "execution_count": null,
   "metadata": {},
   "outputs": [],
   "source": [
    "T_Q10"
   ]
  },
  {
   "cell_type": "markdown",
   "metadata": {},
   "source": [
    "# m gate (Kitano mod file)"
   ]
  },
  {
   "cell_type": "code",
   "execution_count": null,
   "metadata": {},
   "outputs": [],
   "source": [
    "theta_m = -57.7 * (mV)\n",
    "k_m = 5.7 * (mV)\n",
    "tau_m0 = 0.03 * (ms)\n",
    "tau_m1 = 0.146 * (ms)\n",
    "phi_m = -42.6 * (mV)\n",
    "sigma_m0 = 14.4 * (mV)\n",
    "sigma_m1 = -14.4 * (mV)\n",
    "\n",
    "h0 = 0.154\n",
    "theta_h = -57.0 * (mV)\n",
    "k_h = -4.0 * (mV)\n",
    "tau_h0 = 10.0 * (ms)\n",
    "tau_h1 = 17.0 * (ms)\n",
    "phi_h = -34.0 * (mV)\n",
    "sigma_h0 = 26.0 * (mV)\n",
    "sigma_h1 = -31.9 * (mV)\n",
    "\n",
    "theta_s = -10.0 * (mV)\n",
    "k_s = -4.9 * (mV)\n",
    "Aa_s = -2.88e-6 * (1/ms/mV)\n",
    "Ba_s = -4.9e-5 * (1/ms)\n",
    "Ka_s = 4.63 * (mV)\n",
    "Ab_s = 6.94e-6 * (1/ms/mV)\n",
    "Bb_s = 4.47e-4 * (1/ms)\n",
    "Kb_s = -2.63 * (mV)\n",
    "\n",
    "m_inf = 1.0 / (1.0 + exp((theta_m - v)/k_m))\n",
    "tau_m = tau_m0 + (tau_m1 - tau_m0)/(exp((phi_m - v)/sigma_m0) + exp((phi_m - v)/sigma_m1))"
   ]
  },
  {
   "cell_type": "code",
   "execution_count": null,
   "metadata": {},
   "outputs": [],
   "source": [
    "plt.figure()\n",
    "plt.plot(v, m_inf, 'r')\n",
    "plt.plot(v, minf(v), 'g')\n",
    "\n",
    "plt.figure()\n",
    "plt.plot(v, tau_m, 'b', label='Kitano')\n",
    "plt.plot(v, 1/(alpha_m(v)+beta_m(v)), 'g', label='Edgerton')\n",
    "plt.ylim(0.0, 0.1)\n",
    "plt.xlabel('V (mV)')\n",
    "plt.ylabel(r'$\\tau_m$ (ms)')\n",
    "plt.legend()"
   ]
  },
  {
   "cell_type": "markdown",
   "metadata": {},
   "source": [
    "# m gate (Moyer mod file)\n",
    "\n",
    "https://senselab.med.yale.edu/modeldb/showmodel.cshtml?model=150284"
   ]
  },
  {
   "cell_type": "code",
   "execution_count": null,
   "metadata": {},
   "outputs": [],
   "source": [
    "mvhalf = -52.6 *(mV) # Magistretti 1999, Fig 4\n",
    "mslope = -4.6 *(mV) # Magistretti 1999, Fig 4\n",
    "minf = 1 / (1 + exp( (v - mvhalf) / mslope))\n",
    "def mtau(v):\n",
    "    v = v.m\n",
    "    tau = np.empty_like(v)\n",
    "    # Traub 2003, Table A2\n",
    "    vlo = v<-40\n",
    "    tau[vlo] = 0.025 + 0.14 * exp( (v[vlo] + 40 ) / 10)\n",
    "    vhi = v>=-40\n",
    "    tau[vhi] = 0.02 + 0.145 * exp( (-v[vhi] - 40) / 10)\n",
    "    return tau"
   ]
  },
  {
   "cell_type": "code",
   "execution_count": null,
   "metadata": {},
   "outputs": [],
   "source": [
    "plt.figure()\n",
    "plt.plot(v, tau_m, 'b', label='Kitano')\n",
    "plt.plot(v, 1/(alpha_m(v)+beta_m(v)), 'g', label='Edgerton')\n",
    "plt.plot(v, mtau(v), 'r', label='Moyer')\n",
    "plt.ylim(0.0, 0.1)\n",
    "plt.xlabel('V (mV)')\n",
    "plt.ylabel(r'$\\tau_m$ (ms)')\n",
    "plt.legend()"
   ]
  },
  {
   "cell_type": "markdown",
   "metadata": {},
   "source": [
    "# m gate (Hay mod file)\n",
    "\n",
    "https://senselab.med.yale.edu/modeldb/showmodel.cshtml?model=149100&file=%2fhayetal2013%2fnap_et2.mod#tabs-2"
   ]
  },
  {
   "cell_type": "code",
   "execution_count": null,
   "metadata": {},
   "outputs": [],
   "source": [
    "minf_hay = 1.0/(1+exp((v.m- -52.6)/-4.6))\n",
    "def mtau_hay(v, celsius=34):\n",
    "    v = np.array(v.m)\n",
    "    v[v==-38.0] += 0.0001\n",
    "    qt = 2.3**((celsius-21.)/10.)\n",
    "    mAlpha = (0.182 * (v- -38))/(1.-(exp(-(v- -38.)/6.)))\n",
    "    mBeta  = (0.124 * (-v -38))/(1.-(exp(-(-v -38.)/6.)))\n",
    "    mTau = (1./(mAlpha + mBeta)) / qt / 6.0 # NOTE: six times faster is division\n",
    "    return mTau"
   ]
  },
  {
   "cell_type": "code",
   "execution_count": null,
   "metadata": {},
   "outputs": [],
   "source": [
    "plt.figure()\n",
    "plt.plot(v, tau_m, 'b', label='Kitano')\n",
    "plt.plot(v, 1/(alpha_m(v)+beta_m(v)), 'g', label='Edgerton')\n",
    "plt.plot(v, mtau(v), 'r', label='Moyer')\n",
    "plt.plot(v, mtau_hay(v), 'm', label='Hay')\n",
    "# plt.ylim(0.0, 0.1)\n",
    "plt.xlabel('V (mV)')\n",
    "plt.ylabel(r'$\\tau_m$ (ms)')\n",
    "plt.legend()"
   ]
  },
  {
   "cell_type": "code",
   "execution_count": null,
   "metadata": {},
   "outputs": [],
   "source": []
  }
 ],
 "metadata": {
  "anaconda-cloud": {},
  "kernelspec": {
   "display_name": "Python 2",
   "language": "python",
   "name": "python2"
  },
  "language_info": {
   "codemirror_mode": {
    "name": "ipython",
    "version": 2
   },
   "file_extension": ".py",
   "mimetype": "text/x-python",
   "name": "python",
   "nbconvert_exporter": "python",
   "pygments_lexer": "ipython2",
   "version": "2.7.15"
  },
  "toc": {
   "base_numbering": 1,
   "nav_menu": {},
   "number_sections": true,
   "sideBar": true,
   "skip_h1_title": false,
   "title_cell": "Table of Contents",
   "title_sidebar": "Contents",
   "toc_cell": false,
   "toc_position": {},
   "toc_section_display": true,
   "toc_window_display": false
  }
 },
 "nbformat": 4,
 "nbformat_minor": 1
}
