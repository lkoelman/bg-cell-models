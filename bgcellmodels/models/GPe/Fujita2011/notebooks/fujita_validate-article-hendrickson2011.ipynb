{
 "cells": [
  {
   "cell_type": "markdown",
   "metadata": {},
   "source": [
    "# Prelude"
   ]
  },
  {
   "cell_type": "code",
   "execution_count": null,
   "metadata": {},
   "outputs": [],
   "source": [
    "# Enable interactive plots (%matplotlib -l to list backends)\n",
    "%matplotlib notebook\n",
    "import matplotlib.pyplot as plt\n",
    "import numpy as np\n",
    "from mpl_toolkits.mplot3d import Axes3D\n",
    "\n",
    "from bgcellmodels.common import analysis, signal, units, morphology, treeutils\n",
    "from bgcellmodels.mechanisms import synapses\n",
    "\n",
    "import neuron; h = neuron.h\n",
    "import bluepyopt.ephys as ephys\n",
    "\n",
    "import pprint # or turn on for non-print statements using %pprint\n",
    "pp = pprint.PrettyPrinter(indent=2)\n",
    "\n",
    "# print code version (hash of checked out version)\n",
    "print(\"\\nCurrent commit:\")\n",
    "!git log -1\n",
    "print(\"\\nChanges since last commit:\")\n",
    "!git status --short\n",
    "\n",
    "# print date and time of script execution\n",
    "import datetime\n",
    "print(\"\\nNotebook executed at at {} in following directory:\".format(datetime.datetime.now()))\n",
    "%cd .."
   ]
  },
  {
   "cell_type": "markdown",
   "metadata": {},
   "source": [
    "# Create cell"
   ]
  },
  {
   "cell_type": "code",
   "execution_count": null,
   "metadata": {},
   "outputs": [],
   "source": [
    "# Use GPe cell class used by PyNN\n",
    "# import bgcellmodels.models.GPe.Fujita2011.fujita_pynn_model as fujita\n",
    "# cell = fujita.GpeProtoType.model(**fujita.GpeProtoType.default_parameters)\n",
    "# icell = cell.icell\n",
    "\n",
    "import bgcellmodels.models.GPe.Fujita2011.fujita_model as fujita\n",
    "icell = h.FujitaGPE() # new instance of cell template\n",
    "icell.setparams_corbit_2016()\n",
    "\n",
    "somatic = list(icell.somatic)\n",
    "dendritic = list(icell.basal)\n",
    "axonal = list(icell.axonal)\n",
    "\n",
    "soma = somatic[0]\n",
    "# axon = axonal[0]\n",
    "# dend = dendritic[0]"
   ]
  },
  {
   "cell_type": "markdown",
   "metadata": {},
   "source": [
    "# Plot Morphology & Properties\n",
    "\n",
    "Inspect cell structure to make sure everything is sane."
   ]
  },
  {
   "cell_type": "markdown",
   "metadata": {},
   "source": [
    "## Conductances\n",
    "\n",
    "Plot using NEURON ModelView : `from neuron import gui` -> Tools -> ModelView."
   ]
  },
  {
   "cell_type": "code",
   "execution_count": null,
   "metadata": {},
   "outputs": [],
   "source": [
    "pp.pprint(fujita.mechs_params_dict)"
   ]
  },
  {
   "cell_type": "code",
   "execution_count": null,
   "metadata": {},
   "outputs": [],
   "source": [
    "# Adjust conductances to test effect\n",
    "n_adj = 1\n",
    "for mech in ['CaHVA']: # HCN\n",
    "    for sec in icell.all:\n",
    "        if h.ismembrane(mech, sec=sec):\n",
    "            n_adj += 1\n",
    "            for seg in sec:\n",
    "                # seg.gmax_HCN = 0.5 * seg.gmax_HCN\n",
    "                print(\"{} : gmax_{} = {}\".format(seg, mech, getattr(seg, 'gmax_'+mech)))\n",
    "\n",
    "    print(\"Adjusted gmax_HCN in {} sections.\".format(n_adj))"
   ]
  },
  {
   "cell_type": "markdown",
   "metadata": {},
   "source": [
    "# Record & Plot Protocols\n",
    "\n",
    "List of possible traces for recordings:"
   ]
  },
  {
   "cell_type": "code",
   "execution_count": null,
   "metadata": {},
   "outputs": [],
   "source": [
    "trace_specs = {\n",
    "    # Membrane voltages\n",
    "    'V_soma': {'var':'v', 'sec':'soma', 'loc':0.5},\n",
    "    # Membrane currents\n",
    "#     'iCaH': {'var':'iCaH', 'mech':'CaHVA', 'sec':'dend', 'loc':0.5},\n",
    "#     'iHCN': {'var':'iHCN', 'mech':'HCN', 'sec':'dend', 'loc':0.5},\n",
    "#     'iHCN2': {'var':'iHCN', 'mech':'HCN2', 'sec':'dend', 'loc':0.5},\n",
    "#     'iKCNQ': {'var':'iKCNQ', 'mech':'KCNQ', 'sec':'dend', 'loc':0.5},\n",
    "#     'iKv2': {'var':'iKv2', 'mech':'Kv2', 'sec':'dend', 'loc':0.5},\n",
    "#     'iKv3': {'var':'iKv3', 'mech':'Kv3', 'sec':'dend', 'loc':0.5},\n",
    "#     'iKv4f': {'var':'iKv4f', 'mech':'Kv4f', 'sec':'dend', 'loc':0.5},\n",
    "#     'iKv4s': {'var':'iKv4s', 'mech':'Kv4s', 'sec':'dend', 'loc':0.5},\n",
    "#     'iNa': {'var':'iNa', 'mech':'NaF', 'sec':'dend', 'loc':0.5},\n",
    "#     'iNa': {'var':'iNa', 'mech':'NaP', 'sec':'dend', 'loc':0.5},\n",
    "#     'iSK': {'var':'iSK', 'mech':'SK', 'sec':'dend', 'loc':0.5},\n",
    "    # Ion concentrations\n",
    "#     'cai': {'var':'cai', 'sec':'dend', 'loc':0.5},\n",
    "    # Gating variables\n",
    "#     'mCaH': {'var':'m', 'mech':'CaHVA', 'sec':'dend', 'loc':0.5},\n",
    "#     'taumCaH': {'var':'taum', 'mech':'CaHVA', 'sec':'dend', 'loc':0.5},\n",
    "#     'minfCaH': {'var':'minf', 'mech':'CaHVA', 'sec':'dend', 'loc':0.5},\n",
    "#     'mHCN': {'var':'m', 'mech':'HCN', 'sec':'dend', 'loc':0.5},\n",
    "#     'mHCN2': {'var':'m', 'mech':'HCN2', 'sec':'dend', 'loc':0.5},\n",
    "#     'mKCNQ': {'var':'m', 'mech':'KCNQ', 'sec':'dend', 'loc':0.5},\n",
    "#     'mKv2': {'var':'m', 'mech':'Kv2', 'sec':'dend', 'loc':0.5},\n",
    "#     'hKv2': {'var':'h', 'mech':'Kv2', 'sec':'dend', 'loc':0.5},\n",
    "#     'mKv3': {'var':'m', 'mech':'Kv3', 'sec':'dend', 'loc':0.5},\n",
    "#     'hKv3': {'var':'h', 'mech':'Kv3', 'sec':'dend', 'loc':0.5},\n",
    "#     'mKv4f': {'var':'m', 'mech':'Kv4f', 'sec':'dend', 'loc':0.5},\n",
    "#     'hKv4f': {'var':'h', 'mech':'Kv4f', 'sec':'dend', 'loc':0.5},\n",
    "#     'mKv4s': {'var':'m', 'mech':'Kv4s', 'sec':'dend', 'loc':0.5},\n",
    "#     'hKv4s': {'var':'h', 'mech':'Kv4s', 'sec':'dend', 'loc':0.5},\n",
    "#     'mNaF': {'var':'m', 'mech':'NaF', 'sec':'dend', 'loc':0.5},\n",
    "#     'hNaF': {'var':'h', 'mech':'NaF', 'sec':'dend', 'loc':0.5},\n",
    "#     'sNaF': {'var':'s', 'mech':'NaF', 'sec':'dend', 'loc':0.5},\n",
    "#     'mNaP': {'var':'m', 'mech':'NaP', 'sec':'dend', 'loc':0.5},\n",
    "#     'hNaP': {'var':'h', 'mech':'NaP', 'sec':'dend', 'loc':0.5},\n",
    "#     'sNaP': {'var':'s', 'mech':'NaP', 'sec':'dend', 'loc':0.5},\n",
    "#     'mSK': {'var':'m', 'mech':'SK', 'sec':'dend', 'loc':0.5},\n",
    "}"
   ]
  },
  {
   "cell_type": "markdown",
   "metadata": {},
   "source": [
    "## Spontaneous Firing\n",
    "\n",
    "Edgerton 2010, Fig. 2\n",
    "\n",
    "Spontaneous firing for Arkypallidal cells in shown in:\n",
    "- Abdi, Mallet et al (2015), Fig. 7 : f = 3 Hz\n",
    "- Bogacz, Moraud, et al (2016), Fig. 3 : f = 2 Hz"
   ]
  },
  {
   "cell_type": "code",
   "execution_count": null,
   "metadata": {},
   "outputs": [],
   "source": [
    "rec_secs = {\n",
    "    'soma': soma,\n",
    "}\n",
    "\n",
    "trace_specs = {\n",
    "    # Membrane voltages\n",
    "    'V_soma': {'var':'v', 'sec':'soma', 'loc':0.5},\n",
    "    # Ion concentrations\n",
    "    'cai': {'var':'cai', 'sec':'soma', 'loc':0.5},\n",
    "}\n",
    "\n",
    "rec_dt = 0.05\n",
    "vec_dict, markers = analysis.recordTraces(rec_secs, trace_specs, rec_dt)\n",
    "\n",
    "# Custom recordings\n",
    "vrec = h.Vector()\n",
    "vrec.record(soma(0.5)._ref_v)\n",
    "trec = h.Vector()\n",
    "trec.record(h._ref_t)"
   ]
  },
  {
   "cell_type": "code",
   "execution_count": null,
   "metadata": {},
   "outputs": [],
   "source": [
    "# Init and run simulation\n",
    "h.dt = 0.025\n",
    "h.celsius = 35.0\n",
    "h.v_init = -68.0\n",
    "h.tstop = 1000.0\n",
    "h.init()\n",
    "h.run()"
   ]
  },
  {
   "cell_type": "code",
   "execution_count": null,
   "metadata": {},
   "outputs": [],
   "source": [
    "# Plot custom recordings\n",
    "plt.figure()\n",
    "plt.plot(trec.as_numpy(), vrec.as_numpy())\n",
    "plt.xlim(0, h.tstop)\n",
    "# plt.ylim(-80,60)\n",
    "plt.xlabel('time (ms)')\n",
    "plt.ylabel('$V_m$ (mV)')\n",
    "plt.title('Spontaneous activity')\n",
    "\n",
    "# Plot recorded traces\n",
    "figs_vm = analysis.plotTraces(vec_dict, rec_dt, traceSharex=True) # yRange=(-80,40),"
   ]
  },
  {
   "cell_type": "markdown",
   "metadata": {},
   "source": [
    "## Stimulation with 100 pA\n",
    "\n",
    "See article Gunay (2008), Fig. 1 and Fig. 2."
   ]
  },
  {
   "cell_type": "code",
   "execution_count": null,
   "metadata": {},
   "outputs": [],
   "source": [
    "# Insert electrode\n",
    "stim = h.IClamp(soma(0.5))\n",
    "\n",
    "current = units.Quantity(100, 'pA')\n",
    "scaled_current = units.to_nrn_units(current, h, 'amp', 'IClamp')\n",
    "print(\"IClamp amplitude is: {}\".format(scaled_current))\n",
    "\n",
    "# Amplitude adjustment: soma surface was changed by factor 1 / 13.4^2 == pi*1^2 / pi*13.4^2\n",
    "# However: remaining compartments were changed by smaller factor, so this is not good adjustment\n",
    "surf_factor = 0.05\n",
    "\n",
    "stim.delay = 1000\n",
    "stim.dur = 1000\n",
    "stim.amp = 0.1 * surf_factor # 100 pA = 0.1 nA"
   ]
  },
  {
   "cell_type": "code",
   "execution_count": null,
   "metadata": {},
   "outputs": [],
   "source": [
    "# Init and run simulation\n",
    "h.dt = 0.025\n",
    "h.celsius = 35.0\n",
    "h.v_init = -68.0\n",
    "h.tstop = 3000.0\n",
    "h.init()\n",
    "h.run()\n",
    "\n",
    "# Plot custom recordings\n",
    "plt.figure()\n",
    "plt.plot(trec.as_numpy(), vrec.as_numpy())\n",
    "plt.xlim(0, h.tstop)\n",
    "# plt.ylim(-80,60)\n",
    "plt.xlabel('time (ms)')\n",
    "plt.ylabel('$V_m$ (mV)')\n",
    "plt.title('Spontaneous activity')\n",
    "\n",
    "# Plot recorded traces\n",
    "figs_vm = analysis.plotTraces(vec_dict, rec_dt, traceSharex=True) # yRange=(-80,40),"
   ]
  },
  {
   "cell_type": "markdown",
   "metadata": {},
   "source": [
    "## Stimulation with -100 pA\n",
    "\n",
    "See article Gunay (2008), Fig. 1 and Fig. 2."
   ]
  },
  {
   "cell_type": "code",
   "execution_count": null,
   "metadata": {},
   "outputs": [],
   "source": [
    "# Insert electrode\n",
    "stim = h.IClamp(soma(0.5))\n",
    "\n",
    "current = units.Quantity(100, 'pA')\n",
    "scaled_current = units.to_nrn_units(current, h, 'amp', 'IClamp')\n",
    "print(\"IClamp amplitude is: {}\".format(scaled_current))\n",
    "\n",
    "# Amplitude adjustment: soma surface was changed by factor 1 / 13.4^2 == pi*1^2 / pi*13.4^2\n",
    "# However: remaining compartments were changed by smaller factor, so this is not good adjustment\n",
    "surf_factor = 0.05\n",
    "\n",
    "stim.delay = 1000\n",
    "stim.dur = 1000\n",
    "stim.amp = -scaled_current.magnitude * surf_factor # 100 pA = 0.1 nA"
   ]
  },
  {
   "cell_type": "code",
   "execution_count": null,
   "metadata": {},
   "outputs": [],
   "source": [
    "# Init and run simulation\n",
    "h.dt = 0.025\n",
    "h.celsius = 35.0\n",
    "h.v_init = -68.0\n",
    "h.tstop = 3000.0\n",
    "h.init()\n",
    "h.run()\n",
    "\n",
    "# Plot custom recordings\n",
    "plt.figure()\n",
    "plt.plot(trec.as_numpy(), vrec.as_numpy())\n",
    "plt.xlim(0, h.tstop)\n",
    "plt.ylim(-80,40)\n",
    "plt.xlabel('time (ms)')\n",
    "plt.ylabel('$V_m$ (mV)')\n",
    "plt.title('Spontaneous activity')\n",
    "\n",
    "# Plot recorded traces\n",
    "figs_vm = analysis.plotTraces(vec_dict, rec_dt, traceSharex=True) # yRange=(-80,40),"
   ]
  },
  {
   "cell_type": "code",
   "execution_count": null,
   "metadata": {},
   "outputs": [],
   "source": []
  }
 ],
 "metadata": {
  "kernelspec": {
   "display_name": "Python 2",
   "language": "python",
   "name": "python2"
  },
  "language_info": {
   "codemirror_mode": {
    "name": "ipython",
    "version": 2
   },
   "file_extension": ".py",
   "mimetype": "text/x-python",
   "name": "python",
   "nbconvert_exporter": "python",
   "pygments_lexer": "ipython2",
   "version": "2.7.15"
  },
  "toc": {
   "base_numbering": 1,
   "nav_menu": {
    "height": "261px",
    "width": "251px"
   },
   "number_sections": false,
   "sideBar": true,
   "skip_h1_title": false,
   "title_cell": "Table of Contents",
   "title_sidebar": "Contents",
   "toc_cell": false,
   "toc_position": {
    "height": "881px",
    "left": "0px",
    "right": "1439px",
    "top": "67px",
    "width": "241px"
   },
   "toc_section_display": "block",
   "toc_window_display": true
  }
 },
 "nbformat": 4,
 "nbformat_minor": 2
}
