{
 "cells": [
  {
   "cell_type": "markdown",
   "metadata": {},
   "source": [
    "# Prelude"
   ]
  },
  {
   "cell_type": "code",
   "execution_count": null,
   "metadata": {},
   "outputs": [],
   "source": [
    "# Enable interactive plots (%matplotlib -l to list backends)\n",
    "%matplotlib notebook\n",
    "import matplotlib.pyplot as plt\n",
    "import numpy as np\n",
    "\n",
    "\n",
    "from bgcellmodels.common import analysis\n",
    "from bgcellmodels.mechanisms import noise, synapses\n",
    "\n",
    "import neuron; h = neuron.h\n",
    "import bluepyopt.ephys as ephys\n",
    "\n",
    "# print code version (hash of checked out version)\n",
    "print(\"\\nCurrent commit:\")\n",
    "!git log -1\n",
    "print(\"\\nChanges since last commit:\")\n",
    "!git status --short"
   ]
  },
  {
   "cell_type": "code",
   "execution_count": null,
   "metadata": {},
   "outputs": [],
   "source": [
    "# Load cell model\n",
    "from bgcellmodels.models.striatum.Mahon2000_MSN import mahon_pynn_model\n",
    "icell = h.MahonMSN()\n",
    "soma = icell.soma[0]"
   ]
  },
  {
   "cell_type": "code",
   "execution_count": null,
   "metadata": {},
   "outputs": [],
   "source": [
    "# Deactivate tables for testing\n",
    "use_tables = 0\n",
    "with_tables = ['Nam', 'Km', 'Kirm', 'KAfm', 'KAsm', 'Krpm', 'NaPm', 'NaSm']\n",
    "without_tables = ['Nam', 'Km', 'Kirm', 'KAfm', 'KAsm', 'Krpm', 'NaPm', 'NaSm']\n",
    "\n",
    "for mechname in without_tables:\n",
    "    setattr(h, 'usetable_' + mechname, 0)\n",
    "\n",
    "for mechname in with_tables:\n",
    "    setattr(h, 'usetable_' + mechname, 1)"
   ]
  },
  {
   "cell_type": "markdown",
   "metadata": {},
   "source": [
    "# Plot Rates"
   ]
  },
  {
   "cell_type": "code",
   "execution_count": null,
   "metadata": {},
   "outputs": [],
   "source": [
    "# Rates and steady state values for Nam channel\n",
    "\n",
    "phi = 5.\n",
    "Vam = -28.\n",
    "Kam = 1.\n",
    "Vbm = -53. #NOT the original value from wang and Buzsaki\n",
    "Kbm = 18.\n",
    "Vah = -51. #NOT the original value from wang and Buzsaki\n",
    "Kah = 20.\n",
    "Vbh = -21. #NOT the original value from wang and Buzsaki\n",
    "Kbh = 1.\n",
    "\n",
    "v = np.linspace(-100, 100, 400)\n",
    "exp = np.exp\n",
    "\n",
    "am = (-0.1*(v-Vam)/Kam / (exp(-0.1 * (v-Vam)/Kam) - 1))\n",
    "Bm = 4 * exp(-(v-Vbm)/Kbm)\n",
    "ah = 0.07 * exp(-(v-Vah)/Kah)\n",
    "Bh =  1 / (1 + exp(-0.1*(v-Vbh)/Kbh))\n",
    "\n",
    "fig, ax = plt.subplots()\n",
    "ax.plot(v, am, label='am')\n",
    "ax.plot(v, Bm, label='Bm')\n",
    "ax.plot(v, ah, label='ah')\n",
    "ax.plot(v, Bh, label='Bh')\n",
    "ax.set_xlim((-100,100))\n",
    "ax.legend()\n",
    "\n",
    "fig, ax = plt.subplots()\n",
    "ax.plot(v, am/(am+Bm), label='minf')\n",
    "ax.plot(v, ah/(ah+Bh), label='hinf')\n",
    "ax.set_xlim((-100,100))\n",
    "ax.legend()\n",
    "\n",
    "# hinf/tauh = \n",
    "hinf = ah/(ah+Bh)\n",
    "tauh = 1.0 / (phi * (ah+Bh))\n",
    "\n",
    "fig, ax = plt.subplots()\n",
    "ax.plot(v, ah+Bh, label='ah+Bh')\n",
    "ax.plot(v, tauh, label='tauh')\n",
    "ax.plot(v, hinf/tauh, label='hinf/tauh')\n",
    "ax.set_xlim((-100,100))\n",
    "ax.legend()"
   ]
  },
  {
   "cell_type": "markdown",
   "metadata": {},
   "source": [
    "# Recording"
   ]
  },
  {
   "cell_type": "code",
   "execution_count": null,
   "metadata": {},
   "outputs": [],
   "source": [
    "rec_secs = {\n",
    "    'soma': soma,\n",
    "}\n",
    "\n",
    "trace_specs = {\n",
    "    # Membrane voltages\n",
    "    'V_soma': {'var':'v', 'sec':'soma', 'loc':0.5},\n",
    "}\n",
    "\n",
    "rec_dt = 0.05\n",
    "vec_dict, markers = analysis.recordTraces(rec_secs, trace_specs, rec_dt)\n",
    "\n",
    "# Custom recordings\n",
    "vrec = h.Vector()\n",
    "vrec.record(soma(0.5)._ref_v)\n",
    "trec = h.Vector()\n",
    "trec.record(h._ref_t)"
   ]
  },
  {
   "cell_type": "markdown",
   "metadata": {},
   "source": [
    "# Protocol: Spontaneous Activity"
   ]
  },
  {
   "cell_type": "code",
   "execution_count": null,
   "metadata": {},
   "outputs": [],
   "source": [
    "# Init and run simulation\n",
    "h.dt = 0.025\n",
    "h.celsius = 37.0\n",
    "h.v_init = -77.4 # from Mahon article code\n",
    "h.tstop = 1000.0\n",
    "h.init()\n",
    "h.run()"
   ]
  },
  {
   "cell_type": "code",
   "execution_count": null,
   "metadata": {},
   "outputs": [],
   "source": [
    "v_soma = vec_dict['V_soma'].as_numpy()\n",
    "t_rec = np.arange(len(v_soma)) * rec_dt\n",
    "\n",
    "plt.figure()\n",
    "plt.plot(t_rec, v_soma)\n",
    "plt.xlim(0, h.tstop)\n",
    "plt.ylim(-80, 60)\n",
    "plt.xlabel('time (ms)')\n",
    "plt.ylabel('$V_m$ (mV)')\n",
    "plt.title('Spontaneous activity')"
   ]
  },
  {
   "cell_type": "markdown",
   "metadata": {},
   "source": [
    "# Protocol: Fig 2A"
   ]
  },
  {
   "cell_type": "code",
   "execution_count": null,
   "metadata": {},
   "outputs": [],
   "source": [
    "# Fig 2A: create an electrode in the soma that creates two current pulses (200 ms in duration) 200ms apart\n",
    "stim1 = h.IClamp(soma(0.5))\n",
    "stim1.amp = 0.00167 * 1.7 # 0.00167\n",
    "stim1.delay = 100\n",
    "stim1.dur = 200\n",
    "\n",
    "stim2 = h.IClamp(soma(0.5))\n",
    "stim2.amp = 0.00167 * 1.7\n",
    "stim2.delay = 500\n",
    "stim2.dur = 200"
   ]
  },
  {
   "cell_type": "code",
   "execution_count": null,
   "metadata": {},
   "outputs": [],
   "source": [
    "# Init and run simulation\n",
    "h.dt = 0.025\n",
    "h.celsius = 37.0\n",
    "h.v_init = -77.4 # from Mahon article code\n",
    "h.tstop = 1000.0\n",
    "h.init()\n",
    "h.run()"
   ]
  },
  {
   "cell_type": "code",
   "execution_count": null,
   "metadata": {},
   "outputs": [],
   "source": [
    "v_soma = vec_dict['V_soma'].as_numpy()\n",
    "t_rec = np.arange(len(v_soma)) * rec_dt\n",
    "\n",
    "plt.figure()\n",
    "plt.plot(t_rec, v_soma)\n",
    "plt.xlim(0, h.tstop)\n",
    "plt.ylim(-100, 60)\n",
    "plt.xlabel('time (ms)')\n",
    "plt.ylabel('$V_m$ (mV)')\n",
    "plt.title('Delayed tonic firing (Fig. 2A)')"
   ]
  },
  {
   "cell_type": "markdown",
   "metadata": {},
   "source": [
    "# Protocol: Fig 2B"
   ]
  },
  {
   "cell_type": "code",
   "execution_count": null,
   "metadata": {},
   "outputs": [],
   "source": [
    "soma.gkd_KdFSI = 0.0018\n",
    "stim.amp = 0.0042"
   ]
  },
  {
   "cell_type": "code",
   "execution_count": null,
   "metadata": {},
   "outputs": [],
   "source": [
    "# Init and run simulation\n",
    "h.dt = 0.025\n",
    "h.celsius = 37.0\n",
    "h.v_init = -77.4 # from Mahon article code\n",
    "h.tstop = 1000.0\n",
    "h.init()\n",
    "h.run()"
   ]
  },
  {
   "cell_type": "code",
   "execution_count": null,
   "metadata": {},
   "outputs": [],
   "source": [
    "v_soma = vec_dict['V_soma'].as_numpy()\n",
    "t_rec = np.arange(len(v_soma)) * rec_dt\n",
    "\n",
    "plt.figure()\n",
    "plt.plot(t_rec, v_soma)\n",
    "plt.xlim(0, h.tstop)\n",
    "plt.ylim(-100, 60)\n",
    "plt.xlabel('time (ms)')\n",
    "plt.ylabel('$V_m$ (mV)')\n",
    "plt.title('Tonic stuttering (Fig. 2B)')"
   ]
  },
  {
   "cell_type": "code",
   "execution_count": null,
   "metadata": {},
   "outputs": [],
   "source": []
  }
 ],
 "metadata": {
  "kernelspec": {
   "display_name": "Python [default]",
   "language": "python",
   "name": "python2"
  },
  "language_info": {
   "codemirror_mode": {
    "name": "ipython",
    "version": 2
   },
   "file_extension": ".py",
   "mimetype": "text/x-python",
   "name": "python",
   "nbconvert_exporter": "python",
   "pygments_lexer": "ipython2",
   "version": "2.7.13"
  },
  "toc": {
   "nav_menu": {},
   "number_sections": false,
   "sideBar": true,
   "skip_h1_title": false,
   "toc_cell": false,
   "toc_position": {
    "height": "881px",
    "left": "0px",
    "right": "1468px",
    "top": "67px",
    "width": "212px"
   },
   "toc_section_display": "block",
   "toc_window_display": true
  }
 },
 "nbformat": 4,
 "nbformat_minor": 2
}
