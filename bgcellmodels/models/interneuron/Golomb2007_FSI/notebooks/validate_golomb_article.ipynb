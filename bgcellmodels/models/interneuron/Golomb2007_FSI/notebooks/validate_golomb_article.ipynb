{
 "cells": [
  {
   "cell_type": "markdown",
   "metadata": {},
   "source": [
    "# Prelude"
   ]
  },
  {
   "cell_type": "code",
   "execution_count": null,
   "metadata": {},
   "outputs": [],
   "source": [
    "# Enable interactive plots (%matplotlib -l to list backends)\n",
    "%matplotlib notebook\n",
    "import matplotlib.pyplot as plt\n",
    "import numpy as np\n",
    "\n",
    "\n",
    "from bgcellmodels.common import analysis\n",
    "from bgcellmodels.mechanisms import noise, synapses\n",
    "\n",
    "import neuron; h = neuron.h\n",
    "import bluepyopt.ephys as ephys\n",
    "\n",
    "# print code version (hash of checked out version)\n",
    "print(\"\\nCurrent commit:\")\n",
    "!git log -1\n",
    "print(\"\\nChanges since last commit:\")\n",
    "!git status --short"
   ]
  },
  {
   "cell_type": "code",
   "execution_count": null,
   "metadata": {},
   "outputs": [],
   "source": [
    "# Load cell model\n",
    "from bgcellmodels.models.interneuron.Golomb2007_FSI import golomb_pynn_model\n",
    "icell = h.GolombFSI()\n",
    "soma = icell.soma[0]\n",
    "\n",
    "# Fix ion channel density to Golomb (2007) value\n",
    "soma.gkd_KdFSI = 0.00039"
   ]
  },
  {
   "cell_type": "markdown",
   "metadata": {},
   "source": [
    "# Recording"
   ]
  },
  {
   "cell_type": "code",
   "execution_count": null,
   "metadata": {},
   "outputs": [],
   "source": [
    "rec_secs = {\n",
    "    'soma': soma,\n",
    "}\n",
    "\n",
    "trace_specs = {\n",
    "    # Membrane voltages\n",
    "    'V_soma': {'var':'v', 'sec':'soma', 'loc':0.5},\n",
    "    # Ion channels\n",
    "    # 'i_Nas': {'var':'ina', 'mech': 'NasFSI', 'sec':'soma', 'loc':0.5},\n",
    "}\n",
    "\n",
    "rec_dt = 0.05\n",
    "vec_dict, markers = analysis.recordTraces(rec_secs, trace_specs, rec_dt)\n",
    "\n",
    "# Custom recordings\n",
    "vrec = h.Vector()\n",
    "vrec.record(soma(0.5)._ref_v)\n",
    "trec = h.Vector()\n",
    "trec.record(h._ref_t)"
   ]
  },
  {
   "cell_type": "markdown",
   "metadata": {},
   "source": [
    "# Protocol: Spontaneous Activity"
   ]
  },
  {
   "cell_type": "code",
   "execution_count": null,
   "metadata": {},
   "outputs": [],
   "source": [
    "# Init and run simulation\n",
    "h.dt = 0.025\n",
    "h.celsius = 35.0\n",
    "h.v_init = -70.038 # from Golomb article code\n",
    "h.tstop = 1000.0\n",
    "h.init()\n",
    "h.run()"
   ]
  },
  {
   "cell_type": "code",
   "execution_count": null,
   "metadata": {},
   "outputs": [],
   "source": [
    "v_soma = vec_dict['V_soma'].as_numpy()\n",
    "t_rec = np.arange(len(v_soma)) * rec_dt\n",
    "\n",
    "plt.figure()\n",
    "plt.plot(t_rec, v_soma)\n",
    "plt.xlim(0, h.tstop)\n",
    "plt.ylim(-80, 60)\n",
    "plt.xlabel('time (ms)')\n",
    "plt.ylabel('$V_m$ (mV)')\n",
    "plt.title('Spontaneous activity')"
   ]
  },
  {
   "cell_type": "markdown",
   "metadata": {},
   "source": [
    "# Protocol: Fig 2A"
   ]
  },
  {
   "cell_type": "code",
   "execution_count": null,
   "metadata": {},
   "outputs": [],
   "source": [
    "stim = h.IClamp(soma(0.5))\n",
    "stim.amp = 0.00335 # [nA] adjusted for area, corresponds to 3.35 uA/cm2\n",
    "stim.delay = 48\n",
    "stim.dur = 1e9\n",
    "\n",
    "soma.gkd_KdFSI = 0.00039"
   ]
  },
  {
   "cell_type": "code",
   "execution_count": null,
   "metadata": {},
   "outputs": [],
   "source": [
    "# Init and run simulation\n",
    "h.dt = 0.025\n",
    "h.celsius = 35.0\n",
    "h.v_init = -70.038 # from Golomb article code\n",
    "h.tstop = 3000.0\n",
    "h.init()\n",
    "h.run()"
   ]
  },
  {
   "cell_type": "code",
   "execution_count": null,
   "metadata": {},
   "outputs": [],
   "source": [
    "v_soma = vec_dict['V_soma'].as_numpy()\n",
    "t_rec = np.arange(len(v_soma)) * rec_dt\n",
    "\n",
    "plt.figure()\n",
    "plt.plot(t_rec, v_soma)\n",
    "plt.xlim(0, h.tstop)\n",
    "plt.ylim(-100, 60)\n",
    "plt.xlabel('time (ms)')\n",
    "plt.ylabel('$V_m$ (mV)')\n",
    "plt.title('Delayed tonic firing (Fig. 2A)')"
   ]
  },
  {
   "cell_type": "markdown",
   "metadata": {},
   "source": [
    "# Protocol: Fig 2B"
   ]
  },
  {
   "cell_type": "code",
   "execution_count": null,
   "metadata": {},
   "outputs": [],
   "source": [
    "soma.gkd_KdFSI = 0.0018\n",
    "stim.amp = 0.0042"
   ]
  },
  {
   "cell_type": "code",
   "execution_count": null,
   "metadata": {},
   "outputs": [],
   "source": [
    "# Init and run simulation\n",
    "h.dt = 0.025\n",
    "h.celsius = 35.0\n",
    "h.v_init = -70.038 # from Golomb article code\n",
    "h.tstop = 3000.0\n",
    "h.init()\n",
    "h.run()"
   ]
  },
  {
   "cell_type": "code",
   "execution_count": null,
   "metadata": {},
   "outputs": [],
   "source": [
    "v_soma = vec_dict['V_soma'].as_numpy()\n",
    "t_rec = np.arange(len(v_soma)) * rec_dt\n",
    "\n",
    "plt.figure()\n",
    "plt.plot(t_rec, v_soma)\n",
    "plt.xlim(0, h.tstop)\n",
    "plt.ylim(-100, 60)\n",
    "plt.xlabel('time (ms)')\n",
    "plt.ylabel('$V_m$ (mV)')\n",
    "plt.title('Tonic stuttering (Fig. 2B)')"
   ]
  },
  {
   "cell_type": "code",
   "execution_count": null,
   "metadata": {},
   "outputs": [],
   "source": []
  }
 ],
 "metadata": {
  "kernelspec": {
   "display_name": "Python [default]",
   "language": "python",
   "name": "python2"
  },
  "language_info": {
   "codemirror_mode": {
    "name": "ipython",
    "version": 2
   },
   "file_extension": ".py",
   "mimetype": "text/x-python",
   "name": "python",
   "nbconvert_exporter": "python",
   "pygments_lexer": "ipython2",
   "version": "2.7.13"
  },
  "toc": {
   "nav_menu": {},
   "number_sections": false,
   "sideBar": true,
   "skip_h1_title": false,
   "toc_cell": false,
   "toc_position": {},
   "toc_section_display": "block",
   "toc_window_display": true
  }
 },
 "nbformat": 4,
 "nbformat_minor": 2
}
