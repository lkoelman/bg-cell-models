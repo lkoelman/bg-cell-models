{
 "cells": [
  {
   "cell_type": "markdown",
   "metadata": {},
   "source": [
    "# Setup"
   ]
  },
  {
   "cell_type": "code",
   "execution_count": null,
   "metadata": {},
   "outputs": [],
   "source": [
    "%matplotlib notebook\n",
    "import numpy as np\n",
    "import scipy.signal\n",
    "import matplotlib\n",
    "import matplotlib.pyplot as plt\n",
    "\n",
    "import os\n",
    "import neo.io\n",
    "import elephant\n",
    "\n",
    "# analysis.py module in same folder\n",
    "from bgcellmodels.common import units\n",
    "units.set_units_module('quantities')\n",
    "import quantities as pq\n",
    "\n",
    "# Jupyter notebook extensions\n",
    "%load_ext bgcellmodels.extensions.jupyter.skip_cell_extension"
   ]
  },
  {
   "cell_type": "markdown",
   "metadata": {},
   "source": [
    "## Plotting Options"
   ]
  },
  {
   "cell_type": "code",
   "execution_count": null,
   "metadata": {},
   "outputs": [],
   "source": [
    "# Width of the page for calibrating fig_size.\n",
    "# Approx. 16 for matplotlib backend %inline  8 for %notebook\n",
    "if matplotlib.get_backend() == 'nbAgg':\n",
    "    from bgcellmodels.extensions.jupyter import jupyterutil\n",
    "    jupyterutil.notebook_show_figs_after_exception() # fix bug for notebook backend where figures not shown\n",
    "    page_width = 10\n",
    "else:\n",
    "    page_width = 14\n",
    "ax_height = 3\n",
    "\n",
    "# Style of figures (default colors etc.): see https://matplotlib.org/gallery/style_sheets/style_sheets_reference.html\n",
    "plt.style.use('default')"
   ]
  },
  {
   "cell_type": "markdown",
   "metadata": {},
   "source": [
    "## Load Data"
   ]
  },
  {
   "cell_type": "code",
   "execution_count": null,
   "metadata": {},
   "outputs": [],
   "source": [
    "# All populations:\n",
    "outputs = \"/run/media/luye/Windows7_OS/Users/lkoelman/simdata-win/q9_sweep-channel-densities/2018.08.10_job-781466.sonic-head_DA-depleted-v3_CTX-f0_STN-GPE-gNaP-x2.0\"\n",
    "\n",
    "# Single population:\n",
    "# outputs = [\n",
    "# \"/home/luye/storage/2018.06.21_job-testmpi6_DA-control_CTX-beta/CTX_2018.06.21_pop-100_dur-50.0_job-testmpi6.mat\",\n",
    "# ]\n",
    "\n",
    "if isinstance(outputs, str):\n",
    "    filenames = os.listdir(outputs)\n",
    "    pop_files = [os.path.join(outputs, f) for f in filenames if f.endswith('.mat')]\n",
    "    params_file = next((os.path.join(outputs,f) for f in filenames if f.startswith('pop-parameters')), None)\n",
    "else:\n",
    "    pop_files = outputs\n",
    "    params_file = None\n",
    "\n",
    "pops_segments = {}\n",
    "read_segment_id = 0\n",
    "\n",
    "# Read binary files using Neo IO module\n",
    "for pop_file in pop_files:\n",
    "    reader = neo.io.get_io(pop_file)\n",
    "    blocks = reader.read()\n",
    "    assert len(blocks) == 1, \"More than one Neo Block in file.\"\n",
    "    pop_label = blocks[0].name\n",
    "\n",
    "    if len(blocks[0].segments)-1 < read_segment_id:\n",
    "        raise ValueError(\"Segment index greater than number of Neo segments\"\n",
    "                         \" in file {}\".format(pop_file))\n",
    "    if pop_label in pops_segments:\n",
    "        raise ValueError(\"Duplicate population labels in files\")\n",
    "        \n",
    "    pops_segments[pop_label] = blocks[0].segments[read_segment_id]"
   ]
  },
  {
   "cell_type": "code",
   "execution_count": null,
   "metadata": {},
   "outputs": [],
   "source": [
    "# Save all PSDs for comparison in figures\n",
    "all_psd = {}          # tuple[list[float]: freqs, list[float]: psd)\n",
    "all_psd_peaks = {}    # tuple[list[float]: peak_freqs, list[float] : peak_psd)\n",
    "all_psd_sum_subband = {} # tuple[list[tuple[int,int]]: band_limits, float: sum_psd)\n",
    "all_fpeak = {}        # tuple[list[float]: freqs, list[float]: psd)\n",
    "\n",
    "all_signals = {}   # neo.AnalogSignal variables\n",
    "all_mean_rate = {}\n",
    "all_morgera = {}\n",
    "all_spectrogram = {}\n",
    "\n",
    "# Data that will be exported\n",
    "exported_data = {\n",
    "    'mean_rate': all_mean_rate,\n",
    "    'PSD': all_psd,\n",
    "    'PSD_peaks': all_psd_peaks,\n",
    "    'PSD_subband_power': all_psd_sum_subband,\n",
    "    'PSD_input_freq': all_fpeak,\n",
    "    'spectrogram': all_spectrogram,\n",
    "    'Morgera_index': all_morgera,\n",
    "}"
   ]
  },
  {
   "cell_type": "code",
   "execution_count": null,
   "metadata": {},
   "outputs": [],
   "source": [
    "# The recordings are saved in Neo format. See:\n",
    "# http://neo.readthedocs.io/en/latest/\n",
    "# http://neo.readthedocs.io/en/latest/api_reference.html#neo.core.AnalogSignal\n",
    "# - Each segment has attributes 'analogsignals' and 'spiketrains'\n",
    "# - Each quantity (e.g. AnalogSignal.signal) has attributes magnitude, units, dimensionality\n",
    "\n",
    "# List all recorded signals\n",
    "for pop_label, segment in pops_segments.items():\n",
    "    print(\"\\n{} has following signals:\".format(pop_label))\n",
    "    for signal in segment.analogsignals:\n",
    "        print(\"\\t- '{:10}\\t[{}] - description: {}\".format(signal.name, signal.units, signal.description))\n",
    "    print(\"\\t- {} spiketrains\".format(len(segment.spiketrains)))"
   ]
  },
  {
   "cell_type": "markdown",
   "metadata": {},
   "source": [
    "# Network Parameters"
   ]
  },
  {
   "cell_type": "code",
   "execution_count": null,
   "metadata": {},
   "outputs": [],
   "source": [
    "if params_file is not None:\n",
    "    import pickle\n",
    "    with open(params_file, 'rb') as pf:\n",
    "        network_params = pickle.load(pf)\n",
    "        print(network_params.keys())"
   ]
  },
  {
   "cell_type": "markdown",
   "metadata": {},
   "source": [
    "## Connection Matrices"
   ]
  },
  {
   "cell_type": "code",
   "execution_count": null,
   "metadata": {},
   "outputs": [],
   "source": [
    "import analysis\n",
    "\n",
    "# Print STN-GPE connection matrix\n",
    "for pops in [('STN', 'GPE'), ('GPE', 'STN'), ('GPE', 'GPE'), ('STN', 'STN')]:\n",
    "    stn_gpe_weights = network_params[pops[0]][pops[1]]['conn_matrix']\n",
    "    analysis.plot_connectivity_matrix(stn_gpe_weights, pop0=pops[0], pop1=pops[1], pop_size=100, seaborn=False)"
   ]
  },
  {
   "cell_type": "markdown",
   "metadata": {},
   "source": [
    "# Spike Trains\n",
    "\n",
    "<span style='color:red;font-weight:bold'>WARNING</SPAN>: In rastergram plots, note the number of spike trains plotted (see y-axis). If it is too high you get overlapping marker bars (marker height is larger than row height allocated to one spiketrain). This leads to misleading plots as spiketrains are overlapping which looks like an artificially elevated firing rate."
   ]
  },
  {
   "cell_type": "code",
   "execution_count": null,
   "metadata": {},
   "outputs": [],
   "source": [
    "line_colors = 'crkgbm'\n",
    "pop_color_map = {k: line_colors[i % len(line_colors)] for i,k in enumerate(sorted(pops_segments.keys()))}\n",
    "\n",
    "def get_pop_color(pop_label):\n",
    "    return pop_color_map[pop_label]"
   ]
  },
  {
   "cell_type": "code",
   "execution_count": null,
   "metadata": {},
   "outputs": [],
   "source": [
    "# %%skip False\n",
    "\n",
    "from bgcellmodels.common import signal as spikeprocs\n",
    "\n",
    "def plot_avg_spikerate(pop_label, cell_ids=None, t_range=None, bin_width=20.0, adaptive=False, fig=None):\n",
    "    \"\"\"\n",
    "    Plot running mean firing rate of population.\n",
    "    Bin width also determines bin spacing (no sliding window).\n",
    "    \"\"\"\n",
    "    segment = pops_segments[pop_label]\n",
    "    if cell_ids is None:\n",
    "        cell_ids = range(len(segment.spiketrains))\n",
    "    if t_range is None:\n",
    "        t_range = (0.0, np.round(segment.spiketrains[0].t_stop.magnitude, 3))\n",
    "    \n",
    "    min_spikes = 10\n",
    "    # Adaptive method increases bin adaptively until 'min_spikes' included\n",
    "    if adaptive:\n",
    "        mean_rates = spikeprocs.nrn_avg_rate_adaptive([segment.spiketrains[i] for i in cell_ids],\n",
    "                                                      t_range[0], t_range[1], binwidth=bin_width,\n",
    "                                                      minsum=min_spikes).as_numpy()\n",
    "    else:\n",
    "        mean_rates = spikeprocs.nrn_avg_rate_simple([segment.spiketrains[i] for i in cell_ids],\n",
    "                                                    t_range[0], t_range[1],\n",
    "                                                    binwidth=bin_width).as_numpy()\n",
    "    if fig is None:\n",
    "        fig, ax = plt.subplots(1, 1, figsize=(page_width,ax_height))\n",
    "    else:\n",
    "        nrows = len(fig.axes)+1\n",
    "        ax = fig.add_subplot(nrows,1,nrows)\n",
    "        \n",
    "    t_axis = np.arange(mean_rates.size) * bin_width / 2.0 + t_range[0]\n",
    "    ax.plot(t_axis, mean_rates, color=get_pop_color(pop_label))\n",
    "    \n",
    "    fig.suptitle('{} mean population firing rate (running average)'.format(pop_label))\n",
    "    return fig, ax\n",
    "\n",
    "for pop in 'STN', 'GPE', 'CTX', 'STR':\n",
    "    plot_avg_spikerate(pop, t_range=(4e3, 8e3))\n",
    "#fig.tight_layout()"
   ]
  },
  {
   "cell_type": "code",
   "execution_count": null,
   "metadata": {},
   "outputs": [],
   "source": [
    "num_pops = len(pops_segments)\n",
    "i_pop = 0\n",
    "\n",
    "def plot_spiketrain(pop_label, cell_ids, t_range, sharex=None, sharey=None):\n",
    "    \"\"\"\n",
    "    Plot spiketrains for one population.\n",
    "    \n",
    "    @param    cell_ids : list(int)\n",
    "              Cell indices in population that will be visible (y-axis constrainment).\n",
    "    \"\"\"\n",
    "    global i_pop\n",
    "    segment = pops_segments[pop_label]\n",
    "    sim_dur = segment.spiketrains[0].t_stop.magnitude\n",
    "    \n",
    "    # Don't plot all rastergrams in same figure\n",
    "    fig_spikes = plt.figure(figsize=(page_width,ax_height))\n",
    "    ax = plt.subplot(1,1,1, sharex=sharex, sharey=sharey)\n",
    "    # fig_spikes, ax = plt.subplot(1, 1, figsize=(page_width,ax_height), sharex=sharex)\n",
    "    fig_spikes.suptitle('{} spiketrains'.format(pop_label))\n",
    "    \n",
    "    pop_size = len(segment.spiketrains)\n",
    "    \n",
    "    # Plot all spiketrains but constrain y-axis later (so you can pan & zoom)\n",
    "    for i_train in range(pop_size):\n",
    "        spiketrain = segment.spiketrains[i_train]\n",
    "        y = spiketrain.annotations.get('source_id', i_train)\n",
    "        y_vec = np.ones_like(spiketrain) * y\n",
    "        ax.plot(spiketrain, y_vec,\n",
    "                marker='|', linestyle='', \n",
    "                snap=True, color=get_pop_color(pop_label))\n",
    "    \n",
    "    ax.set_xticks(np.arange(0, sim_dur+1000, 1000), minor=False)\n",
    "    # ax.set_xticks(np.arange(0, sim_dur+5000, 5000), minor=False) # uncomment for long time range\n",
    "    ax.set_yticks(np.arange(0, pop_size+5, 5), minor=False)\n",
    "    ax.grid(True, axis='x', which='major')\n",
    "\n",
    "    ax.set_xlim(t_range)\n",
    "    ax.set_ylim((min(cell_ids)-0.5, max(cell_ids)+0.5))\n",
    "    ax.set_ylabel('{} cell #'.format(pop_label))\n",
    "    \n",
    "    i_pop += 1\n",
    "    return fig_spikes, ax\n",
    "    \n",
    "# Choose populations and cells indices to plot\n",
    "shared_axis = None\n",
    "for pop_label, segment in pops_segments.items():\n",
    "    cell_indices = range(20)\n",
    "    t_interval = (7e3, 9e3)\n",
    "    fig, shared_axis = plot_spiketrain(pop_label, cell_indices, t_interval,\n",
    "                                       sharex=shared_axis, sharey=shared_axis)\n",
    "\n",
    "# plot_spiketrain('STN', range(20), (0.0, 5e3))"
   ]
  },
  {
   "cell_type": "markdown",
   "metadata": {},
   "source": [
    "## Spike Statistics"
   ]
  },
  {
   "cell_type": "code",
   "execution_count": null,
   "metadata": {},
   "outputs": [],
   "source": [
    "import collections\n",
    "pop_firing_rates = collections.OrderedDict()\n",
    "for pop_label, segment in pops_segments.items():\n",
    "    # Can use elephant.spike_train_generation.peak_detection() if only raw voltage signals\n",
    "    pop_rate = 0.0\n",
    "    for st in segment.spiketrains:\n",
    "        pop_rate += elephant.statistics.mean_firing_rate(st).rescale('Hz').magnitude\n",
    "    pop_rate = pop_rate / len(segment.spiketrains)\n",
    "    pop_firing_rates[pop_label] = pop_rate\n",
    "    \n",
    "    all_mean_rate[pop_label] = pop_rate\n",
    "    print(\"Mean firing rate for {} is {}\".format(pop_label, pop_rate))"
   ]
  },
  {
   "cell_type": "code",
   "execution_count": null,
   "metadata": {},
   "outputs": [],
   "source": [
    "fig, ax = plt.subplots()\n",
    "\n",
    "index = np.arange(len(pops_segments.keys()))\n",
    "bar_width = 0.35\n",
    "opacity = 0.4\n",
    "\n",
    "ax.bar(index, pop_firing_rates.values(), bar_width, alpha=opacity, color='g')\n",
    "\n",
    "ax.set_xlabel('Population')\n",
    "ax.set_ylabel('Mean firing rate (Hz)')\n",
    "ax.set_title('Mean firing rate for each population')\n",
    "ax.set_xticks(index)\n",
    "ax.set_xticklabels(pop_firing_rates.keys())\n",
    "ax.set_yticks(np.arange(0, int(max(pop_firing_rates.values())+2), 5), minor=False)\n",
    "ax.set_yticks(np.arange(0, int(max(pop_firing_rates.values())+2), 1.0), minor=True)\n",
    "ax.grid(True, axis='y', which='major')\n",
    "# ax.legend()"
   ]
  },
  {
   "cell_type": "markdown",
   "metadata": {},
   "source": [
    "# Raw Signals"
   ]
  },
  {
   "cell_type": "markdown",
   "metadata": {},
   "source": [
    "## STN Vm"
   ]
  },
  {
   "cell_type": "code",
   "execution_count": null,
   "metadata": {},
   "outputs": [],
   "source": [
    "pop_label = 'STN'\n",
    "segment = pops_segments[pop_label]\n",
    "signal = next((sig for sig in segment.analogsignals if sig.name == 'Vm'))\n",
    "stn_vm_signal = signal"
   ]
  },
  {
   "cell_type": "code",
   "execution_count": null,
   "metadata": {},
   "outputs": [],
   "source": [
    "def plot_vm_signals(signal, cell_indices, interval, interval_only=True):\n",
    "    \n",
    "    rec_dt = signal.sampling_period.magnitude\n",
    "    irange = [0, signal.shape[0]-1] if interval is None else [int(t/rec_dt) for t in interval]\n",
    "    times = signal.times[irange[0]:irange[1]]\n",
    "    \n",
    "    fig, axes = plt.subplots(len(cell_indices), 1, \n",
    "                             figsize=(0.75*page_width,2*ax_height),\n",
    "                             sharex=True, sharey=True)\n",
    "    fig.suptitle(\"{} membrane voltage\".format(pop_label))\n",
    "\n",
    "    # Plot each Vm on separate axis\n",
    "    for i_ax, i_cell in enumerate(cell_indices):\n",
    "        try:\n",
    "            ax = axes[i_ax]\n",
    "        except TypeError:\n",
    "            ax = axes\n",
    "        if 'source_ids' in signal.annotations:\n",
    "            label = \"id {}\".format(signal.annotations['source_ids'][i_cell])\n",
    "        else:\n",
    "            label = \"cell {}\".format(i_cell)\n",
    "        \n",
    "        if interval_only:\n",
    "            ax.plot(times, signal[irange[0]:irange[1], i_cell], label=label)\n",
    "        else:\n",
    "            ax.plot(signal.times, signal[:, i_cell])\n",
    "        \n",
    "        ax.grid(True)\n",
    "        ax.set_ylim((-90, 25))\n",
    "        ax.set_xlim((times[0].magnitude, times[-1].magnitude))\n",
    "        # ax.legend()\n",
    "\n",
    "        if i_ax == len(cell_indices)-1:\n",
    "            #ax.set_ylabel(\"voltage ({})\".format(signal.units))\n",
    "            ax.set_xlabel('time ({})'.format(times.units))\n",
    "\n",
    "    fig.text(0.06, 0.5, \"voltage ({})\".format(signal.units), va='center', rotation='vertical')\n",
    "    fig.subplots_adjust(bottom=0.15) # prevent clipping of xlabel"
   ]
  },
  {
   "cell_type": "code",
   "execution_count": null,
   "metadata": {},
   "outputs": [],
   "source": [
    "# Choose plot interval and cell indices\n",
    "max_num_plot = 10\n",
    "num_signals = min(signal.shape[1], max_num_plot)\n",
    "interval = [13200, 13600] # [12.75e3, 14e3]\n",
    "cell_indices = range(1) # range(num_signals)\n",
    "plot_vm_signals(stn_vm_signal, cell_indices, interval, interval_only=False)"
   ]
  },
  {
   "cell_type": "markdown",
   "metadata": {},
   "source": [
    "## STN LFP"
   ]
  },
  {
   "cell_type": "code",
   "execution_count": null,
   "metadata": {},
   "outputs": [],
   "source": [
    "# Load each individual cell's LFP contribution\n",
    "pop_label = 'STN'\n",
    "segment = pops_segments[pop_label]\n",
    "lfp_sigs = next((sig for sig in segment.analogsignals if sig.name == 'lfp'), None)\n",
    "\n",
    "WITHOUT_LFP = lfp_sigs is None\n",
    "WITH_LFP = not WITHOUT_LFP\n",
    "\n",
    "if not WITH_LFP:\n",
    "    lfp_signal = None\n",
    "else:\n",
    "    lfp_summed = lfp_sigs.sum(axis=1)\n",
    "\n",
    "    # Turn it into AnalogSignal object\n",
    "    lfp_signal = stn_lfp_signal = neo.AnalogSignal(\n",
    "                                    lfp_summed,\n",
    "                                    units=lfp_sigs.units, \n",
    "                                    sampling_rate=stn_vm_signal.sampling_rate,\n",
    "                                    t_start=stn_vm_signal.times[0])"
   ]
  },
  {
   "cell_type": "code",
   "execution_count": null,
   "metadata": {},
   "outputs": [],
   "source": [
    "if WITH_LFP:\n",
    "    interval = [12.75e3, 14e3] # None\n",
    "    rec_dt = lfp_sigs.sampling_period.magnitude\n",
    "    irange = [0, lfp_sigs.shape[0]] if interval is None else [int(t/rec_dt) for t in interval]\n",
    "    lfp_times = lfp_signal.times[irange[0]:irange[1]]\n",
    "\n",
    "    fig, ax = plt.subplots(figsize=(page_width, ax_height))\n",
    "    ax.plot(lfp_times, lfp_signal[irange[0]:irange[1]],\n",
    "            label='{} LFP'.format(pop_label))\n",
    "    # ax.plot(lfp_sigs.times, lfp_sigs[:, 5], label='{} LFP'.format(pop_label))\n",
    "    # ax.plot(lfp_sigs.times, lfp_sigs[:, 8], 'r.', ms=1, mew=1, label='{} LFP'.format(pop_label))\n",
    "\n",
    "    # ax.set_ylim((-0.5, 4.0))\n",
    "    ax.set_xlim((lfp_times[0].magnitude, lfp_times[-1].magnitude))\n",
    "    ax.set_ylabel('LFP magnitude ({})'.format(lfp_sigs.units))\n",
    "    ax.set_xlabel('time ({})'.format(lfp_sigs.times.units))\n",
    "    ax.set_title('LFP for {} population'.format(pop_label))\n",
    "    ax.grid(True)\n",
    "    ax.legend()"
   ]
  },
  {
   "cell_type": "markdown",
   "metadata": {},
   "source": [
    "## GPe Vm"
   ]
  },
  {
   "cell_type": "code",
   "execution_count": null,
   "metadata": {},
   "outputs": [],
   "source": [
    "pop_label = 'GPE'\n",
    "segment = pops_segments[pop_label]\n",
    "gpe_vm_signal = signal = next((sig for sig in segment.analogsignals if sig.name == 'Vm'))"
   ]
  },
  {
   "cell_type": "code",
   "execution_count": null,
   "metadata": {},
   "outputs": [],
   "source": [
    "# Choose plot interval and cell indices\n",
    "max_num_plot = 10\n",
    "num_signals = min(signal.shape[1], max_num_plot)\n",
    "interval = [12.75e3, 14e3] # [2000.0, 6000.0]\n",
    "cell_indices = range(5) # range(num_signals)\n",
    "plot_vm_signals(gpe_vm_signal, cell_indices, interval)"
   ]
  },
  {
   "cell_type": "markdown",
   "metadata": {},
   "source": [
    "# Power Spectra"
   ]
  },
  {
   "cell_type": "code",
   "execution_count": null,
   "metadata": {},
   "outputs": [],
   "source": [
    "psd_subbands = [(0,5), (6,12), (13,19), (20,30), (20,25), (25,30)]"
   ]
  },
  {
   "cell_type": "code",
   "execution_count": null,
   "metadata": {},
   "outputs": [],
   "source": [
    "# Total power in sub-bands\n",
    "def calc_subband_power(freqs, psd, sig_label):\n",
    "    Psum_subbands = []\n",
    "    for subband in psd_subbands:\n",
    "        subband_indices, = np.where((freqs >= subband[0]) & (freqs <= subband[1]))\n",
    "        Psum = np.sum(psd[subband_indices])\n",
    "        Psum_subbands.append(Psum)\n",
    "        print(\"Power in sub-band {} is {} {}\".format(\n",
    "            subband, Psum.magnitude, Psum.units.dimensionality))\n",
    "    all_psd_sum_subband[sig_label] = (psd_subbands, Psum_subbands)\n",
    "\n",
    "# Find frequency of highest peak\n",
    "def calc_peak_frequencies(freqs, psd, sig_label, percentile=80.0):\n",
    "    \"\"\" Calculate PSD peak frequencies. \"\"\"\n",
    "    i_peak = next((i for i,p in enumerate(psd) if p == psd.max()))\n",
    "    f_peak = freqs[i_peak]\n",
    "    all_fpeak[sig_label] = f_peak.magnitude\n",
    "    print(\"PSD peak power occurs at f = {}\".format(f_peak))\n",
    "\n",
    "    # Detect all peaks\n",
    "    min_height = np.percentile(psd.magnitude, percentile)\n",
    "    idx_peak, props_peak = scipy.signal.find_peaks(psd.magnitude, height=min_height, distance=int(4.0/freq_res))\n",
    "    p_peak = props_peak['peak_heights']\n",
    "    f_peak = freqs.magnitude[idx_peak]\n",
    "    all_psd_peaks[sig_label] = (f_peak, p_peak)    # tuple[list[float]: peak_freqs, list[float] : peak_psd)"
   ]
  },
  {
   "cell_type": "markdown",
   "metadata": {},
   "source": [
    "## STN LFP"
   ]
  },
  {
   "cell_type": "code",
   "execution_count": null,
   "metadata": {},
   "outputs": [],
   "source": [
    "%%skip $WITHOUT_LFP\n",
    "\n",
    "pop_label = 'STN'\n",
    "sig_label = pop_label + '_LFP'\n",
    "\n",
    "# Computes PSD of all 100 LFP signals at the same time\n",
    "freq_res = 0.5\n",
    "Ts = lfp_signal.sampling_period.magnitude\n",
    "freqs, psd = elephant.spectral.welch_psd(lfp_signal[int(5000/Ts):,:], freq_res=freq_res)\n",
    "psd = psd.ravel() # we only have one axis so make 1-dimensional\n",
    "psd_rel = psd[0:int(250/freq_res)] # relevant region of psd\n",
    "\n",
    "all_psd[sig_label] = (freqs, psd)"
   ]
  },
  {
   "cell_type": "code",
   "execution_count": null,
   "metadata": {},
   "outputs": [],
   "source": [
    "%%skip $WITHOUT_LFP\n",
    "calc_subband_power(freqs, psd, sig_label)\n",
    "calc_peak_frequencies(freqs, psd_rel, sig_label, percentile=80.0)"
   ]
  },
  {
   "cell_type": "code",
   "execution_count": null,
   "metadata": {},
   "outputs": [],
   "source": [
    "%%skip $WITHOUT_LFP\n",
    "\n",
    "# Plot the PSD\n",
    "fig, ax = plt.subplots(figsize=(0.5*page_width, ax_height))\n",
    "ax.plot(freqs, psd, label='{} PSD'.format(pop_label))\n",
    "ax.set_ylabel('Power ({})'.format(psd.units))\n",
    "ax.set_xlabel('frequency ({})'.format(freqs.units))\n",
    "ax.set_xlim((0, 100))\n",
    "ax.grid(True)\n",
    "# ax.set_yscale('log')\n",
    "ax.set_title('Welch PSD for LFP of STN cells')\n",
    "ax.legend()\n",
    "\n",
    "fig, ax = plt.subplots(figsize=(0.5*page_width, ax_height))\n",
    "ax.plot(freqs, psd, label='{} PSD'.format(pop_label))\n",
    "ax.set_ylabel('Power ({})'.format(psd.units))\n",
    "ax.set_xlabel('frequency ({})'.format(freqs.units))\n",
    "ax.set_xlim((0, 100))\n",
    "ax.set_ylim((0, 0.4))\n",
    "ax.grid(True)\n",
    "# ax.set_yscale('log')\n",
    "ax.set_title('Welch PSD (shared scale)')\n",
    "ax.legend()"
   ]
  },
  {
   "cell_type": "markdown",
   "metadata": {},
   "source": [
    "<b> Spectrogram </b>"
   ]
  },
  {
   "cell_type": "code",
   "execution_count": null,
   "metadata": {},
   "outputs": [],
   "source": [
    "%%skip $WITHOUT_LFP\n",
    "\n",
    "# Plot spectrogram using STFT\n",
    "dt = 0.05\n",
    "fs = 1/dt*1e3\n",
    "freq_res = 1.0\n",
    "nperseg = int(fs/freq_res) # determines frequency resolution\n",
    "t_res = 20.0 # ms\n",
    "noverlap = nperseg - int(t_res/dt)\n",
    "freqs, t, Sxx = scipy.signal.spectrogram(stn_lfp_signal.ravel(), 1/dt, window='hanning',\n",
    "                                         nperseg=nperseg, noverlap=noverlap, scaling='density')\n",
    "freqs = freqs * 1000\n",
    "\n",
    "# Save spectrogram\n",
    "df = freqs[1]-freqs[0]\n",
    "all_spectrogram[sig_label] = (freqs[0:int(50/df)], t, Sxx[:,0:int(50/df)])"
   ]
  },
  {
   "cell_type": "code",
   "execution_count": null,
   "metadata": {},
   "outputs": [],
   "source": [
    "%%skip $WITHOUT_LFP\n",
    "\n",
    "# Spectrogram 1\n",
    "fig, ax = plt.subplots(figsize=(0.75*page_width, ax_height))\n",
    "plt.pcolormesh(t, freqs, Sxx)\n",
    "# plt.imshow(Sxx, cmap='jet', aspect='auto', vmax=abs(Sxx).max(), vmin=Sxx.min())\n",
    "f_max = 50\n",
    "plt.ylim((0, f_max))\n",
    "plt.colorbar()\n",
    "# plt.clim(0, 20)\n",
    "plt.clim(0, abs(Sxx[:, int(5000.0/t_res):]).max()) # discard first second\n",
    "plt.ylabel('frequency (Hz)')\n",
    "plt.xlabel('time (ms)')\n",
    "plt.suptitle('Spectrogram - evolution of STN LFP over time ($nV^2/Hz$)')\n",
    "\n",
    "# Spectrogram 2 (common axis)\n",
    "fig, ax = plt.subplots(figsize=(0.75*page_width, ax_height))\n",
    "plt.pcolormesh(t, freqs, Sxx)\n",
    "f_max = 50\n",
    "plt.ylim((0, f_max))\n",
    "plt.colorbar()\n",
    "# plt.clim(0, 20)\n",
    "plt.clim(0, 200)\n",
    "plt.ylabel('frequency (Hz)')\n",
    "plt.xlabel('time (ms)')\n",
    "plt.suptitle('Spectrogram - evolution of STN LFP over time ($nV^2/Hz$)')"
   ]
  },
  {
   "cell_type": "markdown",
   "metadata": {},
   "source": [
    "<b> Subband Power Evolution </b>"
   ]
  },
  {
   "cell_type": "code",
   "execution_count": null,
   "metadata": {},
   "outputs": [],
   "source": [
    "%%skip $WITHOUT_LFP\n",
    "\n",
    "dur = stn_vm_signal.t_stop.magnitude\n",
    "\n",
    "# Total power in sub-bands\n",
    "Psum_subbands = {}\n",
    "edges_subbands = {}\n",
    "all_bands = [(13,19), (20,30), (20,25), (25,30)]\n",
    "main_bands = [(13,19), (20,30)]\n",
    "for subband in all_bands:\n",
    "    bin_indices, = np.where((freqs >= subband[0]) & (freqs <= subband[1]))\n",
    "    edges_subbands[subband] = (bin_indices[0], bin_indices[-1])\n",
    "    subband_spectrogram = Sxx[bin_indices, :]\n",
    "    \n",
    "    # Summed power in subband over time\n",
    "    Psum = np.sum(subband_spectrogram, axis=0) # / len(bin_indices)\n",
    "    Psum_subbands[subband] = Psum\n",
    "    \n",
    "# ### Low Beta\n",
    "# bin_indices, = np.where((freqs >= 13) & (freqs <= 21))\n",
    "# beta_spectrogram = Sxx[bin_indices, :]\n",
    "# betapower = np.sum(beta_spectrogram, axis=0) / len(bin_indices)\n",
    "\n",
    "# # Find time to (1-exp(-1)) * max power\n",
    "# p_saturation = (1.0-np.exp(-1.0)) * betapower.max()\n",
    "# i_saturated, = np.where(betapower >= p_saturation)\n",
    "# t_saturated = t[i_saturated[0]]\n",
    "\n",
    "# ### High Beta\n",
    "# bins_beta_high, = np.where((freqs >= 22) & (freqs <= 30))\n",
    "# beta_high_spectrogram = Sxx[bins_beta_high, :]\n",
    "# beta_high_power = np.sum(beta_high_spectrogram, axis=0) / len(bins_beta_high)\n",
    "\n",
    "# # Find time to (1-exp(-1)) * max power\n",
    "# p_sat_high = (1.0-np.exp(-1.0)) * beta_high_power.max()\n",
    "# i_sat_high, = np.where(beta_high_power >= p_sat_high)\n",
    "# t_sat_high = t[i_sat_high[0]]"
   ]
  },
  {
   "cell_type": "code",
   "execution_count": null,
   "metadata": {},
   "outputs": [],
   "source": [
    "%%skip $WITHOUT_LFP\n",
    "\n",
    "# Plot power evolution\n",
    "fig, ax = plt.subplots(figsize=(0.75*page_width, 1.5*ax_height))\n",
    "\n",
    "for subband, Psum in Psum_subbands.items():\n",
    "    linestyle = '-' if subband in main_bands else '--'\n",
    "    ax.plot(t, Psum, linestyle, label='sum(P) ({} - {} Hz)'.format(\n",
    "            freqs[edges_subbands[subband][0]],\n",
    "            freqs[edges_subbands[subband][1]]))\n",
    "\n",
    "# Figure decoration\n",
    "# ax.set_ylim((0, Sxx.max()))\n",
    "ax.set_xlim((0, dur))\n",
    "ax.set_ylabel('Power ($nV^2/Hz$)')\n",
    "ax.set_xlabel('time (ms)')\n",
    "ax.grid(True)\n",
    "ax.legend()\n",
    "ax.set_title('Summed Power in sub-bands')"
   ]
  },
  {
   "cell_type": "markdown",
   "metadata": {},
   "source": [
    "## STN Vm"
   ]
  },
  {
   "cell_type": "code",
   "execution_count": null,
   "metadata": {},
   "outputs": [],
   "source": [
    "pop_label = 'STN'\n",
    "sig_label = 'STN_Vm'\n",
    "segment = pops_segments[pop_label]\n",
    "vm_sig = next((sig for sig in segment.analogsignals if sig.name == 'Vm'))\n",
    "\n",
    "# Computes PSD of all 100 Vm signals at the same time\n",
    "Ts = vm_sig.sampling_period.magnitude\n",
    "freq_res = 0.5\n",
    "freqs, psd = elephant.spectral.welch_psd(vm_sig[int(5000/Ts):,:], freq_res=freq_res)\n",
    "psd_avg = psd.sum(axis=0) / psd.shape[0]\n",
    "psd_units = psd.units\n",
    "psd_rel = psd_avg[0:int(250/freq_res)] # relevant region of psd\n",
    "\n",
    "# Save PSD\n",
    "all_psd[sig_label] = (freqs, psd_avg)"
   ]
  },
  {
   "cell_type": "code",
   "execution_count": null,
   "metadata": {},
   "outputs": [],
   "source": [
    "# Total power in sub-bands\n",
    "calc_subband_power(freqs, psd_rel, sig_label)\n",
    "\n",
    "# Find frequency of highest peak\n",
    "calc_peak_frequencies(freqs, psd_rel, sig_label, percentile=80.0)"
   ]
  },
  {
   "cell_type": "code",
   "execution_count": null,
   "metadata": {},
   "outputs": [],
   "source": [
    "fig, ax = plt.subplots(figsize=(page_width*0.5, ax_height))\n",
    "ax.plot(freqs, psd_avg, color='b', label='{} Vm'.format(pop_label))\n",
    "\n",
    "ax.set_ylabel('Power ({})'.format(psd_avg.units), color='b')\n",
    "ax.set_xlabel('frequency ({})'.format(freqs.units))\n",
    "ax.set_xlim((0, 50))\n",
    "ax.grid(True)\n",
    "ax.set_title('Welch PSD for average STN membrane voltages')\n",
    "# ax.set_yscale('log')\n",
    "ax.legend(loc='upper right')\n",
    "\n",
    "if WITH_LFP:\n",
    "    ax2 = ax.twinx()\n",
    "    ax2.plot(all_psd['STN_LFP'][0], all_psd['STN_LFP'][1], color='r', label='STN LFP x 10')\n",
    "    ax2.set_ylabel('Power ({})'.format(all_psd['STN_LFP'][0].units), color='r')\n",
    "    ax2.legend(loc='center right')\n",
    "\n",
    "# PSD on shared scale for comparison with other simulations\n",
    "fig, ax = plt.subplots(figsize=(page_width*0.5, ax_height))\n",
    "ax.plot(freqs, psd_avg, color='b', label='{} Vm'.format(pop_label))\n",
    "ax.set_ylabel('Power ({})'.format(psd_avg.units), color='b')\n",
    "ax.set_xlabel('frequency ({})'.format(freqs.units))\n",
    "ax.set_xlim((0, 50))\n",
    "ax.set_ylim((0, 60))\n",
    "ax.grid(True)\n",
    "ax.set_title('PSD of STN Vm (shared scale)')"
   ]
  },
  {
   "cell_type": "code",
   "execution_count": null,
   "metadata": {},
   "outputs": [],
   "source": [
    "# Compute mean Vm signal\n",
    "stn_vm_mean = vm_sig.duplicate_with_new_array(vm_sig.sum(axis=1).reshape((-1,1)) / vm_sig.shape[1])\n",
    "\n",
    "# Plot spectrogram using STFT\n",
    "dt = 0.05\n",
    "fs = 1/dt*1e3\n",
    "freq_res = 1.0\n",
    "nperseg = int(fs/freq_res) # determines frequency resolution\n",
    "t_res = 20.0 # ms\n",
    "noverlap = nperseg - int(t_res/dt)\n",
    "freqs, t, Sxx = scipy.signal.spectrogram(stn_vm_mean.ravel(), 1/dt, window='hanning',\n",
    "                                         nperseg=nperseg, noverlap=noverlap, scaling='density')\n",
    "freqs = freqs * 1000\n",
    "\n",
    "# Save spectrogram\n",
    "df = freqs[1]-freqs[0]\n",
    "all_spectrogram[sig_label] = (freqs[0:int(50/df)], t, Sxx[:,0:int(50/df)])"
   ]
  },
  {
   "cell_type": "code",
   "execution_count": null,
   "metadata": {},
   "outputs": [],
   "source": [
    "# Spectrogram 1\n",
    "fig, ax = plt.subplots(figsize=(0.75*page_width, ax_height))\n",
    "plt.pcolormesh(t, freqs, Sxx)\n",
    "# plt.imshow(Sxx, cmap='jet', aspect='auto', vmax=abs(Sxx).max(), vmin=Sxx.min())\n",
    "f_max = 50\n",
    "plt.ylim((0, f_max))\n",
    "plt.colorbar()\n",
    "# plt.clim(0, 20)\n",
    "plt.clim(0, abs(Sxx[:, int(5000.0/t_res):]).max()) # discard first second\n",
    "plt.ylabel('frequency (Hz)')\n",
    "plt.xlabel('time (ms)')\n",
    "plt.suptitle('Spectrogram of mean STN Vm ({})'.format(psd_units.dimensionality))\n",
    "\n",
    "# Spectrogram 2 (common axis)\n",
    "fig, ax = plt.subplots(figsize=(0.75*page_width, ax_height))\n",
    "plt.pcolormesh(t, freqs, Sxx)\n",
    "f_max = 50\n",
    "plt.ylim((0, f_max))\n",
    "plt.colorbar()\n",
    "# plt.clim(0, 20)\n",
    "plt.clim(0, 50e3)\n",
    "plt.ylabel('frequency (Hz)')\n",
    "plt.xlabel('time (ms)')\n",
    "plt.suptitle('Spectrogram of mean STN Vm ({})'.format(psd_units.dimensionality))"
   ]
  },
  {
   "cell_type": "markdown",
   "metadata": {},
   "source": [
    "## CTX spikes"
   ]
  },
  {
   "cell_type": "code",
   "execution_count": null,
   "metadata": {},
   "outputs": [],
   "source": [
    "pop_label = 'CTX'\n",
    "sig_label = 'CTX_Vm'\n",
    "segment = pops_segments[pop_label]\n",
    "spiketrains = segment.spiketrains"
   ]
  },
  {
   "cell_type": "markdown",
   "metadata": {},
   "source": [
    "<b> Convolve spike times with AP </b>"
   ]
  },
  {
   "cell_type": "code",
   "execution_count": null,
   "metadata": {},
   "outputs": [],
   "source": [
    "# Load Pyramidal cell action potential from saved recording\n",
    "pyramidal_trace = np.loadtxt('pyramidal.dat')\n",
    "vm = pyramidal_trace[:,1]\n",
    "tvec = pyramidal_trace[:,0]\n",
    "dt = np.round(tvec[1] - tvec[0], 4)\n",
    "ap_t_interval = [4.9, 20.0]\n",
    "ap_i_interval = [int(t/dt) for t in ap_t_interval]\n",
    "subsample = 2\n",
    "ap_range = range(ap_i_interval[0], ap_i_interval[1]+1, subsample)\n",
    "ap_kernel = vm[ap_range]\n",
    "ap_baseline = -65.0\n",
    "ap_kernel -= ap_baseline # center on 0 for convolution\n",
    "\n",
    "plt.figure(figsize=(6,2))\n",
    "plt.plot(tvec[ap_range], ap_kernel)\n",
    "plt.suptitle('AP kernel for cortical neurons')\n",
    "plt.grid(True)"
   ]
  },
  {
   "cell_type": "code",
   "execution_count": null,
   "metadata": {},
   "outputs": [],
   "source": [
    "# Construct AnalogSignal of N channels from N spiketrains\n",
    "dur = np.round(spiketrains[0].t_stop.magnitude, 4)\n",
    "dt = 0.05\n",
    "signal_matrix = np.empty((int(dur/dt)+1, len(spiketrains)))\n",
    "\n",
    "for i, st in enumerate(spiketrains):\n",
    "    \n",
    "    time = np.arange(0, dur + dt, dt)\n",
    "    spiketimes = st.times\n",
    "    spike_pulses = np.zeros_like(time)\n",
    "    spike_pulses[[int(t/dt) for t in spiketimes]] = 1.0\n",
    "    \n",
    "    # Convole pulses at spike times with AP kernel\n",
    "    spike_signal = np.convolve(spike_pulses, ap_kernel, mode='same') + ap_baseline\n",
    "    signal_matrix[:, i] = spike_signal\n",
    "\n",
    "ctx_vm_signal = neo.AnalogSignal(signal_matrix, units='mV', sampling_rate=1/dt/pq.ms,\n",
    "                                t_start=spiketrains[0].t_start, t_stop=spiketrains[0].t_stop)\n",
    "ctx_vm_mean = ctx_vm_signal.sum(axis=1) / ctx_vm_signal.shape[1]"
   ]
  },
  {
   "cell_type": "markdown",
   "metadata": {},
   "source": [
    "<b> Average PSD </b>"
   ]
  },
  {
   "cell_type": "code",
   "execution_count": null,
   "metadata": {},
   "outputs": [],
   "source": [
    "# Computes PSD of all 100 Vm signals at the same time\n",
    "freq_res = 0.5\n",
    "freqs, psd = elephant.spectral.welch_psd(ctx_vm_signal, freq_res=freq_res)\n",
    "psd_avg = psd.sum(axis=0) / psd.shape[0]\n",
    "psd_rel = psd_avg[0:int(250/freq_res)] # relevant region of psd\n",
    "\n",
    "all_psd[pop_label + '_Vm'] = (freqs, psd_avg)"
   ]
  },
  {
   "cell_type": "code",
   "execution_count": null,
   "metadata": {},
   "outputs": [],
   "source": [
    "# Total power in sub-bands\n",
    "calc_subband_power(freqs, psd, sig_label)\n",
    "\n",
    "# Find frequency of highest peak\n",
    "calc_peak_frequencies(freqs, psd_rel, sig_label, percentile=80.0)"
   ]
  },
  {
   "cell_type": "code",
   "execution_count": null,
   "metadata": {},
   "outputs": [],
   "source": [
    "fig, ax = plt.subplots(figsize=(page_width*0.5, ax_height))\n",
    "ax.plot(freqs, psd_avg, label='{} Vm'.format(pop_label))\n",
    "ax.set_ylabel('Power ({})'.format(psd_avg.units))\n",
    "ax.set_xlabel('frequency ({})'.format(freqs.units))\n",
    "ax.set_xlim((0, 50))\n",
    "ax.grid(True)\n",
    "# ax.set_yscale('log')\n",
    "ax.set_title('Mean Welch PSD for CTX membrane voltages')\n",
    "ax.legend()"
   ]
  },
  {
   "cell_type": "markdown",
   "metadata": {},
   "source": [
    "## GPe Vm"
   ]
  },
  {
   "cell_type": "code",
   "execution_count": null,
   "metadata": {},
   "outputs": [],
   "source": [
    "pop_label = 'GPE'\n",
    "sig_label = 'GPE_Vm'\n",
    "segment = pops_segments[pop_label]\n",
    "vm_sig = gpe_vm_signal = next((sig for sig in segment.analogsignals if sig.name == 'Vm'))\n",
    "\n",
    "# Computes PSD of all 100 Vm signals at the same time\n",
    "freq_res = 0.5\n",
    "Ts = vm_sig.sampling_period.magnitude\n",
    "freqs, psd = elephant.spectral.welch_psd(vm_sig[int(5000/Ts):,:], freq_res=freq_res)\n",
    "psd_avg = psd.sum(axis=0) / psd.shape[0]\n",
    "psd_rel = psd_avg[0:int(250/freq_res)] # relevant region of psd\n",
    "\n",
    "all_psd[sig_label] = (freqs, psd_avg)"
   ]
  },
  {
   "cell_type": "code",
   "execution_count": null,
   "metadata": {},
   "outputs": [],
   "source": [
    "# Total power in sub-bands\n",
    "calc_subband_power(freqs, psd_rel, sig_label)\n",
    "\n",
    "# Find frequency of highest peak\n",
    "calc_peak_frequencies(freqs, psd_rel, sig_label, percentile=80.0)"
   ]
  },
  {
   "cell_type": "code",
   "execution_count": null,
   "metadata": {},
   "outputs": [],
   "source": [
    "fig, ax = plt.subplots(figsize=(page_width*0.5, ax_height))\n",
    "ax.plot(all_psd['STN_Vm'][0], all_psd['STN_Vm'][1], 'r', label='STN avg(Vm)')\n",
    "ax.plot(freqs, psd_avg, label='{} avg(Vm)'.format(pop_label))\n",
    "ax.set_ylabel('Power ({})'.format(psd_avg.units))\n",
    "ax.set_xlabel('frequency ({})'.format(freqs.units))\n",
    "ax.set_xlim((0, 50))\n",
    "ax.grid(True)\n",
    "# ax.set_yscale('log')\n",
    "ax.set_title('Welch PSD for average GPE membrane voltages')\n",
    "ax.legend()\n",
    "\n",
    "# PSD on shared scale for comparison with other simulations\n",
    "fig, ax = plt.subplots(figsize=(page_width*0.5, ax_height))\n",
    "ax.plot(freqs, psd_avg, label='{} avg(Vm)'.format(pop_label))\n",
    "ax.set_ylabel('Power ({})'.format(psd_avg.units))\n",
    "ax.set_xlabel('frequency ({})'.format(freqs.units))\n",
    "ax.set_xlim((0, 50))\n",
    "ax.set_ylim((0, 60))\n",
    "ax.grid(True)\n",
    "ax.set_title('PSD for GPE Vm (shared scale)')\n",
    "ax.legend()"
   ]
  },
  {
   "cell_type": "markdown",
   "metadata": {},
   "source": [
    "<b> Spectrogram </b>"
   ]
  },
  {
   "cell_type": "code",
   "execution_count": null,
   "metadata": {},
   "outputs": [],
   "source": [
    "# Mean GPe membrane voltage\n",
    "gpe_vm_mean = gpe_vm_signal.sum(axis=1) / gpe_vm_signal.shape[1]\n",
    "\n",
    "# Calculate spectrogram using STFT\n",
    "dt = 0.05\n",
    "fs = 1/dt*1e3\n",
    "freq_res = 1.0\n",
    "nperseg = int(fs/freq_res) # determines frequency resolution\n",
    "t_res = 20.0 # ms\n",
    "noverlap = nperseg - int(t_res/dt)\n",
    "freqs, t, Sxx = scipy.signal.spectrogram(gpe_vm_mean.ravel(), 1/dt, window='hanning',\n",
    "                                         nperseg=nperseg, noverlap=noverlap, scaling='density')\n",
    "freqs = freqs * 1000\n",
    "\n",
    "# Save spectrogram\n",
    "df = freqs[1]-freqs[0]\n",
    "all_spectrogram[sig_label] = (freqs[0:int(50/df)], t, Sxx[:,0:int(50/df)])"
   ]
  },
  {
   "cell_type": "code",
   "execution_count": null,
   "metadata": {},
   "outputs": [],
   "source": [
    "# Spectrogram 1\n",
    "fig, ax = plt.subplots(figsize=(0.75*page_width, ax_height))\n",
    "plt.pcolormesh(t, freqs, Sxx)\n",
    "# plt.imshow(Sxx, cmap='jet', aspect='auto', vmax=abs(Sxx).max(), vmin=Sxx.min())\n",
    "f_max = 50\n",
    "plt.ylim((0, f_max))\n",
    "plt.colorbar()\n",
    "plt.clim(0, abs(Sxx[:, int(5000.0/t_res):]).max()) # discard first second\n",
    "plt.ylabel('frequency (Hz)')\n",
    "plt.xlabel('time (ms)')\n",
    "plt.suptitle('GPe mean(Vm) Power ($nV^2/Hz$)')\n",
    "\n",
    "# Spectrogram 2 (common axis)\n",
    "fig, ax = plt.subplots(figsize=(0.75*page_width, ax_height))\n",
    "plt.pcolormesh(t, freqs, Sxx)\n",
    "f_max = 50\n",
    "plt.ylim((0, f_max))\n",
    "plt.colorbar()\n",
    "# plt.clim(0, 20)\n",
    "plt.clim(0, 50e3)\n",
    "plt.ylabel('frequency (Hz)')\n",
    "plt.xlabel('time (ms)')\n",
    "plt.suptitle('GPe mean(Vm) Power, shared axis ($nV^2/Hz$)')"
   ]
  },
  {
   "cell_type": "code",
   "execution_count": null,
   "metadata": {},
   "outputs": [],
   "source": [
    "dur = gpe_vm_signal.t_stop.magnitude\n",
    "\n",
    "# Total power in sub-bands\n",
    "Psum_subbands = {}\n",
    "edges_subbands = {}\n",
    "all_bands = [(13,19), (20,30), (20,25), (25,30)]\n",
    "main_bands = [(13,19), (20,30)]\n",
    "for subband in all_bands:\n",
    "    bin_indices, = np.where((freqs >= subband[0]) & (freqs <= subband[1]))\n",
    "    edges_subbands[subband] = (bin_indices[0], bin_indices[-1])\n",
    "    subband_spectrogram = Sxx[bin_indices, :]\n",
    "    \n",
    "    # Summed power in subband over time\n",
    "    Psum = np.sum(subband_spectrogram, axis=0) # / len(bin_indices)\n",
    "    Psum_subbands[subband] = Psum"
   ]
  },
  {
   "cell_type": "code",
   "execution_count": null,
   "metadata": {},
   "outputs": [],
   "source": [
    "# Plot power evolution\n",
    "fig, ax = plt.subplots(figsize=(0.75*page_width, 1.5*ax_height))\n",
    "\n",
    "for subband, Psum in Psum_subbands.items():\n",
    "    linestyle = '-' if subband in main_bands else '--'\n",
    "    ax.plot(t, Psum, linestyle, label='sum(P) ({} - {} Hz)'.format(\n",
    "            freqs[edges_subbands[subband][0]],\n",
    "            freqs[edges_subbands[subband][1]]))\n",
    "\n",
    "# Figure decoration\n",
    "# ax.set_ylim((0, Sxx.max()))\n",
    "ax.set_xlim((0, dur))\n",
    "ax.set_ylabel('Power ($nV^2/Hz$)')\n",
    "ax.set_xlabel('time (ms)')\n",
    "ax.grid(True)\n",
    "ax.legend()\n",
    "ax.set_title('Summed Power in sub-bands')"
   ]
  },
  {
   "cell_type": "markdown",
   "metadata": {},
   "source": [
    "# Phase Relationships\n",
    "\n",
    "For suitable measures and implementations, see\n",
    "- bookmarks/neuroscience/signal_processing\n",
    "- google `measure + site:github.com`\n",
    "- ask Amir for his mutual information and related measures\n",
    "- see Beta-related and other neurophysiology articles\n",
    "\n",
    "For example, we can use following measures\n",
    "\n",
    "- __Coherence__ : linear relationship betwee two signals by frequency component\n",
    "    + see `welch_cohere` in [elephant.spectral](http://elephant.readthedocs.io/en/latest/reference/spectral.html)\n",
    "\n",
    "\n",
    "- __Phase-Amplitude Coupling__ (PAC)\n",
    "    + see `hilbert` in [elephant.signal_processing](http://elephant.readthedocs.io/en/latest/reference/signal_processing.html) to do band-pass filter + Hilbert transform\n",
    "    + see `comodulogram` in [pactools](https://pactools.github.io/auto_examples/plot_comodulogram.html)"
   ]
  },
  {
   "cell_type": "markdown",
   "metadata": {},
   "source": [
    "## STN Phase"
   ]
  },
  {
   "cell_type": "code",
   "execution_count": null,
   "metadata": {},
   "outputs": [],
   "source": [
    "# Calculate analytical signal -> phase\n",
    "sig_label = 'STN_Vm'\n",
    "signal = stn_vm_signal\n",
    "\n",
    "# Take 10 cells within shorter time interval\n",
    "rec_dt = signal.sampling_period.magnitude\n",
    "interval= [1e3, 26e3]\n",
    "irange = [int(t/rec_dt) for t in interval]\n",
    "islice = np.s_[irange[0]:irange[1]] # slice object\n",
    "\n",
    "num_traces = 100\n",
    "pslice = np.s_[0:num_traces]\n",
    "traces_raw = signal[islice, pslice]\n",
    "\n",
    "times = signal.times[islice]"
   ]
  },
  {
   "cell_type": "markdown",
   "metadata": {},
   "source": [
    "### Phase Calculation"
   ]
  },
  {
   "cell_type": "code",
   "execution_count": null,
   "metadata": {},
   "outputs": [],
   "source": [
    "# Band-pass filter in frequency band of interest\n",
    "\n",
    "# Elephant built-in filtering\n",
    "# import elephant.signal_processing as sigproc\n",
    "# signal_bp = sigproc.butter(signal, highpass_freq=20, lowpass_freq=30, order=3, filter_function='filtfilt')\n",
    "\n",
    "# Manual band-pass filtering\n",
    "Fs = signal.sampling_rate.rescale('Hz').magnitude\n",
    "Fn = Fs / 2. # Nyquist frequency\n",
    "hpfreq, lpfreq = 5.0, 15.0\n",
    "order = 4\n",
    "\n",
    "assert hpfreq < lpfreq\n",
    "low, high = hpfreq / Fn, lpfreq / Fn\n",
    "b, a = scipy.signal.butter(order, [low, high], btype='bandpass', analog=False)\n",
    "sos = scipy.signal.butter(order, [low, high], btype='bandpass', analog=False, output='sos')\n",
    "# sos = scipy.signal.butter(order, high, btype='lowpass', analog=False, output='sos')\n",
    "\n",
    "# Check filter stability (otherwise -> NaN values)\n",
    "filter_stable = np.all(np.abs(np.roots(a))<1)\n",
    "if not filter_stable:\n",
    "    # raise Exception(\"Unstable filter!\")\n",
    "    print(\"Filter in b, a form is unstable!\")\n",
    "\n",
    "# Plot filter response\n",
    "w, h = scipy.signal.freqz(b, a, np.linspace(0, np.pi, 2**np.ceil(np.log2(Fn))))\n",
    "w, h = scipy.signal.sosfreqz(sos, np.linspace(0, np.pi, 2**np.ceil(np.log2(Fn))))\n",
    "angles = np.unwrap(np.angle(h))\n",
    "fax = w * Fn / (np.pi)\n",
    "\n",
    "fig, axes = plt.subplots(2, 1, sharex=True)\n",
    "fig.suptitle(\"Filter response (2*pi = {})\".format(Fs))\n",
    "ax = axes[0]\n",
    "ax.plot(fax, abs(h), 'b') # 20 * np.log10(abs(h))\n",
    "ax.set_ylabel('Amplitude [dB]', color='b')\n",
    "\n",
    "ax = axes[1] # ax2 = ax.twinx()\n",
    "ax.plot(fax, angles, 'g')\n",
    "ax.set_ylabel('Angle (radians)', color='g')\n",
    "\n",
    "# plt.axis('tight')\n",
    "ax.set_xlim((0, 50))\n",
    "ax.set_xlabel('Frequency [Hz]')\n",
    "ax.grid(True)"
   ]
  },
  {
   "cell_type": "code",
   "execution_count": null,
   "metadata": {},
   "outputs": [],
   "source": [
    "# Filter signal\n",
    "data = np.asarray(signal)\n",
    "# signal_bp = scipy.signal.filtfilt(b, a, data, axis=0) # can also use 'lfilter'\n",
    "signal_bp = signal.duplicate_with_new_array(scipy.signal.sosfiltfilt(sos, data, axis=0))"
   ]
  },
  {
   "cell_type": "code",
   "execution_count": null,
   "metadata": {},
   "outputs": [],
   "source": [
    "# Subsample to preserve up to 2 x highest frequency\n",
    "fmax = 2 * lpfreq\n",
    "fs_old = signal.sampling_rate.rescale('Hz').magnitude \n",
    "subsample_factor = int(fs_old / (2 * fmax))\n",
    "subsample_factor = min(20, subsample_factor)\n",
    "\n",
    "print(\"Subsampling with factor {}\".format(subsample_factor))\n",
    "signal_bpss = signal_bp[::subsample_factor, :] # adjusts sampling period property\n",
    "print(\"New sampling period is {}\".format(signal_bpss.sampling_period))\n",
    "\n",
    "# Adjust indices of intervals\n",
    "Ts = signal_bpss.sampling_period.magnitude\n",
    "irange_ss = [int(t/Ts) for t in interval]\n",
    "islice_ss = np.s_[irange_ss[0]:irange_ss[1]] # slice object\n",
    "times_ss = signal_bpss.times[islice_ss]"
   ]
  },
  {
   "cell_type": "code",
   "execution_count": null,
   "metadata": {},
   "outputs": [],
   "source": [
    "# Compute analytic signal - magnitude and phase\n",
    "from scipy.signal import hilbert\n",
    "\n",
    "traces_bp = signal_bpss[islice_ss, 0:num_traces]\n",
    "traces_raw = signal[islice, 0:num_traces]\n",
    "\n",
    "analytic_signal = hilbert(traces_bp, axis=0)\n",
    "analytic_mag = np.abs(analytic_signal)\n",
    "analytic_phase = np.angle(analytic_signal)\n",
    "# NOTE: phases are already wrapped\n",
    "# analytic_phase = np.unwrap(np.angle(analytic_signal), axis=0) # transform angle in interval (0, 2*pi)"
   ]
  },
  {
   "cell_type": "code",
   "execution_count": null,
   "metadata": {},
   "outputs": [],
   "source": [
    "# Check result : plot filtered signals\n",
    "fig, axes = plt.subplots(3, 1, figsize=(0.75*page_width,2*ax_height), sharex=True, sharey=False)\n",
    "fig.suptitle(\"Filtered & Analytic Signal\")\n",
    "\n",
    "trace_id = 1\n",
    "tplot = (7500., 8500.)\n",
    "iplot = np.s_[int(tplot[0]/rec_dt):int(tplot[1]/rec_dt)] # slice object\n",
    "iplot_ss = np.s_[int(tplot[0]/Ts):int(tplot[1]/Ts)]\n",
    "\n",
    "# Band-pass filtered trace\n",
    "ax = axes[0]\n",
    "ax.plot(times[iplot], traces_raw[iplot,trace_id], color='b', label='Vm raw')\n",
    "ax.plot(times_ss[iplot_ss], traces_bp[iplot_ss, trace_id], color='g', label='Vm bandpass')\n",
    "ax.set_ylabel('Vm raw & filtered')\n",
    "ax.grid(True)\n",
    "ax.legend()\n",
    "# ax.set_ylim((-80, 25))\n",
    "\n",
    "# Magnitude of analytic signal = amplitude envelope\n",
    "ax = axes[1]\n",
    "ax.plot(times_ss[iplot_ss], analytic_mag[iplot_ss, trace_id], label='magnitude')\n",
    "ax.set_ylabel('|analytic| [mV]')\n",
    "ax.grid(True)\n",
    "\n",
    "# Phase of analytic signal\n",
    "ax = axes[2]\n",
    "ax.plot(times_ss[iplot_ss], analytic_phase[iplot_ss, trace_id], label='phase')\n",
    "ax.grid(True)\n",
    "ax.set_ylabel('angle(analytic) [rad]')\n",
    "ax.set_xlabel('time ({})'.format(times.units))"
   ]
  },
  {
   "cell_type": "markdown",
   "metadata": {},
   "source": [
    "### Phase Variability"
   ]
  },
  {
   "cell_type": "code",
   "execution_count": null,
   "metadata": {},
   "outputs": [],
   "source": [
    "# Sample polar representation of analytic signal at fixed time points in Beta cycle\n",
    "f_beta_peak = all_fpeak['STN_Vm']\n",
    "print(\"Calculating phase vectors at multiples of {} Hz\".format(f_beta_peak))\n",
    "\n",
    "phase_trange = times.magnitude\n",
    "phase_tstart, phase_tstop = phase_trange[0], phase_trange[-1]\n",
    "\n",
    "# Random point in cycle of main Beta frequency is ok, as long as it's consistent\n",
    "beta_trigger_t = np.arange(phase_tstart, phase_tstop, 1e3/f_beta_peak)\n",
    "beta_trigger_i = [int((t-phase_tstart)/Ts) for t in beta_trigger_t]\n",
    "\n",
    "# Phasor vectors for all traces at all trigger times\n",
    "vec_magnitudes = analytic_mag[beta_trigger_i, :]\n",
    "vec_phases = analytic_phase[beta_trigger_i, :]"
   ]
  },
  {
   "cell_type": "code",
   "execution_count": null,
   "metadata": {},
   "outputs": [],
   "source": [
    "# Instantaneous standard deviation of phases\n",
    "fig, ax = plt.subplots(figsize=(0.75*page_width, ax_height))\n",
    "ax.plot(times_ss[::20], analytic_phase[::20, :].std(axis=1))\n",
    "ax.plot(beta_trigger_t, vec_phases.std(axis=1), 'r.')\n",
    "ax.set_ylabel('sigma (radians)')\n",
    "ax.set_xlabel('time ({})'.format(times.units))\n",
    "ax.set_title('Standard deviation of STN population phases')\n",
    "ax.grid(True)"
   ]
  },
  {
   "cell_type": "markdown",
   "metadata": {},
   "source": [
    "### Phase Differences"
   ]
  },
  {
   "cell_type": "code",
   "execution_count": null,
   "metadata": {},
   "outputs": [],
   "source": [
    "# PLV (Phase Locking Value)\n",
    "# Choose reference signal\n",
    "ref_id = 0\n",
    "phase_reference = analytic_phase[:, ref_id]\n",
    "phase_diffs = np.unwrap(analytic_phase - phase_reference[:,np.newaxis], axis=0) / (2*np.pi)\n",
    "\n",
    "fig, axes = plt.subplots(5, 1, figsize=(0.75*page_width, 5*ax_height))\n",
    "for i, ax in enumerate(axes):\n",
    "    if i == 0:\n",
    "        ax.set_title('Phase difference with cell {}'.format(ref_id))\n",
    "    ax.plot(times_ss, phase_diffs[:,(10*i):10*(i+1)])\n",
    "    ax.set_ylabel('phase difference (normalized)')\n",
    "    ax.set_xlabel('time ({})'.format(times_ss.units))\n",
    "    # grid\n",
    "    ax.set_yticks(np.arange(-10,10), minor=True)\n",
    "    # ax.set_ylim((-5,5))\n",
    "    ax.grid(which='both', linestyle=':') # for minor and major ticks"
   ]
  },
  {
   "cell_type": "code",
   "execution_count": null,
   "metadata": {},
   "outputs": [],
   "source": [
    "def smooth(x, window_len=11, window='flat'):\n",
    "    \"\"\"\n",
    "    Smooth using window. See https://scipy-cookbook.readthedocs.io/items/SignalSmooth.html\n",
    "    \"\"\"\n",
    "    if x.ndim != 1:\n",
    "        raise ValueError, \"smooth only accepts 1 dimension arrays.\"\n",
    "    if x.size < window_len:\n",
    "        raise ValueError, \"Input vector needs to be bigger than window size.\"\n",
    "    if window_len<3:\n",
    "        return x\n",
    "\n",
    "    if not window in ['flat', 'hanning', 'hamming', 'bartlett', 'blackman']:\n",
    "        raise ValueError, \"Window is on of 'flat', 'hanning', 'hamming', 'bartlett', 'blackman'\"\n",
    "\n",
    "    # Pad the signal on both sides\n",
    "    s = np.r_[x[window_len-1:0:-1], x, x[-2:-window_len-1:-1]]\n",
    "    if window == 'flat': #moving average\n",
    "        w = np.ones(window_len,'d')\n",
    "    else:\n",
    "        w = eval('np.'+window+'(window_len)')\n",
    "\n",
    "    y = np.convolve(w/w.sum(),s,mode='valid')\n",
    "    return y"
   ]
  },
  {
   "cell_type": "code",
   "execution_count": null,
   "metadata": {},
   "outputs": [],
   "source": [
    "# Smooth the phase differences\n",
    "window_ms = 500.0\n",
    "window_len = int(window_ms / signal_bpss.sampling_period.magnitude)\n",
    "\n",
    "delta_phi_smooth = np.empty((analytic_phase.shape[0]+window_len-1, analytic_phase.shape[1])) # for convolve\n",
    "#delta_phi_smooth = np.empty(analytic_phase.shape) # for medfilt\n",
    "for i in range(analytic_phase.shape[1]):\n",
    "    delta_phi_smooth[:,i] = smooth(phase_diffs[:,i], window_len, window='hanning')\n",
    "    #delta_phi_smooth[:,i] = scipy.signal.medfilt(phase_diffs[:,i], window_len+1)"
   ]
  },
  {
   "cell_type": "code",
   "execution_count": null,
   "metadata": {},
   "outputs": [],
   "source": [
    "# Calculate gradient using 2nd order central differences\n",
    "d_delta_phi = np.gradient(delta_phi_smooth, 2, axis=0)\n",
    "avg_ddphi = np.mean(d_delta_phi, axis=1)"
   ]
  },
  {
   "cell_type": "code",
   "execution_count": null,
   "metadata": {},
   "outputs": [],
   "source": [
    "fig, ax = plt.subplots(figsize=(0.75*page_width, ax_height))\n",
    "ax.set_title('Average derivative of phase difference with cell {}'.format(ref_id))\n",
    "\n",
    "t = np.arange(avg_ddphi.size) * Ts\n",
    "ax.plot(t, avg_ddphi)\n",
    "# ax.plot(t, delta_phi_smooth[:,1:5])\n",
    "ax.set_ylabel(r'$ \\frac{d}{dt} \\Delta \\phi $')\n",
    "ax.set_xlabel('time ({})'.format(times_ss.units))\n",
    "ax.grid(True)\n",
    "\n",
    "# Plot a few derivates to check\n",
    "# fig, ax = plt.subplots(figsize=(0.75*page_width, ax_height))\n",
    "# ax.plot(t, d_delta_phi[:,1:5])\n",
    "# ax.set_ylabel(r'$ \\frac{d}{dt} \\Delta \\phi $')\n",
    "# ax.set_xlabel('time ({})'.format(times_ss.units))\n",
    "# ax.grid(True)"
   ]
  },
  {
   "cell_type": "markdown",
   "metadata": {},
   "source": [
    "### SPIKE Synchronization"
   ]
  },
  {
   "cell_type": "code",
   "execution_count": null,
   "metadata": {},
   "outputs": [],
   "source": [
    "import pyspike\n",
    "# Convert to PySpike data format\n",
    "trains = []\n",
    "for st in pops_segments['STN'].spiketrains:\n",
    "    trains.append(pyspike.SpikeTrain(st.times.magnitude, (st.t_start, st.t_stop)))"
   ]
  },
  {
   "cell_type": "code",
   "execution_count": null,
   "metadata": {},
   "outputs": [],
   "source": [
    "sync_profile = pyspike.spike_sync_profile(*trains)"
   ]
  },
  {
   "cell_type": "code",
   "execution_count": null,
   "metadata": {},
   "outputs": [],
   "source": [
    "# Plot spike syncronization profile\n",
    "x, y = sync_profile.get_plottable_data()\n",
    "fig, ax = plt.subplots(figsize=(0.75*page_width, ax_height))\n",
    "ax.plot(x,y)\n",
    "ax.set_xlim((10e3, 20e3))\n",
    "ax.set_title('Kreuz SPIKE Synchronization for STN cells')\n",
    "ax.set_ylabel('synchronization index')\n",
    "ax.set_xlabel('time (ms)')"
   ]
  },
  {
   "cell_type": "markdown",
   "metadata": {},
   "source": [
    "### Morgera Synchronization Index"
   ]
  },
  {
   "cell_type": "code",
   "execution_count": null,
   "metadata": {},
   "outputs": [],
   "source": [
    "M_values = []\n",
    "delta_t = 200.0\n",
    "window = 1000.0\n",
    "t0_values = np.arange(0, signal.t_stop.magnitude, delta_t)\n",
    "t1_values = []\n",
    "for t0 in t0_values:\n",
    "    interval = [t0, t0+window]\n",
    "    if interval[1] > signal.t_stop.magnitude:\n",
    "        break\n",
    "    irange = [int(t/Ts) for t in interval]\n",
    "    islice = np.s_[irange[0]:irange[1]] # slice object\n",
    "    \n",
    "    # SVD and singular values\n",
    "    u, s, vh = np.linalg.svd(signal_bpss[islice, :], full_matrices=True)\n",
    "    lambas = s**2\n",
    "    sigmas = lambas / lambas.sum()\n",
    "    C = - 1./np.log(len(sigmas)) * np.sum(sigmas * np.log(sigmas))\n",
    "    \n",
    "    t1_values.append(interval[1])\n",
    "    M_values.append(1 - C)\n",
    "\n",
    "all_morgera[sig_label] = (zip(t0_values, t1_values), M_values)"
   ]
  },
  {
   "cell_type": "code",
   "execution_count": null,
   "metadata": {},
   "outputs": [],
   "source": [
    "fig, ax = plt.subplots(figsize=(0.75*page_width, ax_height))\n",
    "ax.plot(t1_values, M_values)\n",
    "ax.set_title('Morgera synchronization index [t-{}, t]'.format(window))\n",
    "ax.set_ylabel('M (0-1)')\n",
    "ax.set_xlabel('time (ms)')\n",
    "ax.grid(True)\n",
    "ax.set_ylim((0,1))\n",
    "ax.set_xlim((0, signal.t_stop.magnitude))"
   ]
  },
  {
   "cell_type": "markdown",
   "metadata": {},
   "source": [
    "## GPe Phase"
   ]
  },
  {
   "cell_type": "code",
   "execution_count": null,
   "metadata": {},
   "outputs": [],
   "source": [
    "# Calculate analytical signal -> phase\n",
    "sig_label = \"GPE_Vm\"\n",
    "signal = gpe_vm_signal\n",
    "\n",
    "# Take 10 cells within shorter time interval\n",
    "rec_dt = signal.sampling_period.magnitude\n",
    "interval= [1e3, 26e3]\n",
    "irange = [int(t/rec_dt) for t in interval]\n",
    "islice = np.s_[irange[0]:irange[1]] # slice object\n",
    "\n",
    "num_traces = 100\n",
    "pslice = np.s_[0:num_traces]\n",
    "traces_raw = signal[islice, pslice]\n",
    "\n",
    "times = signal.times[islice]"
   ]
  },
  {
   "cell_type": "markdown",
   "metadata": {},
   "source": [
    "### Phase Calculation"
   ]
  },
  {
   "cell_type": "code",
   "execution_count": null,
   "metadata": {},
   "outputs": [],
   "source": [
    "# Band-pass filter in frequency band of interest\n",
    "\n",
    "# Elephant built-in filtering\n",
    "# import elephant.signal_processing as sigproc\n",
    "# signal_bp = sigproc.butter(signal, highpass_freq=20, lowpass_freq=30, order=3, filter_function='filtfilt')\n",
    "\n",
    "# Manual band-pass filtering\n",
    "Fs = signal.sampling_rate.rescale('Hz').magnitude\n",
    "Fn = Fs / 2. # Nyquist frequency\n",
    "# hpfreq, lpfreq = 5.0, 15.0\n",
    "order = 4\n",
    "\n",
    "assert hpfreq < lpfreq\n",
    "low, high = hpfreq / Fn, lpfreq / Fn\n",
    "b, a = scipy.signal.butter(order, [low, high], btype='bandpass', analog=False)\n",
    "sos = scipy.signal.butter(order, [low, high], btype='bandpass', analog=False, output='sos')\n",
    "\n",
    "# Check filter stability (otherwise -> NaN values)\n",
    "filter_stable = np.all(np.abs(np.roots(a))<1)\n",
    "if not filter_stable:\n",
    "    # raise Exception(\"Unstable filter!\")\n",
    "    print(\"Filter in b, a form is unstable!\")\n",
    "\n",
    "# Plot filter response\n",
    "w, h = scipy.signal.freqz(b, a, np.linspace(0, np.pi, 2**np.ceil(np.log2(Fn))))\n",
    "w, h = scipy.signal.sosfreqz(sos, np.linspace(0, np.pi, 2**np.ceil(np.log2(Fn))))\n",
    "angles = np.unwrap(np.angle(h))\n",
    "fax = w * Fn / (np.pi)\n",
    "\n",
    "fig, axes = plt.subplots(2, 1, sharex=True)\n",
    "fig.suptitle(\"Filter response (2*pi = {})\".format(Fs))\n",
    "ax = axes[0]\n",
    "ax.plot(fax, abs(h), 'b') # 20 * np.log10(abs(h))\n",
    "ax.set_ylabel('Amplitude [dB]', color='b')\n",
    "\n",
    "ax = axes[1] # ax2 = ax.twinx()\n",
    "ax.plot(fax, angles, 'g')\n",
    "ax.set_ylabel('Angle (radians)', color='g')\n",
    "\n",
    "# plt.axis('tight')\n",
    "ax.set_xlim((0, 50))\n",
    "ax.set_xlabel('Frequency [Hz]')\n",
    "ax.grid(True)"
   ]
  },
  {
   "cell_type": "code",
   "execution_count": null,
   "metadata": {},
   "outputs": [],
   "source": [
    "# Filter signal\n",
    "data = np.asarray(signal)\n",
    "# signal_bp = scipy.signal.filtfilt(b, a, data, axis=0) # can also use 'lfilter'\n",
    "signal_bp = signal.duplicate_with_new_array(scipy.signal.sosfiltfilt(sos, data, axis=0))"
   ]
  },
  {
   "cell_type": "code",
   "execution_count": null,
   "metadata": {},
   "outputs": [],
   "source": [
    "# Subsample to preserve up to 2 x highest frequency\n",
    "fmax = 2 * lpfreq\n",
    "fs_old = signal.sampling_rate.rescale('Hz').magnitude \n",
    "subsample_factor = int(fs_old / (2 * fmax))\n",
    "subsample_factor = min(20, subsample_factor)\n",
    "\n",
    "print(\"Subsampling with factor {}\".format(subsample_factor))\n",
    "signal_bpss = signal_bp[::subsample_factor, :] # adjusts sampling period property\n",
    "print(\"New sampling period is {}\".format(signal_bpss.sampling_period))\n",
    "\n",
    "# Adjust indices of intervals\n",
    "Ts = signal_bpss.sampling_period.magnitude\n",
    "irange_ss = [int(t/Ts) for t in interval]\n",
    "islice_ss = np.s_[irange_ss[0]:irange_ss[1]] # slice object\n",
    "times_ss = signal_bpss.times[islice_ss]"
   ]
  },
  {
   "cell_type": "code",
   "execution_count": null,
   "metadata": {},
   "outputs": [],
   "source": [
    "# Compute analytic signal - magnitude and phase\n",
    "from scipy.signal import hilbert\n",
    "\n",
    "traces_bp = signal_bpss[islice_ss, 0:num_traces]\n",
    "traces_raw = signal[islice, 0:num_traces]\n",
    "\n",
    "analytic_signal = hilbert(traces_bp, axis=0)\n",
    "analytic_mag = np.abs(analytic_signal)\n",
    "analytic_phase = np.angle(analytic_signal)\n",
    "# NOTE: phases are already wrapped\n",
    "# analytic_phase = np.unwrap(np.angle(analytic_signal), axis=0) # transform angle in interval (0, 2*pi)"
   ]
  },
  {
   "cell_type": "code",
   "execution_count": null,
   "metadata": {},
   "outputs": [],
   "source": [
    "# Check result : plot filtered signals\n",
    "fig, axes = plt.subplots(3, 1, figsize=(0.75*page_width,2*ax_height), sharex=True, sharey=False)\n",
    "fig.suptitle(\"Filtered & Analytic Signal\")\n",
    "\n",
    "trace_id = 1\n",
    "tplot = (7500., 8500.)\n",
    "iplot = np.s_[int(tplot[0]/rec_dt):int(tplot[1]/rec_dt)] # slice object\n",
    "iplot_ss = np.s_[int(tplot[0]/Ts):int(tplot[1]/Ts)]\n",
    "\n",
    "# Band-pass filtered trace\n",
    "ax = axes[0]\n",
    "ax.plot(times[iplot], traces_raw[iplot,trace_id], color='b', label='Vm raw')\n",
    "ax.plot(times_ss[iplot_ss], traces_bp[iplot_ss, trace_id], color='g', label='Vm bandpass')\n",
    "ax.set_ylabel('Vm raw & filtered')\n",
    "ax.grid(True)\n",
    "ax.legend()\n",
    "# ax.set_ylim((-80, 25))\n",
    "\n",
    "# Magnitude of analytic signal = amplitude envelope\n",
    "ax = axes[1]\n",
    "ax.plot(times_ss[iplot_ss], analytic_mag[iplot_ss, trace_id], label='magnitude')\n",
    "ax.set_ylabel('|analytic| [mV]')\n",
    "ax.grid(True)\n",
    "\n",
    "# Phase of analytic signal\n",
    "ax = axes[2]\n",
    "ax.plot(times_ss[iplot_ss], analytic_phase[iplot_ss, trace_id], label='phase')\n",
    "ax.grid(True)\n",
    "ax.set_ylabel('angle(analytic) [rad]')\n",
    "ax.set_xlabel('time ({})'.format(times.units))"
   ]
  },
  {
   "cell_type": "markdown",
   "metadata": {},
   "source": [
    "### Phase Variability"
   ]
  },
  {
   "cell_type": "code",
   "execution_count": null,
   "metadata": {},
   "outputs": [],
   "source": [
    "# Sample polar representation of analytic signal at fixed time points in Beta cycle\n",
    "f_beta_peak = 17.0 # SETPARAM: all_fpeak['STN_Vm']\n",
    "print(\"Calculating phase vectors at multiples of {} Hz\".format(f_beta_peak))\n",
    "\n",
    "phase_trange = times.magnitude\n",
    "phase_tstart, phase_tstop = phase_trange[0], phase_trange[-1]\n",
    "\n",
    "# Random point in cycle of main Beta frequency is ok, as long as it's consistent\n",
    "beta_trigger_t = np.arange(phase_tstart, phase_tstop, 1e3/f_beta_peak)\n",
    "beta_trigger_i = [int((t-phase_tstart)/Ts) for t in beta_trigger_t]\n",
    "\n",
    "# Phasor vectors for all traces at all trigger times\n",
    "vec_magnitudes = analytic_mag[beta_trigger_i, :]\n",
    "vec_phases = analytic_phase[beta_trigger_i, :]"
   ]
  },
  {
   "cell_type": "code",
   "execution_count": null,
   "metadata": {},
   "outputs": [],
   "source": [
    "# Instantaneous standard deviation of phases\n",
    "fig, ax = plt.subplots(figsize=(0.75*page_width, ax_height))\n",
    "ax.plot(times_ss[::20], analytic_phase[::20, :].std(axis=1))\n",
    "ax.plot(beta_trigger_t, vec_phases.std(axis=1), 'r.')\n",
    "ax.set_ylabel('sigma (radians)')\n",
    "ax.set_xlabel('time ({})'.format(times.units))\n",
    "ax.set_title('Standard deviation of STN population phases')\n",
    "ax.grid(True)"
   ]
  },
  {
   "cell_type": "markdown",
   "metadata": {},
   "source": [
    "### Phase Differences"
   ]
  },
  {
   "cell_type": "code",
   "execution_count": null,
   "metadata": {},
   "outputs": [],
   "source": [
    "# PLV (Phase Locking Value)\n",
    "# Choose reference signal\n",
    "ref_id = 0\n",
    "phase_reference = analytic_phase[:, ref_id]\n",
    "phase_diffs = np.unwrap(analytic_phase - phase_reference[:,np.newaxis], axis=0) / (2*np.pi)\n",
    "\n",
    "fig, axes = plt.subplots(5, 1, figsize=(0.75*page_width, 5*ax_height))\n",
    "for i, ax in enumerate(axes):\n",
    "    if i == 0:\n",
    "        ax.set_title('Phase difference with cell {}'.format(ref_id))\n",
    "    ax.plot(times_ss, phase_diffs[:,(10*i):10*(i+1)])\n",
    "    ax.set_ylabel('phase difference (normalized)')\n",
    "    ax.set_xlabel('time ({})'.format(times_ss.units))\n",
    "    # grid\n",
    "    ax.set_yticks(np.arange(-10,10), minor=True)\n",
    "    # ax.set_ylim((-5,5))\n",
    "    ax.grid(which='both', linestyle=':') # for minor and major ticks"
   ]
  },
  {
   "cell_type": "markdown",
   "metadata": {},
   "source": [
    "### SPIKE Synchronization"
   ]
  },
  {
   "cell_type": "code",
   "execution_count": null,
   "metadata": {},
   "outputs": [],
   "source": [
    "import pyspike\n",
    "# Convert to PySpike data format\n",
    "trains = []\n",
    "for st in pops_segments['GPE'].spiketrains:\n",
    "    trains.append(pyspike.SpikeTrain(st.times.magnitude, (st.t_start, st.t_stop)))"
   ]
  },
  {
   "cell_type": "code",
   "execution_count": null,
   "metadata": {},
   "outputs": [],
   "source": [
    "sync_profile = pyspike.spike_sync_profile(*trains)"
   ]
  },
  {
   "cell_type": "code",
   "execution_count": null,
   "metadata": {},
   "outputs": [],
   "source": [
    "# Plot spike syncronization profile\n",
    "x, y = sync_profile.get_plottable_data()\n",
    "fig, ax = plt.subplots(figsize=(0.75*page_width, ax_height))\n",
    "ax.plot(x,y)\n",
    "ax.set_xlim((10e3, 20e3))\n",
    "ax.set_title('Kreuz SPIKE Synchronization for STN cells')\n",
    "ax.set_ylabel('synchronization index')\n",
    "ax.set_xlabel('time (ms)')"
   ]
  },
  {
   "cell_type": "markdown",
   "metadata": {},
   "source": [
    "### Morgera Synchronization Index"
   ]
  },
  {
   "cell_type": "code",
   "execution_count": null,
   "metadata": {},
   "outputs": [],
   "source": [
    "M_values = []\n",
    "delta_t = 200.0\n",
    "window = 1000.0\n",
    "t0_values = np.arange(0, signal.t_stop.magnitude, delta_t)\n",
    "t1_values = []\n",
    "for t0 in t0_values:\n",
    "    interval = [t0, t0+window]\n",
    "    if interval[1] > signal.t_stop.magnitude:\n",
    "        break\n",
    "    irange = [int(t/Ts) for t in interval]\n",
    "    islice = np.s_[irange[0]:irange[1]] # slice object\n",
    "    \n",
    "    # SVD and singular values\n",
    "    u, s, vh = np.linalg.svd(signal_bpss[islice, :], full_matrices=True)\n",
    "    lambas = s**2\n",
    "    sigmas = lambas / lambas.sum()\n",
    "    C = - 1./np.log(len(sigmas)) * np.sum(sigmas * np.log(sigmas))\n",
    "    \n",
    "    t1_values.append(interval[1])\n",
    "    M_values.append(1 - C)\n",
    "\n",
    "all_morgera[sig_label] = (zip(t0_values, t1_values), M_values)"
   ]
  },
  {
   "cell_type": "code",
   "execution_count": null,
   "metadata": {},
   "outputs": [],
   "source": [
    "fig, ax = plt.subplots(figsize=(0.75*page_width, ax_height))\n",
    "ax.plot(t1_values, M_values)\n",
    "ax.set_title('Morgera synchronization index [t-{}, t]'.format(window))\n",
    "ax.set_ylabel('M (0-1)')\n",
    "ax.set_xlabel('time (ms)')\n",
    "ax.grid(True)\n",
    "ax.set_ylim((0,1))\n",
    "ax.set_xlim((0, signal.t_stop.magnitude))"
   ]
  },
  {
   "cell_type": "markdown",
   "metadata": {},
   "source": [
    "## CTX - STN"
   ]
  },
  {
   "cell_type": "code",
   "execution_count": null,
   "metadata": {},
   "outputs": [],
   "source": [
    "if WITHOUT_LFP:\n",
    "    stn_target_signal = stn_vm_mean\n",
    "else:\n",
    "    stn_target_signal = stn_lfp_signal"
   ]
  },
  {
   "cell_type": "markdown",
   "metadata": {},
   "source": [
    "### Coherence"
   ]
  },
  {
   "cell_type": "code",
   "execution_count": null,
   "metadata": {},
   "outputs": [],
   "source": [
    "# ctx_vm_mean = neo.AnalogSignal(ctx_vm_signal.sum(axis=1).reshape((-1,1)), units=ctx_vm_signal.units, \n",
    "#                               sampling_rate=ctx_vm_signal.sampling_rate, t_start=ctx_vm_signal.t_start)\n",
    "\n",
    "# Copy signal metadata from CTX Vm signal\n",
    "ctx_vm_mean = ctx_vm_signal.duplicate_with_new_array(ctx_vm_signal.sum(axis=1).reshape((-1,1)))\n",
    "\n",
    "# Coherence between averaged cortical Vm and STN LFP\n",
    "# N x CTX signals -> 1 x LFP signal\n",
    "freqs, coherence, phase_lag = elephant.spectral.welch_cohere(ctx_vm_mean, stn_target_signal, freq_res=0.5)"
   ]
  },
  {
   "cell_type": "code",
   "execution_count": null,
   "metadata": {},
   "outputs": [],
   "source": [
    "fig, axes = plt.subplots(2, 1, figsize=(0.75*page_width, 2*ax_height))\n",
    "ax = axes[0]\n",
    "ineg = len(freqs)/2 # plot messed up because positive frequency axis comes before negative part\n",
    "ax.plot(freqs[:ineg], coherence[:ineg], label='CTX Vm - STN LFP')\n",
    "ax.set_ylabel('Coherence (unitless)')\n",
    "# ax.set_xlabel('frequency ({})'.format(freqs.units))\n",
    "ax.set_xlim((0, 100))\n",
    "ax.grid(True)\n",
    "# ax.set_yscale('log')\n",
    "ax.set_title('Coherence between Cortex mean Vm - STN LFP')\n",
    "ax.legend(loc='upper right')\n",
    "\n",
    "# Plot phase\n",
    "ax = axes[1]\n",
    "ax.plot(freqs[:ineg], phase_lag[:ineg], 'g-', label='phase')\n",
    "ax.set_ylabel('Phase (rad)')\n",
    "ax.set_xlabel('frequency ({})'.format(freqs.units))\n",
    "ax.set_xlim((0, 100))\n",
    "ax.grid(True)\n",
    "# ax.set_yscale('log')\n",
    "ax.set_title('Phase lag > 0 means CTX leads STN')\n",
    "ax.legend(loc='upper right')"
   ]
  },
  {
   "cell_type": "markdown",
   "metadata": {},
   "source": [
    "### Phase-Amplitude Coupling"
   ]
  },
  {
   "cell_type": "code",
   "execution_count": null,
   "metadata": {},
   "outputs": [],
   "source": [
    "# from tensorpac import Pac\n",
    "# estimator = Pac(idpac=(1, 0, 0), fpha=(3, 33, 1, 1), famp=(20, 150, 5, 5),\n",
    "#                 dcomplex='hilbert', filt='butter')\n",
    "\n",
    "# Filter the data and extract PAC :\n",
    "# xpac = estimator.filterfit(fs,\n",
    "#                            xpha=stn_vm_signal.magnitude[int(1e3/dt):int(10e3/dt), 0:10],\n",
    "#                            xamp=ctx_vm_signal.magnitude[int(1e3/dt):int(10e3/dt), 0:10],\n",
    "#                            axis=0, traxis=1, njobs=2)\n",
    "# xpac = estimator.filterfit(fs, \n",
    "#                            xpha=stn_lfp_signal.magnitude.reshape((-1,1)),\n",
    "#                            xamp=ctx_vm_mean.magnitude.reshape((-1,1)),\n",
    "#                            axis=0, traxis=1, njobs=2)"
   ]
  },
  {
   "cell_type": "code",
   "execution_count": null,
   "metadata": {},
   "outputs": [],
   "source": [
    "# Plot PAC\n",
    "# estimator.comodulogram(xpac.mean(-1), title='PAC: STN LFP (phase) - CTX Vm (amplitude)',\n",
    "#                        cmap='Spectral_r', plotas='imshow')"
   ]
  },
  {
   "cell_type": "markdown",
   "metadata": {},
   "source": [
    "## STN - GPE"
   ]
  },
  {
   "cell_type": "code",
   "execution_count": null,
   "metadata": {},
   "outputs": [],
   "source": [
    "# Copy signal metadata from CTX Vm signal\n",
    "gpe_vm_mean = gpe_vm_signal.duplicate_with_new_array(gpe_vm_signal.sum(axis=1).reshape((-1,1)))\n",
    "\n",
    "# Coherence between averaged cortical Vm and STN LFP\n",
    "# N x CTX signals -> 1 x LFP signal\n",
    "freqs, coherence, phase_lag = elephant.spectral.welch_cohere(stn_target_signal, gpe_vm_mean, freq_res=0.5)"
   ]
  },
  {
   "cell_type": "markdown",
   "metadata": {},
   "source": [
    "### Coherence"
   ]
  },
  {
   "cell_type": "code",
   "execution_count": null,
   "metadata": {},
   "outputs": [],
   "source": [
    "fig, axes = plt.subplots(2, 1, figsize=(0.75*page_width, 2*ax_height))\n",
    "ax = axes[0]\n",
    "ineg = len(freqs)/2 # plot messed up because positive frequency axis comes before negative part\n",
    "ax.plot(freqs[:ineg], coherence[:ineg], label='STN LFP - Avg GPe Vm')\n",
    "ax.set_ylabel('Coherence (unitless)')\n",
    "# ax.set_xlabel('frequency ({})'.format(freqs.units))\n",
    "ax.set_xlim((0, 100))\n",
    "ax.grid(True)\n",
    "# ax.set_yscale('log')\n",
    "ax.set_title('Coherence between STN LFP - Average GPe Vm')\n",
    "ax.legend(loc='upper right')\n",
    "\n",
    "# Plot phase\n",
    "ax = axes[1]\n",
    "ax.plot(freqs[:ineg], phase_lag[:ineg], 'g-', label='phase')\n",
    "ax.set_ylabel('Phase (rad)')\n",
    "ax.set_xlabel('frequency ({})'.format(freqs.units))\n",
    "ax.set_xlim((0, 100))\n",
    "ax.grid(True)\n",
    "# ax.set_yscale('log')\n",
    "ax.set_title('Phase lag > 0 means CTX leads STN')\n",
    "ax.legend(loc='upper right')"
   ]
  },
  {
   "cell_type": "markdown",
   "metadata": {},
   "source": [
    "# Save Notebook"
   ]
  },
  {
   "cell_type": "code",
   "execution_count": null,
   "metadata": {},
   "outputs": [],
   "source": [
    "# alternative: %notebook -e foo.ipynb\n",
    "# from IPython.display import Javascript\n",
    "# script = '''\n",
    "# require([\"base/js/namespace\"],function(Jupyter) {\n",
    "#     Jupyter.notebook.save_checkpoint();\n",
    "# });\n",
    "# '''\n",
    "# Javascript(script)"
   ]
  },
  {
   "cell_type": "code",
   "execution_count": null,
   "metadata": {},
   "outputs": [],
   "source": [
    "%%javascript\n",
    "require([\"base/js/namespace\"],function(Jupyter) {\n",
    "    Jupyter.notebook.save_checkpoint();\n",
    "});\n",
    "// Jupyter.notebook.kernel.execute(\"notebook_name = \" + \"\\'\"+Jupyter.notebook.notebook_name+\"\\'\");"
   ]
  },
  {
   "cell_type": "code",
   "execution_count": null,
   "metadata": {},
   "outputs": [],
   "source": [
    "# import os.path\n",
    "thisfile = 'synchrony_analysis.ipynb'\n",
    "# outfile = os.path.join(outputs, 'synchrony_analysis.html')\n",
    "# Export using built-in template:\n",
    "#!jupyter nbconvert --to html --template=full --output-dir=$outputs $thisfile\n",
    "# NOTE: template comes from ToC2 Notebook Extension\n",
    "!jupyter nbconvert $thisfile --template=toc2 --output-dir=$outputs"
   ]
  },
  {
   "cell_type": "code",
   "execution_count": null,
   "metadata": {},
   "outputs": [],
   "source": [
    "# Export analysis results\n",
    "import pickle, os.path\n",
    "outfile = os.path.join(outputs, 'analysis_results.pkl')\n",
    "with open(outfile, 'wb') as fout:\n",
    "    pickle.dump(exported_data, fout)\n",
    "print(\"Saved analysis results to file: \" + outfile)"
   ]
  },
  {
   "cell_type": "code",
   "execution_count": null,
   "metadata": {},
   "outputs": [],
   "source": []
  }
 ],
 "metadata": {
  "kernelspec": {
   "display_name": "Python [default]",
   "language": "python",
   "name": "python2"
  },
  "language_info": {
   "codemirror_mode": {
    "name": "ipython",
    "version": 2
   },
   "file_extension": ".py",
   "mimetype": "text/x-python",
   "name": "python",
   "nbconvert_exporter": "python",
   "pygments_lexer": "ipython2",
   "version": "2.7.13"
  },
  "toc": {
   "nav_menu": {},
   "number_sections": false,
   "sideBar": true,
   "skip_h1_title": false,
   "toc_cell": false,
   "toc_position": {
    "height": "879px",
    "left": "0px",
    "right": "1427px",
    "top": "67px",
    "width": "253px"
   },
   "toc_section_display": "block",
   "toc_window_display": true
  }
 },
 "nbformat": 4,
 "nbformat_minor": 2
}
