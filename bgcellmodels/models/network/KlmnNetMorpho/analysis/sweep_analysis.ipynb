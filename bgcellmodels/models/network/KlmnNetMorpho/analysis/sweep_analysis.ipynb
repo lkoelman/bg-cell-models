{
 "cells": [
  {
   "cell_type": "markdown",
   "metadata": {},
   "source": [
    "# Introduction\n",
    "\n",
    "Analysis of a set of simulation outputs that are the result of a parameter sweep."
   ]
  },
  {
   "cell_type": "code",
   "execution_count": null,
   "metadata": {},
   "outputs": [],
   "source": [
    "%matplotlib inline\n",
    "import numpy as np\n",
    "import matplotlib.pyplot as plt\n",
    "import os.path\n",
    "import cPickle as pickle"
   ]
  },
  {
   "cell_type": "code",
   "execution_count": null,
   "metadata": {},
   "outputs": [],
   "source": [
    "# Width of the page for calibrating fig_size.\n",
    "# Approx. 16 for matplotlib backend %inline  8 for %notebook\n",
    "page_width = 14\n",
    "ax_height = 3\n",
    "\n",
    "# Style of figures (default colors etc.): see https://matplotlib.org/gallery/style_sheets/style_sheets_reference.html\n",
    "plt.style.use('default')"
   ]
  },
  {
   "cell_type": "markdown",
   "metadata": {},
   "source": [
    "# Load Data"
   ]
  },
  {
   "cell_type": "code",
   "execution_count": null,
   "metadata": {},
   "outputs": [],
   "source": [
    "# Paste output directories below (e.g use ctrl+c in Nautilus file manager)\n",
    "outputs_clipboard = \"\"\"\n",
    "/run/media/luye/Windows7_OS/Users/lkoelman/simdata-win/syn-v2_q1_const-rate_vary-freq/2018.08.02_job-780629.sonic-head_DA-depleted-v3_CTX-favg14_fburst5\n",
    "/run/media/luye/Windows7_OS/Users/lkoelman/simdata-win/syn-v2_q1_const-rate_vary-freq/2018.08.02_job-780630.sonic-head_DA-depleted-v3_CTX-favg14_fburst7\n",
    "/run/media/luye/Windows7_OS/Users/lkoelman/simdata-win/syn-v2_q1_const-rate_vary-freq/2018.08.02_job-780631.sonic-head_DA-depleted-v3_CTX-favg14_fburst9\n",
    "/run/media/luye/Windows7_OS/Users/lkoelman/simdata-win/syn-v2_q1_const-rate_vary-freq/2018.08.02_job-780632.sonic-head_DA-depleted-v3_CTX-favg14_fburst11\n",
    "/run/media/luye/Windows7_OS/Users/lkoelman/simdata-win/syn-v2_q1_const-rate_vary-freq/2018.08.02_job-780634.sonic-head_DA-depleted-v3_CTX-favg14_fburst15\n",
    "/run/media/luye/Windows7_OS/Users/lkoelman/simdata-win/syn-v2_q1_const-rate_vary-freq/2018.08.02_job-780635.sonic-head_DA-depleted-v3_CTX-favg14_fburst17\n",
    "/run/media/luye/Windows7_OS/Users/lkoelman/simdata-win/syn-v2_q1_const-rate_vary-freq/2018.08.02_job-780636.sonic-head_DA-depleted-v3_CTX-favg14_fburst19\n",
    "/run/media/luye/Windows7_OS/Users/lkoelman/simdata-win/syn-v2_q1_const-rate_vary-freq/2018.08.02_job-780637.sonic-head_DA-depleted-v3_CTX-favg14_fburst21\n",
    "/run/media/luye/Windows7_OS/Users/lkoelman/simdata-win/syn-v2_q1_const-rate_vary-freq/2018.08.02_job-780638.sonic-head_DA-depleted-v3_CTX-favg14_fburst23\n",
    "/run/media/luye/Windows7_OS/Users/lkoelman/simdata-win/syn-v2_q1_const-rate_vary-freq/2018.08.02_job-780639.sonic-head_DA-depleted-v3_CTX-favg14_fburst25\n",
    "\"\"\"\n",
    "output_dirs = outputs_clipboard.strip().split('\\n')"
   ]
  },
  {
   "cell_type": "code",
   "execution_count": null,
   "metadata": {},
   "outputs": [],
   "source": [
    "# Analysis results for each simulation were saved as a dict in pickle format.\n",
    "# Load them and make them accessible using the value of the sweep variable as key.\n",
    "analysis_results= {}\n",
    "sweep_var_name = None\n",
    "for odir in output_dirs:\n",
    "    exported_results = os.path.join(odir, 'analysis_results.pkl')\n",
    "    with open(exported_results, 'rb') as f:\n",
    "        results_dict = pickle.load(f)\n",
    "        if sweep_var_name is None:\n",
    "            sweep_var_name = results_dict['sweep_var_name']\n",
    "        elif results_dict['sweep_var_name'] != sweep_var_name:\n",
    "            raise ValueError(\n",
    "                \"Simulation results in {} do not have the intended sweep variable!\"\n",
    "                \"\\nMaybe one of the output directories you copied does not match the series.\".format(odir))\n",
    "        # Get sweep value\n",
    "        import re\n",
    "        match = re.search(r'[0-9]+$', odir)\n",
    "        sweep_value = float(match.group(0))\n",
    "        analysis_results[sweep_value] = results_dict"
   ]
  },
  {
   "cell_type": "code",
   "execution_count": null,
   "metadata": {},
   "outputs": [],
   "source": [
    "print(analysis_results.keys())\n",
    "print(analysis_results.values()[0].keys())"
   ]
  },
  {
   "cell_type": "markdown",
   "metadata": {},
   "source": [
    "# Firing Rates"
   ]
  },
  {
   "cell_type": "code",
   "execution_count": null,
   "metadata": {},
   "outputs": [],
   "source": [
    "# Plot mean firing rates\n",
    "sweep_vals = np.array(sorted(analysis_results.keys()))\n",
    "rates = [analysis_results[val]['mean_rate']['CTX'] for val in sweep_vals]\n",
    "\n",
    "fig, ax = plt.subplots(figsize=(0.5*page_width, ax_height))\n",
    "\n",
    "ax.plot(sweep_vals, rates, color='g', alpha=0.4)\n",
    "# ax.plot(sweep_vals, rates, color='r', marker='+')\n",
    "ax.bar(sweep_vals, rates, width=0.35, alpha=0.4, color='g')\n",
    "\n",
    "ax.set_xlabel(sweep_var_name)\n",
    "ax.set_ylabel('Mean firing rate (Hz)')\n",
    "ax.set_title('Mean CTX firing rate for parameter sweep \"{}\"'.format(sweep_var_name))\n",
    "\n",
    "ax.set_xticks(sweep_vals)\n",
    "# ax.set_xticklabels(sweep_vals)\n",
    "\n",
    "ax.set_yticks(np.arange(0, int(max(rates)+2), 5), minor=False)\n",
    "ax.set_yticks(np.arange(0, int(max(rates)+2), 1.0), minor=True)\n",
    "ax.grid(True, axis='y', which='major')"
   ]
  },
  {
   "cell_type": "markdown",
   "metadata": {},
   "source": [
    "# PSD"
   ]
  },
  {
   "cell_type": "code",
   "execution_count": null,
   "metadata": {},
   "outputs": [],
   "source": [
    "# Plot the PSD\n",
    "sig_label = 'STN_Vm'\n",
    "cmap = plt.get_cmap('cool')\n",
    "line_colors = [cmap(x) for x in np.linspace(0, 1, len(analysis_results))] # https://stackoverflow.com/questions/8931268/using-colormaps-to-set-color-of-line-in-matplotlib\n",
    "\n",
    "def compare_psd(sig_label):\n",
    "    \"\"\" Plot PSD for given signal for each simulation / sweep variable. \"\"\"\n",
    "    fig, ax = plt.subplots(figsize=(0.75*page_width, ax_height))\n",
    "    for i, (sweep_value, results) in enumerate(analysis_results.items()):\n",
    "        freqs, psd = results['PSD'][sig_label]\n",
    "        ax.plot(freqs, psd, color=line_colors[i], label='{} = {}'.format(sweep_var_name, sweep_value))\n",
    "\n",
    "    ax.set_ylabel('Power ({})'.format(psd.units))\n",
    "    ax.set_xlabel('frequency ({})'.format(freqs.units))\n",
    "    ax.set_xlim((0, 50))\n",
    "    ax.grid(True)\n",
    "    # ax.set_yscale('log')\n",
    "    ax.set_title('Welch PSD for {}'.format(sig_label))\n",
    "    ax.legend(loc='upper right')"
   ]
  },
  {
   "cell_type": "markdown",
   "metadata": {},
   "source": [
    "## PSD Shared Axis"
   ]
  },
  {
   "cell_type": "code",
   "execution_count": null,
   "metadata": {},
   "outputs": [],
   "source": [
    "compare_psd('STN_Vm')\n",
    "compare_psd('GPE_Vm')"
   ]
  },
  {
   "cell_type": "markdown",
   "metadata": {},
   "source": [
    "## PSD Heatmap"
   ]
  },
  {
   "cell_type": "code",
   "execution_count": null,
   "metadata": {},
   "outputs": [],
   "source": [
    "sig_label = \"STN_Vm\"\n",
    "\n",
    "# Concatenate PSDs of different sweep values into matrix\n",
    "freqs, psd = analysis_results.values()[0]['PSD'][sig_label]\n",
    "freq_res = freqs[1] - freqs[0]\n",
    "fmax = 100.0\n",
    "nfreq = int(fmax/freq_res) + 1\n",
    "\n",
    "sweep_vals = np.array(sorted(analysis_results.keys()))\n",
    "d_sweep = min(np.diff(sweep_vals)) # resolution of sweep variable\n",
    "sweep_axis = np.arange(sweep_vals.min(), sweep_vals.max()+d_sweep, d_sweep)\n",
    "freq_axis = freqs[:nfreq]\n",
    "sweep_psds = np.empty((nfreq, sweep_axis.size), dtype=float)\n",
    "\n",
    "# Fill matrix\n",
    "valid_columns = []\n",
    "for sweep_value, results in analysis_results.iteritems():\n",
    "    # col_id = int((sweep_value - sweep_axis.min())/d_sweep)\n",
    "    col_id = np.where(sweep_axis == sweep_value)[0][0]\n",
    "    valid_columns.append(col_id)\n",
    "    freqs, psd = results['PSD'][sig_label]\n",
    "    sweep_psds[:, col_id] = psd.magnitude[:nfreq]\n",
    "\n",
    "# Fill invalid columns with NaN\n",
    "invalid_columns = [i for i in range(sweep_axis.size) if i not in valid_columns]\n",
    "sweep_psds[:, invalid_columns] = np.nan\n",
    "psd_sweep = np.ma.masked_array(sweep_psds, np.isnan(sweep_psds)) # mark invalid/missing data"
   ]
  },
  {
   "cell_type": "code",
   "execution_count": null,
   "metadata": {},
   "outputs": [],
   "source": [
    "# Draw heat map\n",
    "cmap = plt.get_cmap('viridis') # e.g. jet, plasma: https://matplotlib.org/examples/color/colormaps_reference.html\n",
    "cmap.set_bad(color='k') # color for masked values\n",
    "\n",
    "fig, ax = plt.subplots(figsize=(0.5*page_width, ax_height))\n",
    "sweep_plotaxis = np.concatenate((sweep_axis, [sweep_axis.max()+d_sweep])) # fix bug/feature in pcolormesh\n",
    "plt.pcolormesh(sweep_plotaxis, freq_axis, psd_sweep, cmap=cmap)\n",
    "\n",
    "# f_max = 50\n",
    "# plt.ylim((0, f_max))\n",
    "plt.colorbar()\n",
    "# plt.clim(0, 20)\n",
    "# cmap.set_bad('grey')\n",
    "ax.set_xticks(sweep_axis + d_sweep/2.0) # otherwise they appear left of column\n",
    "ax.set_xticklabels(sweep_axis)\n",
    "ax.set_xlim((sweep_axis.min(), sweep_axis.max()+d_sweep))\n",
    "ax.set_yticks(np.arange(0,50,1), minor=True)\n",
    "ax.set_yticks(np.arange(0,55,5), minor=False)\n",
    "ax.set_ylim((0, 50))\n",
    "# TODO: find out why one column doesn't show\n",
    "\n",
    "plt.ylabel('frequency (Hz)')\n",
    "plt.xlabel(sweep_var_name)\n",
    "plt.suptitle('Evolution of PSD for parameter sweep \"{}\"'.format(sweep_var_name))"
   ]
  },
  {
   "cell_type": "markdown",
   "metadata": {},
   "source": [
    "## Bursting Power"
   ]
  },
  {
   "cell_type": "code",
   "execution_count": null,
   "metadata": {},
   "outputs": [],
   "source": [
    "# Plot max power of bursting (look up PSD values at bursting frequency)"
   ]
  },
  {
   "cell_type": "markdown",
   "metadata": {},
   "source": [
    "# Spectrogram"
   ]
  },
  {
   "cell_type": "markdown",
   "metadata": {},
   "source": [
    "## Peak Power\n",
    "\n",
    "Note that this might give a different picture than comparing simulations with PSD alone: a simulation with periodic synchronization may have higher transient peaks, whereas the PSD (average over time) is lower."
   ]
  },
  {
   "cell_type": "markdown",
   "metadata": {},
   "source": [
    "# Synchronization"
   ]
  },
  {
   "cell_type": "code",
   "execution_count": null,
   "metadata": {},
   "outputs": [],
   "source": []
  }
 ],
 "metadata": {
  "kernelspec": {
   "display_name": "Python [default]",
   "language": "python",
   "name": "python2"
  },
  "language_info": {
   "codemirror_mode": {
    "name": "ipython",
    "version": 2
   },
   "file_extension": ".py",
   "mimetype": "text/x-python",
   "name": "python",
   "nbconvert_exporter": "python",
   "pygments_lexer": "ipython2",
   "version": "2.7.13"
  },
  "toc": {
   "nav_menu": {},
   "number_sections": false,
   "sideBar": true,
   "skip_h1_title": false,
   "toc_cell": false,
   "toc_position": {},
   "toc_section_display": "block",
   "toc_window_display": true
  }
 },
 "nbformat": 4,
 "nbformat_minor": 2
}
