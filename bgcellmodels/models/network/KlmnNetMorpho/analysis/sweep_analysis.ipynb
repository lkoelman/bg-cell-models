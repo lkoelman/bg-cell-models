{
 "cells": [
  {
   "cell_type": "markdown",
   "metadata": {},
   "source": [
    "# Introduction\n",
    "\n",
    "Analysis of a set of simulation outputs that are the result of a parameter sweep."
   ]
  },
  {
   "cell_type": "code",
   "execution_count": null,
   "metadata": {},
   "outputs": [],
   "source": [
    "%matplotlib inline\n",
    "import numpy as np\n",
    "import matplotlib.pyplot as plt\n",
    "import os.path\n",
    "import cPickle as pickle"
   ]
  },
  {
   "cell_type": "code",
   "execution_count": null,
   "metadata": {},
   "outputs": [],
   "source": [
    "# Width of the page for calibrating fig_size.\n",
    "# Approx. 16 for matplotlib backend %inline  8 for %notebook\n",
    "page_width = 14\n",
    "ax_height = 3\n",
    "\n",
    "# Style of figures (default colors etc.): see https://matplotlib.org/gallery/style_sheets/style_sheets_reference.html\n",
    "plt.style.use('default')"
   ]
  },
  {
   "cell_type": "markdown",
   "metadata": {},
   "source": [
    "# Load Data"
   ]
  },
  {
   "cell_type": "code",
   "execution_count": null,
   "metadata": {},
   "outputs": [],
   "source": [
    "# Paste output directories below (e.g use ctrl+c in Nautilus file manager)\n",
    "outputs_clipboard = \"\"\"\n",
    "/run/media/luye/Windows7_OS/Users/lkoelman/simdata-win/syn-v2_q3_const-freq_vary-burst-frac/2018.07.24_job-779546.sonic-head_DA-depleted-v3_CTX-burst-frac02\n",
    "/run/media/luye/Windows7_OS/Users/lkoelman/simdata-win/syn-v2_q3_const-freq_vary-burst-frac/2018.08.01_job-780493.sonic-head_DA-depleted-v3_CTX-burst-frac04_fix\n",
    "/run/media/luye/Windows7_OS/Users/lkoelman/simdata-win/syn-v2_q3_const-freq_vary-burst-frac/2018.08.01_job-780494.sonic-head_DA-depleted-v3_CTX-burst-frac06_fix\n",
    "/run/media/luye/Windows7_OS/Users/lkoelman/simdata-win/syn-v2_q3_const-freq_vary-burst-frac/2018.08.01_job-780495.sonic-head_DA-depleted-v3_CTX-burst-frac08_fix\n",
    "\"\"\"\n",
    "output_dirs = outputs_clipboard.strip().split('\\n')"
   ]
  },
  {
   "cell_type": "code",
   "execution_count": null,
   "metadata": {},
   "outputs": [],
   "source": [
    "# Analysis results for each simulation were saved as a dict in pickle format.\n",
    "# Load them and make them accessible using the value of the sweep variable as key.\n",
    "analysis_results= {}\n",
    "sweep_var_name = None\n",
    "for odir in output_dirs:\n",
    "    exported_results = os.path.join(odir, 'analysis_results.pkl')\n",
    "    with open(exported_results, 'rb') as f:\n",
    "        results_dict = pickle.load(f)\n",
    "        if sweep_var_name is None:\n",
    "            sweep_var_name = results_dict['sweep_var_name']\n",
    "        elif results_dict['sweep_var_name'] != sweep_var_name:\n",
    "            raise ValueError(\n",
    "                \"Simulation results in {} do not have the intended sweep variable!\"\n",
    "                \"\\nMaybe one of the output directories you copied does not match the series.\".format(odir))\n",
    "        # Extract sweep value from filename\n",
    "        # import re\n",
    "        # match = re.search(r'[0-9]+$', odir)\n",
    "        # sweep_value = float(match.group(0))\n",
    "        # Use saved sweep value\n",
    "        sweep_value = results_dict['sweep_var_value']\n",
    "        analysis_results[sweep_value] = results_dict"
   ]
  },
  {
   "cell_type": "code",
   "execution_count": null,
   "metadata": {},
   "outputs": [],
   "source": [
    "print(analysis_results.keys())\n",
    "print(analysis_results.values()[0].keys())"
   ]
  },
  {
   "cell_type": "markdown",
   "metadata": {},
   "source": [
    "# Firing Rates"
   ]
  },
  {
   "cell_type": "code",
   "execution_count": null,
   "metadata": {},
   "outputs": [],
   "source": [
    "# Plot mean firing rates\n",
    "sweep_vals = np.array(sorted(analysis_results.keys()))\n",
    "rates = [analysis_results[val]['mean_rate']['CTX'] for val in sweep_vals]\n",
    "print(\"Firing rate for each sweep value:\\n\\n\" + \n",
    "      \"\\n\".join([\"{} : {}\".format(a,b) for a,b in zip(sweep_vals, rates)]))\n",
    "\n",
    "fig, ax = plt.subplots(figsize=(0.5*page_width, ax_height))\n",
    "\n",
    "ax.plot(sweep_vals, rates, color='g', alpha=0.4)\n",
    "# ax.plot(sweep_vals, rates, color='r', marker='+')\n",
    "ax.bar(sweep_vals, rates, width=0.1, alpha=0.4, color='g')\n",
    "\n",
    "ax.set_xlabel(sweep_var_name)\n",
    "ax.set_ylabel('Mean firing rate (Hz)')\n",
    "ax.set_title('Mean CTX firing rate for parameter sweep \"{}\"'.format(sweep_var_name))\n",
    "\n",
    "ax.set_xticks(sweep_vals)\n",
    "# ax.set_xticklabels(sweep_vals)\n",
    "\n",
    "ax.set_yticks(np.arange(0, int(max(rates)+2), 5), minor=False)\n",
    "ax.set_yticks(np.arange(0, int(max(rates)+2), 1.0), minor=True)\n",
    "ax.grid(True, axis='y', which='major')"
   ]
  },
  {
   "cell_type": "markdown",
   "metadata": {},
   "source": [
    "# PSD"
   ]
  },
  {
   "cell_type": "markdown",
   "metadata": {},
   "source": [
    "## PSD Shared Axis"
   ]
  },
  {
   "cell_type": "code",
   "execution_count": null,
   "metadata": {},
   "outputs": [],
   "source": [
    "# Plot the PSD\n",
    "sig_label = 'STN_Vm'\n",
    "cmap = plt.get_cmap('cool')\n",
    "line_colors = [cmap(x) for x in np.linspace(0, 1, len(analysis_results))] # https://stackoverflow.com/questions/8931268/using-colormaps-to-set-color-of-line-in-matplotlib\n",
    "\n",
    "def compare_psd(sig_label):\n",
    "    \"\"\" Plot PSD for given signal for each simulation / sweep variable. \"\"\"\n",
    "    fig, ax = plt.subplots(figsize=(0.75*page_width, ax_height))\n",
    "    sweep_vals = np.array(sorted(analysis_results.keys()))\n",
    "    for i, sweep_value in enumerate(sweep_vals):\n",
    "        results = analysis_results[sweep_value]\n",
    "        freqs, psd = results['PSD'][sig_label]\n",
    "        ax.plot(freqs, psd, color=line_colors[i], label='{} = {}'.format(sweep_var_name, sweep_value))\n",
    "\n",
    "    ax.set_ylabel('Power ({})'.format(psd.units))\n",
    "    ax.set_xlabel('frequency ({})'.format(freqs.units))\n",
    "    ax.set_xticks(np.arange(0,55,5), minor=False)\n",
    "    ax.set_xticks(np.arange(0,51,1), minor=True)\n",
    "    ax.set_xlim((0, 50))\n",
    "    ax.grid(True)\n",
    "    # ax.set_yscale('log')\n",
    "    ax.set_title('Welch PSD for {}'.format(sig_label))\n",
    "    ax.legend(loc='upper right')"
   ]
  },
  {
   "cell_type": "code",
   "execution_count": null,
   "metadata": {},
   "outputs": [],
   "source": [
    "compare_psd('STN_Vm')\n",
    "compare_psd('GPE_Vm')"
   ]
  },
  {
   "cell_type": "markdown",
   "metadata": {},
   "source": [
    "## PSD Heatmap"
   ]
  },
  {
   "cell_type": "code",
   "execution_count": null,
   "metadata": {},
   "outputs": [],
   "source": [
    "def compare_psd_heatmap(sig_label):\n",
    "    \"\"\" Compare PSD across parameter sweep using heatmap visualization. \"\"\"\n",
    "    \n",
    "    # Concatenate PSDs of different sweep values into matrix\n",
    "    test_freqs, test_psd = analysis_results.values()[0]['PSD'][sig_label]\n",
    "    freq_res = test_freqs[1] - test_freqs[0]\n",
    "    fmax = 100.0\n",
    "    nfreq = int(fmax/freq_res) + 1\n",
    "\n",
    "    sweep_vals = np.array(sorted(analysis_results.keys()))\n",
    "    d_sweep = min(np.diff(sweep_vals)) # resolution of sweep variable\n",
    "    sweep_axis_spaced = np.arange(sweep_vals.min(), sweep_vals.max()+d_sweep, d_sweep)\n",
    "    sweep_axis_full = list(sweep_axis_spaced)\n",
    "    for v in sweep_vals: # steps may miss actual values\n",
    "        if not np.any(np.isclose(v, sweep_axis_full)):\n",
    "            sweep_axis_full.append(v)\n",
    "    sweep_axis = np.array(sorted(sweep_axis_full))\n",
    "    freq_axis = test_freqs[:nfreq]\n",
    "    sweep_psds = np.empty((nfreq, sweep_axis.size), dtype=float)\n",
    "\n",
    "    # Fill matrix\n",
    "    valid_columns = []\n",
    "    for sweep_value, results in analysis_results.iteritems():\n",
    "        # col_id = int((sweep_value - sweep_axis.min())/d_sweep)\n",
    "        col_id = np.where(np.isclose(sweep_value, sweep_axis))[0][0]\n",
    "        valid_columns.append(col_id)\n",
    "        freqs, psd = results['PSD'][sig_label]\n",
    "        sweep_psds[:, col_id] = psd.magnitude[:nfreq]\n",
    "\n",
    "    # Fill invalid columns with NaN\n",
    "    invalid_columns = [i for i in range(sweep_axis.size) if i not in valid_columns]\n",
    "    sweep_psds[:, invalid_columns] = np.nan\n",
    "    psd_sweep = np.ma.masked_array(sweep_psds, np.isnan(sweep_psds)) # mark invalid/missing data\n",
    "\n",
    "    # Draw heat map\n",
    "    cmap = plt.get_cmap('viridis') # e.g. jet, plasma: https://matplotlib.org/examples/color/colormaps_reference.html\n",
    "    cmap.set_bad(color='k') # color for masked values\n",
    "\n",
    "    fig, ax = plt.subplots(figsize=(0.5*page_width, ax_height))\n",
    "    sweep_plotaxis = np.concatenate((sweep_axis, [sweep_axis.max()+d_sweep])) # fix bug/feature in pcolormesh\n",
    "    plt.pcolormesh(sweep_plotaxis, freq_axis, psd_sweep, cmap=cmap)\n",
    "\n",
    "    # f_max = 50\n",
    "    # plt.ylim((0, f_max))\n",
    "    plt.colorbar()\n",
    "    # plt.clim(0, 20)\n",
    "    # cmap.set_bad('grey')\n",
    "    ax.set_xticks(sweep_axis + d_sweep/2.0) # otherwise they appear left of column\n",
    "    ax.set_xticklabels(['{:.1f}'.format(v) for v in sweep_axis])\n",
    "    ax.set_xlim((sweep_axis.min(), sweep_plotaxis.max()))\n",
    "    ax.set_yticks(np.arange(0,50,1), minor=True)\n",
    "    ax.set_yticks(np.arange(0,55,5), minor=False)\n",
    "    ax.set_ylim((0, 50))\n",
    "    # TODO: find out why one column doesn't show\n",
    "\n",
    "    plt.ylabel('frequency (Hz)')\n",
    "    plt.xlabel(sweep_var_name)\n",
    "    plt.suptitle('Evolution of PSD ({})'.format(sig_label))"
   ]
  },
  {
   "cell_type": "code",
   "execution_count": null,
   "metadata": {},
   "outputs": [],
   "source": [
    "compare_psd_heatmap('STN_Vm')\n",
    "compare_psd_heatmap('GPE_Vm')"
   ]
  },
  {
   "cell_type": "markdown",
   "metadata": {},
   "source": [
    "## Entrainment Power\n",
    "\n",
    "PSD peak magnitude at frequency of applied cortical bursting inputs."
   ]
  },
  {
   "cell_type": "code",
   "execution_count": null,
   "metadata": {},
   "outputs": [],
   "source": [
    "def compare_entrainment(sig_label, input_freqs):\n",
    "    \"\"\" Plot PSD magnitude at frequency of applied cuortical bursting \"\"\"\n",
    "    fig, ax = plt.subplots(figsize=(0.75*page_width, ax_height))\n",
    "    sweep_vals = np.array(sorted(analysis_results.keys()))\n",
    "    sweep_power = []\n",
    "    for i, sweep_value in enumerate(sweep_vals):\n",
    "        results = analysis_results[sweep_value]\n",
    "        freqs, psd = results['PSD'][sig_label]\n",
    "        freq_axis = freqs.magnitude\n",
    "        f_input = input_freqs[i]\n",
    "        i_entrain, = np.where(freq_axis == f_input)\n",
    "        p_entrain = psd[i_entrain[0]]\n",
    "        sweep_power.append(p_entrain)\n",
    "    \n",
    "    ax.plot(sweep_vals, sweep_power, '-')\n",
    "    ax.plot(sweep_vals, sweep_power, 'r+')\n",
    "    vmin, vmax = sweep_vals.min(), sweep_vals.max()\n",
    "    ax.set_xticks(np.arange(vmin,vmax,.2), minor=False)\n",
    "    # ax.set_xticks(np.arange(vmax,vmax,1), minor=True)\n",
    "    # ax.set_xlim((0, 50))\n",
    "    ax.set_ylabel('Power ({})'.format(psd.units))\n",
    "    ax.set_xlabel(sweep_var_name)\n",
    "    ax.grid(True)\n",
    "    ax.set_title('PSD @ f_input ({})'.format(sig_label))"
   ]
  },
  {
   "cell_type": "code",
   "execution_count": null,
   "metadata": {},
   "outputs": [],
   "source": [
    "f_inputs = [5.0 for i in range(len(analysis_results))]\n",
    "compare_entrainment('STN_Vm', input_freqs=f_inputs)\n",
    "compare_entrainment('GPE_Vm', input_freqs=f_inputs)"
   ]
  },
  {
   "cell_type": "markdown",
   "metadata": {},
   "source": [
    "## Peak Power\n",
    "\n",
    "Magnitude of the largest PSD peak, assumed to be the frequency of bursting in the STN - GPe loop."
   ]
  },
  {
   "cell_type": "code",
   "execution_count": null,
   "metadata": {},
   "outputs": [],
   "source": [
    "def compare_max_psd(sig_label):\n",
    "    \"\"\" Plot magnitude of largest PSD peak \"\"\"\n",
    "    fig, ax = plt.subplots(figsize=(0.75*page_width, ax_height))\n",
    "    sweep_vals = np.array(sorted(analysis_results.keys()))\n",
    "    sweep_power = []\n",
    "    for i, sweep_value in enumerate(sweep_vals):\n",
    "        results = analysis_results[sweep_value]\n",
    "        freqs, psd = results['PSD'][sig_label]\n",
    "        sweep_power.append(psd.max())\n",
    "    \n",
    "    ax.plot(sweep_vals, sweep_power, '-')\n",
    "    ax.plot(sweep_vals, sweep_power, 'r+')\n",
    "    vmin, vmax = sweep_vals.min(), sweep_vals.max()\n",
    "    ax.set_xticks(np.arange(vmin,vmax,.2), minor=False)\n",
    "    # ax.set_xticks(np.arange(vmax,vmax,1), minor=True)\n",
    "    # ax.set_xlim((0, 50))\n",
    "    ax.set_ylabel('Power ({})'.format(psd.units))\n",
    "    ax.set_xlabel(sweep_var_name)\n",
    "    ax.grid(True)\n",
    "    ax.set_title('PSD max peak ({})'.format(sig_label))"
   ]
  },
  {
   "cell_type": "code",
   "execution_count": null,
   "metadata": {},
   "outputs": [],
   "source": [
    "compare_max_psd('STN_Vm')\n",
    "compare_max_psd('GPE_Vm')"
   ]
  },
  {
   "cell_type": "markdown",
   "metadata": {},
   "source": [
    "## Subband Power\n",
    "\n",
    "Summed PSD power in different frequency bands."
   ]
  },
  {
   "cell_type": "code",
   "execution_count": null,
   "metadata": {},
   "outputs": [],
   "source": [
    "def compare_subband_power(sig_label):\n",
    "    \"\"\" Plot summed power in different subbands \"\"\"\n",
    "    fig, ax = plt.subplots(figsize=(0.75*page_width, ax_height))\n",
    "    sweep_vals = np.array(sorted(analysis_results.keys()))\n",
    "    sweep_Psum = {} # map band (x,y) -> Psum\n",
    "    # collect data\n",
    "    for i, sweep_value in enumerate(sweep_vals):\n",
    "        results = analysis_results[sweep_value]\n",
    "        bands, Psum = results['PSD_subband_power'][sig_label]\n",
    "        for j, band in enumerate(bands):\n",
    "            sweep_Psum.setdefault(band, []).append(Psum[j])\n",
    "    # plot collected data\n",
    "    import matplotlib\n",
    "    bands = sweep_Psum.keys()\n",
    "    lower, upper = zip(*bands)\n",
    "    cNorm  = matplotlib.colors.Normalize(vmin=min(lower), vmax=max(lower))\n",
    "    cmapping = matplotlib.cm.ScalarMappable(norm=cNorm, cmap=plt.get_cmap('cool'))\n",
    "    bands_sorted = sorted(bands, key=lambda b: b[0])\n",
    "    for band in bands_sorted:\n",
    "        Psums = sweep_Psum[band]\n",
    "        ax.plot(sweep_vals, Psums, '-', color=cmapping.to_rgba(band[0]), label='{} Hz'.format(band))\n",
    "    vmin, vmax = sweep_vals.min(), sweep_vals.max()\n",
    "    d1, d2 = .2, .1 # tick increments\n",
    "    ax.set_xticks(np.arange(vmin,d1*(vmax//d1+1),d1), minor=False)\n",
    "    # ax.set_xticks(np.arange(vmin,1*(vmax//1+1),1), minor=True)\n",
    "    ax.set_xlim((vmin, vmax))\n",
    "    ax.set_ylabel('Power (mV^2/Hz)')\n",
    "    ax.set_xlabel(sweep_var_name)\n",
    "    ax.grid(True)\n",
    "    ax.legend()\n",
    "    ax.set_title('sum(PSD) in sub-bands ({})'.format(sig_label))"
   ]
  },
  {
   "cell_type": "code",
   "execution_count": null,
   "metadata": {},
   "outputs": [],
   "source": [
    "compare_subband_power('STN_Vm')\n",
    "compare_subband_power('GPE_Vm')"
   ]
  },
  {
   "cell_type": "markdown",
   "metadata": {},
   "source": [
    "# Spectrogram"
   ]
  },
  {
   "cell_type": "markdown",
   "metadata": {},
   "source": [
    "## Peak Power - Instantaneous\n",
    "\n",
    "Note that this might give a different picture than comparing simulations with PSD alone: a simulation with periodic synchronization may have higher transient peaks, whereas the PSD (average over time) is lower."
   ]
  },
  {
   "cell_type": "code",
   "execution_count": null,
   "metadata": {},
   "outputs": [],
   "source": [
    "# (freqs[0:int(50/df)], t, Sxx[:,0:int(50/df)])\n",
    "# Syy = Sxx[:, int(5000.0/t_res):]\n",
    "\n",
    "# set temporal resolution of PSD from value in synchrony_analysis_auto.ipynb\n",
    "# t_res = 20.0 # ms\n",
    "\n",
    "def compare_max_spectrogram(sig_label, band=(4.0, 30.0), t_start=5000.0):\n",
    "    \"\"\" Plot magnitude of largest spectrogram peak \"\"\"\n",
    "    fig, ax = plt.subplots(figsize=(0.75*page_width, ax_height))\n",
    "    sweep_vals = np.array(sorted(analysis_results.keys()))\n",
    "    sweep_power = []\n",
    "    for i, sweep_value in enumerate(sweep_vals):\n",
    "        results = analysis_results[sweep_value]\n",
    "        freqs, t, Sxx = results['spectrogram'][sig_label]\n",
    "        # only look at power in sub-band\n",
    "        df = freqs[1] - freqs[0]\n",
    "        f_slice = np.s_[int(band[0]/df):(int(band[1]/df)+1)]\n",
    "        # first 5000 ms already cut when saving\n",
    "        # dt = t[1] - t[0]\n",
    "        # t_slice = np.s_[int(t_start/dt):]\n",
    "        t_slice = np.s_[:]\n",
    "        S_max = Sxx[f_slice, t_slice].max()\n",
    "        sweep_power.append(S_max)\n",
    "    \n",
    "    ax.plot(sweep_vals, sweep_power, '-')\n",
    "    ax.plot(sweep_vals, sweep_power, 'r+')\n",
    "    ax.set_xticks(np.arange(0,5*(sweep_vals.max()//5+1),5), minor=False)\n",
    "    ax.set_xticks(np.arange(0,1*(sweep_vals.max()//1+1),1), minor=True)\n",
    "    # ax.set_xlim((0, 50))\n",
    "    ax.set_ylabel('Power (mV^2/Hz)')\n",
    "    ax.set_xlabel(sweep_var_name)\n",
    "    ax.grid(True)\n",
    "    ax.set_title('Spectrogram max peak ({})'.format(sig_label))"
   ]
  },
  {
   "cell_type": "code",
   "execution_count": null,
   "metadata": {},
   "outputs": [],
   "source": [
    "compare_max_spectrogram('STN_Vm')\n",
    "compare_max_spectrogram('GPE_Vm')"
   ]
  },
  {
   "cell_type": "markdown",
   "metadata": {},
   "source": [
    "# Synchronization"
   ]
  },
  {
   "cell_type": "markdown",
   "metadata": {},
   "source": [
    "## Mean & Variability"
   ]
  },
  {
   "cell_type": "code",
   "execution_count": null,
   "metadata": {},
   "outputs": [],
   "source": [
    "def compare_synchronization(sig_label):\n",
    "    \"\"\" Compare distribution of Morgera-index values (mean, median, std) \"\"\"\n",
    "    sweep_vals = np.array(sorted(analysis_results.keys()))\n",
    "    mean_M, std_M = [], []\n",
    "    M_datasets = []\n",
    "    for i, sweep_value in enumerate(sweep_vals):\n",
    "        results = analysis_results[sweep_value]\n",
    "        t, M = results['Morgera_index'][sig_label]\n",
    "        mean_M.append(np.mean(M))\n",
    "        std_M.append(np.std(M))\n",
    "        M_datasets.append(M)\n",
    "\n",
    "    mean_M = np.array(mean_M)\n",
    "    std_M = np.array(std_M)\n",
    "    \n",
    "    # Plot continuous line with confidence intervals\n",
    "    fig, ax = plt.subplots(figsize=(0.75*page_width, ax_height))\n",
    "    plt.plot(sweep_vals, mean_M)\n",
    "    plt.plot(sweep_vals, mean_M, 'r+')\n",
    "    plt.plot(sweep_vals, mean_M+std_M, 'g_')\n",
    "    plt.plot(sweep_vals, mean_M-std_M, 'g_')\n",
    "    plt.fill_between(sweep_vals, mean_M+std_M, mean_M-std_M, color='k', alpha=.5)\n",
    "\n",
    "    vmin, vmax = sweep_vals.min(), sweep_vals.max()\n",
    "    ax.set_xticks(sweep_vals, minor=False)\n",
    "    ax.set_xticks(np.arange(vmin,1*(vmax//1+1),1), minor=True)\n",
    "    ax.set_xlim((vmin, vmax))\n",
    "    ax.set_yticks(np.arange(0,1.1,0.1), minor=False)\n",
    "    ax.set_ylim((0, 1))\n",
    "    ax.set_ylabel('M (0-1)')\n",
    "    ax.set_xlabel(sweep_var_name)\n",
    "    ax.grid(True, which='major', axis='y')\n",
    "    ax.set_title('Morgera index ({})'.format(sig_label))\n",
    "    \n",
    "    # Plot boxplots\n",
    "    fig, ax = plt.subplots(figsize=(0.75*page_width, ax_height))\n",
    "    bp = ax.boxplot(M_datasets, 0, 'g+')\n",
    "    ax.set_xticklabels(sweep_vals)\n",
    "    ax.set_yticks(np.arange(0,1.1,0.1), minor=False)\n",
    "    ax.set_ylim((0, 1))\n",
    "    ax.set_ylabel('M (0-1)')\n",
    "    ax.set_xlabel(sweep_var_name)\n",
    "    ax.grid(True, which='major', axis='y')"
   ]
  },
  {
   "cell_type": "code",
   "execution_count": null,
   "metadata": {},
   "outputs": [],
   "source": [
    "compare_synchronization('STN_Vm')"
   ]
  },
  {
   "cell_type": "code",
   "execution_count": null,
   "metadata": {},
   "outputs": [],
   "source": [
    "compare_synchronization('GPE_Vm')"
   ]
  },
  {
   "cell_type": "markdown",
   "metadata": {},
   "source": [
    "## Periodicity\n",
    "\n",
    "Can use morgera index, or summed spectrogram sub-band power over time."
   ]
  },
  {
   "cell_type": "code",
   "execution_count": null,
   "metadata": {},
   "outputs": [],
   "source": []
  }
 ],
 "metadata": {
  "kernelspec": {
   "display_name": "Python [default]",
   "language": "python",
   "name": "python2"
  },
  "language_info": {
   "codemirror_mode": {
    "name": "ipython",
    "version": 2
   },
   "file_extension": ".py",
   "mimetype": "text/x-python",
   "name": "python",
   "nbconvert_exporter": "python",
   "pygments_lexer": "ipython2",
   "version": "2.7.13"
  },
  "toc": {
   "nav_menu": {},
   "number_sections": false,
   "sideBar": true,
   "skip_h1_title": false,
   "toc_cell": false,
   "toc_position": {},
   "toc_section_display": "block",
   "toc_window_display": true
  }
 },
 "nbformat": 4,
 "nbformat_minor": 2
}
