{
 "cells": [
  {
   "cell_type": "markdown",
   "metadata": {},
   "source": [
    "# Setup"
   ]
  },
  {
   "cell_type": "code",
   "execution_count": null,
   "metadata": {},
   "outputs": [],
   "source": [
    "%matplotlib inline\n",
    "import numpy as np\n",
    "import scipy.signal\n",
    "import matplotlib.pyplot as plt\n",
    "\n",
    "import os\n",
    "import neo.io\n",
    "import elephant\n",
    "\n",
    "# analysis.py module in same folder\n",
    "from bgcellmodels.common import units\n",
    "units.set_units_module('quantities')\n",
    "import quantities as pq"
   ]
  },
  {
   "cell_type": "markdown",
   "metadata": {},
   "source": [
    "## Plotting Options"
   ]
  },
  {
   "cell_type": "code",
   "execution_count": null,
   "metadata": {},
   "outputs": [],
   "source": [
    "# Width of the page for calibrating fig_size.\n",
    "# Approx. 16 for matplotlib backend %inline  8 for %notebook\n",
    "page_width = 14\n",
    "ax_height = 3\n",
    "\n",
    "# Style of figures (default colors etc.): see https://matplotlib.org/gallery/style_sheets/style_sheets_reference.html\n",
    "plt.style.use('default')"
   ]
  },
  {
   "cell_type": "markdown",
   "metadata": {},
   "source": [
    "## Load Data"
   ]
  },
  {
   "cell_type": "code",
   "execution_count": null,
   "metadata": {},
   "outputs": [],
   "source": [
    "# All populations:\n",
    "outputs = \"/run/media/luye/Windows7_OS/Users/lkoelman/simdata-win/2018.06.27_job-777694.sonic-head_DA-depleted_CTX-poisson-f150_STN-lateral-f02_GPE-lateral-p05\"\n",
    "\n",
    "# Single population:\n",
    "# outputs = [\n",
    "# \"/home/luye/storage/2018.06.21_job-testmpi6_DA-control_CTX-beta/CTX_2018.06.21_pop-100_dur-50.0_job-testmpi6.mat\",\n",
    "# ]\n",
    "\n",
    "if isinstance(outputs, str):\n",
    "    filenames = os.listdir(outputs)\n",
    "    pop_files = [os.path.join(outputs, f) for f in filenames if f.endswith('.mat')]\n",
    "else:\n",
    "    pop_files = outputs\n",
    "\n",
    "pops_segments = {}\n",
    "read_segment_id = 0\n",
    "\n",
    "# Read binary files using Neo IO module\n",
    "for pop_file in pop_files:\n",
    "    reader = neo.io.get_io(pop_file)\n",
    "    blocks = reader.read()\n",
    "    assert len(blocks) == 1, \"More than one Neo Block in file.\"\n",
    "    pop_label = blocks[0].name\n",
    "\n",
    "    if len(blocks[0].segments)-1 < read_segment_id:\n",
    "        raise ValueError(\"Segment index greater than number of Neo segments\"\n",
    "                         \" in file {}\".format(pop_file))\n",
    "    if pop_label in pops_segments:\n",
    "        raise ValueError(\"Duplicate population labels in files\")\n",
    "        \n",
    "    pops_segments[pop_label] = blocks[0].segments[read_segment_id]\n",
    "\n",
    "# Save all PSDs for comparison in figures\n",
    "all_psd = {}\n",
    "all_signals = {}"
   ]
  },
  {
   "cell_type": "code",
   "execution_count": null,
   "metadata": {},
   "outputs": [],
   "source": [
    "# The recordings are saved in Neo format. See:\n",
    "# http://neo.readthedocs.io/en/latest/\n",
    "# http://neo.readthedocs.io/en/latest/api_reference.html#neo.core.AnalogSignal\n",
    "# - Each segment has attributes 'analogsignals' and 'spiketrains'\n",
    "# - Each quantity (e.g. AnalogSignal.signal) has attributes magnitude, units, dimensionality\n",
    "\n",
    "# List all recorded signals\n",
    "for pop_label, segment in pops_segments.items():\n",
    "    print(\"\\n{} has following signals:\".format(pop_label))\n",
    "    for signal in segment.analogsignals:\n",
    "        print(\"\\t- '{:10}\\t[{}] - description: {}\".format(signal.name, signal.units, signal.description))\n",
    "    print(\"\\t- {} spiketrains\".format(len(segment.spiketrains)))"
   ]
  },
  {
   "cell_type": "markdown",
   "metadata": {},
   "source": [
    "# Spike Trains\n",
    "\n",
    "<span style='color:red;font-weight:bold'>WARNING</SPAN>: In rastergram plots, note the number of spike trains plotted (see y-axis). If it is too high you get overlapping marker bars (marker height is larger than row height allocated to one spiketrain). This leads to misleading plots as spiketrains are overlapping which looks like an artificially elevated firing rate."
   ]
  },
  {
   "cell_type": "code",
   "execution_count": null,
   "metadata": {},
   "outputs": [],
   "source": [
    "num_pops = len(pops_segments)\n",
    "pops_per_fig = 2\n",
    "\n",
    "# Plot spikes\n",
    "fig_spikes, axes_spikes = None, None # plt.subplots(num_pops, 1, figsize=(10,14))\n",
    "\n",
    "i_pop = 0\n",
    "pop_spike_colors = 'rgcbm'\n",
    "for pop_label, segment in pops_segments.items():\n",
    "    # Don't plot all rastergrams in same figure\n",
    "    if i_pop % pops_per_fig == 0:\n",
    "        fig_spikes, axes_spikes = plt.subplots(pops_per_fig, 1, figsize=(page_width,2*ax_height), sharex=True)\n",
    "        fig_spikes.suptitle('Spikes for each population')\n",
    "    ax = axes_spikes[i_pop % pops_per_fig]\n",
    "    \n",
    "    # Which cells to plot (all cells causes overlapping markers and misleading plot)\n",
    "    # cell_ids = range(len(segment.spiketrains))\n",
    "    cell_ids = range(20)\n",
    "    \n",
    "    for i_train in cell_ids:\n",
    "        spiketrain = segment.spiketrains[i_train]\n",
    "        y = spiketrain.annotations.get('source_id', i_train)\n",
    "        y_vec = np.ones_like(spiketrain) * y\n",
    "        ax.plot(spiketrain, y_vec, marker='|', linestyle='', snap=True, color=pop_spike_colors[i_pop % 5])\n",
    "        ax.set_ylabel('{} cell #'.format(pop_label))\n",
    "\n",
    "    i_pop += 1\n",
    "\n",
    "plt.show(block=False)"
   ]
  },
  {
   "cell_type": "markdown",
   "metadata": {},
   "source": [
    "# Raw Signals"
   ]
  },
  {
   "cell_type": "markdown",
   "metadata": {},
   "source": [
    "## STN Vm"
   ]
  },
  {
   "cell_type": "code",
   "execution_count": null,
   "metadata": {},
   "outputs": [],
   "source": [
    "pop_label = 'STN'\n",
    "segment = pops_segments[pop_label]\n",
    "signal = next((sig for sig in segment.analogsignals if sig.name == 'Vm'))\n",
    "stn_vm_signal = signal"
   ]
  },
  {
   "cell_type": "code",
   "execution_count": null,
   "metadata": {},
   "outputs": [],
   "source": [
    "def plot_vm_signals(signal, cell_indices, interval):\n",
    "    \n",
    "    rec_dt = signal.sampling_period.magnitude\n",
    "    irange = [0, signal.shape[0]-1] if interval is None else [int(t/rec_dt) for t in interval]\n",
    "    times = signal.times[irange[0]:irange[1]]\n",
    "\n",
    "    # Plot a bunch of STN Vm signals\n",
    "    \n",
    "    fig, axes = plt.subplots(len(cell_indices), 1, \n",
    "                             figsize=(0.75*page_width,2*ax_height),\n",
    "                             sharex=True, sharey=True)\n",
    "    fig.suptitle(\"{} membrane voltage\".format(pop_label))\n",
    "\n",
    "    for i_ax, i_cell in enumerate(cell_indices):\n",
    "        ax = axes[i_ax]\n",
    "        if 'source_ids' in signal.annotations:\n",
    "            label = \"id {}\".format(signal.annotations['source_ids'][i_cell])\n",
    "        else:\n",
    "            label = \"cell {}\".format(i_cell)\n",
    "\n",
    "        sig = signal[irange[0]:irange[1], i_cell]\n",
    "\n",
    "        ax.plot(times, sig, label=label)\n",
    "        ax.grid(True)\n",
    "        ax.set_ylim((-80, 25))\n",
    "        # ax.legend()\n",
    "\n",
    "        if i_ax == len(cell_indices)-1:\n",
    "            #ax.set_ylabel(\"voltage ({})\".format(signal.units))\n",
    "            ax.set_xlabel('time ({})'.format(times.units))\n",
    "\n",
    "    fig.text(0.06, 0.5, \"voltage ({})\".format(signal.units), va='center', rotation='vertical')"
   ]
  },
  {
   "cell_type": "code",
   "execution_count": null,
   "metadata": {},
   "outputs": [],
   "source": [
    "# Choose plot interval and cell indices\n",
    "max_num_plot = 10\n",
    "num_signals = min(signal.shape[1], max_num_plot)\n",
    "interval = [12.75e3, 14e3] # [2000.0, 6000.0]\n",
    "cell_indices = range(5) # range(num_signals)\n",
    "plot_vm_signals(stn_vm_signal, cell_indices, interval)"
   ]
  },
  {
   "cell_type": "markdown",
   "metadata": {},
   "source": [
    "## STN LFP"
   ]
  },
  {
   "cell_type": "code",
   "execution_count": null,
   "metadata": {},
   "outputs": [],
   "source": [
    "# Load each individual cell's LFP contribution\n",
    "pop_label = 'STN'\n",
    "segment = pops_segments[pop_label]\n",
    "lfp_sigs = next((sig for sig in segment.analogsignals if sig.name == 'lfp'))\n",
    "lfp_summed = lfp_sigs.sum(axis=1)\n",
    "\n",
    "# Turn it into AnalogSignal object\n",
    "lfp_signal = stn_lfp_signal = neo.AnalogSignal(lfp_summed, units=lfp_sigs.units, \n",
    "                                               sampling_rate=stn_vm_signal.sampling_rate,\n",
    "                                               t_start=stn_vm_signal.times[0])"
   ]
  },
  {
   "cell_type": "code",
   "execution_count": null,
   "metadata": {},
   "outputs": [],
   "source": [
    "interval = [12.75e3, 14e3] # None\n",
    "rec_dt = lfp_sigs.sampling_period.magnitude\n",
    "irange = [0, lfp_sigs.shape[0]] if interval is None else [int(t/rec_dt) for t in interval]\n",
    "lfp_times = lfp_signal.times[irange[0]:irange[1]]\n",
    "\n",
    "fig, ax = plt.subplots(figsize=(page_width, ax_height))\n",
    "ax.plot(lfp_times, lfp_signal[irange[0]:irange[1]],\n",
    "        label='{} LFP'.format(pop_label))\n",
    "# ax.plot(lfp_sigs.times, lfp_sigs[:, 5], label='{} LFP'.format(pop_label))\n",
    "# ax.plot(lfp_sigs.times, lfp_sigs[:, 8], 'r.', ms=1, mew=1, label='{} LFP'.format(pop_label))\n",
    "\n",
    "# ax.set_ylim((-0.5, 4.0))\n",
    "ax.set_xlim((lfp_times[0].magnitude, lfp_times[-1].magnitude))\n",
    "ax.set_ylabel('LFP magnitude ({})'.format(lfp_sigs.units))\n",
    "ax.set_xlabel('time ({})'.format(lfp_sigs.times.units))\n",
    "ax.set_title('LFP for {} population'.format(pop_label))\n",
    "ax.grid(True)\n",
    "ax.legend()"
   ]
  },
  {
   "cell_type": "markdown",
   "metadata": {},
   "source": [
    "## GPe Vm"
   ]
  },
  {
   "cell_type": "code",
   "execution_count": null,
   "metadata": {},
   "outputs": [],
   "source": [
    "pop_label = 'GPE'\n",
    "segment = pops_segments[pop_label]\n",
    "gpe_vm_signal = signal = next((sig for sig in segment.analogsignals if sig.name == 'Vm'))"
   ]
  },
  {
   "cell_type": "code",
   "execution_count": null,
   "metadata": {},
   "outputs": [],
   "source": [
    "# Choose plot interval and cell indices\n",
    "max_num_plot = 10\n",
    "num_signals = min(signal.shape[1], max_num_plot)\n",
    "interval = [12.75e3, 14e3] # [2000.0, 6000.0]\n",
    "cell_indices = range(5) # range(num_signals)\n",
    "plot_vm_signals(gpe_vm_signal, cell_indices, interval)"
   ]
  },
  {
   "cell_type": "markdown",
   "metadata": {},
   "source": [
    "# Power Spectrum"
   ]
  },
  {
   "cell_type": "markdown",
   "metadata": {},
   "source": [
    "## STN LFP"
   ]
  },
  {
   "cell_type": "code",
   "execution_count": null,
   "metadata": {},
   "outputs": [],
   "source": [
    "# Computes PSD of all 100 LFP signals at the same time\n",
    "freqs, psd = elephant.spectral.welch_psd(lfp_signal, freq_res=0.5)\n",
    "psd = psd.ravel() # we only have one axis so make 1-dimensional\n",
    "all_psd['STN_LFP'] = (freqs, psd)"
   ]
  },
  {
   "cell_type": "code",
   "execution_count": null,
   "metadata": {},
   "outputs": [],
   "source": [
    "# Plot the PSD\n",
    "fig, ax = plt.subplots(figsize=(0.5*page_width, ax_height))\n",
    "ax.plot(freqs, psd, label='{} PSD'.format(pop_label))\n",
    "ax.set_ylabel('Power ({})'.format(psd.units))\n",
    "ax.set_xlabel('frequency ({})'.format(freqs.units))\n",
    "ax.set_xlim((0, 100))\n",
    "ax.grid(True)\n",
    "# ax.set_yscale('log')\n",
    "ax.set_title('Welch PSD for LFP of STN cells')\n",
    "ax.legend()"
   ]
  },
  {
   "cell_type": "markdown",
   "metadata": {},
   "source": [
    "### Beta Power Evolution"
   ]
  },
  {
   "cell_type": "code",
   "execution_count": null,
   "metadata": {},
   "outputs": [],
   "source": [
    "# Plot spectrogram using STFT\n",
    "dt = 0.05\n",
    "fs = 1/dt*1e3\n",
    "freq_res = 1.0\n",
    "nperseg = int(fs/freq_res) # determines frequency resolution\n",
    "t_res = 20.0 # ms\n",
    "noverlap = nperseg - int(t_res/dt)\n",
    "freqs, t, Sxx = scipy.signal.spectrogram(stn_lfp_signal.ravel(), 1/dt, window='hanning',\n",
    "                                         nperseg=nperseg, noverlap=noverlap, scaling='density')\n",
    "freqs = freqs * 1000\n",
    "fig, ax = plt.subplots(figsize=(0.75*page_width, ax_height))\n",
    "\n",
    "plt.pcolormesh(t, freqs, Sxx)\n",
    "# plt.imshow(Sxx, cmap='jet', aspect='auto', vmax=abs(Sxx).max(), vmin=Sxx.min())\n",
    "f_max = 50\n",
    "plt.ylim((0, f_max))\n",
    "plt.colorbar()\n",
    "# plt.clim(0, 20)\n",
    "plt.clim(0, abs(Sxx[:, int(1000.0/t_res):]).max())\n",
    "plt.ylabel('frequency (Hz)')\n",
    "plt.xlabel('time (ms)')\n",
    "plt.suptitle('Spectrogram - evolution of STN LFP over time ($nV^2/Hz$)')"
   ]
  },
  {
   "cell_type": "code",
   "execution_count": null,
   "metadata": {},
   "outputs": [],
   "source": [
    "dur = stn_vm_signal.t_stop.magnitude\n",
    "# print(\"Shape of spectrogram is \", Sxx.shape, \" and frequecies is \", freqs.shape)\n",
    "\n",
    "### Low Beta\n",
    "bin_indices, = np.where((freqs >= 13) & (freqs <= 21))\n",
    "beta_spectrogram = Sxx[bin_indices, :]\n",
    "betapower = np.sum(beta_spectrogram, axis=0) / len(bin_indices)\n",
    "\n",
    "# Find time to (1-exp(-1)) * max power\n",
    "p_saturation = (1.0-np.exp(-1.0)) * betapower.max()\n",
    "i_saturated, = np.where(betapower >= p_saturation)\n",
    "t_saturated = t[i_saturated[0]]\n",
    "\n",
    "### High Beta\n",
    "bins_beta_high, = np.where((freqs >= 22) & (freqs <= 30))\n",
    "beta_high_spectrogram = Sxx[bins_beta_high, :]\n",
    "beta_high_power = np.sum(beta_high_spectrogram, axis=0) / len(bins_beta_high)\n",
    "\n",
    "# Find time to (1-exp(-1)) * max power\n",
    "p_sat_high = (1.0-np.exp(-1.0)) * beta_high_power.max()\n",
    "i_sat_high, = np.where(beta_high_power >= p_sat_high)\n",
    "t_sat_high = t[i_sat_high[0]]\n",
    "\n",
    "fig, ax = plt.subplots(figsize=(0.75*page_width, 1.5*ax_height))\n",
    "# Low Beta\n",
    "ax.plot(t, betapower, label=r'$\\beta$ ({} - {} Hz)'.format(freqs[bin_indices[0]], freqs[bin_indices[-1]]))\n",
    "ax.hlines(p_saturation, 0, dur, 'orange', label='$(1-e^{-1}) * P_{max}$')\n",
    "ax.plot(t_saturated, p_saturation, '+', color='red', markersize=5)\n",
    "\n",
    "# High Beta\n",
    "ax.plot(t, beta_high_power, 'r-', label=r'$\\beta$ ({} - {} Hz)'.format(freqs[bins_beta_high[0]], freqs[bins_beta_high[-1]]))\n",
    "ax.hlines(p_sat_high, 0, dur, 'orange')\n",
    "ax.plot(t_sat_high, p_sat_high, '+', color='red', markersize=5)\n",
    "\n",
    "# ax.vlines(t_saturated, 0, p_saturation, 'orange')\n",
    "ax.set_ylabel('Power ($nV^2/Hz$)'.format(freqs[bin_indices[0]], freqs[bin_indices[-1]]))\n",
    "ax.set_xlabel('time (ms)')\n",
    "# ax.set_ylim((0, Sxx.max()))\n",
    "ax.set_xlim((0, dur))\n",
    "ax.grid(True)\n",
    "ax.legend()\n",
    "ax.set_title('Mean Power in range {} - {} Hz ($nV^2/Hz$)'.format(freqs[bin_indices[0]], freqs[bin_indices[-1]]))\n",
    "\n",
    "print(\"Time to Beta-mid saturation is {} ms\".format(t_saturated))\n",
    "print(\"Max of mean Beta-mid power is {}\".format(betapower.max()))\n",
    "\n",
    "print(\"Time to Beta-high saturation is {} ms\".format(t_sat_high))\n",
    "print(\"Max of mean Beta-high power is {}\".format(beta_high_power.max()))"
   ]
  },
  {
   "cell_type": "markdown",
   "metadata": {},
   "source": [
    "## STN Vm"
   ]
  },
  {
   "cell_type": "code",
   "execution_count": null,
   "metadata": {},
   "outputs": [],
   "source": [
    "pop_label = 'STN'\n",
    "segment = pops_segments[pop_label]\n",
    "vm_sig = next((sig for sig in segment.analogsignals if sig.name == 'Vm'))\n",
    "\n",
    "# Computes PSD of all 100 Vm signals at the same time\n",
    "freqs, psd = elephant.spectral.welch_psd(vm_sig, freq_res=0.5)\n",
    "psd_avg = psd.sum(axis=0) / psd.shape[0]\n",
    "\n",
    "all_psd[pop_label + '_Vm'] = (freqs, psd_avg)"
   ]
  },
  {
   "cell_type": "code",
   "execution_count": null,
   "metadata": {},
   "outputs": [],
   "source": [
    "fig, ax = plt.subplots(figsize=(page_width*0.5, ax_height))\n",
    "ax.plot(freqs, psd_avg, label='{} Vm'.format(pop_label))\n",
    "ax.plot(all_psd['STN_LFP'][0], all_psd['STN_LFP'][1] * 1e3, 'r', label='STN LFP x 10')\n",
    "ax.set_ylabel('Power ({})'.format(psd_avg.units))\n",
    "ax.set_xlabel('frequency ({})'.format(freqs.units))\n",
    "ax.set_xlim((0, 50))\n",
    "ax.grid(True)\n",
    "# ax.set_yscale('log')\n",
    "ax.set_title('Welch PSD for average STN membrane voltages')\n",
    "ax.legend()"
   ]
  },
  {
   "cell_type": "markdown",
   "metadata": {},
   "source": [
    "## CTX spikes"
   ]
  },
  {
   "cell_type": "markdown",
   "metadata": {},
   "source": [
    "### Convolve spike times with AP"
   ]
  },
  {
   "cell_type": "code",
   "execution_count": null,
   "metadata": {},
   "outputs": [],
   "source": [
    "# Load Pyramidal cell action potential from saved recording\n",
    "pyramidal_trace = np.loadtxt('pyramidal.dat')\n",
    "vm = pyramidal_trace[:,1]\n",
    "tvec = pyramidal_trace[:,0]\n",
    "dt = np.round(tvec[1] - tvec[0], 4)\n",
    "ap_t_interval = [4.9, 20.0]\n",
    "ap_i_interval = [int(t/dt) for t in ap_t_interval]\n",
    "subsample = 2\n",
    "ap_range = range(ap_i_interval[0], ap_i_interval[1]+1, subsample)\n",
    "ap_kernel = vm[ap_range]\n",
    "ap_baseline = -65.0\n",
    "ap_kernel -= ap_baseline # center on 0 for convolution\n",
    "\n",
    "plt.figure(figsize=(6,2))\n",
    "plt.plot(tvec[ap_range], ap_kernel)\n",
    "plt.suptitle('AP kernel for cortical neurons')\n",
    "plt.grid(True)"
   ]
  },
  {
   "cell_type": "code",
   "execution_count": null,
   "metadata": {},
   "outputs": [],
   "source": [
    "pop_label = 'CTX'\n",
    "segment = pops_segments[pop_label]\n",
    "spiketrains = segment.spiketrains"
   ]
  },
  {
   "cell_type": "code",
   "execution_count": null,
   "metadata": {},
   "outputs": [],
   "source": [
    "# Construct AnalogSignal of N channels from N spiketrains\n",
    "dur = np.round(spiketrains[0].t_stop.magnitude, 4)\n",
    "dt = 0.05\n",
    "signal_matrix = np.empty((int(dur/dt)+1, len(spiketrains)))\n",
    "\n",
    "for i, st in enumerate(spiketrains):\n",
    "    \n",
    "    time = np.arange(0, dur + dt, dt)\n",
    "    spiketimes = st.times\n",
    "    spike_pulses = np.zeros_like(time)\n",
    "    spike_pulses[[int(t/dt) for t in spiketimes]] = 1.0\n",
    "    \n",
    "    # Convole pulses at spike times with AP kernel\n",
    "    spike_signal = np.convolve(spike_pulses, ap_kernel, mode='same') + ap_baseline\n",
    "    signal_matrix[:, i] = spike_signal\n",
    "\n",
    "ctx_vm_signal = neo.AnalogSignal(signal_matrix, units='mV', sampling_rate=1/dt/pq.ms,\n",
    "                                t_start=spiketrains[0].t_start, t_stop=spiketrains[0].t_stop)\n",
    "ctx_vm_mean = ctx_vm_signal.sum(axis=1) / ctx_vm_signal.shape[1]"
   ]
  },
  {
   "cell_type": "markdown",
   "metadata": {},
   "source": [
    "### Average PSD"
   ]
  },
  {
   "cell_type": "code",
   "execution_count": null,
   "metadata": {},
   "outputs": [],
   "source": [
    "# Computes PSD of all 100 Vm signals at the same time\n",
    "freqs, psd = elephant.spectral.welch_psd(ctx_vm_signal, freq_res=0.5)\n",
    "psd_avg = psd.sum(axis=0) / psd.shape[0]\n",
    "all_psd[pop_label + '_Vm'] = (freqs, psd_avg)"
   ]
  },
  {
   "cell_type": "code",
   "execution_count": null,
   "metadata": {},
   "outputs": [],
   "source": [
    "fig, ax = plt.subplots(figsize=(page_width*0.5, ax_height))\n",
    "ax.plot(freqs, psd_avg, label='{} Vm'.format(pop_label))\n",
    "ax.set_ylabel('Power ({})'.format(psd_avg.units))\n",
    "ax.set_xlabel('frequency ({})'.format(freqs.units))\n",
    "ax.set_xlim((0, 50))\n",
    "ax.grid(True)\n",
    "# ax.set_yscale('log')\n",
    "ax.set_title('Mean Welch PSD for CTX membrane voltages')\n",
    "ax.legend()"
   ]
  },
  {
   "cell_type": "markdown",
   "metadata": {},
   "source": [
    "## GPe Vm"
   ]
  },
  {
   "cell_type": "code",
   "execution_count": null,
   "metadata": {},
   "outputs": [],
   "source": [
    "pop_label = 'GPE'\n",
    "segment = pops_segments[pop_label]\n",
    "vm_sig = gpe_vm_signal = next((sig for sig in segment.analogsignals if sig.name == 'Vm'))\n",
    "\n",
    "# Computes PSD of all 100 Vm signals at the same time\n",
    "freqs, psd = elephant.spectral.welch_psd(vm_sig, freq_res=0.5)\n",
    "psd_avg = psd.sum(axis=0) / psd.shape[0]\n",
    "\n",
    "# Find peak frequency\n",
    "i_peak = next((i for i,p in enumerate(psd_avg) if p == psd_avg.max()))\n",
    "f_peak = freqs[i_peak]\n",
    "print(\"PSD peak power occurs at f = {}\".format(f_peak))\n",
    "\n",
    "all_psd[pop_label] = (freqs, psd_avg)"
   ]
  },
  {
   "cell_type": "code",
   "execution_count": null,
   "metadata": {},
   "outputs": [],
   "source": [
    "fig, ax = plt.subplots(figsize=(page_width*0.5, ax_height))\n",
    "ax.plot(all_psd['STN_Vm'][0], all_psd['STN_Vm'][1], 'r', label='Avg STN Vm PSD')\n",
    "ax.plot(freqs, psd_avg, label='Avg {} Vm PSD'.format(pop_label))\n",
    "ax.set_ylabel('Power ({})'.format(psd_avg.units))\n",
    "ax.set_xlabel('frequency ({})'.format(freqs.units))\n",
    "ax.set_xlim((0, 50))\n",
    "ax.grid(True)\n",
    "# ax.set_yscale('log')\n",
    "ax.set_title('Welch PSD for average GPE membrane voltages')\n",
    "ax.legend()"
   ]
  },
  {
   "cell_type": "markdown",
   "metadata": {},
   "source": [
    "### Beta Power Evolution"
   ]
  },
  {
   "cell_type": "code",
   "execution_count": null,
   "metadata": {},
   "outputs": [],
   "source": [
    "# Plot spectrogram using STFT\n",
    "\n",
    "# Mean GPe membrane voltage\n",
    "gpe_vm_mean = gpe_vm_signal.sum(axis=1) / psd.shape[1]\n",
    "\n",
    "dt = 0.05\n",
    "fs = 1/dt*1e3\n",
    "freq_res = 1.0\n",
    "nperseg = int(fs/freq_res) # determines frequency resolution\n",
    "t_res = 20.0 # ms\n",
    "noverlap = nperseg - int(t_res/dt)\n",
    "freqs, t, Sxx = scipy.signal.spectrogram(gpe_vm_mean.ravel(), 1/dt, window='hanning',\n",
    "                                         nperseg=nperseg, noverlap=noverlap, scaling='density')\n",
    "freqs = freqs * 1000\n",
    "fig, ax = plt.subplots(figsize=(0.75*page_width, ax_height))\n",
    "\n",
    "plt.pcolormesh(t, freqs, Sxx)\n",
    "# plt.imshow(Sxx, cmap='jet', aspect='auto', vmax=abs(Sxx).max(), vmin=Sxx.min())\n",
    "f_max = 50\n",
    "plt.ylim((0, f_max))\n",
    "plt.colorbar()\n",
    "plt.clim(0, abs(Sxx).max())\n",
    "plt.ylabel('frequency (Hz)')\n",
    "plt.xlabel('time (ms)')\n",
    "plt.suptitle('Spectrogram - Power of mean GPe Vm over time ($nV^2/Hz$)')"
   ]
  },
  {
   "cell_type": "code",
   "execution_count": null,
   "metadata": {},
   "outputs": [],
   "source": [
    "dur = gpe_vm_signal.t_stop.magnitude\n",
    "# print(\"Shape of spectrogram is \", Sxx.shape, \" and frequecies is \", freqs.shape)\n",
    "\n",
    "### Low Beta\n",
    "bin_indices, = np.where((freqs >= 13) & (freqs <= 21))\n",
    "beta_spectrogram = Sxx[bin_indices, :]\n",
    "betapower = np.sum(beta_spectrogram, axis=0) / len(bin_indices)\n",
    "\n",
    "# Find time to (1-exp(-1)) * max power\n",
    "p_saturation = (1.0-np.exp(-1.0)) * betapower.max()\n",
    "i_saturated, = np.where(betapower >= p_saturation)\n",
    "t_saturated = t[i_saturated[0]]\n",
    "\n",
    "### High Beta\n",
    "bins_beta_high, = np.where((freqs >= 22) & (freqs <= 30))\n",
    "beta_high_spectrogram = Sxx[bins_beta_high, :]\n",
    "beta_high_power = np.sum(beta_high_spectrogram, axis=0) / len(bins_beta_high)\n",
    "\n",
    "# Find time to (1-exp(-1)) * max power\n",
    "p_sat_high = (1.0-np.exp(-1.0)) * beta_high_power.max()\n",
    "i_sat_high, = np.where(beta_high_power >= p_sat_high)\n",
    "t_sat_high = t[i_sat_high[0]]\n",
    "\n",
    "fig, ax = plt.subplots(figsize=(0.75*page_width, 1.5*ax_height))\n",
    "# Low Beta\n",
    "ax.plot(t, betapower, label=r'$\\beta$ ({} - {} Hz)'.format(freqs[bin_indices[0]], freqs[bin_indices[-1]]))\n",
    "ax.hlines(p_saturation, 0, dur, 'orange', label='$(1-e^{-1}) * P_{max}$')\n",
    "ax.plot(t_saturated, p_saturation, '+', color='red', markersize=5)\n",
    "\n",
    "# High Beta\n",
    "ax.plot(t, beta_high_power, 'r-', label=r'$\\beta$ ({} - {} Hz)'.format(freqs[bins_beta_high[0]], freqs[bins_beta_high[-1]]))\n",
    "ax.hlines(p_sat_high, 0, dur, 'orange')\n",
    "ax.plot(t_sat_high, p_sat_high, '+', color='red', markersize=5)\n",
    "\n",
    "# ax.vlines(t_saturated, 0, p_saturation, 'orange')\n",
    "ax.set_ylabel('Power ($nV^2/Hz$)'.format(freqs[bin_indices[0]], freqs[bin_indices[-1]]))\n",
    "ax.set_xlabel('time (ms)')\n",
    "# ax.set_ylim((0, Sxx.max()))\n",
    "ax.set_xlim((0, dur))\n",
    "ax.grid(True)\n",
    "ax.legend()\n",
    "ax.set_title('Mean Power in range {} - {} Hz ($nV^2/Hz$)'.format(freqs[bin_indices[0]], freqs[bin_indices[-1]]))\n",
    "\n",
    "print(\"Time to Beta-mid saturation is {} ms\".format(t_saturated))\n",
    "print(\"Max of mean Beta-mid power is {}\".format(betapower.max()))\n",
    "\n",
    "print(\"Time to Beta-high saturation is {} ms\".format(t_sat_high))\n",
    "print(\"Max of mean Beta-high power is {}\".format(beta_high_power.max()))"
   ]
  },
  {
   "cell_type": "markdown",
   "metadata": {},
   "source": [
    "# Phase Relationships\n",
    "\n",
    "For suitable measures and implementations, see\n",
    "- bookmarks/neuroscience/signal_processing\n",
    "- google `measure + site:github.com`\n",
    "- ask Amir for his mutual information and related measures\n",
    "- see Beta-related and other neurophysiology articles\n",
    "\n",
    "For example, we can use following measures\n",
    "\n",
    "- __Coherence__ : linear relationship betwee two signals by frequency component\n",
    "    + see `welch_cohere` in [elephant.spectral](http://elephant.readthedocs.io/en/latest/reference/spectral.html)\n",
    "\n",
    "\n",
    "- __Phase-Amplitude Coupling__ (PAC)\n",
    "    + see `hilbert` in [elephant.signal_processing](http://elephant.readthedocs.io/en/latest/reference/signal_processing.html) to do band-pass filter + Hilbert transform\n",
    "    + see `comodulogram` in [pactools](https://pactools.github.io/auto_examples/plot_comodulogram.html)"
   ]
  },
  {
   "cell_type": "markdown",
   "metadata": {},
   "source": [
    "## Beta Phase"
   ]
  },
  {
   "cell_type": "markdown",
   "metadata": {},
   "source": [
    "### Calculate Phase"
   ]
  },
  {
   "cell_type": "code",
   "execution_count": null,
   "metadata": {},
   "outputs": [],
   "source": [
    "# Calculate analytical signal -> phase\n",
    "# See neuroscience & signal analysis papers for phase calculations, useful metrics, visualizations\n",
    "\n",
    "signal = gpe_vm_signal\n",
    "\n",
    "# Take 10 cells within shorter time interval\n",
    "rec_dt = signal.sampling_period.magnitude\n",
    "interval= [5e3, 22e3]\n",
    "irange = [int(t/rec_dt) for t in interval]\n",
    "islice = np.s_[irange[0]:irange[1]] # slice object\n",
    "\n",
    "num_traces = 10\n",
    "pslice = np.s_[0:num_traces]\n",
    "traces_raw = signal[islice, pslice]\n",
    "\n",
    "times = signal.times[islice]"
   ]
  },
  {
   "cell_type": "code",
   "execution_count": null,
   "metadata": {},
   "outputs": [],
   "source": [
    "# Design band-pass filter in frequency band of interest\n",
    "\n",
    "# Elephant built-in filtering\n",
    "# import elephant.signal_processing as sigproc\n",
    "# signal_bp = sigproc.butter(signal, highpass_freq=20, lowpass_freq=30, order=3, filter_function='filtfilt')\n",
    "\n",
    "# Manual band-pass filtering\n",
    "Fs = signal.sampling_rate.rescale('Hz').magnitude\n",
    "Fn = Fs / 2. # Nyquist frequency\n",
    "hpfreq, lpfreq = 15.0, 33.0\n",
    "order = 3\n",
    "\n",
    "assert hpfreq < lpfreq\n",
    "low, high = hpfreq / Fn, lpfreq / Fn\n",
    "b, a = scipy.signal.butter(order, [low, high], btype='bandpass', analog=False)\n",
    "\n",
    "# Check filter stability (otherwise -> NaN values)\n",
    "filter_stable = np.all(np.abs(np.roots(a))<1)\n",
    "if not filter_stable:\n",
    "    raise Exception(\"Unstable filter!\")\n",
    "\n",
    "# Plot filter response\n",
    "w, h = scipy.signal.freqz(b, a, np.linspace(0, np.pi, 2**np.ceil(np.log2(Fn))))\n",
    "angles = np.unwrap(np.angle(h))\n",
    "fax = w * Fn / (np.pi)\n",
    "\n",
    "fig, axes = plt.subplots(2, 1, sharex=True)\n",
    "fig.suptitle(\"Filter response (2*pi = {})\".format(Fs))\n",
    "ax = axes[0]\n",
    "ax.plot(fax, abs(h), 'b') # 20 * np.log10(abs(h))\n",
    "ax.set_ylabel('Amplitude [dB]', color='b')\n",
    "\n",
    "ax = axes[1] # ax2 = ax.twinx()\n",
    "ax.plot(fax, angles, 'g')\n",
    "ax.set_ylabel('Angle (radians)', color='g')\n",
    "\n",
    "# plt.axis('tight')\n",
    "ax.set_xlim((0, 50))\n",
    "ax.set_xlabel('Frequency [Hz]')\n",
    "ax.grid(True)"
   ]
  },
  {
   "cell_type": "code",
   "execution_count": null,
   "metadata": {},
   "outputs": [],
   "source": [
    "# Filter signal\n",
    "data = np.asarray(signal)\n",
    "signal_bp = scipy.signal.filtfilt(b, a, data, axis=0) # can also use 'lfilter'"
   ]
  },
  {
   "cell_type": "code",
   "execution_count": null,
   "metadata": {},
   "outputs": [],
   "source": [
    "# Compute analytic signal - magnitude and phase\n",
    "from scipy.signal import hilbert\n",
    "\n",
    "traces_bp = signal_bp[islice, 0:num_traces]\n",
    "analytic_signal = hilbert(traces_bp, axis=0)\n",
    "analytic_mag = np.abs(analytic_signal)\n",
    "analytic_phase = np.angle(analytic_signal)\n",
    "# NOTE: phases are already wrapped\n",
    "# analytic_phase = np.unwrap(np.angle(analytic_signal), axis=0) # transform angle in interval (0, 2*pi)"
   ]
  },
  {
   "cell_type": "code",
   "execution_count": null,
   "metadata": {},
   "outputs": [],
   "source": [
    "# Plot a bunch of STN Vm signals\n",
    "fig, axes = plt.subplots(3, 1, figsize=(0.75*page_width,2*ax_height), sharex=True, sharey=False)\n",
    "fig.suptitle(\"Analytic signal for GPE Vm\")\n",
    "\n",
    "trace_id = 1\n",
    "iplot = np.s_[int(7500./rec_dt):int(8500./rec_dt)] # slice object\n",
    "\n",
    "# Band-pass filtered trace\n",
    "ax = axes[0]\n",
    "ax.plot(times[iplot], traces_raw[iplot,trace_id], color='b', label='Vm raw')\n",
    "ax.plot(times[iplot], traces_bp[iplot,trace_id], color='g', label='Vm bandpass')\n",
    "ax.set_ylabel('Vm raw & filtered')\n",
    "ax.grid(True)\n",
    "# ax.legend()\n",
    "# ax.set_ylim((-80, 25))\n",
    "\n",
    "# Magnitude of analytic signal = amplitude envelope\n",
    "ax = axes[1]\n",
    "ax.plot(times[iplot], analytic_mag[iplot,trace_id], label='magnitude')\n",
    "ax.set_ylabel('|analytic| [mV]')\n",
    "ax.grid(True)\n",
    "\n",
    "# Phase of analytic signal\n",
    "ax = axes[2]\n",
    "ax.plot(times[iplot], analytic_phase[iplot,trace_id], label='phase')\n",
    "ax.grid(True)\n",
    "ax.set_ylabel('angle(analytic) [rad]')\n",
    "ax.set_xlabel('time ({})'.format(times.units))"
   ]
  },
  {
   "cell_type": "markdown",
   "metadata": {},
   "source": [
    "### Plot Phase\n",
    "\n",
    "See following matplotlib examples:\n",
    "- https://matplotlib.org/gallery/pie_and_polar_charts/polar_demo.html\n",
    "- https://matplotlib.org/api/animation_api.html\n",
    "- http://tiao.io/posts/notebooks/embedding-matplotlib-animations-in-jupyter-as-interactive-javascript-widgets/"
   ]
  },
  {
   "cell_type": "code",
   "execution_count": null,
   "metadata": {},
   "outputs": [],
   "source": [
    "# Sample polar representation of analytic signal at fixed time points in Beta cycle\n",
    "f_beta_peak = 25.5 # see calculation of f_peak above\n",
    "phase_trange = times.magnitude\n",
    "phase_tstart, phase_tstop = phase_trange[0], phase_trange[-1]\n",
    "\n",
    "# Random point in cycle of main Beta frequency is ok, as long as it's consistent\n",
    "beta_trigger_t = np.arange(phase_tstart, phase_tstop, 1e3/f_beta_peak)\n",
    "beta_trigger_i = [int((t-phase_tstart)/rec_dt) for t in beta_trigger_t]\n",
    "\n",
    "# Phasor vectors for all traces at all trigger times\n",
    "vec_magnitudes = analytic_mag[beta_trigger_i, :]\n",
    "vec_phases = analytic_phase[beta_trigger_i, :]"
   ]
  },
  {
   "cell_type": "code",
   "execution_count": null,
   "metadata": {},
   "outputs": [],
   "source": [
    "# Plot single time point of Beta phasors\n",
    "ax = plt.subplot(111, projection='polar')\n",
    "\n",
    "phases = vec_phases[1,:]\n",
    "magnitudes = vec_magnitudes[1,:]\n",
    "\n",
    "ax.grid(True)\n",
    "ax.set_rmax(np.ceil(max(magnitudes)))\n",
    "ax.set_rticks(np.linspace(np.ceil(min(magnitudes)),\n",
    "                          np.ceil(max(magnitudes)),\n",
    "                          5, endpoint=True))  # Less radial ticks\n",
    "ax.set_rlabel_position(-90.0)  # Move radial labels away from plotted line\n",
    "\n",
    "kw = dict(arrowstyle=\"->\", color='g')\n",
    "for angle, radius in zip(phases, magnitudes):\n",
    "    ax.annotate(\"\", xy=(angle, radius), xytext=(0, 0), arrowprops=kw)"
   ]
  },
  {
   "cell_type": "code",
   "execution_count": null,
   "metadata": {},
   "outputs": [],
   "source": [
    "# Plot evoluation of Beta phasors over time\n",
    "from matplotlib import rc, animation\n",
    "from IPython.display import HTML\n",
    "\n",
    "fig = plt.figure()\n",
    "ax = plt.subplot(111, projection='polar')\n",
    "\n",
    "# Artists that will be updated during animation\n",
    "arrows = []\n",
    "for i in range(num_traces):\n",
    "    ln, = ax.plot([], [], 'g-', animated=True)\n",
    "    arrows.append(ln)\n",
    "\n",
    "# Animation setup and animate function must return all modified artists\n",
    "def init_animation():\n",
    "    ax.grid(True)\n",
    "    ax.set_rmax(np.ceil(max(magnitudes)))\n",
    "    ax.set_rticks(np.arange(0, np.ceil(vec_magnitudes.max())+1, 2))\n",
    "    ax.set_rlabel_position(-90.0)  # Move radial labels away from plotted line\n",
    "    return arrows\n",
    "\n",
    "\n",
    "def animate(i):\n",
    "    for j, arrow in enumerate(arrows):\n",
    "        xdata = [vec_phases[i, j]] * 2\n",
    "        ydata = [0.0, vec_magnitudes[i, j]]\n",
    "        arrow.set_data(xdata, ydata)\n",
    "    return arrows\n",
    "\n",
    "        \n",
    "# Make animation\n",
    "anim = animation.FuncAnimation(fig, animate, init_func=init_animation,\n",
    "                               frames=range(vec_magnitudes.shape[0]), blit=True)\n",
    "# rc('animation', html='jshtml') # set default output to JS animation\n",
    "# HTML(anim.to_jshtml()) # or convert it excplitly\n",
    "# rc('animation', html='html5') # set default output to video animation\n",
    "HTML(anim.to_html5_video()) # or convert explicitly"
   ]
  },
  {
   "cell_type": "markdown",
   "metadata": {},
   "source": [
    "## CTX - STN"
   ]
  },
  {
   "cell_type": "markdown",
   "metadata": {},
   "source": [
    "### Coherence"
   ]
  },
  {
   "cell_type": "code",
   "execution_count": null,
   "metadata": {},
   "outputs": [],
   "source": [
    "# ctx_vm_mean = neo.AnalogSignal(ctx_vm_signal.sum(axis=1).reshape((-1,1)), units=ctx_vm_signal.units, \n",
    "#                               sampling_rate=ctx_vm_signal.sampling_rate, t_start=ctx_vm_signal.t_start)\n",
    "\n",
    "# Copy signal metadata from CTX Vm signal\n",
    "ctx_vm_mean = ctx_vm_signal.duplicate_with_new_array(ctx_vm_signal.sum(axis=1).reshape((-1,1)))\n",
    "\n",
    "# Coherence between averaged cortical Vm and STN LFP\n",
    "# N x CTX signals -> 1 x LFP signal\n",
    "freqs, coherence, phase_lag = elephant.spectral.welch_cohere(ctx_vm_mean, stn_lfp_signal, freq_res=0.5)"
   ]
  },
  {
   "cell_type": "code",
   "execution_count": null,
   "metadata": {},
   "outputs": [],
   "source": [
    "fig, axes = plt.subplots(2, 1, figsize=(0.75*page_width, 2*ax_height))\n",
    "ax = axes[0]\n",
    "ineg = len(freqs)/2 # plot messed up because positive frequency axis comes before negative part\n",
    "ax.plot(freqs[:ineg], coherence[:ineg], label='CTX Vm - STN LFP')\n",
    "ax.set_ylabel('Coherence (unitless)')\n",
    "# ax.set_xlabel('frequency ({})'.format(freqs.units))\n",
    "ax.set_xlim((0, 100))\n",
    "ax.grid(True)\n",
    "# ax.set_yscale('log')\n",
    "ax.set_title('Coherence between Cortex mean Vm - STN LFP')\n",
    "ax.legend(loc='upper right')\n",
    "\n",
    "# Plot phase\n",
    "ax = axes[1]\n",
    "ax.plot(freqs[:ineg], phase_lag[:ineg], 'g-', label='phase')\n",
    "ax.set_ylabel('Phase (rad)')\n",
    "ax.set_xlabel('frequency ({})'.format(freqs.units))\n",
    "ax.set_xlim((0, 100))\n",
    "ax.grid(True)\n",
    "# ax.set_yscale('log')\n",
    "ax.set_title('Phase lag > 0 means CTX leads STN')\n",
    "ax.legend(loc='upper right')"
   ]
  },
  {
   "cell_type": "markdown",
   "metadata": {},
   "source": [
    "### Phase-Amplitude Coupling"
   ]
  },
  {
   "cell_type": "code",
   "execution_count": null,
   "metadata": {},
   "outputs": [],
   "source": [
    "# from tensorpac import Pac\n",
    "# estimator = Pac(idpac=(1, 0, 0), fpha=(3, 33, 1, 1), famp=(20, 150, 5, 5),\n",
    "#                 dcomplex='hilbert', filt='butter')\n",
    "\n",
    "# Filter the data and extract PAC :\n",
    "# xpac = estimator.filterfit(fs,\n",
    "#                            xpha=stn_vm_signal.magnitude[int(1e3/dt):int(10e3/dt), 0:10],\n",
    "#                            xamp=ctx_vm_signal.magnitude[int(1e3/dt):int(10e3/dt), 0:10],\n",
    "#                            axis=0, traxis=1, njobs=2)\n",
    "# xpac = estimator.filterfit(fs, \n",
    "#                            xpha=stn_lfp_signal.magnitude.reshape((-1,1)),\n",
    "#                            xamp=ctx_vm_mean.magnitude.reshape((-1,1)),\n",
    "#                            axis=0, traxis=1, njobs=2)"
   ]
  },
  {
   "cell_type": "code",
   "execution_count": null,
   "metadata": {},
   "outputs": [],
   "source": [
    "# Plot PAC\n",
    "# estimator.comodulogram(xpac.mean(-1), title='PAC: STN LFP (phase) - CTX Vm (amplitude)',\n",
    "#                        cmap='Spectral_r', plotas='imshow')"
   ]
  },
  {
   "cell_type": "markdown",
   "metadata": {},
   "source": [
    "## STN - GPE"
   ]
  },
  {
   "cell_type": "code",
   "execution_count": null,
   "metadata": {},
   "outputs": [],
   "source": [
    "# Copy signal metadata from CTX Vm signal\n",
    "gpe_vm_mean = gpe_vm_signal.duplicate_with_new_array(ctx_vm_signal.sum(axis=1).reshape((-1,1)))\n",
    "\n",
    "# Coherence between averaged cortical Vm and STN LFP\n",
    "# N x CTX signals -> 1 x LFP signal\n",
    "freqs, coherence, phase_lag = elephant.spectral.welch_cohere(stn_lfp_signal, gpe_vm_mean, freq_res=0.5)"
   ]
  },
  {
   "cell_type": "markdown",
   "metadata": {},
   "source": [
    "### Coherence"
   ]
  },
  {
   "cell_type": "code",
   "execution_count": null,
   "metadata": {},
   "outputs": [],
   "source": [
    "fig, axes = plt.subplots(2, 1, figsize=(0.75*page_width, 2*ax_height))\n",
    "ax = axes[0]\n",
    "ineg = len(freqs)/2 # plot messed up because positive frequency axis comes before negative part\n",
    "ax.plot(freqs[:ineg], coherence[:ineg], label='STN LFP - Avg GPe Vm')\n",
    "ax.set_ylabel('Coherence (unitless)')\n",
    "# ax.set_xlabel('frequency ({})'.format(freqs.units))\n",
    "ax.set_xlim((0, 100))\n",
    "ax.grid(True)\n",
    "# ax.set_yscale('log')\n",
    "ax.set_title('Coherence between STN LFP - Average GPe Vm')\n",
    "ax.legend(loc='upper right')\n",
    "\n",
    "# Plot phase\n",
    "ax = axes[1]\n",
    "ax.plot(freqs[:ineg], phase_lag[:ineg], 'g-', label='phase')\n",
    "ax.set_ylabel('Phase (rad)')\n",
    "ax.set_xlabel('frequency ({})'.format(freqs.units))\n",
    "ax.set_xlim((0, 100))\n",
    "ax.grid(True)\n",
    "# ax.set_yscale('log')\n",
    "ax.set_title('Phase lag > 0 means CTX leads STN')\n",
    "ax.legend(loc='upper right')"
   ]
  },
  {
   "cell_type": "markdown",
   "metadata": {},
   "source": [
    "# Save Notebook"
   ]
  },
  {
   "cell_type": "code",
   "execution_count": null,
   "metadata": {},
   "outputs": [],
   "source": [
    "# alternative: %notebook -e foo.ipynb\n",
    "# from IPython.display import Javascript\n",
    "# script = '''\n",
    "# require([\"base/js/namespace\"],function(Jupyter) {\n",
    "#     Jupyter.notebook.save_checkpoint();\n",
    "# });\n",
    "# '''\n",
    "# Javascript(script)"
   ]
  },
  {
   "cell_type": "code",
   "execution_count": null,
   "metadata": {},
   "outputs": [],
   "source": [
    "%%javascript\n",
    "require([\"base/js/namespace\"],function(Jupyter) {\n",
    "    Jupyter.notebook.save_checkpoint();\n",
    "});\n",
    "// Jupyter.notebook.kernel.execute(\"notebook_name = \" + \"\\'\"+Jupyter.notebook.notebook_name+\"\\'\");"
   ]
  },
  {
   "cell_type": "code",
   "execution_count": null,
   "metadata": {},
   "outputs": [],
   "source": [
    "# import os.path\n",
    "thisfile = 'synchrony_analysis.ipynb'\n",
    "# outfile = os.path.join(outputs, 'synchrony_analysis.html')\n",
    "# NOTE: template comes from ToC2 Notebook Extension\n",
    "!jupyter nbconvert $thisfile --template=toc2 --output-dir=$outputs"
   ]
  },
  {
   "cell_type": "code",
   "execution_count": null,
   "metadata": {},
   "outputs": [],
   "source": []
  }
 ],
 "metadata": {
  "kernelspec": {
   "display_name": "Python [default]",
   "language": "python",
   "name": "python2"
  },
  "language_info": {
   "codemirror_mode": {
    "name": "ipython",
    "version": 2
   },
   "file_extension": ".py",
   "mimetype": "text/x-python",
   "name": "python",
   "nbconvert_exporter": "python",
   "pygments_lexer": "ipython2",
   "version": "2.7.13"
  },
  "toc": {
   "nav_menu": {},
   "number_sections": false,
   "sideBar": true,
   "skip_h1_title": false,
   "toc_cell": false,
   "toc_position": {
    "height": "884px",
    "left": "0px",
    "right": "1110px",
    "top": "67px",
    "width": "203px"
   },
   "toc_section_display": "block",
   "toc_window_display": true
  }
 },
 "nbformat": 4,
 "nbformat_minor": 2
}
