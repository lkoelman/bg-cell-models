{
 "cells": [
  {
   "cell_type": "markdown",
   "metadata": {},
   "source": [
    "# Introduction\n",
    "\n",
    "Analysis of a set of simulation outputs that are the result of a parameter sweep."
   ]
  },
  {
   "cell_type": "code",
   "execution_count": null,
   "metadata": {},
   "outputs": [],
   "source": [
    "%matplotlib notebook\n",
    "import numpy as np\n",
    "import matplotlib.pyplot as plt\n",
    "import matplotlib\n",
    "import os.path\n",
    "import cPickle as pickle\n",
    "\n",
    "%load_ext bgcellmodels.extensions.jupyter.skip_cell_extension"
   ]
  },
  {
   "cell_type": "code",
   "execution_count": null,
   "metadata": {},
   "outputs": [],
   "source": [
    "# Width of the page for calibrating fig_size.\n",
    "# Approx. 16 for matplotlib backend %inline  8 for %notebook\n",
    "if matplotlib.get_backend() == 'nbAgg':\n",
    "    from bgcellmodels.extensions.jupyter import jupyterutil\n",
    "    jupyterutil.notebook_show_figs_after_exception() # fix bug for notebook backend where figures not shown\n",
    "    page_width = 10\n",
    "else:\n",
    "    page_width = 14\n",
    "ax_height = 3\n",
    "\n",
    "# Style of figures (default colors etc.): see https://matplotlib.org/gallery/style_sheets/style_sheets_reference.html\n",
    "plt.style.use('default')"
   ]
  },
  {
   "cell_type": "markdown",
   "metadata": {},
   "source": [
    "# Load Data"
   ]
  },
  {
   "cell_type": "code",
   "execution_count": null,
   "metadata": {},
   "outputs": [],
   "source": [
    "# Paste output directories below (e.g use ctrl+c in Nautilus file manager)\n",
    "outputs_clipboard = \"\"\"\n",
    "/run/media/luye/Windows7_OS/Users/lkoelman/simdata-win/q1_const-rate_vary-freq/2018.08.02_job-780629.sonic-head_DA-depleted-v3_CTX-favg14_fburst5\n",
    "/run/media/luye/Windows7_OS/Users/lkoelman/simdata-win/q1_const-rate_vary-freq/2018.08.02_job-780630.sonic-head_DA-depleted-v3_CTX-favg14_fburst7\n",
    "/run/media/luye/Windows7_OS/Users/lkoelman/simdata-win/q1_const-rate_vary-freq/2018.08.02_job-780631.sonic-head_DA-depleted-v3_CTX-favg14_fburst9\n",
    "/run/media/luye/Windows7_OS/Users/lkoelman/simdata-win/q1_const-rate_vary-freq/2018.08.02_job-780632.sonic-head_DA-depleted-v3_CTX-favg14_fburst11\n",
    "/run/media/luye/Windows7_OS/Users/lkoelman/simdata-win/q1_const-rate_vary-freq/2018.08.02_job-780633.sonic-head_DA-depleted-v3_CTX-favg14_fburst13\n",
    "/run/media/luye/Windows7_OS/Users/lkoelman/simdata-win/q1_const-rate_vary-freq/2018.08.02_job-780634.sonic-head_DA-depleted-v3_CTX-favg14_fburst15\n",
    "/run/media/luye/Windows7_OS/Users/lkoelman/simdata-win/q1_const-rate_vary-freq/2018.08.02_job-780635.sonic-head_DA-depleted-v3_CTX-favg14_fburst17\n",
    "/run/media/luye/Windows7_OS/Users/lkoelman/simdata-win/q1_const-rate_vary-freq/2018.08.02_job-780636.sonic-head_DA-depleted-v3_CTX-favg14_fburst19\n",
    "/run/media/luye/Windows7_OS/Users/lkoelman/simdata-win/q1_const-rate_vary-freq/2018.08.02_job-780637.sonic-head_DA-depleted-v3_CTX-favg14_fburst21\n",
    "/run/media/luye/Windows7_OS/Users/lkoelman/simdata-win/q1_const-rate_vary-freq/2018.08.02_job-780638.sonic-head_DA-depleted-v3_CTX-favg14_fburst23\n",
    "/run/media/luye/Windows7_OS/Users/lkoelman/simdata-win/q1_const-rate_vary-freq/2018.08.02_job-780639.sonic-head_DA-depleted-v3_CTX-favg14_fburst25\n",
    "/run/media/luye/Windows7_OS/Users/lkoelman/simdata-win/q1_const-rate_vary-freq/2018.08.02_job-780640.sonic-head_DA-depleted-v3_CTX-favg14_fburst27\n",
    "/run/media/luye/Windows7_OS/Users/lkoelman/simdata-win/q1_const-rate_vary-freq/2018.08.02_job-780641.sonic-head_DA-depleted-v3_CTX-favg14_fburst29\n",
    "/run/media/luye/Windows7_OS/Users/lkoelman/simdata-win/q1_const-rate_vary-freq/2018.08.02_job-780642.sonic-head_DA-depleted-v3_CTX-favg14_fburst31\n",
    "/run/media/luye/Windows7_OS/Users/lkoelman/simdata-win/q1_const-rate_vary-freq/2018.08.02_job-780643.sonic-head_DA-depleted-v3_CTX-favg14_fburst50\n",
    "\"\"\"\n",
    "output_dirs = outputs_clipboard.strip().split('\\n')"
   ]
  },
  {
   "cell_type": "code",
   "execution_count": null,
   "metadata": {},
   "outputs": [],
   "source": [
    "# Analysis results for each simulation were saved as a dict in pickle format.\n",
    "# Load them and make them accessible using the value of the sweep variable as key.\n",
    "analysis_results= {}\n",
    "sweep_var_name = None\n",
    "custom_outputs = { # Entries in output_dirs that do not have the correct sweep variable name/value\n",
    "    # 1 : 2.5, # SETPARAM: custom value for sweep var\n",
    "}\n",
    "for i, odir in enumerate(output_dirs):\n",
    "    exported_results = os.path.join(odir, 'analysis_results.pkl')\n",
    "    with open(exported_results, 'rb') as f:\n",
    "        results_dict = pickle.load(f)\n",
    "        if i in custom_outputs.keys():\n",
    "            sweep_value = custom_outputs[i]\n",
    "        elif sweep_var_name is None:\n",
    "            sweep_var_name = results_dict['sweep_var_name']\n",
    "            sweep_value = results_dict['sweep_var_value']\n",
    "#         elif sweep_var_name == results_dict['sweep_var_name']:\n",
    "#             sweep_value = results_dict['sweep_var_value']\n",
    "#         else:\n",
    "#             raise ValueError(\n",
    "#                 \"Simulation results in {} do not have the intended sweep variable!\"\n",
    "#                 \"\\nMaybe one of the output directories you copied does not match the series.\".format(odir))\n",
    "        # Extract sweep value from filename\n",
    "        import re\n",
    "        match = re.search(r'[0-9]+$', odir)\n",
    "        sweep_value = float(match.group(0))\n",
    "        # Use saved sweep value\n",
    "        analysis_results[sweep_value] = results_dict"
   ]
  },
  {
   "cell_type": "code",
   "execution_count": null,
   "metadata": {},
   "outputs": [],
   "source": [
    "# SETPARAM: description of sweep variable for figure legends\n",
    "sweep_var_legend = \"$f_{burst,CTX}$\" # LaTeX expressions allowed, double backslashes (\\ -> \\\\)\n",
    "\n",
    "# SETPARAM: whether cortical bursting input is given\n",
    "without_ctx_bursting = True\n",
    "\n",
    "print(analysis_results.keys())\n",
    "print(analysis_results.values()[0].keys())"
   ]
  },
  {
   "cell_type": "markdown",
   "metadata": {},
   "source": [
    "# Firing Rates"
   ]
  },
  {
   "cell_type": "code",
   "execution_count": null,
   "metadata": {},
   "outputs": [],
   "source": [
    "# Plot mean firing rates\n",
    "sweep_vals = np.array(sorted(analysis_results.keys()))\n",
    "rates = [analysis_results[val]['mean_rate']['CTX'] for val in sweep_vals]\n",
    "print(\"Firing rate for each sweep value:\\n\\n\" + \n",
    "      \"\\n\".join([\"{} : {}\".format(a,b) for a,b in zip(sweep_vals, rates)]))\n",
    "\n",
    "fig, ax = plt.subplots(figsize=(0.5*page_width, ax_height))\n",
    "\n",
    "ax.plot(sweep_vals, rates, color='g', alpha=0.4)\n",
    "# ax.plot(sweep_vals, rates, color='r', marker='+')\n",
    "ax.bar(sweep_vals, rates, width=0.1, alpha=0.4, color='g')\n",
    "\n",
    "ax.set_xlabel(sweep_var_legend)\n",
    "ax.set_ylabel('Mean firing rate (Hz)')\n",
    "ax.set_title('Mean CTX firing rate for parameter sweep \"{}\"'.format(sweep_var_legend))\n",
    "\n",
    "ax.set_xticks(sweep_vals)\n",
    "# ax.set_xticklabels(sweep_vals)\n",
    "\n",
    "ax.set_yticks(np.arange(0, int(max(rates)+2), 5), minor=False)\n",
    "ax.set_yticks(np.arange(0, int(max(rates)+2), 1.0), minor=True)\n",
    "ax.grid(True, axis='y', which='major')"
   ]
  },
  {
   "cell_type": "markdown",
   "metadata": {},
   "source": [
    "# PSD"
   ]
  },
  {
   "cell_type": "markdown",
   "metadata": {},
   "source": [
    "## PSD Shared Axis"
   ]
  },
  {
   "cell_type": "code",
   "execution_count": null,
   "metadata": {},
   "outputs": [],
   "source": [
    "# Plot the PSD\n",
    "sig_label = 'STN_Vm'\n",
    "sweep_vals = np.array(sorted(analysis_results.keys()))\n",
    "\n",
    "# Sampling colors from linear scale:\n",
    "# https://stackoverflow.com/questions/8931268/using-colormaps-to-set-color-of-line-in-matplotlib\n",
    "cmap = plt.get_cmap('cool')\n",
    "\n",
    "# Line colors equidistantly on color scale, independent of sweep values\n",
    "line_colors = [cmap(x) for x in np.linspace(0, 1, len(analysis_results))]\n",
    "def get_line_color(sweep_val):\n",
    "    return cmap(float(sweep_val) / sweep_vals.max)\n",
    "\n",
    "# Linear map of sweep values to color scale\n",
    "cNorm  = matplotlib.colors.Normalize(vmin=sweep_vals[0], vmax=sweep_vals[-1])\n",
    "scalarMap = matplotlib.cm.ScalarMappable(norm=cNorm, cmap=cmap)\n",
    "def get_line_color(sweep_val):\n",
    "    return scalarMap.to_rgba(sweep_val)\n",
    "\n",
    "def compare_psd(sig_label, legend=True, colorbar=False, width=0.75*page_width, height=ax_height):\n",
    "    \"\"\" Plot PSD for given signal for each simulation / sweep variable. \"\"\"\n",
    "    if colorbar:\n",
    "        ncols = 2\n",
    "        # axes for colorbar must be smaller\n",
    "        subplot_kwargs = {'gridspec_kw': {'width_ratios':[20, 1]}}\n",
    "    else:\n",
    "        ncols = 1\n",
    "        subplot_kwargs = {}\n",
    "    \n",
    "    fig, axes = plt.subplots(1, ncols, figsize=(width, height), **subplot_kwargs)\n",
    "    if colorbar:\n",
    "        ax = axes[0]\n",
    "    else:\n",
    "        ax = axes\n",
    "    \n",
    "    # Plot PSD as line for  each sweep value\n",
    "    sweep_vals = np.array(sorted(analysis_results.keys()))\n",
    "    lines = []\n",
    "    for i, sweep_value in enumerate(sweep_vals):\n",
    "        results = analysis_results[sweep_value]\n",
    "        freqs, psd = results['PSD'][sig_label]\n",
    "        plotted = ax.plot(freqs, psd,\n",
    "                          color=get_line_color(sweep_value), \n",
    "                          label='{} = {}'.format(sweep_var_legend, sweep_value))\n",
    "        lines.extend(plotted)\n",
    "    \n",
    "    ax.set_ylabel('Power ({})'.format(psd.units))\n",
    "    ax.set_xlabel('frequency ({})'.format(freqs.units))\n",
    "    ax.set_xticks(np.arange(0,55,5), minor=False)\n",
    "    ax.set_xticks(np.arange(0,51,1), minor=True)\n",
    "    ax.grid(True)\n",
    "    ax.set_xlim((0, 35))\n",
    "    # ax.set_yscale('log')\n",
    "    ax.set_title('Welch PSD for {}'.format(sig_label))\n",
    "    if legend:\n",
    "        if len(sweep_vals) < 7:\n",
    "            ax.legend(loc='upper right', bbox_to_anchor=(1,1))\n",
    "        else:\n",
    "            lower = slice(7)\n",
    "            upper = slice(7, len(sweep_vals))\n",
    "            labels = ['{} = {}'.format(sweep_var_legend, v) for v in sweep_vals]\n",
    "            # 'loc' is corner of legend anchored to anchorpoint\n",
    "            # 'bbox_to_anchor' is location of anchorpoint on axis bounding box\n",
    "            leg1 = ax.legend(lines[lower], labels[lower], loc=1, bbox_to_anchor=(.82,1))\n",
    "            leg2 = ax.legend(lines[upper], labels[upper], loc=2, bbox_to_anchor=(.82,1))\n",
    "            ax.add_artist(leg1) # otherwise last legend is used\n",
    "    if colorbar:\n",
    "        ax = axes[1]\n",
    "        cb = matplotlib.colorbar.ColorbarBase(ax, cmap=cmap, norm=cNorm, orientation='vertical')\n",
    "        cb.set_label(sweep_var_legend)\n",
    "    fig.subplots_adjust(bottom=0.15) # prevent clipped xlabel"
   ]
  },
  {
   "cell_type": "code",
   "execution_count": null,
   "metadata": {},
   "outputs": [],
   "source": [
    "compare_psd('STN_Vm', legend=True, colorbar=False, width=14, height=4.5)\n",
    "compare_psd('GPE_Vm')"
   ]
  },
  {
   "cell_type": "markdown",
   "metadata": {},
   "source": [
    "## PSD Heatmap"
   ]
  },
  {
   "cell_type": "code",
   "execution_count": null,
   "metadata": {},
   "outputs": [],
   "source": [
    "def compare_psd_heatmap(sig_label, x_axis_equidistant=True):\n",
    "    \"\"\"\n",
    "    Compare PSD across parameter sweep using heatmap visualization.\n",
    "    \n",
    "    @param  x_axis_equidistant : bool\n",
    "            If true, x axis will be spaces equidistanctly, and missing values\n",
    "            will be filled by black bands.\n",
    "    \"\"\"\n",
    "    \n",
    "    # Concatenate PSDs of different sweep values into matrix\n",
    "    test_freqs, test_psd = analysis_results.values()[0]['PSD'][sig_label]\n",
    "    freq_res = test_freqs[1] - test_freqs[0]\n",
    "    fmax = 100.0\n",
    "    nfreq = int(fmax/freq_res) + 1\n",
    "\n",
    "    sweep_vals = np.array(sorted(analysis_results.keys()))\n",
    "    d_sweep = min(np.diff(sweep_vals)) # resolution of sweep variable\n",
    "    sweep_axis_spaced = np.arange(sweep_vals.min(), sweep_vals.max()+d_sweep, d_sweep)\n",
    "    sweep_axis_full = list(sweep_axis_spaced)\n",
    "    for v in sweep_vals: # steps may miss actual values\n",
    "        if not np.any(np.isclose(v, sweep_axis_full)):\n",
    "            sweep_axis_full.append(v)\n",
    "    if x_axis_equidistant:\n",
    "        sweep_axis = np.array(sorted(sweep_axis_full))\n",
    "    else:\n",
    "        sweep_axis = sweep_vals\n",
    "    freq_axis = test_freqs[:nfreq]\n",
    "    sweep_psds = np.empty((nfreq, sweep_axis.size), dtype=float)\n",
    "\n",
    "    # Fill matrix\n",
    "    valid_columns = []\n",
    "    for sweep_value, results in analysis_results.iteritems():\n",
    "        # col_id = int((sweep_value - sweep_axis.min())/d_sweep)\n",
    "        col_id = np.where(np.isclose(sweep_value, sweep_axis))[0][0]\n",
    "        valid_columns.append(col_id)\n",
    "        freqs, psd = results['PSD'][sig_label]\n",
    "        sweep_psds[:, col_id] = psd.magnitude[:nfreq]\n",
    "\n",
    "    # Fill invalid columns with NaN\n",
    "    invalid_columns = [i for i in range(sweep_axis.size) if i not in valid_columns]\n",
    "    sweep_psds[:, invalid_columns] = np.nan\n",
    "    psd_sweep = np.ma.masked_array(sweep_psds, np.isnan(sweep_psds)) # mark invalid/missing data\n",
    "\n",
    "    # Draw heat map\n",
    "    cmap = plt.get_cmap('viridis') # e.g. jet, plasma: https://matplotlib.org/examples/color/colormaps_reference.html\n",
    "    cmap.set_bad(color='k') # color for masked values\n",
    "\n",
    "    fig, ax = plt.subplots(figsize=(0.5*page_width, ax_height))\n",
    "    sweep_plotaxis = np.concatenate((sweep_axis, [sweep_axis.max()+d_sweep])) # fix bug/feature in pcolormesh\n",
    "    plt.pcolormesh(sweep_plotaxis, freq_axis, psd_sweep, cmap=cmap)\n",
    "\n",
    "    # f_max = 50\n",
    "    # plt.ylim((0, f_max))\n",
    "    plt.colorbar()\n",
    "    # plt.clim(0, 20)\n",
    "    # cmap.set_bad('grey')\n",
    "    ax.set_xticks(sweep_axis + d_sweep/2.0) # otherwise they appear left of column\n",
    "    ax.set_xticklabels(['{:.1f}'.format(v) for v in sweep_axis])\n",
    "    ax.set_xlim((sweep_axis.min(), sweep_plotaxis.max()))\n",
    "    ax.set_yticks(np.arange(0,50,1), minor=True)\n",
    "    ax.set_yticks(np.arange(0,55,5), minor=False)\n",
    "    ax.set_ylim((0, 50))\n",
    "    # TODO: find out why one column doesn't show\n",
    "\n",
    "    plt.ylabel('frequency (Hz)')\n",
    "    plt.xlabel(sweep_var_legend)\n",
    "    plt.suptitle('Evolution of PSD ({})'.format(sig_label))"
   ]
  },
  {
   "cell_type": "code",
   "execution_count": null,
   "metadata": {},
   "outputs": [],
   "source": [
    "compare_psd_heatmap('STN_Vm', False)\n",
    "compare_psd_heatmap('GPE_Vm', False)"
   ]
  },
  {
   "cell_type": "markdown",
   "metadata": {},
   "source": [
    "## Entrainment Power\n",
    "\n",
    "PSD peak magnitude at frequency of applied cortical bursting inputs."
   ]
  },
  {
   "cell_type": "code",
   "execution_count": null,
   "metadata": {},
   "outputs": [],
   "source": [
    "%%skip $without_ctx_bursting\n",
    "\n",
    "def compare_entrainment(sig_label, input_freqs):\n",
    "    \"\"\" Plot PSD magnitude at frequency of applied cuortical bursting \"\"\"\n",
    "    fig, ax = plt.subplots(figsize=(0.75*page_width, ax_height))\n",
    "    sweep_vals = np.array(sorted(analysis_results.keys()))\n",
    "    sweep_power = []\n",
    "    for i, sweep_value in enumerate(sweep_vals):\n",
    "        results = analysis_results[sweep_value]\n",
    "        freqs, psd = results['PSD'][sig_label]\n",
    "        freq_axis = freqs.magnitude\n",
    "        f_input = input_freqs[i]\n",
    "        i_entrain, = np.where(freq_axis == f_input)\n",
    "        p_entrain = psd[i_entrain[0]]\n",
    "        sweep_power.append(p_entrain)\n",
    "    \n",
    "    ax.plot(sweep_vals, sweep_power, '-')\n",
    "    ax.plot(sweep_vals, sweep_power, 'r+')\n",
    "    vmin, vmax = sweep_vals.min(), sweep_vals.max()\n",
    "    ax.set_xticks(np.arange(vmin,vmax,.2), minor=False)\n",
    "    # ax.set_xticks(np.arange(vmax,vmax,1), minor=True)\n",
    "    # ax.set_xlim((0, 50))\n",
    "    ax.set_ylabel('Power ({})'.format(psd.units))\n",
    "    ax.set_xlabel(sweep_var_legend)\n",
    "    ax.grid(True)\n",
    "    ax.set_title('PSD @ f_input ({})'.format(sig_label))"
   ]
  },
  {
   "cell_type": "code",
   "execution_count": null,
   "metadata": {},
   "outputs": [],
   "source": [
    "%%skip $without_ctx_bursting\n",
    "\n",
    "# f_inputs = [5.0 for i in range(len(analysis_results))]\n",
    "f_inputs = [7, 8, 9, 12, 12, 12]\n",
    "compare_entrainment('STN_Vm', input_freqs=f_inputs)\n",
    "compare_entrainment('GPE_Vm', input_freqs=f_inputs)"
   ]
  },
  {
   "cell_type": "markdown",
   "metadata": {},
   "source": [
    "## Peak Power\n",
    "\n",
    "Magnitude of the largest PSD peak, assumed to be the frequency of bursting in the STN - GPe loop."
   ]
  },
  {
   "cell_type": "code",
   "execution_count": null,
   "metadata": {},
   "outputs": [],
   "source": [
    "def plot_max_psd(sig_label):\n",
    "    \"\"\" Plot magnitude of largest PSD peak \"\"\"\n",
    "    fig, ax = plt.subplots(figsize=(0.75*page_width, ax_height))\n",
    "    sweep_vals = np.array(sorted(analysis_results.keys()))\n",
    "    sweep_power = []\n",
    "    for i, sweep_value in enumerate(sweep_vals):\n",
    "        results = analysis_results[sweep_value]\n",
    "        freqs, psd = results['PSD'][sig_label]\n",
    "        sweep_power.append(psd.magnitude.max())\n",
    "    \n",
    "    ax.plot(sweep_vals, sweep_power, '-')\n",
    "    ax.plot(sweep_vals, sweep_power, 'r+')\n",
    "    vmin, vmax = sweep_vals.min(), sweep_vals.max()\n",
    "    ax.set_xticks(np.arange(vmin,vmax,.2), minor=False)\n",
    "    # ax.set_xticks(np.arange(vmax,vmax,1), minor=True)\n",
    "    # ax.set_xlim((0, 50))\n",
    "    ax.set_ylim((0, 1.1*max(sweep_power)))\n",
    "    ax.set_ylabel('Power ({})'.format(psd.units))\n",
    "    ax.set_xlabel(sweep_var_legend)\n",
    "    ax.grid(True)\n",
    "    ax.set_title('PSD max peak ({})'.format(sig_label))\n",
    "\n",
    "def compare_max_psd(sig_labels):\n",
    "    \"\"\" Plot magnitude of largest PSD peak \"\"\"\n",
    "    fig, ax = plt.subplots(figsize=(0.75*page_width, ax_height))\n",
    "    \n",
    "    sweep_vals = np.array(sorted(analysis_results.keys()))\n",
    "    all_sweep_power = []\n",
    "    \n",
    "    colors = 'bgcm'\n",
    "    for i, sig_label in enumerate(sig_labels):\n",
    "        sweep_power = []\n",
    "        for sweep_value in sweep_vals:\n",
    "            results = analysis_results[sweep_value]\n",
    "            freqs, psd = results['PSD'][sig_label]\n",
    "            sweep_power.append(psd.magnitude.max())\n",
    "        all_sweep_power.extend(sweep_power)\n",
    "\n",
    "        ax.plot(sweep_vals, sweep_power, '-', color=colors[i], label=\"$PSD_{max}$\" + \" ({sig})\".format(sig=sig_label))\n",
    "        ax.plot(sweep_vals, sweep_power, 'r+')\n",
    "\n",
    "    vmin, vmax = sweep_vals.min(), sweep_vals.max()\n",
    "    x_dtick = 10.0 # SETPARAM: spacing for x-axis ticks\n",
    "    ax.set_xticks(np.arange(vmin, vmax, x_dtick), minor=False)\n",
    "    # ax.set_xticks(np.arange(vmax,vmax,1), minor=True)\n",
    "    ax.set_xlim((0, 100))\n",
    "    ax.set_ylim((0, 1.1*max(all_sweep_power)))\n",
    "    ax.set_ylabel('Power ({})'.format(psd.units))\n",
    "    ax.set_xlabel(sweep_var_legend)\n",
    "    ax.grid(True)\n",
    "    ax.set_title('PSD max peak')\n",
    "    ax.legend()\n",
    "    fig.subplots_adjust(bottom=0.15) # prevent clipped xlabel"
   ]
  },
  {
   "cell_type": "code",
   "execution_count": null,
   "metadata": {},
   "outputs": [],
   "source": [
    "compare_max_psd(('STN_Vm', 'GPE_Vm'))\n",
    "# plot_max_psd('STN_Vm')\n",
    "# plot_max_psd('GPE_Vm')"
   ]
  },
  {
   "cell_type": "markdown",
   "metadata": {},
   "source": [
    "## Subband Power\n",
    "\n",
    "Summed PSD power in different frequency bands."
   ]
  },
  {
   "cell_type": "code",
   "execution_count": null,
   "metadata": {},
   "outputs": [],
   "source": [
    "def compare_subband_power(sig_label):\n",
    "    \"\"\" Plot summed power in different subbands \"\"\"\n",
    "    fig, ax = plt.subplots(figsize=(0.75*page_width, ax_height))\n",
    "    sweep_vals = np.array(sorted(analysis_results.keys()))\n",
    "    sweep_Psum = {} # map band (x,y) -> Psum\n",
    "    # collect data\n",
    "    for i, sweep_value in enumerate(sweep_vals):\n",
    "        results = analysis_results[sweep_value]\n",
    "        bands, Psum = results['PSD_subband_power'][sig_label]\n",
    "        for j, band in enumerate(bands):\n",
    "            sweep_Psum.setdefault(band, []).append(Psum[j])\n",
    "    # plot collected data\n",
    "    import matplotlib\n",
    "    bands = sweep_Psum.keys()\n",
    "    lower, upper = zip(*bands)\n",
    "    cNorm  = matplotlib.colors.Normalize(vmin=min(lower), vmax=max(lower))\n",
    "    cmapping = matplotlib.cm.ScalarMappable(norm=cNorm, cmap=plt.get_cmap('cool'))\n",
    "    bands_sorted = sorted(bands, key=lambda b: b[0])\n",
    "    for band in bands_sorted:\n",
    "        Psums = sweep_Psum[band]\n",
    "        ax.plot(sweep_vals, Psums, '-', color=cmapping.to_rgba(band[0]), label='{} Hz'.format(band))\n",
    "    vmin, vmax = sweep_vals.min(), sweep_vals.max()\n",
    "    d1, d2 = .2, .1 # tick increments\n",
    "    ax.set_xticks(np.arange(vmin,d1*(vmax//d1+1),d1), minor=False)\n",
    "    # ax.set_xticks(np.arange(vmin,1*(vmax//1+1),1), minor=True)\n",
    "    ax.set_xlim((vmin, vmax))\n",
    "    ax.set_ylabel('Power (mV^2/Hz)')\n",
    "    ax.set_xlabel(sweep_var_legend)\n",
    "    ax.grid(True)\n",
    "    ax.legend()\n",
    "    ax.set_title('sum(PSD) in sub-bands ({})'.format(sig_label))\n",
    "    fig.subplots_adjust(bottom=0.15) # prevent clipped xlabel"
   ]
  },
  {
   "cell_type": "code",
   "execution_count": null,
   "metadata": {},
   "outputs": [],
   "source": [
    "compare_subband_power('STN_Vm')\n",
    "compare_subband_power('GPE_Vm')"
   ]
  },
  {
   "cell_type": "markdown",
   "metadata": {},
   "source": [
    "# Spectrogram"
   ]
  },
  {
   "cell_type": "markdown",
   "metadata": {},
   "source": [
    "## Peak Power - Instantaneous\n",
    "\n",
    "Note that this might give a different picture than comparing simulations with PSD alone: a simulation with periodic synchronization may have higher transient peaks, whereas the PSD (average over time) is lower."
   ]
  },
  {
   "cell_type": "code",
   "execution_count": null,
   "metadata": {},
   "outputs": [],
   "source": [
    "# (freqs[0:int(50/df)], t, Sxx[:,0:int(50/df)])\n",
    "# Syy = Sxx[:, int(5000.0/t_res):]\n",
    "\n",
    "# set temporal resolution of PSD from value in synchrony_analysis_auto.ipynb\n",
    "# t_res = 20.0 # ms\n",
    "\n",
    "def compare_max_spectrogram(sig_label, band=(4.0, 30.0), t_start=5000.0):\n",
    "    \"\"\" Plot magnitude of largest spectrogram peak \"\"\"\n",
    "    fig, ax = plt.subplots(figsize=(0.75*page_width, ax_height))\n",
    "    sweep_vals = np.array(sorted(analysis_results.keys()))\n",
    "    sweep_power = []\n",
    "    for i, sweep_value in enumerate(sweep_vals):\n",
    "        results = analysis_results[sweep_value]\n",
    "        freqs, t, Sxx = results['spectrogram'][sig_label]\n",
    "        # only look at power in sub-band\n",
    "        df = freqs[1] - freqs[0]\n",
    "        f_slice = np.s_[int(band[0]/df):(int(band[1]/df)+1)]\n",
    "        # first 5000 ms already cut when saving\n",
    "        # dt = t[1] - t[0]\n",
    "        # t_slice = np.s_[int(t_start/dt):]\n",
    "        t_slice = np.s_[:]\n",
    "        S_max = Sxx[f_slice, t_slice].max()\n",
    "        sweep_power.append(S_max)\n",
    "    \n",
    "    ax.plot(sweep_vals, sweep_power, '-')\n",
    "    ax.plot(sweep_vals, sweep_power, 'r+')\n",
    "    # ax.set_xticks(np.arange(0,5*(sweep_vals.max()//5+1),5), minor=False)\n",
    "    # ax.set_xticks(np.arange(0,1*(sweep_vals.max()//1+1),1), minor=True)\n",
    "    # ax.set_xlim((0, 50))\n",
    "    ax.set_ylim((0, 1.1*max(sweep_power)))\n",
    "    ax.set_ylabel('Power (mV^2/Hz)')\n",
    "    ax.set_xlabel(sweep_var_legend)\n",
    "    ax.grid(True)\n",
    "    ax.set_title('Spectrogram max peak ({})'.format(sig_label))\n",
    "    fig.subplots_adjust(bottom=0.15) # prevent clipped xlabel"
   ]
  },
  {
   "cell_type": "code",
   "execution_count": null,
   "metadata": {},
   "outputs": [],
   "source": [
    "compare_max_spectrogram('STN_Vm')\n",
    "compare_max_spectrogram('GPE_Vm')"
   ]
  },
  {
   "cell_type": "markdown",
   "metadata": {},
   "source": [
    "# Synchronization"
   ]
  },
  {
   "cell_type": "markdown",
   "metadata": {},
   "source": [
    "## Mean & Variability"
   ]
  },
  {
   "cell_type": "code",
   "execution_count": null,
   "metadata": {},
   "outputs": [],
   "source": [
    "def compare_synchronization(sig_label):\n",
    "    \"\"\" Compare distribution of Morgera-index values (mean, median, std) \"\"\"\n",
    "    sweep_vals = np.array(sorted(analysis_results.keys()))\n",
    "    mean_M, std_M = [], []\n",
    "    M_datasets = []\n",
    "    for i, sweep_value in enumerate(sweep_vals):\n",
    "        results = analysis_results[sweep_value]\n",
    "        t, M = results['Morgera_index'][sig_label]\n",
    "        mean_M.append(np.mean(M))\n",
    "        std_M.append(np.std(M))\n",
    "        M_datasets.append(M)\n",
    "\n",
    "    mean_M = np.array(mean_M)\n",
    "    std_M = np.array(std_M)\n",
    "    \n",
    "    # Plot continuous line with confidence intervals\n",
    "    fig, ax = plt.subplots(figsize=(0.75*page_width, ax_height))\n",
    "    plt.plot(sweep_vals, mean_M)\n",
    "    plt.plot(sweep_vals, mean_M, 'r+')\n",
    "    plt.plot(sweep_vals, mean_M+std_M, 'g_')\n",
    "    plt.plot(sweep_vals, mean_M-std_M, 'g_')\n",
    "    plt.fill_between(sweep_vals, mean_M+std_M, mean_M-std_M, color='k', alpha=.5)\n",
    "\n",
    "    vmin, vmax = sweep_vals.min(), sweep_vals.max()\n",
    "    ax.set_xticks(sweep_vals, minor=False)\n",
    "    ax.set_xticks(np.arange(vmin,1*(vmax//1+1),1), minor=True)\n",
    "    ax.set_xlim((vmin, vmax))\n",
    "    ax.set_yticks(np.arange(0,1.1,0.1), minor=False)\n",
    "    ax.set_ylim((0, 1))\n",
    "    ax.set_ylabel('M (0-1)')\n",
    "    ax.set_xlabel(sweep_var_legend)\n",
    "    ax.grid(True, which='major', axis='y')\n",
    "    ax.set_title('Morgera index ({})'.format(sig_label))\n",
    "    fig.subplots_adjust(bottom=0.15) # prevent clipped xlabel\n",
    "    \n",
    "    # Plot boxplots\n",
    "    fig, ax = plt.subplots(figsize=(0.75*page_width, ax_height))\n",
    "    bp = ax.boxplot(M_datasets, 0, 'g+')\n",
    "    ax.set_xticklabels(sweep_vals)\n",
    "    ax.set_yticks(np.arange(0,1.1,0.1), minor=False)\n",
    "    ax.set_ylim((0, 1))\n",
    "    ax.set_ylabel('M (0-1)')\n",
    "    ax.set_xlabel(sweep_var_legend)\n",
    "    ax.grid(True, which='major', axis='y')\n",
    "    fig.subplots_adjust(bottom=0.15) # prevent clipped xlabel"
   ]
  },
  {
   "cell_type": "code",
   "execution_count": null,
   "metadata": {},
   "outputs": [],
   "source": [
    "compare_synchronization('STN_Vm')"
   ]
  },
  {
   "cell_type": "code",
   "execution_count": null,
   "metadata": {},
   "outputs": [],
   "source": [
    "compare_synchronization('GPE_Vm')"
   ]
  },
  {
   "cell_type": "markdown",
   "metadata": {},
   "source": [
    "## Periodicity\n",
    "\n",
    "Can use morgera index, or summed spectrogram sub-band power over time."
   ]
  },
  {
   "cell_type": "code",
   "execution_count": null,
   "metadata": {},
   "outputs": [],
   "source": [
    "%%javascript\n",
    "// require([\"base/js/namespace\"],function(Jupyter) {\n",
    "//     Jupyter.notebook.save_checkpoint();\n",
    "// });"
   ]
  },
  {
   "cell_type": "code",
   "execution_count": null,
   "metadata": {},
   "outputs": [],
   "source": [
    "# thisfile = 'sweep_analysis.ipynb'\n",
    "# parent_dir, _ = os.path.split(output_dirs[-1])\n",
    "# !jupyter nbconvert $thisfile --template=toc2 --output-dir=$outputs"
   ]
  }
 ],
 "metadata": {
  "kernelspec": {
   "display_name": "Python [default]",
   "language": "python",
   "name": "python2"
  },
  "language_info": {
   "codemirror_mode": {
    "name": "ipython",
    "version": 2
   },
   "file_extension": ".py",
   "mimetype": "text/x-python",
   "name": "python",
   "nbconvert_exporter": "python",
   "pygments_lexer": "ipython2",
   "version": "2.7.13"
  },
  "toc": {
   "nav_menu": {},
   "number_sections": false,
   "sideBar": true,
   "skip_h1_title": false,
   "toc_cell": false,
   "toc_position": {},
   "toc_section_display": "block",
   "toc_window_display": true
  }
 },
 "nbformat": 4,
 "nbformat_minor": 2
}
