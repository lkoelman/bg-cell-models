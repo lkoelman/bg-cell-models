{
 "cells": [
  {
   "cell_type": "markdown",
   "metadata": {},
   "source": [
    "# Preamble\n",
    "\n",
    "Analysis of a set of simulation outputs that are the result of a parameter sweep.\n",
    "\n",
    "## Usage\n",
    "\n",
    "- Save analysis notebook `lunet_stn-gpe_analysis.ipynb` with cells cleared and hard-coded settings uncommented.\n",
    "\n",
    "\n",
    "- Edit sweep analysis script `run_notebooks_sweep.py` with correct sweep variable, time interval.\n",
    "\n",
    "\n",
    "- Run sweep analysis script to execute analysis notebook on all simulation outputs.\n",
    "\n",
    "\n",
    "- Paste same paths used in script in section 'Load Data'"
   ]
  },
  {
   "cell_type": "code",
   "execution_count": null,
   "metadata": {},
   "outputs": [],
   "source": [
    "%matplotlib inline\n",
    "import os.path\n",
    "import cPickle as pickle\n",
    "\n",
    "import numpy as np\n",
    "import matplotlib.pyplot as plt\n",
    "import matplotlib\n",
    "import scipy.stats\n",
    "from statsmodels.formula.api import ols\n",
    "import pandas\n",
    "\n",
    "%load_ext bgcellmodels.extensions.jupyter.skip_cell_extension"
   ]
  },
  {
   "cell_type": "markdown",
   "metadata": {},
   "source": [
    "## Plotting Options"
   ]
  },
  {
   "cell_type": "code",
   "execution_count": null,
   "metadata": {},
   "outputs": [],
   "source": [
    "# Width of the page for calibrating fig_size.\n",
    "# Approx. 16 for matplotlib backend %inline  8 for %notebook\n",
    "if matplotlib.get_backend() == 'nbAgg':\n",
    "    from bgcellmodels.extensions.jupyter import jupyterutil\n",
    "    jupyterutil.notebook_show_figs_after_exception() # fix bug for notebook backend where figures not shown\n",
    "    page_width = 10\n",
    "else:\n",
    "    page_width = 10\n",
    "ax_height = 3\n",
    "\n",
    "# Style of figures (default colors etc.): see https://matplotlib.org/gallery/style_sheets/style_sheets_reference.html\n",
    "plt.style.use('default')"
   ]
  },
  {
   "cell_type": "markdown",
   "metadata": {},
   "source": [
    "## Settings Variables"
   ]
  },
  {
   "cell_type": "code",
   "execution_count": null,
   "metadata": {},
   "outputs": [],
   "source": [
    "# SETPARAM: paste output directories below (e.g use ctrl+c in Nautilus file manager)\n",
    "outputs_clipboard = \"\"\"\n",
    "/run/media/luye/Windows7_OS/Users/lkoelman/simdata-win/LuNetStnGpe/q4_sweep_gpe-inh-aff-ratio/LuNetStnGpe_2018.12.03_12.28.58_job-1190110.sonic-head_StnGpe_syn-V18_gpe-inh-aff_x-0.70\n",
    "/run/media/luye/Windows7_OS/Users/lkoelman/simdata-win/LuNetStnGpe/q4_sweep_gpe-inh-aff-ratio/LuNetStnGpe_2018.12.03_12.29.00_job-1190107.sonic-head_StnGpe_syn-V18_gpe-inh-aff_x-0.40\n",
    "/run/media/luye/Windows7_OS/Users/lkoelman/simdata-win/LuNetStnGpe/q4_sweep_gpe-inh-aff-ratio/LuNetStnGpe_2018.12.03_12.29.05_job-1190108.sonic-head_StnGpe_syn-V18_gpe-inh-aff_x-0.50\n",
    "/run/media/luye/Windows7_OS/Users/lkoelman/simdata-win/LuNetStnGpe/q4_sweep_gpe-inh-aff-ratio/LuNetStnGpe_2018.12.03_12.29.06_job-1190109.sonic-head_StnGpe_syn-V18_gpe-inh-aff_x-0.60\n",
    "/run/media/luye/Windows7_OS/Users/lkoelman/simdata-win/LuNetStnGpe/q4_sweep_gpe-inh-aff-ratio/LuNetStnGpe_2018.12.03_12.29.09_job-1190105.sonic-head_StnGpe_syn-V18_gpe-inh-aff_x-0.20\n",
    "/run/media/luye/Windows7_OS/Users/lkoelman/simdata-win/LuNetStnGpe/q4_sweep_gpe-inh-aff-ratio/LuNetStnGpe_2018.12.03_12.29.09_job-1190106.sonic-head_StnGpe_syn-V18_gpe-inh-aff_x-0.30\n",
    "/run/media/luye/Windows7_OS/Users/lkoelman/simdata-win/LuNetStnGpe/q4_sweep_gpe-inh-aff-ratio/LuNetStnGpe_2018.12.03_12.29.12_job-1190111.sonic-head_StnGpe_syn-V18_gpe-inh-aff_x-0.80\n",
    "/run/media/luye/Windows7_OS/Users/lkoelman/simdata-win/LuNetStnGpe/q4_sweep_gpe-inh-aff-ratio/LuNetStnGpe_2018.12.03_12.29.16_job-1190112.sonic-head_StnGpe_syn-V18_gpe-inh-aff_x-0.90\n",
    "/run/media/luye/Windows7_OS/Users/lkoelman/simdata-win/LuNetStnGpe/q4_sweep_gpe-inh-aff-ratio/LuNetStnGpe_2018.12.03_12.29.19_job-1190104.sonic-head_StnGpe_syn-V18_gpe-inh-aff_x-0.10\n",
    "\"\"\"\n",
    "output_dirs = outputs_clipboard.strip().split()"
   ]
  },
  {
   "cell_type": "code",
   "execution_count": null,
   "metadata": {},
   "outputs": [],
   "source": [
    "# Analysis results for each simulation\n",
    "analysis_results = {} # dict[sweep_var: float, exported_data: dict]\n",
    "\n",
    "# SETPARAM: override sweep variable name if desired\n",
    "sweep_var_name = 'ratio_gpe_msn'\n",
    "# SETPARAM: description of sweep variable for figure legends\n",
    "sweep_var_legend = \"$gmax_{gpe}/gmax_{msn}$\" # LaTeX expressions allowed, double backslashes (\\ -> \\\\)\n",
    "\n",
    "# SETPARAM: filename of exported pickle file\n",
    "export_filename = 'analysis_results_1.0s-6.0s_SPONT.pkl' # 'analysis_results_6.0s-10.0s_DRIVEN.pkl'\n",
    "# SETPARAM: filename for output notebook\n",
    "report_filename = '{}_sweep-meta_SPONT_V2.html'.format(sweep_var_name)\n",
    "\n",
    "# SETPARAM: whether cortical bursting input is given\n",
    "without_ctx_bursting = True\n",
    "\n",
    "# SETPARAM: Entries in output_dirs with incorrect sweep variable\n",
    "custom_outputs = { \n",
    "#     2 : 1.0,\n",
    "}\n",
    "override_sweep_vals = None # np.round(np.arange(1./3, 3+1./3, 1./3), 2)\n",
    "\n",
    "for i, odir in enumerate(output_dirs):\n",
    "    export_file = os.path.join(odir, export_filename)\n",
    "    with open(export_file, 'rb') as f:\n",
    "        results_dict = pickle.load(f)\n",
    "        \n",
    "        if sweep_var_name is None and i == 0:\n",
    "            sweep_var_name = results_dict['sweep_settings']['var_name']\n",
    "        \n",
    "        if i in custom_outputs.keys():\n",
    "            sweep_value = custom_outputs[i]\n",
    "        elif override_sweep_vals is not None:\n",
    "            sweep_value = override_sweep_vals[i]\n",
    "        else:\n",
    "            sweep_value = float(results_dict['sweep_settings']['var_value'])\n",
    "            \n",
    "#         elif sweep_var_name == results_dict['sweep_var_name']:\n",
    "#             sweep_value = results_dict['sweep_var_value']\n",
    "#         else:\n",
    "#             raise ValueError(\n",
    "#                 \"Simulation results in {} do not have the intended sweep variable!\"\n",
    "#                 \"\\nMaybe one of the output directories you copied does not match the series.\".format(odir))\n",
    "        \n",
    "        # Extract sweep value from filename\n",
    "        # import re\n",
    "        # match = re.search(r'[0-9]+$', odir)\n",
    "        # sweep_value = float(match.group(0))\n",
    "        \n",
    "        # Use saved sweep value\n",
    "        analysis_results[sweep_value] = results_dict"
   ]
  },
  {
   "cell_type": "code",
   "execution_count": null,
   "metadata": {},
   "outputs": [],
   "source": [
    "print(sorted(analysis_results.keys()))\n",
    "print(analysis_results.values()[0].keys())"
   ]
  },
  {
   "cell_type": "markdown",
   "metadata": {},
   "source": [
    "## Support Functions"
   ]
  },
  {
   "cell_type": "code",
   "execution_count": null,
   "metadata": {},
   "outputs": [],
   "source": [
    "save_fig_path = '/home/luye/cloudstore_m/notes/publications_lkmn/ARTICLE_stn_gpe_loop/figures/sec1_balance_exc_inh'\n",
    "def save_figure(fname, fig=None, **kwargs):\n",
    "    \"\"\"\n",
    "    Save given or current figure.\n",
    "    For LaTeX embedding, use extension pdf/pgf/eps.\n",
    "    \"\"\"\n",
    "    if fig is None:\n",
    "        plt.savefig(fname, **kwargs) # save current figure\n",
    "    else:\n",
    "        fig.savefig(fname, **kwargs) # save specific figure"
   ]
  },
  {
   "cell_type": "code",
   "execution_count": null,
   "metadata": {},
   "outputs": [],
   "source": [
    "line_colors = 'crkgbm'\n",
    "populations = 'CTX', 'STN', 'STN.surrogate', 'GPE.proto', 'GPE.surrogate', 'STR.MSN' # TODO: load from exported vars\n",
    "pop_color_map = {k: line_colors[i % len(line_colors)] for i,k in enumerate(sorted(populations))}\n",
    "\n",
    "def get_pop_color(pop_label):\n",
    "    return pop_color_map[pop_label]"
   ]
  },
  {
   "cell_type": "code",
   "execution_count": null,
   "metadata": {},
   "outputs": [],
   "source": [
    "def integrate_subband(freqs, vals, fband):\n",
    "    mask1 = (freqs >= fband[0]) & (freqs <= fband[1])\n",
    "    mask2 = np.isclose(freqs, fband[0], atol=0.1) | np.isclose(freqs, fband[1], atol=0.1)\n",
    "    fband_idx, = np.where(mask1 | mask2)\n",
    "    return np.sum(vals[fband_idx])"
   ]
  },
  {
   "cell_type": "markdown",
   "metadata": {},
   "source": [
    "# Sec 1 - Balance EXC/INH"
   ]
  },
  {
   "cell_type": "markdown",
   "metadata": {},
   "source": [
    "## S1: Firing Rates\n",
    "\n",
    "It is useful to plot firing rates to spot differences between the simulations that may underlie certain results."
   ]
  },
  {
   "cell_type": "code",
   "execution_count": null,
   "metadata": {},
   "outputs": [],
   "source": [
    "# Plot mean firing rates\n",
    "sweep_vals = np.array(sorted(analysis_results.keys()))\n",
    "\n",
    "fig, ax = plt.subplots(figsize=(0.8*page_width, ax_height))\n",
    "ax.set_title('Mean population firing rates ')\n",
    "plotted = []\n",
    "\n",
    "for pop in 'STN', 'GPE.proto', 'STR.MSN':\n",
    "    rates = [analysis_results[val]['mean_rate'][pop] for val in sweep_vals]\n",
    "    color = get_pop_color(pop)\n",
    "    plotted.extend(ax.plot(sweep_vals, rates, color=color, label=pop))\n",
    "    plotted.extend(ax.plot(sweep_vals, rates, color=color, marker='+'))\n",
    "\n",
    "# Plot experimental rates\n",
    "invivo_rates = {\n",
    "    'GPE.proto': {\n",
    "        'CTL.Rat': [32.4, 35.0], # Sleep-Act.Mallet2008\n",
    "        'DD.Rat': [13.6, 14.6], # Sleep-Act.Mallet2008\n",
    "    },\n",
    "    'STN': {\n",
    "        'CTL.Rat': [9.8, 16.6], # Sleep-Act.Mallet2008-Kita2011\n",
    "        'DD.Rat': [17.3, 37.4], # Sleep-Act.Mallet2008-Kita2011\n",
    "    }\n",
    "}\n",
    "for i, pop_label in enumerate(('STN', 'GPE.proto')):\n",
    "    for j, src_rates in enumerate(invivo_rates.get(pop_label, {}).items()):\n",
    "        label, bounds = src_rates\n",
    "        color = get_pop_color(pop_label)\n",
    "        line_kwargs = {'color': color, 'alpha': 0.2, 'linewidth': 1.0, \n",
    "                       'hatch': '\\\\' if label.startswith('DD') else '/',\n",
    "                       'label': '{} - {}'.format(pop_label, label)}\n",
    "        plotted.append(ax.fill_between(sweep_vals, bounds[0], bounds[1], **line_kwargs))\n",
    "        # ax.hlines(bounds, x0, x1, **line_kwargs)\n",
    "    \n",
    "# Axes & Legend\n",
    "ax.set_xlabel(sweep_var_legend)\n",
    "ax.set_ylabel('Population firing rate (Hz)')\n",
    "fig.subplots_adjust(bottom=0.15) # prevent clipped xlabel\n",
    "ax.set_xticks(sweep_vals)\n",
    "# # ax.set_xticklabels(sweep_vals)\n",
    "# # ax.set_yticks(np.arange(0, int(max(rates)+2), 5), minor=False)\n",
    "# # ax.set_yticks(np.arange(0, int(max(rates)+2), 1.0), minor=True)\n",
    "ax.grid(True, axis='y')\n",
    "ax.legend()\n",
    "\n",
    "# Plot legend in separate figure\n",
    "# fig, ax = plt.subplots()\n",
    "# fig.legend(plotted, [p.get_label() for p in plotted], loc='upper center', frameon=False)\n",
    "# ax.axis('off')"
   ]
  },
  {
   "cell_type": "code",
   "execution_count": null,
   "metadata": {},
   "outputs": [],
   "source": [
    "la = plotted[0]\n",
    "la.get_label()"
   ]
  },
  {
   "cell_type": "markdown",
   "metadata": {},
   "source": [
    "## S2: EXC/INH Currents\n",
    "\n",
    "It is useful to plot total synaptic input currents to spot differences between the simulations that may underlie certain results."
   ]
  },
  {
   "cell_type": "code",
   "execution_count": null,
   "metadata": {},
   "outputs": [],
   "source": [
    "# Plot mean firing rates\n",
    "sweep_vals = np.array(sorted(analysis_results.keys()))\n",
    "\n",
    "fig, ax = plt.subplots(figsize=(0.8*page_width, ax_height))\n",
    "ax.set_title('Balance of excitatory/inhibitory synaptic currents')\n",
    "\n",
    "for pop in 'STN', 'GPE.proto':\n",
    "    rates = [analysis_results[val]['I_exc_inh_ratio'][pop] for val in sweep_vals]\n",
    "    color = get_pop_color(pop)\n",
    "    ax.plot(sweep_vals, rates, color=color, label=pop)\n",
    "    ax.plot(sweep_vals, rates, color=color, marker='+')\n",
    "\n",
    "ax.set_xlabel(sweep_var_legend)\n",
    "ax.set_ylabel('Itot_exc / Itot_inh')\n",
    "fig.subplots_adjust(bottom=0.15) # prevent clipped xlabel\n",
    "\n",
    "\n",
    "ax.set_xticks(sweep_vals)\n",
    "ax.grid(True, axis='y')\n",
    "ax.legend()"
   ]
  },
  {
   "cell_type": "markdown",
   "metadata": {},
   "source": [
    "## S3: Afferent Currents\n",
    "\n",
    "Ratio of afferent currents for each population"
   ]
  },
  {
   "cell_type": "code",
   "execution_count": null,
   "metadata": {},
   "outputs": [],
   "source": [
    "def plot_afferent_currents(pop_label):\n",
    "    \"\"\"\n",
    "    Plot ratio of afferent currents as filled region under graph.\n",
    "    \"\"\"\n",
    "    if 'I_afferents' not in analysis_results.values()[0]:\n",
    "        print(\"Detailed afferent currents info not saved. Skipping plot.\")\n",
    "        return\n",
    "    \n",
    "    fig, ax = plt.subplots(figsize=(.75*page_width, 1.25*ax_height))\n",
    "    ax.set_title('{} total afferent currents'.format(pop_label))\n",
    "    leg_actors = [] # actors in figure that will get legend\n",
    "    \n",
    "    # Total current for each afferent as array for each sweep value\n",
    "    # NOTE: total only over sampled cells, not entire population\n",
    "    sweep_vals = np.array(sorted(analysis_results.keys()))\n",
    "    sweep_itot_data = [analysis_results[val]['I_afferents'][pop_label] for val in sweep_vals]\n",
    "    pops_sweep_itot = {aff: [] for aff in sweep_itot_data[0][0].keys() if aff not in ('EXC', 'INH')}\n",
    "    \n",
    "    itot_neg_cumul = np.zeros_like(sweep_vals)\n",
    "    itot_pos_cumul = np.zeros_like(sweep_vals)\n",
    "    itot_neg_lines = [itot_neg_cumul]\n",
    "    itot_pos_lines = [itot_pos_cumul]\n",
    "    itot_neg_vals = []\n",
    "    itot_pos_vals = []\n",
    "    \n",
    "    for pop in pops_sweep_itot.keys():\n",
    "        sweep_itot = np.array([sum((sum(cell_iaff[pop].values()) for cell_iaff in itot_data)) \n",
    "                                 for itot_data in sweep_itot_data])\n",
    "    \n",
    "        if sweep_itot.mean() > 0: # inhibitory current -> make negative\n",
    "            itot_neg_vals.append(sweep_itot)\n",
    "            itot_neg_lines.append(itot_neg_lines[-1] - sweep_itot)\n",
    "            ax.plot(sweep_vals, itot_neg_lines[-1], color='k')\n",
    "            actors = ax.fill_between(sweep_vals, itot_neg_lines[-2], itot_neg_lines[-1],\n",
    "                                     label=pop, alpha=0.5)\n",
    "        else:                    # excitatory current -> make positive\n",
    "            itot_pos_vals.append(sweep_itot)\n",
    "            itot_pos_lines.append(itot_pos_lines[-1] - sweep_itot)\n",
    "            ax.plot(sweep_vals, itot_pos_lines[-1], color='k')\n",
    "            actors = ax.fill_between(sweep_vals, itot_pos_lines[-2], itot_pos_lines[-1],\n",
    "                                     label=pop, alpha=0.5)\n",
    "        leg_actors.append(actors)\n",
    "    \n",
    "    # Center line\n",
    "    ax.plot(sweep_vals, itot_pos_lines[0], color='k')\n",
    "    \n",
    "    # Plot sum of all currents\n",
    "    itot_all_cumul = -np.sum(itot_pos_vals, axis=0) - np.sum(itot_neg_vals, axis=0)\n",
    "    leg_actors.extend(\n",
    "        ax.plot(sweep_vals, itot_all_cumul, 'r--', label='sum'))\n",
    "    \n",
    "    # Plot ratio\n",
    "    ax2 = ax.twinx()\n",
    "    itot_all_ratio = -np.sum(itot_pos_vals, axis=0) / np.sum(itot_neg_vals, axis=0)\n",
    "    leg_actors.extend(\n",
    "        ax2.plot(sweep_vals, itot_all_ratio, 'm--', label='ratio'))\n",
    "    ax2.set_ylabel('ratio $i_{EXC}$ / $i_{INH}$')\n",
    "    ratio_lim = np.abs(itot_all_ratio).max()\n",
    "    ax2.set_ylim((-1.1*ratio_lim, 1.1*ratio_lim))\n",
    "    \n",
    "    ax.set_xticks(sweep_vals)\n",
    "    ax.set_ylabel('current (nA)')\n",
    "    ax.set_xlabel(sweep_var_legend)\n",
    "    ax.grid(True)\n",
    "    ax.legend(leg_actors, [a.get_label() for a in leg_actors], loc='lower right')\n",
    "    fig.subplots_adjust(bottom=0.15) # prevent clipped xlabel"
   ]
  },
  {
   "cell_type": "code",
   "execution_count": null,
   "metadata": {},
   "outputs": [],
   "source": [
    "plot_afferent_currents('STN')\n",
    "plot_afferent_currents('GPE.proto')"
   ]
  },
  {
   "cell_type": "markdown",
   "metadata": {},
   "source": [
    "## 1A : PSD vs EXC/INH ratio"
   ]
  },
  {
   "cell_type": "markdown",
   "metadata": {},
   "source": [
    "### PSD 'sweep-gram'"
   ]
  },
  {
   "cell_type": "code",
   "execution_count": null,
   "metadata": {},
   "outputs": [],
   "source": [
    "def compare_psd_heatmap(sig_label, x_axis_equidistant=True, Pmax=None):\n",
    "    \"\"\"\n",
    "    Compare PSD across parameter sweep using heatmap visualization.\n",
    "    \n",
    "    @param  x_axis_equidistant : bool\n",
    "            If true, x axis will be spaces equidistanctly, and missing values\n",
    "            will be filled by black bands.\n",
    "    \"\"\"\n",
    "    \n",
    "    # Concatenate PSDs of different sweep values into matrix\n",
    "    test_freqs, test_psd = analysis_results.values()[0]['PSD'][sig_label]\n",
    "    freq_res = test_freqs[1] - test_freqs[0]\n",
    "    fmax = 100.0\n",
    "    nfreq = int(fmax/freq_res) + 1\n",
    "\n",
    "    # Sweep values may not be equidistantly spaced\n",
    "    sweep_vals = np.array(sorted(analysis_results.keys()))\n",
    "    d_sweep = min(np.diff(sweep_vals)) # resolution of sweep variable\n",
    "    sweep_axis_spaced = np.arange(sweep_vals.min(), sweep_vals.max()+d_sweep, d_sweep)\n",
    "    sweep_axis_full = list(sweep_axis_spaced)\n",
    "    for v in sweep_vals: # steps may miss actual values\n",
    "        if not np.any(np.isclose(v, sweep_axis_full)):\n",
    "            sweep_axis_full.append(v)\n",
    "    if x_axis_equidistant:\n",
    "        sweep_axis = np.array(sorted(sweep_axis_full))\n",
    "    else:\n",
    "        sweep_axis = sweep_vals\n",
    "\n",
    "    # Cronstruct image (heatmap) matrix\n",
    "    freq_axis = test_freqs[:nfreq]\n",
    "    sweep_psds = np.empty((nfreq, sweep_axis.size), dtype=float)\n",
    "    valid_columns = []\n",
    "    for sweep_value, results in analysis_results.iteritems():\n",
    "        # col_id = int((sweep_value - sweep_axis.min())/d_sweep)\n",
    "        col_id = np.where(np.isclose(sweep_value, sweep_axis))[0][0]\n",
    "        valid_columns.append(col_id)\n",
    "        freqs, psd = results['PSD'][sig_label]\n",
    "        sweep_psds[:, col_id] = psd.magnitude[:nfreq]\n",
    "\n",
    "    # Fill columns for missing sweep values with NaN\n",
    "    invalid_columns = [i for i in range(sweep_axis.size) if i not in valid_columns]\n",
    "    sweep_psds[:, invalid_columns] = np.nan\n",
    "    psd_sweep = np.ma.masked_array(sweep_psds, np.isnan(sweep_psds)) # mark invalid/missing data\n",
    "\n",
    "    # Draw heat map\n",
    "    cmap = plt.get_cmap('viridis') # e.g. jet, plasma: https://matplotlib.org/examples/color/colormaps_reference.html\n",
    "    cmap.set_bad(color='k') # color for masked values\n",
    "\n",
    "    fig, ax = plt.subplots(figsize=(0.8*page_width, ax_height))\n",
    "    sweep_plotaxis = np.concatenate((sweep_axis, [sweep_axis.max()+d_sweep])) # fix bug/feature in pcolormesh\n",
    "    plt.pcolormesh(sweep_plotaxis, freq_axis, psd_sweep, cmap=cmap)\n",
    "    if Pmax is not None:\n",
    "        plt.clim(0, Pmax)\n",
    "\n",
    "    # f_max = 50\n",
    "    # plt.ylim((0, f_max))\n",
    "    plt.colorbar()\n",
    "    \n",
    "    # cmap.set_bad('grey')\n",
    "    ax.set_xticks(sweep_axis + d_sweep/2.0) # otherwise they appear left of column\n",
    "    ax.set_xticklabels(['{:.2f}'.format(v) for v in sweep_axis])\n",
    "    ax.set_xlim((sweep_axis.min(), sweep_plotaxis.max()))\n",
    "    ax.set_yticks(np.arange(0,50,1), minor=True)\n",
    "    ax.set_yticks(np.arange(0,55,5), minor=False)\n",
    "    ax.set_ylim((0, 50))\n",
    "    # TODO: find out why one column doesn't show\n",
    "\n",
    "    plt.ylabel('frequency (Hz)')\n",
    "    plt.xlabel(sweep_var_legend)\n",
    "    plt.suptitle('Evolution of PSD ({})'.format(sig_label))\n",
    "    fig.subplots_adjust(bottom=0.15) # prevent clipped xlabel"
   ]
  },
  {
   "cell_type": "code",
   "execution_count": null,
   "metadata": {},
   "outputs": [],
   "source": [
    "compare_psd_heatmap('STN_Vm', False)\n",
    "compare_psd_heatmap('STN_Vm', False, Pmax=0.5)\n",
    "compare_psd_heatmap('GPE.proto_Vm', False)"
   ]
  },
  {
   "cell_type": "markdown",
   "metadata": {},
   "source": [
    "### [alt] PSDs superimposed"
   ]
  },
  {
   "cell_type": "code",
   "execution_count": null,
   "metadata": {},
   "outputs": [],
   "source": [
    "# Plot the PSD\n",
    "sig_label = 'STN_Vm'\n",
    "sweep_vals = np.array(sorted(analysis_results.keys()))\n",
    "\n",
    "# Sampling colors from linear scale:\n",
    "# https://stackoverflow.com/questions/8931268/using-colormaps-to-set-color-of-line-in-matplotlib\n",
    "cmap = plt.get_cmap('cool')\n",
    "\n",
    "# Line colors equidistantly on color scale, independent of sweep values\n",
    "line_colors = [cmap(x) for x in np.linspace(0, 1, len(analysis_results))]\n",
    "def get_line_color(sweep_val):\n",
    "    return cmap(float(sweep_val) / sweep_vals.max)\n",
    "\n",
    "# Linear map of sweep values to color scale\n",
    "cNorm  = matplotlib.colors.Normalize(vmin=sweep_vals[0], vmax=sweep_vals[-1])\n",
    "scalarMap = matplotlib.cm.ScalarMappable(norm=cNorm, cmap=cmap)\n",
    "def get_line_color(sweep_val):\n",
    "    return scalarMap.to_rgba(sweep_val)\n",
    "\n",
    "def compare_psd(sig_label, legend=False, colorbar=True, width=page_width, height=1.2*ax_height):\n",
    "    \"\"\" Plot PSD for given signal for each simulation / sweep variable. \"\"\"\n",
    "    if colorbar:\n",
    "        ncols = 2\n",
    "        # axes for colorbar must be smaller\n",
    "        subplot_kwargs = {'gridspec_kw': {'width_ratios':[20, 1]}}\n",
    "    else:\n",
    "        ncols = 1\n",
    "        subplot_kwargs = {}\n",
    "    \n",
    "    fig, axes = plt.subplots(1, ncols, figsize=(width, height), **subplot_kwargs)\n",
    "    if colorbar:\n",
    "        ax = axes[0]\n",
    "    else:\n",
    "        ax = axes\n",
    "    \n",
    "    # Plot PSD as line for  each sweep value\n",
    "    sweep_vals = np.array(sorted(analysis_results.keys()))\n",
    "    lines = []\n",
    "    for i, sweep_value in enumerate(sweep_vals):\n",
    "        results = analysis_results[sweep_value]\n",
    "        freqs, psd = results['PSD'][sig_label]\n",
    "        plotted = ax.plot(freqs, psd,\n",
    "                          color=get_line_color(sweep_value), \n",
    "                          label='{} = {}'.format(sweep_var_legend, sweep_value))\n",
    "        lines.extend(plotted)\n",
    "    \n",
    "    ax.set_ylabel('Power ({})'.format(psd.units))\n",
    "    ax.set_xlabel('frequency ({})'.format(freqs.units))\n",
    "    ax.set_xticks(np.arange(0,55,5), minor=False)\n",
    "    ax.set_xticks(np.arange(0,51,1), minor=True)\n",
    "    ax.grid(True)\n",
    "    ax.set_xlim((0, 35))\n",
    "    # ax.set_yscale('log')\n",
    "    ax.set_title('Welch PSD for {}'.format(sig_label))\n",
    "    if legend:\n",
    "        if len(sweep_vals) < 7:\n",
    "            ax.legend(loc='upper right', bbox_to_anchor=(1,1))\n",
    "        else:\n",
    "            lower = slice(7)\n",
    "            upper = slice(7, len(sweep_vals))\n",
    "            labels = ['{} = {}'.format(sweep_var_legend, v) for v in sweep_vals]\n",
    "            # 'loc' is corner of legend anchored to anchorpoint\n",
    "            # 'bbox_to_anchor' is location of anchorpoint on axis bounding box\n",
    "            leg1 = ax.legend(lines[lower], labels[lower], loc=1, bbox_to_anchor=(.82,1))\n",
    "            leg2 = ax.legend(lines[upper], labels[upper], loc=2, bbox_to_anchor=(.82,1))\n",
    "            ax.add_artist(leg1) # otherwise last legend is used\n",
    "    if colorbar:\n",
    "        ax = axes[1]\n",
    "        # https://matplotlib.org/api/_as_gen/matplotlib.pyplot.colorbar.html\n",
    "        cb = matplotlib.colorbar.ColorbarBase(ax, cmap=cmap, norm=cNorm, ticks=sweep_vals,\n",
    "                                              orientation='vertical')\n",
    "        cb.set_label(sweep_var_legend)\n",
    "    fig.subplots_adjust(bottom=0.15) # prevent clipped xlabel"
   ]
  },
  {
   "cell_type": "code",
   "execution_count": null,
   "metadata": {},
   "outputs": [],
   "source": [
    "compare_psd('STN_Vm')\n",
    "compare_psd('GPE.proto_Vm')"
   ]
  },
  {
   "cell_type": "markdown",
   "metadata": {},
   "source": [
    "### [alt] PSD sum (sub) beta bands\n",
    "\n",
    "Summed PSD power in different frequency bands."
   ]
  },
  {
   "cell_type": "code",
   "execution_count": null,
   "metadata": {},
   "outputs": [],
   "source": [
    "\n",
    "def psd_power_integrated(sig_label, f_band, detailed=True, independent='sweep', **kwargs):\n",
    "    \"\"\"\n",
    "    Linear regression of integrated composite coherence.\n",
    "    \n",
    "    @param    independent : str\n",
    "              Independent variable for plot x-axis and linear regression\n",
    "    \n",
    "    @param    x_label : str\n",
    "              label for independent variable\n",
    "    \n",
    "    @param    x_ticks : list(float)\n",
    "              Axes ticks for x-axis\n",
    "    \"\"\"\n",
    "    sweep_vals = np.array(sorted(analysis_results.keys()))\n",
    "    \n",
    "    all_Psum = []\n",
    "    for i, sweep_value in enumerate(sweep_vals):\n",
    "        f, Pxx = analysis_results[sweep_value]['PSD'][sig_label]\n",
    "        all_Psum.append(integrate_subband(f.magnitude, Pxx.magnitude, f_band))\n",
    "    \n",
    "    # Set independent variable for regression\n",
    "    if independent == 'sweep':\n",
    "        x = sweep_vals\n",
    "        x_label = sweep_var_legend\n",
    "        x_ticks = sweep_vals\n",
    "    elif independent.lower() == 'exc_inh_ratio':\n",
    "        x = np.array([analysis_results[val]['I_exc_inh_ratio'][pop] for val in sweep_vals])\n",
    "        x_label = '$I_{exc} / I_{inh}$'\n",
    "        x_ticks = kwargs.get('x_ticks', None)\n",
    "    elif independent == 'custom':\n",
    "        x = kwargs['x']\n",
    "        x_label = kwargs['x_label']\n",
    "        x_ticks = kwargs.get('x_ticks', None)\n",
    "    else:\n",
    "        raise ValueError(\"Argument <independent> must be either 'sweep', 'exc_inh_ratio', or 'custom'.\")\n",
    "    \n",
    "    # Linear regression\n",
    "    metric_name = 'Pxx'\n",
    "    y = np.array(all_Psum)\n",
    "    slope, intercept, r_value, p_value, std_err = scipy.stats.linregress(x, y)\n",
    "\n",
    "    # Detailed linear regression\n",
    "    if detailed:\n",
    "        data = pandas.DataFrame({'x': x, metric_name: y})\n",
    "        model = ols(\"{} ~ {}\".format(metric_name, 'x'), data).fit()\n",
    "        print(model.summary()) # summary2()\n",
    "\n",
    "    fig, ax = plt.subplots(figsize=(.75*page_width, 1.25*ax_height))\n",
    "    ax.set_title('{} : mean(PSD) between {} - {} Hz'.format(sig_label, f_band[0], f_band[1]))\n",
    "    ax.plot(x, y, 'o', color='g', label='original data')\n",
    "    ax.plot(x, intercept + slope*x, 'k--', label='linear fit')\n",
    "    if x_ticks is not None:\n",
    "        ax.set_xticks(x_ticks)\n",
    "    ax.set_ylabel('Power ($mV^2/Hz$)')\n",
    "    ax.set_xlabel(x_label)\n",
    "    ax.grid(True)\n",
    "    ax.text(.98, .05, '$R^2$ = {:.2f}\\n$p^r$ = {:f}'.format(r_value**2, p_value), \n",
    "            transform=ax.transAxes, ha='right')\n",
    "    fig.subplots_adjust(bottom=0.15) # prevent clipped xlabel\n",
    "    "
   ]
  },
  {
   "cell_type": "code",
   "execution_count": null,
   "metadata": {},
   "outputs": [],
   "source": [
    "psd_power_integrated('STN_Vm', [0.,12.], detailed=False)\n",
    "psd_power_integrated('STN_Vm', [6.,12.], detailed=False)\n",
    "psd_power_integrated('STN_Vm', [13., 20.], detailed=False)\n",
    "psd_power_integrated('STN_Vm', [20.,30.], detailed=False)\n",
    "\n",
    "psd_power_integrated('GPE.proto_Vm', [0.,12.], detailed=False)\n",
    "psd_power_integrated('GPE.proto_Vm', [6.,12.], detailed=False)\n",
    "psd_power_integrated('GPE.proto_Vm', [13., 20.], detailed=False)\n",
    "psd_power_integrated('GPE.proto_Vm', [20.,30.], detailed=False)"
   ]
  },
  {
   "cell_type": "markdown",
   "metadata": {},
   "source": [
    "### [alt] PSD sum around peak\n",
    "\n",
    "Sum PSD power in frequency bins around the peak."
   ]
  },
  {
   "cell_type": "code",
   "execution_count": null,
   "metadata": {},
   "outputs": [],
   "source": [
    "# SETPARAM: applied frequency of oscillatory bursts\n",
    "f_burst = 25.0\n",
    "psd_power_integrated('STN_Vm', [f_burst-2, f_burst+2], \n",
    "                     detailed=False, independent='exc_inh_ratio')\n",
    "psd_power_integrated('GPE.proto_Vm', [f_burst-2, f_burst+2],\n",
    "                     detailed=False, independent='exc_inh_ratio')"
   ]
  },
  {
   "cell_type": "code",
   "execution_count": null,
   "metadata": {},
   "outputs": [],
   "source": [
    "\n",
    "def psd_power_integrated(sig_label, f_band, detailed=True):\n",
    "    \"\"\"\n",
    "    Linear regression of integrated composite coherence.\n",
    "    \"\"\"\n",
    "    sweep_vals = np.array(sorted(analysis_results.keys()))\n",
    "    \n",
    "    all_Psum = []\n",
    "    for i, sweep_value in enumerate(sweep_vals):\n",
    "        f, Pxx = analysis_results[sweep_value]['PSD'][sig_label]\n",
    "        all_Psum.append(integrate_subband(f.magnitude, Pxx.magnitude, f_band))\n",
    "    \n",
    "    # Linear regression\n",
    "    metric_name = 'Pxx'\n",
    "    x = sweep_vals\n",
    "    y = np.array(all_Psum)\n",
    "    slope, intercept, r_value, p_value, std_err = scipy.stats.linregress(x, y)\n",
    "\n",
    "    # Detailed linear regression\n",
    "    if detailed:\n",
    "        data = pandas.DataFrame({'x': x, metric_name: y})\n",
    "        model = ols(\"{} ~ {}\".format(metric_name, 'x'), data).fit()\n",
    "        print(model.summary()) # summary2()\n",
    "\n",
    "    fig, ax = plt.subplots(figsize=(.75*page_width, 1.25*ax_height))\n",
    "    ax.set_title('{} : mean(PSD) between {} - {} Hz'.format(sig_label, f_band[0], f_band[1]))\n",
    "    ax.plot(x, y, 'o', color='g', label='original data')\n",
    "    ax.plot(x, intercept + slope*x, 'k--', label='linear fit')\n",
    "    ax.set_xticks(sweep_vals)\n",
    "    ax.set_ylabel('Power ($mV^2/Hz$)')\n",
    "    ax.set_xlabel(sweep_var_legend)\n",
    "    ax.grid(True)\n",
    "    ax.text(.98, .05, '$R^2$ = {:.2f}\\n$p^r$ = {:f}'.format(r_value**2, p_value), \n",
    "            transform=ax.transAxes, ha='right')\n",
    "    fig.subplots_adjust(bottom=0.15) # prevent clipped xlabel\n",
    "    "
   ]
  },
  {
   "cell_type": "markdown",
   "metadata": {},
   "source": [
    "### [alt] PSD Beta peak\n",
    "\n",
    "Find frequency of largest peak within Beta range."
   ]
  },
  {
   "cell_type": "code",
   "execution_count": null,
   "metadata": {},
   "outputs": [],
   "source": [
    "def compare_Pmax_frequency(sig_labels, fband):\n",
    "    \"\"\"\n",
    "    Find frequency of largest peak within Beta range.\n",
    "    \"\"\"\n",
    "    fig, ax = plt.subplots(figsize=(0.75*page_width, ax_height))\n",
    "    ax.set_title('frequency of Pmax in {} - {} Hz'.format(fband[0], fband[1]))\n",
    "    \n",
    "    sweep_vals = np.array(sorted(analysis_results.keys()))\n",
    "    \n",
    "    colors = 'bgcm'\n",
    "    for i, sig_label in enumerate(sig_labels):\n",
    "        freqs_Pmax = []\n",
    "        for sweep_value in sweep_vals:\n",
    "            f, Pxx = analysis_results[sweep_value]['PSD'][sig_label]\n",
    "            \n",
    "            # Calculate frequency of Pmax\n",
    "            freqs = f.magnitude\n",
    "            mask1 = (freqs >= fband[0]) & (freqs <= fband[1])\n",
    "            mask2 = np.isclose(freqs, fband[0], atol=0.1) | np.isclose(freqs, fband[1], atol=0.1)\n",
    "            fband_mask = mask1 | mask2\n",
    "            Pxx_fband = Pxx[fband_mask]\n",
    "            freqs_fband = freqs[fband_mask]\n",
    "            f_pmax = freqs_fband[Pxx_fband == Pxx_fband.max()][0]\n",
    "            freqs_Pmax.append(f_pmax)\n",
    "        \n",
    "        # Plot frequencies\n",
    "        ax.plot(sweep_vals, freqs_Pmax, '-', \n",
    "                color=get_pop_color(sig_label[:-3]), \n",
    "                label=\"$f_{Pmax}$\" + \" ({sig})\".format(sig=sig_label))\n",
    "        ax.plot(sweep_vals, freqs_Pmax, 'r+')\n",
    "\n",
    "    ax.set_xticks(sweep_vals)\n",
    "    ax.set_ylabel('frequency (Hz)')\n",
    "    ax.set_xlabel(sweep_var_legend)\n",
    "    ax.grid(True)\n",
    "    ax.legend()\n",
    "    fig.subplots_adjust(bottom=0.15) # prevent clipped xlabel"
   ]
  },
  {
   "cell_type": "code",
   "execution_count": null,
   "metadata": {},
   "outputs": [],
   "source": [
    "compare_Pmax_frequency(('STN_Vm', 'GPE.proto_Vm'), (13., 30.))"
   ]
  },
  {
   "cell_type": "markdown",
   "metadata": {},
   "source": [
    "### [alt] max spectrogram peak\n",
    "\n",
    "Note that this might give a different picture than comparing simulations with PSD alone: a simulation with periodic synchronization may have higher transient peaks, whereas the PSD (average over time) is lower."
   ]
  },
  {
   "cell_type": "code",
   "execution_count": null,
   "metadata": {},
   "outputs": [],
   "source": [
    "# (freqs[0:int(50/df)], t, Sxx[:,0:int(50/df)])\n",
    "# Syy = Sxx[:, int(5000.0/t_res):]\n",
    "\n",
    "# set temporal resolution of PSD from value in synchrony_analysis_auto.ipynb\n",
    "# t_res = 20.0 # ms\n",
    "\n",
    "def compare_max_spectrogram(sig_label, band=(4.0, 30.0), t_start=5000.0):\n",
    "    \"\"\" Plot magnitude of largest spectrogram peak \"\"\"\n",
    "    fig, ax = plt.subplots(figsize=(0.75*page_width, ax_height))\n",
    "    sweep_vals = np.array(sorted(analysis_results.keys()))\n",
    "    sweep_power = []\n",
    "    for i, sweep_value in enumerate(sweep_vals):\n",
    "        results = analysis_results[sweep_value]\n",
    "        freqs, t, Sxx = results['spectrogram'][sig_label]\n",
    "        # only look at power in sub-band\n",
    "        df = freqs[1] - freqs[0]\n",
    "        f_slice = np.s_[int(band[0]/df):(int(band[1]/df)+1)]\n",
    "        # first 5000 ms already cut when saving\n",
    "        # dt = t[1] - t[0]\n",
    "        # t_slice = np.s_[int(t_start/dt):]\n",
    "        t_slice = np.s_[:]\n",
    "        S_max = Sxx[f_slice, t_slice].max()\n",
    "        sweep_power.append(S_max)\n",
    "    \n",
    "    ax.plot(sweep_vals, sweep_power, '-')\n",
    "    ax.plot(sweep_vals, sweep_power, 'r+')\n",
    "    # ax.set_xticks(np.arange(0,5*(sweep_vals.max()//5+1),5), minor=False)\n",
    "    # ax.set_xticks(np.arange(0,1*(sweep_vals.max()//1+1),1), minor=True)\n",
    "    # ax.set_xlim((0, 50))\n",
    "    ax.set_ylim((0, 1.1*max(sweep_power)))\n",
    "    ax.set_ylabel('Power (mV^2/Hz)')\n",
    "    ax.set_xlabel(sweep_var_legend)\n",
    "    ax.grid(True)\n",
    "    ax.set_title('Spectrogram max peak ({})'.format(sig_label))\n",
    "    fig.subplots_adjust(bottom=0.15) # prevent clipped xlabel"
   ]
  },
  {
   "cell_type": "code",
   "execution_count": null,
   "metadata": {},
   "outputs": [],
   "source": [
    "# compare_max_spectrogram('STN_Vm')\n",
    "# compare_max_spectrogram('GPE_Vm')"
   ]
  },
  {
   "cell_type": "markdown",
   "metadata": {},
   "source": [
    "## 1B: Burst Metrics"
   ]
  },
  {
   "cell_type": "code",
   "execution_count": null,
   "metadata": {},
   "outputs": [],
   "source": [
    "\n",
    "def gather_metrics(all_cell_metrics, metric):\n",
    "    \"\"\"\n",
    "    Gather burst metric from all cells into a list\n",
    "    \"\"\"\n",
    "    if isinstance(all_cell_metrics[0][metric], float):\n",
    "        map_func = lambda x,y: x + [y]\n",
    "    else:\n",
    "        map_func = lambda x,y: x + y\n",
    "    all_cell_vals = reduce(map_func, (cell_metrics[metric] for cell_metrics in all_cell_metrics), [])\n",
    "    return all_cell_vals\n",
    "\n",
    "\n",
    "def compare_burst_metrics(pop_label, metric_names=None):\n",
    "    \"\"\"\n",
    "    Compare burst metrics for same population across sweep values\n",
    "    \"\"\"\n",
    "    sweep_vals = np.array(sorted(analysis_results.keys()))\n",
    "    if metric_names == None:\n",
    "        metric_names = analysis_results[sweep_vals[0]]['burst_metrics'][pop_label][0].keys()\n",
    "    \n",
    "    sweep_metrics = {}\n",
    "    for metric_name in metric_names:\n",
    "        for i, sweep_value in enumerate(sweep_vals):\n",
    "            cell_metrics = analysis_results[sweep_value]['burst_metrics'][pop_label]\n",
    "            all_cell_vals = gather_metrics(cell_metrics, metric_name)\n",
    "            sweep_metrics.setdefault(metric_name, []).append(all_cell_vals)\n",
    "    \n",
    "        # Plot boxplots\n",
    "        fig, ax = plt.subplots(figsize=(0.75*page_width, ax_height))\n",
    "        ax.set_title('{} {}'.format(pop_label, metric_name))\n",
    "        bp = ax.boxplot(sweep_metrics[metric_name], 0, 'g+')\n",
    "        ax.set_xticklabels(sweep_vals)\n",
    "        ax.set_ylim((0, ax.get_ylim()[1]))\n",
    "        ax.set_ylabel(metric_name)\n",
    "        ax.set_xlabel(sweep_var_legend)\n",
    "        ax.grid(True, which='major', axis='y')\n",
    "        fig.subplots_adjust(bottom=0.15) # prevent clipped xlabel\n",
    "\n",
    "\n",
    "def regression_burst_metrics(pop_label, metric_names=None, detailed=True):\n",
    "    \"\"\"\n",
    "    Linear regression of burst metrics vs sweep variable.\n",
    "    \"\"\"\n",
    "    sweep_vals = np.array(sorted(analysis_results.keys()))\n",
    "    if metric_names == None:\n",
    "        metric_names = analysis_results[sweep_vals[0]]['burst_metrics'][pop_label][0].keys()\n",
    "    \n",
    "    sweep_metrics = {}\n",
    "    for metric_name in metric_names:\n",
    "        for i, sweep_value in enumerate(sweep_vals):\n",
    "            cell_metrics = analysis_results[sweep_value]['burst_metrics'][pop_label]\n",
    "            all_cell_vals = gather_metrics(cell_metrics, metric_name)\n",
    "            sweep_metrics.setdefault(metric_name, []).append(all_cell_vals)\n",
    "        \n",
    "        # Linear regression\n",
    "        x = sweep_vals\n",
    "        y = [np.median(mvals) for mvals in sweep_metrics[metric_name]]\n",
    "        slope, intercept, r_value, p_value, std_err = scipy.stats.linregress(x, y)\n",
    "        \n",
    "        # Detailed linear regression\n",
    "        if detailed:\n",
    "            data = pandas.DataFrame({'x': x, metric_name: y})\n",
    "            model = ols(\"{} ~ {}\".format(metric_name, 'x'), data).fit()\n",
    "            print(model.summary()) # summary2()\n",
    "        \n",
    "        fig, ax = plt.subplots(figsize=(0.75*page_width, 1.5*ax_height))\n",
    "        ax.set_title('{} {}'.format(pop_label, metric_name))\n",
    "        ax.set_xticks(sweep_vals)\n",
    "        ax.plot(x, y, 'o', color='g', label='original data')\n",
    "        ax.plot(x, intercept + slope*x, 'k--', label='linear fit')\n",
    "        ax.set_ylabel(metric_name)\n",
    "        ax.set_xlabel(sweep_var_legend)\n",
    "        ax.grid(True)\n",
    "        ax.text(.98, .05, '$R^2$ = {:.2f}\\n$p^r$ = {:f}'.format(r_value**2, p_value), \n",
    "                transform=ax.transAxes, ha='right')\n",
    "        fig.subplots_adjust(bottom=0.15) # prevent clipped xlabel\n",
    "    "
   ]
  },
  {
   "cell_type": "markdown",
   "metadata": {},
   "source": [
    "### STN Boxplots of Burst Metrics\n",
    "\n",
    "One boxplot per sweep variable."
   ]
  },
  {
   "cell_type": "code",
   "execution_count": null,
   "metadata": {},
   "outputs": [],
   "source": [
    "compare_burst_metrics('STN')"
   ]
  },
  {
   "cell_type": "markdown",
   "metadata": {},
   "source": [
    "### GPE Boxplots of Burst Metrics\n",
    "\n",
    "One boxplot per sweep variable."
   ]
  },
  {
   "cell_type": "code",
   "execution_count": null,
   "metadata": {},
   "outputs": [],
   "source": [
    "compare_burst_metrics('GPE.proto')"
   ]
  },
  {
   "cell_type": "markdown",
   "metadata": {},
   "source": [
    "### [alt] STN Regression Burst metrics\n",
    "\n",
    "Linear regression & Pearson correlation."
   ]
  },
  {
   "cell_type": "code",
   "execution_count": null,
   "metadata": {},
   "outputs": [],
   "source": [
    "regression_burst_metrics('STN', detailed=False)"
   ]
  },
  {
   "cell_type": "markdown",
   "metadata": {},
   "source": [
    "### [alt] GPE Regression Burst metrics\n",
    "\n",
    "Linear regression & Pearson correlation."
   ]
  },
  {
   "cell_type": "code",
   "execution_count": null,
   "metadata": {},
   "outputs": [],
   "source": [
    "regression_burst_metrics('GPE.proto', detailed=False)"
   ]
  },
  {
   "cell_type": "markdown",
   "metadata": {},
   "source": [
    "## 1C: Population Synchronization"
   ]
  },
  {
   "cell_type": "code",
   "execution_count": null,
   "metadata": {},
   "outputs": [],
   "source": [
    "def composite_coherence_integrated(pops, f_band, detailed=True):\n",
    "    \"\"\"\n",
    "    Linear regression of integrated composite coherence.\n",
    "    \"\"\"\n",
    "    sweep_vals = np.array(sorted(analysis_results.keys()))\n",
    "    if len(pops) > 1:\n",
    "        pop_a, pop_b = pops\n",
    "        key = '{}-{}'.format(pop_a, pop_b)\n",
    "    else:\n",
    "        key = pops[0]\n",
    "    \n",
    "    all_Cxy_sum = []\n",
    "    for i, sweep_value in enumerate(sweep_vals):\n",
    "        coherence = analysis_results[sweep_value]['coherence_composite'][key]\n",
    "        f, Cxy = coherence[0], coherence[1]\n",
    "        Csum = integrate_subband(f, Cxy, f_band)\n",
    "        all_Cxy_sum.append(Csum)\n",
    "    \n",
    "    # Linear regression\n",
    "    metric_name = 'Cxy_sum'\n",
    "    x = sweep_vals\n",
    "    y = np.array(all_Cxy_sum)\n",
    "    slope, intercept, r_value, p_value, std_err = scipy.stats.linregress(x, y)\n",
    "\n",
    "    # Detailed linear regression\n",
    "    if detailed:\n",
    "        data = pandas.DataFrame({'x': x, metric_name: y})\n",
    "        model = ols(\"{} ~ {}\".format(metric_name, 'x'), data).fit()\n",
    "        print(model.summary()) # summary2()\n",
    "\n",
    "    fig, ax = plt.subplots(figsize=(.75*page_width, 1.25*ax_height))\n",
    "    ax.set_title('{} Composite spiketrain coherence ({} - {} Hz)'.format(key, f_band[0], f_band[1]))\n",
    "    ax.plot(x, y, 'o', color='g', label='original data')\n",
    "    ax.plot(x, intercept + slope*x, 'k--', label='linear fit')\n",
    "    ax.set_xticks(sweep_vals)\n",
    "    ax.set_ylabel(metric_name)\n",
    "    ax.set_xlabel(sweep_var_legend)\n",
    "    ax.grid(True)\n",
    "    ax.text(.98, .05, '$R^2$ = {:.2f}\\n$p^r$ = {:f}'.format(r_value**2, p_value), \n",
    "            transform=ax.transAxes, ha='right')\n",
    "    fig.subplots_adjust(bottom=0.15) # prevent clipped xlabel"
   ]
  },
  {
   "cell_type": "markdown",
   "metadata": {},
   "source": [
    "### STN-GPe Composite Coherence\n",
    "\n",
    "Integrated coherence in 13-30 Hz frequency band."
   ]
  },
  {
   "cell_type": "code",
   "execution_count": null,
   "metadata": {},
   "outputs": [],
   "source": [
    "# composite_coherence_integrated('STN', 'GPE.proto', [13.,30.], detailed=False)\n",
    "composite_coherence_integrated(('STN', 'GPE.proto'), [0.,12.], detailed=False)\n",
    "composite_coherence_integrated(('STN', 'GPE.proto'), [13.,30.], detailed=False)\n",
    "composite_coherence_integrated(('STN', 'GPE.proto'), [13.,20.], detailed=False)\n",
    "composite_coherence_integrated(('STN', 'GPE.proto'), [20.,30.], detailed=False)"
   ]
  },
  {
   "cell_type": "markdown",
   "metadata": {},
   "source": [
    "### STN Composite Coherence\n",
    "\n",
    "Integrated coherence in 13-30 Hz frequency band."
   ]
  },
  {
   "cell_type": "code",
   "execution_count": null,
   "metadata": {},
   "outputs": [],
   "source": [
    "# composite_coherence_integrated('STN', 'GPE.proto', [13.,30.], detailed=False)\n",
    "composite_coherence_integrated(('STN',), [0.,12.], detailed=False)\n",
    "composite_coherence_integrated(('STN',), [13.,30.], detailed=False)\n",
    "composite_coherence_integrated(('STN',), [13.,20.], detailed=False)\n",
    "composite_coherence_integrated(('STN',), [20.,30.], detailed=False)"
   ]
  },
  {
   "cell_type": "markdown",
   "metadata": {},
   "source": [
    "### GPE Composite Coherence\n",
    "\n",
    "Integrated coherence in 13-30 Hz frequency band."
   ]
  },
  {
   "cell_type": "code",
   "execution_count": null,
   "metadata": {},
   "outputs": [],
   "source": [
    "# composite_coherence_integrated('STN', 'GPE.proto', [13.,30.], detailed=False)\n",
    "composite_coherence_integrated(('GPE.proto',), [0.,12.], detailed=False)\n",
    "composite_coherence_integrated(('GPE.proto',), [13.,30.], detailed=False)\n",
    "composite_coherence_integrated(('GPE.proto',), [13.,20.], detailed=False)\n",
    "composite_coherence_integrated(('GPE.proto',), [20.,30.], detailed=False)"
   ]
  },
  {
   "cell_type": "markdown",
   "metadata": {},
   "source": [
    "### [alt] STN Covariance Complexity"
   ]
  },
  {
   "cell_type": "code",
   "execution_count": null,
   "metadata": {},
   "outputs": [],
   "source": [
    "def compare_covariance_complexity(sig_label, detailed=False):\n",
    "    \"\"\"\n",
    "    Compare distribution of Morgera-index values for time segments \n",
    "    in simulation.\n",
    "    \"\"\"\n",
    "    sweep_vals = np.array(sorted(analysis_results.keys()))\n",
    "    M_datasets = []\n",
    "    M_intervals = []\n",
    "    for i, sweep_value in enumerate(sweep_vals):\n",
    "        t, M = analysis_results[sweep_value]['Morgera_index'][sig_label]\n",
    "        M_datasets.append(M)\n",
    "        M_intervals.append(t)\n",
    "\n",
    "    M_array = np.array(M_datasets)\n",
    "    mean_M = np.mean(M_array, axis=1)\n",
    "    std_M = np.std(M_array, axis=1)\n",
    "    med_M = np.median(M_array, axis=1)\n",
    "    ival_width = M_intervals[0][0][1] - M_intervals[0][0][0]\n",
    "    \n",
    "    # Plot boxplots\n",
    "    fig, ax = plt.subplots(figsize=(0.75*page_width, ax_height))\n",
    "    ax.set_title('Covariance complexity over {} ms intervals'.format(ival_width))\n",
    "    bp = ax.boxplot(M_datasets, 0, 'g+')\n",
    "    ax.set_xticklabels(sweep_vals)\n",
    "    # ax.set_ylim((0, 1))\n",
    "    ax.set_ylabel('M (0-1)')\n",
    "    ax.set_xlabel(sweep_var_legend)\n",
    "    ax.grid(True, which='major', axis='y')\n",
    "    fig.subplots_adjust(bottom=0.15) # prevent clipped xlabel\n",
    "    \n",
    "    # Linear regression\n",
    "    metric_name = 'M'\n",
    "    x = sweep_vals\n",
    "    y = med_M\n",
    "    slope, intercept, r_value, p_value, std_err = scipy.stats.linregress(x, y)\n",
    "\n",
    "    # Detailed linear regression\n",
    "    if detailed:\n",
    "        data = pandas.DataFrame({'x': x, metric_name: y})\n",
    "        model = ols(\"{} ~ {}\".format(metric_name, 'x'), data).fit()\n",
    "        print(model.summary()) # summary2()\n",
    "\n",
    "    # Plot linear regression\n",
    "    fig, ax = plt.subplots(figsize=(.75*page_width, 1.25*ax_height))\n",
    "    ax.set_title('Median covariance complexity over {} ms intervals'.format(ival_width))\n",
    "    ax.plot(x, y, 'o', color='g', label='original data')\n",
    "    ax.plot(x, intercept + slope*x, 'k--', label='linear fit')\n",
    "    ax.set_xticks(sweep_vals)\n",
    "    ax.set_ylabel('M (0-1)')\n",
    "    ax.set_xlabel(sweep_var_legend)\n",
    "    ax.grid(True)\n",
    "    ax.text(.98, .05, '$R^2$ = {:.2f}\\n$p^r$ = {:f}'.format(r_value**2, p_value), \n",
    "            transform=ax.transAxes, ha='right')\n",
    "    fig.subplots_adjust(bottom=0.15) # prevent clipped xlabel"
   ]
  },
  {
   "cell_type": "code",
   "execution_count": null,
   "metadata": {},
   "outputs": [],
   "source": [
    "compare_covariance_complexity('STN_Vm')"
   ]
  },
  {
   "cell_type": "markdown",
   "metadata": {},
   "source": [
    "### [alt] GPE Covariance Complexity"
   ]
  },
  {
   "cell_type": "code",
   "execution_count": null,
   "metadata": {},
   "outputs": [],
   "source": [
    "compare_covariance_complexity('GPE.proto_Vm')"
   ]
  },
  {
   "cell_type": "markdown",
   "metadata": {},
   "source": [
    "## 1C : Phase Locking Strength\n",
    "\n",
    "Phase locking to input burst frequency. \n",
    "\n",
    "**Guidelines**: Notebooks must be executed with time segment containing Beta inputs and correct filtering settings (around Beta frequency)."
   ]
  },
  {
   "cell_type": "code",
   "execution_count": null,
   "metadata": {},
   "outputs": [],
   "source": [
    "def compare_phases_polar(pop_label):\n",
    "    \"\"\"\n",
    "    Compare population phase vectors across simulations (sweep values)\n",
    "    by plotting a polar plot for each simulation.\n",
    "    \"\"\"\n",
    "    fig = plt.figure(figsize=(0.75*page_width, 0.75*page_width))\n",
    "    fig.suptitle('Mean angle and vector length of {} neurons'.format(pop_label))\n",
    "    # fig.suptitle(sweep_var_legend, color='blue', x=0.5, y=0.02)\n",
    "    \n",
    "    nplot = len(sweep_vals)\n",
    "    ncol = 3\n",
    "    nrow = int(np.ceil(float(nplot) / ncol))\n",
    "    \n",
    "    all_cell_vecs = [analysis_results[val]['cell_phase_vecs'][pop_label] for val in sweep_vals]\n",
    "    all_pop_vecs = [analysis_results[val]['pop_phase_vecs'][pop_label] for val in sweep_vals]\n",
    "    \n",
    "    for i, sweep_val in enumerate(sweep_vals):\n",
    "        cell_vecs = all_cell_vecs[i]\n",
    "        pop_vec = all_pop_vecs[i]\n",
    "        \n",
    "        vec_angs = np.angle(cell_vecs)\n",
    "        vec_lens = np.abs(cell_vecs)\n",
    "        rmax = 0.5 # (vec_lens.max() // 0.1 + 1) * 0.1\n",
    "        \n",
    "        ax = fig.add_subplot(nrow, ncol, i+1, projection='polar')\n",
    "        ax.set_title('{}'.format(sweep_val), color='blue', loc='left', ha='left')\n",
    "        \n",
    "        ax.vlines(vec_angs, 0, vec_lens, color='g', linewidth=1, snap=True)\n",
    "        ax.vlines(np.angle(pop_vec), 0, np.abs(pop_vec), color='r', linewidth=3)\n",
    "        ax.plot(vec_angs, np.zeros_like(vec_angs)+rmax, 'go', markersize=5)\n",
    "\n",
    "        ax.grid(True)\n",
    "        ax.set_rticks(np.arange(0.1, 1.1, 0.1)) # less radial ticks\n",
    "        ax.set_rmax(rmax)\n",
    "        # ax.set_rlabel_position(-90.0)  # Move radial labels away from plotted line\n",
    "\n",
    "\n",
    "def regress_vector_length(pop_label, detailed=True):\n",
    "    \"\"\"\n",
    "    Linear regression of population vector length.\n",
    "    \"\"\"\n",
    "    sweep_vals = np.array(sorted(analysis_results.keys()))\n",
    "    all_pop_vecs = np.array([analysis_results[val]['pop_phase_vecs'][pop_label] for val in sweep_vals])\n",
    "    all_vec_len = np.abs(all_pop_vecs)\n",
    "    \n",
    "    # Linear regression\n",
    "    metric_name = 'vec_len'\n",
    "    x = sweep_vals\n",
    "    y = all_vec_len\n",
    "    slope, intercept, r_value, p_value, std_err = scipy.stats.linregress(x, y)\n",
    "\n",
    "    # Detailed linear regression\n",
    "    if detailed:\n",
    "        data = pandas.DataFrame({'x': x, metric_name: y})\n",
    "        model = ols(\"{} ~ {}\".format(metric_name, 'x'), data).fit()\n",
    "        print(model.summary()) # summary2()\n",
    "\n",
    "    fig, ax = plt.subplots(figsize=(.75*page_width, 1.25*ax_height))\n",
    "    ax.set_title('{} phase vector length'.format(pop_label))\n",
    "    ax.plot(x, y, 'o', color='g', label='original data')\n",
    "    ax.plot(x, intercept + slope*x, 'k--', label='linear fit')\n",
    "    ax.set_xticks(sweep_vals)\n",
    "    ax.set_ylabel('length (0-1)')\n",
    "    ax.set_xlabel(sweep_var_legend)\n",
    "    ax.grid(True)\n",
    "    ax.text(.98, .05, '$R^2$ = {:.2f}\\n$p^r$ = {:f}'.format(r_value**2, p_value), \n",
    "            transform=ax.transAxes, ha='right')\n",
    "    fig.subplots_adjust(bottom=0.15) # prevent clipped xlabel\n",
    "\n",
    "    \n",
    "def vector_angle_difference(pop_a, pop_b):\n",
    "    \"\"\"\n",
    "    Plot difference in angle of the population vector.\n",
    "    \"\"\"\n",
    "    sweep_vals = np.array(sorted(analysis_results.keys()))\n",
    "    pops = pop_a, pop_b\n",
    "    \n",
    "    pops_vecs = [np.array([analysis_results[val]['pop_phase_vecs'][pop] for val in sweep_vals])\n",
    "                    for pop in pops]\n",
    "    pops_angles = [np.angle(vecs, deg=False) for vecs in pops_vecs]\n",
    "    pops_veclens = [np.abs(vecs) for vecs in pops_vecs]\n",
    "    pop_angles_diffs = np.unwrap((pops_angles[1] - pops_angles[0]) % (2*np.pi)) * 180/np.pi\n",
    "     \n",
    "    fig, ax = plt.subplots(figsize=(.75*page_width, 1.25*ax_height))\n",
    "    ax.set_title('{}-{} mean phase difference'.format(pop_b, pop_a))\n",
    "    \n",
    "    # Plot angle difference on left axis\n",
    "    ax.plot(sweep_vals, pop_angles_diffs, 'o', color='blue', label='$\\Delta\\phi$')\n",
    "    ax.plot(sweep_vals, pop_angles_diffs, '-', color='blue', linewidth=1.0)\n",
    "    ax.set_ylim((0, max(90, pop_angles_diffs.max()*1.1)))\n",
    "    ax.set_ylabel('angle (degrees)')\n",
    "    ax.legend(loc='upper left')\n",
    "    \n",
    "    # Plot vector lengths on right axis\n",
    "    ax2 = ax.twinx()\n",
    "    for i, pop in enumerate(pops):\n",
    "        ax2.plot(sweep_vals, pops_veclens[i], color=get_pop_color(pop), label='|{}|'.format(pop))\n",
    "    ax2.set_ylabel('length (0-1)')\n",
    "    ax2.legend(loc='upper right')\n",
    "    ax2.set_ylim((0, max(0.5, 1.1*max(lens.max() for lens in pops_veclens))))\n",
    "    \n",
    "    ax.set_xticks(sweep_vals)\n",
    "    ax.set_xlabel(sweep_var_legend)\n",
    "    ax.grid(True)\n",
    "    fig.subplots_adjust(bottom=0.15) # prevent clipped xlabel"
   ]
  },
  {
   "cell_type": "markdown",
   "metadata": {},
   "source": [
    "### STN Vector Length\n",
    "\n",
    "Vector length measure: strength of phase locking to Beta input."
   ]
  },
  {
   "cell_type": "code",
   "execution_count": null,
   "metadata": {},
   "outputs": [],
   "source": [
    "compare_phases_polar('STN')\n",
    "regress_vector_length('STN', detailed=False)"
   ]
  },
  {
   "cell_type": "markdown",
   "metadata": {},
   "source": [
    "### GPE Vector Length\n",
    "\n",
    "Vector length measure: strength of phase locking to Beta input."
   ]
  },
  {
   "cell_type": "code",
   "execution_count": null,
   "metadata": {},
   "outputs": [],
   "source": [
    "compare_phases_polar('GPE.proto')\n",
    "regress_vector_length('GPE.proto', detailed=False)"
   ]
  },
  {
   "cell_type": "markdown",
   "metadata": {},
   "source": [
    "### STN-GPE Angle vs Length"
   ]
  },
  {
   "cell_type": "code",
   "execution_count": null,
   "metadata": {},
   "outputs": [],
   "source": [
    "# TODO take population vector angle module 360, plot on one axis, plot vector length and psd power on another axis\n",
    "vector_angle_difference('STN', 'GPE.proto')"
   ]
  },
  {
   "cell_type": "markdown",
   "metadata": {},
   "source": [
    "### [alt] : magnitude PSD @ f_burst\n",
    "PSD peak magnitude at frequency of applied cortical bursting inputs."
   ]
  },
  {
   "cell_type": "code",
   "execution_count": null,
   "metadata": {},
   "outputs": [],
   "source": [
    "def compare_psd_magnitude(sig_label, input_freqs):\n",
    "    \"\"\"\n",
    "    Plot PSD magnitude at frequency of applied cortical bursting\n",
    "    \"\"\"\n",
    "    fig, ax = plt.subplots(figsize=(0.75*page_width, ax_height))\n",
    "    sweep_vals = np.array(sorted(analysis_results.keys()))\n",
    "    sweep_power = []\n",
    "    for i, sweep_value in enumerate(sweep_vals):\n",
    "        results = analysis_results[sweep_value]\n",
    "        freqs, psd = results['PSD'][sig_label]\n",
    "        freq_axis = freqs.magnitude\n",
    "        f_input = input_freqs[i]\n",
    "        i_entrain, = np.where(freq_axis == f_input)\n",
    "        p_entrain = psd[i_entrain[0]]\n",
    "        sweep_power.append(p_entrain)\n",
    "    \n",
    "    ax.plot(sweep_vals, sweep_power, '-')\n",
    "    ax.plot(sweep_vals, sweep_power, 'r+')\n",
    "    vmin, vmax = sweep_vals.min(), sweep_vals.max()\n",
    "    ax.set_xticks(sweep_vals)\n",
    "    # ax.set_xticks(np.arange(vmin, vmax, ticks_dx), minor=False)\n",
    "    # ax.set_xlim((0, 50))\n",
    "    ax.set_ylabel('Power ({})'.format(psd.units))\n",
    "    ax.set_xlabel(sweep_var_legend)\n",
    "    ax.grid(True)\n",
    "    ax.set_title('PSD @ f_input ({})'.format(sig_label))"
   ]
  },
  {
   "cell_type": "code",
   "execution_count": null,
   "metadata": {},
   "outputs": [],
   "source": [
    "%%skip $without_ctx_bursting\n",
    "\n",
    "f_inputs = [20.0 for i in range(len(analysis_results))]\n",
    "compare_psd_magnitude('STN_Vm', input_freqs=f_inputs)\n",
    "compare_psd_magnitude('GPE.proto_Vm', input_freqs=f_inputs)"
   ]
  },
  {
   "cell_type": "markdown",
   "metadata": {},
   "source": [
    "## 1E: Representative sample"
   ]
  },
  {
   "cell_type": "markdown",
   "metadata": {},
   "source": [
    "### [main] Rastergram\n",
    "\n",
    "TODO: use saved figure from individual notebooks"
   ]
  },
  {
   "cell_type": "markdown",
   "metadata": {},
   "source": [
    "### [alt] Spectrogram\n",
    "\n",
    "TODO: use saved figure from individual notebooks"
   ]
  },
  {
   "cell_type": "markdown",
   "metadata": {},
   "source": [
    "# Sec 2 - Role Indirect Pathway"
   ]
  },
  {
   "cell_type": "markdown",
   "metadata": {},
   "source": [
    "# Sec 3 - Role NMDA-NR2A"
   ]
  },
  {
   "cell_type": "code",
   "execution_count": null,
   "metadata": {},
   "outputs": [],
   "source": [
    "%%javascript\n",
    "require([\"base/js/namespace\"],function(Jupyter) {\n",
    "    Jupyter.notebook.save_checkpoint();\n",
    "});"
   ]
  },
  {
   "cell_type": "code",
   "execution_count": null,
   "metadata": {},
   "outputs": [],
   "source": [
    "thisfile = 'stn-gpe_sweep_analysis.ipynb'\n",
    "parent_dir, _ = os.path.split(output_dirs[-1])\n",
    "!jupyter nbconvert $thisfile --to html --template=toc2 --output-dir=$parent_dir --output $report_filename"
   ]
  },
  {
   "cell_type": "code",
   "execution_count": null,
   "metadata": {},
   "outputs": [],
   "source": []
  }
 ],
 "metadata": {
  "kernelspec": {
   "display_name": "Python [default]",
   "language": "python",
   "name": "python2"
  },
  "language_info": {
   "codemirror_mode": {
    "name": "ipython",
    "version": 2
   },
   "file_extension": ".py",
   "mimetype": "text/x-python",
   "name": "python",
   "nbconvert_exporter": "python",
   "pygments_lexer": "ipython2",
   "version": "2.7.13"
  },
  "toc": {
   "nav_menu": {},
   "number_sections": false,
   "sideBar": true,
   "skip_h1_title": false,
   "toc_cell": false,
   "toc_position": {
    "height": "884px",
    "left": "0px",
    "right": "1638px",
    "top": "67px",
    "width": "282px"
   },
   "toc_section_display": "block",
   "toc_window_display": true
  }
 },
 "nbformat": 4,
 "nbformat_minor": 2
}
