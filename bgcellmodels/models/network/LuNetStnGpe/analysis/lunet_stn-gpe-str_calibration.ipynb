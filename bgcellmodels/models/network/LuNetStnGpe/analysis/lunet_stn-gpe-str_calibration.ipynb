{
 "cells": [
  {
   "cell_type": "markdown",
   "metadata": {},
   "source": [
    "# Setup"
   ]
  },
  {
   "cell_type": "code",
   "execution_count": null,
   "metadata": {},
   "outputs": [],
   "source": [
    "%matplotlib inline\n",
    "import numpy as np\n",
    "import scipy.signal\n",
    "import matplotlib\n",
    "import matplotlib.pyplot as plt\n",
    "\n",
    "import os\n",
    "import neo.io\n",
    "import elephant\n",
    "\n",
    "# analysis.py module in same folder\n",
    "from bgcellmodels.common import units, analysis\n",
    "units.set_units_module('quantities')\n",
    "import quantities as pq\n",
    "\n",
    "# Jupyter notebook extensions\n",
    "%load_ext bgcellmodels.extensions.jupyter.skip_cell_extension"
   ]
  },
  {
   "cell_type": "markdown",
   "metadata": {},
   "source": [
    "## Plotting Options"
   ]
  },
  {
   "cell_type": "code",
   "execution_count": null,
   "metadata": {},
   "outputs": [],
   "source": [
    "# Width of the page for calibrating fig_size.\n",
    "# Approx. 16 for matplotlib backend %inline  8 for %notebook\n",
    "if matplotlib.get_backend() == 'nbAgg':\n",
    "    from bgcellmodels.extensions.jupyter import jupyterutil\n",
    "    jupyterutil.notebook_show_figs_after_exception() # fix bug for notebook backend where figures not shown\n",
    "    page_width = 10\n",
    "else:\n",
    "    page_width = 14\n",
    "ax_height = 3\n",
    "\n",
    "# Style of figures (default colors etc.): see https://matplotlib.org/gallery/style_sheets/style_sheets_reference.html\n",
    "plt.style.use('default')"
   ]
  },
  {
   "cell_type": "markdown",
   "metadata": {},
   "source": [
    "## Support Functions"
   ]
  },
  {
   "cell_type": "code",
   "execution_count": null,
   "metadata": {},
   "outputs": [],
   "source": [
    "def make_slice(interval, t_start, Ts):\n",
    "    \"\"\"\n",
    "    Make slice object for addressing interval (a,b) in signal starting\n",
    "    at t_start and recorded with sampling time Ts.\n",
    "    \"\"\"\n",
    "    irange = [int((t-tstart)/Ts) for t in interval]\n",
    "    return np.s_[irange[0]:irange[1]] # slice object"
   ]
  },
  {
   "cell_type": "markdown",
   "metadata": {},
   "source": [
    "## Load Data"
   ]
  },
  {
   "cell_type": "code",
   "execution_count": null,
   "metadata": {},
   "outputs": [],
   "source": [
    "# All populations:\n",
    "outputs = \"/home/luye/storage/BBB_LuNetStnGpe/LuNetStnGpe_2018.11.09_17.42.20_job-CALDD_StnGpe_template_syn-V10\"\n",
    "\n",
    "# Single population:\n",
    "# outputs = [\n",
    "# \"/home/luye/storage/2018.06.21_job-testmpi6_DA-control_CTX-beta/CTX_2018.06.21_pop-100_dur-50.0_job-testmpi6.mat\",\n",
    "# ]\n",
    "\n",
    "if isinstance(outputs, str):\n",
    "    filenames = os.listdir(outputs)\n",
    "    # SETPARAM: choose time segment to load if split over files\n",
    "    file_filter = lambda f: f.endswith('.mat') and '-2500' in f\n",
    "    pop_files = [os.path.join(outputs, f) for f in filenames if file_filter(f)]\n",
    "    params_file = next((os.path.join(outputs,f) for f in filenames if f.startswith('pop-parameters')), None)\n",
    "else:\n",
    "    pop_files = outputs\n",
    "    params_file = None\n",
    "\n",
    "pops_segments = {}\n",
    "read_segment_id = 0\n",
    "\n",
    "# Read binary files using Neo IO module\n",
    "for pop_file in pop_files:\n",
    "    reader = neo.io.get_io(pop_file)\n",
    "    blocks = reader.read()\n",
    "    assert len(blocks) == 1, \"More than one Neo Block in file.\"\n",
    "    pop_label = blocks[0].name\n",
    "\n",
    "    if len(blocks[0].segments)-1 < read_segment_id:\n",
    "        raise ValueError(\"Segment index greater than number of Neo segments\"\n",
    "                         \" in file {}\".format(pop_file))\n",
    "    if pop_label in pops_segments:\n",
    "        raise ValueError(\"Duplicate population labels in files\")\n",
    "        \n",
    "    pops_segments[pop_label] = blocks[0].segments[read_segment_id]\n",
    "\n",
    "# Extract some signal metadata\n",
    "pop_labels = pops_segments.keys()\n",
    "sim_dur = pops_segments['STN'].spiketrains[0].t_stop.magnitude"
   ]
  },
  {
   "cell_type": "code",
   "execution_count": null,
   "metadata": {},
   "outputs": [],
   "source": [
    "# Save all PSDs for comparison in figures\n",
    "all_psd = {}          # tuple[list[float]: freqs, list[float]: psd)\n",
    "all_psd_peaks = {}    # tuple[list[float]: peak_freqs, list[float] : peak_psd)\n",
    "all_psd_sum_subband = {} # tuple[list[tuple[int,int]]: band_limits, float: sum_psd)\n",
    "all_fpeak = {}        # tuple[list[float]: freqs, list[float]: psd)\n",
    "\n",
    "all_signals = {}   # neo.AnalogSignal variables\n",
    "all_mean_rate = {}\n",
    "all_morgera = {}\n",
    "all_spectrogram = {}\n",
    "all_sigmean = {}\n",
    "\n",
    "# Data that will be exported (subset of dicts above)\n",
    "exported_data = {\n",
    "    'mean_rate': all_mean_rate,\n",
    "    'PSD': all_psd,\n",
    "    'PSD_peaks': all_psd_peaks,\n",
    "    'PSD_subband_power': all_psd_sum_subband,\n",
    "    'PSD_input_freq': all_fpeak,\n",
    "    'spectrogram': all_spectrogram,\n",
    "    'Morgera_index': all_morgera,\n",
    "}\n",
    "\n",
    "all_cell_phase_vecs = exported_data.setdefault('cell_phase_vecs', {})\n",
    "all_pop_phase_vecs = exported_data.setdefault('pop_phase_vecs', {})"
   ]
  },
  {
   "cell_type": "code",
   "execution_count": null,
   "metadata": {},
   "outputs": [],
   "source": [
    "# The recordings are saved in Neo format. See:\n",
    "# http://neo.readthedocs.io/en/latest/\n",
    "# http://neo.readthedocs.io/en/latest/api_reference.html#neo.core.AnalogSignal\n",
    "# - Each segment has attributes 'analogsignals' and 'spiketrains'\n",
    "# - Each quantity (e.g. AnalogSignal.signal) has attributes magnitude, units, dimensionality\n",
    "\n",
    "# List all recorded signals\n",
    "for pop_label, segment in pops_segments.items():\n",
    "    print(\"\\n{} has following signals:\".format(pop_label))\n",
    "    for signal in segment.analogsignals:\n",
    "        print(\"\\t- '{:10}\\t[{}] - description: {}\".format(signal.name, signal.units, signal.description))\n",
    "    print(\"\\t- {} spiketrains\".format(len(segment.spiketrains)))"
   ]
  },
  {
   "cell_type": "markdown",
   "metadata": {},
   "source": [
    "# Network Parameters"
   ]
  },
  {
   "cell_type": "code",
   "execution_count": null,
   "metadata": {},
   "outputs": [],
   "source": [
    "if params_file is not None:\n",
    "    import pickle\n",
    "    with open(params_file, 'rb') as pf:\n",
    "        network_params = pickle.load(pf)\n",
    "        print(\"Found parameters for following populations:\\n\"\n",
    "              \"{}\\n\".format(network_params.keys()))\n",
    "\n",
    "for pre_pop, pre_params in network_params.iteritems():\n",
    "    if not isinstance(pre_params, dict):\n",
    "        print(\"Ignoring entry: '{}'\\n\".format(pre_pop))\n",
    "        continue\n",
    "    for post_pop, pre_post_params in pre_params.iteritems():\n",
    "        if 'conpair_pvals' in pre_post_params:\n",
    "            print(\"Parameters for connection {} -> {}:\\n\"\n",
    "                  \"{}\\n{}\\n\".format(pre_pop, post_pop,\n",
    "                                    pre_post_params['conpair_pnames'], \n",
    "                                    pre_post_params['conpair_pvals'][:,2:].max(axis=0)))"
   ]
  },
  {
   "cell_type": "markdown",
   "metadata": {},
   "source": [
    "## Connection Matrices"
   ]
  },
  {
   "cell_type": "code",
   "execution_count": null,
   "metadata": {},
   "outputs": [],
   "source": [
    "from bgcellmodels.common import analysis\n",
    "\n",
    "# Print STN-GPE connection matrix\n",
    "for pre_pop, pre_params in network_params.iteritems():\n",
    "    if not isinstance(pre_params, dict) or pre_pop=='CTX':\n",
    "        continue\n",
    "    for post_pop, pre_post_params in pre_params.iteritems():\n",
    "        if 'conn_matrix' in pre_post_params:\n",
    "            adjacency_mat = pre_post_params['conn_matrix']\n",
    "            divx = max(3, adjacency_mat.shape[1]/10)\n",
    "            divy = max(3, adjacency_mat.shape[0]/10)\n",
    "            analysis.plot_connectivity_matrix(adjacency_mat, \n",
    "                                              pop0=pre_pop, pop1=post_pop,\n",
    "                                              px=divx, py=divy,\n",
    "                                              title='{} -> {}'.format(pre_pop, post_pop))\n",
    "\n",
    "# for pops in [('STN', 'GPE'), ('GPE', 'STN'), ('GPE', 'GPE'), ('STN', 'STN')]:\n",
    "#     stn_gpe_weights = network_params[pops[0]][pops[1]]['conn_matrix']\n",
    "#     analysis.plot_connectivity_matrix(stn_gpe_weights, pop0=pops[0], pop1=pops[1], pop_size=100, seaborn=False)"
   ]
  },
  {
   "cell_type": "markdown",
   "metadata": {},
   "source": [
    "# Spike Trains\n",
    "\n",
    "<span style='color:red;font-weight:bold'>WARNING</SPAN>: In rastergram plots, note the number of spike trains plotted (see y-axis). If it is too high you get overlapping marker bars (marker height is larger than row height allocated to one spiketrain). This leads to misleading plots as spiketrains are overlapping which looks like an artificially elevated firing rate."
   ]
  },
  {
   "cell_type": "code",
   "execution_count": null,
   "metadata": {},
   "outputs": [],
   "source": [
    "line_colors = 'crkgbm'\n",
    "pop_color_map = {k: line_colors[i % len(line_colors)] for i,k in enumerate(sorted(pops_segments.keys()))}\n",
    "\n",
    "def get_pop_color(pop_label):\n",
    "    return pop_color_map[pop_label]\n",
    "\n",
    "def get_pop_order(pop_label):\n",
    "    if pop_label.startswith('CTX'):\n",
    "        return 0\n",
    "    elif pop_label.startswith('STR'):\n",
    "        return 1\n",
    "    elif pop_label.startswith('GPE'):\n",
    "        return 2\n",
    "    elif pop_label.startswith('STN'):\n",
    "        return 3\n",
    "    else:\n",
    "        return 100"
   ]
  },
  {
   "cell_type": "markdown",
   "metadata": {},
   "source": [
    "## Spike Statistics"
   ]
  },
  {
   "cell_type": "code",
   "execution_count": null,
   "metadata": {},
   "outputs": [],
   "source": [
    "import collections\n",
    "pop_firing_rates = collections.OrderedDict()\n",
    "for pop_label in sorted(pops_segments.keys(), key=get_pop_order):\n",
    "    segment = pops_segments[pop_label]\n",
    "    # Can use elephant.spike_train_generation.peak_detection() if only raw voltage signals\n",
    "    pop_rate = 0.0\n",
    "    for st in segment.spiketrains:\n",
    "        pop_rate += elephant.statistics.mean_firing_rate(st).rescale('Hz').magnitude\n",
    "    pop_rate = pop_rate / len(segment.spiketrains)\n",
    "    pop_firing_rates[pop_label] = pop_rate\n",
    "    \n",
    "    all_mean_rate[pop_label] = pop_rate\n",
    "    print(\"Mean firing rate for {} is {}\".format(pop_label, pop_rate))"
   ]
  },
  {
   "cell_type": "code",
   "execution_count": null,
   "metadata": {},
   "outputs": [],
   "source": [
    "\n",
    "# Also plot target rates in DD and normal conditions\n",
    "invivo_rates = { # (upper, lower) or (median-std, median+std)\n",
    "    'CTX': {\n",
    "        'CTL.Bergman2015-Li2012': [1.0, 5.0],\n",
    "    },\n",
    "    'STR.MSN': {\n",
    "        'DD.Rat.KitaKita2011': [3.8, 9.4], # Kita & Kita (2011): baseline, peak is 140\n",
    "        'CTL.Rat.KitaKita2011': [0.0, 1.65], # Kita Kita (2011)\n",
    "    },\n",
    "    'STR.FSI': {\n",
    "        'CTL.Berke2004': [10.0, 100.0], # Berke (2004, 2008)\n",
    "    },\n",
    "    'GPE.proto': {\n",
    "        'DD.Monkey.Nambu2014': [18.7, 63.7], # Nambu (2014): mean 41.2\n",
    "        'CTL.Rat.Stoptask.Mallet2016': [41.3, 53.5],\n",
    "        'CTL.Rat.Sleep-Act.Mallet2008': [32.4, 35.0],\n",
    "        'DD.Rat.Sleep-Act.Mallet2008': [13.6, 14.6],\n",
    "        # Nambu(2014): mean 65.2\n",
    "    },\n",
    "    'GPE.arky': {\n",
    "        'CTL.Rat.Mallet2016': [7.0, 10.8], # rat, Mallet (2016)\n",
    "    },\n",
    "    'STN': {\n",
    "        'CTL.Monkey.Bergman2015': [20.0, 25.0], # Bergman book\n",
    "        'CTL.Rat.Sleep-Act.Mallet2008': [11.1, 16.6],\n",
    "        'DD.Rat.Sleep-Act.Mallet2008': [25.8, 37.4],\n",
    "        'DD.Human.Sharott2018': [33.0, 34.0],\n",
    "    }\n",
    "}\n",
    "\n",
    "fig, ax = plt.subplots()\n",
    "\n",
    "model_pops = [k for k in pop_firing_rates.keys() if 'surrogate' not in k]\n",
    "index = np.arange(len(model_pops))\n",
    "bar_width = 0.35\n",
    "opacity = 0.4\n",
    "\n",
    "rate_indicators = []\n",
    "rate_labels = []\n",
    "for i, pop_label in enumerate(model_pops):\n",
    "    # Draw in vivo rates\n",
    "    for j, src_rates in enumerate(invivo_rates.get(pop_label, {}).items()):\n",
    "        label, bounds = src_rates\n",
    "        line_kwargs = {'color': 'rgbmk'[j], 'linewidth': 1.0, 'linestyle': ':' if label.startswith('DD') else '-'}\n",
    "        lines = ax.vlines(i-.02+j*.02, bounds[0], bounds[1], **line_kwargs)\n",
    "        ax.hlines(bounds, i-bar_width/4, i+bar_width/4, **line_kwargs)\n",
    "        rate_indicators.append(lines)\n",
    "        rate_labels.append('{} - {}'.format(pop_label, label))\n",
    "    \n",
    "    # Draw simulation rates\n",
    "    pop_rate = pop_firing_rates[pop_label]\n",
    "    color = 'green' if (bounds[0] <= pop_rate <= bounds[1]) else 'red' # red bar if not within in-vivo range\n",
    "    ax.bar(i, pop_rate, bar_width, alpha=opacity, color=color)\n",
    "\n",
    "\n",
    "ax.set_xlabel('Population')\n",
    "ax.set_ylabel('Mean firing rate (Hz)')\n",
    "ax.set_title('Mean firing rate for each population')\n",
    "ax.set_xticks(index)\n",
    "ax.set_xticklabels(model_pops)\n",
    "max_rate = max(pop_firing_rates.values())+10\n",
    "ax.set_yticks(np.arange(0, max_rate+5, 5), minor=False)\n",
    "ax.set_yticks(np.arange(0, max_rate+2.5, 2.5), minor=True)\n",
    "ax.set_ylim((0, max_rate))\n",
    "ax.grid(True, axis='y', which='major')\n",
    "# ax.legend()\n",
    "\n",
    "# Draw separate legend\n",
    "fig, ax = plt.subplots()\n",
    "fig.legend(rate_indicators, rate_labels, loc='upper center', frameon=False)\n",
    "ax.axis('off')"
   ]
  },
  {
   "cell_type": "markdown",
   "metadata": {},
   "source": [
    "## Running Spikerates"
   ]
  },
  {
   "cell_type": "code",
   "execution_count": null,
   "metadata": {},
   "outputs": [],
   "source": [
    "# %%skip False\n",
    "\n",
    "from bgcellmodels.common import signal as spikeprocs\n",
    "\n",
    "def plot_avg_spikerate(pop_label, cell_ids=None, t_range=None, bin_width=20.0, adaptive=False, fig=None):\n",
    "    \"\"\"\n",
    "    Plot running mean firing rate of population.\n",
    "    Bin width also determines bin spacing (no sliding window).\n",
    "    \"\"\"\n",
    "    segment = pops_segments[pop_label]\n",
    "    if cell_ids is None:\n",
    "        cell_ids = range(len(segment.spiketrains))\n",
    "    if t_range is None:\n",
    "        t_range = (0.0, np.round(segment.spiketrains[0].t_stop.magnitude, 3))\n",
    "    \n",
    "    min_spikes = 10\n",
    "    # Adaptive method increases bin adaptively until 'min_spikes' included\n",
    "    if adaptive:\n",
    "        mean_rates = spikeprocs.nrn_avg_rate_adaptive([segment.spiketrains[i] for i in cell_ids],\n",
    "                                                      t_range[0], t_range[1], binwidth=bin_width,\n",
    "                                                      minsum=min_spikes).as_numpy()\n",
    "    else:\n",
    "        mean_rates = spikeprocs.nrn_avg_rate_simple([segment.spiketrains[i] for i in cell_ids],\n",
    "                                                    t_range[0], t_range[1],\n",
    "                                                    binwidth=bin_width).as_numpy()\n",
    "    if fig is None:\n",
    "        fig, ax = plt.subplots(1, 1, figsize=(page_width,ax_height))\n",
    "    else:\n",
    "        nrows = len(fig.axes)+1\n",
    "        ax = fig.add_subplot(nrows,1,nrows)\n",
    "        \n",
    "    t_axis = np.arange(mean_rates.size) * bin_width + t_range[0]\n",
    "    ax.plot(t_axis, mean_rates, color=get_pop_color(pop_label))\n",
    "    ax.grid(True)\n",
    "    \n",
    "    fig.suptitle('{} mean population firing rate (running average)'.format(pop_label))\n",
    "    return fig, ax\n",
    "\n",
    "for pop in pop_labels:\n",
    "    plot_avg_spikerate(pop, bin_width=50)\n",
    "#fig.tight_layout()"
   ]
  },
  {
   "cell_type": "markdown",
   "metadata": {},
   "source": [
    "## Raster Plots"
   ]
  },
  {
   "cell_type": "code",
   "execution_count": null,
   "metadata": {},
   "outputs": [],
   "source": [
    "# SETPARAM: region of interest (ROI) for plotting\n",
    "ROI_INTERVAL = (0.0, 2.5e3)"
   ]
  },
  {
   "cell_type": "code",
   "execution_count": null,
   "metadata": {},
   "outputs": [],
   "source": [
    "num_pops = len(pops_segments)\n",
    "i_pop = 0\n",
    "\n",
    "def plot_spiketrain(pop_label, cell_ids, t_range, sharex=None, sharey=None,\n",
    "                    figsize=(page_width,ax_height), plot_compact=False):\n",
    "    \"\"\"\n",
    "    Plot spiketrains for one population.\n",
    "    \n",
    "    @param    cell_ids : list(int)\n",
    "              Cell indices in population that will be visible (y-axis constrainment).\n",
    "    \"\"\"\n",
    "    global i_pop\n",
    "    \n",
    "    segment = pops_segments[pop_label]\n",
    "    sim_dur = segment.spiketrains[0].t_stop.magnitude\n",
    "    \n",
    "    # Don't plot all rastergrams in same figure\n",
    "    fig_spikes = plt.figure(figsize=figsize)\n",
    "    ax = plt.subplot(1,1,1, sharex=sharex, sharey=sharey)\n",
    "    # fig_spikes, ax = plt.subplot(1, 1, figsize=(page_width,ax_height), sharex=sharex)\n",
    "    if not plot_compact:\n",
    "        fig_spikes.suptitle('{} spiketrains'.format(pop_label))\n",
    "    \n",
    "    pop_size = len(segment.spiketrains)\n",
    "    \n",
    "    # Plot all spiketrains but constrain y-axis later (so you can pan & zoom)\n",
    "    # for i_train in range(pop_size):\n",
    "    #     y = spiketrain.annotations.get('source_id', i_train)\n",
    "    # Only plot selected spike trains\n",
    "    y_vals = np.empty(len(cell_ids))\n",
    "    for j, i_train in enumerate(cell_ids):\n",
    "        spiketrain = segment.spiketrains[i_train]\n",
    "        y_vals[j] = i_train\n",
    "        y_vec = np.ones_like(spiketrain) * y_vals[j]\n",
    "        ax.plot(spiketrain, y_vec,\n",
    "                marker='|', linestyle='', \n",
    "                snap=True, color=get_pop_color(pop_label))\n",
    "    \n",
    "    \n",
    "    # ax.set_xticks(np.arange(0, sim_dur+5000, 5000), minor=False) # uncomment for long time range\n",
    "    if plot_compact:\n",
    "        ax.set_yticks(np.arange(min(y_vals), max(y_vals)+1, 1), minor=False)\n",
    "        ax.set_xticklabels([])\n",
    "        ax.set_yticklabels([])\n",
    "    else:\n",
    "        ax.set_yticks(np.arange(min(y_vals), max(y_vals)+5, 5), minor=False)\n",
    "        ax.set_xticks(np.arange(0, sim_dur+1000, 1000), minor=False)\n",
    "        ax.set_ylabel('{} cell #'.format(pop_label))\n",
    "        \n",
    "    ax.set_xlim(t_range)\n",
    "    ax.set_ylim((min(y_vals)-0.5, max(y_vals)+0.5))\n",
    "    ax.grid(True, axis='x', which='major')\n",
    "\n",
    "    i_pop += 1\n",
    "    return fig_spikes, ax"
   ]
  },
  {
   "cell_type": "code",
   "execution_count": null,
   "metadata": {},
   "outputs": [],
   "source": [
    "# Choose populations and cells indices to plot\n",
    "shared_axis = None\n",
    "for pop_label in sorted(pop_labels, key=get_pop_order):\n",
    "    segment = pops_segments[pop_label]\n",
    "    max_num_plot = 100\n",
    "    num_spiketrains = min(len(segment.spiketrains), max_num_plot)\n",
    "    # SETPARAM: choose cells to plot\n",
    "    cell_indices = (0 + np.arange(num_spiketrains, dtype=int)) % len(segment.spiketrains)\n",
    "    t_interval = ROI_INTERVAL # SETPARAM: time interval\n",
    "    fig_height = ax_height*num_spiketrains/20.0\n",
    "    # NOTE: don't use sharey when different population sizes\n",
    "    fig, shared_axis = plot_spiketrain(pop_label, cell_indices, t_interval,\n",
    "                                       sharex=shared_axis, sharey=None,\n",
    "                                       figsize=(page_width, fig_height), plot_compact=False)\n",
    "\n",
    "# plot_spiketrain('STN', range(20), (0.0, 5e3))"
   ]
  },
  {
   "cell_type": "markdown",
   "metadata": {},
   "source": [
    "# Raw Signals"
   ]
  },
  {
   "cell_type": "code",
   "execution_count": null,
   "metadata": {},
   "outputs": [],
   "source": [
    "def plot_vm_signals(signal, cell_indices, interval, interval_only=True):\n",
    "    \n",
    "    rec_dt = signal.sampling_period.magnitude\n",
    "    tstart = signal.t_start.magnitude\n",
    "    irange = [0, signal.shape[0]-1] if interval is None else [int((t-tstart)/rec_dt) for t in interval]\n",
    "    times = signal.times[irange[0]:irange[1]]\n",
    "    \n",
    "    fig, axes = plt.subplots(len(cell_indices), 1, \n",
    "                             figsize=(0.75*page_width,2*ax_height),\n",
    "                             sharex=True, sharey=True)\n",
    "    fig.suptitle(\"{} membrane voltage\".format(pop_label))\n",
    "\n",
    "    # Plot each Vm on separate axis\n",
    "    for i_ax, i_cell in enumerate(cell_indices):\n",
    "        try:\n",
    "            ax = axes[i_ax]\n",
    "        except TypeError:\n",
    "            ax = axes\n",
    "        if 'source_ids' in signal.annotations:\n",
    "            label = \"id {}\".format(signal.annotations['source_ids'][i_cell])\n",
    "        else:\n",
    "            label = \"cell {}\".format(i_cell)\n",
    "        \n",
    "        if interval_only:\n",
    "            ax.plot(times, signal[irange[0]:irange[1], i_cell], label=label)\n",
    "        else:\n",
    "            ax.plot(signal.times, signal[:, i_cell])\n",
    "        \n",
    "        ax.grid(True)\n",
    "        ax.set_ylim((-90, 25))\n",
    "        ax.set_xlim((times[0].magnitude, times[-1].magnitude))\n",
    "        # ax.legend()\n",
    "\n",
    "        if i_ax == len(cell_indices)-1:\n",
    "            #ax.set_ylabel(\"voltage ({})\".format(signal.units))\n",
    "            ax.set_xlabel('time ({})'.format(times.units))\n",
    "\n",
    "    fig.text(0.06, 0.5, \"voltage ({})\".format(signal.units), va='center', rotation='vertical')\n",
    "    fig.subplots_adjust(bottom=0.15) # prevent clipping of xlabel"
   ]
  },
  {
   "cell_type": "markdown",
   "metadata": {},
   "source": [
    "## STN Vm"
   ]
  },
  {
   "cell_type": "code",
   "execution_count": null,
   "metadata": {},
   "outputs": [],
   "source": [
    "pop_label = 'STN'\n",
    "segment = pops_segments[pop_label]\n",
    "signal = next((sig for sig in segment.analogsignals if sig.name == 'Vm'))\n",
    "stn_vm_signal = signal"
   ]
  },
  {
   "cell_type": "code",
   "execution_count": null,
   "metadata": {},
   "outputs": [],
   "source": [
    "# Choose plot interval and cell indices\n",
    "max_num_plot = 10\n",
    "num_signals = min(signal.shape[1], max_num_plot)\n",
    "interval = ROI_INTERVAL # SETPARAM: plot interval\n",
    "cell_indices = [i+10 for i in range(num_signals)]\n",
    "plot_vm_signals(stn_vm_signal, cell_indices, interval, interval_only=False)"
   ]
  },
  {
   "cell_type": "markdown",
   "metadata": {},
   "source": [
    "## GPe Vm"
   ]
  },
  {
   "cell_type": "code",
   "execution_count": null,
   "metadata": {},
   "outputs": [],
   "source": [
    "pop_label = 'GPE.proto'\n",
    "segment = pops_segments[pop_label]\n",
    "gpe_vm_signal = signal = next((sig for sig in segment.analogsignals if sig.name == 'Vm'))"
   ]
  },
  {
   "cell_type": "code",
   "execution_count": null,
   "metadata": {},
   "outputs": [],
   "source": [
    "# Choose plot interval and cell indices\n",
    "max_num_plot = 10\n",
    "num_signals = min(signal.shape[1], max_num_plot)\n",
    "interval = ROI_INTERVAL # [2000.0, 6000.0]\n",
    "cell_indices = range(5) # range(num_signals)\n",
    "plot_vm_signals(gpe_vm_signal, cell_indices, interval)"
   ]
  },
  {
   "cell_type": "markdown",
   "metadata": {},
   "source": [
    "## CTX Artificial\n",
    "\n",
    "Convolve spike times with stereotypical AP to obtain artificial voltage signal."
   ]
  },
  {
   "cell_type": "code",
   "execution_count": null,
   "metadata": {},
   "outputs": [],
   "source": [
    "pop_label = 'CTX'\n",
    "segment = pops_segments['CTX']\n",
    "spiketrains = segment.spiketrains[0:100] # select subset of spiketrains"
   ]
  },
  {
   "cell_type": "code",
   "execution_count": null,
   "metadata": {},
   "outputs": [],
   "source": [
    "# Load Pyramidal cell action potential from saved recording\n",
    "pyramidal_trace = np.loadtxt('../../KlmnNetMorpho/analysis/pyramidal.dat')\n",
    "vm = pyramidal_trace[:,1]\n",
    "tvec = pyramidal_trace[:,0]\n",
    "dt = np.round(tvec[1] - tvec[0], 4)\n",
    "ap_t_interval = [4.9, 20.0]\n",
    "ap_i_interval = [int(t/dt) for t in ap_t_interval]\n",
    "subsample = 2\n",
    "ap_range = range(ap_i_interval[0], ap_i_interval[1]+1, subsample)\n",
    "ap_kernel = vm[ap_range]\n",
    "ap_baseline = -65.0\n",
    "ap_kernel -= ap_baseline # center on 0 for convolution\n",
    "\n",
    "plt.figure(figsize=(6,2))\n",
    "plt.plot(tvec[ap_range], ap_kernel)\n",
    "plt.suptitle('AP kernel for cortical neurons')\n",
    "plt.grid(True)"
   ]
  },
  {
   "cell_type": "code",
   "execution_count": null,
   "metadata": {},
   "outputs": [],
   "source": [
    "# Construct AnalogSignal of N channels from N spiketrains\n",
    "dur = np.round(spiketrains[0].duration.magnitude, 4)\n",
    "tstart = np.round(spiketrains[0].t_start.magnitude, 4)\n",
    "tstop = np.round(spiketrains[0].t_stop.magnitude, 4)\n",
    "dt = stn_vm_signal.sampling_period.magnitude\n",
    "signal_matrix = np.empty((int(dur/dt)+1, len(spiketrains)))\n",
    "\n",
    "# Convolution operation for each spiketrain\n",
    "for i, st in enumerate(spiketrains):\n",
    "    \n",
    "    time = np.arange(tstart, tstop + dt, dt)\n",
    "    spiketimes = st.times.magnitude\n",
    "    spike_pulses = np.zeros_like(time)\n",
    "    spike_pulses[[int((t-tstart)/dt) for t in spiketimes]] = 1.0\n",
    "    \n",
    "    # Convole pulses at spike times with AP kernel\n",
    "    spike_signal = np.convolve(spike_pulses, ap_kernel, mode='same') + ap_baseline\n",
    "    signal_matrix[:, i] = spike_signal\n",
    "\n",
    "# Resulting Neo signals\n",
    "ctx_vm_signal = neo.AnalogSignal(signal_matrix, units='mV', sampling_rate=1/dt/pq.ms,\n",
    "                                t_start=spiketrains[0].t_start, t_stop=spiketrains[0].t_stop)\n",
    "\n",
    "# ctx_vm_mean = ctx_vm_signal.sum(axis=1) / ctx_vm_signal.shape[1]\n",
    "ctx_vm_mean = signal.duplicate_with_new_array(ctx_vm_signal.sum(axis=1).reshape((-1,1)) / ctx_vm_signal.shape[1])\n",
    "all_sigmean[pop_label + '_Vm'] = ctx_vm_mean"
   ]
  },
  {
   "cell_type": "code",
   "execution_count": null,
   "metadata": {},
   "outputs": [],
   "source": [
    "# Plot artificial signal to verify\n",
    "max_num_plot = 10\n",
    "num_signals = min(ctx_vm_signal.shape[1], max_num_plot)\n",
    "interval = ROI_INTERVAL # [12.75e3, 14e3]\n",
    "cell_indices = range(num_signals)\n",
    "plot_vm_signals(ctx_vm_signal, cell_indices, interval, interval_only=False)"
   ]
  },
  {
   "cell_type": "markdown",
   "metadata": {},
   "source": [
    "# Power Spectra"
   ]
  },
  {
   "cell_type": "markdown",
   "metadata": {},
   "source": [
    "## PSD"
   ]
  },
  {
   "cell_type": "code",
   "execution_count": null,
   "metadata": {},
   "outputs": [],
   "source": [
    "def calc_psd(pop_label, t_start=1000.0, vm_sig=None):\n",
    "    \"\"\"\n",
    "    Calculate PSD from membrane voltages of population.\n",
    "    \n",
    "    It computes the PSD for the individual Vm traces and then\n",
    "    averages the resulting PSDs.\n",
    "    \"\"\"\n",
    "    if vm_sig is None:\n",
    "        segment = pops_segments[pop_label]\n",
    "        vm_sig = next((sig for sig in segment.analogsignals if sig.name == 'Vm'))\n",
    "\n",
    "    # Computes PSD of all 100 Vm signals at the same time\n",
    "    Ts = vm_sig.sampling_period.magnitude # ms\n",
    "    fs = signal.sampling_rate.rescale('Hz').magnitude\n",
    "    vm_segment = vm_sig[int(t_start/Ts):,:]\n",
    "    dF = max(0.5, fs / vm_segment.shape[0]) # dF for max window size is finest possible\n",
    "    if dF != 0.5:\n",
    "        print(\"Adjusted frequency resolution to data size: dF = {}\".format(dF))\n",
    "        \n",
    "    freqs, psd = elephant.spectral.welch_psd(vm_segment, freq_res=dF)\n",
    "    psd_avg = psd.sum(axis=0) / psd.shape[0]\n",
    "    psd_rel = psd_avg[0:int(250/dF)] # relevant region of psd\n",
    "\n",
    "    # Save PSD\n",
    "    all_psd[pop_label+'_Vm'] = (freqs, psd_avg)\n",
    "    \n",
    "    # Save units for other plotting functions\n",
    "    global psd_units\n",
    "    psd_units = psd.units\n",
    "    \n",
    "    return freqs, psd_avg\n",
    "\n",
    "\n",
    "def plot_psd(freqs, psd_avg, pop_label):\n",
    "    \"\"\"\n",
    "    Plots PSD on relative and absolute axis for comparison with others.\n",
    "    \"\"\"\n",
    "    fig, ax = plt.subplots(figsize=(page_width*0.5, ax_height))\n",
    "    ax.plot(freqs, psd_avg, label='{} Vm'.format(pop_label))\n",
    "\n",
    "    ax.set_ylabel('Power ({})'.format(psd_avg.units.dimensionality))\n",
    "    ax.set_xlabel('frequency ({})'.format(freqs.units.dimensionality))\n",
    "    ax.set_xlim((0, 50))\n",
    "    ax.grid(True)\n",
    "    ax.set_title('Welch PSD for mean {} Vm'.format(pop_label))\n",
    "    # ax.set_yscale('log')\n",
    "    # ax.legend(loc='best')\n",
    "\n",
    "    # PSD on shared scale for comparison with other simulations\n",
    "    fig, ax = plt.subplots(figsize=(page_width*0.5, ax_height))\n",
    "    ax.plot(freqs, psd_avg, label='{} Vm'.format(pop_label))\n",
    "    ax.set_ylabel('Power ({})'.format(psd_avg.units.dimensionality))\n",
    "    ax.set_xlabel('frequency ({})'.format(freqs.units.dimensionality))\n",
    "    ax.set_xlim((0, 50))\n",
    "    ax.set_ylim((0, 10))\n",
    "    ax.grid(True)\n",
    "    ax.set_title('Welch PSD for mean {} Vm (absolute y-axis)'.format(pop_label))"
   ]
  },
  {
   "cell_type": "markdown",
   "metadata": {},
   "source": [
    "### STN Vm"
   ]
  },
  {
   "cell_type": "code",
   "execution_count": null,
   "metadata": {},
   "outputs": [],
   "source": [
    "pop_label = 'STN'\n",
    "# sig_label = 'STN_Vm'\n",
    "# segment = pops_segments[pop_label]\n",
    "# vm_sig = next((sig for sig in segment.analogsignals if sig.name == 'Vm'))\n",
    "\n",
    "freqs, psd_avg = calc_psd(pop_label)\n",
    "\n",
    "plot_psd(freqs, psd_avg, pop_label)"
   ]
  },
  {
   "cell_type": "markdown",
   "metadata": {},
   "source": [
    "### CTX spikes"
   ]
  },
  {
   "cell_type": "code",
   "execution_count": null,
   "metadata": {},
   "outputs": [],
   "source": [
    "pop_label = 'CTX'\n",
    "# segment = pops_segments[pop_label]\n",
    "\n",
    "freqs, psd_avg = calc_psd(pop_label, vm_sig=ctx_vm_signal)\n",
    "\n",
    "plot_psd(freqs, psd_avg, pop_label)"
   ]
  },
  {
   "cell_type": "markdown",
   "metadata": {},
   "source": [
    "### GPE.proto"
   ]
  },
  {
   "cell_type": "code",
   "execution_count": null,
   "metadata": {},
   "outputs": [],
   "source": [
    "pop_label = 'GPE.proto'\n",
    "# segment = pops_segments[pop_label]\n",
    "\n",
    "freqs, psd_avg = calc_psd(pop_label)\n",
    "\n",
    "plot_psd(freqs, psd_avg, pop_label)"
   ]
  },
  {
   "cell_type": "markdown",
   "metadata": {},
   "source": [
    "## Spectrogram (STFT)"
   ]
  },
  {
   "cell_type": "code",
   "execution_count": null,
   "metadata": {},
   "outputs": [],
   "source": [
    "def calc_spectrogram(pop_label, signal=None):\n",
    "    \"\"\"\n",
    "    Calculate spectrogram (STFT) for mean signal.\n",
    "    \n",
    "    The resulting time axis is missing 'nperseg' values on each side since\n",
    "    each PSD sample is calculated on the interval [-nperseg/2, +nperseg/2]\n",
    "    around it.\n",
    "    \n",
    "    @return    freqs, t, Sxx\n",
    "               Sxx has t-dimension along axis 0 and f-dimension along axis 1.\n",
    "    \"\"\"\n",
    "    if signal is None:\n",
    "        segment = pops_segments[pop_label]\n",
    "        signal = next((sig for sig in segment.analogsignals if sig.name == 'Vm'))\n",
    "    \n",
    "    # Compute mean Vm signal\n",
    "    sigmean = signal.duplicate_with_new_array(signal.sum(axis=1).reshape((-1,1)) / signal.shape[1])\n",
    "    all_sigmean[pop_label + '_Vm'] = sigmean\n",
    "\n",
    "    # Plot spectrogram using STFT\n",
    "    dt = signal.sampling_period.magnitude\n",
    "    fs = 1/dt*1e3\n",
    "    freq_res = 1.0\n",
    "    nperseg = int(fs/freq_res) # determines frequency resolution\n",
    "    t_res = 20.0 # ms\n",
    "    noverlap = nperseg - int(t_res/dt)\n",
    "    freqs, t, Sxx = scipy.signal.spectrogram(sigmean.ravel(), 1/dt, window='hanning',\n",
    "                                             nperseg=nperseg, noverlap=noverlap, scaling='density')\n",
    "    freqs = freqs * 1000\n",
    "    t = t + signal.t_start.rescale('ms').magnitude\n",
    "\n",
    "    # Save spectrogram\n",
    "    df = freqs[1]-freqs[0]\n",
    "    all_spectrogram[pop_label + '_Vm'] = (freqs[0:int(50/df)], t, Sxx[:,0:int(50/df)])\n",
    "    \n",
    "    return freqs, t, Sxx\n",
    "\n",
    "def plot_spectrogram(freqs, t, Sxx, pop_label, f_max=100.0, P_max=None):\n",
    "    # Spectrogram 1\n",
    "    fig, ax = plt.subplots(figsize=(0.75*page_width, ax_height))\n",
    "    # cmap = 'viridis' / 'plasma' / 'jet'\n",
    "    plt.pcolormesh(t, freqs, Sxx, cmap='viridis')\n",
    "    # plt.imshow(Sxx, cmap='jet', aspect='auto', vmax=abs(Sxx).max(), vmin=Sxx.min())\n",
    "    plt.ylim((0, f_max))\n",
    "    plt.colorbar()\n",
    "    # plt.clim(0, 20)\n",
    "    if P_max is None:\n",
    "        P_max = abs(Sxx[:, int(1000.0/(t[1]-t[0])):]).max() # discard first second\n",
    "    plt.clim(0, P_max)\n",
    "    plt.ylabel('frequency (Hz)')\n",
    "    plt.xlabel('time (ms)')\n",
    "    ax.set_title('Spectrogram of mean {} Vm ({})'.format(pop_label, psd_units.dimensionality))"
   ]
  },
  {
   "cell_type": "markdown",
   "metadata": {},
   "source": [
    "### STN"
   ]
  },
  {
   "cell_type": "code",
   "execution_count": null,
   "metadata": {},
   "outputs": [],
   "source": [
    "freqs, t, Sxx = calc_spectrogram('STN')\n",
    "plot_spectrogram(freqs, t, Sxx, 'STN', f_max=50.0)"
   ]
  },
  {
   "cell_type": "markdown",
   "metadata": {},
   "source": [
    "### GPE.proto"
   ]
  },
  {
   "cell_type": "code",
   "execution_count": null,
   "metadata": {},
   "outputs": [],
   "source": [
    "freqs, t, Sxx = calc_spectrogram('GPE.proto')\n",
    "plot_spectrogram(freqs, t, Sxx, 'GPE.proto')"
   ]
  },
  {
   "cell_type": "markdown",
   "metadata": {},
   "source": [
    "### STR.MSN"
   ]
  },
  {
   "cell_type": "code",
   "execution_count": null,
   "metadata": {},
   "outputs": [],
   "source": [
    "freqs, t, Sxx = calc_spectrogram('STR.MSN')\n",
    "plot_spectrogram(freqs, t, Sxx, 'STR.MSN')"
   ]
  },
  {
   "cell_type": "markdown",
   "metadata": {},
   "source": [
    "# Signal Relationships\n",
    "\n",
    "For suitable measures and implementations, see\n",
    "- bookmarks/neuroscience/signal_processing\n",
    "- google `measure + site:github.com`\n",
    "- ask Amir for his mutual information and related measures\n",
    "- see Beta-related and other neurophysiology articles\n",
    "\n",
    "For example, we can use following measures\n",
    "\n",
    "- __Coherence__ : linear relationship betwee two signals by frequency component\n",
    "    + see `welch_cohere` in [elephant.spectral](http://elephant.readthedocs.io/en/latest/reference/spectral.html)\n",
    "\n",
    "\n",
    "- __Phase-Amplitude Coupling__ (PAC)\n",
    "    + see `hilbert` in [elephant.signal_processing](http://elephant.readthedocs.io/en/latest/reference/signal_processing.html) to do band-pass filter + Hilbert transform\n",
    "    + see `comodulogram` in [pactools](https://pactools.github.io/auto_examples/plot_comodulogram.html)"
   ]
  },
  {
   "cell_type": "markdown",
   "metadata": {},
   "source": [
    "## CTX Phase"
   ]
  },
  {
   "cell_type": "code",
   "execution_count": null,
   "metadata": {},
   "outputs": [],
   "source": [
    "# Calculate analytical signal -> phase\n",
    "sig_label = 'CTX_Vm'\n",
    "signal = ctx_vm_signal\n",
    "sigmean = ctx_vm_mean\n",
    "\n",
    "# Take 10 cells within shorter time interval\n",
    "phase_tstart = tstart = np.round(signal.t_start.magnitude, 4)\n",
    "phase_tstop = tstop = np.round(signal.t_stop.magnitude, 4)\n",
    "rec_dt = signal.sampling_period.magnitude\n",
    "interval= [tstart, tstop]\n",
    "irange = [int((t-tstart)/rec_dt) for t in interval]\n",
    "islice = np.s_[irange[0]:irange[1]] # slice object\n",
    "\n",
    "num_traces = 100\n",
    "pslice = np.s_[0:num_traces]\n",
    "traces_raw = signal[islice, pslice]\n",
    "\n",
    "times = signal.times[islice]"
   ]
  },
  {
   "cell_type": "markdown",
   "metadata": {},
   "source": [
    "### Filtering"
   ]
  },
  {
   "cell_type": "code",
   "execution_count": null,
   "metadata": {},
   "outputs": [],
   "source": [
    "# Band-pass filter in frequency band of interest\n",
    "\n",
    "# Elephant built-in filtering\n",
    "# import elephant.signal_processing as sigproc\n",
    "# signal_bp = sigproc.butter(signal, highpass_freq=20, lowpass_freq=30, order=3, filter_function='filtfilt')\n",
    "\n",
    "# Manual band-pass filtering\n",
    "Fs = signal.sampling_rate.rescale('Hz').magnitude\n",
    "Fn = Fs / 2. # Nyquist frequency\n",
    "\n",
    "# WARNING: phase of filter must be NEUTRAL at target frequency!!! -> CENTER on target\n",
    "hpfreq, lpfreq = 16.0, 24.0 # SETPARAM: passband of BP filter\n",
    "order = 4\n",
    "\n",
    "assert hpfreq < lpfreq\n",
    "low, high = hpfreq / Fn, lpfreq / Fn\n",
    "b, a = scipy.signal.butter(order, [low, high], btype='bandpass', analog=False)\n",
    "sos = scipy.signal.butter(order, [low, high], btype='bandpass', analog=False, output='sos')\n",
    "# sos = scipy.signal.butter(order, high, btype='lowpass', analog=False, output='sos')\n",
    "\n",
    "# Check filter stability (otherwise -> NaN values)\n",
    "filter_stable = np.all(np.abs(np.roots(a))<1)\n",
    "if not filter_stable:\n",
    "    # raise Exception(\"Unstable filter!\")\n",
    "    print(\"Filter in b, a form is unstable!\")\n",
    "\n",
    "# Plot filter response\n",
    "w, h = scipy.signal.freqz(b, a, np.linspace(0, np.pi, 2**np.ceil(np.log2(Fn))))\n",
    "w, h = scipy.signal.sosfreqz(sos, np.linspace(0, np.pi, 2**np.ceil(np.log2(Fn))))\n",
    "angles = np.unwrap(np.angle(h))\n",
    "fax = w * Fn / (np.pi)\n",
    "\n",
    "fig, axes = plt.subplots(2, 1, sharex=True)\n",
    "fig.suptitle(\"Filter response (2*pi = {})\".format(Fs))\n",
    "ax = axes[0]\n",
    "ax.plot(fax, abs(h), 'b') # 20 * np.log10(abs(h))\n",
    "ax.set_ylabel('Amplitude [dB]', color='b')\n",
    "\n",
    "ax = axes[1] # ax2 = ax.twinx()\n",
    "ax.plot(fax, angles, 'g')\n",
    "ax.set_ylabel('Angle (radians)', color='g')\n",
    "\n",
    "# plt.axis('tight')\n",
    "ax.set_xlim((0, 50))\n",
    "ax.set_xlabel('Frequency [Hz]')\n",
    "ax.grid(True)"
   ]
  },
  {
   "cell_type": "code",
   "execution_count": null,
   "metadata": {},
   "outputs": [],
   "source": [
    "# Filter signal\n",
    "data = np.asarray(signal)\n",
    "# signal_bp = scipy.signal.filtfilt(b, a, data, axis=0) # can also use 'lfilter'\n",
    "signal_bp = signal.duplicate_with_new_array(scipy.signal.sosfiltfilt(sos, data, axis=0))\n",
    "sigmean_bp = signal.duplicate_with_new_array(scipy.signal.sosfiltfilt(sos, np.asarray(sigmean), axis=0))"
   ]
  },
  {
   "cell_type": "code",
   "execution_count": null,
   "metadata": {},
   "outputs": [],
   "source": [
    "# Subsample signals for efficiency\n",
    "\n",
    "# Traces: subsample to preserve up to 2 x highest frequency\n",
    "fmax = 2 * lpfreq\n",
    "fs_old = signal.sampling_rate.rescale('Hz').magnitude \n",
    "subsample_factor = int(fs_old / (2 * fmax))\n",
    "subsample_factor = min(20, subsample_factor)\n",
    "\n",
    "print(\"Subsampling with factor {}\".format(subsample_factor))\n",
    "signal_bpss = signal_bp[::subsample_factor, :] # adjusts 'sampling period' attribute\n",
    "print(\"New sampling period is {}\".format(signal_bpss.sampling_period))\n",
    "\n",
    "# Adjust indices of intervals\n",
    "Ts = signal_bpss.sampling_period.magnitude\n",
    "irange_ss = [int((t-tstart)/Ts) for t in interval]\n",
    "islice_ss = np.s_[irange_ss[0]:irange_ss[1]] # slice object\n",
    "times_ss = signal_bpss.times[islice_ss]\n",
    "\n",
    "# Reference signal: must have small enough time resolution to look up spike phases\n",
    "ss_factor_ref = int(0.25 / signal.sampling_period.magnitude) # 0.25 ms resolution: 1/200 of 20 Hz beta\n",
    "print(\"Subsampling with factor {}\".format(ss_factor_ref))\n",
    "sigmean_bpss = sigmean_bp[::ss_factor_ref, :]\n",
    "print(\"New sampling period is {}\".format(sigmean_bpss.sampling_period))\n",
    "Ts_ref = sigmean_bpss.sampling_period.magnitude"
   ]
  },
  {
   "cell_type": "markdown",
   "metadata": {},
   "source": [
    "### Hilbert Transform"
   ]
  },
  {
   "cell_type": "code",
   "execution_count": null,
   "metadata": {},
   "outputs": [],
   "source": [
    "# Compute analytic signal - magnitude and phase\n",
    "from scipy.signal import hilbert\n",
    "\n",
    "traces_bp = signal_bpss[islice_ss, 0:num_traces]\n",
    "traces_raw = signal[islice, 0:num_traces]\n",
    "\n",
    "analytic_signal = hilbert(traces_bp, axis=0)\n",
    "analytic_mag = np.abs(analytic_signal)\n",
    "analytic_phase = np.angle(analytic_signal)\n",
    "\n",
    "analsig_sigmean = hilbert(sigmean_bpss, axis=0)\n",
    "analmag_sigmean = np.abs(analsig_sigmean)\n",
    "analphase_sigmean = np.angle(analsig_sigmean)\n",
    "\n",
    "# NOTE: phases are already wrapped\n",
    "# analytic_phase = np.unwrap(np.angle(analytic_signal), axis=0) # transform angle in interval (0, 2*pi)"
   ]
  },
  {
   "cell_type": "code",
   "execution_count": null,
   "metadata": {},
   "outputs": [],
   "source": [
    "# Check result : plot filtered signals\n",
    "def plot_analytic_signal(signal, bandpass, magnitude, phase, interval):\n",
    "    fig, axes = plt.subplots(3, 1, figsize=(0.75*page_width,2*ax_height), sharex=True, sharey=False)\n",
    "    fig.suptitle(\"Vmean: Filtered & Analytic Signal\")\n",
    "\n",
    "    tplot = (tstop-1000, tstop) # SETPARAM: plot interval\n",
    "    iplot = make_slice(tplot, tstart, rec_dt)\n",
    "    iplot_ss = make_slice(tplot, tstart, Ts)\n",
    "    iplot_ref = make_slice(tplot, tstart, Ts_ref)\n",
    "\n",
    "    # Band-pass filtered trace\n",
    "    ax = axes[0]\n",
    "    ax.plot(signal.times[iplot], signal[iplot], color='b', label='Vref')\n",
    "    ax.plot(bandpass.times[iplot_ref], bandpass[iplot_ref] + signal.max(), color='g', label='Vref_BP')\n",
    "    ax.set_ylabel('Vm (filtered)')\n",
    "    ax.grid(True)\n",
    "    ax.legend()\n",
    "    # ax.set_ylim((-80, 25))\n",
    "\n",
    "    # Magnitude of analytic signal = amplitude envelope\n",
    "    ax = axes[1]\n",
    "    ax.plot(bandpass.times[iplot_ref], magnitude[iplot_ref], label='magnitude')\n",
    "    ax.set_ylabel('|analytic| [mV]')\n",
    "    ax.grid(True)\n",
    "\n",
    "    # Phase of analytic signal\n",
    "    ax = axes[2]\n",
    "    ax.plot(bandpass.times[iplot_ref], phase[iplot_ref], label='phase')\n",
    "    ax.grid(True)\n",
    "    ax.set_ylabel('angle(analytic) [rad]')\n",
    "    ax.set_xlabel('time ({})'.format(times.units))"
   ]
  },
  {
   "cell_type": "code",
   "execution_count": null,
   "metadata": {},
   "outputs": [],
   "source": [
    "plot_ival = (tstop-1000, tstop) # SETPARAM: plot interval\n",
    "plot_analytic_signal(sigmean, sigmean_bpss, analmag_sigmean, analphase_sigmean, plot_ival)"
   ]
  },
  {
   "cell_type": "code",
   "execution_count": null,
   "metadata": {},
   "outputs": [],
   "source": [
    "# Analytic signal for one representative trace\n",
    "tid = 1\n",
    "plot_analytic_signal(traces_raw[:,tid], traces_bp[:,tid], \n",
    "                     analytic_mag[:,tid], analytic_phase[:,tid],\n",
    "                     plot_ival)"
   ]
  },
  {
   "cell_type": "markdown",
   "metadata": {},
   "source": [
    "### Phase Vectors"
   ]
  },
  {
   "cell_type": "code",
   "execution_count": null,
   "metadata": {},
   "outputs": [],
   "source": [
    "# Load the burst intervals from the simulation config file\n",
    "from bgcellmodels.common import fileutils\n",
    "sim_config = fileutils.parse_json_file(os.path.join(outputs, 'sim_config.json'), nonstrict=True)\n",
    "burst_intervals = sim_config['CTX']['burst_intervals']"
   ]
  },
  {
   "cell_type": "code",
   "execution_count": null,
   "metadata": {},
   "outputs": [],
   "source": [
    "# Normalize and sample the complex analytic signal\n",
    "# analsig_norm = analsig_sigmean / np.sqrt(analsig_sigmean.real**2 + analsig_sigmean.imag**2)\n",
    "# analsig_norm = analsig_sigmean / np.sqrt(analsig_sigmean * analsig_sigmean.conjugate())\n",
    "analsig_norm = analsig_sigmean / np.abs(analsig_sigmean)\n",
    "\n",
    "def calc_mean_phase_vectors(spiketrains):\n",
    "    \"\"\"\n",
    "    Calculate mean phase vector of spikes with reference to given analytic signal\n",
    "    (e.g. BP filtered + Hilbert transformed).\n",
    "    \"\"\"\n",
    "    # Gather spiketimes that fall within intervals of cortical beta bursts\n",
    "    spikes_during = [] # list of numpy array\n",
    "    for i, st in enumerate(spiketrains):\n",
    "        spiketimes = st.magnitude\n",
    "        mask = np.zeros_like(spiketimes, dtype=bool)\n",
    "        for ival in burst_intervals:\n",
    "            mask = mask | ((spiketimes > ival[0]) & (spiketimes <= ival[1]))\n",
    "        spikes_during.append(spiketimes[mask])\n",
    "\n",
    "\n",
    "    Ts = sigmean_bpss.sampling_period.magnitude\n",
    "    t_start = sigmean_bpss.t_start.magnitude\n",
    "    mean_phase_vecs = []\n",
    "    for i, spiketimes in enumerate(spikes_during):\n",
    "        analsig_indices = np.round((spiketimes-t_start)/ Ts).astype(int) # indices into analytic signal\n",
    "        if analsig_indices.size > 0:\n",
    "            mean_phase_vecs.append(np.mean(analsig_norm[analsig_indices])) # mean of normalized phase vectors\n",
    "        else:\n",
    "            mean_phase_vecs.append(np.array([0 + 0j]))\n",
    "    mean_phase_vecs = np.array(mean_phase_vecs)\n",
    "    pop_phase_vec = np.mean(mean_phase_vecs)\n",
    "    return mean_phase_vecs, pop_phase_vec\n",
    "\n",
    "\n",
    "def plot_phase_vectors(mean_phase_vecs, pop_phase_vec, pop_label):\n",
    "    \"\"\"\n",
    "    Plot mean phase vectors for individual neurons and whole population\n",
    "    in Polar coordinates.\n",
    "    \"\"\"\n",
    "    # Save phase vectors for export\n",
    "    exported_data['cell_phase_vecs'][pop_label] = mean_phase_vecs\n",
    "    exported_data['pop_phase_vecs'][pop_label] = pop_phase_vec\n",
    "    \n",
    "    ax = plt.subplot(111, projection='polar')\n",
    "\n",
    "    vec_angs = np.angle(mean_phase_vecs)\n",
    "    vec_lens = np.abs(mean_phase_vecs)\n",
    "    rmax = (vec_lens.max() // 0.1 + 1) * 0.1\n",
    "\n",
    "    # ax.plot(vec_angs, vec_lens, 'ro')\n",
    "    ax.vlines(vec_angs, 0, vec_lens, color='g', linewidth=1, snap=True)\n",
    "    ax.vlines(np.angle(pop_phase_vec), 0, np.abs(pop_phase_vec), color='r', linewidth=3)\n",
    "    ax.plot(vec_angs, np.zeros_like(vec_angs)+rmax, 'go', markersize=5)\n",
    "\n",
    "    # Format axes\n",
    "    ax.grid(True)\n",
    "    ax.set_rticks(np.arange(0.1, 1.1, 0.1)) # less radial ticks\n",
    "    # ax.set_rticks(np.arange(0.1, int(vec_lens.max()/0.1+1)*0.1, 0.1)) # less radial ticks\n",
    "    ax.set_rmax(rmax)\n",
    "    # ax.set_rlabel_position(-90.0)  # Move radial labels away from plotted line\n",
    "    ax.set_title('Mean angle and vector length of {} neurons'.format(pop_label), va='bottom')\n",
    "\n",
    "    # kw = dict(arrowstyle=\"->\", color='g')\n",
    "    # for angle, radius in zip(phases, magnitudes):\n",
    "    #     ax.annotate(\"\", xy=(angle, radius), xytext=(0, 0), arrowprops=kw)"
   ]
  },
  {
   "cell_type": "markdown",
   "metadata": {},
   "source": [
    "## Phase Vector Length\n",
    "\n",
    "To test the degree of phase locking to the reference signal (mean CTX Vm), we compare the STN spike times to the analytic signal of the reference.\n",
    "\n",
    "See method description Sharott et al. (2016) and (2018)\n",
    "\n",
    "- Hilbert transform on reference signal\n",
    "- for each spike of each neuron: save the phase vector at spike time (angle + magnitude of Hilbert transform)\n",
    "- for mean vector length: \n",
    "    + it does not make sense to use the magnitude of the Hilbert transform since this is for the reference signal. \n",
    "    + It makes more sense to normalize each vector to length one (scale each component by vectorn norm). \n",
    "    + As described in [this nature article](https://www.nature.com/articles/srep35135#methods-and-materials): *\"The circular mean of the spike phases was calculated by taking the weighted sum of the cosine and sine of the angles, finally resulting in, the mean angle and mean vector length (R) over the number of spikes\"*"
   ]
  },
  {
   "cell_type": "markdown",
   "metadata": {},
   "source": [
    "### STN"
   ]
  },
  {
   "cell_type": "code",
   "execution_count": null,
   "metadata": {},
   "outputs": [],
   "source": [
    "pop_label = 'STN'\n",
    "segment = pops_segments['STN']\n",
    "spiketrains = segment.spiketrains[:] # select subset of spiketrains\n",
    "\n",
    "# Calculate neuron and population phase vectors\n",
    "mean_phase_vecs, pop_phase_vec = calc_mean_phase_vectors(spiketrains)\n",
    "\n",
    "# Show in polar plot\n",
    "plot_phase_vectors(mean_phase_vecs, pop_phase_vec, pop_label)"
   ]
  },
  {
   "cell_type": "markdown",
   "metadata": {},
   "source": [
    "### GPE.proto"
   ]
  },
  {
   "cell_type": "code",
   "execution_count": null,
   "metadata": {},
   "outputs": [],
   "source": [
    "pop_label = 'GPE.proto'\n",
    "spiketrains = pops_segments[pop_label].spiketrains[:] # select subset of spiketrains\n",
    "\n",
    "# Calculate neuron and population phase vectors\n",
    "mean_phase_vecs, pop_phase_vec = calc_mean_phase_vectors(spiketrains)\n",
    "\n",
    "# Show in polar plot\n",
    "plot_phase_vectors(mean_phase_vecs, pop_phase_vec, pop_label)"
   ]
  },
  {
   "cell_type": "markdown",
   "metadata": {},
   "source": [
    "### GPE.arky"
   ]
  },
  {
   "cell_type": "code",
   "execution_count": null,
   "metadata": {},
   "outputs": [],
   "source": [
    "pop_label = 'GPE.arky'\n",
    "spiketrains = pops_segments[pop_label].spiketrains[:] # select subset of spiketrains\n",
    "\n",
    "# Calculate neuron and population phase vectors\n",
    "mean_phase_vecs, pop_phase_vec = calc_mean_phase_vectors(spiketrains)\n",
    "\n",
    "# Show in polar plot\n",
    "plot_phase_vectors(mean_phase_vecs, pop_phase_vec, pop_label)"
   ]
  },
  {
   "cell_type": "markdown",
   "metadata": {},
   "source": [
    "### STR.MSN"
   ]
  },
  {
   "cell_type": "code",
   "execution_count": null,
   "metadata": {},
   "outputs": [],
   "source": [
    "pop_label = 'STR.MSN'\n",
    "spiketrains = pops_segments[pop_label].spiketrains[:] # select subset of spiketrains\n",
    "\n",
    "# Calculate neuron and population phase vectors\n",
    "mean_phase_vecs, pop_phase_vec = calc_mean_phase_vectors(spiketrains)\n",
    "\n",
    "# Show in polar plot\n",
    "plot_phase_vectors(mean_phase_vecs, pop_phase_vec, pop_label)"
   ]
  },
  {
   "cell_type": "markdown",
   "metadata": {},
   "source": [
    "### STR.FSI"
   ]
  },
  {
   "cell_type": "code",
   "execution_count": null,
   "metadata": {},
   "outputs": [],
   "source": [
    "pop_label = 'STR.FSI'\n",
    "spiketrains = pops_segments[pop_label].spiketrains[:] # select subset of spiketrains\n",
    "\n",
    "# Calculate neuron and population phase vectors\n",
    "mean_phase_vecs, pop_phase_vec = calc_mean_phase_vectors(spiketrains)\n",
    "\n",
    "# Show in polar plot\n",
    "plot_phase_vectors(mean_phase_vecs, pop_phase_vec, pop_label)"
   ]
  },
  {
   "cell_type": "markdown",
   "metadata": {},
   "source": [
    "## Coherence"
   ]
  },
  {
   "cell_type": "markdown",
   "metadata": {},
   "source": [
    "### STN"
   ]
  },
  {
   "cell_type": "code",
   "execution_count": null,
   "metadata": {},
   "outputs": [],
   "source": [
    "# ctx_vm_mean = neo.AnalogSignal(ctx_vm_signal.sum(axis=1).reshape((-1,1)), units=ctx_vm_signal.units, \n",
    "#                               sampling_rate=ctx_vm_signal.sampling_rate, t_start=ctx_vm_signal.t_start)\n",
    "\n",
    "# Copy signal metadata from CTX Vm signal\n",
    "# ctx_vm_mean = ctx_vm_signal.duplicate_with_new_array(ctx_vm_signal.sum(axis=1).reshape((-1,1)))\n",
    "\n",
    "# Coherence between averaged cortical Vm and STN LFP\n",
    "# N x CTX signals -> 1 x LFP signal\n",
    "freqs, coherence, phase_lag = elephant.spectral.welch_cohere(all_sigmean['CTX_Vm'],\n",
    "                                                             all_sigmean['STN_Vm'],\n",
    "                                                             freq_res=0.5)"
   ]
  },
  {
   "cell_type": "code",
   "execution_count": null,
   "metadata": {},
   "outputs": [],
   "source": [
    "fig, axes = plt.subplots(2, 1, figsize=(0.75*page_width, 2*ax_height))\n",
    "ax = axes[0]\n",
    "ineg = len(freqs)/2 # plot messed up because positive frequency axis comes before negative part\n",
    "ax.plot(freqs[:ineg], coherence[:ineg], label='CTX Vm - STN LFP')\n",
    "ax.set_ylabel('Coherence (unitless)')\n",
    "# ax.set_xlabel('frequency ({})'.format(freqs.units))\n",
    "ax.set_xlim((0, 100))\n",
    "ax.grid(True)\n",
    "# ax.set_yscale('log')\n",
    "ax.set_title('Coherence between Cortex mean Vm - STN LFP')\n",
    "ax.legend(loc='upper right')\n",
    "\n",
    "# Plot phase\n",
    "ax = axes[1]\n",
    "ax.plot(freqs[:ineg], phase_lag[:ineg], 'g-', label='phase')\n",
    "ax.set_ylabel('Phase (rad)')\n",
    "ax.set_xlabel('frequency ({})'.format(freqs.units))\n",
    "ax.set_xlim((0, 100))\n",
    "ax.grid(True)\n",
    "# ax.set_yscale('log')\n",
    "ax.set_title('Phase lag > 0 means CTX leads STN')\n",
    "ax.legend(loc='upper right')"
   ]
  },
  {
   "cell_type": "markdown",
   "metadata": {},
   "source": [
    "# Synaptic - Ionic Currents"
   ]
  },
  {
   "cell_type": "code",
   "execution_count": null,
   "metadata": {},
   "outputs": [],
   "source": [
    "# Make trigger signal for Beta based on zero-crossings of Beta phase\n",
    "phase_pos = np.array(analphase_sigmean.ravel() >= 0, dtype=float)\n",
    "phase_zero_idx = np.where(np.diff(phase_pos) == 1)[0] + 1 # zero crossings in UP direction\n",
    "phase_zero_times = sigmean_bpss.times.magnitude[phase_zero_idx] # use Hilbert transformed signal"
   ]
  },
  {
   "cell_type": "code",
   "execution_count": null,
   "metadata": {},
   "outputs": [],
   "source": [
    "# FIXME: temporary variables if Hilbert not calculated\n",
    "phase_pos = None\n",
    "phase_zero_idx = None\n",
    "phase_zero_times = None"
   ]
  },
  {
   "cell_type": "code",
   "execution_count": null,
   "metadata": {},
   "outputs": [],
   "source": [
    "# Function definitions for plotting\n",
    "import re, collections\n",
    "\n",
    "def get_synapse_index(trace_name):\n",
    "    matches = re.search(r'(?P<index>\\d+)$', trace_name)\n",
    "    syn_index = matches.group('index')\n",
    "    assert syn_index is not None\n",
    "    return int(syn_index)\n",
    "\n",
    "\n",
    "def sorted_signals(segment, trace_name):\n",
    "    return sorted([sig for sig in segment.analogsignals if sig.name.startswith(trace_name)],\n",
    "                  key=lambda sig: get_synapse_index(sig.name))\n",
    "\n",
    "\n",
    "def plot_signal_interval(ax, signal, interval, channels, **kwargs):\n",
    "    \"\"\"\n",
    "    Plot neo.AnalogSignal in given interval.\n",
    "    \"\"\"\n",
    "    rec_dt = signal.sampling_period.magnitude\n",
    "    tstart = signal.t_start.magnitude\n",
    "    sim_dur = signal.t_stop.magnitude\n",
    "    irange = [int((t-tstart)/rec_dt) for t in interval]\n",
    "    times = signal.times[irange[0]:irange[1]]\n",
    "    ax.plot(times, signal[irange[0]:irange[1], channels], **kwargs)\n",
    "\n",
    "    \n",
    "def plot_synapse_traces(pop_label, max_ncell, max_nsyn, interval, interval_only=True,\n",
    "                       channel_gates=None, channel_currents=None, beta_phase=True,\n",
    "                       trace_names=None):\n",
    "    \"\"\"\n",
    "    Plot Synaptic dynamics for specific cells and their recorded synapses.\n",
    "    \n",
    "    Typically both the cells in the population and their synapses have\n",
    "    been sampled.\n",
    "    \n",
    "    \n",
    "    @pre    If arguments 'channel_gates' and 'channel_currents' are given,\n",
    "            the signals they refer to are recorded from the same cells\n",
    "            as the synaptic currents and conductances. I.e. the indices\n",
    "            into channel-related signals are the same as those into\n",
    "            the synapse-related signals.\n",
    "    \"\"\"\n",
    "    segment = pops_segments[pop_label]\n",
    "    # NOTE: signals are akwardly ordered: one signal is the i-th synapse for all recorded cells\n",
    "    default_tracenames = 'gAMPA', 'gNMDA', 'iGLU', 'gGABAA', 'gGABAB', 'iGABA'\n",
    "    if trace_names is None:\n",
    "        trace_names = default_tracenames\n",
    "    all_synaptic_sigs = {tn: sorted_signals(segment, tn) for tn in trace_names}\n",
    "    trace_groups = {k:'GABA' if ('GABA' in k) else 'GLU' for k in all_synaptic_sigs}\n",
    "    signal = next((sigs[0] for sigs in all_synaptic_sigs.values() if len(sigs)>0), None)\n",
    "    if signal is None:\n",
    "        print(\"No synaptic traces for population {}\".format(pop_label))\n",
    "        return\n",
    "\n",
    "    # index in all_synaptic_sigs of the synaptic traces that exist (are recorded)\n",
    "    # existing_traces = [i for i,sigs in enumerate(all_synaptic_sigs.values()) if len(sigs)>0]\n",
    "    existing_traces = [sig_name for sig_name, sigs in all_synaptic_sigs.items() if len(sigs)>0]\n",
    "    num_ax_per_cell = len(existing_traces)\n",
    "    num_cell = min(signal.shape[1], max_ncell)\n",
    "    \n",
    "    # Select synapses to plot.\n",
    "    selected_synapses = {'GLU': [], 'GABA': []} # trace suffixes of selected synapses\n",
    "    for group in selected_synapses.keys():\n",
    "        tname = next((n for n in existing_traces if trace_groups[n] == group), None)\n",
    "        if tname is None:\n",
    "            continue\n",
    "        for j_sig, sig in enumerate(all_synaptic_sigs[tname]):\n",
    "            if j_sig >= max_nsyn:\n",
    "                break\n",
    "            selected_synapses[group].append(get_synapse_index(sig.name))\n",
    "\n",
    "    # Get signal time data\n",
    "    rec_dt = signal.sampling_period.magnitude\n",
    "    tstart = signal.t_start.magnitude\n",
    "    tstop = signal.t_stop.magnitude\n",
    "    if interval is None:\n",
    "        interval = (tstart, tstop)\n",
    "    irange = [int((t-tstart)/rec_dt) for t in interval]\n",
    "    times = signal.times[irange[0]:irange[1]]\n",
    "\n",
    "    # Make the figure\n",
    "    num_axes = num_cell * num_ax_per_cell\n",
    "    fig, axes = plt.subplots(num_axes, 1, \n",
    "                             figsize=(0.75*page_width, num_axes*ax_height),\n",
    "                             sharex=True)\n",
    "    # fig.suptitle(\"{} synapse dynamics\".format(pop_label))\n",
    "\n",
    "    # For each cell we try to plot all synapses of one type on one axis\n",
    "    for i_cell in xrange(num_cell):\n",
    "        # One axis for all iGLU, one for all iGABA, one for each conductance type.\n",
    "        # This makes a maximum of 6 axes per cell\n",
    "        for i_plotted, tracename in enumerate(existing_traces):\n",
    "            i_ax = (i_cell * num_ax_per_cell) + i_plotted\n",
    "            try:\n",
    "                ax = axes[i_ax]\n",
    "            except TypeError:\n",
    "                ax = axes\n",
    "            \n",
    "            # Plot all synapses for this axis (same conductance or current)\n",
    "            for j_sig, sig in enumerate(all_synaptic_sigs[tracename]):\n",
    "                i_syn = get_synapse_index(sig.name)\n",
    "                if i_syn in selected_synapses[trace_groups[tracename]]:\n",
    "                    label = None # if j_sig>0 else ax_tracename\n",
    "                    if interval_only:\n",
    "                        ax.plot(times, sig[irange[0]:irange[1], i_cell], label=label)\n",
    "                    else:\n",
    "                        ax.plot(signal.times, sig[:, i_cell], label=label)\n",
    "            \n",
    "            # Plot Beta trigger signal (zero phase)\n",
    "            if beta_phase:\n",
    "                ymin, ymax = ax.get_ylim()\n",
    "                ax.vlines(phase_zero_times, ymin, ymax, label='$\\phi$ = 0',\n",
    "                          colors='black', linestyle='dashed', linewidths=0.5)\n",
    "            \n",
    "            # NOTE: cell index -> see recorder._get_current_segment() -> should save source_ids/channel_ids\n",
    "            # TODO: plot spike times or Vm of source_indices in same plot\n",
    "            ax_r = None\n",
    "            \n",
    "            # Plot channel gating vars if we are plotting conductance\n",
    "            if channel_gates and tracename.startswith('g'):\n",
    "                ax_r = ax.twinx()\n",
    "                gating_sigs = [sig for sig in segment.analogsignals if sig.name in channel_gates]\n",
    "                for k, csig in enumerate(gating_sigs):\n",
    "                    color, style = analysis.pick_line_options('red', 'broken', k)\n",
    "                    plot_signal_interval(ax_r, csig, interval, i_cell, label=csig.name,\n",
    "                                         color=color, linestyle=style)\n",
    "                ax_r.legend()\n",
    "                ax_r.set_ylabel('open')\n",
    "            \n",
    "            # Plot channel currents if we are plotting synaptic currents\n",
    "            if channel_currents and tracename.startswith('i'):\n",
    "                ax_r = ax.twinx()\n",
    "                curr_sigs = [sig for sig in segment.analogsignals if sig.name in channel_currents]\n",
    "                for k, csig in enumerate(curr_sigs):\n",
    "                    color, style = analysis.pick_line_options('red', 'broken', k)\n",
    "                    plot_signal_interval(ax_r, csig, interval, i_cell, label=csig.name,\n",
    "                                         color=color, linestyle=style)\n",
    "                ax_r.legend()\n",
    "                ax_r.set_ylabel('current ($mA/cm^2$)')\n",
    "            \n",
    "            # Annotation and axes\n",
    "            ax.grid(True, axis='y')\n",
    "            if tracename.startswith('i'):\n",
    "                ax.set_ylabel('current (nA)')\n",
    "            else:\n",
    "                ax.set_ylabel('conductance (uS)')\n",
    "            if i_plotted == 0:\n",
    "                ax.set_title('{} cell {}'.format(pop_label, i_cell))\n",
    "            # ax.set_xlabel('time (ms)')\n",
    "            ax.set_ylim((ymin, ymax))\n",
    "            ax.set_xlim((times[0].magnitude, times[-1].magnitude))\n",
    "            ax.legend()"
   ]
  },
  {
   "cell_type": "markdown",
   "metadata": {},
   "source": [
    "## STN Synapse Dynamics"
   ]
  },
  {
   "cell_type": "code",
   "execution_count": null,
   "metadata": {},
   "outputs": [],
   "source": [
    "# Plot synaptic conductances and currents for selected populations\n",
    "t_interval = ROI_INTERVAL # SETPARAM: time interval\n",
    "stn_segment = pops_segments['STN']\n",
    "\n",
    "plot_synapse_traces('STN', max_ncell=5, max_nsyn=2,\n",
    "                    channel_gates=[sig.name for sig in stn_segment.analogsignals if (\n",
    "                                   sig.name.startswith('STN_CaT'))],\n",
    "                    trace_names=['i_NR2A', 'i_GLU', 'iGABA'],\n",
    "                    interval=t_interval, interval_only=True)"
   ]
  },
  {
   "cell_type": "markdown",
   "metadata": {},
   "source": [
    "## STN Balance Exc/Inh"
   ]
  },
  {
   "cell_type": "code",
   "execution_count": null,
   "metadata": {},
   "outputs": [],
   "source": [
    "# We can get a rough estimate of the balance of excitation / inhibition\n",
    "# by integrating the recorded synaptic currents for both excitatory and\n",
    "# inhibitory synapses, and then multiplying each with the ratio of actual\n",
    "# over recorded synapses.\n",
    "\n",
    "def sum_total_current(currents_traces, cell_idx):\n",
    "    \"\"\"\n",
    "    Sum synaptic currents for all recorded synapses of a given cell.\n",
    "    \"\"\"\n",
    "    itot = 0.0\n",
    "    for current, traces in currents_traces.items():\n",
    "        # traces is all signals (synapses) recorded from the same synapse type\n",
    "        for sig in traces:\n",
    "            isyn = sig.magnitude[:, cell_idx]\n",
    "            itot += isyn.sum()\n",
    "    return itot\n",
    "\n",
    "\n",
    "def calc_exc_inh_ratio(pop_label, exc_currents, inh_currents, cell_idx=0):\n",
    "    \"\"\"\n",
    "    @param    cell_idx : int\n",
    "              which cell to use out of all recorded cells\n",
    "    \"\"\"\n",
    "    segment = pops_segments[pop_label]\n",
    "    \n",
    "    def afferents_total_current(afferents_currents):\n",
    "        \"\"\"\n",
    "        @param    afferents_currents : dict[str, list(str)]\n",
    "                  Map afferent population labels to recorded synaptic current names\n",
    "        \"\"\"\n",
    "        itot = 0.0 # total current for all given afferents\n",
    "        for afferent_pop in afferents_currents.keys():\n",
    "            # Afferent currents, by current type\n",
    "            aff_traces = {curr: sorted_signals(segment, curr) for curr in afferents_currents[afferent_pop]}\n",
    "            num_rec_aff = len(aff_traces.values()[0]) # number of synapses for afferent population\n",
    "            itot_aff = sum_total_current(aff_traces, cell_idx) # sum total of all recorded currents for afferent\n",
    "\n",
    "            # Sum number of afferents (matrix column), should be same for each cell\n",
    "            num_syn_aff = sum(network_params[afferent_pop][pop_label]['conn_matrix'][:, 0] > 0)\n",
    "\n",
    "            # Multiply total currents by ratio of recorded to afferent synapses\n",
    "            itot += itot_aff * num_syn_aff / num_rec_aff\n",
    "        return itot\n",
    "    \n",
    "    itot_exc = afferents_total_current(exc_currents) # excitatory currents are negative by convention\n",
    "    itot_inh = afferents_total_current(inh_currents)\n",
    "    \n",
    "    ratio = -1.0 * itot_exc / itot_inh\n",
    "    print(\"{}: Ratio of integrated current EXC / INH = {:.2f}\".format(pop_label, ratio))\n",
    "    return ratio"
   ]
  },
  {
   "cell_type": "code",
   "execution_count": null,
   "metadata": {},
   "outputs": [],
   "source": [
    "exc_currents = {'CTX': ('i_NR2A', 'i_GLU')}\n",
    "inh_currents = {'GPE.all': ('iGABA',)}\n",
    "\n",
    "stn_exh_inh_ratio = calc_exc_inh_ratio('STN', exc_currents, inh_currents)"
   ]
  },
  {
   "cell_type": "markdown",
   "metadata": {},
   "source": [
    "## GPe Synapse Dynamics"
   ]
  },
  {
   "cell_type": "code",
   "execution_count": null,
   "metadata": {},
   "outputs": [],
   "source": [
    "# Plot synaptic conductances and currents for selected populations\n",
    "t_interval = ROI_INTERVAL # SETPARAM: time interval\n",
    "\n",
    "plot_synapse_traces('GPE.proto', max_ncell=5, max_nsyn=2,\n",
    "                    interval=t_interval, interval_only=True,\n",
    "                    trace_names=['iGLU', 'iGABA', 'iGABAA']) # iGABAA is from STR.MSN"
   ]
  },
  {
   "cell_type": "markdown",
   "metadata": {},
   "source": [
    "# Save Notebook"
   ]
  },
  {
   "cell_type": "code",
   "execution_count": null,
   "metadata": {},
   "outputs": [],
   "source": [
    "%%javascript\n",
    "require([\"base/js/namespace\"],function(Jupyter) {\n",
    "    Jupyter.notebook.save_checkpoint();\n",
    "});\n",
    "// Jupyter.notebook.kernel.execute(\"notebook_name = \" + \"\\'\"+Jupyter.notebook.notebook_name+\"\\'\");"
   ]
  },
  {
   "cell_type": "code",
   "execution_count": null,
   "metadata": {},
   "outputs": [],
   "source": [
    "# import os.path\n",
    "thisfile = 'lunet_stn-gpe-str_analysis.ipynb'\n",
    "# outfile = os.path.join(outputs, 'synchrony_analysis.html')\n",
    "# Export using built-in template:\n",
    "#!jupyter nbconvert --to html --template=full --output-dir=$outputs $thisfile\n",
    "# NOTE: template comes from ToC2 Notebook Extension\n",
    "!jupyter nbconvert $thisfile --template=toc2 --output-dir=$outputs"
   ]
  },
  {
   "cell_type": "code",
   "execution_count": null,
   "metadata": {},
   "outputs": [],
   "source": [
    "# Export analysis results\n",
    "import pickle, os.path\n",
    "outfile = os.path.join(outputs, 'analysis_results.pkl')\n",
    "with open(outfile, 'wb') as fout:\n",
    "    pickle.dump(exported_data, fout)\n",
    "print(\"Saved analysis results to file: \" + outfile)"
   ]
  },
  {
   "cell_type": "code",
   "execution_count": null,
   "metadata": {},
   "outputs": [],
   "source": []
  }
 ],
 "metadata": {
  "kernelspec": {
   "display_name": "Python [default]",
   "language": "python",
   "name": "python2"
  },
  "language_info": {
   "codemirror_mode": {
    "name": "ipython",
    "version": 2
   },
   "file_extension": ".py",
   "mimetype": "text/x-python",
   "name": "python",
   "nbconvert_exporter": "python",
   "pygments_lexer": "ipython2",
   "version": "2.7.13"
  },
  "toc": {
   "nav_menu": {},
   "number_sections": false,
   "sideBar": true,
   "skip_h1_title": false,
   "toc_cell": false,
   "toc_position": {
    "height": "840px",
    "left": "0px",
    "right": "1467px",
    "top": "67px",
    "width": "213px"
   },
   "toc_section_display": "block",
   "toc_window_display": true
  }
 },
 "nbformat": 4,
 "nbformat_minor": 2
}
