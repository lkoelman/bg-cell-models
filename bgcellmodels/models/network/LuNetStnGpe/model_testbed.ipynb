{
 "cells": [
  {
   "cell_type": "markdown",
   "metadata": {},
   "source": [
    "# Imports"
   ]
  },
  {
   "cell_type": "code",
   "execution_count": 1,
   "metadata": {},
   "outputs": [],
   "source": [
    "from __future__ import print_function\n",
    "import time\n",
    "import os\n",
    "from datetime import datetime\n",
    "\n",
    "import numpy as np\n",
    "\n",
    "# MPI support\n",
    "from mpi4py import MPI\n",
    "comm = MPI.COMM_WORLD\n",
    "mpi_size = comm.Get_size() # number of processes\n",
    "mpi_rank = comm.Get_rank() # rank of current process\n",
    "WITH_MPI = mpi_size > 1\n",
    "\n",
    "# PyNN library\n",
    "import pyNN.neuron as sim\n",
    "from pyNN import space\n",
    "from pyNN.parameters import Sequence\n",
    "from pyNN.utility import init_logging # connection_plot is bugged\n",
    "import neo.io"
   ]
  },
  {
   "cell_type": "code",
   "execution_count": null,
   "metadata": {},
   "outputs": [
    {
     "name": "stdout",
     "output_type": "stream",
     "text": [
      "\t1 \n",
      "\t1 \n",
      " \n",
      "loading STh cell data structures...\n",
      " \n",
      "\t1 \n",
      "\t1 \n",
      "  2 trees\n",
      "  loaded tree 0 (23 branches)\n",
      "  loaded tree 1 (11 branches)\n",
      "\t1 \n",
      "\n",
      "[LFPsim] Functions in <lfp_lib.hoc> loaded into Hoc\n"
     ]
    }
   ],
   "source": [
    "# Custom PyNN extensions\n",
    "from bgcellmodels.extensions.pynn.synapses import (\n",
    "    GluSynapse, GabaSynapse, GabaSynTmHill, GABAAsynTM,\n",
    "    GabaSynTm2, NativeMultiSynapse)\n",
    "from bgcellmodels.extensions.pynn.utility import connection_plot\n",
    "from bgcellmodels.extensions.pynn.populations import Population\n",
    "\n",
    "# Monkey-patching of pyNN.neuron.Population class\n",
    "# from bgcellmodels.extensions.pynn.recording import TraceSpecRecorder\n",
    "# sim.Population._recorder_class = TraceSpecRecorder\n",
    "\n",
    "# Custom NEURON mechanisms\n",
    "from bgcellmodels.mechanisms import synapses, noise # loads MOD files\n",
    "\n",
    "# Custom cell models\n",
    "import bgcellmodels.models.STN.GilliesWillshaw.gillies_pynn_model as gillies\n",
    "import bgcellmodels.models.GPe.Gunay2008.gunay_pynn_model as gunay\n",
    "# import bgcellmodels.models.striatum.Mahon2000_MSN.mahon_pynn_model as mahon\n",
    "# import bgcellmodels.models.interneuron.Golomb2007_FSI.golomb_pynn_model as golomb\n",
    "\n",
    "import bgcellmodels.cellpopdata.connectivity as connectivity # for use in config files\n",
    "ConnectivityPattern = connectivity.ConnectivityPattern\n",
    "make_connection_list = connectivity.make_connection_list\n",
    "make_divergent_pattern = connectivity.make_divergent_pattern\n",
    "\n",
    "# Our physiological parameters\n",
    "# from bgcellmodels.cellpopdata.physiotypes import Populations as PopID\n",
    "#from bgcellmodels.cellpopdata.physiotypes import ParameterSource as ParamSrc\n",
    "# from bgcellmodels.cellpopdata.cellpopdata import CellConnector\n",
    "\n",
    "from bgcellmodels.common.spikelib import make_oscillatory_bursts, make_variable_bursts\n",
    "from bgcellmodels.common.configutil import eval_params\n",
    "from bgcellmodels.common.stdutil import getdictvals\n",
    "from bgcellmodels.common import logutils, fileutils\n",
    "\n",
    "# Debug messages\n",
    "logutils.setLogLevel('quiet', [\n",
    "    'bpop_ext',\n",
    "    'bluepyopt.ephys.parameters', \n",
    "    'bluepyopt.ephys.mechanisms', \n",
    "    'bluepyopt.ephys.morphologies'])"
   ]
  },
  {
   "cell_type": "markdown",
   "metadata": {},
   "source": [
    "# Simulation Arguments"
   ]
  },
  {
   "cell_type": "code",
   "execution_count": null,
   "metadata": {},
   "outputs": [],
   "source": [
    "# SETPARAM: config file and output dir\n",
    "config_file = '/home/luye/workspace/bgcellmodels/bgcellmodels/models/network/LuNetSGS/configs/DA-depleted-v3_CTX-f0_template.json'\n",
    "out_basedir = '~/storage'"
   ]
  },
  {
   "cell_type": "code",
   "execution_count": null,
   "metadata": {},
   "outputs": [],
   "source": [
    "# Parse config JSON file to dict\n",
    "config_file = os.path.expanduser(config_file)\n",
    "config_name, ext = os.path.splitext(os.path.basename(config_file))\n",
    "sim_config = fileutils.parse_json_file(config_file, nonstrict=True)\n",
    "config = sim_config"
   ]
  },
  {
   "cell_type": "code",
   "execution_count": null,
   "metadata": {},
   "outputs": [],
   "source": [
    "# Post process output specifier\n",
    "if out_basedir is None or out_basedir == '': # shell can pass empty string\n",
    "    out_basedir = '~/storage'\n",
    "job_id = 1\n",
    "time_now = time.time()\n",
    "timestamp = datetime.fromtimestamp(time_now).strftime('%Y.%m.%d')\n",
    "\n",
    "# Default output directory\n",
    "# NOTE: don't use timestamp -> mpi ranks will make different filenames\n",
    "out_subdir = '{stamp}_job-{job_id}_{config_name}'.format(\n",
    "                                        stamp=timestamp,\n",
    "                                        job_id=job_id,\n",
    "                                        config_name=config_name)\n",
    "\n",
    "# File names for data files\n",
    "# Default output format is hdf5 / NIX io\n",
    "filespec = '*_{stamp}_test_job-{job_id}.mat'.format(\n",
    "                                        stamp=timestamp,\n",
    "                                        job_id=job_id)\n",
    "\n",
    "# Make output directory if non-existing, but only on one host\n",
    "out_basedir = os.path.expanduser(out_basedir)\n",
    "if not os.path.isdir(out_basedir) and mpi_rank == 0:\n",
    "    os.mkdir(out_basedir)\n",
    "\n",
    "# Don't make directory with variable timestamp -> mpi ranks will make different\n",
    "out_fulldir = os.path.join(out_basedir, out_subdir)\n",
    "if not os.path.isdir(out_fulldir) and mpi_rank == 0:\n",
    "    os.mkdir(out_fulldir)\n",
    "output = os.path.join(out_fulldir, filespec)"
   ]
  },
  {
   "cell_type": "code",
   "execution_count": null,
   "metadata": {},
   "outputs": [],
   "source": [
    "# Function arguments\n",
    "pop_scale       = 1.0\n",
    "sim_dur         = 500.0\n",
    "export_locals   = False\n",
    "with_gui        = True\n",
    "report_progress = False\n",
    "seed            = 888\n",
    "calculate_lfp   = False\n",
    "burst_frequency = 20.0\n",
    "transient_period = 0\n",
    "max_write_interval = 1000.0"
   ]
  },
  {
   "cell_type": "markdown",
   "metadata": {},
   "source": [
    "# Simulator Setup"
   ]
  },
  {
   "cell_type": "code",
   "execution_count": null,
   "metadata": {},
   "outputs": [],
   "source": [
    "sim.setup(timestep=0.025, min_delay=0.1, max_delay=10.0, use_cvode=False)\n",
    "if mpi_rank == 0:\n",
    "    init_logging(logfile=None, debug=True)\n",
    "\n",
    "\n",
    "print(\"\"\"\\nRunning net on MPI rank {} with following settings:\n",
    "- sim_dur = {}\n",
    "- output = {}\"\"\".format(mpi_rank, sim_dur, output))\n",
    "\n",
    "print(\"\\nThis is node {} ({} of {})\\n\".format(\n",
    "      sim.rank(), sim.rank() + 1, sim.num_processes()))\n",
    "\n",
    "h = sim.h\n",
    "sim.state.duration = sim_dur # not used by PyNN, only by our custom funcs\n",
    "sim.state.rec_dt = 0.05\n",
    "sim.state.mcellran4_rng_indices = {} # Keep track of MCellRan4 indices for independent random streams.\n",
    "finit_handlers = []\n",
    "\n",
    "# Make one random generator that is shared and should yield same results\n",
    "# for each MPI rank, and one with unique results.\n",
    "# - The shared (parallel-safe) RNGs should be used in functions that are\n",
    "#   executed on all ranks, like instantiating Population and Projection\n",
    "#   objects.\n",
    "# - The default RNG for Connectors is NumpyRNG(seed=151985012)\n",
    "if seed is None:\n",
    "    seed = config['simulation']['shared_rng_seed']\n",
    "shared_seed = seed # original: 151985012\n",
    "sim.state.rank_rng_seed = rank_seed = sim.state.native_rng_baseseed + sim.state.mpi_rank\n",
    "# RNGs that can be passed to PyNN objects like Connector subclasses\n",
    "shared_rng_pynn = sim.NumpyRNG(seed=shared_seed)\n",
    "rank_rng_pynn = sim.NumpyRNG(seed=rank_seed)\n",
    "# Raw Numpy RNGs (numpy.random.RandomState) to be used in our own functions\n",
    "shared_rng = shared_rng_pynn.rng\n",
    "rank_rng = rank_rng_pynn.rng"
   ]
  },
  {
   "cell_type": "markdown",
   "metadata": {},
   "source": [
    "# Local Functions"
   ]
  },
  {
   "cell_type": "code",
   "execution_count": null,
   "metadata": {},
   "outputs": [],
   "source": [
    "params_global_context = globals()\n",
    "params_local_context = locals() # capture function arguments\n",
    "\n",
    "def get_pop_parameters(pop, *param_names):\n",
    "    \"\"\"\n",
    "    Get population parameters from config and evaluate them.\n",
    "    \"\"\"\n",
    "    local_context = config[pop].get('local_context', {})\n",
    "    param_specs = getdictvals(config[pop], *param_names, as_dict=True)\n",
    "    pvals = eval_params(param_specs, params_global_context, local_context)\n",
    "    return getdictvals(pvals, *param_names)\n",
    "\n",
    "def get_cell_parameters(pop):\n",
    "    \"\"\"\n",
    "    Get PyNN cell parameters as dictionary of numerical values.\n",
    "    \"\"\"\n",
    "    local_context = config[pop].get('local_context', {})\n",
    "    param_specs = config[pop].get('PyNN_cell_parameters', {})\n",
    "    return eval_params(param_specs, params_global_context, local_context)\n",
    "\n",
    "def synapse_from_config(pre, post):\n",
    "    \"\"\"\n",
    "    Make Synapse object from config dict\n",
    "    \"\"\"\n",
    "    local_context = config[post].get('local_context', {})\n",
    "    syn_type, syn_params = getdictvals(config[post][pre]['synapse'],\n",
    "                                       'name', 'parameters')\n",
    "    syn_class = synapse_types[syn_type]\n",
    "    syn_pvals = eval_params(syn_params, params_global_context, local_context)\n",
    "    return syn_class(**syn_pvals)\n",
    "\n",
    "def connector_from_config(pre, post, rng=None):\n",
    "    \"\"\"\n",
    "    Make Connector object from config dict\n",
    "    \"\"\"\n",
    "    config_locals = config[post].get('local_context', {})\n",
    "    con_type, con_params = getdictvals(config[post][pre]['connector'],\n",
    "                                       'name', 'parameters')\n",
    "    connector_class = getattr(sim, con_type)\n",
    "    con_pvals = eval_params(con_params, params_global_context,\n",
    "                           [params_local_context, config_locals])\n",
    "    connector = connector_class(**con_pvals)\n",
    "    if rng is not None:\n",
    "        connector.rng = rng\n",
    "    return connector\n",
    "\n",
    "\n",
    "# LFP calculation: command line args get priority over config file\n",
    "if calculate_lfp is None:\n",
    "    calculate_lfp, = get_pop_parameters('STN', 'calculate_lfp')\n",
    "\n",
    "# Set NEURON integrator/solver options\n",
    "if calculate_lfp:\n",
    "    sim.state.cvode.use_fast_imem(True)\n",
    "sim.state.cvode.cache_efficient(True) # necessary for lfp, also 33% reduction in simulation time"
   ]
  },
  {
   "cell_type": "markdown",
   "metadata": {},
   "source": [
    "# Populations"
   ]
  },
  {
   "cell_type": "markdown",
   "metadata": {},
   "source": [
    "## STN Population"
   ]
  },
  {
   "cell_type": "markdown",
   "metadata": {},
   "source": [
    "## GPE Population"
   ]
  },
  {
   "cell_type": "code",
   "execution_count": null,
   "metadata": {},
   "outputs": [],
   "source": [
    "# Get common parameters for GPE cells\n",
    "gpe_dx, gaba_mech, gpe_pop_size, frac_proto, frac_arky = get_pop_parameters(\n",
    "    'GPE.all', 'grid_dx', 'GABA_mechanism', 'base_population_size',\n",
    "    'prototypic_fraction', 'arkypallidal_fraction')\n",
    "\n",
    "gpe_common_params = get_cell_parameters('GPE.all')\n",
    "\n",
    "gpe_grid = space.Line(x0=0.0, dx=gpe_dx,\n",
    "                      y=1e6, z=0.0)"
   ]
  },
  {
   "cell_type": "code",
   "execution_count": null,
   "metadata": {},
   "outputs": [],
   "source": [
    "#---------------------------------------------------------------------------\n",
    "# GPE Prototypic\n",
    "\n",
    "proto_type = gunay.GpeProtoCellType(**gpe_common_params)\n",
    "proto_type.model.default_GABA_mechanism = gaba_mech # workaround for string parameter\n",
    "\n",
    "ncell_proto = int(gpe_pop_size * pop_scale * frac_proto)\n",
    "pop_gpe_proto = Population(ncell_proto, \n",
    "                           cellclass=proto_type,\n",
    "                           label='GPE.proto',\n",
    "                           structure=gpe_grid)"
   ]
  },
  {
   "cell_type": "code",
   "execution_count": null,
   "metadata": {},
   "outputs": [],
   "source": [
    "#---------------------------------------------------------------------------\n",
    "# GPE Arkypallidal\n",
    "\n",
    "arky_type = gunay.GpeArkyCellType(**gpe_common_params)\n",
    "arky_type.model.default_GABA_mechanism = gaba_mech # workaround for string parameter\n",
    "\n",
    "ncell_arky = int(gpe_pop_size * pop_scale * frac_arky)\n",
    "pop_gpe_arky = Population(ncell_arky, \n",
    "                          cellclass=arky_type,\n",
    "                          label='GPE.arky',\n",
    "                          structure=gpe_grid)"
   ]
  },
  {
   "cell_type": "code",
   "execution_count": null,
   "metadata": {},
   "outputs": [],
   "source": [
    "#---------------------------------------------------------------------------\n",
    "# GPE Surrogate spike sources\n",
    "\n",
    "num_gpe_surrogates, surr_rate = get_pop_parameters('GPE.all', \n",
    "    'num_surrogates', 'surrogate_rate')\n",
    "\n",
    "if num_gpe_surrogates > 0:\n",
    "    pop_gpe_surrogate = Population(num_gpe_surrogates, \n",
    "                                   sim.SpikeSourcePoisson(rate=surr_rate),\n",
    "                                   label='GPE.surrogate')\n",
    "else:\n",
    "    pop_gpe_surrogate = None"
   ]
  },
  {
   "cell_type": "code",
   "execution_count": null,
   "metadata": {},
   "outputs": [],
   "source": [
    "#---------------------------------------------------------------------------\n",
    "# GPE Assembly (Proto + Arky)\n",
    "\n",
    "asm_gpe = sim.Assembly(pop_gpe_proto, pop_gpe_arky)"
   ]
  },
  {
   "cell_type": "code",
   "execution_count": null,
   "metadata": {},
   "outputs": [],
   "source": [
    "pop_ctx = Population(10, sim.SpikeSourceArray(spike_times=range(10)),\n",
    "                         label='CTX')"
   ]
  },
  {
   "cell_type": "code",
   "execution_count": null,
   "metadata": {},
   "outputs": [],
   "source": [
    "[pop for pop in Population.all_populations if isinstance(\n",
    "                        pop.celltype, sim.cells.NativeCellType)]"
   ]
  },
  {
   "cell_type": "markdown",
   "metadata": {},
   "source": [
    "## STR Population"
   ]
  },
  {
   "cell_type": "markdown",
   "metadata": {},
   "source": [
    "## CTX Population"
   ]
  },
  {
   "cell_type": "code",
   "execution_count": null,
   "metadata": {},
   "outputs": [],
   "source": []
  }
 ],
 "metadata": {
  "kernelspec": {
   "display_name": "Python 2",
   "language": "python",
   "name": "python2"
  },
  "language_info": {
   "codemirror_mode": {
    "name": "ipython",
    "version": 2
   },
   "file_extension": ".py",
   "mimetype": "text/x-python",
   "name": "python",
   "nbconvert_exporter": "python",
   "pygments_lexer": "ipython2",
   "version": "2.7.15"
  },
  "toc": {
   "base_numbering": 1,
   "nav_menu": {},
   "number_sections": false,
   "sideBar": true,
   "skip_h1_title": false,
   "title_cell": "Table of Contents",
   "title_sidebar": "Contents",
   "toc_cell": false,
   "toc_position": {},
   "toc_section_display": "block",
   "toc_window_display": true
  }
 },
 "nbformat": 4,
 "nbformat_minor": 2
}
