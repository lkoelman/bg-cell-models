{
 "cells": [
  {
   "cell_type": "markdown",
   "metadata": {},
   "source": [
    "# Setup"
   ]
  },
  {
   "cell_type": "code",
   "execution_count": null,
   "metadata": {},
   "outputs": [],
   "source": [
    "%matplotlib notebook\n",
    "%load_ext autoreload\n",
    "%autoreload 1\n",
    "\n",
    "import numpy as np\n",
    "import scipy.signal\n",
    "import matplotlib\n",
    "import matplotlib.pyplot as plt\n",
    "\n",
    "import os, pickle\n",
    "import neo.io\n",
    "import elephant\n",
    "\n",
    "# analysis.py module in same folder\n",
    "from bgcellmodels.common import units, analysis, signal as ephys_algos\n",
    "from bgcellmodels.extensions.neo import signal as neoutil\n",
    "\n",
    "# Functions formerly defined in notebook\n",
    "import bgcellmodels.common.popsignal as aconfig\n",
    "from bgcellmodels.common.popsignal import *\n",
    "# NOTE: aimport works after importing!\n",
    "# So you can add this before a cell if you want to edit the function\n",
    "# %aimport bgcellmodels.common.popsignal\n",
    "\n",
    "units.set_units_module('quantities')\n",
    "import quantities as pq\n",
    "\n",
    "# Jupyter notebook extensions\n",
    "%load_ext bgcellmodels.extensions.jupyter.skip_cell_extension"
   ]
  },
  {
   "cell_type": "markdown",
   "metadata": {},
   "source": [
    "## Plotting Options"
   ]
  },
  {
   "cell_type": "code",
   "execution_count": null,
   "metadata": {},
   "outputs": [],
   "source": [
    "# fix bug for notebook backend where figures not shown\n",
    "if matplotlib.get_backend() == 'nbAgg':\n",
    "    from bgcellmodels.extensions.jupyter import jupyterutil\n",
    "    jupyterutil.notebook_show_figs_after_exception()\n",
    "\n",
    "# Figure dimensions\n",
    "fig_aspect_ratio = 8.0 / 3.0\n",
    "page_width = 10\n",
    "fig_width = 0.8 * page_width\n",
    "fig_height = fig_width / fig_aspect_ratio\n",
    "ax_width = 0.7 * page_width\n",
    "ax_height = ax_width / fig_aspect_ratio\n",
    "\n",
    "# Style of figures (default colors etc.): see https://matplotlib.org/gallery/style_sheets/style_sheets_reference.html\n",
    "plt.style.use('default')\n",
    "\n",
    "# Consistent size in backend 'notebook' (100 dpi) and 'inline' (72 dpi)\n",
    "def plt_setrc():\n",
    "    matplotlib.rcParams['savefig.dpi'] = 100\n",
    "    matplotlib.rcParams['figure.dpi'] = 100\n",
    "\n",
    "# from IPython.core.pylabtools import activate_matplotlib, backends\n",
    "# def plt_backend(backend):\n",
    "#     \"\"\"\n",
    "#     Alternative to cell magic '%matplotlib <backend>' that makes figure size consistent\n",
    "#     \"\"\"\n",
    "#     activate_matplotlib(backends[backend])\n",
    "#     plt_setrc()"
   ]
  },
  {
   "cell_type": "markdown",
   "metadata": {},
   "source": [
    "## Support Functions"
   ]
  },
  {
   "cell_type": "code",
   "execution_count": null,
   "metadata": {},
   "outputs": [],
   "source": [
    "def make_slice(interval, t_start, Ts):\n",
    "    \"\"\"\n",
    "    Make slice object for addressing interval (a,b) in signal starting\n",
    "    at t_start and recorded with sampling time Ts.\n",
    "    \"\"\"\n",
    "    irange = [int((t-tstart)/Ts) for t in interval]\n",
    "    return np.s_[irange[0]:irange[1]] # slice object\n",
    "\n",
    "def make_spiketrains(pop_label, sig_label, threshold, check_plot=True):\n",
    "    \"\"\"\n",
    "    Convert voltage signal to spike times using threshold detection\n",
    "    \"\"\"\n",
    "    # Get the signal\n",
    "    segment = pops_segments[pop_label]\n",
    "    v_axterm = next((sig for sig in segment.analogsignals if sig.name == sig_label))\n",
    "\n",
    "    # Plot to check\n",
    "    if check_plot:\n",
    "        cell_indices = range(10)\n",
    "        plot_vm_signals(v_axterm, cell_indices, ROI_INTERVAL, title=sig_label)\n",
    "\n",
    "    # Convert to Neo.SpikeTrain using threshold\n",
    "    spike_trains = neoutil.make_spiketrains(\n",
    "                            v_axterm, threshold=0.0,\n",
    "                            annotations_simple=['source_population'],\n",
    "                            annotations_indexable={\n",
    "                                'source_ids':'source_id',\n",
    "                                'source_indices':'source_index'})\n",
    "\n",
    "    return spike_trains"
   ]
  },
  {
   "cell_type": "markdown",
   "metadata": {},
   "source": [
    "# Import Data"
   ]
  },
  {
   "cell_type": "code",
   "execution_count": null,
   "metadata": {},
   "outputs": [],
   "source": [
    "# SETPARAM: path to simulation data\n",
    "outputs = '/home/luye/Documents/simdata/c6_sweep-DBS-amp_gsyn-std-recalibrate/LuNetDBS_2019.08.02_16.29.09_job-9758_axons-full-V3_gNMDA-low_template'\n",
    "\n",
    "# SETPARAM: time segment to load if split over multiple files\n",
    "matfile_common_pattern = '-2000ms'\n",
    "\n",
    "# SETPARAM: sweep value\n",
    "sweep_var_name = 'dbs-amp'\n",
    "sweep_var_value = '0.75'\n",
    "\n",
    "# SETPARAM: region of interest (ROI) for plotting\n",
    "ROI_INTERVAL = (0.0, 2000.0)\n",
    "aconfig.ROI_INTERVAL = ROI_INTERVAL"
   ]
  },
  {
   "cell_type": "markdown",
   "metadata": {},
   "source": [
    "## Import Settings\n",
    "\n",
    "Define settings here or load from external python script by uncommenting second cell."
   ]
  },
  {
   "cell_type": "code",
   "execution_count": null,
   "metadata": {},
   "outputs": [],
   "source": [
    "# SETPARAM: reference phase 'from_ctx' / 'from_stn' / 'from_gpe' / float\n",
    "reference_phase = {\n",
    "    'method': 'from_ctx',\n",
    "    'passband': (17.0, 23.0)\n",
    "}\n",
    "\n",
    "automatic_execution = False\n",
    "\n",
    "# SETPARAM: filename for numerical analysis results (pickle file)\n",
    "outsuffix = '{:.1f}s-{:.1f}s'.format(ROI_INTERVAL[0]/1e3, ROI_INTERVAL[1]/1e3)\n",
    "pickle_filename = 'analysis_results_{}_ARTICLE.pkl'.format(outsuffix)"
   ]
  },
  {
   "cell_type": "code",
   "execution_count": null,
   "metadata": {},
   "outputs": [],
   "source": [
    "# SETPARAM: uncomment cell if settings from external configuration file\n",
    "# conf_file = os.environ.get('NB_CONF_FILE', 'nb_exec_conf.py') # pass filename from calling script\n",
    "# with open(conf_file) as conf:\n",
    "#     conf_script = conf.read()\n",
    "#     print(\"Contents of config file:\\n\" + conf_script)\n",
    "\n",
    "# SETPARAM: as alternative, paste configuration file as text\n",
    "# conf_script = \"\"\"<paste here>\"\"\"\n",
    "\n",
    "# Execute configuration script to load settings variables\n",
    "# exec(conf_script)"
   ]
  },
  {
   "cell_type": "code",
   "execution_count": null,
   "metadata": {},
   "outputs": [],
   "source": [
    "# SETPARAM: directory to save figures, set to None for no saving\n",
    "parent_dir, _ = os.path.split(outputs)\n",
    "save_fig_path = os.path.join(parent_dir, 'figures_network_analysis_fig3b') # None\n",
    "\n",
    "# SETPARAM: whether to save figures\n",
    "export_figs = False\n",
    "if export_figs and not os.path.exists(save_fig_path):\n",
    "    os.mkdir(save_fig_path)"
   ]
  },
  {
   "cell_type": "markdown",
   "metadata": {},
   "source": [
    "## Export Settings"
   ]
  },
  {
   "cell_type": "code",
   "execution_count": null,
   "metadata": {},
   "outputs": [],
   "source": [
    "# Notebook variables for signal access\n",
    "all_psd = {}          # tuple[list[float]: freqs, list[float]: psd)\n",
    "all_psd_peaks = {}    # tuple[list[float]: peak_freqs, list[float] : peak_psd)\n",
    "all_psd_sum_subband = {} # tuple[list[tuple[int,int]]: band_limits, float: sum_psd)\n",
    "all_fpeak = {}        # tuple[list[float]: freqs, list[float]: psd)\n",
    "\n",
    "all_signals = {}   # neo.AnalogSignal variables\n",
    "all_vm_signals = {}\n",
    "all_spiketrains = {}\n",
    "all_mean_rate = {}\n",
    "all_morgera = {}\n",
    "all_spectrogram = {}\n",
    "all_sigmean = {}\n",
    "all_burst_metrics = {}\n",
    "all_comp_coherence = {} # dict['<pop A>-<pop B>', (fs: numpy.array, Cxy:numpy.array)]\n",
    "all_vmean_coherence = {}\n",
    "all_I_exc_inh = {}\n",
    "all_I_afferents = {}"
   ]
  },
  {
   "cell_type": "code",
   "execution_count": null,
   "metadata": {},
   "outputs": [],
   "source": [
    "# SETPARAM: data that will be exported (choose dicts above)\n",
    "exported_data = {\n",
    "    'mean_rate': all_mean_rate,\n",
    "    'PSD': all_psd,\n",
    "#     'PSD_peaks': all_psd_peaks,\n",
    "#     'PSD_subband_power': all_psd_sum_subband,\n",
    "#     'PSD_input_freq': all_fpeak,\n",
    "    'spectrogram': all_spectrogram,\n",
    "    'Morgera_index': all_morgera,\n",
    "    'burst_metrics': all_burst_metrics,\n",
    "    'coherence_vmean': all_vmean_coherence,\n",
    "    'coherence_composite': all_comp_coherence,\n",
    "    'I_exc_inh_ratio': all_I_exc_inh,\n",
    "    'I_afferents' : all_I_afferents,\n",
    "    # Metadata\n",
    "    'sim_config': None,\n",
    "    'sweep_settings': {'var_name': sweep_var_name, 'var_value': sweep_var_value},\n",
    "    'analyzed_interval': ROI_INTERVAL,\n",
    "    'populations': None,\n",
    "}\n",
    "\n",
    "all_cell_phase_vecs = exported_data.setdefault('cell_phase_vecs', {})\n",
    "all_pop_phase_vecs = exported_data.setdefault('pop_phase_vecs', {})"
   ]
  },
  {
   "cell_type": "markdown",
   "metadata": {},
   "source": [
    "## Load Data"
   ]
  },
  {
   "cell_type": "code",
   "execution_count": null,
   "metadata": {},
   "outputs": [],
   "source": [
    "# File filter for Neo data files\n",
    "file_filter = lambda f: f.endswith('.mat') and matfile_common_pattern in f\n",
    "\n",
    "if isinstance(outputs, str):\n",
    "    filenames = os.listdir(outputs)\n",
    "    pop_files = [os.path.join(outputs, f) for f in filenames if file_filter(f)]\n",
    "    params_file = next((os.path.join(outputs,f) for f in filenames if f.startswith('pop-parameters')), None)\n",
    "else:\n",
    "    # outputs is list[str] of paths to .mat files\n",
    "    pop_files = outputs\n",
    "    params_file = None\n",
    "\n",
    "pops_segments = {}\n",
    "read_segment_id = 0\n",
    "\n",
    "# Read binary files using Neo IO module\n",
    "for pop_file in pop_files:\n",
    "    reader = neo.io.get_io(pop_file)\n",
    "    blocks = reader.read()\n",
    "    assert len(blocks) == 1, \"More than one Neo Block in file.\"\n",
    "    pop_label = blocks[0].name\n",
    "\n",
    "    if len(blocks[0].segments)-1 < read_segment_id:\n",
    "        raise ValueError(\"Segment index greater than number of Neo segments\"\n",
    "                         \" in file {}\".format(pop_file))\n",
    "    if pop_label in pops_segments:\n",
    "        raise ValueError(\"Duplicate population labels in files\")\n",
    "        \n",
    "    pops_segments[pop_label] = blocks[0].segments[read_segment_id]\n",
    "\n",
    "# Extract some signal metadata\n",
    "exported_data['populations'] = pop_labels = pops_segments.keys()\n",
    "sim_dur = pops_segments['STN'].spiketrains[0].t_stop.magnitude\n",
    "\n",
    "# Make all spike trains accessible by population\n",
    "def spiketrains_by_gid(gids, pop_filter=None):\n",
    "    if pop_filter is None:\n",
    "        filter_func = lambda p: True\n",
    "    elif isinstance(pop_filter, str):\n",
    "        filter_func = lambda p: p.startswith(pop_filter)\n",
    "    all_trains = sum([seg.spiketrains for pop, seg in pops_segments.items() if filter_func(pop)], [])\n",
    "    return [st for st in all_trains if st.annotations['source_id'] in gids]"
   ]
  },
  {
   "cell_type": "code",
   "execution_count": null,
   "metadata": {},
   "outputs": [],
   "source": [
    "# Load the simulation config file\n",
    "from bgcellmodels.common import fileutils\n",
    "exported_data['sim_config'] = sim_config = fileutils.parse_json_file(\n",
    "    os.path.join(outputs, 'simconfig', 'sim_config.json'), nonstrict=True)\n",
    "\n",
    "# Check if segment contains bursting inputs\n",
    "ctx_bursting_frac = sim_config['CTX']['spiking_pattern']['bursting_fraction']\n",
    "ctx_burst_intervals = sim_config['CTX']['spiking_pattern']['intervals']\n",
    "without_ctx_bursting = (\n",
    "    (ctx_bursting_frac == 0)\n",
    "    or all((ival[1] <= ROI_INTERVAL[0] for ival in ctx_burst_intervals))\n",
    "    or all((ival[0] >= ROI_INTERVAL[1] for ival in ctx_burst_intervals))\n",
    ")"
   ]
  },
  {
   "cell_type": "code",
   "execution_count": null,
   "metadata": {
    "scrolled": false
   },
   "outputs": [],
   "source": [
    "# The recordings are saved in Neo format. See:\n",
    "# http://neo.readthedocs.io/en/latest/\n",
    "# http://neo.readthedocs.io/en/latest/api_reference.html#neo.core.AnalogSignal\n",
    "# - Each segment has attributes 'analogsignals' and 'spiketrains'\n",
    "# - Each quantity (e.g. AnalogSignal.signal) has attributes magnitude, units, dimensionality\n",
    "\n",
    "# List all recorded signals\n",
    "for pop_label, segment in pops_segments.items():\n",
    "    print(\"\\n{} has following signals:\".format(pop_label))\n",
    "    for signal in segment.analogsignals:\n",
    "        print(\"\\t- '{:10}\\t[{}] - description: {}\".format(signal.name, signal.units, signal.description))\n",
    "    print(\"\\t- {} spiketrains\".format(len(segment.spiketrains)))"
   ]
  },
  {
   "cell_type": "markdown",
   "metadata": {},
   "source": [
    "# Network Parameters"
   ]
  },
  {
   "cell_type": "code",
   "execution_count": null,
   "metadata": {},
   "outputs": [],
   "source": [
    "if params_file is not None:\n",
    "    import pickle\n",
    "    with open(params_file, 'rb') as pf:\n",
    "        network_params = pickle.load(pf)\n",
    "        print(\"Found parameters for following populations:\\n\"\n",
    "              \"{}\\n\".format(network_params.keys()))\n",
    "\n",
    "    for pre_pop, pre_params in network_params.iteritems():\n",
    "        if not isinstance(pre_params, dict):\n",
    "            print(\"Ignoring entry: '{}'\\n\".format(pre_pop))\n",
    "            continue\n",
    "        for post_pop, pre_post_params in pre_params.iteritems():\n",
    "            if 'conpair_pvals' in pre_post_params:\n",
    "                print(\"Parameters for connection {} -> {}:\\n\"\n",
    "                      \"{}\\n{}\\n\".format(pre_pop, post_pop,\n",
    "                                        pre_post_params['conpair_pnames'], \n",
    "                                        pre_post_params['conpair_pvals'][:,2:].max(axis=0)))"
   ]
  },
  {
   "cell_type": "markdown",
   "metadata": {},
   "source": [
    "## Connection Matrices"
   ]
  },
  {
   "cell_type": "code",
   "execution_count": null,
   "metadata": {
    "scrolled": false
   },
   "outputs": [],
   "source": [
    "with_connection_plots = False\n",
    "\n",
    "# Print STN-GPE connection matrix\n",
    "skip_targets = 'GPE.axons', 'CTX.axons'\n",
    "for pre_pop, pre_params in network_params.iteritems():\n",
    "    if not isinstance(pre_params, dict):\n",
    "        continue\n",
    "    for post_pop, pre_post_params in pre_params.iteritems():\n",
    "        if post_pop in skip_targets:\n",
    "            continue\n",
    "        if with_connection_plots and ('conn_matrix' in pre_post_params):\n",
    "            adjacency_mat = pre_post_params['conn_matrix']\n",
    "            divx = max(3, adjacency_mat.shape[1]/10)\n",
    "            divy = max(3, adjacency_mat.shape[0]/10)\n",
    "            analysis.plot_connectivity_matrix(adjacency_mat, \n",
    "                                              pop0=pre_pop, pop1=post_pop,\n",
    "                                              px=divx, py=divy,\n",
    "                                              title='{} -> {}'.format(pre_pop, post_pop))\n",
    "\n",
    "# for pops in [('STN', 'GPE'), ('GPE', 'STN'), ('GPE', 'GPE'), ('STN', 'STN')]:\n",
    "#     stn_gpe_weights = network_params[pops[0]][pops[1]]['conn_matrix']\n",
    "#     analysis.plot_connectivity_matrix(stn_gpe_weights, pop0=pops[0], pop1=pops[1], pop_size=100, seaborn=False)"
   ]
  },
  {
   "cell_type": "markdown",
   "metadata": {},
   "source": [
    "# Spike Trains\n",
    "\n",
    "<span style='color:red;font-weight:bold'>WARNING</SPAN>: In rastergram plots, note the number of spike trains plotted (see y-axis). If it is too high you get overlapping marker bars (marker height is larger than row height allocated to one spiketrain). This leads to misleading plots as spiketrains are overlapping which looks like an artificially elevated firing rate."
   ]
  },
  {
   "cell_type": "code",
   "execution_count": null,
   "metadata": {},
   "outputs": [],
   "source": [
    "%matplotlib inline\n",
    "plt_setrc()"
   ]
  },
  {
   "cell_type": "markdown",
   "metadata": {},
   "source": [
    "## Functions"
   ]
  },
  {
   "cell_type": "code",
   "execution_count": null,
   "metadata": {},
   "outputs": [],
   "source": [
    "def get_pop_color(pop_label):\n",
    "    if pop_label.startswith('CTX'):\n",
    "        return 'c'\n",
    "    elif pop_label.startswith('STR'):\n",
    "        return 'm'\n",
    "    elif pop_label.startswith('GPE'):\n",
    "        return 'r'\n",
    "    elif pop_label.startswith('STN'):\n",
    "        return 'g'\n",
    "    else:\n",
    "        return 'b'\n",
    "\n",
    "def get_pop_order(pop_label):\n",
    "    if pop_label.startswith('CTX'):\n",
    "        return 0\n",
    "    elif pop_label.startswith('STR'):\n",
    "        return 1\n",
    "    elif pop_label.startswith('GPE'):\n",
    "        return 2\n",
    "    elif pop_label.startswith('STN'):\n",
    "        return 3\n",
    "    else:\n",
    "        return 100"
   ]
  },
  {
   "cell_type": "code",
   "execution_count": null,
   "metadata": {},
   "outputs": [],
   "source": [
    "def plot_stimlock_fractions(fractions, pop_label='Cell'):\n",
    "    \"\"\"\n",
    "    Histogram plot of stimulus-locked spike fractions in population.\n",
    "    \"\"\"\n",
    "    bin_counts, bin_edges = np.histogram(fractions, bins=np.arange(0,1.1,0.05))\n",
    "    bin_fractions = bin_counts.astype(float) / np.sum(bin_counts)\n",
    "    bin_centers = (bin_edges[:-1] + bin_edges[1:]) / 2\n",
    "    bin_width = np.diff(bin_edges)[0]\n",
    "\n",
    "    fig, ax = plt.subplots(figsize=(page_width*0.6, 3.0))\n",
    "    ax.bar(bin_centers * 100, bin_fractions * 100, width=bin_width * 100, edgecolor='k')\n",
    "    ax.set_title('{} activation fractions'.format(pop_label))\n",
    "    ax.set_ylabel('frequency (%)')\n",
    "    ax.set_xlabel('stimulus-locked spikes (%)')\n",
    "    ax.set_xticks(range(0, 105, 5), minor=True)\n",
    "    ax.set_xticks(range(0, 110, 10), minor=False)\n",
    "    ax.grid(True, axis='both', which='both')\n",
    "    fig.subplots_adjust(bottom=0.15) # prevent clipping of xlabel\n",
    "    return fig, ax\n",
    "\n",
    "\n",
    "def plot_propagation_delays(trains_start, trains_end, bin_width=0.25, bin_range=(0, 5)):\n",
    "    \"\"\"\n",
    "    Measure propagation delays between spike times in train A and B.\n",
    "    The algorithm discards pairs of spike trains that do not have an equal number of spikes\n",
    "    \"\"\"\n",
    "    assert len(trains_start) == len(trains_end)\n",
    "    all_delays = []\n",
    "    \n",
    "    # Delays between each pair of spike trains (start vs end of axon)\n",
    "    num_nonmatching = 0\n",
    "    reliability = 0.0\n",
    "    for train_a, train_b in zip(trains_start, trains_end):\n",
    "        times_a = train_a.as_array()\n",
    "        times_b = train_b.as_array()\n",
    "        if times_a.shape != times_b.shape:\n",
    "            num_nonmatching += 1\n",
    "            reliability += min(1.0, len(times_b) / len(times_a))\n",
    "            continue\n",
    "        else:\n",
    "            reliability += 1\n",
    "        delays_ab = times_b - times_a\n",
    "        all_delays.extend(delays_ab)\n",
    "    \n",
    "    reliability /= len(trains_start)\n",
    "    print(\"Transmission reliability is %f\" % reliability)\n",
    "        \n",
    "    if num_nonmatching > 0:\n",
    "        print(\"Discarded %d non-matching spike trains\" % num_nonmatching)\n",
    "        \n",
    "    # Histogram of phase angles\n",
    "    num_bins = int((bin_range[1] - bin_range[0]) / bin_width)\n",
    "    bin_counts, bin_edges = np.histogram(all_delays, bins=num_bins, range=bin_range)\n",
    "    bin_fractions = bin_counts.astype(float) / np.sum(bin_counts)\n",
    "    bin_centers = [(bin_edges[i] + bin_edges[i+1]) / 2 for i in range(num_bins)]\n",
    "    # print(zip(bin_centers, bin_counts))\n",
    "    \n",
    "    fig, ax = plt.subplots()\n",
    "    bars = ax.bar(bin_centers, bin_counts, width=bin_width)\n",
    "    \n",
    "    fig.suptitle('Propagation delays')\n",
    "    ax.set_xlabel('delay (ms)')\n",
    "    ax.set_ylabel('num spikes')\n",
    "\n",
    "\n",
    "def compare_spiketrains(trains_a, trains_b, t_range, i_trains):\n",
    "    \"\"\"\n",
    "    Compare spike trains by plotting a rastergram with corresponding \n",
    "    spike trains in alternating rows\n",
    "    \n",
    "    @param    i_trains : list[int]\n",
    "              Indices of spike trians to plot\n",
    "    \"\"\"\n",
    "    fig, ax = plt.subplots()\n",
    "    \n",
    "    y_vals = np.arange(2 * len(i_trains))\n",
    "    for j, i_train in enumerate(i_trains):\n",
    "\n",
    "        times_a = trains_a[i_train].as_array()\n",
    "        y_a = np.ones_like(times_a) * (2*j)\n",
    "        \n",
    "        times_b = trains_b[i_train].as_array()\n",
    "        y_b = np.ones_like(times_b) * (2*j+1)\n",
    "        \n",
    "        ax.plot(times_a, y_a, marker='|', linestyle='', snap=True, color='r')\n",
    "        \n",
    "        ax.plot(times_b, y_b, marker='|', linestyle='', snap=True, color='b')\n",
    "    \n",
    "    ax.set_xlim(t_range)\n",
    "    ax.set_ylim((min(y_vals)-0.5, max(y_vals)+0.5))\n",
    "    ax.grid(True, axis='x', which='major')"
   ]
  },
  {
   "cell_type": "markdown",
   "metadata": {},
   "source": [
    "## Spike Statistics"
   ]
  },
  {
   "cell_type": "code",
   "execution_count": null,
   "metadata": {},
   "outputs": [],
   "source": [
    "import collections\n",
    "pop_firing_rates = collections.OrderedDict()\n",
    "for pop_label in sorted(pops_segments.keys(), key=get_pop_order):\n",
    "    segment = pops_segments[pop_label]\n",
    "    all_spiketrains[pop_label] = segment.spiketrains\n",
    "    # Can use elephant.spike_train_generation.peak_detection() if only raw voltage signals\n",
    "    pop_rate = 0.0\n",
    "    for st in segment.spiketrains:\n",
    "        pop_rate += elephant.statistics.mean_firing_rate(st).rescale('Hz').magnitude\n",
    "    pop_rate = pop_rate / len(segment.spiketrains)\n",
    "    pop_firing_rates[pop_label] = pop_rate\n",
    "    \n",
    "    all_mean_rate[pop_label] = pop_rate\n",
    "    print(\"Mean firing rate for {} is {}\".format(pop_label, pop_rate))"
   ]
  },
  {
   "cell_type": "code",
   "execution_count": null,
   "metadata": {},
   "outputs": [],
   "source": [
    "\n",
    "# Also plot target rates in DD and normal conditions\n",
    "invivo_rates = { # (upper, lower) or (median-std, median+std)\n",
    "    'CTX': {\n",
    "        'CTL.Bergman2015-Li2012': [1.0, 5.0],\n",
    "    },\n",
    "    'STR.MSN': {\n",
    "        'DD.Rat.KitaKita2011': [3.8, 9.4], # Kita & Kita (2011): baseline, peak is 140\n",
    "        'CTL.Rat.KitaKita2011': [0.0, 1.65], # Kita Kita (2011)\n",
    "    },\n",
    "    'STR.FSI': {\n",
    "        'CTL.Berke2004': [10.0, 100.0], # Berke (2004, 2008)\n",
    "    },\n",
    "    'GPE.proto': {\n",
    "        'DD.Monkey.Nambu2014': [18.7, 63.7], # Nambu (2014): mean 41.2\n",
    "        'CTL.Rat.Stoptask.Mallet2016': [41.3, 53.5],\n",
    "        'CTL.Rat.Sleep-Act.Mallet2008': [32.4, 35.0],\n",
    "        'DD.Rat.Sleep-Act.Mallet2008': [13.6, 14.6],\n",
    "        # Nambu(2014): mean 65.2\n",
    "    },\n",
    "    'GPE.arky': {\n",
    "        'CTL.Rat.Mallet2016': [7.0, 10.8], # rat, Mallet (2016)\n",
    "    },\n",
    "    'STN': {\n",
    "        # 'CTL.Monkey.Bergman2015': [20.0, 25.0], # Bergman book\n",
    "        'CTL.Rat.Sleep-Act.Mallet2008': [11.1, 16.6],\n",
    "        'DD.Rat.Sleep-Act.Mallet2008': [25.8, 37.4],\n",
    "        'CTL.Rat.Sleep-Act.Kita2011': [9.8, 14.8],\n",
    "        'DD.Rat.Sleep-Act.Kita2011': [17.3, 23.3],\n",
    "        'DD.Human.Sharott2018': [33.0, 34.0],\n",
    "    }\n",
    "}\n",
    "\n",
    "fig, ax = plt.subplots()\n",
    "\n",
    "model_pops = [k for k in pop_firing_rates.keys() if 'surrogate' not in k]\n",
    "index = np.arange(len(model_pops))\n",
    "bar_width = 0.35\n",
    "opacity = 0.4\n",
    "\n",
    "rate_indicators = []\n",
    "rate_labels = []\n",
    "for i, pop_label in enumerate(model_pops):\n",
    "    # Draw in vivo rates\n",
    "    for j, src_rates in enumerate(invivo_rates.get(pop_label, {}).items()):\n",
    "        label, bounds = src_rates\n",
    "        color = 'rgbmk'[j] if 'Rat' in label else 'grey' \n",
    "        line_kwargs = {'color': color, 'linewidth': 1.0, 'linestyle': ':' if label.startswith('DD') else '-'}\n",
    "        lines = ax.vlines(i-.02+j*.02, bounds[0], bounds[1], **line_kwargs)\n",
    "        ax.hlines(bounds, i-bar_width/4, i+bar_width/4, **line_kwargs)\n",
    "        rate_indicators.append(lines)\n",
    "        rate_labels.append('{} - {}'.format(pop_label, label))\n",
    "    \n",
    "    # Draw simulation rates\n",
    "    pop_rate = pop_firing_rates[pop_label]\n",
    "    color = 'green' if (bounds[0] <= pop_rate <= bounds[1]) else 'red' # red bar if not within in-vivo range\n",
    "    ax.bar(i, pop_rate, bar_width, alpha=opacity, color=color)\n",
    "\n",
    "\n",
    "ax.set_xlabel('Population')\n",
    "ax.set_ylabel('Mean firing rate (Hz)')\n",
    "ax.set_title('Mean firing rate for each population')\n",
    "ax.set_xticks(index)\n",
    "ax.set_xticklabels(model_pops)\n",
    "max_rate = max(pop_firing_rates.values())+10\n",
    "ax.set_yticks(np.arange(0, max_rate+5, 5), minor=False)\n",
    "ax.set_yticks(np.arange(0, max_rate+2.5, 2.5), minor=True)\n",
    "ax.set_ylim((0, max_rate))\n",
    "ax.grid(True, axis='y', which='major')\n",
    "# ax.legend()\n",
    "\n",
    "# Draw separate legend\n",
    "fig, ax = plt.subplots()\n",
    "fig.legend(rate_indicators, rate_labels, loc='upper center', frameon=False)\n",
    "ax.axis('off')"
   ]
  },
  {
   "cell_type": "markdown",
   "metadata": {},
   "source": [
    "## Running Spikerates"
   ]
  },
  {
   "cell_type": "code",
   "execution_count": null,
   "metadata": {
    "scrolled": false
   },
   "outputs": [],
   "source": [
    "# %%skip False\n",
    "\n",
    "def plot_avg_spikerate(pop_label, cell_ids=None, t_range=None, bin_width=20.0, adaptive=False, fig=None):\n",
    "    \"\"\"\n",
    "    Plot running mean firing rate of population.\n",
    "    Bin width also determines bin spacing (no sliding window).\n",
    "    \"\"\"\n",
    "    segment = pops_segments[pop_label]\n",
    "    if cell_ids is None:\n",
    "        cell_ids = range(len(segment.spiketrains))\n",
    "    if t_range is None:\n",
    "        t_range = (0.0, np.round(segment.spiketrains[0].t_stop.magnitude, 3))\n",
    "    \n",
    "    min_spikes = 10\n",
    "    # Adaptive method increases bin adaptively until 'min_spikes' included\n",
    "    if adaptive:\n",
    "        mean_rates = ephys_algos.nrn_avg_rate_adaptive([segment.spiketrains[i] for i in cell_ids],\n",
    "                                                      t_range[0], t_range[1], binwidth=bin_width,\n",
    "                                                      minsum=min_spikes).as_numpy()\n",
    "    else:\n",
    "        mean_rates = ephys_algos.nrn_avg_rate_simple([segment.spiketrains[i] for i in cell_ids],\n",
    "                                                    t_range[0], t_range[1],\n",
    "                                                    binwidth=bin_width).as_numpy()\n",
    "    if fig is None:\n",
    "        fig, ax = plt.subplots(1, 1, figsize=(page_width,ax_height))\n",
    "    else:\n",
    "        nrows = len(fig.axes)+1\n",
    "        ax = fig.add_subplot(nrows,1,nrows)\n",
    "        \n",
    "    t_axis = np.arange(mean_rates.size) * bin_width + t_range[0]\n",
    "    ax.plot(t_axis, mean_rates, color=get_pop_color(pop_label))\n",
    "    ax.grid(True)\n",
    "    \n",
    "    fig.suptitle('{} mean population firing rate (running average)'.format(pop_label))\n",
    "    return fig, ax\n",
    "\n",
    "for pop in pop_labels:\n",
    "    plot_avg_spikerate(pop, bin_width=50)\n",
    "#fig.tight_layout()"
   ]
  },
  {
   "cell_type": "markdown",
   "metadata": {},
   "source": [
    "## Raster Plots"
   ]
  },
  {
   "cell_type": "code",
   "execution_count": null,
   "metadata": {},
   "outputs": [],
   "source": [
    "num_pops = len(pops_segments)\n",
    "i_pop = 0\n",
    "\n",
    "def plot_spiketrain(spike_trains, cell_ids, t_range, sharex=None, sharey=None,\n",
    "                    figsize=(page_width,ax_height), plot_compact=False,\n",
    "                    export=False, order_by='cell_pop_idx', ticks_dx=1e3,\n",
    "                    grid=True):\n",
    "    \"\"\"\n",
    "    Plot spiketrains for one population.\n",
    "    \n",
    "    @param    cell_ids : list(int)\n",
    "              Cell indices in population that will be visible (y-axis constrainment).\n",
    "    \"\"\"\n",
    "    global i_pop\n",
    "    \n",
    "    sim_dur = spike_trains[0].t_stop.magnitude\n",
    "    \n",
    "    # Don't plot all rastergrams in same figure\n",
    "    fig_spikes = plt.figure(figsize=figsize)\n",
    "    ax = plt.subplot(1,1,1, sharex=sharex, sharey=sharey)\n",
    "    # fig_spikes, ax = plt.subplot(1, 1, figsize=(page_width,ax_height), sharex=sharex)\n",
    "    if not plot_compact:\n",
    "        fig_spikes.suptitle('{} spiketrains'.format(pop_label))\n",
    "    \n",
    "    pop_size = len(spike_trains)\n",
    "    \n",
    "    # Plot all spiketrains but constrain y-axis later (so you can pan & zoom)\n",
    "    # for i_train in range(pop_size):\n",
    "    #     y = spiketrain.annotations.get('source_id', i_train)\n",
    "    # Only plot selected spike trains\n",
    "    y_vals = np.empty(len(cell_ids))\n",
    "    for j, i_train in enumerate(cell_ids):\n",
    "        spiketrain = spike_trains[i_train]\n",
    "        if order_by == 'cell_pop_idx':\n",
    "            y_vals[j] = i_train\n",
    "        elif order_by == 'caller':\n",
    "            y_vals[j] = j\n",
    "        y_vec = np.ones_like(spiketrain) * y_vals[j]\n",
    "        ax.plot(spiketrain, y_vec,\n",
    "                marker='|', linestyle='', \n",
    "                snap=True, color=get_pop_color(pop_label))\n",
    "    \n",
    "    \n",
    "    # ax.set_xticks(np.arange(0, sim_dur+5000, 5000), minor=False) # uncomment for long time range\n",
    "    if plot_compact:\n",
    "        ax.set_yticks([]) # (np.arange(min(y_vals), max(y_vals)+1, 1), minor=False)\n",
    "        ax.set_xticks(np.arange(0, sim_dur+1000, ticks_dx), minor=False)\n",
    "        ax.set_xticklabels([])\n",
    "        ax.set_yticklabels([])\n",
    "    else:\n",
    "        ax.set_yticks(np.arange(min(y_vals), max(y_vals)+5, 5), minor=False)\n",
    "        ax.set_xticks(np.arange(0, sim_dur+1000, ticks_dx), minor=False)\n",
    "        ax.set_ylabel('{} cell #'.format(pop_label))\n",
    "        \n",
    "    ax.set_xlim(t_range)\n",
    "    ax.set_ylim((min(y_vals)-0.5, max(y_vals)+0.5))\n",
    "    ax.grid(grid, axis='x', which='major')\n",
    "    \n",
    "    if export_figs and export:\n",
    "        fname = 'rastergram_{}_cell-{}-{}'.format(pop_label, cell_ids[0], cell_ids[-1])\n",
    "        save_figure(fname, fig=fig_spikes, bbox_inches='tight')\n",
    "\n",
    "    i_pop += 1\n",
    "    return fig_spikes, ax"
   ]
  },
  {
   "cell_type": "markdown",
   "metadata": {},
   "source": [
    "### all spiketrains"
   ]
  },
  {
   "cell_type": "code",
   "execution_count": null,
   "metadata": {
    "scrolled": false
   },
   "outputs": [],
   "source": [
    "# Choose populations and cells indices to plot\n",
    "shared_axis = None\n",
    "for pop_label in sorted(pop_labels, key=get_pop_order):\n",
    "    segment = pops_segments[pop_label]\n",
    "    max_num_plot = 50\n",
    "    num_spiketrains = min(len(segment.spiketrains), max_num_plot)\n",
    "    # SETPARAM: choose cells to plot\n",
    "    cell_indices = (0 + np.arange(num_spiketrains, dtype=int)) % len(segment.spiketrains)\n",
    "    t_interval = ROI_INTERVAL # SETPARAM: time interval\n",
    "    fig_height = ax_height*num_spiketrains/20.0\n",
    "    # NOTE: don't use sharey when different population sizes\n",
    "    spike_trains = pops_segments[pop_label].spiketrains\n",
    "    fig, shared_axis = plot_spiketrain(spike_trains, cell_indices, t_interval,\n",
    "                                       sharex=shared_axis, sharey=None,\n",
    "                                       figsize=(page_width, fig_height), plot_compact=False)\n",
    "\n",
    "# plot_spiketrain('STN', range(20), (0.0, 5e3))"
   ]
  },
  {
   "cell_type": "markdown",
   "metadata": {},
   "source": [
    "### ARTICLE <a class=\"tocSkip\">\n",
    "    \n",
    "Modified rastergram for article"
   ]
  },
  {
   "cell_type": "code",
   "execution_count": null,
   "metadata": {
    "scrolled": false
   },
   "outputs": [],
   "source": [
    "# for pop_label in 'STN', 'GPE.proto':\n",
    "#     segment = pops_segments[pop_label]\n",
    "#     max_num_plot = 20\n",
    "#     num_spiketrains = min(len(segment.spiketrains), max_num_plot)\n",
    "#     # SETPARAM: choose cells to plot\n",
    "#     cell_offset = 0\n",
    "#     cell_indices = (cell_offset + np.arange(num_spiketrains, dtype=int)) % len(segment.spiketrains)\n",
    "#     t_width = 1000\n",
    "#     t_offset = 0\n",
    "#     t_interval = ROI_INTERVAL[0]+t_offset, ROI_INTERVAL[0]+t_offset+t_width # SETPARAM: time interval\n",
    "#     fig_size = (0.9*fig_width, ax_height*num_spiketrains/20.0)\n",
    "#     # NOTE: don't use sharey when different population sizes\n",
    "#     spike_trains = pops_segments[pop_label].spiketrains\n",
    "#     fig, shared_axis = plot_spiketrain(spike_trains, cell_indices, t_interval,\n",
    "#                                        sharex=None, sharey=None,\n",
    "#                                        figsize=fig_size, ticks_dx=.5e3,\n",
    "#                                        export=True, plot_compact=False, grid=False)"
   ]
  },
  {
   "cell_type": "markdown",
   "metadata": {},
   "source": [
    "# Raw Signals"
   ]
  },
  {
   "cell_type": "code",
   "execution_count": null,
   "metadata": {},
   "outputs": [],
   "source": [
    "# %matplotlib notebook\n",
    "# plt_setrc()"
   ]
  },
  {
   "cell_type": "markdown",
   "metadata": {},
   "source": [
    "## DBS Signal\n",
    "\n",
    "Plot DBS signal and stimulus-locked spiking or other signals."
   ]
  },
  {
   "cell_type": "code",
   "execution_count": null,
   "metadata": {},
   "outputs": [],
   "source": [
    "from bgcellmodels.emfield import stimulation\n",
    "\n",
    "emf_params = sim_config['electromagnetics']\n",
    "amp0 = emf_params['dbs_pulse0_amplitude_mA']\n",
    "amp1 = emf_params['dbs_pulse1_amplitude_mA']\n",
    "dbs_freq = emf_params['dbs_frequency_hz']\n",
    "dbs_IPI = 1e3 / dbs_freq\n",
    "\n",
    "# Create DBS signal if not recorded\n",
    "dbs_amp, dbs_time = stimulation.make_pulse_train(\n",
    "                                    frequency=emf_params['dbs_frequency_hz'],\n",
    "                                    pulse_width_ms=emf_params['dbs_pulse_width_ms'],\n",
    "                                    amp0=emf_params['dbs_pulse0_amplitude_mA'],\n",
    "                                    amp1=emf_params['dbs_pulse1_amplitude_mA'],\n",
    "                                    dt=emf_params['dbs_sample_period_ms'],\n",
    "                                    duration=sim_dur,\n",
    "                                    off_intervals=emf_params['dbs_off_intervals'],\n",
    "                                    coincident_discontinuities=True)\n",
    "\n",
    "onset_indices = np.where(np.diff((dbs_amp == amp0).astype(float)) == 1)[0] + 1\n",
    "dbs_onset_times = dbs_time[onset_indices]\n",
    "\n",
    "# Make DBS AnalogSignal\n",
    "dbs_signal = neo.AnalogSignal(dbs_amp.reshape((-1,1)),\n",
    "                    units='mA',\n",
    "                    sampling_period=emf_params['dbs_sample_period_ms']*pq.ms,\n",
    "                    t_start=dbs_time[0], t_stop=dbs_time[-1])"
   ]
  },
  {
   "cell_type": "code",
   "execution_count": null,
   "metadata": {},
   "outputs": [],
   "source": [
    "fig, ax = plt.subplots(figsize=(fig_width, fig_height))\n",
    "\n",
    "# Plot DBS amplitude\n",
    "ax.plot(dbs_time, dbs_amp)\n",
    "ax.set_xlim((ROI_INTERVAL[1]-50, ROI_INTERVAL[1]))\n",
    "\n",
    "# Mark onset times\n",
    "marker_heights = np.zeros_like(dbs_onset_times) + max(amp0, amp1) + 0.25 * max(amp0, amp1)\n",
    "ax.plot(dbs_onset_times, marker_heights, 'r.')\n",
    "# ax.vlines(onset_times, amp0*1.2, amp1*1.2, color='red')"
   ]
  },
  {
   "cell_type": "code",
   "execution_count": null,
   "metadata": {},
   "outputs": [],
   "source": [
    "def plot_vm_signals(signal, cell_indices, interval, interval_only=True, title=None, trigger=None):\n",
    "    \n",
    "    rec_dt = signal.sampling_period.magnitude\n",
    "    tstart = signal.t_start.magnitude\n",
    "    irange = [0, signal.shape[0]-1] if interval is None else [int((t-tstart)/rec_dt) for t in interval]\n",
    "    times = signal.times[irange[0]:irange[1]]\n",
    "    \n",
    "    fig, axes = plt.subplots(len(cell_indices), 1, \n",
    "                             figsize=(0.9*page_width, 0.5*ax_height*len(cell_indices)),\n",
    "                             sharex=True, sharey=True)\n",
    "    if title is None:\n",
    "        title = \"{} membrane voltage\".format(pop_label)\n",
    "    fig.suptitle(title)\n",
    "    \n",
    "    if trigger is not None:\n",
    "        if interval_only:\n",
    "            trigger_times = trigger[(trigger >= interval[0]) & trigger <= interval[1]]\n",
    "        else:\n",
    "            trigger_times = trigger\n",
    "        trigger_level = np.zeros_like(trigger_times) - 40.0\n",
    "\n",
    "    # Plot each Vm on separate axis\n",
    "    for i_ax, i_cell in enumerate(cell_indices):\n",
    "        try:\n",
    "            ax = axes[i_ax]\n",
    "        except TypeError:\n",
    "            ax = axes\n",
    "        if 'source_ids' in signal.annotations:\n",
    "            label = \"id {}\".format(signal.annotations['source_ids'][i_cell])\n",
    "        else:\n",
    "            label = \"cell {}\".format(i_cell)\n",
    "        \n",
    "        if interval_only:\n",
    "            ax.plot(times, signal[irange[0]:irange[1], i_cell], label=label)\n",
    "        else:\n",
    "            ax.plot(signal.times, signal[:, i_cell])\n",
    "            \n",
    "        if trigger is not None:\n",
    "            ax.plot(trigger_times, trigger_level, marker='|', linestyle='', \n",
    "                    snap=True, color='red', markersize=15)\n",
    "        \n",
    "        ax.grid(True)\n",
    "        ax.set_ylim((-90, 25))\n",
    "        ax.set_xlim((times[0].magnitude, times[-1].magnitude))\n",
    "        # ax.legend()\n",
    "\n",
    "        if i_ax == len(cell_indices)-1:\n",
    "            #ax.set_ylabel(\"voltage ({})\".format(signal.units))\n",
    "            ax.set_xlabel('time ({})'.format(times.units))\n",
    "\n",
    "    fig.text(0.06, 0.5, \"voltage ({})\".format(signal.units), va='center', rotation='vertical')\n",
    "    fig.subplots_adjust(bottom=0.15) # prevent clipping of xlabel"
   ]
  },
  {
   "cell_type": "markdown",
   "metadata": {},
   "source": [
    "## STN - soma, axon"
   ]
  },
  {
   "cell_type": "code",
   "execution_count": null,
   "metadata": {},
   "outputs": [],
   "source": [
    "pop_label = 'STN'\n",
    "segment = pops_segments[pop_label]\n",
    "signal = stn_vm_signal = next((sig for sig in segment.analogsignals if sig.name == 'Vm'))\n",
    "all_vm_signals[pop_label] = signal\n",
    "all_sigmean[pop_label + '_Vm'] = signal.duplicate_with_new_array(signal.mean(axis=1).reshape((-1,1)))"
   ]
  },
  {
   "cell_type": "code",
   "execution_count": null,
   "metadata": {},
   "outputs": [],
   "source": [
    "# Choose plot interval and cell indices\n",
    "max_num_plot = 10\n",
    "num_signals = min(signal.shape[1], max_num_plot)\n",
    "interval = (ROI_INTERVAL[0], ROI_INTERVAL[1]) # SETPARAM: plot interval\n",
    "cell_indices = [i+10 for i in range(num_signals)]\n",
    "plot_vm_signals(stn_vm_signal, cell_indices, interval, interval_only=False,\n",
    "                trigger=dbs_onset_times, title='STN soma Vm')"
   ]
  },
  {
   "cell_type": "markdown",
   "metadata": {},
   "source": [
    "**STN - axonal**\n",
    "\n",
    "STN efferent axons, i.e. STN->GPe projecting."
   ]
  },
  {
   "cell_type": "code",
   "execution_count": null,
   "metadata": {
    "scrolled": false
   },
   "outputs": [],
   "source": [
    "signal = next((sig for sig in segment.analogsignals if sig.name == 'v_axterm'))\n",
    "plot_vm_signals(signal, cell_indices, interval, trigger=dbs_onset_times,\n",
    "                interval_only=False, title=signal.name)\n",
    "\n",
    "signal = next((sig for sig in segment.analogsignals if sig.name == 'v_axnodeneg2'))\n",
    "plot_vm_signals(signal, cell_indices, interval, trigger=dbs_onset_times, \n",
    "                interval_only=False, title=signal.name)"
   ]
  },
  {
   "cell_type": "markdown",
   "metadata": {},
   "source": [
    "## GPE - soma, axon"
   ]
  },
  {
   "cell_type": "code",
   "execution_count": null,
   "metadata": {},
   "outputs": [],
   "source": [
    "pop_label = 'GPE.proto'\n",
    "segment = pops_segments[pop_label]\n",
    "all_vm_signals[pop_label] = gpe_vm_signal = signal = next((sig for sig in segment.analogsignals if sig.name == 'Vm'))\n",
    "all_sigmean[pop_label + '_Vm'] = signal.duplicate_with_new_array(signal.mean(axis=1).reshape((-1,1)))"
   ]
  },
  {
   "cell_type": "code",
   "execution_count": null,
   "metadata": {},
   "outputs": [],
   "source": [
    "# Choose plot interval and cell indices\n",
    "max_num_plot = 10\n",
    "num_signals = min(signal.shape[1], max_num_plot)\n",
    "interval = ROI_INTERVAL # [2000.0, 6000.0]\n",
    "cell_indices = range(5) # range(num_signals)\n",
    "plot_vm_signals(gpe_vm_signal, cell_indices, interval)"
   ]
  },
  {
   "cell_type": "markdown",
   "metadata": {},
   "source": [
    "**GPE - axon**"
   ]
  },
  {
   "cell_type": "code",
   "execution_count": null,
   "metadata": {},
   "outputs": [],
   "source": [
    "signal = next((sig for sig in segment.analogsignals if sig.name == 'v_axterm'))\n",
    "plot_vm_signals(signal, cell_indices, interval, trigger=dbs_onset_times,\n",
    "                interval_only=False, title=signal.name)\n",
    "\n",
    "signal = next((sig for sig in segment.analogsignals if sig.name == 'v_axnodeneg2'))\n",
    "plot_vm_signals(signal, cell_indices, interval, trigger=dbs_onset_times, \n",
    "                interval_only=False, title=signal.name)"
   ]
  },
  {
   "cell_type": "markdown",
   "metadata": {},
   "source": [
    "## CTX - soma, axon\n",
    "\n",
    "Artificial cortical voltage traces: Convolve spike times with stereotypical AP to obtain artificial voltage signal."
   ]
  },
  {
   "cell_type": "code",
   "execution_count": null,
   "metadata": {},
   "outputs": [],
   "source": [
    "pop_label = 'CTX'\n",
    "segment = pops_segments['CTX']\n",
    "spiketrains = segment.spiketrains[0:100] # select subset of spiketrains"
   ]
  },
  {
   "cell_type": "code",
   "execution_count": null,
   "metadata": {},
   "outputs": [],
   "source": [
    "# Load Pyramidal cell action potential from saved recording\n",
    "pyramidal_trace = np.loadtxt('../../KlmnNetMorpho/analysis/pyramidal.dat')\n",
    "vm = pyramidal_trace[:,1]\n",
    "tvec = pyramidal_trace[:,0]\n",
    "dt = np.round(tvec[1] - tvec[0], 4)\n",
    "ap_t_interval = [4.9, 20.0]\n",
    "ap_i_interval = [int(t/dt) for t in ap_t_interval]\n",
    "subsample = 2\n",
    "ap_range = range(ap_i_interval[0], ap_i_interval[1]+1, subsample)\n",
    "ap_kernel = vm[ap_range]\n",
    "ap_baseline = -65.0\n",
    "ap_kernel -= ap_baseline # center on 0 for convolution\n",
    "\n",
    "plt.figure(figsize=(6,2))\n",
    "plt.plot(tvec[ap_range], ap_kernel)\n",
    "plt.suptitle('AP kernel for cortical neurons')\n",
    "plt.grid(True)"
   ]
  },
  {
   "cell_type": "code",
   "execution_count": null,
   "metadata": {},
   "outputs": [],
   "source": [
    "# Construct AnalogSignal of N channels from N spiketrains\n",
    "dur = np.round(spiketrains[0].duration.magnitude, 4)\n",
    "tstart = np.round(spiketrains[0].t_start.magnitude, 4)\n",
    "tstop = np.round(spiketrains[0].t_stop.magnitude, 4)\n",
    "dt = stn_vm_signal.sampling_period.magnitude\n",
    "signal_matrix = np.empty((int(dur/dt)+1, len(spiketrains)))\n",
    "\n",
    "# Convolution operation for each spiketrain\n",
    "for i, st in enumerate(spiketrains):\n",
    "    \n",
    "    time = np.arange(tstart, tstop + dt, dt)\n",
    "    spiketimes = st.times.magnitude\n",
    "    spike_pulses = np.zeros_like(time)\n",
    "    spike_pulses[[int((t-tstart)/dt) for t in spiketimes]] = 1.0\n",
    "    \n",
    "    # Convole pulses at spike times with AP kernel\n",
    "    spike_signal = np.convolve(spike_pulses, ap_kernel, mode='same') + ap_baseline\n",
    "    signal_matrix[:, i] = spike_signal[:signal_matrix.shape[0]]\n",
    "    assert (abs(signal_matrix.shape[0] - spike_signal.size) <= 2)\n",
    "\n",
    "# Resulting Neo signals\n",
    "ctx_vm_signal = neo.AnalogSignal(signal_matrix, units='mV', sampling_period=dt*pq.ms,\n",
    "                                t_start=spiketrains[0].t_start, t_stop=spiketrains[0].t_stop)\n",
    "all_vm_signals[pop_label] = ctx_vm_signal\n",
    "\n",
    "# ctx_vm_mean = ctx_vm_signal.sum(axis=1) / ctx_vm_signal.shape[1]\n",
    "ctx_vm_mean = signal.duplicate_with_new_array(ctx_vm_signal.mean(axis=1).reshape((-1,1)))\n",
    "all_sigmean[pop_label + '_Vm'] = ctx_vm_mean"
   ]
  },
  {
   "cell_type": "code",
   "execution_count": null,
   "metadata": {
    "scrolled": false
   },
   "outputs": [],
   "source": [
    "# Plot artificial signal to verify\n",
    "max_num_plot = 10\n",
    "num_signals = min(ctx_vm_signal.shape[1], max_num_plot)\n",
    "interval = ROI_INTERVAL # [12.75e3, 14e3]\n",
    "cell_indices = range(num_signals)\n",
    "plot_vm_signals(ctx_vm_signal, cell_indices, interval, interval_only=False)"
   ]
  },
  {
   "cell_type": "markdown",
   "metadata": {},
   "source": [
    "**CTX - axon**"
   ]
  },
  {
   "cell_type": "code",
   "execution_count": null,
   "metadata": {},
   "outputs": [],
   "source": [
    "pop_label = 'CTX.axons'\n",
    "segment = pops_segments[pop_label]"
   ]
  },
  {
   "cell_type": "code",
   "execution_count": null,
   "metadata": {
    "scrolled": false
   },
   "outputs": [],
   "source": [
    "signal = next((sig for sig in segment.analogsignals if sig.name == 'v_axterm'))\n",
    "plot_vm_signals(signal, cell_indices, interval, trigger=dbs_onset_times,\n",
    "                interval_only=False, title=signal.name)\n",
    "\n",
    "signal = next((sig for sig in segment.analogsignals if sig.name == 'v_axnodeneg2'))\n",
    "plot_vm_signals(signal, cell_indices, interval, trigger=dbs_onset_times, \n",
    "                interval_only=False, title=signal.name)"
   ]
  },
  {
   "cell_type": "markdown",
   "metadata": {},
   "source": [
    "## Activation DBS"
   ]
  },
  {
   "cell_type": "code",
   "execution_count": null,
   "metadata": {},
   "outputs": [],
   "source": [
    "cells_activation = calc_train_stimlock_fractions(\n",
    "    pops_segments['STN'].spiketrains, dbs_onset_times)\n",
    "plot_stimlock_fractions(cells_activation, pop_label='STN:soma')\n",
    "\n",
    "cells_activation = calc_train_stimlock_fractions(\n",
    "    pops_segments['GPE.proto'].spiketrains, dbs_onset_times)\n",
    "plot_stimlock_fractions(cells_activation, pop_label='GPE:soma')"
   ]
  },
  {
   "cell_type": "markdown",
   "metadata": {},
   "source": [
    "# Axonal Spikes\n",
    "\n",
    "Get spike times from recorded voltages in axons."
   ]
  },
  {
   "cell_type": "code",
   "execution_count": null,
   "metadata": {},
   "outputs": [],
   "source": [
    "%matplotlib inline\n",
    "plt_setrc()"
   ]
  },
  {
   "cell_type": "markdown",
   "metadata": {},
   "source": [
    "## Functions"
   ]
  },
  {
   "cell_type": "markdown",
   "metadata": {},
   "source": [
    "**Make spike trains**"
   ]
  },
  {
   "cell_type": "code",
   "execution_count": null,
   "metadata": {},
   "outputs": [],
   "source": [
    "# Spike detection in axon terminal\n",
    "spike_trains = make_spiketrains('STN', 'v_axterm', 0.0, check_plot=False)\n",
    "all_spiketrains['STN.axon_terminal'] = spike_trains"
   ]
  },
  {
   "cell_type": "code",
   "execution_count": null,
   "metadata": {},
   "outputs": [],
   "source": [
    "# Spike detection in axon terminal\n",
    "spike_trains = make_spiketrains('GPE.proto', 'v_axterm', 0.0, check_plot=False)\n",
    "all_spiketrains['GPE.axon_terminal'] = spike_trains"
   ]
  },
  {
   "cell_type": "code",
   "execution_count": null,
   "metadata": {},
   "outputs": [],
   "source": [
    "# Spike detection in axon terminal\n",
    "spike_trains = make_spiketrains('CTX.axons', 'v_axterm', 0.0, check_plot=False)\n",
    "all_spiketrains['CTX.axon_terminal'] = spike_trains"
   ]
  },
  {
   "cell_type": "markdown",
   "metadata": {},
   "source": [
    "## Activation DBS"
   ]
  },
  {
   "cell_type": "markdown",
   "metadata": {},
   "source": [
    "### STN axons"
   ]
  },
  {
   "cell_type": "code",
   "execution_count": null,
   "metadata": {},
   "outputs": [],
   "source": [
    "# Calculate percent pulses with stimulus-locked spikes\n",
    "pop_label = 'STN.axon_terminal'\n",
    "cells_activation = calc_train_stimlock_fractions(\n",
    "    all_spiketrains[pop_label], dbs_onset_times)\n",
    "plot_stimlock_fractions(cells_activation, pop_label=pop_label)"
   ]
  },
  {
   "cell_type": "code",
   "execution_count": null,
   "metadata": {},
   "outputs": [],
   "source": [
    "# Propagation delay and transmission reliability\n",
    "# trains_a = sorted(all_spiketrains['STN'],\n",
    "#                   key=lambda t:t.annotations['source_id'])\n",
    "\n",
    "# trains_b = sorted(all_spiketrains['STN.axon_terminal'],\n",
    "#                   key=lambda t:t.annotations['source_id'])\n",
    "\n",
    "# compare_spiketrains(trains_a, trains_b, (2000, 2300), range(10))\n",
    "# plot_propagation_delays(trains_a, trains_b, bin_width=0.1)"
   ]
  },
  {
   "cell_type": "markdown",
   "metadata": {},
   "source": [
    "### GPe axons"
   ]
  },
  {
   "cell_type": "code",
   "execution_count": null,
   "metadata": {},
   "outputs": [],
   "source": [
    "# Calculate percent pulses with stimulus-locked spikes\n",
    "pop_label = 'GPE.axon_terminal'\n",
    "cells_activation = calc_train_stimlock_fractions(\n",
    "    all_spiketrains[pop_label], dbs_onset_times)\n",
    "plot_stimlock_fractions(cells_activation, pop_label=pop_label)"
   ]
  },
  {
   "cell_type": "code",
   "execution_count": null,
   "metadata": {},
   "outputs": [],
   "source": [
    "# Propagation delay and transmission reliability\n",
    "# trains_a = sorted(all_spiketrains['GPE.proto'],\n",
    "#                   key=lambda t:t.annotations['source_id'])\n",
    "\n",
    "# trains_b = sorted(all_spiketrains['GPE.proto.axon_terminal'],\n",
    "#                   key=lambda t:t.annotations['source_id'])\n",
    "\n",
    "# compare_spiketrains(trains_a, trains_b, (2000, 2300), range(10))\n",
    "# plot_propagation_delays(trains_a, trains_b, bin_width=0.1)"
   ]
  },
  {
   "cell_type": "markdown",
   "metadata": {},
   "source": [
    "### CTX axons"
   ]
  },
  {
   "cell_type": "code",
   "execution_count": null,
   "metadata": {},
   "outputs": [],
   "source": [
    "# Calculate percent pulses with stimulus-locked spikes\n",
    "pop_label = 'CTX.axon_terminal'\n",
    "cells_activation = calc_train_stimlock_fractions(\n",
    "    all_spiketrains[pop_label], dbs_onset_times)\n",
    "plot_stimlock_fractions(cells_activation, pop_label=pop_label)"
   ]
  },
  {
   "cell_type": "markdown",
   "metadata": {},
   "source": [
    "## Rastergrams"
   ]
  },
  {
   "cell_type": "code",
   "execution_count": null,
   "metadata": {
    "scrolled": false
   },
   "outputs": [],
   "source": [
    "# Choose populations and cells indices to plot\n",
    "shared_axis = None\n",
    "for pop_label in ('STN.axon_terminal', 'GPE.axon_terminal', 'CTX.axon_terminal'):\n",
    "    spike_trains = all_spiketrains[pop_label]\n",
    "    max_num_plot = 50\n",
    "    num_spiketrains = min(len(spike_trains), max_num_plot)\n",
    "    # SETPARAM: choose cells to plot\n",
    "    cell_indices = (0 + np.arange(num_spiketrains, dtype=int)) % len(spike_trains)\n",
    "    t_interval = ROI_INTERVAL # SETPARAM: time interval\n",
    "    fig_height = ax_height * num_spiketrains / 20.0\n",
    "    # NOTE: don't use sharey when different population sizes\n",
    "    fig, shared_axis = plot_spiketrain(spike_trains, cell_indices, t_interval,\n",
    "                                       sharex=shared_axis, sharey=None,\n",
    "                                       figsize=(page_width, fig_height), plot_compact=False)"
   ]
  },
  {
   "cell_type": "markdown",
   "metadata": {},
   "source": [
    "# Synaptic Conductances\n"
   ]
  },
  {
   "cell_type": "code",
   "execution_count": null,
   "metadata": {},
   "outputs": [],
   "source": [
    "%matplotlib inline\n",
    "plt_setrc()"
   ]
  },
  {
   "cell_type": "code",
   "execution_count": null,
   "metadata": {},
   "outputs": [],
   "source": [
    "%aimport bgcellmodels.common.popsignal"
   ]
  },
  {
   "cell_type": "code",
   "execution_count": null,
   "metadata": {},
   "outputs": [],
   "source": [
    "# TODO: STN cells with activated CTX:GPe afferents\n",
    "# - save 'activation' and spikerate by GID\n",
    "# - look in network matrix to find presynaptic GIDS\n",
    "# - find target cells with high activation"
   ]
  },
  {
   "cell_type": "markdown",
   "metadata": {},
   "source": [
    "## STN gsyn"
   ]
  },
  {
   "cell_type": "code",
   "execution_count": null,
   "metadata": {
    "scrolled": false
   },
   "outputs": [],
   "source": [
    "aconfig.pops_segments = pops_segments\n",
    "aconfig.page_width = page_width\n",
    "aconfig.ax_height = ax_height\n",
    "\n",
    "synaptic_tracenames = 'g_AMPA', 'g_NR2A', 'g_NR2BD', 'gGABAA', 'gGABAB'\n",
    "segment = pops_segments['STN']\n",
    "extra_sigs = ['Vm']\n",
    "extra_plot_with = lambda trace_name: trace_name.startswith('g')\n",
    "\n",
    "plot_synapse_traces('STN', max_ncell=3, max_nsyn=3,\n",
    "                    trace_names=synaptic_tracenames, # add traces you want to plot\n",
    "                    interval=[0, 2000.0], interval_only=True, beta_phase=False,\n",
    "                    vm_plot_with=extra_plot_with)\n",
    "\n",
    "# TODO: for each plotted cell, make rastergram of presynaptic spikes with colors by pre-synaptic pop"
   ]
  },
  {
   "cell_type": "markdown",
   "metadata": {},
   "source": [
    "## GPE gsyn"
   ]
  },
  {
   "cell_type": "code",
   "execution_count": null,
   "metadata": {
    "scrolled": false
   },
   "outputs": [],
   "source": [
    "aconfig.pops_segments = pops_segments\n",
    "aconfig.page_width = page_width\n",
    "aconfig.ax_height = ax_height\n",
    "\n",
    "synaptic_tracenames = 'gAMPA', 'gGABAA', 'gGABAB' # 'gNMDA' not used\n",
    "segment = pops_segments['GPE.proto']\n",
    "extra_sigs = ['Vm']\n",
    "extra_plot_with = lambda trace_name: trace_name.startswith('g')\n",
    "\n",
    "plot_synapse_traces('GPE.proto', max_ncell=3, max_nsyn=3,\n",
    "                    trace_names=synaptic_tracenames, # add traces you want to plot\n",
    "                    interval=[0, 2000.0], interval_only=True, beta_phase=False,\n",
    "                    vm_plot_with=extra_plot_with)\n",
    "\n",
    "# TODO: for each plotted cell, make rastergram of presynaptic spikes with colors by pre-synaptic pop"
   ]
  },
  {
   "cell_type": "markdown",
   "metadata": {},
   "source": [
    "# Power Spectra"
   ]
  },
  {
   "cell_type": "markdown",
   "metadata": {},
   "source": [
    "## PSD"
   ]
  },
  {
   "cell_type": "code",
   "execution_count": null,
   "metadata": {},
   "outputs": [],
   "source": [
    "%matplotlib inline\n",
    "plt_setrc()"
   ]
  },
  {
   "cell_type": "code",
   "execution_count": null,
   "metadata": {},
   "outputs": [],
   "source": [
    "def calc_psd(pop_label, interval=None, vm_sig=None):\n",
    "    \"\"\"\n",
    "    Calculate PSD from membrane voltages of population.\n",
    "    \n",
    "    It computes the PSD for the individual Vm traces and then\n",
    "    averages the resulting PSDs.\n",
    "    \"\"\"\n",
    "    if vm_sig is None:\n",
    "        segment = pops_segments[pop_label]\n",
    "        vm_sig = next((sig for sig in segment.analogsignals if sig.name == 'Vm'))\n",
    "\n",
    "    Ts = vm_sig.sampling_period.magnitude # ms\n",
    "    fs = vm_sig.sampling_rate.rescale('Hz').magnitude\n",
    "    \n",
    "    islice = neoutil.make_slice(vm_sig, interval)\n",
    "    vm_segment = vm_sig[islice, :]\n",
    "    \n",
    "    dF = max(0.5, fs / vm_segment.shape[0]) # dF for max window size is finest possible\n",
    "    if dF != 0.5:\n",
    "        print(\"Adjusted frequency resolution to data size: dF = {}\".format(dF))\n",
    "    \n",
    "    # Compute PSD of all 100 Vm signals at the same time\n",
    "    freqs, psd = elephant.spectral.welch_psd(vm_segment, freq_res=dF)\n",
    "    \n",
    "    # Average individual trace PSDs\n",
    "    psd_avg = psd.sum(axis=0) / psd.shape[0]\n",
    "    psd_rel = psd_avg[0:int(250/dF)] # relevant region of psd\n",
    "\n",
    "    # Save PSD\n",
    "    all_psd[pop_label+'_Vm'] = (freqs, psd_avg)\n",
    "    \n",
    "    # Save units for other plotting functions\n",
    "    global psd_units\n",
    "    psd_units = psd.units\n",
    "    \n",
    "    return freqs, psd_avg\n",
    "\n",
    "\n",
    "def plot_psd(freqs, psd_avg, pop_label, f_max=200.0):\n",
    "    \"\"\"\n",
    "    Plots PSD on relative and absolute axis for comparison with others.\n",
    "    \"\"\"\n",
    "    fig, ax = plt.subplots(figsize=(page_width*0.5, ax_height))\n",
    "    ax.plot(freqs, psd_avg, label='{} Vm'.format(pop_label))\n",
    "\n",
    "    ax.set_ylabel('Power ({})'.format(psd_avg.units.dimensionality))\n",
    "    ax.set_xlabel('frequency ({})'.format(freqs.units.dimensionality))\n",
    "    ax.set_xlim((0, f_max))\n",
    "    ax.grid(True)\n",
    "    ax.set_title('Welch PSD for mean {} Vm'.format(pop_label))\n",
    "    # ax.set_yscale('log')\n",
    "    # ax.legend(loc='best')\n",
    "\n",
    "    # PSD on shared scale for comparison with other simulations\n",
    "    fig, ax = plt.subplots(figsize=(page_width*0.5, ax_height))\n",
    "    ax.plot(freqs, psd_avg, label='{} Vm'.format(pop_label))\n",
    "    ax.set_ylabel('Power ({})'.format(psd_avg.units.dimensionality))\n",
    "    ax.set_xlabel('frequency ({})'.format(freqs.units.dimensionality))\n",
    "    ax.set_xlim((0, f_max))\n",
    "    ax.set_ylim((0, 10))\n",
    "    ax.grid(True)\n",
    "    ax.set_title('Welch PSD for mean {} Vm (absolute y-axis)'.format(pop_label))"
   ]
  },
  {
   "cell_type": "markdown",
   "metadata": {},
   "source": [
    "### STN Vm"
   ]
  },
  {
   "cell_type": "code",
   "execution_count": null,
   "metadata": {},
   "outputs": [],
   "source": [
    "pop_label = 'STN'\n",
    "\n",
    "# Mean of Vm PSDs\n",
    "freqs, psd_avg = calc_psd(pop_label, interval=ROI_INTERVAL)\n",
    "plot_psd(freqs, psd_avg, pop_label)\n",
    "\n",
    "# Compare to PSD of mean Vm\n",
    "# !!! Here phases cancels\n",
    "# segment = pops_segments[pop_label]\n",
    "# signal = next((sig for sig in segment.analogsignals if sig.name == 'Vm'))\n",
    "# sigmean = signal.duplicate_with_new_array(signal.mean(axis=1).reshape((-1,1)))\n",
    "# freqs, psd_avg = calc_psd(pop_label, interval=ROI_INTERVAL, vm_sig=sigmean)\n",
    "# plot_psd(freqs, psd_avg, pop_label)"
   ]
  },
  {
   "cell_type": "markdown",
   "metadata": {},
   "source": [
    "### GPE.proto"
   ]
  },
  {
   "cell_type": "code",
   "execution_count": null,
   "metadata": {},
   "outputs": [],
   "source": [
    "pop_label = 'GPE.proto'\n",
    "# segment = pops_segments[pop_label]\n",
    "\n",
    "freqs, psd_avg = calc_psd(pop_label, interval=ROI_INTERVAL)\n",
    "\n",
    "plot_psd(freqs, psd_avg, pop_label)"
   ]
  },
  {
   "cell_type": "markdown",
   "metadata": {},
   "source": [
    "### CTX spikes"
   ]
  },
  {
   "cell_type": "code",
   "execution_count": null,
   "metadata": {},
   "outputs": [],
   "source": [
    "pop_label = 'CTX'\n",
    "# segment = pops_segments[pop_label]\n",
    "\n",
    "freqs, psd_avg = calc_psd(pop_label, vm_sig=ctx_vm_signal, interval=ROI_INTERVAL)\n",
    "\n",
    "plot_psd(freqs, psd_avg, pop_label)"
   ]
  },
  {
   "cell_type": "markdown",
   "metadata": {},
   "source": [
    "## Spectrogram (STFT)"
   ]
  },
  {
   "cell_type": "code",
   "execution_count": null,
   "metadata": {},
   "outputs": [],
   "source": [
    "def calc_spectrogram(pop_label, signal=None, max_avg=50, freq_res=1.0, t_res=20.0, interval=ROI_INTERVAL):\n",
    "    \"\"\"\n",
    "    Calculate mean spectrogram (STFT) of membrane voltage traces.\n",
    "    \n",
    "    The resulting time axis is missing 'nperseg' values on each side since\n",
    "    each PSD sample is calculated on the interval [-nperseg/2, +nperseg/2]\n",
    "    around it.\n",
    "    \n",
    "    @param     max_avg : int\n",
    "               Number of spectrograms to compute for averaging.\n",
    "               WARNING: can lead to very high memory consumption.\n",
    "    \n",
    "    @return    freqs, t, Sxx\n",
    "               Sxx has t-dimension along axis 0 and f-dimension along axis 1.\n",
    "    \"\"\"\n",
    "    if signal is None:\n",
    "        segment = pops_segments[pop_label]\n",
    "        signal = next((sig for sig in segment.analogsignals if sig.name == 'Vm'))\n",
    "\n",
    "    # Plot spectrogram using STFT\n",
    "    dt = signal.sampling_period.magnitude\n",
    "    fs = 1/dt*1e3\n",
    "    nperseg = int(fs/freq_res) # determines frequency resolution\n",
    "    t_res = 20.0 # ms\n",
    "    noverlap = nperseg - int(t_res/dt)\n",
    "    islice = neoutil.make_slice(signal, interval)\n",
    "    \n",
    "    if signal.ndim == 2:\n",
    "        # Spectrogram of all signals along axis 0\n",
    "        vm_sig = signal[islice, :]\n",
    "        if vm_sig.shape[1] > max_avg:\n",
    "            sig_data = vm_sig.as_array()[:, 0:max_avg]\n",
    "        else:\n",
    "            sig_data = vm_sig.as_array()\n",
    "        freqs, t, Sxx = scipy.signal.spectrogram(sig_data, 1/dt, axis=0, window='hanning',\n",
    "                                                 nperseg=nperseg, noverlap=noverlap, scaling='density')\n",
    "\n",
    "        # Average over cell dimension -> Sxx dims are now (freqs, t)\n",
    "        assert sig_data.shape[1] == Sxx.shape[1]\n",
    "        Sxx = Sxx.mean(axis=1)\n",
    "    else:\n",
    "        assert signal.ndim == 1\n",
    "        sig_data = signal.ravel()[islice]\n",
    "        freqs, t, Sxx = scipy.signal.spectrogram(sig_data, 1/dt, window='hanning',\n",
    "                                                 nperseg=nperseg, noverlap=noverlap, scaling='density')\n",
    "    \n",
    "    freqs = freqs * 1000\n",
    "    t = t + signal.t_start.rescale('ms').magnitude\n",
    "\n",
    "    # Save spectrogram\n",
    "    df = freqs[1]-freqs[0]\n",
    "    all_spectrogram[pop_label + '_Vm'] = (freqs[0:int(50/df)], t, Sxx[:,0:int(50/df)])\n",
    "    \n",
    "    return freqs, t, Sxx\n",
    "\n",
    "def plot_spectrogram(freqs, t, Sxx, pop_label, f_max=100.0, P_max=None):\n",
    "    # Spectrogram 1\n",
    "    fig, ax = plt.subplots(figsize=(0.75*page_width, ax_height))\n",
    "    # cmap = 'viridis' / 'plasma' / 'jet'\n",
    "    plt.pcolormesh(t, freqs, Sxx, cmap='viridis')\n",
    "    # plt.imshow(Sxx, cmap='jet', aspect='auto', vmax=abs(Sxx).max(), vmin=Sxx.min())\n",
    "    plt.ylim((0, f_max))\n",
    "    plt.colorbar()\n",
    "    # plt.clim(0, 20)\n",
    "    if P_max is None:\n",
    "        Pmax_search_i0 = int(1000.0/(t[1]-t[0]))\n",
    "        P_max = abs(Sxx[:, Pmax_search_i0:]).max() # discard first second\n",
    "    plt.clim(0, P_max)\n",
    "    plt.ylabel('frequency (Hz)')\n",
    "    plt.xlabel('time (ms)')\n",
    "    ax.set_title('Spectrogram of mean {} Vm ({})'.format(pop_label, psd_units.dimensionality))"
   ]
  },
  {
   "cell_type": "markdown",
   "metadata": {},
   "source": [
    "### STN"
   ]
  },
  {
   "cell_type": "code",
   "execution_count": null,
   "metadata": {},
   "outputs": [],
   "source": [
    "freqs, t, Sxx = calc_spectrogram('STN', max_avg=25, freq_res=5.0)\n",
    "plot_spectrogram(freqs, t, Sxx, 'STN', f_max=150.0)\n",
    "plot_spectrogram(freqs, t, Sxx, 'STN', f_max=150.0, P_max=2000)"
   ]
  },
  {
   "cell_type": "markdown",
   "metadata": {},
   "source": [
    "### GPE.proto"
   ]
  },
  {
   "cell_type": "code",
   "execution_count": null,
   "metadata": {},
   "outputs": [],
   "source": [
    "freqs, t, Sxx = calc_spectrogram('GPE.proto')\n",
    "plot_spectrogram(freqs, t, Sxx, 'GPE.proto', f_max=150.0)"
   ]
  },
  {
   "cell_type": "markdown",
   "metadata": {},
   "source": [
    "### CTX spikes"
   ]
  },
  {
   "cell_type": "code",
   "execution_count": null,
   "metadata": {},
   "outputs": [],
   "source": [
    "freqs, t, Sxx = calc_spectrogram('CTX', signal=ctx_vm_signal)\n",
    "plot_spectrogram(freqs, t, Sxx, 'CTX', f_max=150.0)"
   ]
  },
  {
   "cell_type": "markdown",
   "metadata": {},
   "source": [
    "# Burst Metrics\n",
    "\n",
    "Sharott et al. (2014) \"Activity Parameters of STN ...\"\n",
    "- The mean intraburst rate was positively correlated with both bradykinesia and axial scores\n",
    "- the related ratio of interspike intervals below/above 10 ms was positively correlated with these symptoms and limb rigidity."
   ]
  },
  {
   "cell_type": "code",
   "execution_count": null,
   "metadata": {},
   "outputs": [],
   "source": [
    "v_rec = stn_vm_signal.magnitude[:,0]\n",
    "t_rec = stn_vm_signal.times.magnitude\n",
    "cell_indices = [0]\n",
    "plot_vm_signals(stn_vm_signal, cell_indices, ROI_INTERVAL, interval_only=False)"
   ]
  },
  {
   "cell_type": "code",
   "execution_count": null,
   "metadata": {},
   "outputs": [],
   "source": [
    "def calc_burst_metrics(pop_label, interval, threshold, save=True):\n",
    "    \"\"\"\n",
    "    Calculate burst metrics for all somatic voltage traces in population.\n",
    "    \"\"\"\n",
    "    vm_signal = all_vm_signals[pop_label]\n",
    "    vm_matrix = vm_signal.as_array()\n",
    "    num_cell = vm_matrix.shape[1]\n",
    "    aslice = neoutil.make_slice(vm_signal, interval)\n",
    "    t_rec = vm_signal.times.magnitude[aslice]\n",
    "\n",
    "    burst_metrics = [ephys_algos.burst_metrics(vm_matrix[aslice, i], t_rec, threshold=-10.0) \n",
    "                        for i in range(num_cell)]\n",
    "    if save:\n",
    "        all_burst_metrics[pop_label] = burst_metrics\n",
    "    \n",
    "    return burst_metrics\n",
    "\n",
    "def plot_burst_metrics(pop_label, burst_metrics):\n",
    "    # plt.style.use('ggplot')\n",
    "    fig, axes = plt.subplots(1, len(burst_metrics[0]), figsize=(page_width, 1.5*ax_height))\n",
    "    metrics = burst_metrics[0].keys()\n",
    "    for i, metric in enumerate(metrics):\n",
    "        ax = axes[i]\n",
    "        ax.set_title(metric)\n",
    "        if isinstance(burst_metrics[0][metric], float):\n",
    "            map_func = lambda x,y: x + [y]\n",
    "        else:\n",
    "            map_func = lambda x,y: x + y\n",
    "        metric_vals = reduce(map_func, (cell_metrics[metric] for cell_metrics in burst_metrics), [])\n",
    "        if len(metric_vals) == 0:\n",
    "            # E.g. <= 1 burst per cell -> no inter-burst intervals\n",
    "            ax.text(0.5, 0.5, 'N/A', size=30, color='red', transform=ax.transAxes, ha='center')\n",
    "            ax.grid(False)\n",
    "            ax.set_yticks([])\n",
    "        else:\n",
    "            bp = ax.boxplot(metric_vals, 0, 'g+')\n",
    "            ax.grid(True, which='major', axis='y')\n",
    "        ax.set_xticks([])\n",
    "        \n",
    "    # plt.style.use('default')"
   ]
  },
  {
   "cell_type": "markdown",
   "metadata": {},
   "source": [
    "## STN"
   ]
  },
  {
   "cell_type": "code",
   "execution_count": null,
   "metadata": {},
   "outputs": [],
   "source": [
    "pop_label = 'STN'\n",
    "\n",
    "stn_burst_metrics = calc_burst_metrics('STN', ROI_INTERVAL, threshold=-10.0, save=True)"
   ]
  },
  {
   "cell_type": "code",
   "execution_count": null,
   "metadata": {},
   "outputs": [],
   "source": [
    "plot_burst_metrics('STN', stn_burst_metrics)"
   ]
  },
  {
   "cell_type": "markdown",
   "metadata": {},
   "source": [
    "## GPe"
   ]
  },
  {
   "cell_type": "code",
   "execution_count": null,
   "metadata": {},
   "outputs": [],
   "source": [
    "pop_label = 'GPE.proto'\n",
    "\n",
    "gpe_burst_metrics = calc_burst_metrics(pop_label, ROI_INTERVAL, threshold=-10.0, save=True)"
   ]
  },
  {
   "cell_type": "code",
   "execution_count": null,
   "metadata": {},
   "outputs": [],
   "source": [
    "plot_burst_metrics(pop_label, gpe_burst_metrics)"
   ]
  },
  {
   "cell_type": "markdown",
   "metadata": {},
   "source": [
    "# Phase Analysis\n",
    "\n",
    "Phase locking to reference signal. Should only be executed if there are Beta inputs to lock onto."
   ]
  },
  {
   "cell_type": "markdown",
   "metadata": {},
   "source": [
    "## Reference Phase"
   ]
  },
  {
   "cell_type": "code",
   "execution_count": null,
   "metadata": {},
   "outputs": [],
   "source": [
    "# Take 10 cells within shorter time interval\n",
    "PHASE_INTERVAL = ROI_INTERVAL # SETPARAM: time interval for phase analysis\n",
    "islice = neoutil.make_slice(signal, PHASE_INTERVAL)\n",
    "\n",
    "# Choose reference signal for phase extraction\n",
    "# Choose intervals to analyze spike-phase locking\n",
    "phase_extraction_method = reference_phase['method']\n",
    "if phase_extraction_method == 'from_ctx':\n",
    "    ref_pop = 'CTX'\n",
    "    locking_intervals = sim_config['CTX']['spiking_pattern']['intervals'] # for calculation of vector length\n",
    "elif phase_extraction_method == 'from_stn':\n",
    "    ref_pop = 'STN'\n",
    "    locking_intervals = [PHASE_INTERVAL]\n",
    "elif phase_extraction_method == 'from_gpe':\n",
    "    ref_pop = 'GPE.proto'\n",
    "    locking_intervals = [PHASE_INTERVAL]\n",
    "else:\n",
    "    raise ValueError(\"Unknown method for reference phase extraction: \" + phase_extraction_method)\n",
    "\n",
    "# We hilbert transform individual traces and mean signal\n",
    "signal = all_vm_signals[ref_pop]\n",
    "sigmean = all_sigmean[ref_pop + '_Vm']\n",
    "\n",
    "num_traces = min(100, signal.shape[1])\n",
    "pslice = np.s_[0:num_traces]\n",
    "traces_raw = signal[islice, pslice]\n",
    "times = signal.times[islice]"
   ]
  },
  {
   "cell_type": "code",
   "execution_count": null,
   "metadata": {},
   "outputs": [],
   "source": [
    "# Plot signal for reference phase extraction\n",
    "fig, ax = plt.subplots(figsize=(0.75*page_width, ax_height))\n",
    "ax.set_title(\"Reference signal for phase extraction\")\n",
    "\n",
    "plot_ival = (PHASE_INTERVAL[1]-1000, PHASE_INTERVAL[1]) # SETPARAM: plot interval\n",
    "plot_slice = neoutil.make_slice(sigmean, plot_ival)\n",
    "\n",
    "ax.plot(sigmean.times[plot_slice], sigmean[plot_slice], color='b', label='Vref = ' + sigmean.name)\n",
    "# ax.plot(ctx_vm_mean.times[plot_slice], ctx_vm_mean[plot_slice], color='b', label='Vref_phi')\n",
    "ax.set_ylabel('Vm (mV)')\n",
    "ax.grid(True)\n",
    "ax.legend()"
   ]
  },
  {
   "cell_type": "markdown",
   "metadata": {},
   "source": [
    "### Filtering\n",
    "\n",
    "Band-pass filter in frequency band where we want to measure phase differences."
   ]
  },
  {
   "cell_type": "code",
   "execution_count": null,
   "metadata": {},
   "outputs": [],
   "source": [
    "# Band-pass filter in frequency band where we want to measure phase differences\n",
    "Fs = signal.sampling_rate.rescale('Hz').magnitude\n",
    "Fn = Fs / 2. # Nyquist frequency\n",
    "\n",
    "def get_hilbert_passband(phase_spec):\n",
    "    \"\"\"\n",
    "    Get passband for Hilbert transform from configuration.\n",
    "    \"\"\"\n",
    "    band_spec = phase_spec['passband']\n",
    "    if isinstance(band_spec, (tuple, list)):\n",
    "        hpfreq, lpfreq = band_spec\n",
    "    if isinstance(band_spec, dict):\n",
    "        if isinstance(band_spec['center'], (tuple, list)):\n",
    "            f_band_mid = band_spec['center'][sweep_index]\n",
    "        else:\n",
    "            f_band_mid = band_spec['center']\n",
    "        if isinstance(band_spec['width'], (tuple, list)):\n",
    "            f_band_width = band_spec['width'][sweep_index]\n",
    "        else:\n",
    "            f_band_width = band_spec['width']\n",
    "        hpfreq = f_band_mid - f_band_width / 2.0\n",
    "        lpfreq = f_band_mid + f_band_width / 2.0\n",
    "    return hpfreq, lpfreq\n",
    "\n",
    "hpfreq, lpfreq = get_hilbert_passband(reference_phase)\n",
    "order = 4\n",
    "\n",
    "# NOTE: using filtfilt/sosfiltfilt, the phase shift is corrected\n",
    "assert hpfreq < lpfreq\n",
    "low, high = hpfreq / Fn, lpfreq / Fn\n",
    "sos = scipy.signal.butter(order, [low, high], btype='bandpass', analog=False, output='sos')\n",
    "\n",
    "# Plot filter response\n",
    "w, h = scipy.signal.sosfreqz(sos, np.linspace(0, np.pi, 2**np.ceil(np.log2(Fn))))\n",
    "angles = np.unwrap(np.angle(h))\n",
    "fax = w * Fn / (np.pi)\n",
    "\n",
    "fig, axes = plt.subplots(2, 1, sharex=True)\n",
    "fig.suptitle(\"Filter response (2*pi = {})\".format(Fs))\n",
    "ax = axes[0]\n",
    "ax.plot(fax, abs(h), 'b') # 20 * np.log10(abs(h))\n",
    "ax.set_ylabel('Amplitude [dB]', color='b')\n",
    "ax.grid(True)\n",
    "\n",
    "ax = axes[1] # ax2 = ax.twinx()\n",
    "ax.plot(fax, angles, 'g')\n",
    "ax.set_ylabel('Angle (radians)', color='g')\n",
    "\n",
    "ax.set_xlim((0, 50))\n",
    "ax.set_xlabel('Frequency [Hz]')\n",
    "ax.grid(True)"
   ]
  },
  {
   "cell_type": "code",
   "execution_count": null,
   "metadata": {},
   "outputs": [],
   "source": [
    "# Filter signal\n",
    "data = np.asarray(signal)\n",
    "signal_bp = signal.duplicate_with_new_array(scipy.signal.sosfiltfilt(sos, data, axis=0))\n",
    "sigmean_bp = signal.duplicate_with_new_array(scipy.signal.sosfiltfilt(sos, np.asarray(sigmean), axis=0))"
   ]
  },
  {
   "cell_type": "code",
   "execution_count": null,
   "metadata": {},
   "outputs": [],
   "source": [
    "# Subsample signals for efficiency\n",
    "\n",
    "# Traces: subsample to preserve up to 2 x highest frequency\n",
    "fmax = 1000.0 # resolution of 1 ms for phase # 2 * lpfreq\n",
    "fs_old = signal.sampling_rate.rescale('Hz').magnitude \n",
    "subsample_factor = int(fs_old / (2 * fmax))\n",
    "subsample_factor = min(20, subsample_factor) # don't subsample more than 20x (20.000 -> 1.000 Hz)\n",
    "signal_bpss = signal_bp[::subsample_factor, :] # adjusts 'sampling period' attribute\n",
    "\n",
    "# Adjust indices of intervals\n",
    "Ts_bpss = signal_bpss.sampling_period.magnitude\n",
    "islice_ss = neoutil.make_slice(signal_bpss, PHASE_INTERVAL)\n",
    "times_ss = signal_bpss.times[islice_ss]\n",
    "\n",
    "# Reference signal: subsample but with small enough time resolution to look up spike phases\n",
    "ss_factor_ref = int(0.25 / signal.sampling_period.magnitude) # 0.25 ms resolution: 1/200 of 20 Hz beta\n",
    "sigmean_bpss = sigmean_bp[::ss_factor_ref, :]\n",
    "Ts_ref = sigmean_bpss.sampling_period.magnitude"
   ]
  },
  {
   "cell_type": "markdown",
   "metadata": {},
   "source": [
    "### Hilbert Transform"
   ]
  },
  {
   "cell_type": "code",
   "execution_count": null,
   "metadata": {},
   "outputs": [],
   "source": [
    "# Compute analytic signal - magnitude and phase\n",
    "from scipy.signal import hilbert\n",
    "\n",
    "traces_bp = signal_bpss[islice_ss, 0:num_traces]\n",
    "traces_raw = signal[islice, 0:num_traces]\n",
    "\n",
    "# Hilbert transform individual reference signals\n",
    "analytic_signal = hilbert(traces_bp, axis=0)\n",
    "analytic_mag = np.abs(analytic_signal)\n",
    "analytic_phase = np.angle(analytic_signal)\n",
    "\n",
    "# Hilbert transform mean reference signal\n",
    "analsig_sigmean = hilbert(sigmean_bpss, axis=0)\n",
    "analmag_sigmean = np.abs(analsig_sigmean)\n",
    "analphase_sigmean = np.angle(analsig_sigmean)\n",
    "\n",
    "# NOTE: phases are already wrapped\n",
    "# analytic_phase = np.unwrap(np.angle(analytic_signal), axis=0) # transform angle in interval (0, 2*pi)"
   ]
  },
  {
   "cell_type": "code",
   "execution_count": null,
   "metadata": {},
   "outputs": [],
   "source": [
    "# Check result : plot filtered signals\n",
    "def plot_analytic_signal(signal, bandpass, magnitude, phase, interval):\n",
    "    fig, axes = plt.subplots(3, 1, figsize=(0.75*page_width,2*ax_height), sharex=True, sharey=False)\n",
    "    fig.suptitle(\"Vmean: Filtered & Analytic Signal\")\n",
    "\n",
    "    iplot_orig = neoutil.make_slice(signal, interval)\n",
    "    iplot_phas = neoutil.make_slice(bandpass, interval)\n",
    "\n",
    "    # Band-pass filtered trace\n",
    "    ax = axes[0]\n",
    "    ax.plot(signal.times[iplot_orig], signal[iplot_orig], color='b', label='Vref')\n",
    "    ax.plot(bandpass.times[iplot_phas], bandpass[iplot_phas] + signal.max(), color='g', label='Vref_BP')\n",
    "    ax.set_ylabel('Vm (filtered)')\n",
    "    ax.grid(True)\n",
    "    ax.legend()\n",
    "    # ax.set_ylim((-80, 25))\n",
    "\n",
    "    # Magnitude of analytic signal = amplitude envelope\n",
    "    ax = axes[1]\n",
    "    ax.plot(bandpass.times[iplot_phas], magnitude[iplot_phas], label='magnitude')\n",
    "    ax.set_ylabel('|analytic| [mV]')\n",
    "    ax.grid(True)\n",
    "\n",
    "    # Phase of analytic signal\n",
    "    ax = axes[2]\n",
    "    ax.plot(bandpass.times[iplot_phas], phase[iplot_phas], label='phase')\n",
    "    ax.grid(True)\n",
    "    ax.set_ylabel('angle(analytic) [rad]')\n",
    "    ax.set_xlabel('time ({})'.format(times.units))"
   ]
  },
  {
   "cell_type": "code",
   "execution_count": null,
   "metadata": {},
   "outputs": [],
   "source": [
    "# Analytic signal of the mean reference signal\n",
    "plot_ival = (PHASE_INTERVAL[1]-1000, PHASE_INTERVAL[1]) # SETPARAM: plot interval\n",
    "plot_analytic_signal(sigmean, sigmean_bpss, analmag_sigmean, analphase_sigmean, plot_ival)"
   ]
  },
  {
   "cell_type": "code",
   "execution_count": null,
   "metadata": {},
   "outputs": [],
   "source": [
    "# Analytic signal for one representative trace\n",
    "tid = 1\n",
    "plot_analytic_signal(traces_raw[:,tid], traces_bp[:,tid], \n",
    "                     analytic_mag[:,tid], analytic_phase[:,tid],\n",
    "                     plot_ival)"
   ]
  },
  {
   "cell_type": "markdown",
   "metadata": {},
   "source": [
    "## Mean Phase Vector\n",
    "\n",
    "To test the degree of phase locking to the reference signal (mean CTX Vm), we compare the STN spike times to the analytic signal of the reference.\n",
    "\n",
    "See method description Sharott et al. (2016) and (2018)\n",
    "\n",
    "- Hilbert transform on reference signal\n",
    "- for each spike of each neuron: save the phase vector at spike time (angle + magnitude of Hilbert transform)\n",
    "- for mean vector length: \n",
    "    + it does not make sense to use the magnitude of the Hilbert transform since this is for the reference signal. \n",
    "    + It makes more sense to normalize each vector to length one (scale each component by vectorn norm). \n",
    "    + As described in [this nature article](https://www.nature.com/articles/srep35135#methods-and-materials): *\"The circular mean of the spike phases was calculated by taking the weighted sum of the cosine and sine of the angles, finally resulting in, the mean angle and mean vector length (R) over the number of spikes\"*"
   ]
  },
  {
   "cell_type": "code",
   "execution_count": null,
   "metadata": {},
   "outputs": [],
   "source": [
    "# Normalize and sample the complex analytic signal\n",
    "analsig_norm = analsig_sigmean / np.abs(analsig_sigmean)\n",
    "# analsig_norm = analsig_sigmean / np.sqrt(analsig_sigmean.real**2 + analsig_sigmean.imag**2)\n",
    "# analsig_norm = analsig_sigmean / np.sqrt(analsig_sigmean * analsig_sigmean.conjugate())\n",
    "spike_phase_vectors = {}\n",
    "\n",
    "# Phase vectors are calculated using the mean reference signal\n",
    "# def calc_mean_phase_vectors(...)"
   ]
  },
  {
   "cell_type": "markdown",
   "metadata": {},
   "source": [
    "### CTX phase vectors"
   ]
  },
  {
   "cell_type": "code",
   "execution_count": null,
   "metadata": {},
   "outputs": [],
   "source": [
    "pop_label = 'CTX'\n",
    "spiketrains = pops_segments[pop_label].spiketrains[:100] # select subset of spiketrains\n",
    "\n",
    "# Calculate neuron and population phase vectors\n",
    "ctx_cell_vecs, ctx_pop_vec = calc_mean_phase_vectors(spiketrains, pop_label)\n",
    "\n",
    "# Show in polar plot\n",
    "plot_phase_vectors(ctx_cell_vecs, ctx_pop_vec, pop_label,\n",
    "                   cell_color='grey', pop_color=get_pop_color(pop_label),\n",
    "                   rmax=1.0, rticks=np.arange(.2,1.2,.2), export=False)"
   ]
  },
  {
   "cell_type": "markdown",
   "metadata": {},
   "source": [
    "### MSN phase vectors"
   ]
  },
  {
   "cell_type": "code",
   "execution_count": null,
   "metadata": {},
   "outputs": [],
   "source": [
    "pop_label = 'STR.MSN'\n",
    "spiketrains = pops_segments[pop_label].spiketrains[:100] # select subset of spiketrains\n",
    "\n",
    "# Calculate neuron and population phase vectors\n",
    "msn_cell_vecs, msn_pop_vec = calc_mean_phase_vectors(spiketrains, pop_label)\n",
    "\n",
    "# Show in polar plot\n",
    "plot_phase_vectors(msn_cell_vecs, msn_pop_vec, pop_label,\n",
    "                   cell_color='grey', pop_color=get_pop_color(pop_label),\n",
    "                   rmax=1.0, rticks=np.arange(.2,1.2,.2), export=False)"
   ]
  },
  {
   "cell_type": "markdown",
   "metadata": {},
   "source": [
    "### STN phase vectors"
   ]
  },
  {
   "cell_type": "code",
   "execution_count": null,
   "metadata": {},
   "outputs": [],
   "source": [
    "pop_label = 'STN'\n",
    "segment = pops_segments['STN']\n",
    "spiketrains = segment.spiketrains[:] # select subset of spiketrains\n",
    "\n",
    "# Calculate neuron and population phase vectors\n",
    "stn_cell_vecs, stn_pop_vec = calc_mean_phase_vectors(spiketrains, pop_label)\n",
    "\n",
    "# Show in polar plot\n",
    "extra_args = {\n",
    "    'extra_pop_vecs': [ctx_pop_vec, msn_pop_vec],\n",
    "    'extra_colors': ['c', 'm'],\n",
    "    'extra_labels': ['CTX', 'MSN'],\n",
    "}\n",
    "plot_phase_vectors(stn_cell_vecs, stn_pop_vec, pop_label, ref_vec=ctx_pop_vec,\n",
    "                   cell_color='grey', pop_color=get_pop_color(pop_label),\n",
    "                   rmax=1.0, rticks=np.arange(.2,1.2,.2), export=False,\n",
    "                   **extra_args)\n",
    "\n",
    "plot_phase_histogram(pop_label, ref_vec=ctx_pop_vec, num_bins=20,\n",
    "                     bar_color=get_pop_color(pop_label),\n",
    "                     rticks=np.arange(0, 0.25, 0.02), rmax=0.1, \n",
    "                     rlabel_start=0.05, export=True)"
   ]
  },
  {
   "cell_type": "markdown",
   "metadata": {},
   "source": [
    "### GPE phase vectors"
   ]
  },
  {
   "cell_type": "code",
   "execution_count": null,
   "metadata": {},
   "outputs": [],
   "source": [
    "pop_label = 'GPE.proto'\n",
    "spiketrains = pops_segments[pop_label].spiketrains[:] # select subset of spiketrains\n",
    "\n",
    "# Calculate neuron and population phase vectors\n",
    "gpe_cell_vecs, gpe_pop_vec = calc_mean_phase_vectors(spiketrains, pop_label)\n",
    "\n",
    "# Show in polar plot\n",
    "extra_args = {\n",
    "    'extra_pop_vecs': [ctx_pop_vec, msn_pop_vec, stn_pop_vec],\n",
    "    'extra_colors': ['c', 'm', 'g'],\n",
    "    'extra_labels': ['CTX', 'MSN', 'STN'],\n",
    "}\n",
    "plot_phase_vectors(gpe_cell_vecs, gpe_pop_vec, 'GPE', ref_vec=ctx_pop_vec,\n",
    "                   cell_color='grey', pop_color=get_pop_color(pop_label),\n",
    "                   rmax=0.8, rticks=np.arange(.2,1.2,.2), export=False,\n",
    "                   **extra_args)\n",
    "\n",
    "plot_phase_histogram(pop_label, ref_vec=ctx_pop_vec,\n",
    "                     bar_color=get_pop_color(pop_label),\n",
    "                     rticks=np.arange(0, 0.5, 0.1), rmax=0.4,\n",
    "                     rlabel_start=0.1, rlabel_angle=115, export=True)"
   ]
  },
  {
   "cell_type": "markdown",
   "metadata": {},
   "source": [
    "### ARTICLE"
   ]
  },
  {
   "cell_type": "code",
   "execution_count": null,
   "metadata": {},
   "outputs": [],
   "source": [
    "# Combine on single ploar plot\n",
    "# https://xkcd.com/color/rgb/\n",
    "extra_args = {\n",
    "    'extra_pop_vecs': [gpe_pop_vec],\n",
    "    'extra_cell_vecs': [gpe_cell_vecs],\n",
    "    'extra_colors': ['xkcd:red'],\n",
    "    'extra_cell_colors': ['xkcd:pinkish'],\n",
    "    'extra_labels': ['GPE'],\n",
    "}\n",
    "pop_label = 'STN+GPE'\n",
    "plot_phase_vectors(stn_cell_vecs, stn_pop_vec, pop_label, ref_vec=gpe_pop_vec,\n",
    "                   pop_color='xkcd:forrest green', show_legend=False,\n",
    "                   cell_color='green', cell_opacity=0.3, pop_line_width=5,\n",
    "                   rmax=1.0, rticks=np.arange(.2,1.2,.2), export=True,\n",
    "                   **extra_args)"
   ]
  },
  {
   "cell_type": "markdown",
   "metadata": {},
   "source": [
    "# Currents"
   ]
  },
  {
   "cell_type": "code",
   "execution_count": null,
   "metadata": {},
   "outputs": [],
   "source": [
    "# Make trigger signal for Beta based on zero-crossings of Beta phase\n",
    "try:\n",
    "    # PHASE AVAILABLE AFTER HILBERT TRANSFORM COMPUTED\n",
    "    phase_pos = np.array(analphase_sigmean.ravel() >= 0, dtype=float)\n",
    "    phase_zero_idx = np.where(np.diff(phase_pos) == 1)[0] + 1 # zero crossings in UP direction\n",
    "    phase_zero_times = sigmean_bpss.times.magnitude[phase_zero_idx] # use Hilbert transformed signal\n",
    "except NameError:\n",
    "    # empty variables if Hilbert not calculated\n",
    "    phase_pos = None\n",
    "    phase_zero_idx = None\n",
    "    phase_zero_times = None"
   ]
  },
  {
   "cell_type": "code",
   "execution_count": null,
   "metadata": {},
   "outputs": [],
   "source": [
    "# Find phase locked units\n",
    "for pop in 'STN', 'GPE.proto':\n",
    "    cell_phase_vecs = exported_data['cell_phase_vecs'][pop] # imaginary numbers\n",
    "    vec_idx_sorted = np.argsort(np.abs(cell_phase_vecs))[::-1] # sorted by magnitude in reversed order\n",
    "    cell_idx_sorted = [pops_segments[pop].spiketrains[i].annotations['source_index'] for i in vec_idx_sorted]\n",
    "    cell_gid_sorted = [pops_segments[pop].spiketrains[i].annotations['source_id'] for i in vec_idx_sorted]\n",
    "    \n",
    "    # Check that spiketrains are sorted according to cell indices in population\n",
    "    assert all((i==j for i,j in zip(vec_idx_sorted, cell_idx_sorted)))\n",
    "    \n",
    "    exported_data.setdefault('phaselock_ranking_source_indices', {})[pop] = cell_idx_sorted\n",
    "    exported_data.setdefault('phaselock_ranking_source_ids', {})[pop] = cell_gid_sorted"
   ]
  },
  {
   "cell_type": "markdown",
   "metadata": {},
   "source": [
    "## STN Synapse Dynamics"
   ]
  },
  {
   "cell_type": "code",
   "execution_count": null,
   "metadata": {},
   "outputs": [],
   "source": [
    "%%skip $automatic_execution\n",
    "\n",
    "# Plot synaptic conductances and currents for selected populations\n",
    "t_interval = ROI_INTERVAL[0], ROI_INTERVAL[0]+400 # SETPARAM: time interval\n",
    "stn_segment = pops_segments['STN']\n",
    "\n",
    "plot_synapse_traces('STN', max_ncell=1, max_nsyn=3,\n",
    "                    trace_names=['i_NR2A', 'i_GLU', 'iGABA'], # add traces you want to plot\n",
    "                    extra_sigs=[sig.name for sig in stn_segment.analogsignals if (\n",
    "                                   sig.name.startswith('STN_CaT_inact') or\n",
    "                                   sig.name.startswith('STN_CaL_inact'))],\n",
    "                    extra_plot_with=lambda trace_name: trace_name.startswith('i'),\n",
    "                    extra_max_plot=5,\n",
    "                    interval=t_interval, interval_only=True, beta_phase=True)"
   ]
  },
  {
   "cell_type": "markdown",
   "metadata": {},
   "source": [
    "## Phase Locking Mechanism"
   ]
  },
  {
   "cell_type": "code",
   "execution_count": null,
   "metadata": {},
   "outputs": [],
   "source": [
    "# Identify units with strongest phase locking and plot them\n",
    "pop = 'STN'\n",
    "cell_ids_ranked = exported_data['phaselock_ranking_source_indices'][pop] # [::-1] # for worst phase locked\n",
    "\n",
    "# SETPARAM: choose cells to plot\n",
    "max_num_plot = 16\n",
    "cell_indices = cell_ids_ranked[:max_num_plot]\n",
    "t_interval = ROI_INTERVAL # SETPARAM: time interval\n",
    "\n",
    "num_spiketrains = min(len(pops_segments[pop].spiketrains), max_num_plot)\n",
    "fig_height = ax_height*num_spiketrains/20.0\n",
    "fig, shared_axis = plot_spiketrain(pop, cell_indices, t_interval,\n",
    "                                   sharex=None, sharey=None,\n",
    "                                   figsize=(page_width, fig_height),\n",
    "                                   plot_compact=False, order_by='caller')"
   ]
  },
  {
   "cell_type": "code",
   "execution_count": null,
   "metadata": {
    "scrolled": false
   },
   "outputs": [],
   "source": [
    "%%skip $automatic_execution\n",
    "\n",
    "# STN - Oscillation mechanism and phase relationships between currents\n",
    "pop = 'STN'\n",
    "\n",
    "# Excitatory afferent populations\n",
    "exc_currents = {'CTX': ('i_NR2A', 'i_GLU')}\n",
    "\n",
    "# Inhibitory afferent populations (depends on how we made Projections)\n",
    "inh_currents = {}\n",
    "for pre in 'GPE.all', 'GPE.proto', 'GPE.surrogate':\n",
    "    if 'STN' in network_params[pre]:\n",
    "        inh_currents[pre] = ('iGABA',)\n",
    "\n",
    "t_offset = 500.0\n",
    "t_window = 500.0\n",
    "t_interval = ROI_INTERVAL[0]+t_offset, ROI_INTERVAL[0]+t_offset+t_window\n",
    "\n",
    "# UNCOMMENT for mechanisms plot\n",
    "# TODO: print which cell (row in rastergram) we are plotting (as figure title: print rank)\n",
    "plot_oscillatory_traces(pop, exc_currents, inh_currents, interval=t_interval,\n",
    "                        trace_group_member='i_GLU',\n",
    "                        ranking_slice=slice(6,11), lpf_current=1000.0, export_indices=[24],\n",
    "                        gating_signals={'CaT_s': ['STN_CaT_inact_R', 'STN_CaT_inact_L']})"
   ]
  },
  {
   "cell_type": "markdown",
   "metadata": {},
   "source": [
    "## STN Balance EXC/INH\n",
    "\n",
    "We can get a rough estimate of the balance of excitation / inhibition\n",
    "by integrating the recorded synaptic currents for both excitatory and\n",
    "inhibitory synapses, and then multiplying each with the ratio of actual\n",
    "over recorded synapses."
   ]
  },
  {
   "cell_type": "code",
   "execution_count": null,
   "metadata": {},
   "outputs": [],
   "source": [
    "exc_currents = {'CTX.axons': ('i_NR2A', 'i_GLU')}\n",
    "\n",
    "# Inhibitory afferent populations (depends on how we made Projections)\n",
    "inh_currents = {}\n",
    "for pre in 'GPE.all', 'GPE.proto', 'GPE.surrogate':\n",
    "    if 'STN' in network_params[pre]:\n",
    "        inh_currents[pre] = ('iGABA',)\n",
    "\n",
    "# Number of cells where synapses are recorded\n",
    "num_rec = sim_config['STN']['traces'][1]['cells']\n",
    "rec_ids = range(num_rec)\n",
    "\n",
    "stn_exh_inh_ratio = calc_exc_inh_ratio('STN', exc_currents, inh_currents, rec_ids)"
   ]
  },
  {
   "cell_type": "markdown",
   "metadata": {},
   "source": [
    "## GPe Synapse Dynamics"
   ]
  },
  {
   "cell_type": "code",
   "execution_count": null,
   "metadata": {},
   "outputs": [],
   "source": [
    "# %%skip $automatic_execution\n",
    "\n",
    "# Plot synaptic conductances and currents for selected populations\n",
    "t_interval = ROI_INTERVAL[0]+400, ROI_INTERVAL[0]+1400 # SETPARAM: time interval\n",
    "\n",
    "plot_synapse_traces('GPE.proto', max_ncell=1, max_nsyn=2,\n",
    "                    interval=t_interval, interval_only=True,\n",
    "                    trace_names=['iGLU', 'iGABA', 'iGABAA']) # iGABAA is from STR.MSN"
   ]
  },
  {
   "cell_type": "markdown",
   "metadata": {},
   "source": [
    "## GPE Balance EXC/INH"
   ]
  },
  {
   "cell_type": "code",
   "execution_count": null,
   "metadata": {},
   "outputs": [],
   "source": [
    "exc_currents = {'STN': ('iGLU',)}\n",
    "\n",
    "# Inhibitory afferent populations (depends on how we made Projections)\n",
    "inh_currents = {'STR.MSN': ('iGABAA',)}\n",
    "for pre in 'GPE.all', 'GPE.proto', 'GPE.surrogate':\n",
    "    if 'STN' in network_params[pre]:\n",
    "        inh_currents[pre] = ('iGABA',)\n",
    "\n",
    "# Number of cells where synapses are recorded\n",
    "num_rec = sim_config['GPE.proto']['traces'][1]['cells']\n",
    "rec_ids = range(num_rec)\n",
    "\n",
    "gpe_exh_inh_ratio = calc_exc_inh_ratio('GPE.proto', exc_currents, inh_currents, rec_ids)"
   ]
  },
  {
   "cell_type": "markdown",
   "metadata": {},
   "source": [
    "# Save Notebook"
   ]
  },
  {
   "cell_type": "code",
   "execution_count": null,
   "metadata": {},
   "outputs": [],
   "source": [
    "out_dir = os.path.join(outputs, 'analysis')\n",
    "if not os.path.exists(out_dir):\n",
    "    os.makedirs(out_dir)"
   ]
  },
  {
   "cell_type": "code",
   "execution_count": null,
   "metadata": {},
   "outputs": [],
   "source": [
    "# Export analysis results\n",
    "pickle_filepath = os.path.join(out_dir, pickle_filename)\n",
    "with open(pickle_filepath, 'wb') as fout:\n",
    "    pickle.dump(exported_data, fout)\n",
    "print(\"Saved analysis results to file: \" + pickle_filepath)"
   ]
  },
  {
   "cell_type": "code",
   "execution_count": null,
   "metadata": {},
   "outputs": [],
   "source": [
    "%%javascript\n",
    "require([\"base/js/namespace\"],function(Jupyter) {\n",
    "    Jupyter.notebook.save_checkpoint();\n",
    "});"
   ]
  },
  {
   "cell_type": "code",
   "execution_count": null,
   "metadata": {},
   "outputs": [],
   "source": [
    "# If not automatically executed: save results here\n",
    "if not automatic_execution:\n",
    "    from datetime import datetime\n",
    "    nb_name = 'lunet_dbs_analysis'\n",
    "    thisfile = nb_name + '.ipynb'\n",
    "    outsuffix = '{:.1f}s-{:.1f}s'.format(ROI_INTERVAL[0]/1e3, ROI_INTERVAL[1]/1e3)\n",
    "    outbase = 'LuNetDBS_analysis_' + outsuffix + '_' + datetime.now().strftime('%Y.%m.%d-%H.%M.%S')\n",
    "    outfile_html = outbase + '.html'\n",
    "    outfile_full_html = os.path.join(out_dir, outfile_html)\n",
    "    outfile_full_nb = os.path.join(out_dir, outbase + '.ipynb')\n",
    "    # outfile = os.path.join(outputs, 'synchrony_analysis.html')\n",
    "    # Export using built-in template:\n",
    "    #!jupyter nbconvert --to html --template=full --output-dir=$outputs $thisfile\n",
    "    # NOTE: template comes from ToC2 Notebook Extension\n",
    "    # NOTE: the class <tocskip> for headers messes up the export -> do not use\n",
    "    %cp $thisfile $outfile_full_nb\n",
    "    !jupyter nbconvert $thisfile --to html --template=toc2 --output-dir=$out_dir --output $outfile_html\n",
    "    # replace title\n",
    "    subs_regex = \"'1,6s/<title>{}/<title>{}-{}/g'\".format(nb_name, sweep_var_name, sweep_var_value)\n",
    "    %system sed -i $subs_regex $outfile_full_html"
   ]
  },
  {
   "cell_type": "code",
   "execution_count": null,
   "metadata": {},
   "outputs": [],
   "source": []
  }
 ],
 "metadata": {
  "kernelspec": {
   "display_name": "Python 2",
   "language": "python",
   "name": "python2"
  },
  "language_info": {
   "codemirror_mode": {
    "name": "ipython",
    "version": 2
   },
   "file_extension": ".py",
   "mimetype": "text/x-python",
   "name": "python",
   "nbconvert_exporter": "python",
   "pygments_lexer": "ipython2",
   "version": "2.7.16"
  },
  "toc": {
   "base_numbering": 1,
   "nav_menu": {
    "height": "223px",
    "width": "188px"
   },
   "number_sections": false,
   "sideBar": true,
   "skip_h1_title": false,
   "title_cell": "Table of Contents",
   "title_sidebar": "Contents",
   "toc_cell": false,
   "toc_position": {
    "height": "884px",
    "left": "0px",
    "right": "1686px",
    "top": "67px",
    "width": "234px"
   },
   "toc_section_display": "block",
   "toc_window_display": true
  }
 },
 "nbformat": 4,
 "nbformat_minor": 2
}
