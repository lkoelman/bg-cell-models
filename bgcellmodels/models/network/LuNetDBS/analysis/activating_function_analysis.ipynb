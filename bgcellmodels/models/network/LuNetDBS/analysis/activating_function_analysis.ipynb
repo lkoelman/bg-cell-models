{
 "cells": [
  {
   "cell_type": "markdown",
   "metadata": {},
   "source": [
    "# Activating Function Analysis\n",
    "\n",
    "Analyze activation of neurite structured by DBS-imposed electric field"
   ]
  },
  {
   "cell_type": "code",
   "execution_count": null,
   "metadata": {},
   "outputs": [],
   "source": [
    "import cPickle as pickle\n",
    "import re, os\n",
    "\n",
    "import numpy as np\n",
    "import matplotlib\n",
    "import matplotlib.pyplot as plt"
   ]
  },
  {
   "cell_type": "code",
   "execution_count": null,
   "metadata": {},
   "outputs": [],
   "source": [
    "# Figure dimensions\n",
    "fig_aspect_ratio = 8.0 / 3.0\n",
    "page_width = 10\n",
    "fig_width = 0.8 * page_width\n",
    "fig_height = fig_width / fig_aspect_ratio\n",
    "ax_width = 0.7 * page_width\n",
    "ax_height = ax_width / fig_aspect_ratio\n",
    "\n",
    "# Style of figures (default colors etc.): see https://matplotlib.org/gallery/style_sheets/style_sheets_reference.html\n",
    "plt.style.use('default')\n",
    "\n",
    "# Consistent size in backend 'notebook' (100 dpi) and 'inline' (72 dpi)\n",
    "def plt_setrc():\n",
    "    matplotlib.rcParams['savefig.dpi'] = 100\n",
    "    matplotlib.rcParams['figure.dpi'] = 100\n",
    "\n",
    "class bcolors:\n",
    "    \"\"\" Example: print(bcolors.HEADER + 'hello' + bcolors.ENDC) \"\"\"\n",
    "    HEADER = '\\033[95m'\n",
    "    OKBLUE = '\\033[94m'\n",
    "    OKGREEN = '\\033[92m'\n",
    "    WARNING = '\\033[93m'\n",
    "    FAIL = '\\033[91m'\n",
    "    BOLD = '\\033[1m'\n",
    "    UNDERLINE = '\\033[4m'\n",
    "    ENDC = '\\033[0m'"
   ]
  },
  {
   "cell_type": "code",
   "execution_count": null,
   "metadata": {},
   "outputs": [],
   "source": [
    "%matplotlib notebook\n",
    "plt_setrc()"
   ]
  },
  {
   "cell_type": "markdown",
   "metadata": {},
   "source": [
    "# Import Data"
   ]
  },
  {
   "cell_type": "code",
   "execution_count": null,
   "metadata": {},
   "outputs": [],
   "source": [
    "# SETPARAM: path to pickle files with population data\n",
    "outputs = '/home/luye/Documents/sim_data/LuNetDBS/simdata_newsonic/sweeps_dbs-amp/sweep_dbs-amp_conf-V6_rec-axmid-EI/LuNetDBS_2019.09.03_16.31.28_job-44728_netconf-V6_rec-axmid-EI_dbs-amp-0.8/comp-locs_with-act-fun'\n",
    "\n",
    "file_filter = lambda f: f.endswith('.pkl') and f.startswith('comp-locs')\n",
    "\n",
    "filenames = os.listdir(outputs)\n",
    "pkl_files = [os.path.join(outputs, f) for f in filenames if file_filter(f)]\n",
    "\n",
    "# Structure\n",
    "# 'STN' : {\n",
    "#   'comp_act' : { 'somatic': list[float], 'basal': list[float], 'axonal': list[float]}\n",
    "#   'comp_dists' : { 'somatic': list[float], 'basal': list[float], 'axonal': list[float]}\n",
    "# }\n",
    "#     \n",
    "all_pop_data = {}\n",
    "all_cell_offsets = {}\n",
    "\n",
    "for pkl_fpath in pkl_files:\n",
    "    pkl_fname = os.path.split(pkl_fpath)[1]\n",
    "    matches = re.search(r'comp-locs_([\\w\\.]+)_', pkl_fpath)\n",
    "    \n",
    "    with open(pkl_fpath, 'rb') as f:\n",
    "        data = pickle.load(f)\n",
    "        \n",
    "    if 'comp_act' not in data:\n",
    "        print(bcolors.FAIL + \"No activating function data: \" + bcolors.ENDC + pkl_fname)\n",
    "        continue\n",
    "    else:\n",
    "        print(bcolors.OKGREEN + \"OK: activating function data found: \" + bcolors.ENDC + pkl_fname)\n",
    "    \n",
    "    # Allocate data structure for population\n",
    "    pop_label = data['population']\n",
    "    all_pop_data[pop_label] = {}\n",
    "    \n",
    "    # Store some data as-is (per cell)\n",
    "    for k in 'gids', 'comp_locs':\n",
    "        all_pop_data[pop_label][k] = data[k]\n",
    "    \n",
    "    # Data with one dict per cell : flatten into single dict\n",
    "    all_pop_data[pop_label]['comp_act'] = all_cells_act = data['comp_act'][0]\n",
    "    all_pop_data[pop_label]['comp_dists'] = all_cells_dists = data['comp_dists'][0]\n",
    "    \n",
    "    # Store offset to data for each cell\n",
    "    all_cell_offsets[pop_label] = {k: [0, len(vals)] for k, vals in all_cells_act.iteritems()}\n",
    "    \n",
    "    for i in range(1, len(data['comp_act'])):\n",
    "        cell_act = data['comp_act'][i]\n",
    "        cell_dists = data['comp_dists'][i]\n",
    "        \n",
    "        \n",
    "        # Append this cell's data to population data\n",
    "        for region in cell_act.keys():\n",
    "            all_cells_act[region].extend(cell_act[region])\n",
    "            all_cell_offsets[pop_label][region].append(\n",
    "                all_cell_offsets[pop_label][region][-1] +  len(cell_act[region]))\n",
    "            \n",
    "        for region in cell_dists.keys():\n",
    "            all_cells_dists[region].extend(cell_dists[region])\n",
    "\n",
    "    # Convert to numpy array\n",
    "    for region in all_cells_act.keys():\n",
    "        all_cells_act[region] = np.array(all_cells_act[region])\n",
    "    for region in all_cells_dists.keys():\n",
    "        all_cells_dists[region] = np.array(all_cells_dists[region])"
   ]
  },
  {
   "cell_type": "code",
   "execution_count": null,
   "metadata": {},
   "outputs": [],
   "source": [
    "def get_cell_dists_acts(pop, cell_gids, region):\n",
    "    \"\"\"\n",
    "    Get activating function values and compartment distances for cell\n",
    "    \n",
    "    @return   dists, acts : tuple[numpy.array[float], numpy.array[float]]\n",
    "              Distances and activating function values at compartment centers\n",
    "    \"\"\"\n",
    "    cells_dists = []\n",
    "    cells_acts = []\n",
    "    for cell_gid in cell_gids:\n",
    "        cell_index = all_pop_data[pop]['gids'].index(cell_gid)\n",
    "        cell_data_start = all_cell_offsets[pop][region][cell_index]\n",
    "        cell_data_stop = all_cell_offsets[pop][region][cell_index + 1]\n",
    "        cell_slice = slice(cell_data_start, cell_data_stop)\n",
    "        cells_acts.extend(all_pop_data[pop]['comp_act'][region][cell_slice])\n",
    "        cells_dists.extend(all_pop_data[pop]['comp_dists'][region][cell_slice])\n",
    "    return np.array(cells_dists), np.array(cells_acts)"
   ]
  },
  {
   "cell_type": "markdown",
   "metadata": {},
   "source": [
    "# Scatter plots"
   ]
  },
  {
   "cell_type": "code",
   "execution_count": null,
   "metadata": {},
   "outputs": [],
   "source": [
    "def plot_actfun_scatter(pop_label, multiple_figs=False, regions=None, cells='all'\n",
    "                        regions_acts=None, regions_dists=None):\n",
    "    \"\"\"\n",
    "    Scatter plot of activating function value vs distance from soma.\n",
    "    \"\"\"\n",
    "    \n",
    "    if regions is None:\n",
    "        regions = all_pop_data[pop_label]['comp_act'].keys()\n",
    "    \n",
    "    if regions_acts is not None and regions_dists is not None:\n",
    "        print(\"Caller supplied custon activation values\")\n",
    "    elif cells == 'all':\n",
    "        regions_acts = all_pop_data[pop_label]['comp_act']\n",
    "        regions_dists = all_pop_data[pop_label]['comp_dists']\n",
    "    else:\n",
    "        regions_dists_acts = {\n",
    "            region: get_cell_dists_acts(pop_label, cells, region) for region in regions\n",
    "        }\n",
    "        regions_acts = {k: v[1] for k,v in regions_dists_acts.items()}\n",
    "        regions_dists = {k: v[0] for k,v in regions_dists_acts.items()}\n",
    "    \n",
    "    if not multiple_figs:\n",
    "        fig, ax = plt.subplots(figsize=(fig_width, ax_height))\n",
    "        \n",
    "    def decorate_fig(fig, ax, region=None):\n",
    "        ax.legend()\n",
    "        ax.grid()\n",
    "        ax.set_xlabel('dist. from soma (um)')\n",
    "        ax.set_ylabel('activating func. (mV/ms)')\n",
    "        \n",
    "        title = \"Activating function\"\n",
    "        if region:\n",
    "            title += \" ({} compartments)\".format(region)\n",
    "        ax.set_title(title)\n",
    "        fig.subplots_adjust(bottom=0.15) # prevent clipping of xlabel\n",
    "\n",
    "    # Plot distance vs activating function\n",
    "    for region in regions_acts.keys():\n",
    "        if multiple_figs:\n",
    "            fig, ax = plt.subplots(figsize=(fig_width, ax_height))\n",
    "        \n",
    "        ax.plot(regions_dists[region], regions_acts[region],\n",
    "                '.', label=region, markersize=3)\n",
    "\n",
    "        if multiple_figs:\n",
    "            decorate_fig(fig, ax, region=region)\n",
    "        \n",
    "    if not multiple_figs:\n",
    "        decorate_fig(fig, ax)"
   ]
  },
  {
   "cell_type": "markdown",
   "metadata": {},
   "source": [
    "## STN"
   ]
  },
  {
   "cell_type": "code",
   "execution_count": null,
   "metadata": {},
   "outputs": [],
   "source": [
    "plot_actfun_scatter('STN', multiple_figs=True)"
   ]
  },
  {
   "cell_type": "markdown",
   "metadata": {},
   "source": [
    "## GPE"
   ]
  },
  {
   "cell_type": "code",
   "execution_count": null,
   "metadata": {},
   "outputs": [],
   "source": [
    "plot_actfun_scatter('GPE.proto', multiple_figs=True)"
   ]
  },
  {
   "cell_type": "markdown",
   "metadata": {},
   "source": [
    "# Boxplots"
   ]
  },
  {
   "cell_type": "code",
   "execution_count": null,
   "metadata": {},
   "outputs": [],
   "source": [
    "def plot_actfun_boxplot(pop_label, regions=None, regions_acts=None, common_axis=False, **kwargs):\n",
    "    \n",
    "    if regions_acts is not None:\n",
    "        regions = regions_acts.keys()\n",
    "    elif regions is None:\n",
    "        regions = all_pop_data[pop_label]['comp_act'].keys()\n",
    "    \n",
    "    if regions_acts is None:\n",
    "        regions_acts = {region: all_pop_data[pop_label]['comp_act'][region] for region in regions}\n",
    "        \n",
    "    num_axes = 1 if common_axis else len(regions)\n",
    "    fig, axes = plt.subplots(1, num_axes, figsize=(page_width, 1.5*ax_height))\n",
    "    \n",
    "    if common_axis:\n",
    "        ax = axes\n",
    "        x = [regions_acts[region] for region in regions] # one dataset per entry -> multiple boxplots\n",
    "        bp = ax.boxplot(x, 0, 'g+', **kwargs)\n",
    "        ax.grid(True, which='major', axis='y')\n",
    "        ax.set_xticklabels(regions)\n",
    "        ax.set_title(\"Activating function ({})\".format(pop_label))\n",
    "    else:\n",
    "        # Stack axes horizontally\n",
    "        for i, region in enumerate(regions):\n",
    "            ax = axes[i]\n",
    "            ax.set_title(\"Act. func. ({})\".format(region))\n",
    "\n",
    "            x = regions_acts[region]\n",
    "            bp = ax.boxplot(x, 0, 'g+', **kwargs)\n",
    "            ax.grid(True, which='major', axis='y')\n",
    "            ax.set_xticks([])\n",
    "\n",
    "            print(\"\\nStatistics ({}):\".format(region))\n",
    "            print(\"- std : {:.3f}\".format(np.std(x)))"
   ]
  },
  {
   "cell_type": "markdown",
   "metadata": {},
   "source": [
    "## STN"
   ]
  },
  {
   "cell_type": "code",
   "execution_count": null,
   "metadata": {},
   "outputs": [],
   "source": [
    "plot_actfun_boxplot('STN', showfliers=False)"
   ]
  },
  {
   "cell_type": "markdown",
   "metadata": {},
   "source": [
    "## GPE"
   ]
  },
  {
   "cell_type": "code",
   "execution_count": null,
   "metadata": {},
   "outputs": [],
   "source": [
    "plot_actfun_boxplot('GPE.proto', showfliers=True)"
   ]
  },
  {
   "cell_type": "markdown",
   "metadata": {},
   "source": [
    "# Single cells"
   ]
  },
  {
   "cell_type": "markdown",
   "metadata": {},
   "source": [
    "## Negative SEPs"
   ]
  },
  {
   "cell_type": "code",
   "execution_count": null,
   "metadata": {},
   "outputs": [],
   "source": [
    "# STN cells with negative SEPs\n",
    "pop_label = 'STN'\n",
    "cell_gids = [6, 19, 21, 22, 23, 24, 25, 39, 40, 49, 9, 10]\n",
    "\n",
    "# Get the data\n",
    "regions = all_pop_data[pop_label]['comp_act'].keys()\n",
    "regions_dists_acts = {\n",
    "    region: get_cell_dists_acts(pop_label, cell_gids, region) for region in regions\n",
    "}\n",
    "regions_acts = {k: v[1] for k,v in regions_dists_acts.items()}\n",
    "regions_dists = {k: v[0] for k,v in regions_dists_acts.items()}\n",
    "\n",
    "# Filter axonal data\n",
    "# ax_comp_inds = [i for i,d in enumerate(regions_dists['axonal']) if d < 500.0]\n",
    "ax_comp_inds = [i for i,a in enumerate(regions_acts['axonal']) if a > 1000.0]\n",
    "regions_acts['axonal'] = regions_acts['axonal'][ax_comp_inds]\n",
    "regions_dists['axonal'] = regions_dists['axonal'][ax_comp_inds]\n",
    "\n",
    "# Plot scatter and boxplot\n",
    "plot_actfun_scatter(pop_label, multiple_figs=True, cells=cell_gids)\n",
    "plot_actfun_boxplot(pop_label, regions_acts=regions_acts, showfliers=False)"
   ]
  },
  {
   "cell_type": "markdown",
   "metadata": {},
   "source": [
    "## Positive SEPs"
   ]
  },
  {
   "cell_type": "code",
   "execution_count": null,
   "metadata": {
    "scrolled": false
   },
   "outputs": [],
   "source": [
    "# STN cells with positive SEPs\n",
    "pop_label = 'STN'\n",
    "cell_gids = [7, 8, 12, 13, 16, 18, 20, 26, 27, 28, 29, 30, 37, 43]\n",
    "\n",
    "# Get the data\n",
    "regions = all_pop_data[pop_label]['comp_act'].keys()\n",
    "regions_dists_acts = {\n",
    "    region: get_cell_dists_acts(pop_label, cell_gids, region) for region in regions\n",
    "}\n",
    "regions_acts = {k: v[1] for k,v in regions_dists_acts.items()}\n",
    "regions_dists = {k: v[0] for k,v in regions_dists_acts.items()}\n",
    "\n",
    "# Filter axonal data\n",
    "# ax_comp_inds = [i for i,d in enumerate(regions_dists['axonal']) if d < 500.0]\n",
    "ax_comp_inds = [i for i,a in enumerate(regions_acts['axonal']) if a > 1000.0]\n",
    "regions_acts['axonal'] = regions_acts['axonal'][ax_comp_inds]\n",
    "regions_dists['axonal'] = regions_dists['axonal'][ax_comp_inds]\n",
    "\n",
    "# Plot scatter and boxplot\n",
    "plot_actfun_scatter(pop_label, multiple_figs=True, cells=cell_gids)\n",
    "plot_actfun_boxplot(pop_label, regions_acts=regions_acts, showfliers=False)"
   ]
  },
  {
   "cell_type": "code",
   "execution_count": null,
   "metadata": {},
   "outputs": [],
   "source": []
  }
 ],
 "metadata": {
  "kernelspec": {
   "display_name": "Python 2",
   "language": "python",
   "name": "python2"
  },
  "language_info": {
   "codemirror_mode": {
    "name": "ipython",
    "version": 2
   },
   "file_extension": ".py",
   "mimetype": "text/x-python",
   "name": "python",
   "nbconvert_exporter": "python",
   "pygments_lexer": "ipython2",
   "version": "2.7.15"
  },
  "toc": {
   "base_numbering": 1,
   "nav_menu": {},
   "number_sections": false,
   "sideBar": true,
   "skip_h1_title": false,
   "title_cell": "Table of Contents",
   "title_sidebar": "Contents",
   "toc_cell": false,
   "toc_position": {
    "height": "calc(100% - 180px)",
    "left": "10px",
    "top": "150px",
    "width": "183px"
   },
   "toc_section_display": true,
   "toc_window_display": true
  }
 },
 "nbformat": 4,
 "nbformat_minor": 2
}
