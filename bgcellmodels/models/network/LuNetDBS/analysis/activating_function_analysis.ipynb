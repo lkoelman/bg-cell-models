{
 "cells": [
  {
   "cell_type": "markdown",
   "metadata": {},
   "source": [
    "# Activating Function Analysis\n",
    "\n",
    "Analyze activation of neurite structured by DBS-imposed electric field"
   ]
  },
  {
   "cell_type": "code",
   "execution_count": null,
   "metadata": {},
   "outputs": [],
   "source": [
    "import cPickle as pickle\n",
    "import re, os\n",
    "\n",
    "import numpy as np\n",
    "import matplotlib\n",
    "import matplotlib.pyplot as plt"
   ]
  },
  {
   "cell_type": "code",
   "execution_count": null,
   "metadata": {},
   "outputs": [],
   "source": [
    "# Figure dimensions\n",
    "fig_aspect_ratio = 8.0 / 3.0\n",
    "page_width = 10\n",
    "fig_width = 0.8 * page_width\n",
    "fig_height = fig_width / fig_aspect_ratio\n",
    "ax_width = 0.7 * page_width\n",
    "ax_height = ax_width / fig_aspect_ratio\n",
    "\n",
    "# Style of figures (default colors etc.): see https://matplotlib.org/gallery/style_sheets/style_sheets_reference.html\n",
    "plt.style.use('default')\n",
    "\n",
    "# Consistent size in backend 'notebook' (100 dpi) and 'inline' (72 dpi)\n",
    "def plt_setrc():\n",
    "    matplotlib.rcParams['savefig.dpi'] = 100\n",
    "    matplotlib.rcParams['figure.dpi'] = 100"
   ]
  },
  {
   "cell_type": "code",
   "execution_count": null,
   "metadata": {},
   "outputs": [],
   "source": [
    "%matplotlib notebook\n",
    "plt_setrc()"
   ]
  },
  {
   "cell_type": "markdown",
   "metadata": {},
   "source": [
    "# Import Data"
   ]
  },
  {
   "cell_type": "code",
   "execution_count": null,
   "metadata": {},
   "outputs": [],
   "source": [
    "# SETPARAM: path to pickle files with population data\n",
    "outputs = \"/home/luye/cloudstore_m/simdata/LuNetDBS/LuNetDBS_2019.08.28_13.51.43_job-ActFun_axons-full-V4_gNMDA-low_template\"\n",
    "\n",
    "file_filter = lambda f: f.endswith('.pkl') and f.startswith('comp-locs')\n",
    "\n",
    "filenames = os.listdir(outputs)\n",
    "pkl_files = [os.path.join(outputs, f) for f in filenames if file_filter(f)]\n",
    "\n",
    "# Structure\n",
    "# 'STN' : {\n",
    "#   'comp_act' : { 'somatic': list[float], 'basal': list[float], 'axonal': list[float]}\n",
    "#   'comp_dists' : { 'somatic': list[float], 'basal': list[float], 'axonal': list[float]}\n",
    "# }\n",
    "#     \n",
    "all_pop_data = {}\n",
    "all_cell_offsets = {}\n",
    "\n",
    "for pkl_fname in pkl_files:\n",
    "    matches = re.search(r'comp-locs_([\\w\\.]+)_', pkl_fname)\n",
    "    pop_label = matches.groups()[0]\n",
    "    \n",
    "    with open(pkl_fname, 'rb') as f:\n",
    "        data = pickle.load(f)\n",
    "\n",
    "    # Pooled data\n",
    "    all_pop_data.setdefault(pop_label, {})['comp_act'] = all_cells_act = data['comp_act'][0]\n",
    "    all_pop_data.setdefault(pop_label, {})['comp_dists'] = all_cells_dists = data['comp_dists'][0]\n",
    "    \n",
    "    # Store offset to data for each cell\n",
    "    all_cell_offsets[pop_label] = {k: [0, len(vals)] for k, vals in all_cells_act.iteritems()}\n",
    "    \n",
    "    for i in range(1, len(data['comp_act'])):\n",
    "        cell_act = data['comp_act'][i]\n",
    "        cell_dists = data['comp_dists'][i]\n",
    "        \n",
    "        \n",
    "        # Append this cell's data to population data\n",
    "        for k in cell_act.keys():\n",
    "            all_cells_act[k].extend(cell_act[k])\n",
    "            all_cell_offsets[pop_label][k].append(all_cell_offsets[pop_label][k][-1] +  len(cell_act[k]))\n",
    "            \n",
    "        for k in cell_dists.keys():\n",
    "            all_cells_dists[k].extend(cell_dists[k])\n",
    "\n",
    "    # Convert to numpy array\n",
    "    for k in all_cells_act.keys():\n",
    "        all_cells_act[k] = np.array(all_cells_act[k])\n",
    "    for k in all_cells_dists.keys():\n",
    "        all_cells_dists[k] = np.array(all_cells_dists[k])"
   ]
  },
  {
   "cell_type": "markdown",
   "metadata": {},
   "source": [
    "# Scatter plots"
   ]
  },
  {
   "cell_type": "code",
   "execution_count": null,
   "metadata": {},
   "outputs": [],
   "source": [
    "def plot_actfun_scatter(pop_label, multiple_figs=False, cells='all'):\n",
    "    \n",
    "    if cells == 'all':\n",
    "        regions_acts = all_pop_data[pop_label]['comp_act']\n",
    "        regions_dists = all_pop_data[pop_label]['comp_dists']\n",
    "    else:\n",
    "        raise NotImplementedError()\n",
    "#         regions_slices = {region: slice(all_cell_offsets[pop_label][region][cells]) }\n",
    "#         regions_acts = all_pop_data[pop_label]['comp_act']\n",
    "#         regions_dists = all_pop_data[pop_label]['comp_dists']\n",
    "    \n",
    "    if not multiple_figs:\n",
    "        fig, ax = plt.subplots(figsize=(fig_width, ax_height))\n",
    "        \n",
    "    def decorate_fig(fig, ax, region=None):\n",
    "        ax.legend()\n",
    "        ax.grid()\n",
    "        ax.set_xlabel('dist. from soma (um)')\n",
    "        ax.set_ylabel('activating func. (mV/ms)')\n",
    "        \n",
    "        title = \"Activating function\"\n",
    "        if region:\n",
    "            title += \" ({} compartments)\".format(region)\n",
    "        ax.set_title(title)\n",
    "        fig.subplots_adjust(bottom=0.15) # prevent clipping of xlabel\n",
    "\n",
    "    # Plot distance vs activating function\n",
    "    for region in regions_acts.keys():\n",
    "        if multiple_figs:\n",
    "            fig, ax = plt.subplots(figsize=(fig_width, ax_height))\n",
    "        \n",
    "        ax.plot(regions_dists[region], regions_acts[region],\n",
    "                '.', label=region, markersize=3)\n",
    "\n",
    "        if multiple_figs:\n",
    "            decorate_fig(fig, ax, region=region)\n",
    "        \n",
    "    if not multiple_figs:\n",
    "        decorate_fig(fig, ax)"
   ]
  },
  {
   "cell_type": "markdown",
   "metadata": {},
   "source": [
    "## STN"
   ]
  },
  {
   "cell_type": "code",
   "execution_count": null,
   "metadata": {},
   "outputs": [],
   "source": [
    "plot_actfun_scatter('STN', multiple_figs=True)"
   ]
  },
  {
   "cell_type": "markdown",
   "metadata": {},
   "source": [
    "## GPE"
   ]
  },
  {
   "cell_type": "code",
   "execution_count": null,
   "metadata": {},
   "outputs": [],
   "source": [
    "plot_actfun_scatter('GPE.proto', multiple_figs=True)"
   ]
  },
  {
   "cell_type": "markdown",
   "metadata": {},
   "source": [
    "# Boxplots"
   ]
  },
  {
   "cell_type": "code",
   "execution_count": null,
   "metadata": {},
   "outputs": [],
   "source": [
    "def plot_actfun_boxplot(pop_label):\n",
    "\n",
    "    regions = 'somatic', 'basal', 'axonal'\n",
    "    fig, axes = plt.subplots(1, len(regions), figsize=(page_width, 1.5*ax_height))\n",
    "\n",
    "    for i, region in enumerate(regions):\n",
    "        ax = axes[i]\n",
    "        ax.set_title(\"Act. func. ({})\".format(region))\n",
    "\n",
    "        x = all_pop_data[pop_label]['comp_act'][region]\n",
    "        bp = ax.boxplot(x, 0, 'g+')\n",
    "        ax.grid(True, which='major', axis='y')\n",
    "        ax.set_xticks([])\n",
    "\n",
    "        print(\"\\nStatistics ({}):\".format(region))\n",
    "        print(\"- std : {:.3f}\".format(np.std(x)))"
   ]
  },
  {
   "cell_type": "markdown",
   "metadata": {},
   "source": [
    "## STN"
   ]
  },
  {
   "cell_type": "code",
   "execution_count": null,
   "metadata": {},
   "outputs": [],
   "source": [
    "plot_actfun_boxplot('STN')"
   ]
  },
  {
   "cell_type": "markdown",
   "metadata": {},
   "source": [
    "## GPE"
   ]
  },
  {
   "cell_type": "code",
   "execution_count": null,
   "metadata": {},
   "outputs": [],
   "source": [
    "plot_actfun_boxplot('GPE.proto')"
   ]
  },
  {
   "cell_type": "code",
   "execution_count": null,
   "metadata": {},
   "outputs": [],
   "source": []
  }
 ],
 "metadata": {
  "kernelspec": {
   "display_name": "Python 2",
   "language": "python",
   "name": "python2"
  },
  "language_info": {
   "codemirror_mode": {
    "name": "ipython",
    "version": 2
   },
   "file_extension": ".py",
   "mimetype": "text/x-python",
   "name": "python",
   "nbconvert_exporter": "python",
   "pygments_lexer": "ipython2",
   "version": "2.7.15"
  },
  "toc": {
   "base_numbering": 1,
   "nav_menu": {},
   "number_sections": false,
   "sideBar": true,
   "skip_h1_title": false,
   "title_cell": "Table of Contents",
   "title_sidebar": "Contents",
   "toc_cell": false,
   "toc_position": {
    "height": "calc(100% - 180px)",
    "left": "10px",
    "top": "150px",
    "width": "183px"
   },
   "toc_section_display": true,
   "toc_window_display": true
  }
 },
 "nbformat": 4,
 "nbformat_minor": 2
}
