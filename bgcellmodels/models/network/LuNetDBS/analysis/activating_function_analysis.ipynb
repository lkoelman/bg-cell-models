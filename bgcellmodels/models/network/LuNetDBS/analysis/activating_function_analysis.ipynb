{
 "cells": [
  {
   "cell_type": "markdown",
   "metadata": {},
   "source": [
    "# Activating Function Analysis\n",
    "\n",
    "Analyze activation of neurite structured by DBS-imposed electric field"
   ]
  },
  {
   "cell_type": "code",
   "execution_count": null,
   "metadata": {},
   "outputs": [],
   "source": [
    "import cPickle as pickle\n",
    "import re, os\n",
    "from datetime import datetime\n",
    "\n",
    "import numpy as np\n",
    "import matplotlib\n",
    "import matplotlib.pyplot as plt\n",
    "\n",
    "from bgcellmodels.morphology import morph_io\n",
    "from bgcellmodels.common import popsignal\n",
    "from bgcellmodels.common.config_global import analysis_data as _data"
   ]
  },
  {
   "cell_type": "code",
   "execution_count": null,
   "metadata": {},
   "outputs": [],
   "source": [
    "# Figure dimensions\n",
    "fig_aspect_ratio = 8.0 / 3.0\n",
    "page_width = 10\n",
    "fig_width = 0.8 * page_width\n",
    "fig_height = fig_width / fig_aspect_ratio\n",
    "ax_width = 0.7 * page_width\n",
    "ax_height = ax_width / fig_aspect_ratio\n",
    "\n",
    "# Style of figures (default colors etc.): see https://matplotlib.org/gallery/style_sheets/style_sheets_reference.html\n",
    "plt.style.use('default')\n",
    "\n",
    "# Consistent size in backend 'notebook' (100 dpi) and 'inline' (72 dpi)\n",
    "def plt_setrc():\n",
    "    matplotlib.rcParams['savefig.dpi'] = 100\n",
    "    matplotlib.rcParams['figure.dpi'] = 100\n",
    "\n",
    "class bcolors:\n",
    "    \"\"\" Example: print(bcolors.HEADER + 'hello' + bcolors.ENDC) \"\"\"\n",
    "    HEADER = '\\033[95m'\n",
    "    OKBLUE = '\\033[94m'\n",
    "    OKGREEN = '\\033[92m'\n",
    "    WARNING = '\\033[93m'\n",
    "    FAIL = '\\033[91m'\n",
    "    BOLD = '\\033[1m'\n",
    "    UNDERLINE = '\\033[4m'\n",
    "    ENDC = '\\033[0m'"
   ]
  },
  {
   "cell_type": "code",
   "execution_count": null,
   "metadata": {},
   "outputs": [],
   "source": [
    "# SETPARAM: directory to save figures, set to None for no saving\n",
    "out_basedir = os.path.expanduser('~/Downloads')\n",
    "out_dirname = 'act-func-analysis_' + datetime.now().strftime('%Y.%m.%d_%I.%M.%p')\n",
    "_data.save_fig_path = save_fig_path = os.path.join(out_basedir, out_dirname) # None\n",
    "\n",
    "# SETPARAM: whether to save figures\n",
    "_data.export_figs = export_figs = True\n",
    "if export_figs and not os.path.exists(save_fig_path):\n",
    "    os.makedirs(save_fig_path)\n",
    "    print(\"Created directory '{}'\".format(save_fig_path))"
   ]
  },
  {
   "cell_type": "code",
   "execution_count": null,
   "metadata": {},
   "outputs": [],
   "source": [
    "%matplotlib notebook\n",
    "plt_setrc()"
   ]
  },
  {
   "cell_type": "markdown",
   "metadata": {},
   "source": [
    "# Import Data\n",
    "\n",
    "Structure of file `comp_locs_*.pkl`\n",
    "\n",
    "```python\n",
    "{\n",
    "    'gids': [1, 2, ...],\n",
    "    'comp_locs': [],\n",
    "    'comp_edges': [],\n",
    "    'comp_act': [],\n",
    "    'comp_dists': [],\n",
    "}\n",
    "```"
   ]
  },
  {
   "cell_type": "code",
   "execution_count": null,
   "metadata": {},
   "outputs": [],
   "source": [
    "# SETPARAM: path to pickle files with population data\n",
    "outputs = '/home/luye/cloudstore_m/simdata/LuNetDBS/compartment_locs_actfun/conf-V6_pre-oop_fix-per-cell'\n",
    "electrode_tip = np.array([17058.15, 6499.98, 6904.60])\n",
    "\n",
    "file_filter = lambda f: f.endswith('.pkl') and f.startswith('comp-locs')\n",
    "\n",
    "filenames = os.listdir(outputs)\n",
    "pkl_files = [os.path.join(outputs, f) for f in filenames if file_filter(f)]\n",
    "\n",
    "# Structure\n",
    "# 'STN' : {\n",
    "#   'comp_act' : { 'somatic': list[float], 'basal': list[float], 'axonal': list[float]}\n",
    "#   'comp_dists' : { 'somatic': list[float], 'basal': list[float], 'axonal': list[float]}\n",
    "# }\n",
    "#     \n",
    "all_pop_data = {}\n",
    "all_cell_offsets = {}\n",
    "\n",
    "for pkl_fpath in pkl_files:\n",
    "    pkl_fname = os.path.split(pkl_fpath)[1]\n",
    "    matches = re.search(r'comp-locs_([\\w\\.]+)_', pkl_fpath)\n",
    "    \n",
    "    with open(pkl_fpath, 'rb') as f:\n",
    "        data = pickle.load(f)\n",
    "        \n",
    "    if 'comp_act' not in data:\n",
    "        print(bcolors.FAIL + \"No activating function data: \" + bcolors.ENDC + pkl_fname)\n",
    "        continue\n",
    "    else:\n",
    "        print(bcolors.OKGREEN + \"OK: activating function data found: \" + bcolors.ENDC + pkl_fname)\n",
    "    \n",
    "    # Allocate data structure for population\n",
    "    pop_label = data['population']\n",
    "    all_pop_data[pop_label] = {}\n",
    "    \n",
    "    # Store some data as-is (per cell)\n",
    "    for k in 'gids', 'comp_locs', 'comp_edges':\n",
    "        all_pop_data[pop_label][k] = data[k]\n",
    "    \n",
    "    # Data with one dict per cell : flatten into single dict\n",
    "    all_pop_data[pop_label]['comp_act'] = all_cells_act = data['comp_act'][0]\n",
    "    all_pop_data[pop_label]['comp_dists'] = all_cells_dists = data['comp_dists'][0]\n",
    "    \n",
    "    # Store offset to data for each cell\n",
    "    all_cell_offsets[pop_label] = {k: [0, len(vals)] for k, vals in all_cells_act.iteritems()}\n",
    "    \n",
    "    for i in range(1, len(data['comp_act'])):\n",
    "        cell_act = data['comp_act'][i]\n",
    "        cell_dists = data['comp_dists'][i]\n",
    "        \n",
    "        \n",
    "        # Append this cell's data to population data\n",
    "        for region in cell_act.keys():\n",
    "            all_cells_act[region].extend(cell_act[region])\n",
    "            all_cell_offsets[pop_label][region].append(\n",
    "                all_cell_offsets[pop_label][region][-1] +  len(cell_act[region]))\n",
    "            \n",
    "        for region in cell_dists.keys():\n",
    "            all_cells_dists[region].extend(cell_dists[region])\n",
    "\n",
    "    # Convert to numpy array\n",
    "    for region in all_cells_act.keys():\n",
    "        all_cells_act[region] = np.array(all_cells_act[region])\n",
    "    for region in all_cells_dists.keys():\n",
    "        all_cells_dists[region] = np.array(all_cells_dists[region])"
   ]
  },
  {
   "cell_type": "markdown",
   "metadata": {},
   "source": [
    "# Functions"
   ]
  },
  {
   "cell_type": "code",
   "execution_count": null,
   "metadata": {},
   "outputs": [],
   "source": [
    "def get_cell_dists_acts(pop, cell_gids, region):\n",
    "    \"\"\"\n",
    "    Get activating function values and compartment distances for cell\n",
    "    \n",
    "    @return   dists, acts : tuple[numpy.array[float], numpy.array[float]]\n",
    "              Distances and activating function values at compartment centers\n",
    "    \"\"\"\n",
    "    cells_dists = []\n",
    "    cells_acts = []\n",
    "    for cell_gid in cell_gids:\n",
    "        cell_index = all_pop_data[pop]['gids'].index(cell_gid)\n",
    "        cell_data_start = all_cell_offsets[pop][region][cell_index]\n",
    "        cell_data_stop = all_cell_offsets[pop][region][cell_index + 1]\n",
    "        cell_slice = slice(cell_data_start, cell_data_stop)\n",
    "        cells_acts.extend(all_pop_data[pop]['comp_act'][region][cell_slice])\n",
    "        cells_dists.extend(all_pop_data[pop]['comp_dists'][region][cell_slice])\n",
    "    return np.array(cells_dists), np.array(cells_acts)\n",
    "\n",
    "\n",
    "def get_cell_verts_edges(pop, cell_gids, write_ply=False):\n",
    "    \"\"\"\n",
    "    Get cell vertices (compartment centers) and edges.\n",
    "    \"\"\"\n",
    "    cells_verts = []\n",
    "    cells_edges = []\n",
    "    elec_dists = []\n",
    "    for gid in cell_gids:\n",
    "        cell_index = all_pop_data[pop]['gids'].index(gid)\n",
    "        cell_verts = all_pop_data[pop]['comp_locs'][cell_index]\n",
    "        cell_edges = all_pop_data[pop]['comp_edges'][cell_index]\n",
    "        \n",
    "        cells_verts.append(cell_verts)\n",
    "        cells_edges.append(cell_edges)\n",
    "        \n",
    "        # Assuming that first three vertices are somatic\n",
    "        elec_dists.extend(np.linalg.norm(cell_verts[:3, :] - electrode_tip, axis=1))\n",
    "        \n",
    "    mean_elec_dist = np.mean(elec_dists)\n",
    "    print(\"Mean electrode tip distance = {:.3f} um\".format(mean_elec_dist))\n",
    "        \n",
    "    if write_ply:\n",
    "        assert isinstance(write_ply, str)\n",
    "        morph_io.edges_to_PLY(cells_verts, cells_edges, write_ply, multiple=True)\n",
    "        print(\"Wrote morphologies to file \" + os.path.abspath(write_ply))\n",
    "        \n",
    "    return cells_verts, cells_edges"
   ]
  },
  {
   "cell_type": "code",
   "execution_count": null,
   "metadata": {},
   "outputs": [],
   "source": [
    "# Test vertex/edge retrieval\n",
    "# gid = cell_gids[4]\n",
    "# pop = 'STN'\n",
    "\n",
    "# cell_index = all_pop_data[pop]['gids'].index(gid)\n",
    "# verts = all_pop_data[pop]['comp_locs'][cell_index]\n",
    "# edges = all_pop_data[pop]['comp_edges'][cell_index]\n",
    "\n",
    "# print(len(verts))\n",
    "# print(len(edges))\n",
    "# print(verts[0])"
   ]
  },
  {
   "cell_type": "markdown",
   "metadata": {},
   "source": [
    "# Scatter plots"
   ]
  },
  {
   "cell_type": "code",
   "execution_count": null,
   "metadata": {},
   "outputs": [],
   "source": [
    "def plot_actfun_scatter(pop_label, multiple_figs=False, regions=None, cells='all',\n",
    "                        regions_acts=None, regions_dists=None, neg_dist_regions=[]):\n",
    "    \"\"\"\n",
    "    Scatter plot of activating function value vs distance from soma.\n",
    "    \n",
    "    @param    neg_dist_regions : list[str]\n",
    "              Regions where distances should be made negative\n",
    "    \"\"\"\n",
    "    \n",
    "    if regions is None:\n",
    "        regions = all_pop_data[pop_label]['comp_act'].keys()\n",
    "    \n",
    "    if regions_acts is not None and regions_dists is not None:\n",
    "        print(\"Caller supplied custon activation values\")\n",
    "    elif cells == 'all':\n",
    "        regions_acts = all_pop_data[pop_label]['comp_act']\n",
    "        regions_dists = all_pop_data[pop_label]['comp_dists']\n",
    "    else:\n",
    "        regions_dists_acts = {\n",
    "            region: get_cell_dists_acts(pop_label, cells, region) for region in regions\n",
    "        }\n",
    "        regions_acts = {k: v[1] for k,v in regions_dists_acts.items()}\n",
    "        regions_dists = {k: v[0] for k,v in regions_dists_acts.items()}\n",
    "    \n",
    "    if not multiple_figs:\n",
    "        fig, ax = plt.subplots(figsize=(fig_width, ax_height))\n",
    "        \n",
    "    def decorate_fig(fig, ax, region=None):\n",
    "        ax.legend()\n",
    "        ax.grid()\n",
    "        ax.set_xlabel('dist. from soma (um)')\n",
    "        ax.set_ylabel('activating function (V/s)')\n",
    "        ax.ticklabel_format(style='sci', axis='y', scilimits=(0,0))\n",
    "        \n",
    "        title = \"Activating function\"\n",
    "        if region:\n",
    "            title += \" ({} compartments)\".format(region)\n",
    "        ax.set_title(title)\n",
    "        fig.subplots_adjust(bottom=0.15) # prevent clipping of xlabel\n",
    "\n",
    "    # Plot distance vs activating function\n",
    "    for region in regions_acts.keys():\n",
    "        if multiple_figs:\n",
    "            fig, ax = plt.subplots(figsize=(fig_width, ax_height))\n",
    "        \n",
    "        if region in neg_dist_regions:\n",
    "            comp_dists = -1 * regions_dists[region]\n",
    "        else:\n",
    "            comp_dists = regions_dists[region]\n",
    "            \n",
    "        ax.plot(comp_dists, regions_acts[region], '.', label=region, markersize=3)\n",
    "\n",
    "        if multiple_figs:\n",
    "            decorate_fig(fig, ax, region=region)\n",
    "        \n",
    "    if not multiple_figs:\n",
    "        decorate_fig(fig, ax)"
   ]
  },
  {
   "cell_type": "markdown",
   "metadata": {},
   "source": [
    "## STN"
   ]
  },
  {
   "cell_type": "code",
   "execution_count": null,
   "metadata": {},
   "outputs": [],
   "source": [
    "plot_actfun_scatter('STN', multiple_figs=False, neg_dist_regions=['basal'])\n",
    "# popsignal.save_figure('act-vs-dist_STN', format='png', dpi=300)"
   ]
  },
  {
   "cell_type": "code",
   "execution_count": null,
   "metadata": {},
   "outputs": [],
   "source": [
    "plot_actfun_scatter('STN', multiple_figs=True)"
   ]
  },
  {
   "cell_type": "markdown",
   "metadata": {},
   "source": [
    "## GPE"
   ]
  },
  {
   "cell_type": "code",
   "execution_count": null,
   "metadata": {},
   "outputs": [],
   "source": [
    "plot_actfun_scatter('GPE.proto', multiple_figs=False, neg_dist_regions=['basal'])\n",
    "popsignal.save_figure('act-vs-dist_GPE', format='png', dpi=300)"
   ]
  },
  {
   "cell_type": "code",
   "execution_count": null,
   "metadata": {},
   "outputs": [],
   "source": [
    "plot_actfun_scatter('GPE.proto', multiple_figs=True)"
   ]
  },
  {
   "cell_type": "markdown",
   "metadata": {},
   "source": [
    "# Boxplots"
   ]
  },
  {
   "cell_type": "code",
   "execution_count": null,
   "metadata": {},
   "outputs": [],
   "source": [
    "def plot_actfun_boxplot(pop_label, regions=None, regions_acts=None, common_axis=False, **kwargs):\n",
    "    \n",
    "    if regions_acts is not None:\n",
    "        regions = regions_acts.keys()\n",
    "    elif regions is None:\n",
    "        regions = all_pop_data[pop_label]['comp_act'].keys()\n",
    "    \n",
    "    if regions_acts is None:\n",
    "        regions_acts = {region: all_pop_data[pop_label]['comp_act'][region] for region in regions}\n",
    "        \n",
    "    num_axes = 1 if common_axis else len(regions)\n",
    "    fig, axes = plt.subplots(1, num_axes, figsize=(page_width, 1.5*ax_height))\n",
    "    \n",
    "    if common_axis:\n",
    "        ax = axes\n",
    "        x = [regions_acts[region] for region in regions] # one dataset per entry -> multiple boxplots\n",
    "        bp = ax.boxplot(x, 0, 'g+', **kwargs)\n",
    "        ax.grid(True, which='major', axis='y')\n",
    "        ax.set_xticklabels(regions)\n",
    "        ax.set_title(\"Activating function ({})\".format(pop_label))\n",
    "    else:\n",
    "        # Stack axes horizontally\n",
    "        for i, region in enumerate(regions):\n",
    "            ax = axes[i]\n",
    "            ax.set_title(\"Act. func. ({})\".format(region))\n",
    "\n",
    "            x = regions_acts[region]\n",
    "            bp = ax.boxplot(x, 0, 'g+', **kwargs)\n",
    "            ax.grid(True, which='major', axis='y')\n",
    "            ax.set_xticks([])\n",
    "            ax.ticklabel_format(style='sci', axis='y', scilimits=(0,0))\n",
    "\n",
    "            print(\"\\nStatistics ({}):\".format(region))\n",
    "            print(\"- std : {:.3f}\".format(np.std(x)))"
   ]
  },
  {
   "cell_type": "markdown",
   "metadata": {},
   "source": [
    "## STN"
   ]
  },
  {
   "cell_type": "code",
   "execution_count": null,
   "metadata": {},
   "outputs": [],
   "source": [
    "plot_actfun_boxplot('STN', showfliers=False)"
   ]
  },
  {
   "cell_type": "markdown",
   "metadata": {},
   "source": [
    "## GPE"
   ]
  },
  {
   "cell_type": "code",
   "execution_count": null,
   "metadata": {},
   "outputs": [],
   "source": [
    "plot_actfun_boxplot('GPE.proto', showfliers=True)"
   ]
  },
  {
   "cell_type": "markdown",
   "metadata": {},
   "source": [
    "# Single cells"
   ]
  },
  {
   "cell_type": "markdown",
   "metadata": {},
   "source": [
    "## Negative SEPs"
   ]
  },
  {
   "cell_type": "code",
   "execution_count": null,
   "metadata": {
    "scrolled": false
   },
   "outputs": [],
   "source": [
    "# STN cells with negative SEPs\n",
    "pop_label = 'STN'\n",
    "cell_gids = [6, 9, 10, 19, 21, 22, 23, 24, 25, 39, 40, 49]\n",
    "\n",
    "# Get the data\n",
    "regions = all_pop_data[pop_label]['comp_act'].keys()\n",
    "regions_dists_acts = {\n",
    "    region: get_cell_dists_acts(pop_label, cell_gids, region) for region in regions\n",
    "}\n",
    "regions_acts = {k: v[1] for k,v in regions_dists_acts.items()}\n",
    "regions_dists = {k: v[0] for k,v in regions_dists_acts.items()}\n",
    "\n",
    "# Filter axonal data\n",
    "# ax_comp_inds = [i for i,d in enumerate(regions_dists['axonal']) if d < 500.0]\n",
    "ax_comp_inds = [i for i,a in enumerate(regions_acts['axonal']) if a > 1000.0]\n",
    "regions_acts['axonal'] = regions_acts['axonal'][ax_comp_inds]\n",
    "regions_dists['axonal'] = regions_dists['axonal'][ax_comp_inds]\n",
    "\n",
    "# Plot scatter and boxplot\n",
    "plot_actfun_scatter(pop_label, multiple_figs=True, cells=cell_gids)\n",
    "plot_actfun_boxplot(pop_label, regions_acts=regions_acts, showfliers=False)\n",
    "\n",
    "# Save cell morphology as PLY\n",
    "verts, edges = get_cell_verts_edges(pop_label, cell_gids, write_ply='STN-cells_SEPs-negative.ply')"
   ]
  },
  {
   "cell_type": "markdown",
   "metadata": {},
   "source": [
    "## Positive SEPs"
   ]
  },
  {
   "cell_type": "code",
   "execution_count": null,
   "metadata": {
    "scrolled": false
   },
   "outputs": [],
   "source": [
    "# STN cells with positive SEPs\n",
    "pop_label = 'STN'\n",
    "cell_gids = [7, 8, 12, 13, 16, 18, 20, 26, 27, 28, 29, 30, 37, 43]\n",
    "\n",
    "# Get the data\n",
    "regions = all_pop_data[pop_label]['comp_act'].keys()\n",
    "regions_dists_acts = {\n",
    "    region: get_cell_dists_acts(pop_label, cell_gids, region) for region in regions\n",
    "}\n",
    "regions_acts = {k: v[1] for k,v in regions_dists_acts.items()}\n",
    "regions_dists = {k: v[0] for k,v in regions_dists_acts.items()}\n",
    "\n",
    "# Filter axonal data\n",
    "# ax_comp_inds = [i for i,d in enumerate(regions_dists['axonal']) if d < 500.0]\n",
    "ax_comp_inds = [i for i,a in enumerate(regions_acts['axonal']) if a > 1000.0]\n",
    "regions_acts['axonal'] = regions_acts['axonal'][ax_comp_inds]\n",
    "regions_dists['axonal'] = regions_dists['axonal'][ax_comp_inds]\n",
    "\n",
    "# Plot scatter and boxplot\n",
    "plot_actfun_scatter(pop_label, multiple_figs=True, cells=cell_gids)\n",
    "plot_actfun_boxplot(pop_label, regions_acts=regions_acts, showfliers=False)\n",
    "\n",
    "# Save cell morphology as PLY\n",
    "verts, edges = get_cell_verts_edges(pop_label, cell_gids, write_ply='STN-cells_SEPs-positive.ply')"
   ]
  },
  {
   "cell_type": "code",
   "execution_count": null,
   "metadata": {},
   "outputs": [],
   "source": [
    "tot_num_samples = sum((len(sec_verts) for sec_verts in all_pop_data['STN']['comp_locs']))\n",
    "print(tot_num_samples)\n",
    "\n",
    "tot_num_dists = sum((len(dists) for region, dists in all_pop_data['STN']['comp_dists'].items()))\n",
    "print(tot_num_dists)"
   ]
  }
 ],
 "metadata": {
  "kernelspec": {
   "display_name": "Python 2",
   "language": "python",
   "name": "python2"
  },
  "language_info": {
   "codemirror_mode": {
    "name": "ipython",
    "version": 2
   },
   "file_extension": ".py",
   "mimetype": "text/x-python",
   "name": "python",
   "nbconvert_exporter": "python",
   "pygments_lexer": "ipython2",
   "version": "2.7.15"
  },
  "toc": {
   "base_numbering": 1,
   "nav_menu": {},
   "number_sections": false,
   "sideBar": true,
   "skip_h1_title": false,
   "title_cell": "Table of Contents",
   "title_sidebar": "Contents",
   "toc_cell": false,
   "toc_position": {
    "height": "calc(100% - 180px)",
    "left": "10px",
    "top": "150px",
    "width": "183px"
   },
   "toc_section_display": true,
   "toc_window_display": true
  }
 },
 "nbformat": 4,
 "nbformat_minor": 2
}
