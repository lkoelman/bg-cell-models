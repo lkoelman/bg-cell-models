{
 "cells": [
  {
   "cell_type": "markdown",
   "metadata": {},
   "source": [
    "# Preamble"
   ]
  },
  {
   "cell_type": "code",
   "execution_count": null,
   "metadata": {},
   "outputs": [],
   "source": [
    "%matplotlib inline\n",
    "import os, glob\n",
    "import cPickle as pickle\n",
    "from datetime import datetime\n",
    "\n",
    "import numpy as np\n",
    "import matplotlib.pyplot as plt\n",
    "import matplotlib\n",
    "\n",
    "from bgcellmodels.common import plotutils"
   ]
  },
  {
   "cell_type": "markdown",
   "metadata": {},
   "source": [
    "# Settings"
   ]
  },
  {
   "cell_type": "code",
   "execution_count": null,
   "metadata": {},
   "outputs": [],
   "source": [
    "# SETPARAM: paste output directories below (e.g use ctrl+c in Nautilus file manager)\n",
    "outputs_clipboard_1 = \"\"\"\n",
    "/home/luye/Documents/simdata/LuNetStnGpe/q9_sweep-f-burst/LuNetStnGpe_2019.06.10_19.37.49_job-1293003.sonic-head_syn-V18_f-burst-3.0-Hz\n",
    "/home/luye/Documents/simdata/LuNetStnGpe/q9_sweep-f-burst/LuNetStnGpe_2019.06.10_19.37.49_job-1293004.sonic-head_syn-V18_f-burst-6.0-Hz\n",
    "/home/luye/Documents/simdata/LuNetStnGpe/q9_sweep-f-burst/LuNetStnGpe_2019.06.10_19.39.07_job-1293005.sonic-head_syn-V18_f-burst-9.0-Hz\n",
    "/home/luye/Documents/simdata/LuNetStnGpe/q9_sweep-f-burst/LuNetStnGpe_2019.06.10_19.39.07_job-1293006.sonic-head_syn-V18_f-burst-12.0-Hz\n",
    "/home/luye/Documents/simdata/LuNetStnGpe/q9_sweep-f-burst/LuNetStnGpe_2019.06.10_19.53.49_job-1293007.sonic-head_syn-V18_f-burst-15.0-Hz\n",
    "/home/luye/Documents/simdata/LuNetStnGpe/q9_sweep-f-burst/LuNetStnGpe_2019.06.10_20.03.15_job-1293008.sonic-head_syn-V18_f-burst-18.0-Hz\n",
    "/home/luye/Documents/simdata/LuNetStnGpe/q9_sweep-f-burst/LuNetStnGpe_2019.06.10_20.06.30_job-1293009.sonic-head_syn-V18_f-burst-21.0-Hz\n",
    "/home/luye/Documents/simdata/LuNetStnGpe/q9_sweep-f-burst/LuNetStnGpe_2019.06.10_20.19.27_job-1293010.sonic-head_syn-V18_f-burst-24.0-Hz\n",
    "/home/luye/Documents/simdata/LuNetStnGpe/q9_sweep-f-burst/LuNetStnGpe_2019.06.10_20.23.53_job-1293011.sonic-head_syn-V18_f-burst-27.0-Hz\n",
    "/home/luye/Documents/simdata/LuNetStnGpe/q9_sweep-f-burst/LuNetStnGpe_2019.06.10_20.24.09_job-1293012.sonic-head_syn-V18_f-burst-30.0-Hz\n",
    "/home/luye/Documents/simdata/LuNetStnGpe/q9_sweep-f-burst/LuNetStnGpe_2019.06.10_20.28.42_job-1293013.sonic-head_syn-V18_f-burst-33.0-Hz\n",
    "/home/luye/Documents/simdata/LuNetStnGpe/q9_sweep-f-burst/LuNetStnGpe_2019.06.10_20.35.06_job-1293014.sonic-head_syn-V18_f-burst-36.0-Hz\n",
    "/home/luye/Documents/simdata/LuNetStnGpe/q9_sweep-f-burst/LuNetStnGpe_2019.06.10_20.45.15_job-1293015.sonic-head_syn-V18_f-burst-39.0-Hz\n",
    "/home/luye/Documents/simdata/LuNetStnGpe/q9_sweep-f-burst/LuNetStnGpe_2019.06.10_20.54.28_job-1293016.sonic-head_syn-V18_f-burst-42.0-Hz\n",
    "/home/luye/Documents/simdata/LuNetStnGpe/q9_sweep-f-burst/LuNetStnGpe_2019.06.10_21.02.55_job-1293017.sonic-head_syn-V18_f-burst-45.0-Hz\n",
    "/home/luye/Documents/simdata/LuNetStnGpe/q9_sweep-f-burst/LuNetStnGpe_2019.06.10_21.10.28_job-1293018.sonic-head_syn-V18_f-burst-48.0-Hz\n",
    "/home/luye/Documents/simdata/LuNetStnGpe/q9_sweep-f-burst/LuNetStnGpe_2019.06.10_21.11.02_job-1293019.sonic-head_syn-V18_f-burst-51.0-Hz\n",
    "/home/luye/Documents/simdata/LuNetStnGpe/q9_sweep-f-burst/LuNetStnGpe_2019.06.10_21.11.07_job-1293020.sonic-head_syn-V18_f-burst-54.0-Hz\n",
    "/home/luye/Documents/simdata/LuNetStnGpe/q9_sweep-f-burst/LuNetStnGpe_2019.06.10_21.19.58_job-1293021.sonic-head_syn-V18_f-burst-57.0-Hz\n",
    "/home/luye/Documents/simdata/LuNetStnGpe/q9_sweep-f-burst/LuNetStnGpe_2019.06.10_21.23.25_job-1293022.sonic-head_syn-V18_f-burst-60.0-Hz\n",
    "\"\"\"\n",
    "output_dirs_1 = outputs_clipboard_1.strip().split()\n",
    "\n",
    "outputs_clipboard_2 = \"\"\"\n",
    "/home/luye/Documents/simdata/simdata_newsonic/LuNetSgRedux/sweep_f-burst-ctx/LuNetStnGpe_2019.11.05_14.26.17_job-85188_syn-V18_f-burst-60.0-Hz\n",
    "/home/luye/Documents/simdata/simdata_newsonic/LuNetSgRedux/sweep_f-burst-ctx/LuNetStnGpe_2019.11.05_14.25.54_job-85187_syn-V18_f-burst-57.0-Hz\n",
    "/home/luye/Documents/simdata/simdata_newsonic/LuNetSgRedux/sweep_f-burst-ctx/LuNetStnGpe_2019.11.05_14.25.54_job-85186_syn-V18_f-burst-54.0-Hz\n",
    "/home/luye/Documents/simdata/simdata_newsonic/LuNetSgRedux/sweep_f-burst-ctx/LuNetStnGpe_2019.11.05_14.25.54_job-85185_syn-V18_f-burst-51.0-Hz\n",
    "/home/luye/Documents/simdata/simdata_newsonic/LuNetSgRedux/sweep_f-burst-ctx/LuNetStnGpe_2019.11.05_14.25.03_job-85184_syn-V18_f-burst-48.0-Hz\n",
    "/home/luye/Documents/simdata/simdata_newsonic/LuNetSgRedux/sweep_f-burst-ctx/LuNetStnGpe_2019.11.05_14.25.03_job-85178_syn-V18_f-burst-30.0-Hz\n",
    "/home/luye/Documents/simdata/simdata_newsonic/LuNetSgRedux/sweep_f-burst-ctx/LuNetStnGpe_2019.11.05_14.25.01_job-85183_syn-V18_f-burst-45.0-Hz\n",
    "/home/luye/Documents/simdata/simdata_newsonic/LuNetSgRedux/sweep_f-burst-ctx/LuNetStnGpe_2019.11.05_14.25.01_job-85182_syn-V18_f-burst-42.0-Hz\n",
    "/home/luye/Documents/simdata/simdata_newsonic/LuNetSgRedux/sweep_f-burst-ctx/LuNetStnGpe_2019.11.05_14.24.57_job-85181_syn-V18_f-burst-39.0-Hz\n",
    "/home/luye/Documents/simdata/simdata_newsonic/LuNetSgRedux/sweep_f-burst-ctx/LuNetStnGpe_2019.11.05_14.24.57_job-85180_syn-V18_f-burst-36.0-Hz\n",
    "/home/luye/Documents/simdata/simdata_newsonic/LuNetSgRedux/sweep_f-burst-ctx/LuNetStnGpe_2019.11.05_14.24.57_job-85179_syn-V18_f-burst-33.0-Hz\n",
    "/home/luye/Documents/simdata/simdata_newsonic/LuNetSgRedux/sweep_f-burst-ctx/LuNetStnGpe_2019.11.05_14.24.55_job-85172_syn-V18_f-burst-12.0-Hz\n",
    "/home/luye/Documents/simdata/simdata_newsonic/LuNetSgRedux/sweep_f-burst-ctx/LuNetStnGpe_2019.11.05_14.24.55_job-85171_syn-V18_f-burst-9.0-Hz\n",
    "/home/luye/Documents/simdata/simdata_newsonic/LuNetSgRedux/sweep_f-burst-ctx/LuNetStnGpe_2019.11.05_14.24.53_job-85170_syn-V18_f-burst-6.0-Hz\n",
    "/home/luye/Documents/simdata/simdata_newsonic/LuNetSgRedux/sweep_f-burst-ctx/LuNetStnGpe_2019.11.05_14.24.53_job-85169_syn-V18_f-burst-3.0-Hz\n",
    "/home/luye/Documents/simdata/simdata_newsonic/LuNetSgRedux/sweep_f-burst-ctx/LuNetStnGpe_2019.11.05_14.24.44_job-85174_syn-V18_f-burst-18.0-Hz\n",
    "/home/luye/Documents/simdata/simdata_newsonic/LuNetSgRedux/sweep_f-burst-ctx/LuNetStnGpe_2019.11.05_14.24.38_job-85176_syn-V18_f-burst-24.0-Hz\n",
    "/home/luye/Documents/simdata/simdata_newsonic/LuNetSgRedux/sweep_f-burst-ctx/LuNetStnGpe_2019.11.05_14.24.37_job-85177_syn-V18_f-burst-27.0-Hz\n",
    "/home/luye/Documents/simdata/simdata_newsonic/LuNetSgRedux/sweep_f-burst-ctx/LuNetStnGpe_2019.11.05_14.24.37_job-85173_syn-V18_f-burst-15.0-Hz\n",
    "/home/luye/Documents/simdata/simdata_newsonic/LuNetSgRedux/sweep_f-burst-ctx/LuNetStnGpe_2019.11.05_14.24.31_job-85175_syn-V18_f-burst-21.0-Hz\n",
    "\"\"\"\n",
    "output_dirs_2 = outputs_clipboard_2.strip().split()\n",
    "\n",
    "sweep_var_legend = \"$f_{burst,CTX}$\" # LaTeX expressions allowed, double backslashes (\\ -> \\\\)"
   ]
  },
  {
   "cell_type": "markdown",
   "metadata": {},
   "source": [
    "# Plotting options"
   ]
  },
  {
   "cell_type": "code",
   "execution_count": null,
   "metadata": {},
   "outputs": [],
   "source": [
    "# figures output dir\n",
    "export_figs = True\n",
    "export_figs_dir = '/home/luye/Documents/simdata/LuNetStnGpe/q9_sweep-f-burst'\n",
    "if export_figs and not os.path.exists(export_figs_dir):\n",
    "    os.makedirs(export_figs_dir)\n",
    "\n",
    "# Figure dimensions\n",
    "fig_aspect_ratio = 2.2 # 8.0 / 3.0\n",
    "if matplotlib.get_backend() == 'nbAgg':\n",
    "    from bgcellmodels.extensions.jupyter import jupyterutil\n",
    "    jupyterutil.notebook_show_figs_after_exception() # fix bug for notebook backend where figures not shown\n",
    "    page_width = 10\n",
    "else:\n",
    "    page_width = 10\n",
    "\n",
    "fig_width = 0.8 * page_width\n",
    "fig_height = fig_width / fig_aspect_ratio\n",
    "fig_size = fig_width, fig_height\n",
    "\n",
    "ax_width = 0.6 * page_width\n",
    "ax_height = ax_width / fig_aspect_ratio\n",
    "\n",
    "# Style of figures (default colors etc.): see https://matplotlib.org/gallery/style_sheets/style_sheets_reference.html\n",
    "plt.style.use('default')"
   ]
  },
  {
   "cell_type": "code",
   "execution_count": null,
   "metadata": {},
   "outputs": [],
   "source": [
    "# Get stylesheet colors, depends on stylesheet specified using plt.style.use('palette')\n",
    "style_color_cycle = plt.rcParams['axes.prop_cycle'].by_key()['color']\n",
    "\n",
    "# Define color for each population\n",
    "line_colors = 'crkgbm'\n",
    "populations = 'CTX', 'STN', 'STN.surrogate', 'GPE.proto', 'GPE.surrogate', 'STR.MSN' # TODO: load from exported vars\n",
    "pop_color_map = {k: line_colors[i % len(line_colors)] for i,k in enumerate(sorted(populations))}\n",
    "pop_color_map['GPE'] = pop_color_map['GPE.proto']\n",
    "pop_color_map['GPE.all'] = pop_color_map['GPE.proto']\n",
    "\n",
    "line_colors_faded = ['xkcd:light blue', 'xkcd:light pink', 'xkcd:grey',\n",
    "                     'xkcd:sage', 'xkcd:sea blue', 'xkcd:light violet']\n",
    "pop_colors_faded = {k: line_colors_faded[i % len(line_colors_faded)] for i,k in enumerate(sorted(populations))}\n",
    "\n",
    "def get_pop_color(pop_label, faded=False):\n",
    "    if faded:\n",
    "        return pop_colors_faded[pop_label]\n",
    "    else:\n",
    "        return pop_color_map[pop_label]"
   ]
  },
  {
   "cell_type": "markdown",
   "metadata": {},
   "source": [
    "# Load data"
   ]
  },
  {
   "cell_type": "code",
   "execution_count": null,
   "metadata": {},
   "outputs": [],
   "source": [
    "# Gather simulation results in dictionary\n",
    "sweep_var_name = None\n",
    "\n",
    "# SETPARAM: entries in pickle file to load\n",
    "load_entries = ['mean_rate']\n",
    "\n",
    "def load_pickle_data(output_dirs, entries, pattern):\n",
    "    \"\"\"\n",
    "    Load selected data from pickle files in output directories\n",
    "    \"\"\"\n",
    "    analysis_results = {}\n",
    "    global sweep_var_name\n",
    "    \n",
    "    for i, odir in enumerate(output_dirs):\n",
    "        pickle_files = glob.glob(os.path.join(odir, pattern))\n",
    "        if len(pickle_files) > 1:\n",
    "            raise ValueError('More than one pickle file found in output dir.')\n",
    "\n",
    "        export_file = pickle_files[0]\n",
    "        with open(export_file, 'rb') as f:\n",
    "            results_dict = pickle.load(f)\n",
    "\n",
    "            if sweep_var_name is None and i == 0:\n",
    "                sweep_var_name = results_dict['sweep_settings']['var_name']\n",
    "            sweep_value = float(results_dict['sweep_settings']['var_value'])\n",
    "\n",
    "            # Use saved sweep value\n",
    "            analysis_results[sweep_value] = {\n",
    "                k: results_dict[k] for k in load_entries\n",
    "            }\n",
    "        \n",
    "            # del results_dict\n",
    "    \n",
    "    return analysis_results"
   ]
  },
  {
   "cell_type": "code",
   "execution_count": null,
   "metadata": {},
   "outputs": [],
   "source": [
    "analysis_res1 = load_pickle_data(output_dirs_1, load_entries, '*ctx.pkl')"
   ]
  },
  {
   "cell_type": "code",
   "execution_count": null,
   "metadata": {},
   "outputs": [],
   "source": [
    "analysis_res2 = load_pickle_data(output_dirs_2, load_entries, 'analysis/*7.0s.pkl')"
   ]
  },
  {
   "cell_type": "code",
   "execution_count": null,
   "metadata": {},
   "outputs": [],
   "source": [
    "sweep_vals = np.array(sorted(analysis_res1.keys()))\n",
    "print('Sweep values are: ' + str(sweep_vals))"
   ]
  },
  {
   "cell_type": "markdown",
   "metadata": {},
   "source": [
    "# Firing rates"
   ]
  },
  {
   "cell_type": "code",
   "execution_count": null,
   "metadata": {},
   "outputs": [],
   "source": [
    "fig, ax = plt.subplots(figsize=fig_size)\n",
    "\n",
    "pop_labels = 'STN', 'GPE.proto'\n",
    "\n",
    "for pop in pop_labels:\n",
    "    rates1 = [analysis_res1[val]['mean_rate'][pop] for val in sweep_vals]\n",
    "    rates2 = [analysis_res2[val]['mean_rate'][pop] for val in sweep_vals]\n",
    "    ax.plot(sweep_vals, rates1, '--', marker='.', linewidth=1,\n",
    "            color=get_pop_color(pop), label='{} full'.format(pop))\n",
    "    ax.plot(sweep_vals, rates2, '--', marker='^', linewidth=1,\n",
    "            color=get_pop_color(pop), label='{} red.'.format(pop))\n",
    "\n",
    "# Axes & Legend\n",
    "ax.set_xlabel(sweep_var_legend)\n",
    "ax.set_ylabel('Population firing rate (Hz)')\n",
    "ax.set_xticks(sweep_vals)\n",
    "ax.grid(True, axis='both')\n",
    "ax.legend()\n",
    "fig.subplots_adjust(bottom=0.15) # prevent clipped xlabel\n",
    "\n",
    "plotutils.save_figure('net-full-vs-red_compare-pop-rates', fig=fig, dir=export_figs_dir)"
   ]
  },
  {
   "cell_type": "code",
   "execution_count": null,
   "metadata": {},
   "outputs": [],
   "source": []
  }
 ],
 "metadata": {
  "kernelspec": {
   "display_name": "Python 2",
   "language": "python",
   "name": "python2"
  },
  "language_info": {
   "codemirror_mode": {
    "name": "ipython",
    "version": 2
   },
   "file_extension": ".py",
   "mimetype": "text/x-python",
   "name": "python",
   "nbconvert_exporter": "python",
   "pygments_lexer": "ipython2",
   "version": "2.7.16"
  },
  "toc": {
   "base_numbering": 1,
   "nav_menu": {},
   "number_sections": false,
   "sideBar": true,
   "skip_h1_title": false,
   "title_cell": "Table of Contents",
   "title_sidebar": "Contents",
   "toc_cell": false,
   "toc_position": {
    "height": "calc(100% - 180px)",
    "left": "10px",
    "top": "150px",
    "width": "248px"
   },
   "toc_section_display": true,
   "toc_window_display": true
  }
 },
 "nbformat": 4,
 "nbformat_minor": 2
}
